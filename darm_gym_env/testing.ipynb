{
 "cells": [
  {
   "cell_type": "code",
   "execution_count": 1,
   "id": "4d74c58b-2d77-4520-ac66-ed3bd6f7b21a",
   "metadata": {},
   "outputs": [
    {
     "name": "stdout",
     "output_type": "stream",
     "text": [
      "Running generate_darm_xml.sh\n",
      "Single Finger: true\n",
      "No Wrist: true\n",
      "\n",
      "\n",
      "\n",
      "\n"
     ]
    }
   ],
   "source": [
    "%%bash\n",
    "cd ../mujoco_env\n",
    "bash generate_darm_xml.sh true true"
   ]
  },
  {
   "cell_type": "code",
   "execution_count": 1,
   "id": "b8b52c6d-33f7-4988-a23d-306c27122b2f",
   "metadata": {},
   "outputs": [
    {
     "name": "stdout",
     "output_type": "stream",
     "text": [
      "Loaded XML file successfully\n"
     ]
    },
    {
     "name": "stderr",
     "output_type": "stream",
     "text": [
      "/home/daniel/miniconda3/lib/python3.8/site-packages/gym/spaces/box.py:73: UserWarning: \u001b[33mWARN: Box bound precision lowered by casting to float32\u001b[0m\n",
      "  logger.warn(\n"
     ]
    }
   ],
   "source": [
    "import numpy as np\n",
    "import gym\n",
    "from darm_gym_env import DARMEnv\n",
    "\n",
    "env = gym.make(\"darm/DarmHand-v0\", render_mode=\"human\", hand_name=\"hand1\",\n",
    "               single_finger_env=True)\n",
    "\n",
    "n_fingertips = 1"
   ]
  },
  {
   "cell_type": "code",
   "execution_count": 3,
   "id": "197c11cd-df75-4c21-95b7-9ce1206b8a37",
   "metadata": {},
   "outputs": [],
   "source": [
    "def norm_to_target(obs):\n",
    "    \"\"\"\n",
    "    Returns the norm of each fingertip to the target position\n",
    "    obs: an observation from the observation space [...fingertip_pos, ...target_pos, ...fingertip_vel]\n",
    "    \"\"\"\n",
    "    obs = obs.reshape((-1, 3))\n",
    "\n",
    "    fingertip_poses = obs[0:n_fingertips]\n",
    "    target_poses = obs[n_fingertips:2*n_fingertips]\n",
    "\n",
    "    return np.linalg.norm(fingertip_poses-target_poses, ord=2, axis=-1)\n"
   ]
  },
  {
   "cell_type": "code",
   "execution_count": 4,
   "id": "fbc9aa8e-b4f9-469b-8372-ec9010a9acf3",
   "metadata": {
    "collapsed": true,
    "jupyter": {
     "outputs_hidden": true
    },
    "tags": []
   },
   "outputs": [
    {
     "name": "stdout",
     "output_type": "stream",
     "text": [
      "Reset took 0.3878815174102783 s\n",
      "Within Limit: True\n",
      "Norm to target: [9.5822755] mm\n",
      "\n",
      "Reset took 0.04100513458251953 s\n",
      "Within Limit: True\n",
      "Norm to target: [9.76511205] mm\n",
      "\n",
      "Reset took 0.04379105567932129 s\n",
      "Within Limit: True\n",
      "Norm to target: [11.68179075] mm\n",
      "\n",
      "Reset took 0.03560614585876465 s\n",
      "Within Limit: True\n",
      "Norm to target: [14.77420238] mm\n",
      "\n",
      "Reset took 0.010220766067504883 s\n",
      "Within Limit: True\n",
      "Norm to target: [10.98750074] mm\n",
      "\n",
      "Reset took 0.01155996322631836 s\n",
      "Within Limit: True\n",
      "Norm to target: [14.43841471] mm\n",
      "\n",
      "Reset took 0.06046772003173828 s\n",
      "Within Limit: True\n",
      "Norm to target: [10.76068748] mm\n",
      "\n",
      "Reset took 0.01226186752319336 s\n",
      "Within Limit: True\n",
      "Norm to target: [12.20147028] mm\n",
      "\n",
      "Reset took 0.03178858757019043 s\n",
      "Within Limit: True\n",
      "Norm to target: [9.77912962] mm\n",
      "\n",
      "Reset took 0.013421297073364258 s\n",
      "Within Limit: True\n",
      "Norm to target: [9.50664191] mm\n",
      "\n",
      "Reset took 0.01794123649597168 s\n",
      "Within Limit: True\n",
      "Norm to target: [11.68950003] mm\n",
      "\n",
      "Reset took 0.03548860549926758 s\n",
      "Within Limit: True\n",
      "Norm to target: [10.38759686] mm\n",
      "\n",
      "Reset took 0.03663516044616699 s\n",
      "Within Limit: True\n",
      "Norm to target: [11.03666529] mm\n",
      "\n",
      "Reset took 0.039661407470703125 s\n",
      "Within Limit: True\n",
      "Norm to target: [8.62564829] mm\n",
      "\n",
      "Reset took 0.05340003967285156 s\n",
      "Within Limit: True\n",
      "Norm to target: [13.48893268] mm\n",
      "\n",
      "Reset took 0.02324509620666504 s\n",
      "Within Limit: True\n",
      "Norm to target: [8.3572181] mm\n",
      "\n",
      "Reset took 0.037281036376953125 s\n",
      "Within Limit: True\n",
      "Norm to target: [10.96833612] mm\n",
      "\n",
      "Reset took 0.031275272369384766 s\n",
      "Within Limit: True\n",
      "Norm to target: [11.93528871] mm\n",
      "\n",
      "Reset took 0.034253597259521484 s\n",
      "Within Limit: True\n",
      "Norm to target: [11.34302821] mm\n",
      "\n",
      "Reset took 0.01712179183959961 s\n",
      "Within Limit: True\n",
      "Norm to target: [8.07306297] mm\n",
      "\n",
      "Reset took 0.03571605682373047 s\n",
      "Within Limit: True\n",
      "Norm to target: [12.28722796] mm\n",
      "\n",
      "Reset took 0.03136110305786133 s\n",
      "Within Limit: True\n",
      "Norm to target: [11.14046631] mm\n",
      "\n",
      "Reset took 0.037374019622802734 s\n",
      "Within Limit: True\n",
      "Norm to target: [11.66332424] mm\n",
      "\n",
      "Reset took 0.038353919982910156 s\n",
      "Within Limit: True\n",
      "Norm to target: [12.45533726] mm\n",
      "\n",
      "Reset took 0.035321950912475586 s\n",
      "Within Limit: True\n",
      "Norm to target: [14.29920316] mm\n",
      "\n",
      "Reset took 0.03809309005737305 s\n",
      "Within Limit: True\n",
      "Norm to target: [10.55376637] mm\n",
      "\n",
      "Reset took 0.04261040687561035 s\n",
      "Within Limit: True\n",
      "Norm to target: [9.96076325] mm\n",
      "\n",
      "Reset took 0.03900742530822754 s\n",
      "Within Limit: True\n",
      "Norm to target: [12.18104222] mm\n",
      "\n",
      "Reset took 0.04419875144958496 s\n",
      "Within Limit: True\n",
      "Norm to target: [14.0008547] mm\n",
      "\n",
      "Reset took 0.0421299934387207 s\n",
      "Within Limit: True\n",
      "Norm to target: [8.72507064] mm\n",
      "\n",
      "Reset took 0.04154610633850098 s\n",
      "Within Limit: True\n",
      "Norm to target: [14.21214862] mm\n",
      "\n",
      "Reset took 0.04250955581665039 s\n",
      "Within Limit: True\n",
      "Norm to target: [8.15461534] mm\n",
      "\n",
      "Reset took 0.04802393913269043 s\n",
      "Within Limit: True\n",
      "Norm to target: [9.59274756] mm\n",
      "\n",
      "Reset took 0.038945913314819336 s\n",
      "Within Limit: True\n",
      "Norm to target: [12.36809746] mm\n",
      "\n",
      "Reset took 0.036687374114990234 s\n",
      "Within Limit: True\n",
      "Norm to target: [10.55454948] mm\n",
      "\n",
      "Reset took 0.03788876533508301 s\n",
      "Within Limit: True\n",
      "Norm to target: [14.94380522] mm\n",
      "\n",
      "Reset took 0.03540658950805664 s\n",
      "Within Limit: True\n",
      "Norm to target: [10.72870794] mm\n",
      "\n",
      "Reset took 0.03759360313415527 s\n",
      "Within Limit: True\n",
      "Norm to target: [9.5336166] mm\n",
      "\n",
      "Reset took 0.041506052017211914 s\n",
      "Within Limit: True\n",
      "Norm to target: [9.64236165] mm\n",
      "\n",
      "Reset took 0.00803065299987793 s\n",
      "Within Limit: True\n",
      "Norm to target: [11.12277203] mm\n",
      "\n",
      "Reset took 0.03688669204711914 s\n",
      "Within Limit: True\n",
      "Norm to target: [13.60495803] mm\n",
      "\n",
      "Reset took 0.0077207088470458984 s\n",
      "Within Limit: True\n",
      "Norm to target: [15.08365307] mm\n",
      "\n",
      "Reset took 0.03372073173522949 s\n",
      "Within Limit: True\n",
      "Norm to target: [8.76225282] mm\n",
      "\n",
      "Reset took 0.035483598709106445 s\n",
      "Within Limit: True\n",
      "Norm to target: [15.0872644] mm\n",
      "\n",
      "Reset took 0.03900146484375 s\n",
      "Within Limit: True\n",
      "Norm to target: [8.61661483] mm\n",
      "\n",
      "Reset took 0.044007062911987305 s\n",
      "Within Limit: True\n",
      "Norm to target: [14.3468426] mm\n",
      "\n",
      "Reset took 0.03721261024475098 s\n",
      "Within Limit: True\n",
      "Norm to target: [11.60446497] mm\n",
      "\n",
      "Reset took 0.034746408462524414 s\n",
      "Within Limit: True\n",
      "Norm to target: [10.73384663] mm\n",
      "\n",
      "Reset took 0.03479146957397461 s\n",
      "Within Limit: True\n",
      "Norm to target: [10.40704902] mm\n",
      "\n",
      "Reset took 0.033396244049072266 s\n",
      "Within Limit: True\n",
      "Norm to target: [13.06848613] mm\n",
      "\n",
      "Reset took 0.03810858726501465 s\n",
      "Within Limit: True\n",
      "Norm to target: [8.75771557] mm\n",
      "\n",
      "Reset took 0.035520315170288086 s\n",
      "Within Limit: True\n",
      "Norm to target: [9.63544405] mm\n",
      "\n",
      "Reset took 0.037168025970458984 s\n",
      "Within Limit: True\n",
      "Norm to target: [14.67032725] mm\n",
      "\n",
      "Reset took 0.03522443771362305 s\n",
      "Within Limit: True\n",
      "Norm to target: [13.27633812] mm\n",
      "\n",
      "Reset took 0.035904645919799805 s\n",
      "Within Limit: True\n",
      "Norm to target: [8.17129501] mm\n",
      "\n",
      "Reset took 0.03637957572937012 s\n",
      "Within Limit: True\n",
      "Norm to target: [8.59784833] mm\n",
      "\n",
      "Reset took 0.0371091365814209 s\n",
      "Within Limit: True\n",
      "Norm to target: [10.11935033] mm\n",
      "\n",
      "Reset took 0.037601470947265625 s\n",
      "Within Limit: True\n",
      "Norm to target: [11.74584988] mm\n",
      "\n",
      "Reset took 0.034215688705444336 s\n",
      "Within Limit: True\n",
      "Norm to target: [11.93989455] mm\n",
      "\n",
      "Reset took 0.0393977165222168 s\n",
      "Within Limit: True\n",
      "Norm to target: [12.38684215] mm\n",
      "\n",
      "Reset took 0.040352582931518555 s\n",
      "Within Limit: True\n",
      "Norm to target: [9.21139059] mm\n",
      "\n",
      "Reset took 0.0330805778503418 s\n",
      "Within Limit: True\n",
      "Norm to target: [9.91895208] mm\n",
      "\n",
      "Reset took 0.03625845909118652 s\n",
      "Within Limit: True\n",
      "Norm to target: [13.03987937] mm\n",
      "\n",
      "Reset took 0.03469586372375488 s\n",
      "Within Limit: True\n",
      "Norm to target: [11.74666722] mm\n",
      "\n",
      "Reset took 0.0367739200592041 s\n",
      "Within Limit: True\n",
      "Norm to target: [10.18300668] mm\n",
      "\n",
      "Reset took 0.0446627140045166 s\n",
      "Within Limit: True\n",
      "Norm to target: [12.84771446] mm\n",
      "\n",
      "Reset took 0.0372772216796875 s\n",
      "Within Limit: True\n",
      "Norm to target: [8.47079385] mm\n",
      "\n",
      "Reset took 0.03706049919128418 s\n",
      "Within Limit: True\n",
      "Norm to target: [11.22363367] mm\n",
      "\n",
      "Reset took 0.03853893280029297 s\n",
      "Within Limit: True\n",
      "Norm to target: [8.0420634] mm\n",
      "\n",
      "Reset took 0.04075479507446289 s\n",
      "Within Limit: True\n",
      "Norm to target: [9.33921645] mm\n",
      "\n",
      "Reset took 0.03447222709655762 s\n",
      "Within Limit: True\n",
      "Norm to target: [12.13385] mm\n",
      "\n",
      "Reset took 0.008001327514648438 s\n",
      "Within Limit: True\n",
      "Norm to target: [8.42040467] mm\n",
      "\n",
      "Reset took 0.012386560440063477 s\n",
      "Within Limit: True\n",
      "Norm to target: [10.08104155] mm\n",
      "\n",
      "Reset took 0.05652332305908203 s\n",
      "Within Limit: True\n",
      "Norm to target: [10.67238743] mm\n",
      "\n",
      "Reset took 0.03845477104187012 s\n",
      "Within Limit: True\n",
      "Norm to target: [8.78618856] mm\n",
      "\n",
      "Reset took 0.04551982879638672 s\n",
      "Within Limit: True\n",
      "Norm to target: [11.40930741] mm\n",
      "\n",
      "Reset took 0.03453826904296875 s\n",
      "Within Limit: True\n",
      "Norm to target: [9.17475963] mm\n",
      "\n",
      "Reset took 0.008635759353637695 s\n",
      "Within Limit: True\n",
      "Norm to target: [8.56807182] mm\n",
      "\n",
      "Reset took 0.03499245643615723 s\n",
      "Within Limit: True\n",
      "Norm to target: [8.62093245] mm\n",
      "\n",
      "Reset took 0.02698040008544922 s\n",
      "Within Limit: True\n",
      "Norm to target: [14.19402572] mm\n",
      "\n",
      "Reset took 0.03681802749633789 s\n",
      "Within Limit: True\n",
      "Norm to target: [12.95308158] mm\n",
      "\n",
      "Reset took 0.03711819648742676 s\n",
      "Within Limit: True\n",
      "Norm to target: [13.09460044] mm\n",
      "\n",
      "Reset took 0.033238887786865234 s\n",
      "Within Limit: True\n",
      "Norm to target: [11.69615395] mm\n",
      "\n",
      "Reset took 0.0376279354095459 s\n",
      "Within Limit: True\n",
      "Norm to target: [8.6628113] mm\n",
      "\n",
      "Reset took 0.0336458683013916 s\n",
      "Within Limit: True\n",
      "Norm to target: [12.84371406] mm\n",
      "\n",
      "Reset took 0.03458714485168457 s\n",
      "Within Limit: True\n",
      "Norm to target: [13.31355968] mm\n",
      "\n",
      "Reset took 0.00883936882019043 s\n",
      "Within Limit: True\n",
      "Norm to target: [14.18108502] mm\n",
      "\n",
      "Reset took 0.023064374923706055 s\n",
      "Within Limit: True\n",
      "Norm to target: [9.56508972] mm\n",
      "\n",
      "Reset took 0.034798383712768555 s\n",
      "Within Limit: True\n",
      "Norm to target: [14.80140573] mm\n",
      "\n",
      "Reset took 0.037024497985839844 s\n",
      "Within Limit: True\n",
      "Norm to target: [11.19839193] mm\n",
      "\n",
      "Reset took 0.04192233085632324 s\n",
      "Within Limit: True\n",
      "Norm to target: [15.29057675] mm\n",
      "\n",
      "Reset took 0.03860306739807129 s\n",
      "Within Limit: True\n",
      "Norm to target: [14.706645] mm\n",
      "\n",
      "Reset took 0.03705906867980957 s\n",
      "Within Limit: True\n",
      "Norm to target: [13.9046035] mm\n",
      "\n",
      "Reset took 0.037993431091308594 s\n",
      "Within Limit: True\n",
      "Norm to target: [8.04915832] mm\n",
      "\n"
     ]
    },
    {
     "ename": "KeyboardInterrupt",
     "evalue": "",
     "output_type": "error",
     "traceback": [
      "\u001b[0;31m---------------------------------------------------------------------------\u001b[0m",
      "\u001b[0;31mKeyboardInterrupt\u001b[0m                         Traceback (most recent call last)",
      "Input \u001b[0;32mIn [4]\u001b[0m, in \u001b[0;36m<cell line: 4>\u001b[0;34m()\u001b[0m\n\u001b[1;32m     25\u001b[0m     \u001b[38;5;28mprint\u001b[39m((f1_pos, f1_mocap))\n\u001b[1;32m     26\u001b[0m     \u001b[38;5;28;01mbreak\u001b[39;00m\n\u001b[0;32m---> 27\u001b[0m \u001b[43mtime\u001b[49m\u001b[38;5;241;43m.\u001b[39;49m\u001b[43msleep\u001b[49m\u001b[43m(\u001b[49m\u001b[38;5;241;43m2\u001b[39;49m\u001b[43m)\u001b[49m\n",
      "\u001b[0;31mKeyboardInterrupt\u001b[0m: "
     ]
    }
   ],
   "source": [
    "import time\n",
    "\n",
    "while True:\n",
    "    reset_start_time = time.time()\n",
    "    obs = env.reset()\n",
    "    print(f\"Reset took {time.time() - reset_start_time} s\")\n",
    "    \n",
    "    mocap_pos = np.array(env.data.mocap_pos - env.ref_pos).flatten()\n",
    "    # print(f\"Mocap Equiv: {np.array_equal(mocap_pos, obs[n_fingertips:2*n_fingertips])}\")\n",
    "    \n",
    "    f1_pos = obs[0*3:1*3]\n",
    "    f1_mocap = mocap_pos[0*3:1*3]\n",
    "    dist = np.linalg.norm(f1_pos - f1_mocap)*1000\n",
    "    \n",
    "    norm = norm_to_target(obs)\n",
    "    print(f\"Within Limit: {(all(norm >= env.min_target_th) and all(norm <= env.max_target_th))}\")\n",
    "    print(f\"Norm to target: {norm*1000} mm\\n\")\n",
    "    \n",
    "    # print((dist, np.max(np.abs(f1_pos - f1_mocap))*1000))\n",
    "    # print((f1_pos, f1_mocap))\n",
    "    # print(\"\\n\\n\")\n",
    "    if np.max(np.abs(f1_pos - f1_mocap))*1000 > dist: \n",
    "        print(\"Error\")\n",
    "        print((dist, np.max(np.abs(f1_pos - f1_mocap))*1000))\n",
    "        print((f1_pos, f1_mocap))\n",
    "        break\n",
    "    time.sleep(2)"
   ]
  },
  {
   "cell_type": "code",
   "execution_count": 5,
   "id": "d56398b1-b59a-4aa7-b179-871a27a71d6d",
   "metadata": {
    "tags": []
   },
   "outputs": [],
   "source": [
    "env.close()"
   ]
  },
  {
   "cell_type": "code",
   "execution_count": 2,
   "id": "49846929-8264-4a1c-a946-143e68fc0a5d",
   "metadata": {},
   "outputs": [],
   "source": [
    "import os\n",
    "import numpy as np\n",
    "import collections\n",
    "\n",
    "import gym\n",
    "import mujoco as mj\n",
    "from mujoco.glfw import glfw\n",
    "\n",
    "from pathlib import Path\n",
    "\n",
    "\n",
    "# TARGETS_FILE = Path(__file__).parent.parent/\"darm_targets.npy REF_POSE TODO\"\n",
    "DARM_XML_FILE = f\"{os.getenv('DARM_MUJOCO_PATH')}/mujoco_env/darm.xml\""
   ]
  },
  {
   "cell_type": "code",
   "execution_count": 3,
   "id": "eaab7be7-ee79-4d31-b790-171905b2462a",
   "metadata": {},
   "outputs": [
    {
     "name": "stdout",
     "output_type": "stream",
     "text": [
      "Loaded XML file successfully\n"
     ]
    }
   ],
   "source": [
    "mj_model = mj.MjModel.from_xml_path(DARM_XML_FILE)\n",
    "\n",
    "if mj_model: \n",
    "    print(\"Loaded XML file successfully\") \n",
    "    mj_data = mj.MjData(mj_model)\n",
    "else:\n",
    "    print(f\"Error Loading XML file: {xml_path}\")"
   ]
  },
  {
   "cell_type": "code",
   "execution_count": 4,
   "id": "c54f5c66-0eac-42d6-aa60-eabd1f732786",
   "metadata": {},
   "outputs": [
    {
     "data": {
      "text/plain": [
       "(5, 4)"
      ]
     },
     "execution_count": 4,
     "metadata": {},
     "output_type": "execute_result"
    }
   ],
   "source": [
    "mj_model.nu, mj_model.njnt"
   ]
  },
  {
   "cell_type": "code",
   "execution_count": 31,
   "id": "fb4df4ba-c19b-4ddb-a401-b1f7e72b94e9",
   "metadata": {},
   "outputs": [
    {
     "ename": "AttributeError",
     "evalue": "'mujoco._structs.MjModel' object has no attribute 'jnt_names'",
     "output_type": "error",
     "traceback": [
      "\u001b[0;31m---------------------------------------------------------------------------\u001b[0m",
      "\u001b[0;31mAttributeError\u001b[0m                            Traceback (most recent call last)",
      "Input \u001b[0;32mIn [31]\u001b[0m, in \u001b[0;36m<cell line: 1>\u001b[0;34m()\u001b[0m\n\u001b[0;32m----> 1\u001b[0m \u001b[43mmj_model\u001b[49m\u001b[38;5;241;43m.\u001b[39;49m\u001b[43mjnt_names\u001b[49m\n",
      "\u001b[0;31mAttributeError\u001b[0m: 'mujoco._structs.MjModel' object has no attribute 'jnt_names'"
     ]
    }
   ],
   "source": [
    "mj_model.jnt_names"
   ]
  },
  {
   "cell_type": "code",
   "execution_count": 4,
   "id": "941e88ef-1367-46f1-9ebe-e78e3221b450",
   "metadata": {
    "tags": []
   },
   "outputs": [],
   "source": [
    "import math\n",
    "\n",
    "min_joint_vals = []\n",
    "max_joint_vals = []\n",
    "\n",
    "for i in range(mj_model.njnt):\n",
    "    joint_range = mj_model.jnt_range[i]*(180/np.pi)\n",
    "    min_joint_vals.append(joint_range[0])\n",
    "    max_joint_vals.append(joint_range[1])   \n",
    "    \n",
    "# min_joint_vals, max_joint_vals"
   ]
  },
  {
   "cell_type": "code",
   "execution_count": 5,
   "id": "e9d5e7c4-c25e-4efb-9d06-110b4ba50338",
   "metadata": {},
   "outputs": [],
   "source": [
    "def get_joint_limits(type = None):\n",
    "    joint_limits = []\n",
    "    for i in range(mj_model.njnt):\n",
    "        joint_limits.append(mj_model.jnt_range[i]*(180/np.pi))\n",
    "    \n",
    "    joint_limits = np.asarray(joint_limits)\n",
    "    \n",
    "    if type == \"min\":\n",
    "        return joint_limits[:, 0]\n",
    "    if type == \"max\":\n",
    "        return joint_limits[:, 1]\n",
    "    \n",
    "    return joint_limits[:, 0], joint_limits[:, 1]\n",
    "    "
   ]
  },
  {
   "cell_type": "code",
   "execution_count": 6,
   "id": "e84025c5-2621-44e2-9217-19738f0744cb",
   "metadata": {},
   "outputs": [],
   "source": [
    "def get_actuator_ctrlrange(type = None):\n",
    "    if type == \"min\":\n",
    "        return np.array([mj_model.actuator_ctrlrange[i][0] for i in range(mj_model.nu)])\n",
    "    if type == \"max\":\n",
    "        return np.array([mj_model.actuator_ctrlrange[i][1] for i in range(mj_model.nu)])\n",
    "    \n",
    "    ctrl_range = np.array([mj_model.actuator_ctrlrange[i] for i in range(mj_model.nu)])\n",
    "    return ctrl_range[:, 0], ctrl_range[:, 1] # (min, max)\n",
    "    "
   ]
  },
  {
   "cell_type": "code",
   "execution_count": 7,
   "id": "cd2001ef-6829-45ee-a054-3406470ce884",
   "metadata": {},
   "outputs": [],
   "source": [
    "def compute_target_joint_state_delta(min_vals, max_vals):\n",
    "    # return (max_vals - min_vals)//10  # for every range of 10 deg, have a delta of 1 deg\n",
    "    return ((max_vals - min_vals)//40) * 2  # for every range of 40 deg, have a delta of 2 deg"
   ]
  },
  {
   "cell_type": "code",
   "execution_count": 8,
   "id": "533c9a6f-4b0a-40a9-9f7b-412c54a507cf",
   "metadata": {},
   "outputs": [
    {
     "data": {
      "text/plain": [
       "(array([-20., -45., -10., -10., -20., -45., -10., -10., -20., -45., -10.,\n",
       "        -10., -50., -15., -20., -10., -60., -10., -10.,  -5., -20., -45.,\n",
       "        -10., -10.]),\n",
       " array([ 20.,  90.,  90.,  90.,  20.,  90.,  90.,  90.,  20.,  90.,  90.,\n",
       "         90., -10.,  15.,  20.,  90.,  90.,  10.,  10.,   5.,  20.,  90.,\n",
       "         90.,  90.]))"
      ]
     },
     "execution_count": 8,
     "metadata": {},
     "output_type": "execute_result"
    }
   ],
   "source": [
    "get_joint_limits()"
   ]
  },
  {
   "cell_type": "code",
   "execution_count": 9,
   "id": "222e70e9-1f17-4550-86cb-2d75546945f2",
   "metadata": {},
   "outputs": [
    {
     "data": {
      "text/plain": [
       "array([ 5.,  5.,  5.,  5.,  5.,  5.,  5.,  5.,  5.,  5.,  5.,  5.,  5.,\n",
       "       10.,  5.,  5.,  5.,  5., 10.,  5.,  5.,  5.,  5., 10.,  5.,  5.,\n",
       "        5.,  5., 10.,  5.])"
      ]
     },
     "execution_count": 9,
     "metadata": {},
     "output_type": "execute_result"
    }
   ],
   "source": [
    "get_actuator_ctrlrange(\"max\")"
   ]
  },
  {
   "cell_type": "code",
   "execution_count": 10,
   "id": "d5c4739d-b02b-43b7-9fad-e94fa9887b98",
   "metadata": {},
   "outputs": [
    {
     "data": {
      "text/plain": [
       "array([2., 6., 4., 4., 2., 6., 4., 4., 2., 6., 4., 4., 2., 0., 2., 4., 6.,\n",
       "       0., 0., 0., 2., 6., 4., 4.])"
      ]
     },
     "execution_count": 10,
     "metadata": {},
     "output_type": "execute_result"
    }
   ],
   "source": [
    "compute_target_joint_state_delta(*get_joint_limits())"
   ]
  },
  {
   "cell_type": "code",
   "execution_count": 11,
   "id": "f046dd9a-a56c-4525-9190-c8389504a1c6",
   "metadata": {},
   "outputs": [
    {
     "data": {
      "text/plain": [
       "array([2., 6., 4., 4., 2., 6., 4., 4., 2., 6., 4., 4., 2., 2., 2., 4., 6.,\n",
       "       2., 2., 2., 2., 6., 4., 4.])"
      ]
     },
     "execution_count": 11,
     "metadata": {},
     "output_type": "execute_result"
    }
   ],
   "source": [
    "np.clip(compute_target_joint_state_delta(*get_joint_limits()), a_min=2, a_max=np.inf)  # max =10"
   ]
  },
  {
   "cell_type": "code",
   "execution_count": 12,
   "id": "2e38f909-be7d-4e70-9772-7f6f9e4ec7d1",
   "metadata": {},
   "outputs": [
    {
     "data": {
      "text/plain": [
       "array([ 4., 12.,  8.,  8.,  4., 12.,  8.,  8.,  4., 12.,  8.,  8.,  4.,\n",
       "        0.,  4.,  8., 12.,  0.,  0.,  0.,  4., 12.,  8.,  8.])"
      ]
     },
     "execution_count": 12,
     "metadata": {},
     "output_type": "execute_result"
    }
   ],
   "source": [
    "min_vals, max_vals = get_joint_limits()\n",
    "((max_vals - min_vals)//40) * 4 # for every range of 40 deg, have a delta of 4 deg"
   ]
  },
  {
   "cell_type": "code",
   "execution_count": 11,
   "id": "c7011d3d-1852-4fbb-ba62-432e9567c499",
   "metadata": {},
   "outputs": [
    {
     "data": {
      "text/plain": [
       "(3.141592653589793, 3.141592653589793)"
      ]
     },
     "execution_count": 11,
     "metadata": {},
     "output_type": "execute_result"
    }
   ],
   "source": [
    "np.pi, math.pi"
   ]
  },
  {
   "cell_type": "code",
   "execution_count": 12,
   "id": "3a5d8eb1-0885-4940-ac50-99460d4810ce",
   "metadata": {},
   "outputs": [],
   "source": [
    "min_vals = None"
   ]
  },
  {
   "cell_type": "code",
   "execution_count": 13,
   "id": "5039f6e6-3c1f-4ae1-a287-ff7fa800bdb0",
   "metadata": {},
   "outputs": [
    {
     "data": {
      "text/plain": [
       "[1]"
      ]
     },
     "execution_count": 13,
     "metadata": {},
     "output_type": "execute_result"
    }
   ],
   "source": [
    "a = min_vals or [1]\n",
    "a"
   ]
  },
  {
   "cell_type": "code",
   "execution_count": 14,
   "id": "6eacd9cb-29e3-4ece-9b0d-b5d8c3a456c6",
   "metadata": {},
   "outputs": [
    {
     "data": {
      "text/plain": [
       "(array([0.5 , 1.  , 0.05]), 0.05)"
      ]
     },
     "execution_count": 14,
     "metadata": {},
     "output_type": "execute_result"
    }
   ],
   "source": [
    "np.array([10, 30, 5])/np.array([20, 30, 100]), 5/100"
   ]
  },
  {
   "cell_type": "code",
   "execution_count": 15,
   "id": "d1cd5384-de6e-402d-a7b8-80693a451035",
   "metadata": {},
   "outputs": [
    {
     "data": {
      "text/plain": [
       "8.093207028119323"
      ]
     },
     "execution_count": 15,
     "metadata": {},
     "output_type": "execute_result"
    }
   ],
   "source": [
    "a = np.array([1,2,3,4])\n",
    "c = np.array([1,2,3,4])\n",
    "b = np.array([1,2,3,4])\n",
    "\n",
    "np.array([a, b, c]).shape, np.sum([a, b, c], axis=-2)\n",
    "np.linalg.norm([4.5, 4.5, 4.5, 4.5, 5, 5])/np.sqrt(6/3)"
   ]
  },
  {
   "cell_type": "code",
   "execution_count": 16,
   "id": "22fb2653-adfd-4328-8ace-7bfa4d44e920",
   "metadata": {},
   "outputs": [
    {
     "data": {
      "text/plain": [
       "5.02255428315257"
      ]
     },
     "execution_count": 16,
     "metadata": {},
     "output_type": "execute_result"
    }
   ],
   "source": [
    "((4.5**10) + (4.5**10) + (4.5**10))**(1/10)"
   ]
  },
  {
   "cell_type": "code",
   "execution_count": 39,
   "id": "2d0839cf-1568-48fc-b452-904a1d9e59df",
   "metadata": {},
   "outputs": [
    {
     "data": {
      "text/plain": [
       "0.02800000000000001"
      ]
     },
     "execution_count": 39,
     "metadata": {},
     "output_type": "execute_result"
    }
   ],
   "source": [
    "time_prev = mj_data.time\n",
    "action_time = 0.08\n",
    "mj_data.ctrl = np.random.uniform(low=np.ones(mj_model.nu), high=np.ones(mj_model.nu)*5)\n",
    "\n",
    "while True: # (mj_data.time - time_prev < action_time):\n",
    "    mj.mj_step(mj_model, mj_data)\n",
    "    if len(mj_data.contact.geom1) > 0:\n",
    "        break\n",
    "    \n",
    "mj_data.time"
   ]
  },
  {
   "cell_type": "code",
   "execution_count": 19,
   "id": "d8d72940-d7cb-4995-b14e-11096323e1c9",
   "metadata": {},
   "outputs": [
    {
     "data": {
      "text/plain": [
       "array([-20., -45., -10., -10., -20., -45., -10., -10., -20., -45., -10.,\n",
       "       -10., -50., -15., -20., -10., -60., -10., -10.,  -5., -20., -45.,\n",
       "       -10., -10.])"
      ]
     },
     "execution_count": 19,
     "metadata": {},
     "output_type": "execute_result"
    }
   ],
   "source": [
    "get_joint_limits(\"min\")"
   ]
  },
  {
   "cell_type": "code",
   "execution_count": 7,
   "id": "fea9ea8d-b3a1-4627-9bd8-5d0d6617b0f9",
   "metadata": {},
   "outputs": [
    {
     "data": {
      "text/plain": [
       "0"
      ]
     },
     "execution_count": 7,
     "metadata": {},
     "output_type": "execute_result"
    }
   ],
   "source": [
    "mj_data.qpos = ((get_joint_limits(\"max\") - get_joint_limits(\"min\"))/2 + 0) * np.pi/180\n",
    "mj.mj_forward(mj_model, mj_data)\n",
    "len(mj_data.contact.geom1)"
   ]
  },
  {
   "cell_type": "code",
   "execution_count": 9,
   "id": "d3cc92a3-a6af-4228-9c44-8f39a0382c95",
   "metadata": {},
   "outputs": [
    {
     "data": {
      "text/plain": [
       "33"
      ]
     },
     "execution_count": 9,
     "metadata": {},
     "output_type": "execute_result"
    }
   ],
   "source": [
    "mj_model.nbody"
   ]
  },
  {
   "cell_type": "code",
   "execution_count": 20,
   "id": "b8793054-affc-4910-baf0-d2dddd45de48",
   "metadata": {
    "collapsed": true,
    "jupyter": {
     "outputs_hidden": true
    },
    "tags": []
   },
   "outputs": [
    {
     "data": {
      "text/plain": [
       "<_MjContactList\n",
       "  H: array([[ 0.        ,  0.        ,  0.        ,  0.        ,  0.        ,\n",
       "         0.        ,  0.        ,  0.        ,  0.        ,  0.        ,\n",
       "         0.        ,  0.        ,  0.        ,  0.        ,  0.        ,\n",
       "         0.        ,  0.        ,  0.        ,  0.        ,  0.        ,\n",
       "         0.        ,  0.        ,  0.        ,  0.        ,  0.        ,\n",
       "         0.        ,  0.        ,  0.        ,  0.        ,  0.        ,\n",
       "         0.        ,  0.        ,  0.        ,  0.        ,  0.        ,\n",
       "         0.        ],\n",
       "       [ 0.        ,  0.        ,  0.        ,  0.        ,  0.        ,\n",
       "         0.        ,  0.        ,  0.        ,  0.        ,  0.        ,\n",
       "         0.        ,  0.        ,  0.        ,  0.        ,  0.        ,\n",
       "         0.        ,  0.        ,  0.        ,  0.        ,  0.        ,\n",
       "         0.        ,  0.        ,  0.        ,  0.        ,  0.        ,\n",
       "         0.        ,  0.        ,  0.        ,  0.        ,  0.        ,\n",
       "         0.        ,  0.        ,  0.        ,  0.        ,  0.        ,\n",
       "         0.        ],\n",
       "       [ 0.11411187,  0.11188394,  0.02243884,  0.11188394,  0.1108609 ,\n",
       "         0.01620987,  0.02243884,  0.01620987,  0.03328666,  0.        ,\n",
       "         0.        ,  0.        ,  0.        ,  0.        ,  0.        ,\n",
       "         0.        ,  0.        ,  0.        ,  0.        ,  0.        ,\n",
       "         0.        ,  0.        ,  0.        ,  0.        ,  0.        ,\n",
       "         0.        ,  0.        ,  0.        ,  0.        ,  0.        ,\n",
       "         0.        ,  0.        ,  0.        ,  0.        ,  0.        ,\n",
       "         0.        ],\n",
       "       [ 0.        ,  0.        ,  0.        ,  0.        ,  0.        ,\n",
       "         0.        ,  0.        ,  0.        ,  0.        ,  0.        ,\n",
       "         0.        ,  0.        ,  0.        ,  0.        ,  0.        ,\n",
       "         0.        ,  0.        ,  0.        ,  0.        ,  0.        ,\n",
       "         0.        ,  0.        ,  0.        ,  0.        ,  0.        ,\n",
       "         0.        ,  0.        ,  0.        ,  0.        ,  0.        ,\n",
       "         0.        ,  0.        ,  0.        ,  0.        ,  0.        ,\n",
       "         0.        ],\n",
       "       [ 0.0510655 , -0.04254569,  0.02824092, -0.04254569,  0.06168847,\n",
       "         0.01600379,  0.02824092,  0.01600379,  0.07517563,  0.        ,\n",
       "         0.        ,  0.        ,  0.        ,  0.        ,  0.        ,\n",
       "         0.        ,  0.        ,  0.        ,  0.        ,  0.        ,\n",
       "         0.        ,  0.        ,  0.        ,  0.        ,  0.        ,\n",
       "         0.        ,  0.        ,  0.        ,  0.        ,  0.        ,\n",
       "         0.        ,  0.        ,  0.        ,  0.        ,  0.        ,\n",
       "         0.        ],\n",
       "       [ 0.0510655 , -0.04919007,  0.01371213, -0.04919007,  0.04990294,\n",
       "        -0.00417049,  0.01371213, -0.00417049,  0.03610453,  0.        ,\n",
       "         0.        ,  0.        ,  0.        ,  0.        ,  0.        ,\n",
       "         0.        ,  0.        ,  0.        ,  0.        ,  0.        ,\n",
       "         0.        ,  0.        ,  0.        ,  0.        ,  0.        ,\n",
       "         0.        ,  0.        ,  0.        ,  0.        ,  0.        ,\n",
       "         0.        ,  0.        ,  0.        ,  0.        ,  0.        ,\n",
       "         0.        ],\n",
       "       [ 0.        ,  0.        ,  0.        ,  0.        ,  0.        ,\n",
       "         0.        ,  0.        ,  0.        ,  0.        ,  0.        ,\n",
       "         0.        ,  0.        ,  0.        ,  0.        ,  0.        ,\n",
       "         0.        ,  0.        ,  0.        ,  0.        ,  0.        ,\n",
       "         0.        ,  0.        ,  0.        ,  0.        ,  0.        ,\n",
       "         0.        ,  0.        ,  0.        ,  0.        ,  0.        ,\n",
       "         0.        ,  0.        ,  0.        ,  0.        ,  0.        ,\n",
       "         0.        ],\n",
       "       [ 0.0510655 ,  0.05106309,  0.00049624,  0.05106309,  0.05106197,\n",
       "         0.00036333,  0.00049624,  0.00036333,  0.01367874,  0.        ,\n",
       "         0.        ,  0.        ,  0.        ,  0.        ,  0.        ,\n",
       "         0.        ,  0.        ,  0.        ,  0.        ,  0.        ,\n",
       "         0.        ,  0.        ,  0.        ,  0.        ,  0.        ,\n",
       "         0.        ,  0.        ,  0.        ,  0.        ,  0.        ,\n",
       "         0.        ,  0.        ,  0.        ,  0.        ,  0.        ,\n",
       "         0.        ],\n",
       "       [ 0.0510655 ,  0.04946069,  0.01270139,  0.04946069,  0.05157509,\n",
       "        -0.0019844 ,  0.01270139, -0.0019844 ,  0.05879296,  0.        ,\n",
       "         0.        ,  0.        ,  0.        ,  0.        ,  0.        ,\n",
       "         0.        ,  0.        ,  0.        ,  0.        ,  0.        ,\n",
       "         0.        ,  0.        ,  0.        ,  0.        ,  0.        ,\n",
       "         0.        ,  0.        ,  0.        ,  0.        ,  0.        ,\n",
       "         0.        ,  0.        ,  0.        ,  0.        ,  0.        ,\n",
       "         0.        ],\n",
       "       [ 0.04614926, -0.00976818, -0.04510362, -0.00976818,  0.05366893,\n",
       "        -0.00162855, -0.04510362, -0.00162855,  0.04650195,  0.        ,\n",
       "         0.        ,  0.        ,  0.        ,  0.        ,  0.        ,\n",
       "         0.        ,  0.        ,  0.        ,  0.        ,  0.        ,\n",
       "         0.        ,  0.        ,  0.        ,  0.        ,  0.        ,\n",
       "         0.        ,  0.        ,  0.        ,  0.        ,  0.        ,\n",
       "         0.        ,  0.        ,  0.        ,  0.        ,  0.        ,\n",
       "         0.        ]])\n",
       "  dim: array([3, 3, 3, 3, 3, 3, 3, 3, 3, 3], dtype=int32)\n",
       "  dist: array([-0.02383808, -0.00206479, -0.01017798, -0.02116645, -0.0232267 ,\n",
       "       -0.00353734, -0.00324245, -0.00746292, -0.00699381, -0.01268391])\n",
       "  efc_address: array([ 8, 11, 14, 17, 20, 23, 26, 29, 32, 35], dtype=int32)\n",
       "  exclude: array([0, 0, 0, 0, 0, 0, 0, 0, 0, 0], dtype=int32)\n",
       "  frame: array([[-2.27950531e-01, -1.68160569e-01,  9.59041489e-01,\n",
       "        -3.88860433e-02,  9.85759617e-01,  1.63602728e-01,\n",
       "        -9.72895899e-01,  0.00000000e+00, -2.31243528e-01],\n",
       "       [ 2.13796895e-16, -2.70016780e-01, -9.62855617e-01,\n",
       "         5.99557693e-17,  9.62855617e-01, -2.70016780e-01,\n",
       "         1.00000000e+00,  0.00000000e+00,  2.22044605e-16],\n",
       "       [ 2.21163572e-16, -8.89937991e-02, -9.96032180e-01,\n",
       "         1.97605930e-17,  9.96032180e-01, -8.89937991e-02,\n",
       "         1.00000000e+00,  0.00000000e+00,  2.22044605e-16],\n",
       "       [-2.27950531e-01, -1.68160569e-01,  9.59041489e-01,\n",
       "        -3.88860433e-02,  9.85759617e-01,  1.63602728e-01,\n",
       "        -9.72895899e-01,  0.00000000e+00, -2.31243528e-01],\n",
       "       [-8.44916919e-01,  4.17349581e-01, -3.34566476e-01,\n",
       "         3.88035507e-01,  9.08746019e-01,  1.53652589e-01,\n",
       "         3.68162797e-01,  0.00000000e+00, -9.29761343e-01],\n",
       "       [ 1.95575882e-16, -4.73496930e-01, -8.80795469e-01,\n",
       "         1.05137439e-16,  8.80795469e-01, -4.73496930e-01,\n",
       "         1.00000000e+00,  0.00000000e+00,  2.22044605e-16],\n",
       "       [-5.75742950e-01, -1.42757299e-01, -8.05071679e-01,\n",
       "        -8.30420481e-02,  9.89757725e-01, -1.16119183e-01,\n",
       "         8.13402774e-01,  1.38777878e-17, -5.81700891e-01],\n",
       "       [ 2.22019035e-16, -1.51756533e-02, -9.99884843e-01,\n",
       "         3.36967194e-18,  9.99884843e-01, -1.51756533e-02,\n",
       "         1.00000000e+00,  0.00000000e+00,  2.22044605e-16],\n",
       "       [-1.61852156e-01,  7.06137349e-01, -6.89328604e-01,\n",
       "        -1.54005803e-01,  6.71904857e-01,  7.24448809e-01,\n",
       "         9.74723598e-01,  2.23414206e-01,  1.38777878e-17],\n",
       "       [-6.12881224e-01,  7.40095367e-01, -2.76831091e-01,\n",
       "        -1.76564986e-01,  2.13214115e-01,  9.60918595e-01,\n",
       "         7.70195697e-01,  6.37807643e-01,  2.77555756e-17]])\n",
       "  friction: array([[1.e+00, 1.e+00, 5.e-03, 1.e-04, 1.e-04],\n",
       "       [1.e+00, 1.e+00, 5.e-03, 1.e-04, 1.e-04],\n",
       "       [1.e+00, 1.e+00, 5.e-03, 1.e-04, 1.e-04],\n",
       "       [1.e+00, 1.e+00, 5.e-03, 1.e-04, 1.e-04],\n",
       "       [1.e+00, 1.e+00, 5.e-03, 1.e-04, 1.e-04],\n",
       "       [1.e+00, 1.e+00, 5.e-03, 1.e-04, 1.e-04],\n",
       "       [1.e+00, 1.e+00, 5.e-03, 1.e-04, 1.e-04],\n",
       "       [1.e+00, 1.e+00, 5.e-03, 1.e-04, 1.e-04],\n",
       "       [1.e+00, 1.e+00, 5.e-03, 1.e-04, 1.e-04],\n",
       "       [1.e+00, 1.e+00, 5.e-03, 1.e-04, 1.e-04]])\n",
       "  geom1: array([ 5,  7,  8,  5, 14,  7,  7,  8,  8, 10], dtype=int32)\n",
       "  geom2: array([11, 11, 11, 13,  5, 13, 14, 13, 14, 13], dtype=int32)\n",
       "  includemargin: array([0., 0., 0., 0., 0., 0., 0., 0., 0., 0.])\n",
       "  mu: array([1., 1., 1., 1., 1., 1., 1., 1., 1., 1.])\n",
       "  pos: array([[-0.00430585,  0.00299161,  0.22651012],\n",
       "       [-0.00191412,  0.00596948,  0.23556322],\n",
       "       [-0.00482835,  0.00161307,  0.23545017],\n",
       "       [ 0.0015579 ,  0.00252238,  0.22918025],\n",
       "       [-0.00574857,  0.00773188,  0.22666021],\n",
       "       [-0.00086074,  0.00440977,  0.23731934],\n",
       "       [-0.00097689,  0.00709739,  0.23626484],\n",
       "       [-0.00411881,  0.0020062 ,  0.23471964],\n",
       "       [-0.00422145,  0.00346438,  0.23497659],\n",
       "       [ 0.00501538, -0.00669335,  0.2353345 ]])\n",
       "  solimp: array([[9.0e-01, 9.5e-01, 1.0e-03, 5.0e-01, 2.0e+00],\n",
       "       [9.0e-01, 9.5e-01, 1.0e-03, 5.0e-01, 2.0e+00],\n",
       "       [9.0e-01, 9.5e-01, 1.0e-03, 5.0e-01, 2.0e+00],\n",
       "       [9.0e-01, 9.5e-01, 1.0e-03, 5.0e-01, 2.0e+00],\n",
       "       [9.0e-01, 9.5e-01, 1.0e-03, 5.0e-01, 2.0e+00],\n",
       "       [9.0e-01, 9.5e-01, 1.0e-03, 5.0e-01, 2.0e+00],\n",
       "       [9.0e-01, 9.5e-01, 1.0e-03, 5.0e-01, 2.0e+00],\n",
       "       [9.0e-01, 9.5e-01, 1.0e-03, 5.0e-01, 2.0e+00],\n",
       "       [9.0e-01, 9.5e-01, 1.0e-03, 5.0e-01, 2.0e+00],\n",
       "       [9.0e-01, 9.5e-01, 1.0e-03, 5.0e-01, 2.0e+00]])\n",
       "  solref: array([[0.02, 1.  ],\n",
       "       [0.02, 1.  ],\n",
       "       [0.02, 1.  ],\n",
       "       [0.02, 1.  ],\n",
       "       [0.02, 1.  ],\n",
       "       [0.02, 1.  ],\n",
       "       [0.02, 1.  ],\n",
       "       [0.02, 1.  ],\n",
       "       [0.02, 1.  ],\n",
       "       [0.02, 1.  ]])\n",
       ">"
      ]
     },
     "execution_count": 20,
     "metadata": {},
     "output_type": "execute_result"
    }
   ],
   "source": [
    "mj_data.contact"
   ]
  },
  {
   "cell_type": "code",
   "execution_count": 67,
   "id": "44a66801-2a40-4129-bf9f-f4fd0b4d289d",
   "metadata": {},
   "outputs": [
    {
     "data": {
      "text/plain": [
       "array([[0., 0., 0., 0., 0., 0.],\n",
       "       [0., 0., 0., 0., 0., 0.],\n",
       "       [0., 0., 0., 0., 0., 0.],\n",
       "       [0., 0., 0., 0., 0., 0.],\n",
       "       [0., 0., 0., 0., 0., 0.],\n",
       "       [0., 0., 0., 0., 0., 0.],\n",
       "       [0., 0., 0., 0., 0., 0.],\n",
       "       [0., 0., 0., 0., 0., 0.],\n",
       "       [0., 0., 0., 0., 0., 0.],\n",
       "       [0., 0., 0., 0., 0., 0.],\n",
       "       [0., 0., 0., 0., 0., 0.],\n",
       "       [0., 0., 0., 0., 0., 0.],\n",
       "       [0., 0., 0., 0., 0., 0.],\n",
       "       [0., 0., 0., 0., 0., 0.],\n",
       "       [0., 0., 0., 0., 0., 0.],\n",
       "       [0., 0., 0., 0., 0., 0.],\n",
       "       [0., 0., 0., 0., 0., 0.],\n",
       "       [0., 0., 0., 0., 0., 0.],\n",
       "       [0., 0., 0., 0., 0., 0.],\n",
       "       [0., 0., 0., 0., 0., 0.],\n",
       "       [0., 0., 0., 0., 0., 0.],\n",
       "       [0., 0., 0., 0., 0., 0.],\n",
       "       [0., 0., 0., 0., 0., 0.],\n",
       "       [0., 0., 0., 0., 0., 0.],\n",
       "       [0., 0., 0., 0., 0., 0.],\n",
       "       [0., 0., 0., 0., 0., 0.],\n",
       "       [0., 0., 0., 0., 0., 0.],\n",
       "       [0., 0., 0., 0., 0., 0.],\n",
       "       [0., 0., 0., 0., 0., 0.],\n",
       "       [0., 0., 0., 0., 0., 0.],\n",
       "       [0., 0., 0., 0., 0., 0.],\n",
       "       [0., 0., 0., 0., 0., 0.],\n",
       "       [0., 0., 0., 0., 0., 0.]])"
      ]
     },
     "execution_count": 67,
     "metadata": {},
     "output_type": "execute_result"
    }
   ],
   "source": [
    "mj_data.cacc"
   ]
  },
  {
   "cell_type": "code",
   "execution_count": 22,
   "id": "3ef643ae-b0f0-4112-b377-5c389e2f9290",
   "metadata": {},
   "outputs": [
    {
     "data": {
      "text/plain": [
       "array([], dtype=float64)"
      ]
     },
     "execution_count": 22,
     "metadata": {},
     "output_type": "execute_result"
    }
   ],
   "source": [
    "# np.zeros((10,3)) + np.ones(3)\n",
    "np.array([])"
   ]
  },
  {
   "cell_type": "code",
   "execution_count": 23,
   "id": "147ba5e0-0b0b-4fdf-b5dc-d726c3e499a1",
   "metadata": {},
   "outputs": [
    {
     "name": "stderr",
     "output_type": "stream",
     "text": [
      "/home/daniel/miniconda3/lib/python3.8/site-packages/gym/spaces/box.py:73: UserWarning: \u001b[33mWARN: Box bound precision lowered by casting to float32\u001b[0m\n",
      "  logger.warn(\n"
     ]
    }
   ],
   "source": [
    "space = gym.spaces.Box(low=np.array([-1.0]*4), \n",
    "                                            high=np.array([1.0]*4), \n",
    "                                            shape=(4,), dtype=np.float32)"
   ]
  },
  {
   "cell_type": "code",
   "execution_count": 68,
   "id": "ea5f6909-5516-4a50-b247-7f3704bce41c",
   "metadata": {
    "tags": []
   },
   "outputs": [
    {
     "data": {
      "text/plain": [
       "16.0"
      ]
     },
     "execution_count": 68,
     "metadata": {},
     "output_type": "execute_result"
    }
   ],
   "source": [
    "200*0.08"
   ]
  },
  {
   "cell_type": "code",
   "execution_count": 26,
   "id": "9a8b7c31-8d82-4b37-9897-e5cf6cc1a7f5",
   "metadata": {},
   "outputs": [
    {
     "data": {
      "text/plain": [
       "array([-0.04679618])"
      ]
     },
     "execution_count": 26,
     "metadata": {},
     "output_type": "execute_result"
    }
   ],
   "source": [
    "np.array([-0.01383569]) + 4*np.array([0.]) + 50*np.array([-0.]) + 0.1*-0.3296048641656354"
   ]
  }
 ],
 "metadata": {
  "kernelspec": {
   "display_name": "Python 3",
   "language": "python",
   "name": "python3"
  },
  "language_info": {
   "codemirror_mode": {
    "name": "ipython",
    "version": 3
   },
   "file_extension": ".py",
   "mimetype": "text/x-python",
   "name": "python",
   "nbconvert_exporter": "python",
   "pygments_lexer": "ipython3",
   "version": "3.8.12"
  }
 },
 "nbformat": 4,
 "nbformat_minor": 5
}
