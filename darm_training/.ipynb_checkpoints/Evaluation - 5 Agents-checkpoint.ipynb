{
 "cells": [
  {
   "cell_type": "code",
   "execution_count": 1,
   "id": "31a60be7-f935-400c-9923-6f2bfd5b7571",
   "metadata": {
    "tags": []
   },
   "outputs": [],
   "source": [
    "import os\n",
    "import gym\n",
    "from darm_gym_env import DARMEnv\n",
    "from stable_baselines3 import SAC\n",
    "from stable_baselines3.common.vec_env.subproc_vec_env import SubprocVecEnv\n",
    "from stable_baselines3.common.vec_env.vec_monitor import VecMonitor\n",
    "from stable_baselines3.common.vec_env.vec_normalize import VecNormalize\n",
    "from stable_baselines3.common.vec_env.dummy_vec_env import DummyVecEnv\n",
    "from stable_baselines3.common.env_util import make_vec_env\n",
    "\n",
    "import wandb\n",
    "from wandb.integration.sb3 import WandbCallback\n",
    "from stable_baselines3.common.callbacks import CallbackList, EvalCallback, StopTrainingOnRewardThreshold, StopTrainingOnNoModelImprovement\n",
    "\n",
    "import numpy as np\n",
    "from datetime import datetime"
   ]
  },
  {
   "cell_type": "markdown",
   "id": "e95aa84d-cba5-4225-9eaf-e211e95177e8",
   "metadata": {},
   "source": [
    "### Load Models"
   ]
  },
  {
   "cell_type": "code",
   "execution_count": 2,
   "id": "a4c563d2-bc1c-4c8d-8286-24205fd66c14",
   "metadata": {},
   "outputs": [
    {
     "data": {
      "text/plain": [
       "<stable_baselines3.sac.sac.SAC at 0x7fea2b789a60>"
      ]
     },
     "execution_count": 2,
     "metadata": {},
     "output_type": "execute_result"
    }
   ],
   "source": [
    "env_tag = \"di\"\n",
    "run_name = f\"SB3_SAC_{env_tag}_position_stiffen_2\"\n",
    "run_local_dir = f\"{os.getenv('DARM_MUJOCO_PATH')}/darm_training/results/{env_tag}/{run_name}\"\n",
    "\n",
    "model_name_i = f\"{run_local_dir}/models/best/best_model\"\n",
    "eval_model_i = SAC.load(model_name_i)\n",
    "eval_model_i"
   ]
  },
  {
   "cell_type": "code",
   "execution_count": 3,
   "id": "6ef88d7d-2fde-4881-adcf-5fe2ec0e10ac",
   "metadata": {},
   "outputs": [
    {
     "data": {
      "text/plain": [
       "<stable_baselines3.sac.sac.SAC at 0x7fea4206b880>"
      ]
     },
     "execution_count": 3,
     "metadata": {},
     "output_type": "execute_result"
    }
   ],
   "source": [
    "env_tag = \"dii\"\n",
    "run_name = f\"SB3_SAC_{env_tag}_position_stiffen_2\"\n",
    "run_local_dir = f\"{os.getenv('DARM_MUJOCO_PATH')}/darm_training/results/{env_tag}/{run_name}\"\n",
    "\n",
    "model_name_ii = f\"{run_local_dir}/models/model\"\n",
    "# model_name_ii = f\"{run_local_dir}/models/best/best_model\"\n",
    "eval_model_ii = SAC.load(model_name_ii)\n",
    "eval_model_ii"
   ]
  },
  {
   "cell_type": "code",
   "execution_count": 4,
   "id": "abd5a6c5-be06-47ef-907f-fa10b1a92f98",
   "metadata": {},
   "outputs": [
    {
     "data": {
      "text/plain": [
       "<stable_baselines3.sac.sac.SAC at 0x7fe9edf00b20>"
      ]
     },
     "execution_count": 4,
     "metadata": {},
     "output_type": "execute_result"
    }
   ],
   "source": [
    "env_tag = \"diii\"\n",
    "run_name = f\"SB3_SAC_{env_tag}_position_stiffen_2\"\n",
    "run_local_dir = f\"{os.getenv('DARM_MUJOCO_PATH')}/darm_training/results/{env_tag}/{run_name}\"\n",
    "\n",
    "model_name_iii = f\"{run_local_dir}/models/best/best_model\"\n",
    "eval_model_iii = SAC.load(model_name_iii)\n",
    "eval_model_iii"
   ]
  },
  {
   "cell_type": "code",
   "execution_count": 5,
   "id": "e2f1d8ca-8b1f-4318-8eef-6ebe5ce011c2",
   "metadata": {},
   "outputs": [
    {
     "data": {
      "text/plain": [
       "<stable_baselines3.sac.sac.SAC at 0x7fe9f877c7c0>"
      ]
     },
     "execution_count": 5,
     "metadata": {},
     "output_type": "execute_result"
    }
   ],
   "source": [
    "env_tag = \"div\"\n",
    "run_name = f\"SB3_SAC_{env_tag}_position_stiffen_2\"\n",
    "run_local_dir = f\"{os.getenv('DARM_MUJOCO_PATH')}/darm_training/results/{env_tag}/{run_name}\"\n",
    "\n",
    "model_name_iv = f\"{run_local_dir}/models/best/best_model\"\n",
    "eval_model_iv = SAC.load(model_name_iv)\n",
    "eval_model_iv"
   ]
  },
  {
   "cell_type": "code",
   "execution_count": 6,
   "id": "07a643de-dc1e-45ea-8285-9dde2be75bb1",
   "metadata": {},
   "outputs": [
    {
     "data": {
      "text/plain": [
       "<stable_baselines3.sac.sac.SAC at 0x7fea2bfcd6d0>"
      ]
     },
     "execution_count": 6,
     "metadata": {},
     "output_type": "execute_result"
    }
   ],
   "source": [
    "env_tag = \"dv\"\n",
    "run_name = f\"SB3_SAC_{env_tag}_position_stiffen_2\"\n",
    "run_local_dir = f\"{os.getenv('DARM_MUJOCO_PATH')}/darm_training/results/{env_tag}/{run_name}\"\n",
    "\n",
    "model_name_v = f\"{run_local_dir}/models/model\"\n",
    "# model_name_v = f\"{run_local_dir}/models/best/best_model\"\n",
    "eval_model_v = SAC.load(model_name_v)\n",
    "eval_model_v"
   ]
  },
  {
   "cell_type": "markdown",
   "id": "dacf76bc-a212-46a6-94c8-ed43b04534bb",
   "metadata": {},
   "source": [
    "## Environment"
   ]
  },
  {
   "cell_type": "code",
   "execution_count": 7,
   "id": "358e2a7f-fc62-4839-a049-b7e4e0a4e68a",
   "metadata": {},
   "outputs": [
    {
     "name": "stdout",
     "output_type": "stream",
     "text": [
      "Loaded XML file successfully\n",
      "Using step size `0.01256` units\n",
      "Using `myo` reward type\n",
      "Number of tendon position actuators: 30\n",
      "Using `Box([-1. -1. -1. -1. -1. -1. -1. -1. -1. -1. -1. -1. -1. -1. -1. -1. -1. -1.\n",
      " -1. -1. -1. -1. -1. -1. -1. -1. -1. -1. -1. -1.], [1. 1. 1. 1. 1. 1. 1. 1. 1. 1. 1. 1. 1. 1. 1. 1. 1. 1. 1. 1. 1. 1. 1. 1.\n",
      " 1. 1. 1. 1. 1. 1.], (30,), float32)` action space\n"
     ]
    },
    {
     "name": "stderr",
     "output_type": "stream",
     "text": [
      "/home/daniel/miniconda3/lib/python3.8/site-packages/gym/spaces/box.py:73: UserWarning: \u001b[33mWARN: Box bound precision lowered by casting to float32\u001b[0m\n",
      "  logger.warn(\n"
     ]
    }
   ],
   "source": [
    "env = DARMEnv(digits=[\"i\", \"ii\", \"iii\", \"iv\", \"v\"],\n",
    "                            start_state_file=\"DARMHand_MFNW_start_state.npy\",\n",
    "                            render_mode=\"human\")"
   ]
  },
  {
   "cell_type": "code",
   "execution_count": 8,
   "id": "29321b99-0986-469a-b1de-2742e67932b6",
   "metadata": {},
   "outputs": [
    {
     "data": {
      "text/plain": [
       "array([-9.53674612e-01, -3.93382484e+00,  1.07950825e+01,  5.76073431e-01,\n",
       "        4.38386164e-01, -1.95317211e-01, -6.61670734e-01,  3.54763268e+00,\n",
       "       -2.55334918e+00,  7.28864374e+00,  8.17527819e-01, -3.31722340e+00,\n",
       "        9.07344727e+00, -1.64504838e+00, -3.75804497e+00,  1.00890234e+01,\n",
       "        1.75278163e+00, -5.77873531e+00,  9.37024774e+00,  3.97721736e-03,\n",
       "        9.95952564e-01, -8.64828717e-02,  2.41533590e-02,  2.93000000e+00,\n",
       "        8.70000000e-01,  9.08000000e+00,  2.14997850e+00, -3.39588077e+00,\n",
       "        1.13179070e+01,  1.71485111e+00, -5.93547779e+00,  1.05806749e+01,\n",
       "        1.78038191e+00, -5.73100432e+00,  8.48162839e+00,  1.34000203e+00,\n",
       "        5.48796293e+00,  1.76979790e+01,  9.74852016e-01,  2.20682871e-01,\n",
       "        3.02603881e-02, -6.85021851e-03,  8.20000000e-01,  8.70000000e-01,\n",
       "        9.33000000e+00,  1.22961745e+00,  3.89322541e+00,  1.35409763e+01,\n",
       "        1.51683792e+00,  5.44935862e+00,  1.64936791e+01,  1.68522024e+00,\n",
       "        4.38313439e+00,  1.82246942e+01, -2.95492473e+00, -1.99833921e-01,\n",
       "        1.79397879e+01,  9.30325966e-01,  3.48308759e-01, -8.42069887e-02,\n",
       "        7.79986510e-02, -1.03000000e+00,  2.10000000e-01,  8.89000000e+00,\n",
       "       -2.29172083e+00,  1.45619710e+00,  1.34256315e+01, -2.91534039e+00,\n",
       "        8.92276107e-02,  1.63637420e+01, -3.12458933e+00, -1.40061230e+00,\n",
       "        1.77117004e+01, -6.56951891e+00, -2.10143316e+00,  1.52705748e+01,\n",
       "        9.46821819e-01,  2.11013024e-01, -2.38250087e-01,  4.73164194e-02,\n",
       "       -2.74103575e+00,  5.05678666e-01,  8.37841644e+00, -4.45373616e+00,\n",
       "        8.06733486e-01,  1.21575199e+01, -5.35641099e+00, -1.77184522e-01,\n",
       "        1.42354958e+01, -6.06979202e+00, -7.04738724e-01,  1.58588485e+01])"
      ]
     },
     "execution_count": 8,
     "metadata": {},
     "output_type": "execute_result"
    }
   ],
   "source": [
    "obs = env.reset()\n",
    "obs"
   ]
  },
  {
   "cell_type": "markdown",
   "id": "92e1c68c-4f34-4793-8fd9-1df1234b374e",
   "metadata": {},
   "source": [
    "## Model Combination"
   ]
  },
  {
   "cell_type": "code",
   "execution_count": 9,
   "id": "824ac907-1a14-47f7-afef-28e5f7c81795",
   "metadata": {},
   "outputs": [
    {
     "name": "stdout",
     "output_type": "stream",
     "text": [
      "(16,)\n",
      "(19,)\n",
      "(19,)\n",
      "(19,)\n",
      "(19,)\n"
     ]
    }
   ],
   "source": [
    "obs = [env.get_obs(i) for i in range(5)]\n",
    "\n",
    "for o in obs:\n",
    "    print(o.shape)"
   ]
  },
  {
   "cell_type": "code",
   "execution_count": 10,
   "id": "397ddff0-3b53-465b-a73e-065e88498830",
   "metadata": {},
   "outputs": [
    {
     "data": {
      "text/plain": [
       "[array([-0.96874094,  0.9945488 , -0.9781129 , -0.9571279 , -0.80375725,\n",
       "        -0.941601  ,  0.9631041 ,  0.96614707, -0.8560862 ], dtype=float32),\n",
       " array([-0.9917435 , -0.9858608 , -0.87369674, -0.98893034,  0.978533  ],\n",
       "       dtype=float32),\n",
       " array([-0.99206936,  0.2629354 , -0.98428756, -0.9909652 ,  0.98523235],\n",
       "       dtype=float32),\n",
       " array([ 0.997905 , -0.972115 , -0.9262421, -0.9816914,  0.9735168],\n",
       "       dtype=float32),\n",
       " array([ 0.99963593, -0.97694963, -0.25092733, -0.77093995,  0.727625  ,\n",
       "         0.8241062 ], dtype=float32)]"
      ]
     },
     "execution_count": 10,
     "metadata": {},
     "output_type": "execute_result"
    }
   ],
   "source": [
    "actions = []\n",
    "actions.append(eval_model_i.predict(obs[0], deterministic=True)[0])\n",
    "actions.append(eval_model_ii.predict(obs[1], deterministic=True)[0])\n",
    "actions.append(eval_model_iii.predict(obs[2], deterministic=True)[0])\n",
    "actions.append(eval_model_iv.predict(obs[3], deterministic=True)[0])\n",
    "actions.append(eval_model_v.predict(obs[4], deterministic=True)[0])\n",
    "actions"
   ]
  },
  {
   "cell_type": "code",
   "execution_count": 11,
   "id": "acc2af1b-77f2-4435-ad8f-45f9d2e8c5cf",
   "metadata": {},
   "outputs": [
    {
     "data": {
      "text/plain": [
       "array([-0.96874094,  0.9945488 , -0.9781129 , -0.9571279 , -0.80375725,\n",
       "       -0.941601  ,  0.9631041 ,  0.96614707, -0.8560862 , -0.9917435 ,\n",
       "       -0.9858608 , -0.87369674, -0.98893034,  0.978533  , -0.99206936,\n",
       "        0.2629354 , -0.98428756, -0.9909652 ,  0.98523235,  0.997905  ,\n",
       "       -0.972115  , -0.9262421 , -0.9816914 ,  0.9735168 ,  0.99963593,\n",
       "       -0.97694963, -0.25092733, -0.77093995,  0.727625  ,  0.8241062 ],\n",
       "      dtype=float32)"
      ]
     },
     "execution_count": 11,
     "metadata": {},
     "output_type": "execute_result"
    }
   ],
   "source": [
    "action = np.concatenate(actions)\n",
    "action"
   ]
  },
  {
   "cell_type": "code",
   "execution_count": 12,
   "id": "01a0137d-5ccd-4203-942a-9158de61f9eb",
   "metadata": {},
   "outputs": [],
   "source": [
    "env.step(action)\n",
    "env.render()"
   ]
  },
  {
   "cell_type": "code",
   "execution_count": 13,
   "id": "547dcfbb-8893-4d85-acce-b2b1eef5e09a",
   "metadata": {},
   "outputs": [],
   "source": [
    "env.close()"
   ]
  },
  {
   "cell_type": "markdown",
   "id": "49acc8da-8caa-445f-8b98-1e7b543faa9a",
   "metadata": {},
   "source": [
    "## Env Loop"
   ]
  },
  {
   "cell_type": "code",
   "execution_count": 7,
   "id": "08320413-7e87-4fa6-b2a4-61f2e7ae7e18",
   "metadata": {},
   "outputs": [],
   "source": [
    "def get_action(obs):\n",
    "    actions = []\n",
    "    actions.append(eval_model_i.predict(obs[0], deterministic=True)[0])\n",
    "    actions.append(eval_model_ii.predict(obs[1], deterministic=True)[0])\n",
    "    actions.append(eval_model_iii.predict(obs[2], deterministic=True)[0])\n",
    "    actions.append(eval_model_iv.predict(obs[3], deterministic=True)[0])\n",
    "    actions.append(eval_model_v.predict(obs[4], deterministic=True)[0])\n",
    "    \n",
    "    return np.concatenate(actions)"
   ]
  },
  {
   "cell_type": "code",
   "execution_count": 8,
   "id": "e17b2d75-3a07-4d3d-abdb-7f30ae54c6a4",
   "metadata": {
    "tags": []
   },
   "outputs": [
    {
     "name": "stdout",
     "output_type": "stream",
     "text": [
      "Loaded XML file successfully\n",
      "Using step size `0.01256` units\n",
      "Using `myo` reward type\n",
      "Number of tendon position actuators: 30\n",
      "Using `Box([-1. -1. -1. -1. -1. -1. -1. -1. -1. -1. -1. -1. -1. -1. -1. -1. -1. -1.\n",
      " -1. -1. -1. -1. -1. -1. -1. -1. -1. -1. -1. -1.], [1. 1. 1. 1. 1. 1. 1. 1. 1. 1. 1. 1. 1. 1. 1. 1. 1. 1. 1. 1. 1. 1. 1. 1.\n",
      " 1. 1. 1. 1. 1. 1.], (30,), float32)` action space\n"
     ]
    },
    {
     "name": "stderr",
     "output_type": "stream",
     "text": [
      "/home/daniel/miniconda3/lib/python3.8/site-packages/gym/spaces/box.py:73: UserWarning: \u001b[33mWARN: Box bound precision lowered by casting to float32\u001b[0m\n",
      "  logger.warn(\n"
     ]
    },
    {
     "name": "stdout",
     "output_type": "stream",
     "text": [
      "[1. 2. 2. 2. 0.]\n",
      "[0. 2. 1. 2. 0.]\n",
      "[0. 2. 1. 2. 0.]\n",
      "Closing environment\n"
     ]
    },
    {
     "ename": "KeyboardInterrupt",
     "evalue": "",
     "output_type": "error",
     "traceback": [
      "\u001b[0;31m---------------------------------------------------------------------------\u001b[0m",
      "\u001b[0;31mKeyboardInterrupt\u001b[0m                         Traceback (most recent call last)",
      "Input \u001b[0;32mIn [8]\u001b[0m, in \u001b[0;36m<cell line: 20>\u001b[0;34m()\u001b[0m\n\u001b[1;32m     22\u001b[0m obs \u001b[38;5;241m=\u001b[39m [env\u001b[38;5;241m.\u001b[39mget_obs(i) \u001b[38;5;28;01mfor\u001b[39;00m i \u001b[38;5;129;01min\u001b[39;00m \u001b[38;5;28mrange\u001b[39m(\u001b[38;5;241m5\u001b[39m)]\n\u001b[1;32m     23\u001b[0m action \u001b[38;5;241m=\u001b[39m get_action(obs)\n\u001b[0;32m---> 24\u001b[0m _, _, done, info \u001b[38;5;241m=\u001b[39m \u001b[43menv\u001b[49m\u001b[38;5;241;43m.\u001b[39;49m\u001b[43mstep\u001b[49m\u001b[43m(\u001b[49m\u001b[43maction\u001b[49m\u001b[43m)\u001b[49m\n\u001b[1;32m     25\u001b[0m n_steps \u001b[38;5;241m+\u001b[39m\u001b[38;5;241m=\u001b[39m \u001b[38;5;241m1\u001b[39m\n\u001b[1;32m     27\u001b[0m \u001b[38;5;28;01mif\u001b[39;00m n_steps \u001b[38;5;241m%\u001b[39m \u001b[38;5;241m20\u001b[39m \u001b[38;5;241m==\u001b[39m \u001b[38;5;241m0\u001b[39m:\n",
      "File \u001b[0;32m~/miniconda3/lib/python3.8/site-packages/darm_gym_env-0.0.1-py3.8.egg/darm_gym_env/darm_gym.py:768\u001b[0m, in \u001b[0;36mDARMEnv.step\u001b[0;34m(self, action)\u001b[0m\n\u001b[1;32m    766\u001b[0m i \u001b[38;5;241m=\u001b[39m \u001b[38;5;241m0\u001b[39m\n\u001b[1;32m    767\u001b[0m \u001b[38;5;28;01mwhile\u001b[39;00m \u001b[38;5;129;01mnot\u001b[39;00m movement_done:\n\u001b[0;32m--> 768\u001b[0m     \u001b[43mmj\u001b[49m\u001b[38;5;241;43m.\u001b[39;49m\u001b[43mmj_step\u001b[49m\u001b[43m(\u001b[49m\u001b[38;5;28;43mself\u001b[39;49m\u001b[38;5;241;43m.\u001b[39;49m\u001b[43mmodel\u001b[49m\u001b[43m,\u001b[49m\u001b[43m \u001b[49m\u001b[38;5;28;43mself\u001b[39;49m\u001b[38;5;241;43m.\u001b[39;49m\u001b[43mdata\u001b[49m\u001b[43m)\u001b[49m\n\u001b[1;32m    769\u001b[0m     movement_done \u001b[38;5;241m=\u001b[39m \u001b[38;5;28mall\u001b[39m(np\u001b[38;5;241m.\u001b[39mabs(\u001b[38;5;28mself\u001b[39m\u001b[38;5;241m.\u001b[39mdata\u001b[38;5;241m.\u001b[39mactuator_length[:\u001b[38;5;28mself\u001b[39m\u001b[38;5;241m.\u001b[39mnact]\u001b[38;5;241m*\u001b[39mcontrolled \u001b[38;5;241m-\u001b[39m \u001b[38;5;28mself\u001b[39m\u001b[38;5;241m.\u001b[39mdata\u001b[38;5;241m.\u001b[39mctrl[:\u001b[38;5;28mself\u001b[39m\u001b[38;5;241m.\u001b[39mnact]) \u001b[38;5;241m<\u001b[39m\u001b[38;5;241m=\u001b[39m dist_eps)\n\u001b[1;32m    770\u001b[0m     i \u001b[38;5;241m+\u001b[39m\u001b[38;5;241m=\u001b[39m \u001b[38;5;241m1\u001b[39m\n",
      "\u001b[0;31mKeyboardInterrupt\u001b[0m: "
     ]
    }
   ],
   "source": [
    "import time\n",
    "\n",
    "\n",
    "\n",
    "env = DARMEnv(digits=[\"i\", \"ii\", \"iii\", \"iv\", \"v\"],\n",
    "                            start_state_file=\"DARMHand_MFNW_start_state.npy\",\n",
    "                            render_mode=\"human\")\n",
    "\n",
    "def sleep(duration):\n",
    "    start_time = time.time()\n",
    "    while time.time() - start_time < duration:\n",
    "        env.render()\n",
    "        \n",
    "env.reset()\n",
    "done = False\n",
    "sleep(10)\n",
    "\n",
    "n_steps = 0\n",
    "\n",
    "try:\n",
    "    while not done:\n",
    "        obs = [env.get_obs(i) for i in range(5)]\n",
    "        action = get_action(obs)\n",
    "        _, _, done, info = env.step(action)\n",
    "        n_steps += 1\n",
    "        \n",
    "        if n_steps % 20 == 0:\n",
    "            print(info[\"reward\"][\"bonus\"])\n",
    "\n",
    "        if done or n_steps == 200:\n",
    "            env.reset()\n",
    "            done = False\n",
    "            n_steps = 0\n",
    "            sleep(2)\n",
    "except Exception as e:\n",
    "    pass\n",
    "finally:\n",
    "    print(\"Closing environment\")\n",
    "    env.close()"
   ]
  },
  {
   "cell_type": "markdown",
   "id": "2fbfa677-ae44-45ff-a6f9-5a88a22d0817",
   "metadata": {},
   "source": [
    "### Add Contacts visualization to understand why failed poses?"
   ]
  },
  {
   "cell_type": "code",
   "execution_count": 21,
   "id": "d5daab7c-9467-480c-9aec-44de588e883c",
   "metadata": {},
   "outputs": [],
   "source": [
    "env.close()"
   ]
  }
 ],
 "metadata": {
  "kernelspec": {
   "display_name": "Python 3",
   "language": "python",
   "name": "python3"
  },
  "language_info": {
   "codemirror_mode": {
    "name": "ipython",
    "version": 3
   },
   "file_extension": ".py",
   "mimetype": "text/x-python",
   "name": "python",
   "nbconvert_exporter": "python",
   "pygments_lexer": "ipython3",
   "version": "3.8.12"
  }
 },
 "nbformat": 4,
 "nbformat_minor": 5
}
