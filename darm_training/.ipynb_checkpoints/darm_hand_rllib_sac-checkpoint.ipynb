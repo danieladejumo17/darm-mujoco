{
 "cells": [
  {
   "cell_type": "markdown",
   "id": "799cc8cb-e1a5-4a58-a984-efc11326303e",
   "metadata": {},
   "source": [
    "## Installation and Imports"
   ]
  },
  {
   "cell_type": "code",
   "execution_count": 1,
   "id": "d23a9220-2972-4248-9c15-0f55802c4359",
   "metadata": {},
   "outputs": [
    {
     "name": "stdout",
     "output_type": "stream",
     "text": [
      "/home/daniel/DARM/darm_mujoco/darm_training\n"
     ]
    }
   ],
   "source": [
    "!pwd"
   ]
  },
  {
   "cell_type": "code",
   "execution_count": 2,
   "id": "f874e73d-f740-45bf-bed4-117e846ac0f2",
   "metadata": {},
   "outputs": [
    {
     "data": {
      "text/plain": [
       "'/home/daniel/DARM/darm_mujoco'"
      ]
     },
     "execution_count": 2,
     "metadata": {},
     "output_type": "execute_result"
    }
   ],
   "source": [
    "# Configure env variables\n",
    "\n",
    "# TODO: change path\n",
    "import os\n",
    "os.environ[\"DARM_MUJOCO_PATH\"] = \"/workspace/darm-mujoco\"\n",
    "os.getenv('DARM_MUJOCO_PATH')"
   ]
  },
  {
   "cell_type": "code",
   "execution_count": 3,
   "id": "1faaeaf7-f077-4e44-a4aa-4e81374219e6",
   "metadata": {},
   "outputs": [
    {
     "name": "stdout",
     "output_type": "stream",
     "text": [
      "gcc (Ubuntu 7.5.0-3ubuntu1~18.04) 7.5.0\n",
      "Copyright (C) 2017 Free Software Foundation, Inc.\n",
      "This is free software; see the source for copying conditions.  There is NO\n",
      "warranty; not even for MERCHANTABILITY or FITNESS FOR A PARTICULAR PURPOSE.\n",
      "\n"
     ]
    }
   ],
   "source": [
    "# Check if GCC is installed\n",
    "!gcc --version"
   ]
  },
  {
   "cell_type": "code",
   "execution_count": null,
   "id": "d95b2f04-9248-4bc8-91dd-334075cf0646",
   "metadata": {},
   "outputs": [],
   "source": [
    "# Install GCC if absent\n",
    "!sudo apt update\n",
    "!sudo apt install build-essential -y"
   ]
  },
  {
   "cell_type": "code",
   "execution_count": null,
   "id": "e4f22778-56c3-4fea-a3de-6e4ac487ea84",
   "metadata": {},
   "outputs": [],
   "source": [
    "# # Setup Mujoco for gym - If needed\n",
    "# !apt-get install -y \\\n",
    "#     libgl1-mesa-dev \\\n",
    "#     libgl1-mesa-glx \\\n",
    "#     libglew-dev \\\n",
    "#     libosmesa6-dev \\\n",
    "#     software-properties-common\n",
    "\n",
    "# !apt-get install -y patchelf\n",
    "\n",
    "# !pip install gym\n",
    "\n",
    "# !pip install free-mujoco-py\n",
    "\n",
    "# import mujoco_py\n",
    "# import gym"
   ]
  },
  {
   "cell_type": "code",
   "execution_count": 3,
   "id": "b21d33a5-8591-4a1c-891e-a71073ff1c91",
   "metadata": {
    "collapsed": true,
    "jupyter": {
     "outputs_hidden": true
    },
    "tags": []
   },
   "outputs": [
    {
     "name": "stdout",
     "output_type": "stream",
     "text": [
      "Requirement already satisfied: ray[rllib] in /home/daniel/miniconda3/lib/python3.8/site-packages (2.2.0)\n",
      "Requirement already satisfied: torch in /home/daniel/miniconda3/lib/python3.8/site-packages (1.13.1)\n",
      "Requirement already satisfied: pyyaml in /home/daniel/miniconda3/lib/python3.8/site-packages (from ray[rllib]) (6.0)\n",
      "Requirement already satisfied: click>=7.0 in /home/daniel/miniconda3/lib/python3.8/site-packages (from ray[rllib]) (8.1.3)\n",
      "Requirement already satisfied: numpy>=1.16 in /home/daniel/miniconda3/lib/python3.8/site-packages (from ray[rllib]) (1.23.4)\n",
      "Requirement already satisfied: grpcio>=1.32.0 in /home/daniel/miniconda3/lib/python3.8/site-packages (from ray[rllib]) (1.51.1)\n",
      "Requirement already satisfied: msgpack<2.0.0,>=1.0.0 in /home/daniel/miniconda3/lib/python3.8/site-packages (from ray[rllib]) (1.0.4)\n",
      "Requirement already satisfied: filelock in /home/daniel/miniconda3/lib/python3.8/site-packages (from ray[rllib]) (3.8.2)\n",
      "Requirement already satisfied: aiosignal in /home/daniel/miniconda3/lib/python3.8/site-packages (from ray[rllib]) (1.3.1)\n",
      "Requirement already satisfied: jsonschema in /home/daniel/miniconda3/lib/python3.8/site-packages (from ray[rllib]) (4.17.3)\n",
      "Requirement already satisfied: virtualenv>=20.0.24 in /home/daniel/miniconda3/lib/python3.8/site-packages (from ray[rllib]) (20.17.1)\n",
      "Requirement already satisfied: attrs in /home/daniel/miniconda3/lib/python3.8/site-packages (from ray[rllib]) (22.2.0)\n",
      "Requirement already satisfied: requests in /home/daniel/miniconda3/lib/python3.8/site-packages (from ray[rllib]) (2.27.1)\n",
      "Requirement already satisfied: frozenlist in /home/daniel/miniconda3/lib/python3.8/site-packages (from ray[rllib]) (1.3.3)\n",
      "Requirement already satisfied: protobuf!=3.19.5,>=3.15.3 in /home/daniel/miniconda3/lib/python3.8/site-packages (from ray[rllib]) (3.20.1)\n",
      "Requirement already satisfied: scikit-image in /home/daniel/miniconda3/lib/python3.8/site-packages (from ray[rllib]) (0.19.3)\n",
      "Requirement already satisfied: tensorboardX>=1.9 in /home/daniel/miniconda3/lib/python3.8/site-packages (from ray[rllib]) (2.5.1)\n",
      "Requirement already satisfied: matplotlib!=3.4.3 in /home/daniel/miniconda3/lib/python3.8/site-packages (from ray[rllib]) (3.6.1)\n",
      "Requirement already satisfied: scipy in /home/daniel/miniconda3/lib/python3.8/site-packages (from ray[rllib]) (1.9.2)\n",
      "Requirement already satisfied: tabulate in /home/daniel/miniconda3/lib/python3.8/site-packages (from ray[rllib]) (0.9.0)\n",
      "Requirement already satisfied: typer in /home/daniel/miniconda3/lib/python3.8/site-packages (from ray[rllib]) (0.7.0)\n",
      "Requirement already satisfied: gym<0.24.0,>=0.21.0 in /home/daniel/miniconda3/lib/python3.8/site-packages (from ray[rllib]) (0.21.0)\n",
      "Requirement already satisfied: lz4 in /home/daniel/miniconda3/lib/python3.8/site-packages (from ray[rllib]) (4.0.2)\n",
      "Requirement already satisfied: pandas in /home/daniel/miniconda3/lib/python3.8/site-packages (from ray[rllib]) (1.5.2)\n",
      "Requirement already satisfied: rich in /home/daniel/miniconda3/lib/python3.8/site-packages (from ray[rllib]) (12.6.0)\n",
      "Requirement already satisfied: dm-tree in /home/daniel/miniconda3/lib/python3.8/site-packages (from ray[rllib]) (0.1.8)\n",
      "Requirement already satisfied: typing_extensions in /home/daniel/miniconda3/lib/python3.8/site-packages (from torch) (4.4.0)\n",
      "Requirement already satisfied: cloudpickle>=1.2.0 in /home/daniel/miniconda3/lib/python3.8/site-packages (from gym<0.24.0,>=0.21.0->ray[rllib]) (2.2.0)\n",
      "Requirement already satisfied: python-dateutil>=2.7 in /home/daniel/miniconda3/lib/python3.8/site-packages (from matplotlib!=3.4.3->ray[rllib]) (2.8.2)\n",
      "Requirement already satisfied: contourpy>=1.0.1 in /home/daniel/miniconda3/lib/python3.8/site-packages (from matplotlib!=3.4.3->ray[rllib]) (1.0.5)\n",
      "Requirement already satisfied: pyparsing>=2.2.1 in /home/daniel/miniconda3/lib/python3.8/site-packages (from matplotlib!=3.4.3->ray[rllib]) (3.0.9)\n",
      "Requirement already satisfied: cycler>=0.10 in /home/daniel/miniconda3/lib/python3.8/site-packages (from matplotlib!=3.4.3->ray[rllib]) (0.11.0)\n",
      "Requirement already satisfied: fonttools>=4.22.0 in /home/daniel/miniconda3/lib/python3.8/site-packages (from matplotlib!=3.4.3->ray[rllib]) (4.37.4)\n",
      "Requirement already satisfied: kiwisolver>=1.0.1 in /home/daniel/miniconda3/lib/python3.8/site-packages (from matplotlib!=3.4.3->ray[rllib]) (1.4.4)\n",
      "Requirement already satisfied: packaging>=20.0 in /home/daniel/miniconda3/lib/python3.8/site-packages (from matplotlib!=3.4.3->ray[rllib]) (21.3)\n",
      "Requirement already satisfied: pillow>=6.2.0 in /home/daniel/miniconda3/lib/python3.8/site-packages (from matplotlib!=3.4.3->ray[rllib]) (9.3.0)\n",
      "Requirement already satisfied: six>=1.5 in /home/daniel/miniconda3/lib/python3.8/site-packages (from python-dateutil>=2.7->matplotlib!=3.4.3->ray[rllib]) (1.12.0)\n",
      "Requirement already satisfied: distlib<1,>=0.3.6 in /home/daniel/miniconda3/lib/python3.8/site-packages (from virtualenv>=20.0.24->ray[rllib]) (0.3.6)\n",
      "Requirement already satisfied: platformdirs<3,>=2.4 in /home/daniel/miniconda3/lib/python3.8/site-packages (from virtualenv>=20.0.24->ray[rllib]) (2.6.0)\n",
      "Requirement already satisfied: pkgutil-resolve-name>=1.3.10 in /home/daniel/miniconda3/lib/python3.8/site-packages (from jsonschema->ray[rllib]) (1.3.10)\n",
      "Requirement already satisfied: pyrsistent!=0.17.0,!=0.17.1,!=0.17.2,>=0.14.0 in /home/daniel/miniconda3/lib/python3.8/site-packages (from jsonschema->ray[rllib]) (0.19.2)\n",
      "Requirement already satisfied: importlib-resources>=1.4.0 in /home/daniel/miniconda3/lib/python3.8/site-packages (from jsonschema->ray[rllib]) (5.10.1)\n",
      "Requirement already satisfied: zipp>=3.1.0 in /home/daniel/miniconda3/lib/python3.8/site-packages (from importlib-resources>=1.4.0->jsonschema->ray[rllib]) (3.11.0)\n",
      "Requirement already satisfied: pytz>=2020.1 in /home/daniel/miniconda3/lib/python3.8/site-packages (from pandas->ray[rllib]) (2022.7)\n",
      "Requirement already satisfied: urllib3<1.27,>=1.21.1 in /home/daniel/miniconda3/lib/python3.8/site-packages (from requests->ray[rllib]) (1.26.14)\n",
      "Requirement already satisfied: certifi>=2017.4.17 in /home/daniel/miniconda3/lib/python3.8/site-packages (from requests->ray[rllib]) (2022.12.7)\n",
      "Requirement already satisfied: charset-normalizer~=2.0.0 in /home/daniel/miniconda3/lib/python3.8/site-packages (from requests->ray[rllib]) (2.0.4)\n",
      "Requirement already satisfied: idna<4,>=2.5 in /home/daniel/miniconda3/lib/python3.8/site-packages (from requests->ray[rllib]) (3.3)\n",
      "Requirement already satisfied: pygments<3.0.0,>=2.6.0 in /home/daniel/miniconda3/lib/python3.8/site-packages (from rich->ray[rllib]) (2.13.0)\n",
      "Requirement already satisfied: commonmark<0.10.0,>=0.9.0 in /home/daniel/miniconda3/lib/python3.8/site-packages (from rich->ray[rllib]) (0.9.1)\n",
      "Requirement already satisfied: networkx>=2.2 in /home/daniel/miniconda3/lib/python3.8/site-packages (from scikit-image->ray[rllib]) (2.8.8)\n",
      "Requirement already satisfied: PyWavelets>=1.1.1 in /home/daniel/miniconda3/lib/python3.8/site-packages (from scikit-image->ray[rllib]) (1.4.1)\n",
      "Requirement already satisfied: tifffile>=2019.7.26 in /home/daniel/miniconda3/lib/python3.8/site-packages (from scikit-image->ray[rllib]) (2022.10.10)\n",
      "Requirement already satisfied: imageio>=2.4.1 in /home/daniel/miniconda3/lib/python3.8/site-packages (from scikit-image->ray[rllib]) (2.23.0)\n",
      "Requirement already satisfied: wandb in /home/daniel/miniconda3/lib/python3.8/site-packages (0.13.10)\n",
      "Requirement already satisfied: psutil>=5.0.0 in /home/daniel/miniconda3/lib/python3.8/site-packages (from wandb) (5.9.4)\n",
      "Requirement already satisfied: Click!=8.0.0,>=7.0 in /home/daniel/miniconda3/lib/python3.8/site-packages (from wandb) (8.1.3)\n",
      "Requirement already satisfied: protobuf!=4.21.0,<5,>=3.12.0 in /home/daniel/miniconda3/lib/python3.8/site-packages (from wandb) (3.20.1)\n",
      "Requirement already satisfied: setproctitle in /home/daniel/miniconda3/lib/python3.8/site-packages (from wandb) (1.3.2)\n",
      "Requirement already satisfied: sentry-sdk>=1.0.0 in /home/daniel/miniconda3/lib/python3.8/site-packages (from wandb) (1.15.0)\n",
      "Requirement already satisfied: PyYAML in /home/daniel/miniconda3/lib/python3.8/site-packages (from wandb) (6.0)\n",
      "Requirement already satisfied: setuptools in /home/daniel/miniconda3/lib/python3.8/site-packages (from wandb) (65.6.3)\n",
      "Requirement already satisfied: docker-pycreds>=0.4.0 in /home/daniel/miniconda3/lib/python3.8/site-packages (from wandb) (0.4.0)\n",
      "Requirement already satisfied: appdirs>=1.4.3 in /home/daniel/miniconda3/lib/python3.8/site-packages (from wandb) (1.4.4)\n",
      "Requirement already satisfied: GitPython>=1.0.0 in /home/daniel/miniconda3/lib/python3.8/site-packages (from wandb) (3.1.30)\n",
      "Requirement already satisfied: typing-extensions in /home/daniel/miniconda3/lib/python3.8/site-packages (from wandb) (4.4.0)\n",
      "Requirement already satisfied: requests<3,>=2.0.0 in /home/daniel/miniconda3/lib/python3.8/site-packages (from wandb) (2.27.1)\n",
      "Requirement already satisfied: pathtools in /home/daniel/miniconda3/lib/python3.8/site-packages (from wandb) (0.1.2)\n",
      "Requirement already satisfied: six>=1.4.0 in /home/daniel/miniconda3/lib/python3.8/site-packages (from docker-pycreds>=0.4.0->wandb) (1.12.0)\n",
      "Requirement already satisfied: gitdb<5,>=4.0.1 in /home/daniel/miniconda3/lib/python3.8/site-packages (from GitPython>=1.0.0->wandb) (4.0.10)\n",
      "Requirement already satisfied: smmap<6,>=3.0.1 in /home/daniel/miniconda3/lib/python3.8/site-packages (from gitdb<5,>=4.0.1->GitPython>=1.0.0->wandb) (5.0.0)\n",
      "Requirement already satisfied: urllib3<1.27,>=1.21.1 in /home/daniel/miniconda3/lib/python3.8/site-packages (from requests<3,>=2.0.0->wandb) (1.26.14)\n",
      "Requirement already satisfied: certifi>=2017.4.17 in /home/daniel/miniconda3/lib/python3.8/site-packages (from requests<3,>=2.0.0->wandb) (2022.12.7)\n",
      "Requirement already satisfied: idna<4,>=2.5 in /home/daniel/miniconda3/lib/python3.8/site-packages (from requests<3,>=2.0.0->wandb) (3.3)\n",
      "Requirement already satisfied: charset-normalizer~=2.0.0 in /home/daniel/miniconda3/lib/python3.8/site-packages (from requests<3,>=2.0.0->wandb) (2.0.4)\n",
      "Requirement already satisfied: tensorflow_probability in /home/daniel/miniconda3/lib/python3.8/site-packages (0.19.0)\n",
      "Requirement already satisfied: cloudpickle>=1.3 in /home/daniel/miniconda3/lib/python3.8/site-packages (from tensorflow_probability) (2.2.0)\n",
      "Requirement already satisfied: absl-py in /home/daniel/miniconda3/lib/python3.8/site-packages (from tensorflow_probability) (1.2.0)\n",
      "Requirement already satisfied: six>=1.10.0 in /home/daniel/miniconda3/lib/python3.8/site-packages (from tensorflow_probability) (1.12.0)\n",
      "Requirement already satisfied: numpy>=1.13.3 in /home/daniel/miniconda3/lib/python3.8/site-packages (from tensorflow_probability) (1.23.4)\n",
      "Requirement already satisfied: gast>=0.3.2 in /home/daniel/miniconda3/lib/python3.8/site-packages (from tensorflow_probability) (0.5.3)\n",
      "Requirement already satisfied: decorator in /home/daniel/miniconda3/lib/python3.8/site-packages (from tensorflow_probability) (5.1.1)\n",
      "Requirement already satisfied: dm-tree in /home/daniel/miniconda3/lib/python3.8/site-packages (from tensorflow_probability) (0.1.8)\n"
     ]
    }
   ],
   "source": [
    "!pip install ray[rllib] torch\n",
    "!pip install wandb\n",
    "!pip install tensorflow_probability"
   ]
  },
  {
   "cell_type": "code",
   "execution_count": 4,
   "id": "773175aa-0f05-4ed7-80e3-bd401c43d56d",
   "metadata": {
    "collapsed": true,
    "jupyter": {
     "outputs_hidden": true
    },
    "tags": []
   },
   "outputs": [
    {
     "name": "stdout",
     "output_type": "stream",
     "text": [
      "/home/daniel/DARM/darm_mujoco\n",
      "running install\n",
      "/home/daniel/miniconda3/lib/python3.8/site-packages/setuptools/command/install.py:34: SetuptoolsDeprecationWarning: setup.py install is deprecated. Use build and pip and other standards-based tools.\n",
      "  warnings.warn(\n",
      "/home/daniel/miniconda3/lib/python3.8/site-packages/setuptools/command/easy_install.py:144: EasyInstallDeprecationWarning: easy_install command is deprecated. Use build and pip and other standards-based tools.\n",
      "  warnings.warn(\n",
      "running bdist_egg\n",
      "running egg_info\n",
      "writing darm_gym_env.egg-info/PKG-INFO\n",
      "writing dependency_links to darm_gym_env.egg-info/dependency_links.txt\n",
      "writing requirements to darm_gym_env.egg-info/requires.txt\n",
      "writing top-level names to darm_gym_env.egg-info/top_level.txt\n",
      "reading manifest file 'darm_gym_env.egg-info/SOURCES.txt'\n",
      "writing manifest file 'darm_gym_env.egg-info/SOURCES.txt'\n",
      "installing library code to build/bdist.linux-x86_64/egg\n",
      "running install_lib\n",
      "running build_py\n",
      "creating build/bdist.linux-x86_64/egg\n",
      "creating build/bdist.linux-x86_64/egg/darm_gym_env\n",
      "copying build/lib/darm_gym_env/darm_sf_gym.py -> build/bdist.linux-x86_64/egg/darm_gym_env\n",
      "copying build/lib/darm_gym_env/__init__.py -> build/bdist.linux-x86_64/egg/darm_gym_env\n",
      "copying build/lib/darm_gym_env/multi_darm_gym.py -> build/bdist.linux-x86_64/egg/darm_gym_env\n",
      "copying build/lib/darm_gym_env/darm_gym.py -> build/bdist.linux-x86_64/egg/darm_gym_env\n",
      "copying build/lib/darm_gym_env/env_test.py -> build/bdist.linux-x86_64/egg/darm_gym_env\n",
      "byte-compiling build/bdist.linux-x86_64/egg/darm_gym_env/darm_sf_gym.py to darm_sf_gym.cpython-38.pyc\n",
      "byte-compiling build/bdist.linux-x86_64/egg/darm_gym_env/__init__.py to __init__.cpython-38.pyc\n",
      "byte-compiling build/bdist.linux-x86_64/egg/darm_gym_env/multi_darm_gym.py to multi_darm_gym.cpython-38.pyc\n",
      "byte-compiling build/bdist.linux-x86_64/egg/darm_gym_env/darm_gym.py to darm_gym.cpython-38.pyc\n",
      "byte-compiling build/bdist.linux-x86_64/egg/darm_gym_env/env_test.py to env_test.cpython-38.pyc\n",
      "creating build/bdist.linux-x86_64/egg/EGG-INFO\n",
      "copying darm_gym_env.egg-info/PKG-INFO -> build/bdist.linux-x86_64/egg/EGG-INFO\n",
      "copying darm_gym_env.egg-info/SOURCES.txt -> build/bdist.linux-x86_64/egg/EGG-INFO\n",
      "copying darm_gym_env.egg-info/dependency_links.txt -> build/bdist.linux-x86_64/egg/EGG-INFO\n",
      "copying darm_gym_env.egg-info/requires.txt -> build/bdist.linux-x86_64/egg/EGG-INFO\n",
      "copying darm_gym_env.egg-info/top_level.txt -> build/bdist.linux-x86_64/egg/EGG-INFO\n",
      "zip_safe flag not set; analyzing archive contents...\n",
      "darm_gym_env.__pycache__.darm_gym.cpython-38: module references __file__\n",
      "darm_gym_env.__pycache__.multi_darm_gym.cpython-38: module references __file__\n",
      "creating 'dist/darm_gym_env-0.0.1-py3.8.egg' and adding 'build/bdist.linux-x86_64/egg' to it\n",
      "removing 'build/bdist.linux-x86_64/egg' (and everything under it)\n",
      "Processing darm_gym_env-0.0.1-py3.8.egg\n",
      "removing '/home/daniel/miniconda3/lib/python3.8/site-packages/darm_gym_env-0.0.1-py3.8.egg' (and everything under it)\n",
      "creating /home/daniel/miniconda3/lib/python3.8/site-packages/darm_gym_env-0.0.1-py3.8.egg\n",
      "Extracting darm_gym_env-0.0.1-py3.8.egg to /home/daniel/miniconda3/lib/python3.8/site-packages\n",
      "darm-gym-env 0.0.1 is already the active version in easy-install.pth\n",
      "\n",
      "Installed /home/daniel/miniconda3/lib/python3.8/site-packages/darm_gym_env-0.0.1-py3.8.egg\n",
      "Processing dependencies for darm-gym-env==0.0.1\n",
      "Searching for gym==0.21.0\n",
      "Best match: gym 0.21.0\n",
      "Adding gym 0.21.0 to easy-install.pth file\n",
      "\n",
      "Using /home/daniel/miniconda3/lib/python3.8/site-packages\n",
      "Searching for mujoco==2.2.2\n",
      "Best match: mujoco 2.2.2\n",
      "Adding mujoco 2.2.2 to easy-install.pth file\n",
      "\n",
      "Using /home/daniel/miniconda3/lib/python3.8/site-packages\n",
      "Searching for cloudpickle==2.2.0\n",
      "Best match: cloudpickle 2.2.0\n",
      "Adding cloudpickle 2.2.0 to easy-install.pth file\n",
      "\n",
      "Using /home/daniel/miniconda3/lib/python3.8/site-packages\n",
      "Searching for numpy==1.23.4\n",
      "Best match: numpy 1.23.4\n",
      "Adding numpy 1.23.4 to easy-install.pth file\n",
      "Installing f2py script to /home/daniel/miniconda3/bin\n",
      "Installing f2py3 script to /home/daniel/miniconda3/bin\n",
      "Installing f2py3.8 script to /home/daniel/miniconda3/bin\n",
      "\n",
      "Using /home/daniel/miniconda3/lib/python3.8/site-packages\n",
      "Searching for PyOpenGL==3.1.6\n",
      "Best match: PyOpenGL 3.1.6\n",
      "Adding PyOpenGL 3.1.6 to easy-install.pth file\n",
      "\n",
      "Using /home/daniel/miniconda3/lib/python3.8/site-packages\n",
      "Searching for glfw==2.5.5\n",
      "Best match: glfw 2.5.5\n",
      "Adding glfw 2.5.5 to easy-install.pth file\n",
      "\n",
      "Using /home/daniel/miniconda3/lib/python3.8/site-packages\n",
      "Searching for absl-py==1.2.0\n",
      "Best match: absl-py 1.2.0\n",
      "Adding absl-py 1.2.0 to easy-install.pth file\n",
      "\n",
      "Using /home/daniel/miniconda3/lib/python3.8/site-packages\n",
      "Finished processing dependencies for darm-gym-env==0.0.1\n"
     ]
    }
   ],
   "source": [
    "%%bash\n",
    "cd ..\n",
    "python setup.py install"
   ]
  },
  {
   "cell_type": "code",
   "execution_count": null,
   "id": "07e3679f-78c0-46dd-a387-c2b63c39958a",
   "metadata": {},
   "outputs": [],
   "source": [
    "# Check if mujoco import is successful\n",
    "import mujoco"
   ]
  },
  {
   "cell_type": "code",
   "execution_count": null,
   "id": "8e486c3f-2352-4846-8c0f-0933541cf336",
   "metadata": {},
   "outputs": [],
   "source": [
    "# If mujoco import fails, update pandas and restart runtime\n",
    "!pip install pandas -U"
   ]
  },
  {
   "cell_type": "code",
   "execution_count": null,
   "id": "ecdc0754-925b-4829-98ea-23367d3b0fc3",
   "metadata": {},
   "outputs": [],
   "source": [
    "# # If GLFW is absent\n",
    "# %%bash\n",
    "# sudo apt-get install libglfw3 -y\n",
    "# sudo apt-get install libglfw3-dev -y\n",
    "# pip install --user glfw"
   ]
  },
  {
   "cell_type": "code",
   "execution_count": 1,
   "id": "b9c7e52e-b467-4d91-8fe9-d1035e51c932",
   "metadata": {},
   "outputs": [],
   "source": [
    "import ray\n",
    "from ray.rllib.algorithms.sac import SACConfig\n",
    "from ray.tune.registry import register_env\n",
    "from ray.tune.logger import pretty_print\n",
    "\n",
    "from ray import air, tune\n",
    "from ray.air import session\n",
    "from ray.air.integrations.wandb import setup_wandb\n",
    "from ray.air.integrations.wandb import WandbLoggerCallback\n",
    "\n",
    "import gym\n",
    "from darm_gym_env import DARMEnv"
   ]
  },
  {
   "cell_type": "markdown",
   "id": "bec813f2-af0d-4011-b168-ebb49c32acd6",
   "metadata": {},
   "source": [
    "### TODO:\n",
    "    - Change single_finger=False (In env register and config)\n",
    "    - Change run_local_dir\n",
    "    - Change run name, notes, and tags"
   ]
  },
  {
   "cell_type": "markdown",
   "id": "56f0ddd0-d833-4494-9ca4-d9c6f72cae32",
   "metadata": {},
   "source": [
    "## Register Environment with RLlib"
   ]
  },
  {
   "cell_type": "code",
   "execution_count": 2,
   "id": "0ee4bf2a-d82c-4aaa-b278-f11a080e28af",
   "metadata": {},
   "outputs": [],
   "source": [
    "def make_env(env_config):\n",
    "    env = gym.wrappers.TimeLimit(env=DARMEnv(render_mode=None, action_time=0.08, hand_name=\"hand1\", single_finger_env=False), max_episode_steps=200)\n",
    "    env = gym.wrappers.TransformObservation(env, lambda obs: obs*100)\n",
    "    return env\n",
    "\n",
    "env_creator = lambda env_config: make_env(env_config)\n",
    "register_env(\"darm/DarmHand-v0\", env_creator)"
   ]
  },
  {
   "cell_type": "markdown",
   "id": "049729f3-c175-4d9c-b449-43af66f121a5",
   "metadata": {},
   "source": [
    "## Configure Run"
   ]
  },
  {
   "cell_type": "code",
   "execution_count": 5,
   "id": "4a0ed8ba-4f6b-47f9-b0e7-37d0eec71647",
   "metadata": {
    "tags": []
   },
   "outputs": [],
   "source": [
    "# TODO:\n",
    "# change: rollout_workers\n",
    "# change: gpu\n",
    "\n",
    "config = (\n",
    "    SACConfig()\n",
    "    .environment(\n",
    "        env=\"darm/DarmHand-v0\",\n",
    "        normalize_actions=True\n",
    "    )\n",
    "    .training(\n",
    "        q_model_config={\n",
    "            \"fcnet_activation\": \"relu\",\n",
    "            \"fcnet_hiddens\": [128, 256, 256, 128] # [256, 256]\n",
    "        },\n",
    "        policy_model_config={\n",
    "            \"fcnet_activation\": \"relu\",\n",
    "            \"fcnet_hiddens\": [128, 256, 256, 128] # [256, 256]\n",
    "        },\n",
    "        tau=0.005,\n",
    "        target_entropy=\"auto\",\n",
    "        n_step=1,  # num of SGD steps per batch of data in training step\n",
    "        train_batch_size=256,\n",
    "        target_network_update_freq=1,\n",
    "        replay_buffer_config={\"type\":\"MultiAgentPrioritizedReplayBuffer\"},\n",
    "        num_steps_sampled_before_learning_starts=40_000, # timesteps (transitions)\n",
    "        optimization_config={\n",
    "          \"actor_learning_rate\": 0.0003,\n",
    "          \"critic_learning_rate\": 0.0003,\n",
    "          \"entropy_learning_rate\": 0.0003,\n",
    "        },\n",
    "        clip_actions=False\n",
    "    )\n",
    "    .rollouts(\n",
    "        num_rollout_workers=3,\n",
    "        num_envs_per_worker=1,\n",
    "        rollout_fragment_length=1,\n",
    "        recreate_failed_workers=True,\n",
    "        num_consecutive_worker_failures_tolerance=10,\n",
    "        restart_failed_sub_environments=True,\n",
    "        # batch_mode=\"complete_episodes\"\n",
    "    )\n",
    "    .resources(num_gpus=0)\n",
    "    .evaluation(evaluation_interval=100) # Training iterations\n",
    "    .reporting(\n",
    "        min_sample_timesteps_per_iteration=1000,\n",
    "        metrics_num_episodes_for_smoothing=5\n",
    "    )\n",
    "    .framework(framework=\"torch\")\n",
    ")"
   ]
  },
  {
   "cell_type": "code",
   "execution_count": 6,
   "id": "46f0fa8e-5023-44c3-a9f7-8a6b041617a2",
   "metadata": {},
   "outputs": [],
   "source": [
    "# TODO:\n",
    "# change: run name\n",
    "# change: notes\n",
    "# change: tags\n",
    "# change: wandb config\n",
    "\n",
    "run_name = \"test1_MF_RLlib_SAC (done_all)\"\n",
    "\n",
    "notes = \"\"\"\n",
    "- The environment was updated such that the target is within a range from the start point\n",
    "- Velocity penalty was removed and only effort penalty was used\n",
    "- The reward function was updated according to the reach task reward used in facebookresearch/myosuite [https://github.com/facebookresearch/myosuite/blob/main/myosuite/envs/myo/reach_v0.py]\n",
    "- The done signal is trigerred only when the fingertip goes beyond a threshold. The episode continues to the maximum timestep otherwise.\n",
    "- The friction and damping coefficient of the environment is updated. Values are inspired from Deepmind's Mujoco Menagerie [https://github.com/deepmind/mujoco_menagerie/blob/main/shadow_hand/right_hand.xml]\n",
    "- The range of action from the model was changed to [-1, 1]. This action is mapped to the actual action sent to mujoco e.g [0, 2]]. This change is inspired from values used in OpenAI's Gym Mujoco environments.\n",
    "- max_episode_steps was updated to 200.\n",
    "- Velocity vector (size [3,]) was added to observation. Observation size is now (9,)\n",
    "- Action range was increased to [0, 5]\n",
    "- Observation warpper to scale observation from m and m/s to cm and cm/s was applied\n",
    "- Max Tension for Digitorum Extensor Communis was increased to 10\n",
    "- FIXED: Velocity Observation from (prev_pos - new_pos)/time to (new_pos - prev_pos)/time\n",
    "- FIXED: Removed weight of 1 from 'sparse', 'solved', and 'done' in reward weighting\n",
    "- Reduced max_target_th to 5*0.004, 20 mm\n",
    "- Changed done signal to be trigerred only when all fingers have exceeded the max_threshold\n",
    "- Updated the penalty reward weight to 1 (from 50) for the `done_all` behaviour\n",
    "\n",
    "- Five-Fingers; No Wrist Environment\n",
    "- This run was trained on vast_ai using RLlib's SAC algo.\n",
    "\"\"\"\n",
    "\n",
    "tags = [\"five_fingers\", \"done_all\" \"sac\", \"rllib\", \"vast_ai\"]\n",
    "\n",
    "\n",
    "\n",
    "wandb_init = dict(\n",
    "    save_code=True,\n",
    "    resume=True,\n",
    "    config={\n",
    "        \"env\": config.env,\n",
    "        \"num_rollout_workers\": config.num_rollout_workers,\n",
    "        \"num_envs_per_worker\": config.num_envs_per_worker,\n",
    "        \"recreate_failed_workers\": config.recreate_failed_workers,\n",
    "        \"num_consecutive_worker_failures_tolerance\": config.num_consecutive_worker_failures_tolerance,\n",
    "        \"restart_failed_sub_environments\": config.restart_failed_sub_environments,\n",
    "        \"num_gpus\": config.num_gpus,\n",
    "        \"framework\": config.framework_str,\n",
    "        \n",
    "        \"stop_episode_reward_mean\": 1_300,\n",
    "        \"run_local_dir\": f\"{os.getenv('DARM_MUJOCO_PATH')}/darm_training/results/darm_mf_hand\",\n",
    "        \n",
    "        \"checkpoint_at_end\": True,\n",
    "        \"checkpoint_score_attribute\": \"episode_reward_mean\",  # or leave to save last chkpts\n",
    "        \"checkpoint_score_order\": \"max\",\n",
    "        \"checkpoint_frequency\": 10,   # iterations\n",
    "        \"num_checkpoints_to_keep\": 3,\n",
    "        \"save_checkpoints_to_wandb\": True\n",
    "    },\n",
    "    tags=tags,\n",
    "    notes=notes,\n",
    "    name=run_name\n",
    "    # job_type=\n",
    "    # monitor_gym=\n",
    ")"
   ]
  },
  {
   "cell_type": "code",
   "execution_count": 7,
   "id": "6d7468b3-f377-4c7f-a0c3-6dec032fdc37",
   "metadata": {},
   "outputs": [
    {
     "name": "stdout",
     "output_type": "stream",
     "text": [
      "[Errno 2] No such file or directory: '/home/daniel/DARM/darm-mujoco/darm_training/'\n",
      "/home/daniel/DARM/darm_mujoco/darm_training\n"
     ]
    }
   ],
   "source": [
    "!pwd"
   ]
  },
  {
   "cell_type": "markdown",
   "id": "becce66d-f166-42e0-9ca5-d044260bcb3d",
   "metadata": {},
   "source": [
    "## Run"
   ]
  },
  {
   "cell_type": "code",
   "execution_count": 8,
   "id": "727ee5b8-0cc3-4831-91ee-34514946c66a",
   "metadata": {
    "tags": []
   },
   "outputs": [
    {
     "name": "stderr",
     "output_type": "stream",
     "text": [
      "2023-03-04 22:05:16,324\tINFO worker.py:1538 -- Started a local Ray instance.\n"
     ]
    },
    {
     "data": {
      "text/html": [
       "<div class=\"tuneStatus\">\n",
       "  <div style=\"display: flex;flex-direction: row\">\n",
       "    <div style=\"display: flex;flex-direction: column;\">\n",
       "      <h3>Tune Status</h3>\n",
       "      <table>\n",
       "<tbody>\n",
       "<tr><td>Current time:</td><td>2023-03-04 22:13:18</td></tr>\n",
       "<tr><td>Running for: </td><td>00:08:00.60        </td></tr>\n",
       "<tr><td>Memory:      </td><td>5.5/7.5 GiB        </td></tr>\n",
       "</tbody>\n",
       "</table>\n",
       "    </div>\n",
       "    <div class=\"vDivider\"></div>\n",
       "    <div class=\"systemInfo\">\n",
       "      <h3>System Info</h3>\n",
       "      Using FIFO scheduling algorithm.<br>Resources requested: 4.0/4 CPUs, 0/0 GPUs, 0.0/2.59 GiB heap, 0.0/1.29 GiB objects\n",
       "    </div>\n",
       "    \n",
       "  </div>\n",
       "  <div class=\"hDivider\"></div>\n",
       "  <div class=\"trialStatus\">\n",
       "    <h3>Trial Status</h3>\n",
       "    <table>\n",
       "<thead>\n",
       "<tr><th>Trial name                      </th><th>status  </th><th>loc               </th><th style=\"text-align: right;\">  iter</th><th style=\"text-align: right;\">  total time (s)</th><th style=\"text-align: right;\">   ts</th><th style=\"text-align: right;\">  reward</th><th style=\"text-align: right;\">  episode_reward_max</th><th style=\"text-align: right;\">  episode_reward_min</th><th style=\"text-align: right;\">  episode_len_mean</th></tr>\n",
       "</thead>\n",
       "<tbody>\n",
       "<tr><td>SAC_darm_DarmHand-v0_441d8_00000</td><td>RUNNING </td><td>192.168.93.36:8473</td><td style=\"text-align: right;\">    24</td><td style=\"text-align: right;\">         448.089</td><td style=\"text-align: right;\">24048</td><td style=\"text-align: right;\">-11.3509</td><td style=\"text-align: right;\">            -1.72362</td><td style=\"text-align: right;\">            -38.8535</td><td style=\"text-align: right;\">           2.39524</td></tr>\n",
       "</tbody>\n",
       "</table>\n",
       "  </div>\n",
       "</div>\n",
       "<style>\n",
       ".tuneStatus {\n",
       "  color: var(--jp-ui-font-color1);\n",
       "}\n",
       ".tuneStatus .systemInfo {\n",
       "  display: flex;\n",
       "  flex-direction: column;\n",
       "}\n",
       ".tuneStatus td {\n",
       "  white-space: nowrap;\n",
       "}\n",
       ".tuneStatus .trialStatus {\n",
       "  display: flex;\n",
       "  flex-direction: column;\n",
       "}\n",
       ".tuneStatus h3 {\n",
       "  font-weight: bold;\n",
       "}\n",
       ".tuneStatus .hDivider {\n",
       "  border-bottom-width: var(--jp-border-width);\n",
       "  border-bottom-color: var(--jp-border-color0);\n",
       "  border-bottom-style: solid;\n",
       "}\n",
       ".tuneStatus .vDivider {\n",
       "  border-left-width: var(--jp-border-width);\n",
       "  border-left-color: var(--jp-border-color0);\n",
       "  border-left-style: solid;\n",
       "  margin: 0.5em 1em 0.5em 1em;\n",
       "}\n",
       "</style>\n"
      ],
      "text/plain": [
       "<IPython.core.display.HTML object>"
      ]
     },
     "metadata": {},
     "output_type": "display_data"
    },
    {
     "name": "stderr",
     "output_type": "stream",
     "text": [
      "\u001b[2m\u001b[36m(SAC pid=8473)\u001b[0m 2023-03-04 22:05:22,284\tWARNING algorithm_config.py:488 -- Cannot create SACConfig from given `config_dict`! Property __stdout_file__ not supported.\n",
      "\u001b[2m\u001b[36m(SAC pid=8473)\u001b[0m 2023-03-04 22:05:22,519\tINFO algorithm.py:501 -- Current log_level is WARN. For more information, set 'log_level': 'INFO' / 'DEBUG' or use the -v and -vv flags.\n",
      "\u001b[34m\u001b[1mwandb\u001b[0m: Currently logged in as: \u001b[33mdanieladejumo\u001b[0m. Use \u001b[1m`wandb login --relogin`\u001b[0m to force relogin\n",
      "\u001b[2m\u001b[33m(raylet)\u001b[0m [2023-03-04 22:05:25,218 E 8212 8264] (raylet) file_system_monitor.cc:105: /tmp/ray/session_2023-03-04_22-05-12_873660_8091 is over 95% full, available space: 309374976; capacity: 31845081088. Object creation will fail if spilling is required.\n"
     ]
    },
    {
     "name": "stdout",
     "output_type": "stream",
     "text": [
      "\u001b[2m\u001b[36m(RolloutWorker pid=8578)\u001b[0m Loaded XML file successfully\n",
      "\u001b[2m\u001b[36m(RolloutWorker pid=8579)\u001b[0m Loaded XML file successfully\n",
      "\u001b[2m\u001b[36m(RolloutWorker pid=8577)\u001b[0m Loaded XML file successfully\n"
     ]
    },
    {
     "name": "stderr",
     "output_type": "stream",
     "text": [
      "\u001b[2m\u001b[36m(RolloutWorker pid=8578)\u001b[0m /home/daniel/miniconda3/lib/python3.8/site-packages/gym/spaces/box.py:73: UserWarning: \u001b[33mWARN: Box bound precision lowered by casting to float32\u001b[0m\n",
      "\u001b[2m\u001b[36m(RolloutWorker pid=8578)\u001b[0m   logger.warn(\n",
      "\u001b[2m\u001b[36m(RolloutWorker pid=8578)\u001b[0m /home/daniel/miniconda3/lib/python3.8/site-packages/numpy/core/fromnumeric.py:86: VisibleDeprecationWarning: Creating an ndarray from ragged nested sequences (which is a list-or-tuple of lists-or-tuples-or ndarrays with different lengths or shapes) is deprecated. If you meant to do this, you must specify 'dtype=object' when creating the ndarray.\n",
      "\u001b[2m\u001b[36m(RolloutWorker pid=8578)\u001b[0m   return ufunc.reduce(obj, axis, dtype, out, **passkwargs)\n",
      "\u001b[2m\u001b[36m(RolloutWorker pid=8579)\u001b[0m /home/daniel/miniconda3/lib/python3.8/site-packages/gym/spaces/box.py:73: UserWarning: \u001b[33mWARN: Box bound precision lowered by casting to float32\u001b[0m\n",
      "\u001b[2m\u001b[36m(RolloutWorker pid=8579)\u001b[0m   logger.warn(\n",
      "\u001b[2m\u001b[36m(RolloutWorker pid=8579)\u001b[0m /home/daniel/miniconda3/lib/python3.8/site-packages/numpy/core/fromnumeric.py:86: VisibleDeprecationWarning: Creating an ndarray from ragged nested sequences (which is a list-or-tuple of lists-or-tuples-or ndarrays with different lengths or shapes) is deprecated. If you meant to do this, you must specify 'dtype=object' when creating the ndarray.\n",
      "\u001b[2m\u001b[36m(RolloutWorker pid=8579)\u001b[0m   return ufunc.reduce(obj, axis, dtype, out, **passkwargs)\n",
      "\u001b[2m\u001b[36m(RolloutWorker pid=8577)\u001b[0m /home/daniel/miniconda3/lib/python3.8/site-packages/gym/spaces/box.py:73: UserWarning: \u001b[33mWARN: Box bound precision lowered by casting to float32\u001b[0m\n",
      "\u001b[2m\u001b[36m(RolloutWorker pid=8577)\u001b[0m   logger.warn(\n",
      "\u001b[2m\u001b[36m(RolloutWorker pid=8577)\u001b[0m 2023-03-04 22:05:31,654\tWARNING env.py:147 -- Your env doesn't have a .spec.max_episode_steps attribute. This is fine if you have set 'horizon' in your config dictionary, or `soft_horizon`. However, if you haven't, 'horizon' will default to infinity, and your environment will not be reset.\n",
      "\u001b[2m\u001b[36m(RolloutWorker pid=8577)\u001b[0m /home/daniel/miniconda3/lib/python3.8/site-packages/numpy/core/fromnumeric.py:86: VisibleDeprecationWarning: Creating an ndarray from ragged nested sequences (which is a list-or-tuple of lists-or-tuples-or ndarrays with different lengths or shapes) is deprecated. If you meant to do this, you must specify 'dtype=object' when creating the ndarray.\n",
      "\u001b[2m\u001b[36m(RolloutWorker pid=8577)\u001b[0m   return ufunc.reduce(obj, axis, dtype, out, **passkwargs)\n"
     ]
    },
    {
     "name": "stdout",
     "output_type": "stream",
     "text": [
      "\u001b[2m\u001b[36m(SAC pid=8473)\u001b[0m Loaded XML file successfully\n"
     ]
    },
    {
     "name": "stderr",
     "output_type": "stream",
     "text": [
      "\u001b[2m\u001b[36m(SAC pid=8473)\u001b[0m /home/daniel/miniconda3/lib/python3.8/site-packages/gym/spaces/box.py:73: UserWarning: \u001b[33mWARN: Box bound precision lowered by casting to float32\u001b[0m\n",
      "\u001b[2m\u001b[36m(SAC pid=8473)\u001b[0m   logger.warn(\n",
      "\u001b[2m\u001b[36m(SAC pid=8473)\u001b[0m 2023-03-04 22:05:33,864\tWARNING env.py:147 -- Your env doesn't have a .spec.max_episode_steps attribute. This is fine if you have set 'horizon' in your config dictionary, or `soft_horizon`. However, if you haven't, 'horizon' will default to infinity, and your environment will not be reset.\n",
      "\u001b[2m\u001b[36m(SAC pid=8473)\u001b[0m /home/daniel/miniconda3/lib/python3.8/site-packages/numpy/core/fromnumeric.py:86: VisibleDeprecationWarning: Creating an ndarray from ragged nested sequences (which is a list-or-tuple of lists-or-tuples-or ndarrays with different lengths or shapes) is deprecated. If you meant to do this, you must specify 'dtype=object' when creating the ndarray.\n",
      "\u001b[2m\u001b[36m(SAC pid=8473)\u001b[0m   return ufunc.reduce(obj, axis, dtype, out, **passkwargs)\n",
      "\u001b[2m\u001b[36m(SAC pid=8473)\u001b[0m 2023-03-04 22:05:33,954\tINFO trainable.py:172 -- Trainable.setup took 11.436 seconds. If your trainable is slow to initialize, consider setting reuse_actors=True to reduce actor creation overheads.\n",
      "\u001b[2m\u001b[36m(SAC pid=8473)\u001b[0m 2023-03-04 22:05:33,954\tWARNING util.py:66 -- Install gputil for GPU system monitoring.\n",
      "\u001b[2m\u001b[36m(RolloutWorker pid=8578)\u001b[0m /home/daniel/miniconda3/lib/python3.8/site-packages/numpy/core/fromnumeric.py:86: VisibleDeprecationWarning: Creating an ndarray from ragged nested sequences (which is a list-or-tuple of lists-or-tuples-or ndarrays with different lengths or shapes) is deprecated. If you meant to do this, you must specify 'dtype=object' when creating the ndarray.\n",
      "\u001b[2m\u001b[36m(RolloutWorker pid=8578)\u001b[0m   return ufunc.reduce(obj, axis, dtype, out, **passkwargs)\n",
      "\u001b[2m\u001b[36m(RolloutWorker pid=8579)\u001b[0m /home/daniel/miniconda3/lib/python3.8/site-packages/numpy/core/fromnumeric.py:86: VisibleDeprecationWarning: Creating an ndarray from ragged nested sequences (which is a list-or-tuple of lists-or-tuples-or ndarrays with different lengths or shapes) is deprecated. If you meant to do this, you must specify 'dtype=object' when creating the ndarray.\n",
      "\u001b[2m\u001b[36m(RolloutWorker pid=8579)\u001b[0m   return ufunc.reduce(obj, axis, dtype, out, **passkwargs)\n",
      "\u001b[2m\u001b[36m(RolloutWorker pid=8577)\u001b[0m /home/daniel/miniconda3/lib/python3.8/site-packages/numpy/core/fromnumeric.py:86: VisibleDeprecationWarning: Creating an ndarray from ragged nested sequences (which is a list-or-tuple of lists-or-tuples-or ndarrays with different lengths or shapes) is deprecated. If you meant to do this, you must specify 'dtype=object' when creating the ndarray.\n",
      "\u001b[2m\u001b[36m(RolloutWorker pid=8577)\u001b[0m   return ufunc.reduce(obj, axis, dtype, out, **passkwargs)\n",
      "\u001b[2m\u001b[36m(SAC pid=8473)\u001b[0m 2023-03-04 22:05:34,341\tWARNING multi_agent_prioritized_replay_buffer.py:215 -- Adding batches with column `weights` to this buffer while providing weights as a call argument to the add method results in the column being overwritten.\n",
      "\u001b[2m\u001b[33m(raylet)\u001b[0m [2023-03-04 22:05:35,226 E 8212 8264] (raylet) file_system_monitor.cc:105: /tmp/ray/session_2023-03-04_22-05-12_873660_8091 is over 95% full, available space: 309395456; capacity: 31845081088. Object creation will fail if spilling is required.\n"
     ]
    },
    {
     "data": {
      "text/html": [
       "Tracking run with wandb version 0.13.10"
      ],
      "text/plain": [
       "<IPython.core.display.HTML object>"
      ]
     },
     "metadata": {},
     "output_type": "display_data"
    },
    {
     "data": {
      "text/html": [
       "Run data is saved locally in <code>/home/daniel/DARM/darm_mujoco/darm_training/results/darm_mf_hand/test1_MF_RLlib_SAC (done_all)/SAC_darm_DarmHand-v0_441d8_00000_0_2023-03-04_22-05-17/wandb/run-20230304_220523-441d8_00000</code>"
      ],
      "text/plain": [
       "<IPython.core.display.HTML object>"
      ]
     },
     "metadata": {},
     "output_type": "display_data"
    },
    {
     "data": {
      "text/html": [
       "Syncing run <strong><a href='https://wandb.ai/danieladejumo/DARM/runs/441d8_00000' target=\"_blank\">test1_MF_RLlib_SAC (done_all)</a></strong> to <a href='https://wandb.ai/danieladejumo/DARM' target=\"_blank\">Weights & Biases</a> (<a href='https://wandb.me/run' target=\"_blank\">docs</a>)<br/>"
      ],
      "text/plain": [
       "<IPython.core.display.HTML object>"
      ]
     },
     "metadata": {},
     "output_type": "display_data"
    },
    {
     "data": {
      "text/html": [
       " View project at <a href='https://wandb.ai/danieladejumo/DARM' target=\"_blank\">https://wandb.ai/danieladejumo/DARM</a>"
      ],
      "text/plain": [
       "<IPython.core.display.HTML object>"
      ]
     },
     "metadata": {},
     "output_type": "display_data"
    },
    {
     "data": {
      "text/html": [
       " View run at <a href='https://wandb.ai/danieladejumo/DARM/runs/441d8_00000' target=\"_blank\">https://wandb.ai/danieladejumo/DARM/runs/441d8_00000</a>"
      ],
      "text/plain": [
       "<IPython.core.display.HTML object>"
      ]
     },
     "metadata": {},
     "output_type": "display_data"
    },
    {
     "name": "stderr",
     "output_type": "stream",
     "text": [
      "\u001b[2m\u001b[33m(raylet)\u001b[0m [2023-03-04 22:05:45,238 E 8212 8264] (raylet) file_system_monitor.cc:105: /tmp/ray/session_2023-03-04_22-05-12_873660_8091 is over 95% full, available space: 301801472; capacity: 31845081088. Object creation will fail if spilling is required.\n"
     ]
    },
    {
     "data": {
      "text/html": [
       "<div class=\"trialProgress\">\n",
       "  <h3>Trial Progress</h3>\n",
       "  <table>\n",
       "<thead>\n",
       "<tr><th>Trial name                      </th><th style=\"text-align: right;\">  agent_timesteps_total</th><th>counters                                                                                                                    </th><th>custom_metrics  </th><th>date               </th><th>done  </th><th style=\"text-align: right;\">  episode_len_mean</th><th>episode_media  </th><th style=\"text-align: right;\">  episode_reward_max</th><th style=\"text-align: right;\">  episode_reward_mean</th><th style=\"text-align: right;\">  episode_reward_min</th><th style=\"text-align: right;\">  episodes_this_iter</th><th style=\"text-align: right;\">  episodes_total</th><th>experiment_id                   </th><th>hostname  </th><th>info                                                                                                                                       </th><th style=\"text-align: right;\">  iterations_since_restore</th><th>node_ip      </th><th style=\"text-align: right;\">  num_agent_steps_sampled</th><th style=\"text-align: right;\">  num_agent_steps_trained</th><th style=\"text-align: right;\">  num_env_steps_sampled</th><th style=\"text-align: right;\">  num_env_steps_sampled_this_iter</th><th style=\"text-align: right;\">  num_env_steps_trained</th><th style=\"text-align: right;\">  num_env_steps_trained_this_iter</th><th style=\"text-align: right;\">  num_faulty_episodes</th><th style=\"text-align: right;\">  num_healthy_workers</th><th style=\"text-align: right;\">  num_in_flight_async_reqs</th><th style=\"text-align: right;\">  num_remote_worker_restarts</th><th style=\"text-align: right;\">  num_steps_trained_this_iter</th><th>perf                                                  </th><th style=\"text-align: right;\">  pid</th><th>policy_reward_max  </th><th>policy_reward_mean  </th><th>policy_reward_min  </th><th>sampler_perf                                                                                                                                                                                                    </th><th>sampler_results                                                                                                                                                                                                                                                                                                                                                                                                                                                                                                                                                                                                                                                                                                                                                                                                                                                                                                                                                                                                                                                                                                                                                                                                                                                                                                                                                                                                                                                                                                                                                                                                                                                                                                                                                                                                                                                                                                                                                                                                                                                                                                                                                                                                                                                                                                                                                                                                                                                                                                                                                                                                                                                                                                                                                                                                                                                                                                                                                                                                                                                                                                                                                                                                                                                                                                                                                                                                                                                                                                                                                                                                                                                                                                                                                                                                                                                                                                                                                                                                                                                                                                                                                                                                                                                                                                                                                                                                                                                                                                                                                                                                                                                                                                                                                                                                                                                                                                                                                                                                                                                                                                                                                                                                                                                                                                                                                                                                                                                                                                                                                                                                                                                                                                                                                                                                                                                                                                                                                                                                                                                                                                                                                                                                                                                                                                                                                                                                                                                                                                                                                                                                                                                                                                                                                                                                                                                                                                                                                                                                                                                                                                                                                                                                                                                                                                                                                                                                                                                                                                                                                                                                                                                                                                                                                                                                                                                                                                                                                                                                                                                                                                                                                                                                                                                                                                                                                                                                                                                                                                                                                                                                                                                                                                                                                                                                                                                                                                                                                                                                                                                                                                                                                                                                                                                                                                                                                                                                                                                                                                                                                                                                                                                                                                                                                                                                                                                                                                                                                                                                                                                                                                                                                                                                                                                                                                                                                                                                                                                                                                                                                                                                                                                                                                                                                                                             </th><th style=\"text-align: right;\">  time_since_restore</th><th style=\"text-align: right;\">  time_this_iter_s</th><th style=\"text-align: right;\">  time_total_s</th><th>timers                                </th><th style=\"text-align: right;\">  timestamp</th><th style=\"text-align: right;\">  timesteps_since_restore</th><th style=\"text-align: right;\">  timesteps_total</th><th style=\"text-align: right;\">  training_iteration</th><th>trial_id   </th><th style=\"text-align: right;\">  warmup_time</th></tr>\n",
       "</thead>\n",
       "<tbody>\n",
       "<tr><td>SAC_darm_DarmHand-v0_441d8_00000</td><td style=\"text-align: right;\">                  24048</td><td>{&#x27;num_env_steps_sampled&#x27;: 24048, &#x27;num_env_steps_trained&#x27;: 0, &#x27;num_agent_steps_sampled&#x27;: 24048, &#x27;num_agent_steps_trained&#x27;: 0}</td><td>{}              </td><td>2023-03-04_22-13-03</td><td>False </td><td style=\"text-align: right;\">           2.39524</td><td>{}             </td><td style=\"text-align: right;\">            -1.72362</td><td style=\"text-align: right;\">             -11.3509</td><td style=\"text-align: right;\">            -38.8535</td><td style=\"text-align: right;\">                 420</td><td style=\"text-align: right;\">            9932</td><td>e3f595c5d2ba460d86c03634807ab0fd</td><td>Daniel    </td><td>{&#x27;learner&#x27;: {}, &#x27;num_env_steps_sampled&#x27;: 24048, &#x27;num_env_steps_trained&#x27;: 0, &#x27;num_agent_steps_sampled&#x27;: 24048, &#x27;num_agent_steps_trained&#x27;: 0}</td><td style=\"text-align: right;\">                        24</td><td>192.168.93.36</td><td style=\"text-align: right;\">                    24048</td><td style=\"text-align: right;\">                        0</td><td style=\"text-align: right;\">                  24048</td><td style=\"text-align: right;\">                             1002</td><td style=\"text-align: right;\">                      0</td><td style=\"text-align: right;\">                                0</td><td style=\"text-align: right;\">                    0</td><td style=\"text-align: right;\">                    3</td><td style=\"text-align: right;\">                         0</td><td style=\"text-align: right;\">                           0</td><td style=\"text-align: right;\">                            0</td><td>{&#x27;cpu_util_percent&#x27;: 70.3, &#x27;ram_util_percent&#x27;: 73.824}</td><td style=\"text-align: right;\"> 8473</td><td>{}                 </td><td>{}                  </td><td>{}                 </td><td>{&#x27;mean_raw_obs_processing_ms&#x27;: 1.7310121185639078, &#x27;mean_inference_ms&#x27;: 2.7685341099785785, &#x27;mean_action_processing_ms&#x27;: 0.24416055035653292, &#x27;mean_env_wait_ms&#x27;: 38.429847638479295, &#x27;mean_env_render_ms&#x27;: 0.0}</td><td>{&#x27;episode_reward_max&#x27;: -1.72362071596495, &#x27;episode_reward_min&#x27;: -38.85352224854191, &#x27;episode_reward_mean&#x27;: -11.350921100289094, &#x27;episode_len_mean&#x27;: 2.395238095238095, &#x27;episode_media&#x27;: {}, &#x27;episodes_this_iter&#x27;: 420, &#x27;policy_reward_min&#x27;: {}, &#x27;policy_reward_max&#x27;: {}, &#x27;policy_reward_mean&#x27;: {}, &#x27;custom_metrics&#x27;: {}, &#x27;hist_stats&#x27;: {&#x27;episode_reward&#x27;: [-10.245991080144384, -8.547734768318819, -9.432476686886917, -30.193930365564547, -10.073309502371437, -8.56415075699751, -8.480237826561648, -8.566435377292052, -6.952581825903833, -8.478006493090598, -15.352389314576442, -9.276726401995333, -8.479707242619693, -6.878436014124647, -7.973921682483152, -9.496301983182564, -6.254664882306285, -9.434364837867987, -6.226498639613418, -19.373562580067446, -8.562920120434603, -8.567117424303692, -20.175399000547745, -14.714355428969931, -18.63369893661234, -10.170108074891656, -6.874345761464333, -7.094541284130978, -10.171469597000128, -9.449129726601873, -9.423905118030063, -6.14488959648396, -17.907114743045494, -20.172734057909043, -10.171784394134484, -20.17092758881772, -7.67445771446288, -8.559190325686503, -7.7399063561637576, -10.176623308810713, -13.834490289720431, -6.1491097823153105, -10.159657910813271, -6.9400469004994365, -13.037352761038782, -17.7688374053206, -18.578464577508196, -8.554334535883207, -8.552009024227123, -16.155354487640924, -8.47948558679048, -18.54666330725534, -5.337101622260864, -18.66223141889287, -8.475691910405383, -6.166989986260496, -5.355283063716729, -19.361340429778064, -8.64759129881985, -30.20164884700625, -18.562440780618324, -7.744460658730951, -15.431192111333328, -3.17349853904721, -7.826758418305063, -7.7572994073549175, -7.052135277116246, -6.127036395020221, -8.550346066997095, -8.64464344847958, -13.80614462048766, -3.2118033476655485, -7.11486921497155, -7.754984263548274, -6.87964463971832, -8.649534362290655, -6.31912995332605, -5.34569196436833, -19.363457287421696, -9.283828369230964, -17.051124359822065, -17.032569895194957, -17.756633779327174, -10.088552729728757, -8.564102494238906, -9.435613340682256, -6.962382215721004, -7.6728882170723605, -7.050245648274552, -27.762522400428995, -8.556480706034941, -17.91440243841104, -8.562233039939505, -10.256779755877231, -7.67980938455122, -10.073326932418608, -7.856093506537468, -9.36439470014452, -9.279281483792076, -18.57293556671934, -8.644786244925518, -6.311437677903491, -18.56390729928166, -9.360157760080288, -18.710760995967327, -17.829384838972803, -7.748965670324662, -8.479319930705234, -5.448978570794594, -10.170818177763064, -20.271203781056272, -7.764163366622569, -7.760337878705135, -8.554795805808197, -7.743536849990398, -8.56579234655459, -18.56930795458686, -9.368540609960974, -29.37571875277647, -7.831428226949152, -10.083579350432158, -10.240651620994141, -10.087734142148152, -20.17619623460324, -8.548642378524406, -18.576058119251908, -10.178564871175526, -19.38029422384145, -10.16950715457368, -9.283630771722763, -17.769268760099237, -18.63670052528408, -9.279458021354987, -8.483879229259058, -6.149987033605681, -9.3699970168375, -19.35765525181303, -17.122577416688497, -6.148340869686653, -8.479523728550824, -9.62525812206577, -10.169177805653447, -9.29540116864736, -8.562693370458087, -10.083950229186225, -20.240996161479394, -7.768934926719619, -8.572274151141293, -18.795013525714065, -17.77522696613029, -9.270354065055594, -5.3419789249309915, -5.4343965556097125, -6.136672195342161, -7.039044892359543, -10.085211040365873, -16.973963480843565, -8.628351022873161, -6.949972260499814, -19.466273599181584, -18.65162192827899, -16.231113744778412, -6.959218983570343, -8.052674545443265, -10.16868358513125, -8.655750747116201, -10.155990919627857, -8.555058217174121, -7.831950736036273, -9.287765328585092, -18.577744455716882, -6.957462143631568, -19.376174574934026, -8.47014833993822, -10.087524476169696, -9.441797063136256, -8.36027410681623, -19.37126602947628, -10.092547996596057, -19.374927528657572, -8.558183859554818, -10.080634972962821, -20.153380579471758, -13.189925144742421, -20.26407542986189, -9.3624731317662, -10.086737384053302, -8.479882755715895, -7.822588757227888, -10.149365379592238, -7.741280055693386, -5.576263098770758, -10.16546152989559, -9.34778795141966, -19.3576947626475, -8.484163241951322, -6.220885091522396, -8.479977717786708, -7.03887347319789, -28.71408614218094, -9.427969762998023, -16.955418309094785, -6.947928598908286, -9.357118301737252, -9.51102169610295, -8.566313921941472, -7.75682586387744, -7.026973450167676, -7.7509884912044384, -9.456978418174318, -8.555880351567943, -4.615067930853334, -11.762654311120947, -9.447941868394903, -6.2422913578424755, -2.3232066353040253, -7.910443466681077, -16.982695645105114, -16.312633883116458, -19.366442257529158, -8.57765016813692, -6.137433337139986, -16.967731903381342, -10.154293503010367, -20.160552246178092, -7.6840033166906405, -18.71970441338924, -17.852258679161388, -6.226403779374798, -18.56464840459407, -10.089519169295652, -7.036359861897987, -10.16748533967374, -7.976104257670995, -10.245953814085276, -20.155917448766125, -18.581617267966763, -8.564991640577514, -8.476578384873202, -18.646215255741794, -6.319931438717303, -30.187165237252653, -10.081121648630305, -5.507412975770798, -10.168541806451698, -6.219860587813267, -10.086115692633097, -10.1692754076098, -7.035261572009135, -18.56486301870453, -9.363309741324228, -6.232388849566779, -4.624578221814368, -10.182905696545241, -9.29289022599403, -10.159863054384173, -9.35846177129209, -9.38837941671737, -9.353594352673083, -7.120943826432337, -8.481666005837434, -27.05874654075968, -17.04482919226417, -3.840553343092667, -10.08224008539047, -20.177101831332266, -8.559986387393218, -18.576108752227245, -16.24931967836715, -19.451124322276108, -10.087088749138001, -19.53757722409213, -8.573213385690043, -10.07633806925036, -8.482489110825288, -10.178017100605329, -10.251183773471196, -8.559893647268574, -10.08705824879294, -3.990859723888488, -10.182678350736875, -7.754582025122642, -5.348051950075704, -10.159411932603163, -2.9386092699578654, -19.523483892947016, -10.08499792535398, -5.351098808314134, -7.756217704027609, -19.61644633254796, -19.295016512679464, -9.284244309933637, -6.971192775797413, -8.638126058271574, -9.430889311852814, -20.17113695926114, -17.844902407175837, -10.167188439695284, -9.280961565268708, -10.163932556912588, -20.162574666990718, -10.164185923656143, -7.270477874757538, -8.556248530225774, -9.383700953291761, -10.180605309179366, -9.377759059007738, -8.663220655847816, -18.58662003439965, -7.781585053937363, -8.63096430285411, -8.554618754390903, -7.009191583716851, -6.305413646397316, -2.2811456707174136, -10.16756696634759, -10.24626173746133, -16.96277366986527, -6.207131489299878, -8.725266119435997, -3.888433335708891, -18.565224515979395, -6.15529097287256, -10.081818952503792, -10.264617433835934, -7.765222727684681, -7.921879451886241, -10.093792464241638, -9.345391864638849, -19.366219254246943, -8.538970938977648, -6.958984717752032, -28.588749286941706, -16.156583841623437, -7.135109877258527, -5.434097875452048, -5.439681786231042, -9.366092158317091, -7.0279373876383975, -1.72362071596495, -18.6477856786284, -7.832471588310828, -19.45432969101024, -9.445832663332315, -9.427588512563826, -19.37283514130595, -3.2834545443267524, -9.348628967749244, -8.482077808813838, -10.16878388277411, -6.54606708864036, -7.047421030893487, -10.176281012234886, -10.072884240555778, -7.83712394398566, -9.2762438953078, -9.370888228473682, -10.506748976434247, -10.164119377978377, -10.166216837167156, -16.961069713160196, -10.1671587868539, -8.48354264610808, -9.284553713311672, -8.613821005551891, -29.46721210604557, -17.829672850105258, -8.472961803120178, -9.44221431258228, -15.426983265226003, -8.473936916560309, -38.85352224854191, -8.558516619863745, -28.663808723988208, -10.078278096294076, -8.558515486823831, -8.649436065436284, -8.567191956654792, -7.678148536868539, -14.629765059898428, -20.169635555785078, -20.183325355289014, -17.843501573035965, -37.77838060555768, -27.1530949458881, -8.498936957075887, -6.209097597934279, -18.55644734431131, -10.088328766825375, -7.764116593740217, -7.7599825158359605, -5.358761494650594, -10.152694103895485, -20.164190890332918, -18.564762999056992, -10.087736488850956, -30.19085154058968, -7.677535157636543, -10.091773496237, -10.083595397711642, -5.4241336209524045, -16.725854295915955, -13.196575090692464, -8.560910775210951, -7.7680922214836245, -3.174335733178159, -6.159953455186166, -8.483348585318149, -9.524391539056301, -7.7647691970079915, -6.240224222076087, -16.236664314965044, -18.57094387930164, -10.178202944689444, -6.882602187338316, -9.373633328884921, -8.47166530628913, -17.038089930371157, -9.447005731522037, -8.642792757721049], &#x27;episode_lengths&#x27;: [3, 2, 3, 2, 1, 2, 1, 2, 2, 1, 2, 1, 1, 1, 5, 4, 3, 3, 3, 2, 2, 2, 2, 4, 3, 2, 1, 4, 2, 3, 3, 2, 4, 2, 2, 2, 1, 2, 2, 2, 3, 2, 2, 2, 3, 2, 2, 2, 2, 2, 1, 2, 2, 3, 1, 2, 2, 2, 3, 2, 2, 2, 3, 5, 3, 2, 3, 2, 2, 3, 3, 5, 4, 2, 1, 3, 4, 2, 2, 1, 3, 3, 2, 1, 2, 3, 2, 1, 3, 2, 2, 4, 2, 3, 1, 1, 3, 2, 1, 2, 3, 4, 2, 2, 4, 3, 2, 1, 3, 2, 3, 2, 2, 2, 2, 2, 2, 2, 2, 3, 1, 3, 1, 2, 2, 2, 2, 2, 2, 1, 2, 3, 1, 1, 2, 2, 2, 4, 2, 1, 5, 2, 1, 2, 1, 3, 2, 2, 5, 2, 1, 2, 3, 2, 3, 1, 2, 3, 2, 3, 3, 3, 2, 6, 2, 3, 2, 2, 3, 1, 2, 2, 2, 1, 1, 3, 5, 2, 1, 2, 2, 1, 2, 5, 3, 2, 1, 1, 3, 2, 2, 5, 2, 2, 2, 1, 3, 1, 3, 4, 3, 2, 2, 2, 4, 2, 2, 3, 2, 3, 2, 3, 7, 3, 3, 4, 4, 2, 4, 2, 2, 2, 2, 2, 2, 1, 4, 3, 3, 2, 1, 3, 2, 5, 3, 2, 2, 2, 1, 3, 4, 2, 1, 4, 2, 3, 1, 2, 3, 2, 2, 3, 3, 2, 1, 2, 2, 2, 2, 4, 1, 3, 3, 3, 1, 2, 2, 2, 3, 3, 1, 4, 2, 1, 1, 2, 3, 2, 1, 5, 2, 2, 2, 2, 2, 4, 1, 2, 2, 5, 1, 1, 2, 3, 3, 2, 3, 2, 1, 2, 2, 2, 6, 2, 2, 2, 2, 3, 2, 2, 3, 2, 3, 4, 4, 2, 3, 2, 3, 4, 4, 2, 2, 1, 3, 2, 4, 1, 2, 2, 2, 2, 2, 2, 4, 3, 3, 2, 3, 7, 3, 3, 3, 3, 3, 2, 6, 2, 1, 2, 7, 3, 2, 1, 3, 1, 2, 6, 2, 2, 2, 2, 1, 1, 3, 3, 3, 1, 3, 3, 1, 5, 2, 3, 1, 2, 3, 2, 1, 3, 2, 2, 3, 2, 4, 1, 3, 2, 1, 2, 2, 2, 2, 2, 2, 1, 2, 1, 1, 1, 3, 9, 5, 2, 2, 5, 2, 1, 4, 2, 3, 3, 2, 2, 1, 2, 1, 3, 3, 3]}, &#x27;sampler_perf&#x27;: {&#x27;mean_raw_obs_processing_ms&#x27;: 1.7310121185639078, &#x27;mean_inference_ms&#x27;: 2.7685341099785785, &#x27;mean_action_processing_ms&#x27;: 0.24416055035653292, &#x27;mean_env_wait_ms&#x27;: 38.429847638479295, &#x27;mean_env_render_ms&#x27;: 0.0}, &#x27;num_faulty_episodes&#x27;: 0}</td><td style=\"text-align: right;\">             448.089</td><td style=\"text-align: right;\">           18.0154</td><td style=\"text-align: right;\">       448.089</td><td>{&#x27;training_iteration_time_ms&#x27;: 51.044}</td><td style=\"text-align: right;\"> 1677964383</td><td style=\"text-align: right;\">                        0</td><td style=\"text-align: right;\">            24048</td><td style=\"text-align: right;\">                  24</td><td>441d8_00000</td><td style=\"text-align: right;\">      11.4449</td></tr>\n",
       "</tbody>\n",
       "</table>\n",
       "</div>\n",
       "<style>\n",
       ".trialProgress {\n",
       "  display: flex;\n",
       "  flex-direction: column;\n",
       "  color: var(--jp-ui-font-color1);\n",
       "}\n",
       ".trialProgress h3 {\n",
       "  font-weight: bold;\n",
       "}\n",
       ".trialProgress td {\n",
       "  white-space: nowrap;\n",
       "}\n",
       "</style>\n"
      ],
      "text/plain": [
       "<IPython.core.display.HTML object>"
      ]
     },
     "metadata": {},
     "output_type": "display_data"
    },
    {
     "name": "stderr",
     "output_type": "stream",
     "text": [
      "\u001b[2m\u001b[33m(raylet)\u001b[0m [2023-03-04 22:05:55,244 E 8212 8264] (raylet) file_system_monitor.cc:105: /tmp/ray/session_2023-03-04_22-05-12_873660_8091 is over 95% full, available space: 301641728; capacity: 31845081088. Object creation will fail if spilling is required.\n",
      "\u001b[2m\u001b[33m(raylet)\u001b[0m [2023-03-04 22:06:05,250 E 8212 8264] (raylet) file_system_monitor.cc:105: /tmp/ray/session_2023-03-04_22-05-12_873660_8091 is over 95% full, available space: 305246208; capacity: 31845081088. Object creation will fail if spilling is required.\n",
      "\u001b[2m\u001b[33m(raylet)\u001b[0m [2023-03-04 22:06:15,256 E 8212 8264] (raylet) file_system_monitor.cc:105: /tmp/ray/session_2023-03-04_22-05-12_873660_8091 is over 95% full, available space: 305152000; capacity: 31845081088. Object creation will fail if spilling is required.\n",
      "\u001b[2m\u001b[33m(raylet)\u001b[0m [2023-03-04 22:06:25,265 E 8212 8264] (raylet) file_system_monitor.cc:105: /tmp/ray/session_2023-03-04_22-05-12_873660_8091 is over 95% full, available space: 305037312; capacity: 31845081088. Object creation will fail if spilling is required.\n",
      "\u001b[2m\u001b[33m(raylet)\u001b[0m [2023-03-04 22:06:35,273 E 8212 8264] (raylet) file_system_monitor.cc:105: /tmp/ray/session_2023-03-04_22-05-12_873660_8091 is over 95% full, available space: 304750592; capacity: 31845081088. Object creation will fail if spilling is required.\n",
      "\u001b[2m\u001b[33m(raylet)\u001b[0m [2023-03-04 22:06:45,280 E 8212 8264] (raylet) file_system_monitor.cc:105: /tmp/ray/session_2023-03-04_22-05-12_873660_8091 is over 95% full, available space: 304685056; capacity: 31845081088. Object creation will fail if spilling is required.\n",
      "\u001b[2m\u001b[33m(raylet)\u001b[0m [2023-03-04 22:06:55,289 E 8212 8264] (raylet) file_system_monitor.cc:105: /tmp/ray/session_2023-03-04_22-05-12_873660_8091 is over 95% full, available space: 304410624; capacity: 31845081088. Object creation will fail if spilling is required.\n",
      "\u001b[2m\u001b[33m(raylet)\u001b[0m [2023-03-04 22:07:05,293 E 8212 8264] (raylet) file_system_monitor.cc:105: /tmp/ray/session_2023-03-04_22-05-12_873660_8091 is over 95% full, available space: 304205824; capacity: 31845081088. Object creation will fail if spilling is required.\n",
      "\u001b[2m\u001b[33m(raylet)\u001b[0m [2023-03-04 22:07:15,299 E 8212 8264] (raylet) file_system_monitor.cc:105: /tmp/ray/session_2023-03-04_22-05-12_873660_8091 is over 95% full, available space: 304091136; capacity: 31845081088. Object creation will fail if spilling is required.\n",
      "\u001b[2m\u001b[33m(raylet)\u001b[0m [2023-03-04 22:07:25,306 E 8212 8264] (raylet) file_system_monitor.cc:105: /tmp/ray/session_2023-03-04_22-05-12_873660_8091 is over 95% full, available space: 303845376; capacity: 31845081088. Object creation will fail if spilling is required.\n",
      "\u001b[2m\u001b[33m(raylet)\u001b[0m [2023-03-04 22:07:35,311 E 8212 8264] (raylet) file_system_monitor.cc:105: /tmp/ray/session_2023-03-04_22-05-12_873660_8091 is over 95% full, available space: 303738880; capacity: 31845081088. Object creation will fail if spilling is required.\n",
      "\u001b[2m\u001b[33m(raylet)\u001b[0m [2023-03-04 22:07:45,318 E 8212 8264] (raylet) file_system_monitor.cc:105: /tmp/ray/session_2023-03-04_22-05-12_873660_8091 is over 95% full, available space: 302342144; capacity: 31845081088. Object creation will fail if spilling is required.\n",
      "\u001b[2m\u001b[33m(raylet)\u001b[0m [2023-03-04 22:07:55,324 E 8212 8264] (raylet) file_system_monitor.cc:105: /tmp/ray/session_2023-03-04_22-05-12_873660_8091 is over 95% full, available space: 298045440; capacity: 31845081088. Object creation will fail if spilling is required.\n",
      "\u001b[2m\u001b[33m(raylet)\u001b[0m [2023-03-04 22:08:05,331 E 8212 8264] (raylet) file_system_monitor.cc:105: /tmp/ray/session_2023-03-04_22-05-12_873660_8091 is over 95% full, available space: 296538112; capacity: 31845081088. Object creation will fail if spilling is required.\n",
      "\u001b[2m\u001b[33m(raylet)\u001b[0m [2023-03-04 22:08:15,339 E 8212 8264] (raylet) file_system_monitor.cc:105: /tmp/ray/session_2023-03-04_22-05-12_873660_8091 is over 95% full, available space: 296341504; capacity: 31845081088. Object creation will fail if spilling is required.\n",
      "\u001b[2m\u001b[33m(raylet)\u001b[0m [2023-03-04 22:08:25,347 E 8212 8264] (raylet) file_system_monitor.cc:105: /tmp/ray/session_2023-03-04_22-05-12_873660_8091 is over 95% full, available space: 295870464; capacity: 31845081088. Object creation will fail if spilling is required.\n",
      "\u001b[2m\u001b[33m(raylet)\u001b[0m [2023-03-04 22:08:35,354 E 8212 8264] (raylet) file_system_monitor.cc:105: /tmp/ray/session_2023-03-04_22-05-12_873660_8091 is over 95% full, available space: 295804928; capacity: 31845081088. Object creation will fail if spilling is required.\n",
      "Process _WandbLoggingProcess-1:\n",
      "Traceback (most recent call last):\n",
      "  File \"/home/daniel/miniconda3/lib/python3.8/multiprocessing/process.py\", line 315, in _bootstrap\n",
      "    self.run()\n",
      "  File \"/home/daniel/miniconda3/lib/python3.8/site-packages/ray/air/integrations/wandb.py\", line 327, in run\n",
      "    self._handle_checkpoint(item_content)\n",
      "  File \"/home/daniel/miniconda3/lib/python3.8/site-packages/ray/air/integrations/wandb.py\", line 342, in _handle_checkpoint\n",
      "    artifact = self._wandb.Artifact(\n",
      "  File \"/home/daniel/miniconda3/lib/python3.8/site-packages/wandb/sdk/wandb_artifacts.py\", line 169, in __init__\n",
      "    raise ValueError(\n",
      "ValueError: Artifact name may only contain alphanumeric characters, dashes, underscores, and dots. Invalid name: \"checkpoint_test1_MF_RLlib_SAC (done_all)\"\n",
      "\u001b[2m\u001b[33m(raylet)\u001b[0m [2023-03-04 22:08:45,360 E 8212 8264] (raylet) file_system_monitor.cc:105: /tmp/ray/session_2023-03-04_22-05-12_873660_8091 is over 95% full, available space: 293896192; capacity: 31845081088. Object creation will fail if spilling is required.\n",
      "\u001b[2m\u001b[33m(raylet)\u001b[0m [2023-03-04 22:08:55,365 E 8212 8264] (raylet) file_system_monitor.cc:105: /tmp/ray/session_2023-03-04_22-05-12_873660_8091 is over 95% full, available space: 293847040; capacity: 31845081088. Object creation will fail if spilling is required.\n",
      "\u001b[2m\u001b[33m(raylet)\u001b[0m [2023-03-04 22:09:05,372 E 8212 8264] (raylet) file_system_monitor.cc:105: /tmp/ray/session_2023-03-04_22-05-12_873660_8091 is over 95% full, available space: 293621760; capacity: 31845081088. Object creation will fail if spilling is required.\n",
      "\u001b[2m\u001b[33m(raylet)\u001b[0m [2023-03-04 22:09:15,382 E 8212 8264] (raylet) file_system_monitor.cc:105: /tmp/ray/session_2023-03-04_22-05-12_873660_8091 is over 95% full, available space: 293318656; capacity: 31845081088. Object creation will fail if spilling is required.\n",
      "\u001b[2m\u001b[33m(raylet)\u001b[0m [2023-03-04 22:09:25,388 E 8212 8264] (raylet) file_system_monitor.cc:105: /tmp/ray/session_2023-03-04_22-05-12_873660_8091 is over 95% full, available space: 293027840; capacity: 31845081088. Object creation will fail if spilling is required.\n",
      "\u001b[2m\u001b[33m(raylet)\u001b[0m [2023-03-04 22:09:35,393 E 8212 8264] (raylet) file_system_monitor.cc:105: /tmp/ray/session_2023-03-04_22-05-12_873660_8091 is over 95% full, available space: 292827136; capacity: 31845081088. Object creation will fail if spilling is required.\n",
      "\u001b[2m\u001b[33m(raylet)\u001b[0m [2023-03-04 22:09:45,401 E 8212 8264] (raylet) file_system_monitor.cc:105: /tmp/ray/session_2023-03-04_22-05-12_873660_8091 is over 95% full, available space: 292573184; capacity: 31845081088. Object creation will fail if spilling is required.\n",
      "\u001b[2m\u001b[33m(raylet)\u001b[0m [2023-03-04 22:09:55,406 E 8212 8264] (raylet) file_system_monitor.cc:105: /tmp/ray/session_2023-03-04_22-05-12_873660_8091 is over 95% full, available space: 292573184; capacity: 31845081088. Object creation will fail if spilling is required.\n",
      "\u001b[2m\u001b[33m(raylet)\u001b[0m [2023-03-04 22:10:05,412 E 8212 8264] (raylet) file_system_monitor.cc:105: /tmp/ray/session_2023-03-04_22-05-12_873660_8091 is over 95% full, available space: 292474880; capacity: 31845081088. Object creation will fail if spilling is required.\n",
      "\u001b[2m\u001b[33m(raylet)\u001b[0m [2023-03-04 22:10:15,419 E 8212 8264] (raylet) file_system_monitor.cc:105: /tmp/ray/session_2023-03-04_22-05-12_873660_8091 is over 95% full, available space: 290787328; capacity: 31845081088. Object creation will fail if spilling is required.\n",
      "\u001b[2m\u001b[33m(raylet)\u001b[0m [2023-03-04 22:10:25,434 E 8212 8264] (raylet) file_system_monitor.cc:105: /tmp/ray/session_2023-03-04_22-05-12_873660_8091 is over 95% full, available space: 279359488; capacity: 31845081088. Object creation will fail if spilling is required.\n",
      "\u001b[2m\u001b[33m(raylet)\u001b[0m [2023-03-04 22:10:35,440 E 8212 8264] (raylet) file_system_monitor.cc:105: /tmp/ray/session_2023-03-04_22-05-12_873660_8091 is over 95% full, available space: 275439616; capacity: 31845081088. Object creation will fail if spilling is required.\n",
      "\u001b[2m\u001b[33m(raylet)\u001b[0m [2023-03-04 22:10:45,448 E 8212 8264] (raylet) file_system_monitor.cc:105: /tmp/ray/session_2023-03-04_22-05-12_873660_8091 is over 95% full, available space: 275480576; capacity: 31845081088. Object creation will fail if spilling is required.\n",
      "\u001b[2m\u001b[33m(raylet)\u001b[0m [2023-03-04 22:10:55,454 E 8212 8264] (raylet) file_system_monitor.cc:105: /tmp/ray/session_2023-03-04_22-05-12_873660_8091 is over 95% full, available space: 275398656; capacity: 31845081088. Object creation will fail if spilling is required.\n",
      "\u001b[2m\u001b[33m(raylet)\u001b[0m [2023-03-04 22:11:05,460 E 8212 8264] (raylet) file_system_monitor.cc:105: /tmp/ray/session_2023-03-04_22-05-12_873660_8091 is over 95% full, available space: 275202048; capacity: 31845081088. Object creation will fail if spilling is required.\n",
      "\u001b[2m\u001b[33m(raylet)\u001b[0m [2023-03-04 22:11:15,467 E 8212 8264] (raylet) file_system_monitor.cc:105: /tmp/ray/session_2023-03-04_22-05-12_873660_8091 is over 95% full, available space: 274948096; capacity: 31845081088. Object creation will fail if spilling is required.\n",
      "\u001b[2m\u001b[33m(raylet)\u001b[0m [2023-03-04 22:11:25,475 E 8212 8264] (raylet) file_system_monitor.cc:105: /tmp/ray/session_2023-03-04_22-05-12_873660_8091 is over 95% full, available space: 274743296; capacity: 31845081088. Object creation will fail if spilling is required.\n",
      "\u001b[2m\u001b[33m(raylet)\u001b[0m [2023-03-04 22:11:35,482 E 8212 8264] (raylet) file_system_monitor.cc:105: /tmp/ray/session_2023-03-04_22-05-12_873660_8091 is over 95% full, available space: 274300928; capacity: 31845081088. Object creation will fail if spilling is required.\n",
      "\u001b[2m\u001b[33m(raylet)\u001b[0m [2023-03-04 22:11:45,488 E 8212 8264] (raylet) file_system_monitor.cc:105: /tmp/ray/session_2023-03-04_22-05-12_873660_8091 is over 95% full, available space: 274178048; capacity: 31845081088. Object creation will fail if spilling is required.\n",
      "\u001b[2m\u001b[33m(raylet)\u001b[0m [2023-03-04 22:11:55,497 E 8212 8264] (raylet) file_system_monitor.cc:105: /tmp/ray/session_2023-03-04_22-05-12_873660_8091 is over 95% full, available space: 271769600; capacity: 31845081088. Object creation will fail if spilling is required.\n",
      "\u001b[2m\u001b[33m(raylet)\u001b[0m [2023-03-04 22:12:05,505 E 8212 8264] (raylet) file_system_monitor.cc:105: /tmp/ray/session_2023-03-04_22-05-12_873660_8091 is over 95% full, available space: 271732736; capacity: 31845081088. Object creation will fail if spilling is required.\n",
      "\u001b[2m\u001b[33m(raylet)\u001b[0m [2023-03-04 22:12:15,511 E 8212 8264] (raylet) file_system_monitor.cc:105: /tmp/ray/session_2023-03-04_22-05-12_873660_8091 is over 95% full, available space: 271671296; capacity: 31845081088. Object creation will fail if spilling is required.\n",
      "\u001b[2m\u001b[33m(raylet)\u001b[0m [2023-03-04 22:12:25,518 E 8212 8264] (raylet) file_system_monitor.cc:105: /tmp/ray/session_2023-03-04_22-05-12_873660_8091 is over 95% full, available space: 271593472; capacity: 31845081088. Object creation will fail if spilling is required.\n",
      "\u001b[2m\u001b[33m(raylet)\u001b[0m [2023-03-04 22:12:35,525 E 8212 8264] (raylet) file_system_monitor.cc:105: /tmp/ray/session_2023-03-04_22-05-12_873660_8091 is over 95% full, available space: 271577088; capacity: 31845081088. Object creation will fail if spilling is required.\n",
      "\u001b[2m\u001b[33m(raylet)\u001b[0m [2023-03-04 22:12:45,531 E 8212 8264] (raylet) file_system_monitor.cc:105: /tmp/ray/session_2023-03-04_22-05-12_873660_8091 is over 95% full, available space: 271519744; capacity: 31845081088. Object creation will fail if spilling is required.\n",
      "\u001b[2m\u001b[33m(raylet)\u001b[0m [2023-03-04 22:12:55,537 E 8212 8264] (raylet) file_system_monitor.cc:105: /tmp/ray/session_2023-03-04_22-05-12_873660_8091 is over 95% full, available space: 271519744; capacity: 31845081088. Object creation will fail if spilling is required.\n",
      "\u001b[2m\u001b[33m(raylet)\u001b[0m [2023-03-04 22:13:05,544 E 8212 8264] (raylet) file_system_monitor.cc:105: /tmp/ray/session_2023-03-04_22-05-12_873660_8091 is over 95% full, available space: 271466496; capacity: 31845081088. Object creation will fail if spilling is required.\n",
      "2023-03-04 22:13:15,322\tWARNING tune.py:690 -- Stop signal received (e.g. via SIGINT/Ctrl+C), ending Ray Tune run. This will try to checkpoint the experiment state one last time. Press CTRL+C (or send SIGINT/SIGKILL/SIGTERM) to skip. \n",
      "\u001b[2m\u001b[33m(raylet)\u001b[0m [2023-03-04 22:13:15,549 E 8212 8264] (raylet) file_system_monitor.cc:105: /tmp/ray/session_2023-03-04_22-05-12_873660_8091 is over 95% full, available space: 271450112; capacity: 31845081088. Object creation will fail if spilling is required.\n",
      "2023-03-04 22:13:18,553\tERROR tune.py:758 -- Trials did not complete: [SAC_darm_DarmHand-v0_441d8_00000]\n",
      "2023-03-04 22:13:18,554\tINFO tune.py:762 -- Total run time: 481.06 seconds (480.59 seconds for the tuning loop).\n",
      "2023-03-04 22:13:18,555\tWARNING tune.py:768 -- Experiment has been interrupted, but the most recent state was saved. You can continue running this experiment by passing `resume=True` to `tune.run()`\n",
      "\u001b[2m\u001b[33m(raylet)\u001b[0m [2023-03-04 22:13:25,562 E 8212 8264] (raylet) file_system_monitor.cc:105: /tmp/ray/session_2023-03-04_22-05-12_873660_8091 is over 95% full, available space: 271417344; capacity: 31845081088. Object creation will fail if spilling is required.\n",
      "\u001b[2m\u001b[33m(raylet)\u001b[0m [2023-03-04 22:13:35,570 E 8212 8264] (raylet) file_system_monitor.cc:105: /tmp/ray/session_2023-03-04_22-05-12_873660_8091 is over 95% full, available space: 271069184; capacity: 31845081088. Object creation will fail if spilling is required.\n",
      "\u001b[2m\u001b[33m(raylet)\u001b[0m [2023-03-04 22:13:45,582 E 8212 8264] (raylet) file_system_monitor.cc:105: /tmp/ray/session_2023-03-04_22-05-12_873660_8091 is over 95% full, available space: 270913536; capacity: 31845081088. Object creation will fail if spilling is required.\n",
      "\u001b[2m\u001b[33m(raylet)\u001b[0m [2023-03-04 22:13:55,593 E 8212 8264] (raylet) file_system_monitor.cc:105: /tmp/ray/session_2023-03-04_22-05-12_873660_8091 is over 95% full, available space: 270630912; capacity: 31845081088. Object creation will fail if spilling is required.\n",
      "\u001b[2m\u001b[33m(raylet)\u001b[0m [2023-03-04 22:14:05,606 E 8212 8264] (raylet) file_system_monitor.cc:105: /tmp/ray/session_2023-03-04_22-05-12_873660_8091 is over 95% full, available space: 270471168; capacity: 31845081088. Object creation will fail if spilling is required.\n",
      "\u001b[2m\u001b[33m(raylet)\u001b[0m [2023-03-04 22:14:15,620 E 8212 8264] (raylet) file_system_monitor.cc:105: /tmp/ray/session_2023-03-04_22-05-12_873660_8091 is over 95% full, available space: 270311424; capacity: 31845081088. Object creation will fail if spilling is required.\n",
      "\u001b[2m\u001b[33m(raylet)\u001b[0m [2023-03-04 22:14:25,630 E 8212 8264] (raylet) file_system_monitor.cc:105: /tmp/ray/session_2023-03-04_22-05-12_873660_8091 is over 95% full, available space: 270008320; capacity: 31845081088. Object creation will fail if spilling is required.\n",
      "\u001b[2m\u001b[33m(raylet)\u001b[0m [2023-03-04 22:14:35,643 E 8212 8264] (raylet) file_system_monitor.cc:105: /tmp/ray/session_2023-03-04_22-05-12_873660_8091 is over 95% full, available space: 269914112; capacity: 31845081088. Object creation will fail if spilling is required.\n",
      "\u001b[2m\u001b[33m(raylet)\u001b[0m [2023-03-04 22:14:45,661 E 8212 8264] (raylet) file_system_monitor.cc:105: /tmp/ray/session_2023-03-04_22-05-12_873660_8091 is over 95% full, available space: 269901824; capacity: 31845081088. Object creation will fail if spilling is required.\n",
      "\u001b[2m\u001b[33m(raylet)\u001b[0m [2023-03-04 22:14:55,680 E 8212 8264] (raylet) file_system_monitor.cc:105: /tmp/ray/session_2023-03-04_22-05-12_873660_8091 is over 95% full, available space: 269815808; capacity: 31845081088. Object creation will fail if spilling is required.\n",
      "\u001b[2m\u001b[33m(raylet)\u001b[0m [2023-03-04 22:15:05,695 E 8212 8264] (raylet) file_system_monitor.cc:105: /tmp/ray/session_2023-03-04_22-05-12_873660_8091 is over 95% full, available space: 269684736; capacity: 31845081088. Object creation will fail if spilling is required.\n"
     ]
    }
   ],
   "source": [
    "# TODO: \n",
    "# change: name\n",
    "# change: checkpoint_freq\n",
    "\n",
    "sync_config = tune.SyncConfig()\n",
    "\n",
    "tuner = tune.Tuner(\n",
    "    \"SAC\",\n",
    "    param_space=config,\n",
    "    run_config=air.RunConfig(\n",
    "        name=run_name,\n",
    "        sync_config=sync_config,\n",
    "        stop={\"episode_reward_mean\": wandb_init[\"config\"][\"stop_episode_reward_mean\"]},\n",
    "        \n",
    "        local_dir=wandb_init[\"config\"][\"run_local_dir\"],\n",
    "        checkpoint_config=air.CheckpointConfig(\n",
    "            checkpoint_at_end = wandb_init[\"config\"][\"checkpoint_at_end\"],\n",
    "            checkpoint_score_attribute = wandb_init[\"config\"][\"checkpoint_score_attribute\"],  # or leave to save last chkpts\n",
    "            checkpoint_score_order = wandb_init[\"config\"][\"checkpoint_score_order\"],\n",
    "            checkpoint_frequency = wandb_init[\"config\"][\"checkpoint_frequency\"],\n",
    "            num_to_keep = wandb_init[\"config\"][\"num_checkpoints_to_keep\"]\n",
    "        ),\n",
    "        callbacks=[\n",
    "                WandbLoggerCallback(project=\"DARM\", \n",
    "                                    api_key=\"392c8a47eb0658eb5c71190757a69110e2140f4a\",\n",
    "                                    save_checkpoints=wandb_init[\"config\"][\"save_checkpoints_to_wandb\"], \n",
    "                                    **wandb_init)\n",
    "            ],\n",
    "        )\n",
    "    \n",
    ")\n",
    "\n",
    "results = tuner.fit()"
   ]
  },
  {
   "cell_type": "code",
   "execution_count": 16,
   "id": "1e3264d3-86a3-430c-bae2-940f2da854d2",
   "metadata": {},
   "outputs": [],
   "source": [
    "# Ensure wandb is sysncing to cloud\n",
    "# cd to darm_training again if not"
   ]
  },
  {
   "cell_type": "code",
   "execution_count": 10,
   "id": "ed17fb23-77b1-4e35-95b7-a44b6e342691",
   "metadata": {
    "tags": []
   },
   "outputs": [
    {
     "name": "stderr",
     "output_type": "stream",
     "text": [
      "2023-02-11 17:26:13,607\tINFO experiment_analysis.py:795 -- No `self.trials`. Drawing logdirs from checkpoint file. This may result in some information that is out of sync, as checkpointing is periodic.\n"
     ]
    },
    {
     "data": {
      "text/plain": [
       "<ray.tune.tuner.Tuner at 0x7fede99d9a90>"
      ]
     },
     "execution_count": 10,
     "metadata": {},
     "output_type": "execute_result"
    },
    {
     "name": "stderr",
     "output_type": "stream",
     "text": [
      "\u001b[2m\u001b[33m(raylet)\u001b[0m [2023-02-11 17:26:16,601 E 14732 14777] (raylet) file_system_monitor.cc:105: /tmp/ray/session_2023-02-11_17-23-24_266872_14581 is over 95% full, available space: 1061720064; capacity: 31845081088. Object creation will fail if spilling is required.\n"
     ]
    }
   ],
   "source": [
    "# TODO:\n",
    "# change: experiment name\n",
    "\n",
    "# Restore Interrupted run\n",
    "tuner = tune.Tuner.restore(\n",
    "    f\"{wandb_init['config']['run_local_dir']}/{run_name}\",\n",
    "    resume_errored=True\n",
    ")\n",
    "tuner"
   ]
  },
  {
   "cell_type": "code",
   "execution_count": 15,
   "id": "160c2790-f9ac-41cb-8198-d571d2c51332",
   "metadata": {
    "tags": []
   },
   "outputs": [
    {
     "data": {
      "text/plain": [
       "<ray.tune.result_grid.ResultGrid at 0x7fcd58384b80>"
      ]
     },
     "execution_count": 15,
     "metadata": {},
     "output_type": "execute_result"
    }
   ],
   "source": [
    "results = tuner.get_results()\n",
    "results"
   ]
  },
  {
   "cell_type": "code",
   "execution_count": 16,
   "id": "ace959cb-3e05-4caa-8dd9-f00bbab33eb0",
   "metadata": {
    "collapsed": true,
    "jupyter": {
     "outputs_hidden": true
    },
    "tags": []
   },
   "outputs": [
    {
     "data": {
      "text/plain": [
       "Result(metrics={'custom_metrics': {}, 'episode_media': {}, 'info': {'learner': {'default_policy': {'learner_stats': {'allreduce_latency': 0.0, 'grad_gnorm': 8.343955039978027, 'actor_loss': -5.076763153076172, 'critic_loss': 0.4612053632736206, 'alpha_loss': -0.850807249546051, 'alpha_value': 0.9030595, 'log_alpha_value': -0.101966895, 'target_entropy': -5.0, 'policy_t': -0.01997794397175312, 'mean_q': 2.0334110260009766, 'max_q': 2.8355112075805664, 'min_q': 1.038293480873108}, 'td_error': array([9.46030378e-01, 4.29627061e-01, 2.65497327e-01, 8.43869328e-01,\n",
       "       1.09686172e+00, 7.66791701e-01, 7.26696014e-01, 5.70532084e-02,\n",
       "       1.14584994e+00, 4.43507016e-01, 1.04901314e-01, 1.52089047e+00,\n",
       "       6.52013183e-01, 8.16148460e-01, 1.08409297e+00, 2.61833251e-01,\n",
       "       3.79876256e-01, 9.56449747e-01, 5.75677335e-01, 1.02149987e+00,\n",
       "       1.76170349e-01, 9.50863540e-01, 7.04805613e-01, 3.25276971e-01,\n",
       "       6.36387825e-01, 8.46629441e-01, 5.59558868e-02, 8.83865356e-03,\n",
       "       7.97627211e-01, 8.26396644e-01, 9.43091869e-01, 2.46674316e+02,\n",
       "       5.55538654e-01, 7.27864265e-01, 1.29726791e+00, 4.26257730e-01,\n",
       "       4.88600850e-01, 7.20911384e-01, 6.31772637e-01, 1.28249526e+00,\n",
       "       7.96164632e-01, 3.33085537e+00, 3.80529928e+00, 9.50119078e-01,\n",
       "       8.29495788e-01, 4.02090669e-01, 9.92336035e-01, 4.70980978e+00,\n",
       "       7.12400794e-01, 5.61774313e-01, 8.87979388e-01, 6.99178576e-02,\n",
       "       7.03785896e-01, 3.68088245e+00, 4.42697144e+00, 3.84785533e-02,\n",
       "       4.06367898e-01, 9.53655124e-01, 1.01472402e+00, 6.36071920e-01,\n",
       "       3.92946482e-01, 2.85786510e-01, 7.28411913e-01, 4.54745054e-01,\n",
       "       5.25969863e-02, 6.62682295e-01, 2.46527893e+02, 3.33758354e-01,\n",
       "       3.90868187e-01, 2.47024506e+02, 3.74032736e-01, 7.44001746e-01,\n",
       "       1.19754124e+00, 1.98264122e-01, 5.89548111e-01, 7.19748855e-01,\n",
       "       6.91104770e-01, 2.46527893e+02, 1.00903511e+00, 8.68608594e-01,\n",
       "       1.46339655e-01, 8.63849521e-01, 6.97440386e-01, 6.95250630e-01,\n",
       "       1.08643126e+00, 2.53858209e-01, 9.59976912e-01, 3.65842342e-01,\n",
       "       5.75604081e-01, 1.01638889e+00, 5.54916143e-01, 2.61025906e-01,\n",
       "       3.69157314e-01, 5.89906454e-01, 9.18144405e-01, 9.76853013e-01,\n",
       "       7.45771408e-01, 7.41098404e-01, 3.15677047e-01, 1.40482628e+00,\n",
       "       8.13360214e-02, 1.82469726e-01, 9.30288076e-01, 1.78921580e-01,\n",
       "       2.64111042e-01, 7.66712904e-01, 2.51149416e-01, 3.72322750e+00,\n",
       "       1.50621676e+00, 1.34934068e-01, 8.34389687e-01, 2.28880048e-01,\n",
       "       2.46911713e+02, 8.71338129e-01, 1.41575491e+00, 1.15829027e+00,\n",
       "       4.01661396e-01, 3.22172642e-02, 1.03146315e+00, 1.20233822e+00,\n",
       "       3.63595724e-01, 3.59781146e-01, 3.90814304e-01, 7.14776337e-01,\n",
       "       2.03609109e-01, 8.17107201e-01, 1.51301539e+00, 9.68729496e-01,\n",
       "       8.05726111e-01, 6.48125052e-01, 4.55322862e-01, 2.52527475e-01,\n",
       "       6.16939187e-01, 7.07782507e-01, 2.46674316e+02, 5.37988365e-01,\n",
       "       8.88993800e-01, 6.42939091e-01, 5.66157341e-01, 7.45199919e-01,\n",
       "       4.95904922e-01, 5.44749737e-01, 1.33524406e+00, 1.09470248e+00,\n",
       "       4.20443952e-01, 2.31693149e-01, 1.49213076e-01, 4.79452491e-01,\n",
       "       5.01387000e-01, 6.36883974e-01, 9.08940554e-01, 2.35339999e-02,\n",
       "       1.09470153e+00, 6.25958681e-01, 4.33341503e-01, 8.15379143e-01,\n",
       "       1.10253215e+00, 1.11163783e+00, 6.50242090e-01, 3.74678016e-01,\n",
       "       5.57896376e-01, 6.90997720e-01, 1.67405367e-01, 5.14347076e-01,\n",
       "       6.10636115e-01, 1.26651037e+00, 1.06177032e-01, 1.89136624e-01,\n",
       "       7.38880932e-01, 1.18341660e+00, 2.61298299e-01, 1.94938481e-01,\n",
       "       2.90627241e-01, 8.71249318e-01, 5.99144578e-01, 5.03087521e-01,\n",
       "       1.23708069e+00, 3.05450976e-01, 3.46238852e-01, 5.79999447e-01,\n",
       "       1.01897049e+00, 1.15455341e+00, 3.51977944e-01, 4.95337844e-01,\n",
       "       1.29761028e+00, 2.77725697e-01, 9.85441983e-01, 6.46635413e-01,\n",
       "       7.72787869e-01, 1.04821801e-01, 1.34492373e+00, 2.94095612e+00,\n",
       "       1.16106701e+00, 1.31630957e-01, 9.86808658e-01, 4.82740879e-01,\n",
       "       2.54980326e-01, 4.74518299e-01, 4.15986300e-01, 1.08055830e-01,\n",
       "       6.39527440e-01, 1.52761579e-01, 4.26321507e-01, 8.16009641e-01,\n",
       "       7.27825999e-01, 1.11527145e-01, 1.66661322e-01, 5.02551913e-01,\n",
       "       1.97000146e-01, 4.07129705e-01, 7.51043320e-01, 2.46911713e+02,\n",
       "       7.29810119e-01, 6.43945575e-01, 1.79764152e-01, 5.80982447e-01,\n",
       "       2.05063581e-01, 1.04409027e+00, 4.56080079e-01, 4.46982563e-01,\n",
       "       9.81729567e-01, 6.59761965e-01, 2.98615646e+00, 2.80451059e-01,\n",
       "       4.59819794e-01, 9.62480664e-01, 1.36348128e-01, 9.03037906e-01,\n",
       "       7.55133808e-01, 1.33910954e-01, 6.25847220e-01, 4.72928882e-01,\n",
       "       1.15204036e-01, 1.34494066e+00, 3.28659534e-01, 7.61413455e-01,\n",
       "       2.46207031e+02, 5.60174465e-01, 6.26057982e-01, 7.27932453e-01,\n",
       "       5.94342828e-01, 1.06366754e-01, 8.86531234e-01, 7.32596040e-01,\n",
       "       6.20095134e-01, 5.57798028e-01, 7.78808892e-01, 2.44230628e-01,\n",
       "       4.23718333e-01, 1.13543332e-01, 5.97412705e-01, 7.66506553e-01,\n",
       "       7.60311723e-01, 6.40589774e-01, 4.38361287e-01, 9.32641983e-01],\n",
       "      dtype=float32), 'mean_td_error': 8.407605171203613, 'model': {}, 'custom_metrics': {}, 'num_agent_steps_trained': 256.0, 'num_grad_updates_lifetime': 341.0, 'diff_num_grad_updates_vs_sampler_policy': 340.0}}, 'num_env_steps_sampled': 11022, 'num_env_steps_trained': 87296, 'num_agent_steps_sampled': 11022, 'num_agent_steps_trained': 87296, 'last_target_update_ts': 11022, 'num_target_updates': 341}, 'sampler_results': {'episode_reward_max': -175.28551595658064, 'episode_reward_min': -191.91201797127724, 'episode_reward_mean': -183.6617713689804, 'episode_len_mean': 100.0, 'episode_media': {}, 'episodes_this_iter': 10, 'policy_reward_min': {}, 'policy_reward_max': {}, 'policy_reward_mean': {}, 'custom_metrics': {}, 'hist_stats': {'episode_reward': [-177.71922475099564, -187.68662855029106, -175.28551595658064, -185.17646113038063, -188.07598569989204, -183.15926399081945, -187.51414139568806, -191.91201797127724, -180.03978146612644, -180.04869277775288], 'episode_lengths': [100, 100, 100, 100, 100, 100, 100, 100, 100, 100]}, 'sampler_perf': {'mean_raw_obs_processing_ms': 1.2209175070937799, 'mean_inference_ms': 2.2407887063058864, 'mean_action_processing_ms': 0.21747991990069954, 'mean_env_wait_ms': 3.0381576901390437, 'mean_env_render_ms': 0.0}, 'num_faulty_episodes': 0}, 'episode_reward_max': -175.28551595658064, 'episode_reward_min': -191.91201797127724, 'episode_reward_mean': -183.6617713689804, 'episode_len_mean': 100.0, 'episodes_this_iter': 10, 'policy_reward_min': {}, 'policy_reward_max': {}, 'policy_reward_mean': {}, 'hist_stats': {'episode_reward': [-177.71922475099564, -187.68662855029106, -175.28551595658064, -185.17646113038063, -188.07598569989204, -183.15926399081945, -187.51414139568806, -191.91201797127724, -180.03978146612644, -180.04869277775288], 'episode_lengths': [100, 100, 100, 100, 100, 100, 100, 100, 100, 100]}, 'sampler_perf': {'mean_raw_obs_processing_ms': 1.2209175070937799, 'mean_inference_ms': 2.2407887063058864, 'mean_action_processing_ms': 0.21747991990069954, 'mean_env_wait_ms': 3.0381576901390437, 'mean_env_render_ms': 0.0}, 'num_faulty_episodes': 0, 'num_healthy_workers': 3, 'num_in_flight_async_reqs': 0, 'num_remote_worker_restarts': 0, 'num_agent_steps_sampled': 11022, 'num_agent_steps_trained': 87296, 'num_env_steps_sampled': 11022, 'num_env_steps_trained': 87296, 'num_env_steps_sampled_this_iter': 1002, 'num_env_steps_trained_this_iter': 85504, 'num_steps_trained_this_iter': 85504, 'agent_timesteps_total': 11022, 'timers': {'training_iteration_time_ms': 147.211, 'load_time_ms': 0.259, 'load_throughput': 986985.774, 'learn_time_ms': 24.022, 'learn_throughput': 10657.075, 'synch_weights_time_ms': 5.359}, 'counters': {'num_env_steps_sampled': 11022, 'num_env_steps_trained': 87296, 'num_agent_steps_sampled': 11022, 'num_agent_steps_trained': 87296, 'last_target_update_ts': 11022, 'num_target_updates': 341}, 'done': False, 'trial_id': 'ad8de_00000', 'perf': {'cpu_util_percent': 38.9536231884058, 'ram_util_percent': 87.61304347826086}, 'experiment_tag': '0'}, error=None, log_dir=PosixPath('/home/daniel/DARM/darm_mujoco/darm_training/results/Test_DARMSF_DELTA_TARGET/SAC_darm_DarmSFHand-v0_a1dbe_00000_0_2023-02-11_16-49-13/results/Test_DARMSF_DELTA_TARGET/SAC_darm_DarmSFHand-v0_ad8de_00000_0_2023-02-11_16-56-43'))"
      ]
     },
     "execution_count": 16,
     "metadata": {},
     "output_type": "execute_result"
    }
   ],
   "source": [
    "# Get the best result based on a particular metric.\n",
    "best_result = results.get_best_result(metric=\"episode_reward_mean\", mode=\"max\")\n",
    "best_result"
   ]
  },
  {
   "cell_type": "code",
   "execution_count": 17,
   "id": "beca7170-c89a-402c-afb7-ce88cf5524b7",
   "metadata": {
    "tags": []
   },
   "outputs": [
    {
     "data": {
      "text/plain": [
       "Checkpoint(local_path=/home/daniel/DARM/darm_mujoco/darm_training/results/Test_DARMSF_DELTA_TARGET/SAC_darm_DarmSFHand-v0_a1dbe_00000_0_2023-02-11_16-49-13/results/Test_DARMSF_DELTA_TARGET/SAC_darm_DarmSFHand-v0_ad8de_00000_0_2023-02-11_16-56-43/checkpoint_000011)"
      ]
     },
     "execution_count": 17,
     "metadata": {},
     "output_type": "execute_result"
    },
    {
     "name": "stderr",
     "output_type": "stream",
     "text": [
      "\u001b[2m\u001b[33m(raylet)\u001b[0m [2023-02-11 17:00:32,579 E 9254 9299] (raylet) file_system_monitor.cc:105: /tmp/ray/session_2023-02-11_16-49-09_974082_9002 is over 95% full, available space: 1129005056; capacity: 31845081088. Object creation will fail if spilling is required.\n",
      "\u001b[2m\u001b[33m(raylet)\u001b[0m [2023-02-11 17:00:42,596 E 9254 9299] (raylet) file_system_monitor.cc:105: /tmp/ray/session_2023-02-11_16-49-09_974082_9002 is over 95% full, available space: 1129254912; capacity: 31845081088. Object creation will fail if spilling is required.\n",
      "\u001b[2m\u001b[33m(raylet)\u001b[0m [2023-02-11 17:00:52,615 E 9254 9299] (raylet) file_system_monitor.cc:105: /tmp/ray/session_2023-02-11_16-49-09_974082_9002 is over 95% full, available space: 1129238528; capacity: 31845081088. Object creation will fail if spilling is required.\n"
     ]
    }
   ],
   "source": [
    "# Get the best checkpoint corresponding to the best result.\n",
    "best_checkpoint = best_result.checkpoint\n",
    "best_checkpoint"
   ]
  },
  {
   "cell_type": "code",
   "execution_count": 11,
   "id": "3b9e8a43-146c-4a5b-99b7-12384ff38b84",
   "metadata": {
    "collapsed": true,
    "jupyter": {
     "outputs_hidden": true
    },
    "tags": []
   },
   "outputs": [
    {
     "name": "stderr",
     "output_type": "stream",
     "text": [
      "2023-02-11 16:38:32,937\tWARNING algorithm_config.py:488 -- Cannot create SACConfig from given `config_dict`! Property __stdout_file__ not supported.\n",
      "2023-02-11 16:38:32,949\tINFO algorithm.py:501 -- Current log_level is WARN. For more information, set 'log_level': 'INFO' / 'DEBUG' or use the -v and -vv flags.\n",
      "\u001b[2m\u001b[33m(raylet)\u001b[0m [2023-02-11 16:38:35,741 E 6815 6860] (raylet) file_system_monitor.cc:105: /tmp/ray/session_2023-02-11_16-34-33_438228_6699 is over 95% full, available space: 1174347776; capacity: 31845081088. Object creation will fail if spilling is required.\n"
     ]
    },
    {
     "name": "stdout",
     "output_type": "stream",
     "text": [
      "\u001b[2m\u001b[36m(RolloutWorker pid=7501)\u001b[0m Loaded XML file successfully\n"
     ]
    },
    {
     "name": "stderr",
     "output_type": "stream",
     "text": [
      "\u001b[2m\u001b[36m(RolloutWorker pid=7501)\u001b[0m /home/daniel/miniconda3/lib/python3.8/site-packages/gym/spaces/box.py:73: UserWarning: \u001b[33mWARN: Box bound precision lowered by casting to float32\u001b[0m\n",
      "\u001b[2m\u001b[36m(RolloutWorker pid=7501)\u001b[0m   logger.warn(\n",
      "\u001b[2m\u001b[36m(RolloutWorker pid=7500)\u001b[0m /home/daniel/miniconda3/lib/python3.8/site-packages/gym/spaces/box.py:73: UserWarning: \u001b[33mWARN: Box bound precision lowered by casting to float32\u001b[0m\n",
      "\u001b[2m\u001b[36m(RolloutWorker pid=7500)\u001b[0m   logger.warn(\n",
      "\u001b[2m\u001b[36m(RolloutWorker pid=7500)\u001b[0m 2023-02-11 16:38:38,536\tWARNING env.py:147 -- Your env doesn't have a .spec.max_episode_steps attribute. This is fine if you have set 'horizon' in your config dictionary, or `soft_horizon`. However, if you haven't, 'horizon' will default to infinity, and your environment will not be reset.\n"
     ]
    },
    {
     "name": "stdout",
     "output_type": "stream",
     "text": [
      "\u001b[2m\u001b[36m(RolloutWorker pid=7500)\u001b[0m Loaded XML file successfully\n"
     ]
    },
    {
     "name": "stderr",
     "output_type": "stream",
     "text": [
      "\u001b[2m\u001b[36m(RolloutWorker pid=7502)\u001b[0m /home/daniel/miniconda3/lib/python3.8/site-packages/gym/spaces/box.py:73: UserWarning: \u001b[33mWARN: Box bound precision lowered by casting to float32\u001b[0m\n",
      "\u001b[2m\u001b[36m(RolloutWorker pid=7502)\u001b[0m   logger.warn(\n"
     ]
    },
    {
     "name": "stdout",
     "output_type": "stream",
     "text": [
      "\u001b[2m\u001b[36m(RolloutWorker pid=7502)\u001b[0m Loaded XML file successfully\n"
     ]
    },
    {
     "name": "stderr",
     "output_type": "stream",
     "text": [
      "/home/daniel/miniconda3/lib/python3.8/site-packages/gym/spaces/box.py:73: UserWarning: \u001b[33mWARN: Box bound precision lowered by casting to float32\u001b[0m\n",
      "  logger.warn(\n",
      "2023-02-11 16:38:39,885\tWARNING env.py:147 -- Your env doesn't have a .spec.max_episode_steps attribute. This is fine if you have set 'horizon' in your config dictionary, or `soft_horizon`. However, if you haven't, 'horizon' will default to infinity, and your environment will not be reset.\n",
      "2023-02-11 16:38:39,927\tWARNING util.py:66 -- Install gputil for GPU system monitoring.\n"
     ]
    },
    {
     "name": "stdout",
     "output_type": "stream",
     "text": [
      "Loaded XML file successfully\n"
     ]
    },
    {
     "data": {
      "text/plain": [
       "SAC"
      ]
     },
     "execution_count": 11,
     "metadata": {},
     "output_type": "execute_result"
    }
   ],
   "source": [
    "# Get Algorithm from saved checkpoint\n",
    "from ray.rllib.algorithms.algorithm import Algorithm\n",
    "algo = Algorithm.from_checkpoint(best_checkpoint._local_path)\n",
    "algo"
   ]
  },
  {
   "cell_type": "code",
   "execution_count": 11,
   "id": "a9cff7c5-f517-4287-9447-668320c35452",
   "metadata": {
    "collapsed": true,
    "jupyter": {
     "outputs_hidden": true
    },
    "tags": []
   },
   "outputs": [
    {
     "name": "stderr",
     "output_type": "stream",
     "text": [
      "2023-02-11 17:26:26,421\tINFO trial_runner.py:688 -- A local experiment checkpoint was found and will be used to restore the previous experiment state.\n",
      "2023-02-11 17:26:26,422\tINFO trial_runner.py:825 -- Using following checkpoint to resume: /home/daniel/DARM/darm_mujoco/darm_training/results/Test_DARMSF_DELTA_TARGET/experiment_state-2023-02-11_17-23-28.json\n",
      "2023-02-11 17:26:26,426\tWARNING trial_runner.py:830 -- Attempting to resume experiment from /home/daniel/DARM/darm_mujoco/darm_training/results/Test_DARMSF_DELTA_TARGET. This will ignore any new changes to the specification.\n",
      "2023-02-11 17:26:26,440\tINFO tune.py:653 -- TrialRunner resumed, ignoring new add_experiment but updating trial resources.\n"
     ]
    },
    {
     "data": {
      "text/html": [
       "<div class=\"tuneStatus\">\n",
       "  <div style=\"display: flex;flex-direction: row\">\n",
       "    <div style=\"display: flex;flex-direction: column;\">\n",
       "      <h3>Tune Status</h3>\n",
       "      <table>\n",
       "<tbody>\n",
       "<tr><td>Current time:</td><td>2023-02-11 17:29:20</td></tr>\n",
       "<tr><td>Running for: </td><td>00:02:54.01        </td></tr>\n",
       "<tr><td>Memory:      </td><td>6.3/7.5 GiB        </td></tr>\n",
       "</tbody>\n",
       "</table>\n",
       "    </div>\n",
       "    <div class=\"vDivider\"></div>\n",
       "    <div class=\"systemInfo\">\n",
       "      <h3>System Info</h3>\n",
       "      Using FIFO scheduling algorithm.<br>Resources requested: 4.0/4 CPUs, 0/0 GPUs, 0.0/1.72 GiB heap, 0.0/0.86 GiB objects\n",
       "    </div>\n",
       "    \n",
       "  </div>\n",
       "  <div class=\"hDivider\"></div>\n",
       "  <div class=\"trialStatus\">\n",
       "    <h3>Trial Status</h3>\n",
       "    <table>\n",
       "<thead>\n",
       "<tr><th>Trial name                        </th><th>status  </th><th>loc                 </th><th style=\"text-align: right;\">  iter</th><th style=\"text-align: right;\">  total time (s)</th><th style=\"text-align: right;\">   ts</th><th style=\"text-align: right;\">  reward</th><th style=\"text-align: right;\">  episode_reward_max</th><th style=\"text-align: right;\">  episode_reward_min</th><th style=\"text-align: right;\">  episode_len_mean</th></tr>\n",
       "</thead>\n",
       "<tbody>\n",
       "<tr><td>SAC_darm_DarmSFHand-v0_6a944_00000</td><td>RUNNING </td><td>192.168.152.36:15703</td><td style=\"text-align: right;\">    13</td><td style=\"text-align: right;\">         227.817</td><td style=\"text-align: right;\">13026</td><td style=\"text-align: right;\">-179.588</td><td style=\"text-align: right;\">            -166.097</td><td style=\"text-align: right;\">            -189.684</td><td style=\"text-align: right;\">               100</td></tr>\n",
       "</tbody>\n",
       "</table>\n",
       "  </div>\n",
       "</div>\n",
       "<style>\n",
       ".tuneStatus {\n",
       "  color: var(--jp-ui-font-color1);\n",
       "}\n",
       ".tuneStatus .systemInfo {\n",
       "  display: flex;\n",
       "  flex-direction: column;\n",
       "}\n",
       ".tuneStatus td {\n",
       "  white-space: nowrap;\n",
       "}\n",
       ".tuneStatus .trialStatus {\n",
       "  display: flex;\n",
       "  flex-direction: column;\n",
       "}\n",
       ".tuneStatus h3 {\n",
       "  font-weight: bold;\n",
       "}\n",
       ".tuneStatus .hDivider {\n",
       "  border-bottom-width: var(--jp-border-width);\n",
       "  border-bottom-color: var(--jp-border-color0);\n",
       "  border-bottom-style: solid;\n",
       "}\n",
       ".tuneStatus .vDivider {\n",
       "  border-left-width: var(--jp-border-width);\n",
       "  border-left-color: var(--jp-border-color0);\n",
       "  border-left-style: solid;\n",
       "  margin: 0.5em 1em 0.5em 1em;\n",
       "}\n",
       "</style>\n"
      ],
      "text/plain": [
       "<IPython.core.display.HTML object>"
      ]
     },
     "metadata": {},
     "output_type": "display_data"
    },
    {
     "name": "stderr",
     "output_type": "stream",
     "text": [
      "\u001b[2m\u001b[33m(raylet)\u001b[0m [2023-02-11 17:26:26,618 E 14732 14777] (raylet) file_system_monitor.cc:105: /tmp/ray/session_2023-02-11_17-23-24_266872_14581 is over 95% full, available space: 1061683200; capacity: 31845081088. Object creation will fail if spilling is required.\n",
      "\u001b[34m\u001b[1mwandb\u001b[0m: Currently logged in as: \u001b[33mdanieladejumo\u001b[0m. Use \u001b[1m`wandb login --relogin`\u001b[0m to force relogin\n",
      "\u001b[2m\u001b[36m(SAC pid=15703)\u001b[0m 2023-02-11 17:26:30,934\tWARNING algorithm_config.py:488 -- Cannot create SACConfig from given `config_dict`! Property __stdout_file__ not supported.\n",
      "\u001b[2m\u001b[36m(SAC pid=15703)\u001b[0m 2023-02-11 17:26:31,413\tINFO algorithm.py:501 -- Current log_level is WARN. For more information, set 'log_level': 'INFO' / 'DEBUG' or use the -v and -vv flags.\n"
     ]
    },
    {
     "data": {
      "text/html": [
       "Tracking run with wandb version 0.13.10"
      ],
      "text/plain": [
       "<IPython.core.display.HTML object>"
      ]
     },
     "metadata": {},
     "output_type": "display_data"
    },
    {
     "data": {
      "text/html": [
       "Run data is saved locally in <code>/home/daniel/DARM/darm_mujoco/darm_training/results/Test_DARMSF_DELTA_TARGET/SAC_darm_DarmSFHand-v0_6a944_00000_0_2023-02-11_17-23-28/wandb/run-20230211_172629-6a944_00000</code>"
      ],
      "text/plain": [
       "<IPython.core.display.HTML object>"
      ]
     },
     "metadata": {},
     "output_type": "display_data"
    },
    {
     "data": {
      "text/html": [
       "Resuming run <strong><a href='https://wandb.ai/danieladejumo/DARM/runs/6a944_00000' target=\"_blank\">Test_DARMSF_DELTA_TARGET</a></strong> to <a href='https://wandb.ai/danieladejumo/DARM' target=\"_blank\">Weights & Biases</a> (<a href='https://wandb.me/run' target=\"_blank\">docs</a>)<br/>"
      ],
      "text/plain": [
       "<IPython.core.display.HTML object>"
      ]
     },
     "metadata": {},
     "output_type": "display_data"
    },
    {
     "data": {
      "text/html": [
       " View project at <a href='https://wandb.ai/danieladejumo/DARM' target=\"_blank\">https://wandb.ai/danieladejumo/DARM</a>"
      ],
      "text/plain": [
       "<IPython.core.display.HTML object>"
      ]
     },
     "metadata": {},
     "output_type": "display_data"
    },
    {
     "data": {
      "text/html": [
       " View run at <a href='https://wandb.ai/danieladejumo/DARM/runs/6a944_00000' target=\"_blank\">https://wandb.ai/danieladejumo/DARM/runs/6a944_00000</a>"
      ],
      "text/plain": [
       "<IPython.core.display.HTML object>"
      ]
     },
     "metadata": {},
     "output_type": "display_data"
    },
    {
     "name": "stderr",
     "output_type": "stream",
     "text": [
      "\u001b[2m\u001b[33m(raylet)\u001b[0m [2023-02-11 17:26:36,627 E 14732 14777] (raylet) file_system_monitor.cc:105: /tmp/ray/session_2023-02-11_17-23-24_266872_14581 is over 95% full, available space: 1061359616; capacity: 31845081088. Object creation will fail if spilling is required.\n"
     ]
    },
    {
     "name": "stdout",
     "output_type": "stream",
     "text": [
      "\u001b[2m\u001b[36m(RolloutWorker pid=15846)\u001b[0m Loaded XML file successfully\n",
      "\u001b[2m\u001b[36m(RolloutWorker pid=15844)\u001b[0m Loaded XML file successfully\n"
     ]
    },
    {
     "name": "stderr",
     "output_type": "stream",
     "text": [
      "\u001b[2m\u001b[36m(RolloutWorker pid=15846)\u001b[0m /home/daniel/miniconda3/lib/python3.8/site-packages/gym/spaces/box.py:73: UserWarning: \u001b[33mWARN: Box bound precision lowered by casting to float32\u001b[0m\n",
      "\u001b[2m\u001b[36m(RolloutWorker pid=15846)\u001b[0m   logger.warn(\n",
      "\u001b[2m\u001b[36m(RolloutWorker pid=15844)\u001b[0m /home/daniel/miniconda3/lib/python3.8/site-packages/gym/spaces/box.py:73: UserWarning: \u001b[33mWARN: Box bound precision lowered by casting to float32\u001b[0m\n",
      "\u001b[2m\u001b[36m(RolloutWorker pid=15844)\u001b[0m   logger.warn(\n",
      "\u001b[2m\u001b[36m(RolloutWorker pid=15844)\u001b[0m 2023-02-11 17:26:38,825\tWARNING env.py:147 -- Your env doesn't have a .spec.max_episode_steps attribute. This is fine if you have set 'horizon' in your config dictionary, or `soft_horizon`. However, if you haven't, 'horizon' will default to infinity, and your environment will not be reset.\n"
     ]
    },
    {
     "name": "stdout",
     "output_type": "stream",
     "text": [
      "\u001b[2m\u001b[36m(RolloutWorker pid=15845)\u001b[0m Loaded XML file successfully\n"
     ]
    },
    {
     "name": "stderr",
     "output_type": "stream",
     "text": [
      "\u001b[2m\u001b[36m(RolloutWorker pid=15845)\u001b[0m /home/daniel/miniconda3/lib/python3.8/site-packages/gym/spaces/box.py:73: UserWarning: \u001b[33mWARN: Box bound precision lowered by casting to float32\u001b[0m\n",
      "\u001b[2m\u001b[36m(RolloutWorker pid=15845)\u001b[0m   logger.warn(\n",
      "\u001b[2m\u001b[36m(SAC pid=15703)\u001b[0m /home/daniel/miniconda3/lib/python3.8/site-packages/gym/spaces/box.py:73: UserWarning: \u001b[33mWARN: Box bound precision lowered by casting to float32\u001b[0m\n",
      "\u001b[2m\u001b[36m(SAC pid=15703)\u001b[0m   logger.warn(\n",
      "\u001b[2m\u001b[36m(SAC pid=15703)\u001b[0m 2023-02-11 17:26:40,232\tWARNING env.py:147 -- Your env doesn't have a .spec.max_episode_steps attribute. This is fine if you have set 'horizon' in your config dictionary, or `soft_horizon`. However, if you haven't, 'horizon' will default to infinity, and your environment will not be reset.\n",
      "\u001b[2m\u001b[36m(SAC pid=15703)\u001b[0m 2023-02-11 17:26:40,261\tWARNING util.py:66 -- Install gputil for GPU system monitoring.\n"
     ]
    },
    {
     "name": "stdout",
     "output_type": "stream",
     "text": [
      "\u001b[2m\u001b[36m(SAC pid=15703)\u001b[0m Loaded XML file successfully\n"
     ]
    },
    {
     "name": "stderr",
     "output_type": "stream",
     "text": [
      "\u001b[2m\u001b[36m(SAC pid=15703)\u001b[0m 2023-02-11 17:26:40,442\tINFO trainable.py:790 -- Restored on 192.168.152.36 from checkpoint: /tmp/checkpoint_tmp_7f50b6e15e2c473dba807bf1d398566d\n",
      "\u001b[2m\u001b[36m(SAC pid=15703)\u001b[0m 2023-02-11 17:26:40,442\tINFO trainable.py:799 -- Current state after restoring: {'_iteration': 11, '_timesteps_total': None, '_time_total': 113.04964661598206, '_episodes_total': 114}\n",
      "\u001b[2m\u001b[36m(SAC pid=15703)\u001b[0m 2023-02-11 17:26:40,721\tWARNING multi_agent_prioritized_replay_buffer.py:215 -- Adding batches with column `weights` to this buffer while providing weights as a call argument to the add method results in the column being overwritten.\n",
      "\u001b[2m\u001b[36m(SAC pid=15703)\u001b[0m 2023-02-11 17:26:40,721\tWARNING deprecation.py:47 -- DeprecationWarning: `concat_samples` has been deprecated. Use `concat_samples() from rllib.policy.sample_batch` instead. This will raise an error in the future!\n",
      "\u001b[2m\u001b[33m(raylet)\u001b[0m [2023-02-11 17:26:46,634 E 14732 14777] (raylet) file_system_monitor.cc:105: /tmp/ray/session_2023-02-11_17-23-24_266872_14581 is over 95% full, available space: 1061335040; capacity: 31845081088. Object creation will fail if spilling is required.\n",
      "\u001b[2m\u001b[33m(raylet)\u001b[0m [2023-02-11 17:26:56,640 E 14732 14777] (raylet) file_system_monitor.cc:105: /tmp/ray/session_2023-02-11_17-23-24_266872_14581 is over 95% full, available space: 1061343232; capacity: 31845081088. Object creation will fail if spilling is required.\n",
      "\u001b[2m\u001b[33m(raylet)\u001b[0m [2023-02-11 17:27:06,648 E 14732 14777] (raylet) file_system_monitor.cc:105: /tmp/ray/session_2023-02-11_17-23-24_266872_14581 is over 95% full, available space: 1061339136; capacity: 31845081088. Object creation will fail if spilling is required.\n",
      "\u001b[2m\u001b[33m(raylet)\u001b[0m [2023-02-11 17:27:16,654 E 14732 14777] (raylet) file_system_monitor.cc:105: /tmp/ray/session_2023-02-11_17-23-24_266872_14581 is over 95% full, available space: 1061343232; capacity: 31845081088. Object creation will fail if spilling is required.\n",
      "\u001b[2m\u001b[33m(raylet)\u001b[0m [2023-02-11 17:27:26,659 E 14732 14777] (raylet) file_system_monitor.cc:105: /tmp/ray/session_2023-02-11_17-23-24_266872_14581 is over 95% full, available space: 1061314560; capacity: 31845081088. Object creation will fail if spilling is required.\n"
     ]
    },
    {
     "data": {
      "text/html": [
       "<div class=\"trialProgress\">\n",
       "  <h3>Trial Progress</h3>\n",
       "  <table>\n",
       "<thead>\n",
       "<tr><th>Trial name                        </th><th style=\"text-align: right;\">  agent_timesteps_total</th><th>counters                                                                                                                                                                                          </th><th>custom_metrics  </th><th>date               </th><th>done  </th><th style=\"text-align: right;\">  episode_len_mean</th><th>episode_media  </th><th style=\"text-align: right;\">  episode_reward_max</th><th style=\"text-align: right;\">  episode_reward_mean</th><th style=\"text-align: right;\">  episode_reward_min</th><th style=\"text-align: right;\">  episodes_this_iter</th><th style=\"text-align: right;\">  episodes_total</th><th>experiment_id                   </th><th>hostname  </th><th>info  </th><th style=\"text-align: right;\">  iterations_since_restore</th><th>node_ip       </th><th style=\"text-align: right;\">  num_agent_steps_sampled</th><th style=\"text-align: right;\">  num_agent_steps_trained</th><th style=\"text-align: right;\">  num_env_steps_sampled</th><th style=\"text-align: right;\">  num_env_steps_sampled_this_iter</th><th style=\"text-align: right;\">  num_env_steps_trained</th><th style=\"text-align: right;\">  num_env_steps_trained_this_iter</th><th style=\"text-align: right;\">  num_faulty_episodes</th><th style=\"text-align: right;\">  num_healthy_workers</th><th style=\"text-align: right;\">  num_in_flight_async_reqs</th><th style=\"text-align: right;\">  num_remote_worker_restarts</th><th style=\"text-align: right;\">  num_steps_trained_this_iter</th><th>perf                                                                          </th><th style=\"text-align: right;\">  pid</th><th>policy_reward_max  </th><th>policy_reward_mean  </th><th>policy_reward_min  </th><th>sampler_perf                                                                                                                                                                                                   </th><th>sampler_results                                                                                                                                                                                                                                                                                                                                                                                                                                                                                                                                                                                                                                                                                                                                                                                                                                                     </th><th style=\"text-align: right;\">  time_since_restore</th><th style=\"text-align: right;\">  time_this_iter_s</th><th style=\"text-align: right;\">  time_total_s</th><th>timers                                                                                                                                                                               </th><th style=\"text-align: right;\">  timestamp</th><th style=\"text-align: right;\">  timesteps_since_restore</th><th style=\"text-align: right;\">  timesteps_total</th><th style=\"text-align: right;\">  training_iteration</th><th>trial_id   </th><th style=\"text-align: right;\">  warmup_time</th></tr>\n",
       "</thead>\n",
       "<tbody>\n",
       "<tr><td>SAC_darm_DarmSFHand-v0_6a944_00000</td><td style=\"text-align: right;\">                  13026</td><td>{&#x27;num_env_steps_sampled&#x27;: 13026, &#x27;num_env_steps_trained&#x27;: 258304, &#x27;num_agent_steps_sampled&#x27;: 13026, &#x27;num_agent_steps_trained&#x27;: 258304, &#x27;last_target_update_ts&#x27;: 13026, &#x27;num_target_updates&#x27;: 1009}</td><td>{}              </td><td>2023-02-11_17-28-35</td><td>False </td><td style=\"text-align: right;\">               100</td><td>{}             </td><td style=\"text-align: right;\">            -166.097</td><td style=\"text-align: right;\">             -179.588</td><td style=\"text-align: right;\">            -189.684</td><td style=\"text-align: right;\">                   9</td><td style=\"text-align: right;\">             132</td><td>2674246d3b814ef583cb37ca785123d2</td><td>Daniel    </td><td>{&#x27;learner&#x27;: {&#x27;default_policy&#x27;: {&#x27;learner_stats&#x27;: {&#x27;allreduce_latency&#x27;: 0.0, &#x27;grad_gnorm&#x27;: 8.40356159210205, &#x27;actor_loss&#x27;: -4.885239601135254, &#x27;critic_loss&#x27;: 0.3069121241569519, &#x27;alpha_loss&#x27;: -2.5390048027038574, &#x27;alpha_value&#x27;: 0.7392387, &#x27;log_alpha_value&#x27;: -0.30213442, &#x27;target_entropy&#x27;: -5.0, &#x27;policy_t&#x27;: -0.029988128691911697, &#x27;mean_q&#x27;: 2.379087448120117, &#x27;max_q&#x27;: 3.1470589637756348, &#x27;min_q&#x27;: 1.5433847904205322}, &#x27;td_error&#x27;: array([7.4213958e-01, 1.5848637e-01, 6.0251343e-01, 9.3348145e-01,\n",
       "       7.2470105e-01, 6.5075898e-01, 7.4386942e-01, 4.2802992e+00,\n",
       "       4.9475217e-01, 2.1274698e-01, 1.5443254e-01, 2.0181298e-01,\n",
       "       4.8542452e-01, 4.9696553e-01, 3.7915547e+00, 8.3584547e-02,\n",
       "       8.3843565e-01, 7.5096285e-01, 6.2452388e-01, 2.4125576e-01,\n",
       "       7.7261329e-01, 2.6608777e-01, 3.3530772e-01, 2.6860654e-01,\n",
       "       1.5399015e-01, 7.0978558e-01, 7.8079522e-01, 1.0731530e-01,\n",
       "       8.8066232e-01, 1.1126903e+00, 3.6070585e-02, 6.7874563e-01,\n",
       "       7.5406009e-01, 4.2981052e-01, 1.1391871e+00, 3.9740098e-01,\n",
       "       1.0762990e+00, 8.4136343e-01, 5.8252001e-01, 4.0861154e-01,\n",
       "       5.6281984e-01, 2.7024639e-01, 6.9000638e-01, 8.6244369e-01,\n",
       "       5.7595563e-01, 7.2603118e-01, 5.9470689e-01, 2.7473211e-01,\n",
       "       5.6826186e-01, 2.4650784e+02, 9.8598832e-01, 7.3479068e-01,\n",
       "       6.1449623e-01, 1.2699622e+00, 7.5296319e-01, 2.8090358e-02,\n",
       "       9.4109213e-01, 8.2771111e-01, 4.2838442e-01, 3.8090675e+00,\n",
       "       4.7546709e-01, 2.4742079e-01, 4.1203547e-01, 7.3801911e-01,\n",
       "       1.0025257e+00, 6.7763782e-01, 6.7099619e-01, 8.6762822e-01,\n",
       "       5.6190348e-01, 8.8954902e-01, 8.1222010e-01, 8.6386180e-01,\n",
       "       7.6953566e-01, 1.0633967e+00, 5.9996891e-01, 5.3750610e-01,\n",
       "       7.0670819e-01, 4.9724150e-01, 3.3370614e-02, 6.8903613e-01,\n",
       "       9.4764221e-01, 5.0915122e-02, 5.0027347e-01, 9.6055913e-01,\n",
       "       5.5192137e-01, 7.9515433e-01, 7.2671640e-01, 3.9931262e-01,\n",
       "       1.8239129e-01, 9.9649012e-01, 8.4206927e-01, 4.1600978e-01,\n",
       "       4.0527940e-01, 7.6102638e-01, 2.3393106e-01, 4.7766042e-01,\n",
       "       2.2459340e-01, 8.5827851e-01, 1.4306033e-01, 2.4650784e+02,\n",
       "       7.1198571e-01, 3.9922416e+00, 1.2246186e+00, 7.4194229e-01,\n",
       "       2.7496171e-01, 4.5212805e-02, 7.4664807e-01, 1.3847947e-02,\n",
       "       8.7445688e-01, 6.6402781e-01, 1.0255686e+00, 4.5125723e-01,\n",
       "       4.8755097e-01, 2.4650784e+02, 4.4124365e-01, 1.0487792e+00,\n",
       "       5.8346188e-01, 2.6959336e-01, 3.5287654e-01, 5.9907603e-01,\n",
       "       4.8603582e-01, 6.1551094e-01, 6.9831514e-01, 5.1433253e-01,\n",
       "       1.8200487e-01, 9.6122825e-01, 7.8497732e-01, 2.2768998e-01,\n",
       "       9.6964097e-01, 1.4972503e+00, 8.0229974e-01, 1.0484257e+00,\n",
       "       5.5421102e-01, 8.3084774e-01, 4.7661805e-01, 3.9173824e-01,\n",
       "       3.1396019e-01, 4.2802992e+00, 2.7052438e-01, 2.6957560e-01,\n",
       "       7.5368738e-01, 4.4456518e-01, 3.1527257e-01, 8.5121763e-01,\n",
       "       9.0664178e-01, 9.4629610e-01, 5.6297445e-01, 5.9285718e-01,\n",
       "       6.3104606e-01, 5.2718985e-01, 6.5370166e-01, 7.0399725e-01,\n",
       "       4.5417070e-02, 2.4650784e+02, 7.2803473e-01, 1.1245636e+00,\n",
       "       3.7708211e-01, 3.7433398e-01, 4.3422055e-01, 3.2808065e-01,\n",
       "       6.2305951e-01, 1.7103601e-01, 7.9449832e-01, 1.3040452e+00,\n",
       "       7.1471536e-01, 4.5487504e+00, 4.1272748e-01, 6.5745860e-01,\n",
       "       6.6768157e-01, 8.8028562e-01, 7.0535421e-01, 5.2402341e-01,\n",
       "       5.6226981e-01, 5.4202604e-01, 2.7826047e-01, 2.6031137e-01,\n",
       "       6.0549617e-02, 3.6561573e-01, 2.4650784e+02, 8.0606019e-01,\n",
       "       8.4074116e-01, 4.9388194e-01, 7.1800745e-01, 2.9282093e-02,\n",
       "       1.9090211e-01, 3.8544512e-01, 1.4638956e+00, 1.4547678e+00,\n",
       "       1.0922147e+00, 2.6176953e-01, 1.3020796e-01, 5.6222248e-01,\n",
       "       5.6339896e-01, 7.6045167e-01, 7.8438163e-01, 7.5755298e-01,\n",
       "       8.2661462e-01, 3.5743856e-01, 1.3571662e-01, 5.3244066e-01,\n",
       "       8.8719201e-01, 8.2828355e-01, 3.8229942e-01, 6.0678411e-01,\n",
       "       4.7898412e-01, 8.2518208e-01, 5.2971601e-01, 6.7987609e-01,\n",
       "       7.6182199e-01, 1.0264168e+00, 6.2066817e-01, 9.0486789e-01,\n",
       "       4.7908902e-01, 1.1681950e-01, 7.6850456e-01, 3.1422675e-01,\n",
       "       9.3148047e-01, 9.5507002e-01, 8.3421135e-01, 5.6414163e-01,\n",
       "       4.1598296e-01, 5.0719857e-02, 9.6793044e-01, 1.4145180e+00,\n",
       "       1.4200950e-01, 8.1434751e-01, 7.0387411e-01, 8.6176515e-01,\n",
       "       6.2346458e-01, 1.4636874e-01, 3.2455921e-01, 1.5807381e+00,\n",
       "       5.9650755e-01, 7.9351628e-01, 1.6089365e+00, 7.5115800e-01,\n",
       "       5.8976293e-01, 4.7450304e-02, 6.6682827e-01, 7.1542680e-01,\n",
       "       4.6520185e-01, 3.4638846e-01, 7.5957966e-01, 4.9341345e-01,\n",
       "       4.8143768e-01, 1.2025452e-01, 6.0646594e-01, 1.1619196e+00,\n",
       "       2.7393532e-01, 8.4904301e-01, 2.5427663e-01, 7.0259297e-01,\n",
       "       5.2577734e-01, 2.9342413e-01, 6.1365223e-01, 9.0736806e-01],\n",
       "      dtype=float32), &#x27;mean_td_error&#x27;: 5.492199897766113, &#x27;model&#x27;: {}, &#x27;custom_metrics&#x27;: {}, &#x27;num_agent_steps_trained&#x27;: 256.0, &#x27;num_grad_updates_lifetime&#x27;: 668.0, &#x27;diff_num_grad_updates_vs_sampler_policy&#x27;: 667.0}}, &#x27;num_env_steps_sampled&#x27;: 13026, &#x27;num_env_steps_trained&#x27;: 258304, &#x27;num_agent_steps_sampled&#x27;: 13026, &#x27;num_agent_steps_trained&#x27;: 258304, &#x27;last_target_update_ts&#x27;: 13026, &#x27;num_target_updates&#x27;: 1009}       </td><td style=\"text-align: right;\">                         2</td><td>192.168.152.36</td><td style=\"text-align: right;\">                    13026</td><td style=\"text-align: right;\">                   258304</td><td style=\"text-align: right;\">                  13026</td><td style=\"text-align: right;\">                             1002</td><td style=\"text-align: right;\">                 258304</td><td style=\"text-align: right;\">                            85504</td><td style=\"text-align: right;\">                    0</td><td style=\"text-align: right;\">                    3</td><td style=\"text-align: right;\">                         0</td><td style=\"text-align: right;\">                           0</td><td style=\"text-align: right;\">                        85504</td><td>{&#x27;cpu_util_percent&#x27;: 54.76744186046512, &#x27;ram_util_percent&#x27;: 85.32209302325585}</td><td style=\"text-align: right;\">15703</td><td>{}                 </td><td>{}                  </td><td>{}                 </td><td>{&#x27;mean_raw_obs_processing_ms&#x27;: 1.3155451329359085, &#x27;mean_inference_ms&#x27;: 2.6820931912181267, &#x27;mean_action_processing_ms&#x27;: 0.25946855188663404, &#x27;mean_env_wait_ms&#x27;: 3.287473482817159, &#x27;mean_env_render_ms&#x27;: 0.0}</td><td>{&#x27;episode_reward_max&#x27;: -166.09740307927132, &#x27;episode_reward_min&#x27;: -189.6840973868966, &#x27;episode_reward_mean&#x27;: -179.5880893824829, &#x27;episode_len_mean&#x27;: 100.0, &#x27;episode_media&#x27;: {}, &#x27;episodes_this_iter&#x27;: 9, &#x27;policy_reward_min&#x27;: {}, &#x27;policy_reward_max&#x27;: {}, &#x27;policy_reward_mean&#x27;: {}, &#x27;custom_metrics&#x27;: {}, &#x27;hist_stats&#x27;: {&#x27;episode_reward&#x27;: [-187.3498569726944, -166.09740307927132, -172.9712873697281, -187.82146245241165, -176.65354753285646, -183.53197374939919, -176.7706963941455, -189.6840973868966, -175.4124795049429], &#x27;episode_lengths&#x27;: [100, 100, 100, 100, 100, 100, 100, 100, 100]}, &#x27;sampler_perf&#x27;: {&#x27;mean_raw_obs_processing_ms&#x27;: 1.3155451329359085, &#x27;mean_inference_ms&#x27;: 2.6820931912181267, &#x27;mean_action_processing_ms&#x27;: 0.25946855188663404, &#x27;mean_env_wait_ms&#x27;: 3.287473482817159, &#x27;mean_env_render_ms&#x27;: 0.0}, &#x27;num_faulty_episodes&#x27;: 0}</td><td style=\"text-align: right;\">             114.767</td><td style=\"text-align: right;\">            62.318</td><td style=\"text-align: right;\">       227.817</td><td>{&#x27;training_iteration_time_ms&#x27;: 151.985, &#x27;load_time_ms&#x27;: 0.246, &#x27;load_throughput&#x27;: 1042265.409, &#x27;learn_time_ms&#x27;: 25.824, &#x27;learn_throughput&#x27;: 9913.287, &#x27;synch_weights_time_ms&#x27;: 6.049}</td><td style=\"text-align: right;\"> 1676132915</td><td style=\"text-align: right;\">                        0</td><td style=\"text-align: right;\">            13026</td><td style=\"text-align: right;\">                  13</td><td>6a944_00000</td><td style=\"text-align: right;\">      9.03385</td></tr>\n",
       "</tbody>\n",
       "</table>\n",
       "</div>\n",
       "<style>\n",
       ".trialProgress {\n",
       "  display: flex;\n",
       "  flex-direction: column;\n",
       "  color: var(--jp-ui-font-color1);\n",
       "}\n",
       ".trialProgress h3 {\n",
       "  font-weight: bold;\n",
       "}\n",
       ".trialProgress td {\n",
       "  white-space: nowrap;\n",
       "}\n",
       "</style>\n"
      ],
      "text/plain": [
       "<IPython.core.display.HTML object>"
      ]
     },
     "metadata": {},
     "output_type": "display_data"
    },
    {
     "name": "stderr",
     "output_type": "stream",
     "text": [
      "\u001b[34m\u001b[1mwandb\u001b[0m: Adding directory to artifact (/home/daniel/DARM/darm_mujoco/darm_training/results/Test_DARMSF_DELTA_TARGET/SAC_darm_DarmSFHand-v0_6a944_00000_0_2023-02-11_17-23-28/checkpoint_000012)... Done. 0.0s\n",
      "\u001b[2m\u001b[33m(raylet)\u001b[0m [2023-02-11 17:27:36,665 E 14732 14777] (raylet) file_system_monitor.cc:105: /tmp/ray/session_2023-02-11_17-23-24_266872_14581 is over 95% full, available space: 1055997952; capacity: 31845081088. Object creation will fail if spilling is required.\n",
      "\u001b[2m\u001b[33m(raylet)\u001b[0m [2023-02-11 17:27:46,672 E 14732 14777] (raylet) file_system_monitor.cc:105: /tmp/ray/session_2023-02-11_17-23-24_266872_14581 is over 95% full, available space: 1055973376; capacity: 31845081088. Object creation will fail if spilling is required.\n",
      "\u001b[2m\u001b[33m(raylet)\u001b[0m [2023-02-11 17:27:56,678 E 14732 14777] (raylet) file_system_monitor.cc:105: /tmp/ray/session_2023-02-11_17-23-24_266872_14581 is over 95% full, available space: 1055977472; capacity: 31845081088. Object creation will fail if spilling is required.\n",
      "\u001b[2m\u001b[33m(raylet)\u001b[0m [2023-02-11 17:28:06,689 E 14732 14777] (raylet) file_system_monitor.cc:105: /tmp/ray/session_2023-02-11_17-23-24_266872_14581 is over 95% full, available space: 1056280576; capacity: 31845081088. Object creation will fail if spilling is required.\n",
      "\u001b[2m\u001b[33m(raylet)\u001b[0m [2023-02-11 17:28:16,700 E 14732 14777] (raylet) file_system_monitor.cc:105: /tmp/ray/session_2023-02-11_17-23-24_266872_14581 is over 95% full, available space: 1056186368; capacity: 31845081088. Object creation will fail if spilling is required.\n",
      "\u001b[2m\u001b[33m(raylet)\u001b[0m [2023-02-11 17:28:26,706 E 14732 14777] (raylet) file_system_monitor.cc:105: /tmp/ray/session_2023-02-11_17-23-24_266872_14581 is over 95% full, available space: 1056030720; capacity: 31845081088. Object creation will fail if spilling is required.\n",
      "\u001b[34m\u001b[1mwandb\u001b[0m: Adding directory to artifact (/home/daniel/DARM/darm_mujoco/darm_training/results/Test_DARMSF_DELTA_TARGET/SAC_darm_DarmSFHand-v0_6a944_00000_0_2023-02-11_17-23-28/checkpoint_000013)... Done. 0.0s\n",
      "\u001b[2m\u001b[33m(raylet)\u001b[0m [2023-02-11 17:28:36,714 E 14732 14777] (raylet) file_system_monitor.cc:105: /tmp/ray/session_2023-02-11_17-23-24_266872_14581 is over 95% full, available space: 1053261824; capacity: 31845081088. Object creation will fail if spilling is required.\n",
      "\u001b[2m\u001b[33m(raylet)\u001b[0m [2023-02-11 17:28:46,719 E 14732 14777] (raylet) file_system_monitor.cc:105: /tmp/ray/session_2023-02-11_17-23-24_266872_14581 is over 95% full, available space: 1053159424; capacity: 31845081088. Object creation will fail if spilling is required.\n",
      "\u001b[2m\u001b[33m(raylet)\u001b[0m [2023-02-11 17:28:56,725 E 14732 14777] (raylet) file_system_monitor.cc:105: /tmp/ray/session_2023-02-11_17-23-24_266872_14581 is over 95% full, available space: 1053106176; capacity: 31845081088. Object creation will fail if spilling is required.\n",
      "\u001b[2m\u001b[33m(raylet)\u001b[0m [2023-02-11 17:29:06,732 E 14732 14777] (raylet) file_system_monitor.cc:105: /tmp/ray/session_2023-02-11_17-23-24_266872_14581 is over 95% full, available space: 1053073408; capacity: 31845081088. Object creation will fail if spilling is required.\n",
      "2023-02-11 17:29:16,846\tWARNING tune.py:690 -- Stop signal received (e.g. via SIGINT/Ctrl+C), ending Ray Tune run. This will try to checkpoint the experiment state one last time. Press CTRL+C (or send SIGINT/SIGKILL/SIGTERM) to skip. \n",
      "\u001b[2m\u001b[33m(raylet)\u001b[0m [2023-02-11 17:29:16,738 E 14732 14777] (raylet) file_system_monitor.cc:105: /tmp/ray/session_2023-02-11_17-23-24_266872_14581 is over 95% full, available space: 1053069312; capacity: 31845081088. Object creation will fail if spilling is required.\n",
      "2023-02-11 17:29:17,441\tWARNING tune.py:690 -- Stop signal received (e.g. via SIGINT/Ctrl+C), ending Ray Tune run. This will try to checkpoint the experiment state one last time. Press CTRL+C (or send SIGINT/SIGKILL/SIGTERM) to skip. \n",
      "2023-02-11 17:29:20,661\tERROR tune.py:758 -- Trials did not complete: [SAC_darm_DarmSFHand-v0_6a944_00000]\n",
      "2023-02-11 17:29:20,663\tINFO tune.py:762 -- Total run time: 174.25 seconds (174.00 seconds for the tuning loop).\n",
      "2023-02-11 17:29:20,664\tWARNING tune.py:768 -- Experiment has been interrupted, but the most recent state was saved. You can continue running this experiment by passing `resume=True` to `tune.run()`\n"
     ]
    },
    {
     "data": {
      "text/plain": [
       "<ray.tune.result_grid.ResultGrid at 0x7fedc40a1d90>"
      ]
     },
     "execution_count": 11,
     "metadata": {},
     "output_type": "execute_result"
    }
   ],
   "source": [
    "# resume the interrupted run\n",
    "tuner.fit()"
   ]
  },
  {
   "cell_type": "code",
   "execution_count": null,
   "id": "1d25217d-5941-40bc-b103-d5ff3f6e9c72",
   "metadata": {},
   "outputs": [],
   "source": []
  }
 ],
 "metadata": {
  "kernelspec": {
   "display_name": "Python 3",
   "language": "python",
   "name": "python3"
  },
  "language_info": {
   "codemirror_mode": {
    "name": "ipython",
    "version": 3
   },
   "file_extension": ".py",
   "mimetype": "text/x-python",
   "name": "python",
   "nbconvert_exporter": "python",
   "pygments_lexer": "ipython3",
   "version": "3.8.12"
  },
  "vscode": {
   "interpreter": {
    "hash": "f502c9f8cc810ebd22b57e7c79a9d06f7b7c060e6ecfb4908c78b2fe1d232067"
   }
  }
 },
 "nbformat": 4,
 "nbformat_minor": 5
}
