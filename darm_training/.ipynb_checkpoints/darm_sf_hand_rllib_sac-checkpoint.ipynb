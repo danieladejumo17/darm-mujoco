{
 "cells": [
  {
   "cell_type": "markdown",
   "id": "799cc8cb-e1a5-4a58-a984-efc11326303e",
   "metadata": {},
   "source": [
    "## Installation and Imports"
   ]
  },
  {
   "cell_type": "code",
   "execution_count": 1,
   "id": "d23a9220-2972-4248-9c15-0f55802c4359",
   "metadata": {},
   "outputs": [
    {
     "name": "stdout",
     "output_type": "stream",
     "text": [
      "/home/daniel/DARM/darm_mujoco/darm_training\n"
     ]
    }
   ],
   "source": [
    "!pwd"
   ]
  },
  {
   "cell_type": "code",
   "execution_count": 2,
   "id": "f874e73d-f740-45bf-bed4-117e846ac0f2",
   "metadata": {},
   "outputs": [],
   "source": [
    "# Configure env variables\n",
    "\n",
    "# TODO: change path\n",
    "import os\n",
    "os.environ[\"DARM_MUJOCO_PATH\"] = \"/home/daniel/DARM/darm_mujoco\""
   ]
  },
  {
   "cell_type": "code",
   "execution_count": null,
   "id": "b21d33a5-8591-4a1c-891e-a71073ff1c91",
   "metadata": {},
   "outputs": [],
   "source": [
    "!pip install ray[rllib] torch\n",
    "!pip install wandb\n",
    "!pip install tensorflow_probability"
   ]
  },
  {
   "cell_type": "code",
   "execution_count": 4,
   "id": "773175aa-0f05-4ed7-80e3-bd401c43d56d",
   "metadata": {
    "collapsed": true,
    "jupyter": {
     "outputs_hidden": true
    },
    "tags": []
   },
   "outputs": [
    {
     "name": "stdout",
     "output_type": "stream",
     "text": [
      "/home/daniel/DARM/darm_mujoco\n",
      "running install\n",
      "/home/daniel/miniconda3/lib/python3.8/site-packages/setuptools/command/install.py:34: SetuptoolsDeprecationWarning: setup.py install is deprecated. Use build and pip and other standards-based tools.\n",
      "  warnings.warn(\n",
      "/home/daniel/miniconda3/lib/python3.8/site-packages/setuptools/command/easy_install.py:144: EasyInstallDeprecationWarning: easy_install command is deprecated. Use build and pip and other standards-based tools.\n",
      "  warnings.warn(\n",
      "running bdist_egg\n",
      "running egg_info\n",
      "writing darm_gym_env.egg-info/PKG-INFO\n",
      "writing dependency_links to darm_gym_env.egg-info/dependency_links.txt\n",
      "writing requirements to darm_gym_env.egg-info/requires.txt\n",
      "writing top-level names to darm_gym_env.egg-info/top_level.txt\n",
      "reading manifest file 'darm_gym_env.egg-info/SOURCES.txt'\n",
      "writing manifest file 'darm_gym_env.egg-info/SOURCES.txt'\n",
      "installing library code to build/bdist.linux-x86_64/egg\n",
      "running install_lib\n",
      "running build_py\n",
      "creating build/bdist.linux-x86_64/egg\n",
      "creating build/bdist.linux-x86_64/egg/darm_gym_env\n",
      "copying build/lib/darm_gym_env/darm_sf_gym.py -> build/bdist.linux-x86_64/egg/darm_gym_env\n",
      "copying build/lib/darm_gym_env/__init__.py -> build/bdist.linux-x86_64/egg/darm_gym_env\n",
      "copying build/lib/darm_gym_env/multi_darm_gym.py -> build/bdist.linux-x86_64/egg/darm_gym_env\n",
      "copying build/lib/darm_gym_env/darm_gym.py -> build/bdist.linux-x86_64/egg/darm_gym_env\n",
      "copying build/lib/darm_gym_env/env_test.py -> build/bdist.linux-x86_64/egg/darm_gym_env\n",
      "byte-compiling build/bdist.linux-x86_64/egg/darm_gym_env/darm_sf_gym.py to darm_sf_gym.cpython-38.pyc\n",
      "byte-compiling build/bdist.linux-x86_64/egg/darm_gym_env/__init__.py to __init__.cpython-38.pyc\n",
      "byte-compiling build/bdist.linux-x86_64/egg/darm_gym_env/multi_darm_gym.py to multi_darm_gym.cpython-38.pyc\n",
      "byte-compiling build/bdist.linux-x86_64/egg/darm_gym_env/darm_gym.py to darm_gym.cpython-38.pyc\n",
      "byte-compiling build/bdist.linux-x86_64/egg/darm_gym_env/env_test.py to env_test.cpython-38.pyc\n",
      "creating build/bdist.linux-x86_64/egg/EGG-INFO\n",
      "copying darm_gym_env.egg-info/PKG-INFO -> build/bdist.linux-x86_64/egg/EGG-INFO\n",
      "copying darm_gym_env.egg-info/SOURCES.txt -> build/bdist.linux-x86_64/egg/EGG-INFO\n",
      "copying darm_gym_env.egg-info/dependency_links.txt -> build/bdist.linux-x86_64/egg/EGG-INFO\n",
      "copying darm_gym_env.egg-info/requires.txt -> build/bdist.linux-x86_64/egg/EGG-INFO\n",
      "copying darm_gym_env.egg-info/top_level.txt -> build/bdist.linux-x86_64/egg/EGG-INFO\n",
      "zip_safe flag not set; analyzing archive contents...\n",
      "darm_gym_env.__pycache__.darm_gym.cpython-38: module references __file__\n",
      "darm_gym_env.__pycache__.multi_darm_gym.cpython-38: module references __file__\n",
      "creating 'dist/darm_gym_env-0.0.1-py3.8.egg' and adding 'build/bdist.linux-x86_64/egg' to it\n",
      "removing 'build/bdist.linux-x86_64/egg' (and everything under it)\n",
      "Processing darm_gym_env-0.0.1-py3.8.egg\n",
      "removing '/home/daniel/miniconda3/lib/python3.8/site-packages/darm_gym_env-0.0.1-py3.8.egg' (and everything under it)\n",
      "creating /home/daniel/miniconda3/lib/python3.8/site-packages/darm_gym_env-0.0.1-py3.8.egg\n",
      "Extracting darm_gym_env-0.0.1-py3.8.egg to /home/daniel/miniconda3/lib/python3.8/site-packages\n",
      "darm-gym-env 0.0.1 is already the active version in easy-install.pth\n",
      "\n",
      "Installed /home/daniel/miniconda3/lib/python3.8/site-packages/darm_gym_env-0.0.1-py3.8.egg\n",
      "Processing dependencies for darm-gym-env==0.0.1\n",
      "Searching for gym==0.21.0\n",
      "Best match: gym 0.21.0\n",
      "Adding gym 0.21.0 to easy-install.pth file\n",
      "\n",
      "Using /home/daniel/miniconda3/lib/python3.8/site-packages\n",
      "Searching for mujoco==2.2.2\n",
      "Best match: mujoco 2.2.2\n",
      "Adding mujoco 2.2.2 to easy-install.pth file\n",
      "\n",
      "Using /home/daniel/miniconda3/lib/python3.8/site-packages\n",
      "Searching for cloudpickle==2.2.0\n",
      "Best match: cloudpickle 2.2.0\n",
      "Adding cloudpickle 2.2.0 to easy-install.pth file\n",
      "\n",
      "Using /home/daniel/miniconda3/lib/python3.8/site-packages\n",
      "Searching for numpy==1.23.4\n",
      "Best match: numpy 1.23.4\n",
      "Adding numpy 1.23.4 to easy-install.pth file\n",
      "Installing f2py script to /home/daniel/miniconda3/bin\n",
      "Installing f2py3 script to /home/daniel/miniconda3/bin\n",
      "Installing f2py3.8 script to /home/daniel/miniconda3/bin\n",
      "\n",
      "Using /home/daniel/miniconda3/lib/python3.8/site-packages\n",
      "Searching for PyOpenGL==3.1.6\n",
      "Best match: PyOpenGL 3.1.6\n",
      "Adding PyOpenGL 3.1.6 to easy-install.pth file\n",
      "\n",
      "Using /home/daniel/miniconda3/lib/python3.8/site-packages\n",
      "Searching for glfw==2.5.5\n",
      "Best match: glfw 2.5.5\n",
      "Adding glfw 2.5.5 to easy-install.pth file\n",
      "\n",
      "Using /home/daniel/miniconda3/lib/python3.8/site-packages\n",
      "Searching for absl-py==1.2.0\n",
      "Best match: absl-py 1.2.0\n",
      "Adding absl-py 1.2.0 to easy-install.pth file\n",
      "\n",
      "Using /home/daniel/miniconda3/lib/python3.8/site-packages\n",
      "Finished processing dependencies for darm-gym-env==0.0.1\n"
     ]
    }
   ],
   "source": [
    "%cd /home/daniel/DARM/darm_mujoco\n",
    "!python setup.py install"
   ]
  },
  {
   "cell_type": "code",
   "execution_count": null,
   "id": "07e3679f-78c0-46dd-a387-c2b63c39958a",
   "metadata": {},
   "outputs": [],
   "source": [
    "# Check if mujoco import is successful\n",
    "import mujoco"
   ]
  },
  {
   "cell_type": "code",
   "execution_count": null,
   "id": "8e486c3f-2352-4846-8c0f-0933541cf336",
   "metadata": {},
   "outputs": [],
   "source": [
    "# If mujoco import fails, update pandas and restart runtime\n",
    "!pip install pandas -U"
   ]
  },
  {
   "cell_type": "code",
   "execution_count": 3,
   "id": "b9c7e52e-b467-4d91-8fe9-d1035e51c932",
   "metadata": {},
   "outputs": [],
   "source": [
    "import ray\n",
    "from ray.rllib.algorithms.sac import SACConfig\n",
    "from ray.tune.registry import register_env\n",
    "from ray.tune.logger import pretty_print\n",
    "\n",
    "from ray import air, tune\n",
    "from ray.air import session\n",
    "from ray.air.integrations.wandb import setup_wandb\n",
    "from ray.air.integrations.wandb import WandbLoggerCallback\n",
    "\n",
    "import gym\n",
    "from darm_gym_env import DARMSFEnv"
   ]
  },
  {
   "cell_type": "markdown",
   "id": "3d2cb250-242a-446f-a47e-2c8438d64ea8",
   "metadata": {},
   "source": [
    "## Register Environment with RLlib"
   ]
  },
  {
   "cell_type": "code",
   "execution_count": 9,
   "id": "0ee4bf2a-d82c-4aaa-b278-f11a080e28af",
   "metadata": {},
   "outputs": [],
   "source": [
    "# env_creator = lambda env_config: gym.make(\"darm/DarmSFHand-v0\", render_mode=None, hand_name=\"hand1\") # DARMSFEnv(render_mode=None, reaction_time=0.08, hand_name=\"hand1\") # \n",
    "\n",
    "def make_env(env_config):\n",
    "    env = gym.wrappers.TimeLimit(env=DARMSFEnv(render_mode=None, reaction_time=0.08, hand_name=\"hand1\"), max_episode_steps=100)\n",
    "    return env\n",
    "env_creator = lambda env_config: make_env(env_config) #gym.wrappers.TimeLimit(env=DARMSFEnv(render_mode=None, reaction_time=0.08, hand_name=\"hand1\"), max_episode_steps=100)\n",
    "\n",
    "register_env(\"darm/DarmSFHand-v0\", env_creator)"
   ]
  },
  {
   "cell_type": "markdown",
   "id": "049729f3-c175-4d9c-b449-43af66f121a5",
   "metadata": {},
   "source": [
    "## Configure and Run"
   ]
  },
  {
   "cell_type": "code",
   "execution_count": 10,
   "id": "4a0ed8ba-4f6b-47f9-b0e7-37d0eec71647",
   "metadata": {},
   "outputs": [],
   "source": [
    "# TODO:\n",
    "# change: rollout_workers\n",
    "# change: gpu\n",
    "\n",
    "config = (\n",
    "    SACConfig()\n",
    "    .environment(\n",
    "        env=\"darm/DarmSFHand-v0\",\n",
    "        normalize_actions=True\n",
    "    )\n",
    "    .training(\n",
    "        q_model_config={\n",
    "            \"fcnet_activation\": \"relu\",\n",
    "            \"fcnet_hiddens\": [256, 256]\n",
    "        },\n",
    "        policy_model_config={\n",
    "            \"fcnet_activation\": \"relu\",\n",
    "            \"fcnet_hiddens\": [256, 256]\n",
    "        },\n",
    "        tau=0.005,\n",
    "        target_entropy=\"auto\",\n",
    "        n_step=1,  # num of SGD steps per batch of data in training step\n",
    "        train_batch_size=256,\n",
    "        target_network_update_freq=1,\n",
    "        replay_buffer_config={\"type\":\"MultiAgentPrioritizedReplayBuffer\"},\n",
    "        num_steps_sampled_before_learning_starts=10_000,\n",
    "        optimization_config={\n",
    "          \"actor_learning_rate\": 0.0003,\n",
    "          \"critic_learning_rate\": 0.0003,\n",
    "          \"entropy_learning_rate\": 0.0003,\n",
    "        },\n",
    "        clip_actions=False\n",
    "    )\n",
    "    .rollouts(\n",
    "        num_rollout_workers=3,\n",
    "        rollout_fragment_length=1,\n",
    "        recreate_failed_workers=True,\n",
    "        num_consecutive_worker_failures_tolerance=10,\n",
    "        restart_failed_sub_environments=True\n",
    "    )\n",
    "    .resources(num_gpus=0)\n",
    "    .evaluation(evaluation_interval=100) # For 1000 timesteps iter; 100 evals\n",
    "    .reporting(\n",
    "        min_sample_timesteps_per_iteration=1000,\n",
    "        metrics_num_episodes_for_smoothing=5\n",
    "    )\n",
    "    .framework(framework=\"torch\")\n",
    ")"
   ]
  },
  {
   "cell_type": "code",
   "execution_count": 11,
   "id": "46f0fa8e-5023-44c3-a9f7-8a6b041617a2",
   "metadata": {},
   "outputs": [],
   "source": [
    "# TODO:\n",
    "# change: rollout_workers\n",
    "# change: gpu\n",
    "# change: tags\n",
    "# change: name\n",
    "\n",
    "wandb_init = dict(\n",
    "    save_code=True,\n",
    "    config={\n",
    "        \"env\": \"DARMSFHand-v0\",\n",
    "        \n",
    "        \"actor_learning_rate\": 0.0003,\n",
    "        \"critic_learning_rate\": 0.0003,\n",
    "        \"entropy_learning_rate\": 0.0003,\n",
    "        \"framework\": \"torch\",\n",
    "        \n",
    "        \"num_rollout_workers\": 3,\n",
    "        \"num_gpu\": 0,\n",
    "        \"metrics_num_episodes_for_smoothing\": 5\n",
    "    },\n",
    "    tags=[\"single_finger\"],\n",
    "    notes=\"Fixed the env to use targets that are delta increaments from the starting state. Removed velocity penalty, and used only effort penalty\",\n",
    "    name=\"Test_DARMSF_DELTA_TARGET\"\n",
    "    # job_type=\n",
    "    # monitor_gym=\n",
    ")"
   ]
  },
  {
   "cell_type": "code",
   "execution_count": null,
   "id": "6d7468b3-f377-4c7f-a0c3-6dec032fdc37",
   "metadata": {},
   "outputs": [],
   "source": [
    "%cd /home/daniel/DARM/darm-mujoco/darm_training/"
   ]
  },
  {
   "cell_type": "code",
   "execution_count": 13,
   "id": "727ee5b8-0cc3-4831-91ee-34514946c66a",
   "metadata": {
    "collapsed": true,
    "jupyter": {
     "outputs_hidden": true
    },
    "tags": []
   },
   "outputs": [
    {
     "name": "stderr",
     "output_type": "stream",
     "text": [
      "2023-02-10 10:14:20,826\tINFO wandb.py:250 -- Already logged into W&B.\n"
     ]
    },
    {
     "data": {
      "text/html": [
       "<div class=\"tuneStatus\">\n",
       "  <div style=\"display: flex;flex-direction: row\">\n",
       "    <div style=\"display: flex;flex-direction: column;\">\n",
       "      <h3>Tune Status</h3>\n",
       "      <table>\n",
       "<tbody>\n",
       "<tr><td>Current time:</td><td>2023-02-10 10:20:23</td></tr>\n",
       "<tr><td>Running for: </td><td>00:06:02.71        </td></tr>\n",
       "<tr><td>Memory:      </td><td>5.8/7.5 GiB        </td></tr>\n",
       "</tbody>\n",
       "</table>\n",
       "    </div>\n",
       "    <div class=\"vDivider\"></div>\n",
       "    <div class=\"systemInfo\">\n",
       "      <h3>System Info</h3>\n",
       "      Using FIFO scheduling algorithm.<br>Resources requested: 4.0/4 CPUs, 0/0 GPUs, 0.0/2.17 GiB heap, 0.0/1.09 GiB objects\n",
       "    </div>\n",
       "    \n",
       "  </div>\n",
       "  <div class=\"hDivider\"></div>\n",
       "  <div class=\"trialStatus\">\n",
       "    <h3>Trial Status</h3>\n",
       "    <table>\n",
       "<thead>\n",
       "<tr><th>Trial name                        </th><th>status  </th><th>loc                </th><th style=\"text-align: right;\">  iter</th><th style=\"text-align: right;\">  total time (s)</th><th style=\"text-align: right;\">   ts</th><th style=\"text-align: right;\">  reward</th><th style=\"text-align: right;\">  episode_reward_max</th><th style=\"text-align: right;\">  episode_reward_min</th><th style=\"text-align: right;\">  episode_len_mean</th></tr>\n",
       "</thead>\n",
       "<tbody>\n",
       "<tr><td>SAC_darm_DarmSFHand-v0_4d890_00000</td><td>RUNNING </td><td>192.168.152.36:5853</td><td style=\"text-align: right;\">    15</td><td style=\"text-align: right;\">         324.493</td><td style=\"text-align: right;\">15030</td><td style=\"text-align: right;\">-141.846</td><td style=\"text-align: right;\">             248.713</td><td style=\"text-align: right;\">            -192.044</td><td style=\"text-align: right;\">              90.1</td></tr>\n",
       "</tbody>\n",
       "</table>\n",
       "  </div>\n",
       "</div>\n",
       "<style>\n",
       ".tuneStatus {\n",
       "  color: var(--jp-ui-font-color1);\n",
       "}\n",
       ".tuneStatus .systemInfo {\n",
       "  display: flex;\n",
       "  flex-direction: column;\n",
       "}\n",
       ".tuneStatus td {\n",
       "  white-space: nowrap;\n",
       "}\n",
       ".tuneStatus .trialStatus {\n",
       "  display: flex;\n",
       "  flex-direction: column;\n",
       "}\n",
       ".tuneStatus h3 {\n",
       "  font-weight: bold;\n",
       "}\n",
       ".tuneStatus .hDivider {\n",
       "  border-bottom-width: var(--jp-border-width);\n",
       "  border-bottom-color: var(--jp-border-color0);\n",
       "  border-bottom-style: solid;\n",
       "}\n",
       ".tuneStatus .vDivider {\n",
       "  border-left-width: var(--jp-border-width);\n",
       "  border-left-color: var(--jp-border-color0);\n",
       "  border-left-style: solid;\n",
       "  margin: 0.5em 1em 0.5em 1em;\n",
       "}\n",
       "</style>\n"
      ],
      "text/plain": [
       "<IPython.core.display.HTML object>"
      ]
     },
     "metadata": {},
     "output_type": "display_data"
    },
    {
     "name": "stderr",
     "output_type": "stream",
     "text": [
      "\u001b[2m\u001b[33m(raylet)\u001b[0m [2023-02-10 10:14:24,662 E 4970 5022] (raylet) file_system_monitor.cc:105: /tmp/ray/session_2023-02-10_10-10-12_403153_4748 is over 95% full, available space: 1222045696; capacity: 31845081088. Object creation will fail if spilling is required.\n",
      "\u001b[2m\u001b[36m(SAC pid=5853)\u001b[0m 2023-02-10 10:14:25,008\tWARNING algorithm_config.py:488 -- Cannot create SACConfig from given `config_dict`! Property __stdout_file__ not supported.\n",
      "\u001b[34m\u001b[1mwandb\u001b[0m: Currently logged in as: \u001b[33mdanieladejumo\u001b[0m. Use \u001b[1m`wandb login --relogin`\u001b[0m to force relogin\n",
      "\u001b[2m\u001b[36m(SAC pid=5853)\u001b[0m 2023-02-10 10:14:25,417\tINFO algorithm.py:501 -- Current log_level is WARN. For more information, set 'log_level': 'INFO' / 'DEBUG' or use the -v and -vv flags.\n",
      "\u001b[2m\u001b[36m(RolloutWorker pid=5990)\u001b[0m /home/daniel/miniconda3/lib/python3.8/site-packages/gym/spaces/box.py:73: UserWarning: \u001b[33mWARN: Box bound precision lowered by casting to float32\u001b[0m\n",
      "\u001b[2m\u001b[36m(RolloutWorker pid=5990)\u001b[0m   logger.warn(\n"
     ]
    },
    {
     "name": "stdout",
     "output_type": "stream",
     "text": [
      "\u001b[2m\u001b[36m(RolloutWorker pid=5990)\u001b[0m Loaded XML file successfully\n",
      "\u001b[2m\u001b[36m(RolloutWorker pid=5989)\u001b[0m Loaded XML file successfully\n"
     ]
    },
    {
     "name": "stderr",
     "output_type": "stream",
     "text": [
      "\u001b[2m\u001b[36m(RolloutWorker pid=5989)\u001b[0m /home/daniel/miniconda3/lib/python3.8/site-packages/gym/spaces/box.py:73: UserWarning: \u001b[33mWARN: Box bound precision lowered by casting to float32\u001b[0m\n",
      "\u001b[2m\u001b[36m(RolloutWorker pid=5989)\u001b[0m   logger.warn(\n",
      "\u001b[2m\u001b[36m(RolloutWorker pid=5989)\u001b[0m 2023-02-10 10:14:32,075\tWARNING env.py:147 -- Your env doesn't have a .spec.max_episode_steps attribute. This is fine if you have set 'horizon' in your config dictionary, or `soft_horizon`. However, if you haven't, 'horizon' will default to infinity, and your environment will not be reset.\n"
     ]
    },
    {
     "name": "stdout",
     "output_type": "stream",
     "text": [
      "\u001b[2m\u001b[36m(RolloutWorker pid=5991)\u001b[0m Loaded XML file successfully\n"
     ]
    },
    {
     "name": "stderr",
     "output_type": "stream",
     "text": [
      "\u001b[2m\u001b[36m(RolloutWorker pid=5991)\u001b[0m /home/daniel/miniconda3/lib/python3.8/site-packages/gym/spaces/box.py:73: UserWarning: \u001b[33mWARN: Box bound precision lowered by casting to float32\u001b[0m\n",
      "\u001b[2m\u001b[36m(RolloutWorker pid=5991)\u001b[0m   logger.warn(\n"
     ]
    },
    {
     "name": "stdout",
     "output_type": "stream",
     "text": [
      "\u001b[2m\u001b[36m(SAC pid=5853)\u001b[0m Loaded XML file successfully\n"
     ]
    },
    {
     "name": "stderr",
     "output_type": "stream",
     "text": [
      "\u001b[2m\u001b[36m(SAC pid=5853)\u001b[0m /home/daniel/miniconda3/lib/python3.8/site-packages/gym/spaces/box.py:73: UserWarning: \u001b[33mWARN: Box bound precision lowered by casting to float32\u001b[0m\n",
      "\u001b[2m\u001b[36m(SAC pid=5853)\u001b[0m   logger.warn(\n",
      "\u001b[2m\u001b[36m(SAC pid=5853)\u001b[0m 2023-02-10 10:14:33,358\tWARNING env.py:147 -- Your env doesn't have a .spec.max_episode_steps attribute. This is fine if you have set 'horizon' in your config dictionary, or `soft_horizon`. However, if you haven't, 'horizon' will default to infinity, and your environment will not be reset.\n",
      "\u001b[2m\u001b[36m(SAC pid=5853)\u001b[0m 2023-02-10 10:14:33,390\tWARNING util.py:66 -- Install gputil for GPU system monitoring.\n",
      "\u001b[2m\u001b[36m(SAC pid=5853)\u001b[0m 2023-02-10 10:14:33,703\tWARNING multi_agent_prioritized_replay_buffer.py:215 -- Adding batches with column `weights` to this buffer while providing weights as a call argument to the add method results in the column being overwritten.\n",
      "\u001b[2m\u001b[33m(raylet)\u001b[0m [2023-02-10 10:14:34,668 E 4970 5022] (raylet) file_system_monitor.cc:105: /tmp/ray/session_2023-02-10_10-10-12_403153_4748 is over 95% full, available space: 1221922816; capacity: 31845081088. Object creation will fail if spilling is required.\n"
     ]
    },
    {
     "data": {
      "text/html": [
       "Tracking run with wandb version 0.13.10"
      ],
      "text/plain": [
       "<IPython.core.display.HTML object>"
      ]
     },
     "metadata": {},
     "output_type": "display_data"
    },
    {
     "data": {
      "text/html": [
       "Run data is saved locally in <code>/home/daniel/DARM/darm_mujoco/results/Test_DARMSF_DELTA_TARGET/SAC_darm_DarmSFHand-v0_4d890_00000_0_2023-02-10_10-14-21/wandb/run-20230210_101425-4d890_00000</code>"
      ],
      "text/plain": [
       "<IPython.core.display.HTML object>"
      ]
     },
     "metadata": {},
     "output_type": "display_data"
    },
    {
     "data": {
      "text/html": [
       "Syncing run <strong><a href='https://wandb.ai/danieladejumo/DARM/runs/4d890_00000' target=\"_blank\">Test_DARMSF_DELTA_TARGET</a></strong> to <a href='https://wandb.ai/danieladejumo/DARM' target=\"_blank\">Weights & Biases</a> (<a href='https://wandb.me/run' target=\"_blank\">docs</a>)<br/>"
      ],
      "text/plain": [
       "<IPython.core.display.HTML object>"
      ]
     },
     "metadata": {},
     "output_type": "display_data"
    },
    {
     "data": {
      "text/html": [
       " View project at <a href='https://wandb.ai/danieladejumo/DARM' target=\"_blank\">https://wandb.ai/danieladejumo/DARM</a>"
      ],
      "text/plain": [
       "<IPython.core.display.HTML object>"
      ]
     },
     "metadata": {},
     "output_type": "display_data"
    },
    {
     "data": {
      "text/html": [
       " View run at <a href='https://wandb.ai/danieladejumo/DARM/runs/4d890_00000' target=\"_blank\">https://wandb.ai/danieladejumo/DARM/runs/4d890_00000</a>"
      ],
      "text/plain": [
       "<IPython.core.display.HTML object>"
      ]
     },
     "metadata": {},
     "output_type": "display_data"
    },
    {
     "data": {
      "text/html": [
       "<div class=\"trialProgress\">\n",
       "  <h3>Trial Progress</h3>\n",
       "  <table>\n",
       "<thead>\n",
       "<tr><th>Trial name                        </th><th style=\"text-align: right;\">  agent_timesteps_total</th><th>counters                                                                                                                                                                                          </th><th>custom_metrics  </th><th>date               </th><th>done  </th><th style=\"text-align: right;\">  episode_len_mean</th><th>episode_media  </th><th style=\"text-align: right;\">  episode_reward_max</th><th style=\"text-align: right;\">  episode_reward_mean</th><th style=\"text-align: right;\">  episode_reward_min</th><th style=\"text-align: right;\">  episodes_this_iter</th><th style=\"text-align: right;\">  episodes_total</th><th>experiment_id                   </th><th>hostname  </th><th>info  </th><th style=\"text-align: right;\">  iterations_since_restore</th><th>node_ip       </th><th style=\"text-align: right;\">  num_agent_steps_sampled</th><th style=\"text-align: right;\">  num_agent_steps_trained</th><th style=\"text-align: right;\">  num_env_steps_sampled</th><th style=\"text-align: right;\">  num_env_steps_sampled_this_iter</th><th style=\"text-align: right;\">  num_env_steps_trained</th><th style=\"text-align: right;\">  num_env_steps_trained_this_iter</th><th style=\"text-align: right;\">  num_faulty_episodes</th><th style=\"text-align: right;\">  num_healthy_workers</th><th style=\"text-align: right;\">  num_in_flight_async_reqs</th><th style=\"text-align: right;\">  num_remote_worker_restarts</th><th style=\"text-align: right;\">  num_steps_trained_this_iter</th><th>perf                                                                          </th><th style=\"text-align: right;\">  pid</th><th>policy_reward_max  </th><th>policy_reward_mean  </th><th>policy_reward_min  </th><th>sampler_perf                                                                                                                                                                                                   </th><th>sampler_results                                                                                                                                                                                                                                                                                                                                                                                                                                                                                                                                                                                                                                                                                                                                                                                                                                                                              </th><th style=\"text-align: right;\">  time_since_restore</th><th style=\"text-align: right;\">  time_this_iter_s</th><th style=\"text-align: right;\">  time_total_s</th><th>timers                                                                                                                                                                              </th><th style=\"text-align: right;\">  timestamp</th><th style=\"text-align: right;\">  timesteps_since_restore</th><th style=\"text-align: right;\">  timesteps_total</th><th style=\"text-align: right;\">  training_iteration</th><th>trial_id   </th><th style=\"text-align: right;\">  warmup_time</th></tr>\n",
       "</thead>\n",
       "<tbody>\n",
       "<tr><td>SAC_darm_DarmSFHand-v0_4d890_00000</td><td style=\"text-align: right;\">                  15030</td><td>{&#x27;num_env_steps_sampled&#x27;: 15030, &#x27;num_env_steps_trained&#x27;: 429312, &#x27;num_agent_steps_sampled&#x27;: 15030, &#x27;num_agent_steps_trained&#x27;: 429312, &#x27;last_target_update_ts&#x27;: 15030, &#x27;num_target_updates&#x27;: 1677}</td><td>{}              </td><td>2023-02-10_10-19-58</td><td>False </td><td style=\"text-align: right;\">              90.1</td><td>{}             </td><td style=\"text-align: right;\">             248.713</td><td style=\"text-align: right;\">             -141.846</td><td style=\"text-align: right;\">            -192.044</td><td style=\"text-align: right;\">                  10</td><td style=\"text-align: right;\">             154</td><td>8dd39779c7ef477aa164e54f946852e0</td><td>Daniel    </td><td>{&#x27;learner&#x27;: {&#x27;default_policy&#x27;: {&#x27;learner_stats&#x27;: {&#x27;allreduce_latency&#x27;: 0.0, &#x27;grad_gnorm&#x27;: 8.403343200683594, &#x27;actor_loss&#x27;: -6.434066295623779, &#x27;critic_loss&#x27;: 0.224114790558815, &#x27;alpha_loss&#x27;: -4.229072570800781, &#x27;alpha_value&#x27;: 0.60455614, &#x27;log_alpha_value&#x27;: -0.50326073, &#x27;target_entropy&#x27;: -5.0, &#x27;policy_t&#x27;: -0.027431469410657883, &#x27;mean_q&#x27;: 4.410746097564697, &#x27;max_q&#x27;: 5.1180830001831055, &#x27;min_q&#x27;: 3.604030132293701}, &#x27;td_error&#x27;: array([3.76369953e-01, 2.18138933e-01, 8.90897512e-01, 5.00837326e-01,\n",
       "       1.56644344e-01, 1.15910602e+00, 3.58983755e-01, 9.73417044e-01,\n",
       "       4.54557180e-01, 3.18669558e-01, 2.47295618e-01, 3.98333549e-01,\n",
       "       5.52456379e-02, 4.16686535e-01, 5.52578926e-01, 8.20993423e-01,\n",
       "       4.80461121e-02, 5.51123619e-01, 3.48044634e-01, 4.45616722e-01,\n",
       "       6.57121658e-01, 3.01966190e-01, 4.55074072e-01, 5.81701994e-01,\n",
       "       4.43889856e-01, 3.61741066e-01, 6.02926254e-01, 6.10968113e-01,\n",
       "       2.43805664e+02, 6.97162867e-01, 1.34469032e-01, 5.01981974e-01,\n",
       "       5.75793648e+00, 3.33922148e-01, 2.84593582e-01, 8.42299938e-01,\n",
       "       3.37388039e-01, 4.18749571e-01, 5.26380062e-01, 4.35695648e-01,\n",
       "       4.50320482e-01, 6.56141853e+00, 9.19794083e-01, 4.95012522e-01,\n",
       "       1.86808348e-01, 2.88064480e-01, 9.34903622e-02, 5.33180237e-01,\n",
       "       7.46445179e-01, 3.29239368e-01, 4.63973522e-01, 5.52854300e-01,\n",
       "       5.59043884e-01, 5.79916573e+00, 3.95936966e-01, 3.83873940e-01,\n",
       "       7.85346985e-01, 3.67263794e-01, 5.48842669e-01, 6.90719604e-01,\n",
       "       3.13124657e-02, 7.84007549e-01, 4.98735189e-01, 4.51488495e-01,\n",
       "       2.78318405e-01, 8.23536158e-01, 5.27554512e-01, 1.09366131e+00,\n",
       "       2.44073761e+02, 5.64733505e-01, 1.87523842e-01, 8.82987976e-01,\n",
       "       4.84059095e-01, 6.78997517e-01, 8.01151276e-01, 6.06491089e-01,\n",
       "       4.78818417e-01, 3.75759125e-01, 5.04173756e-01, 1.41024947e-01,\n",
       "       2.97756195e-01, 6.70681572e+00, 6.38502359e-01, 1.84234142e-01,\n",
       "       3.44598055e-01, 2.66064882e-01, 6.22176886e-01, 2.91838408e-01,\n",
       "       6.30319595e-01, 3.90557766e-01, 7.24813938e-01, 6.66464329e-01,\n",
       "       6.48372173e-01, 1.69317245e-01, 5.71012974e-01, 2.15357304e-01,\n",
       "       4.80374098e-01, 4.54566240e-01, 6.62336826e-01, 5.37418842e-01,\n",
       "       2.28084564e-01, 1.80234909e-01, 3.18274736e-01, 5.42303801e-01,\n",
       "       2.43873016e+02, 3.50508213e-01, 6.72996044e-01, 3.73209953e-01,\n",
       "       8.81858826e-01, 4.57011461e-01, 6.31304979e-01, 3.22345257e-01,\n",
       "       4.37150240e-01, 8.15716267e-01, 6.95113182e-01, 5.28904438e-01,\n",
       "       6.64132166e+00, 3.57316017e-01, 7.54707336e-01, 5.63272238e-01,\n",
       "       8.61629725e-01, 1.76108837e-01, 8.31902027e-02, 1.03891134e-01,\n",
       "       3.71709824e-01, 5.50470591e-01, 7.84245253e-01, 3.21080923e-01,\n",
       "       3.92820835e-02, 5.49223900e-01, 6.91530704e-01, 3.57518673e-01,\n",
       "       3.84907722e-01, 4.12734747e-01, 4.18194771e-01, 7.22610235e-01,\n",
       "       3.24485064e-01, 5.38154554e+00, 7.06630945e-01, 1.67124152e-01,\n",
       "       6.63487911e-01, 8.02201986e-01, 2.52504587e-01, 9.75709677e-01,\n",
       "       4.89573479e-01, 6.64892435e-01, 1.03562427e+00, 3.95295620e-02,\n",
       "       5.00542164e-01, 9.13107872e-01, 5.89080334e-01, 6.50176048e-01,\n",
       "       6.37590694e+00, 8.55698586e-02, 3.50122690e-01, 6.35562181e-01,\n",
       "       3.89072657e-01, 4.41820145e-01, 2.79556274e-01, 1.20183945e+00,\n",
       "       5.35343766e-01, 5.90878248e-01, 6.06690645e-01, 7.29044676e-01,\n",
       "       2.38976479e-01, 3.35858583e-01, 5.22370100e-01, 6.08634281e+00,\n",
       "       6.85944557e-01, 4.10863638e-01, 3.76061916e-01, 3.61318350e-01,\n",
       "       1.09372520e+00, 6.78944349e-01, 5.75511694e-01, 3.01788330e-01,\n",
       "       2.70901680e-01, 3.42419863e-01, 3.19597006e-01, 1.56586289e-01,\n",
       "       6.28098488e-01, 8.64251852e-01, 3.41733932e-01, 7.75881290e-01,\n",
       "       2.96623230e-01, 3.41565371e-01, 2.20751286e-01, 3.47970247e-01,\n",
       "       9.26482439e-01, 5.77410221e-01, 1.53335571e-01, 1.95543766e-02,\n",
       "       7.58130074e-01, 4.61048365e-01, 4.55544472e-01, 4.03303385e-01,\n",
       "       5.41186571e-01, 6.24453068e-01, 4.88040209e-01, 4.26761150e-01,\n",
       "       1.01890087e-01, 8.34158182e-01, 6.50000811e-01, 5.72202206e-01,\n",
       "       6.71605349e-01, 5.71026325e-01, 4.86349344e-01, 3.68950129e-01,\n",
       "       3.34364176e-01, 7.52686977e-01, 3.25332880e-01, 3.64549398e-01,\n",
       "       2.07561970e-01, 7.46529102e-01, 1.55097723e-01, 4.25298929e-01,\n",
       "       8.42193842e-01, 2.43873016e+02, 2.43873016e+02, 2.82555580e-01,\n",
       "       4.45864916e-01, 4.59903955e-01, 5.92770100e-01, 8.09845448e-01,\n",
       "       8.23133469e-01, 5.77309561e+00, 5.96422911e-01, 7.31289148e-01,\n",
       "       3.31299424e-01, 5.85563135e+00, 5.36827183e+00, 3.30348015e-01,\n",
       "       5.50782681e-02, 8.04073811e-02, 6.67590857e-01, 6.92529202e-01,\n",
       "       3.84135246e-01, 3.31759453e-01, 3.52068186e-01, 6.84356213e-01,\n",
       "       6.38411427e+00, 2.44073761e+02, 9.02929783e-01, 6.10304737e+00,\n",
       "       5.87041140e-01, 3.18532944e-01, 5.26460886e-01, 5.01149416e-01,\n",
       "       3.49880457e-01, 4.51208830e-01, 1.33623719e-01, 1.37279153e-01,\n",
       "       4.75117207e-01, 4.51113939e-01, 3.33072662e-01, 4.37882900e-01],\n",
       "      dtype=float32), &#x27;mean_td_error&#x27;: 6.474668979644775, &#x27;model&#x27;: {}, &#x27;custom_metrics&#x27;: {}, &#x27;num_agent_steps_trained&#x27;: 256.0, &#x27;num_grad_updates_lifetime&#x27;: 1677.0, &#x27;diff_num_grad_updates_vs_sampler_policy&#x27;: 1676.0}}, &#x27;num_env_steps_sampled&#x27;: 15030, &#x27;num_env_steps_trained&#x27;: 429312, &#x27;num_agent_steps_sampled&#x27;: 15030, &#x27;num_agent_steps_trained&#x27;: 429312, &#x27;last_target_update_ts&#x27;: 15030, &#x27;num_target_updates&#x27;: 1677}       </td><td style=\"text-align: right;\">                        15</td><td>192.168.152.36</td><td style=\"text-align: right;\">                    15030</td><td style=\"text-align: right;\">                   429312</td><td style=\"text-align: right;\">                  15030</td><td style=\"text-align: right;\">                             1002</td><td style=\"text-align: right;\">                 429312</td><td style=\"text-align: right;\">                            85504</td><td style=\"text-align: right;\">                    0</td><td style=\"text-align: right;\">                    3</td><td style=\"text-align: right;\">                         0</td><td style=\"text-align: right;\">                           0</td><td style=\"text-align: right;\">                        85504</td><td>{&#x27;cpu_util_percent&#x27;: 46.60649350649351, &#x27;ram_util_percent&#x27;: 77.04415584415582}</td><td style=\"text-align: right;\"> 5853</td><td>{}                 </td><td>{}                  </td><td>{}                 </td><td>{&#x27;mean_raw_obs_processing_ms&#x27;: 1.2387199854807946, &#x27;mean_inference_ms&#x27;: 2.3233264583571662, &#x27;mean_action_processing_ms&#x27;: 0.2227478173887199, &#x27;mean_env_wait_ms&#x27;: 3.0315715951183035, &#x27;mean_env_render_ms&#x27;: 0.0}</td><td>{&#x27;episode_reward_max&#x27;: 248.7129012644291, &#x27;episode_reward_min&#x27;: -192.04356507956982, &#x27;episode_reward_mean&#x27;: -141.84599248990418, &#x27;episode_len_mean&#x27;: 90.1, &#x27;episode_media&#x27;: {}, &#x27;episodes_this_iter&#x27;: 10, &#x27;policy_reward_min&#x27;: {}, &#x27;policy_reward_max&#x27;: {}, &#x27;policy_reward_mean&#x27;: {}, &#x27;custom_metrics&#x27;: {}, &#x27;hist_stats&#x27;: {&#x27;episode_reward&#x27;: [-188.50081959366798, -187.97007030248642, -189.0042775273323, -170.24335712194443, 248.7129012644291, -185.3823484480381, -187.89898101985455, -192.04356507956982, -176.78319323062897, -189.34621383994818], &#x27;episode_lengths&#x27;: [100, 100, 100, 100, 1, 100, 100, 100, 100, 100]}, &#x27;sampler_perf&#x27;: {&#x27;mean_raw_obs_processing_ms&#x27;: 1.2387199854807946, &#x27;mean_inference_ms&#x27;: 2.3233264583571662, &#x27;mean_action_processing_ms&#x27;: 0.2227478173887199, &#x27;mean_env_wait_ms&#x27;: 3.0315715951183035, &#x27;mean_env_render_ms&#x27;: 0.0}, &#x27;num_faulty_episodes&#x27;: 0}</td><td style=\"text-align: right;\">             324.493</td><td style=\"text-align: right;\">            55.609</td><td style=\"text-align: right;\">       324.493</td><td>{&#x27;training_iteration_time_ms&#x27;: 144.554, &#x27;load_time_ms&#x27;: 0.263, &#x27;load_throughput&#x27;: 971712.058, &#x27;learn_time_ms&#x27;: 23.944, &#x27;learn_throughput&#x27;: 10691.626, &#x27;synch_weights_time_ms&#x27;: 5.41}</td><td style=\"text-align: right;\"> 1676020798</td><td style=\"text-align: right;\">                        0</td><td style=\"text-align: right;\">            15030</td><td style=\"text-align: right;\">                  15</td><td>4d890_00000</td><td style=\"text-align: right;\">      7.98138</td></tr>\n",
       "</tbody>\n",
       "</table>\n",
       "</div>\n",
       "<style>\n",
       ".trialProgress {\n",
       "  display: flex;\n",
       "  flex-direction: column;\n",
       "  color: var(--jp-ui-font-color1);\n",
       "}\n",
       ".trialProgress h3 {\n",
       "  font-weight: bold;\n",
       "}\n",
       ".trialProgress td {\n",
       "  white-space: nowrap;\n",
       "}\n",
       "</style>\n"
      ],
      "text/plain": [
       "<IPython.core.display.HTML object>"
      ]
     },
     "metadata": {},
     "output_type": "display_data"
    },
    {
     "name": "stderr",
     "output_type": "stream",
     "text": [
      "\u001b[2m\u001b[33m(raylet)\u001b[0m [2023-02-10 10:14:44,673 E 4970 5022] (raylet) file_system_monitor.cc:105: /tmp/ray/session_2023-02-10_10-10-12_403153_4748 is over 95% full, available space: 1221365760; capacity: 31845081088. Object creation will fail if spilling is required.\n",
      "\u001b[2m\u001b[33m(raylet)\u001b[0m [2023-02-10 10:14:54,678 E 4970 5022] (raylet) file_system_monitor.cc:105: /tmp/ray/session_2023-02-10_10-10-12_403153_4748 is over 95% full, available space: 1221214208; capacity: 31845081088. Object creation will fail if spilling is required.\n",
      "\u001b[2m\u001b[33m(raylet)\u001b[0m [2023-02-10 10:15:04,684 E 4970 5022] (raylet) file_system_monitor.cc:105: /tmp/ray/session_2023-02-10_10-10-12_403153_4748 is over 95% full, available space: 1221103616; capacity: 31845081088. Object creation will fail if spilling is required.\n",
      "\u001b[2m\u001b[33m(raylet)\u001b[0m [2023-02-10 10:15:14,690 E 4970 5022] (raylet) file_system_monitor.cc:105: /tmp/ray/session_2023-02-10_10-10-12_403153_4748 is over 95% full, available space: 1220038656; capacity: 31845081088. Object creation will fail if spilling is required.\n",
      "\u001b[2m\u001b[36m(SAC pid=5853)\u001b[0m 2023-02-10 10:15:15,903\tWARNING deprecation.py:47 -- DeprecationWarning: `concat_samples` has been deprecated. Use `concat_samples() from rllib.policy.sample_batch` instead. This will raise an error in the future!\n",
      "\u001b[2m\u001b[33m(raylet)\u001b[0m [2023-02-10 10:15:24,701 E 4970 5022] (raylet) file_system_monitor.cc:105: /tmp/ray/session_2023-02-10_10-10-12_403153_4748 is over 95% full, available space: 1219670016; capacity: 31845081088. Object creation will fail if spilling is required.\n",
      "\u001b[2m\u001b[33m(raylet)\u001b[0m [2023-02-10 10:15:34,712 E 4970 5022] (raylet) file_system_monitor.cc:105: /tmp/ray/session_2023-02-10_10-10-12_403153_4748 is over 95% full, available space: 1219510272; capacity: 31845081088. Object creation will fail if spilling is required.\n",
      "\u001b[2m\u001b[33m(raylet)\u001b[0m [2023-02-10 10:15:44,718 E 4970 5022] (raylet) file_system_monitor.cc:105: /tmp/ray/session_2023-02-10_10-10-12_403153_4748 is over 95% full, available space: 1219461120; capacity: 31845081088. Object creation will fail if spilling is required.\n",
      "\u001b[2m\u001b[33m(raylet)\u001b[0m [2023-02-10 10:15:54,724 E 4970 5022] (raylet) file_system_monitor.cc:105: /tmp/ray/session_2023-02-10_10-10-12_403153_4748 is over 95% full, available space: 1219444736; capacity: 31845081088. Object creation will fail if spilling is required.\n",
      "\u001b[2m\u001b[33m(raylet)\u001b[0m [2023-02-10 10:16:04,731 E 4970 5022] (raylet) file_system_monitor.cc:105: /tmp/ray/session_2023-02-10_10-10-12_403153_4748 is over 95% full, available space: 1219420160; capacity: 31845081088. Object creation will fail if spilling is required.\n",
      "\u001b[2m\u001b[33m(raylet)\u001b[0m [2023-02-10 10:16:14,737 E 4970 5022] (raylet) file_system_monitor.cc:105: /tmp/ray/session_2023-02-10_10-10-12_403153_4748 is over 95% full, available space: 1219231744; capacity: 31845081088. Object creation will fail if spilling is required.\n",
      "\u001b[2m\u001b[33m(raylet)\u001b[0m [2023-02-10 10:16:24,743 E 4970 5022] (raylet) file_system_monitor.cc:105: /tmp/ray/session_2023-02-10_10-10-12_403153_4748 is over 95% full, available space: 1219137536; capacity: 31845081088. Object creation will fail if spilling is required.\n",
      "\u001b[2m\u001b[33m(raylet)\u001b[0m [2023-02-10 10:16:34,750 E 4970 5022] (raylet) file_system_monitor.cc:105: /tmp/ray/session_2023-02-10_10-10-12_403153_4748 is over 95% full, available space: 1219129344; capacity: 31845081088. Object creation will fail if spilling is required.\n",
      "\u001b[2m\u001b[33m(raylet)\u001b[0m [2023-02-10 10:16:44,757 E 4970 5022] (raylet) file_system_monitor.cc:105: /tmp/ray/session_2023-02-10_10-10-12_403153_4748 is over 95% full, available space: 1219297280; capacity: 31845081088. Object creation will fail if spilling is required.\n",
      "\u001b[2m\u001b[33m(raylet)\u001b[0m [2023-02-10 10:16:54,766 E 4970 5022] (raylet) file_system_monitor.cc:105: /tmp/ray/session_2023-02-10_10-10-12_403153_4748 is over 95% full, available space: 1214754816; capacity: 31845081088. Object creation will fail if spilling is required.\n",
      "\u001b[2m\u001b[33m(raylet)\u001b[0m [2023-02-10 10:17:04,775 E 4970 5022] (raylet) file_system_monitor.cc:105: /tmp/ray/session_2023-02-10_10-10-12_403153_4748 is over 95% full, available space: 1214763008; capacity: 31845081088. Object creation will fail if spilling is required.\n",
      "\u001b[2m\u001b[33m(raylet)\u001b[0m [2023-02-10 10:17:14,781 E 4970 5022] (raylet) file_system_monitor.cc:105: /tmp/ray/session_2023-02-10_10-10-12_403153_4748 is over 95% full, available space: 1214701568; capacity: 31845081088. Object creation will fail if spilling is required.\n",
      "\u001b[2m\u001b[33m(raylet)\u001b[0m [2023-02-10 10:17:24,787 E 4970 5022] (raylet) file_system_monitor.cc:105: /tmp/ray/session_2023-02-10_10-10-12_403153_4748 is over 95% full, available space: 1214668800; capacity: 31845081088. Object creation will fail if spilling is required.\n",
      "\u001b[2m\u001b[33m(raylet)\u001b[0m [2023-02-10 10:17:34,792 E 4970 5022] (raylet) file_system_monitor.cc:105: /tmp/ray/session_2023-02-10_10-10-12_403153_4748 is over 95% full, available space: 1214619648; capacity: 31845081088. Object creation will fail if spilling is required.\n",
      "\u001b[2m\u001b[33m(raylet)\u001b[0m [2023-02-10 10:17:44,797 E 4970 5022] (raylet) file_system_monitor.cc:105: /tmp/ray/session_2023-02-10_10-10-12_403153_4748 is over 95% full, available space: 1214615552; capacity: 31845081088. Object creation will fail if spilling is required.\n",
      "\u001b[2m\u001b[33m(raylet)\u001b[0m [2023-02-10 10:17:54,803 E 4970 5022] (raylet) file_system_monitor.cc:105: /tmp/ray/session_2023-02-10_10-10-12_403153_4748 is over 95% full, available space: 1214607360; capacity: 31845081088. Object creation will fail if spilling is required.\n",
      "\u001b[2m\u001b[33m(raylet)\u001b[0m [2023-02-10 10:18:04,813 E 4970 5022] (raylet) file_system_monitor.cc:105: /tmp/ray/session_2023-02-10_10-10-12_403153_4748 is over 95% full, available space: 1214611456; capacity: 31845081088. Object creation will fail if spilling is required.\n",
      "\u001b[2m\u001b[33m(raylet)\u001b[0m [2023-02-10 10:18:14,818 E 4970 5022] (raylet) file_system_monitor.cc:105: /tmp/ray/session_2023-02-10_10-10-12_403153_4748 is over 95% full, available space: 1214554112; capacity: 31845081088. Object creation will fail if spilling is required.\n",
      "\u001b[2m\u001b[33m(raylet)\u001b[0m [2023-02-10 10:18:24,825 E 4970 5022] (raylet) file_system_monitor.cc:105: /tmp/ray/session_2023-02-10_10-10-12_403153_4748 is over 95% full, available space: 1214525440; capacity: 31845081088. Object creation will fail if spilling is required.\n",
      "\u001b[2m\u001b[33m(raylet)\u001b[0m [2023-02-10 10:18:34,831 E 4970 5022] (raylet) file_system_monitor.cc:105: /tmp/ray/session_2023-02-10_10-10-12_403153_4748 is over 95% full, available space: 1214480384; capacity: 31845081088. Object creation will fail if spilling is required.\n",
      "\u001b[2m\u001b[33m(raylet)\u001b[0m [2023-02-10 10:18:44,838 E 4970 5022] (raylet) file_system_monitor.cc:105: /tmp/ray/session_2023-02-10_10-10-12_403153_4748 is over 95% full, available space: 1214517248; capacity: 31845081088. Object creation will fail if spilling is required.\n",
      "\u001b[2m\u001b[33m(raylet)\u001b[0m [2023-02-10 10:18:54,843 E 4970 5022] (raylet) file_system_monitor.cc:105: /tmp/ray/session_2023-02-10_10-10-12_403153_4748 is over 95% full, available space: 1214537728; capacity: 31845081088. Object creation will fail if spilling is required.\n",
      "\u001b[2m\u001b[33m(raylet)\u001b[0m [2023-02-10 10:19:04,850 E 4970 5022] (raylet) file_system_monitor.cc:105: /tmp/ray/session_2023-02-10_10-10-12_403153_4748 is over 95% full, available space: 1214525440; capacity: 31845081088. Object creation will fail if spilling is required.\n",
      "\u001b[2m\u001b[33m(raylet)\u001b[0m [2023-02-10 10:19:14,856 E 4970 5022] (raylet) file_system_monitor.cc:105: /tmp/ray/session_2023-02-10_10-10-12_403153_4748 is over 95% full, available space: 1214529536; capacity: 31845081088. Object creation will fail if spilling is required.\n",
      "\u001b[2m\u001b[33m(raylet)\u001b[0m [2023-02-10 10:19:24,862 E 4970 5022] (raylet) file_system_monitor.cc:105: /tmp/ray/session_2023-02-10_10-10-12_403153_4748 is over 95% full, available space: 1214271488; capacity: 31845081088. Object creation will fail if spilling is required.\n",
      "\u001b[2m\u001b[33m(raylet)\u001b[0m [2023-02-10 10:19:34,867 E 4970 5022] (raylet) file_system_monitor.cc:105: /tmp/ray/session_2023-02-10_10-10-12_403153_4748 is over 95% full, available space: 1214443520; capacity: 31845081088. Object creation will fail if spilling is required.\n",
      "\u001b[2m\u001b[33m(raylet)\u001b[0m [2023-02-10 10:19:44,874 E 4970 5022] (raylet) file_system_monitor.cc:105: /tmp/ray/session_2023-02-10_10-10-12_403153_4748 is over 95% full, available space: 1214414848; capacity: 31845081088. Object creation will fail if spilling is required.\n",
      "\u001b[2m\u001b[33m(raylet)\u001b[0m [2023-02-10 10:19:54,880 E 4970 5022] (raylet) file_system_monitor.cc:105: /tmp/ray/session_2023-02-10_10-10-12_403153_4748 is over 95% full, available space: 1214349312; capacity: 31845081088. Object creation will fail if spilling is required.\n",
      "\u001b[2m\u001b[33m(raylet)\u001b[0m [2023-02-10 10:20:04,886 E 4970 5022] (raylet) file_system_monitor.cc:105: /tmp/ray/session_2023-02-10_10-10-12_403153_4748 is over 95% full, available space: 1214332928; capacity: 31845081088. Object creation will fail if spilling is required.\n",
      "\u001b[2m\u001b[33m(raylet)\u001b[0m [2023-02-10 10:20:14,891 E 4970 5022] (raylet) file_system_monitor.cc:105: /tmp/ray/session_2023-02-10_10-10-12_403153_4748 is over 95% full, available space: 1214316544; capacity: 31845081088. Object creation will fail if spilling is required.\n",
      "2023-02-10 10:20:20,585\tWARNING tune.py:690 -- Stop signal received (e.g. via SIGINT/Ctrl+C), ending Ray Tune run. This will try to checkpoint the experiment state one last time. Press CTRL+C (or send SIGINT/SIGKILL/SIGTERM) to skip. \n",
      "2023-02-10 10:20:21,533\tWARNING tune.py:690 -- Stop signal received (e.g. via SIGINT/Ctrl+C), ending Ray Tune run. This will try to checkpoint the experiment state one last time. Press CTRL+C (or send SIGINT/SIGKILL/SIGTERM) to skip. \n",
      "\u001b[2m\u001b[36m(SAC pid=5853)\u001b[0m 2023-02-10 10:20:23,571\tERROR worker.py:763 -- Worker exits with an exit code 1.\n",
      "\u001b[2m\u001b[36m(SAC pid=5853)\u001b[0m Traceback (most recent call last):\n",
      "\u001b[2m\u001b[36m(SAC pid=5853)\u001b[0m   File \"python/ray/_raylet.pyx\", line 1135, in ray._raylet.task_execution_handler\n",
      "\u001b[2m\u001b[36m(SAC pid=5853)\u001b[0m   File \"python/ray/_raylet.pyx\", line 1045, in ray._raylet.execute_task_with_cancellation_handler\n",
      "\u001b[2m\u001b[36m(SAC pid=5853)\u001b[0m   File \"python/ray/_raylet.pyx\", line 782, in ray._raylet.execute_task\n",
      "\u001b[2m\u001b[36m(SAC pid=5853)\u001b[0m   File \"python/ray/_raylet.pyx\", line 823, in ray._raylet.execute_task\n",
      "\u001b[2m\u001b[36m(SAC pid=5853)\u001b[0m   File \"python/ray/_raylet.pyx\", line 830, in ray._raylet.execute_task\n",
      "\u001b[2m\u001b[36m(SAC pid=5853)\u001b[0m   File \"python/ray/_raylet.pyx\", line 834, in ray._raylet.execute_task\n",
      "\u001b[2m\u001b[36m(SAC pid=5853)\u001b[0m   File \"python/ray/_raylet.pyx\", line 780, in ray._raylet.execute_task.function_executor\n",
      "\u001b[2m\u001b[36m(SAC pid=5853)\u001b[0m   File \"/home/daniel/miniconda3/lib/python3.8/site-packages/ray/_private/function_manager.py\", line 674, in actor_method_executor\n",
      "\u001b[2m\u001b[36m(SAC pid=5853)\u001b[0m     return method(__ray_actor, *args, **kwargs)\n",
      "\u001b[2m\u001b[36m(SAC pid=5853)\u001b[0m   File \"/home/daniel/miniconda3/lib/python3.8/site-packages/ray/util/tracing/tracing_helper.py\", line 466, in _resume_span\n",
      "\u001b[2m\u001b[36m(SAC pid=5853)\u001b[0m     return method(self, *_args, **_kwargs)\n",
      "\u001b[2m\u001b[36m(SAC pid=5853)\u001b[0m   File \"/home/daniel/miniconda3/lib/python3.8/site-packages/ray/tune/trainable/trainable.py\", line 364, in train\n",
      "\u001b[2m\u001b[36m(SAC pid=5853)\u001b[0m     result = self.step()\n",
      "\u001b[2m\u001b[36m(SAC pid=5853)\u001b[0m   File \"/home/daniel/miniconda3/lib/python3.8/site-packages/ray/util/tracing/tracing_helper.py\", line 466, in _resume_span\n",
      "\u001b[2m\u001b[36m(SAC pid=5853)\u001b[0m     return method(self, *_args, **_kwargs)\n",
      "\u001b[2m\u001b[36m(SAC pid=5853)\u001b[0m   File \"/home/daniel/miniconda3/lib/python3.8/site-packages/ray/rllib/algorithms/algorithm.py\", line 749, in step\n",
      "\u001b[2m\u001b[36m(SAC pid=5853)\u001b[0m     results, train_iter_ctx = self._run_one_training_iteration()\n",
      "\u001b[2m\u001b[36m(SAC pid=5853)\u001b[0m   File \"/home/daniel/miniconda3/lib/python3.8/site-packages/ray/util/tracing/tracing_helper.py\", line 466, in _resume_span\n",
      "\u001b[2m\u001b[36m(SAC pid=5853)\u001b[0m     return method(self, *_args, **_kwargs)\n",
      "\u001b[2m\u001b[36m(SAC pid=5853)\u001b[0m   File \"/home/daniel/miniconda3/lib/python3.8/site-packages/ray/rllib/algorithms/algorithm.py\", line 2623, in _run_one_training_iteration\n",
      "\u001b[2m\u001b[36m(SAC pid=5853)\u001b[0m     results = self.training_step()\n",
      "\u001b[2m\u001b[36m(SAC pid=5853)\u001b[0m   File \"/home/daniel/miniconda3/lib/python3.8/site-packages/ray/util/tracing/tracing_helper.py\", line 466, in _resume_span\n",
      "\u001b[2m\u001b[36m(SAC pid=5853)\u001b[0m     return method(self, *_args, **_kwargs)\n",
      "\u001b[2m\u001b[36m(SAC pid=5853)\u001b[0m   File \"/home/daniel/miniconda3/lib/python3.8/site-packages/ray/rllib/algorithms/dqn/dqn.py\", line 454, in training_step\n",
      "\u001b[2m\u001b[36m(SAC pid=5853)\u001b[0m     update_priorities_in_replay_buffer(\n",
      "\u001b[2m\u001b[36m(SAC pid=5853)\u001b[0m   File \"/home/daniel/miniconda3/lib/python3.8/site-packages/ray/rllib/utils/replay_buffers/utils.py\", line 121, in update_priorities_in_replay_buffer\n",
      "\u001b[2m\u001b[36m(SAC pid=5853)\u001b[0m     replay_buffer.update_priorities(prio_dict)\n",
      "\u001b[2m\u001b[36m(SAC pid=5853)\u001b[0m   File \"/home/daniel/miniconda3/lib/python3.8/site-packages/ray/rllib/utils/replay_buffers/multi_agent_prioritized_replay_buffer.py\", line 252, in update_priorities\n",
      "\u001b[2m\u001b[36m(SAC pid=5853)\u001b[0m     self.replay_buffers[policy_id].update_priorities(\n",
      "\u001b[2m\u001b[36m(SAC pid=5853)\u001b[0m   File \"/home/daniel/miniconda3/lib/python3.8/site-packages/ray/rllib/utils/replay_buffers/prioritized_replay_buffer.py\", line 183, in update_priorities\n",
      "\u001b[2m\u001b[36m(SAC pid=5853)\u001b[0m     assert priority > 0\n",
      "\u001b[2m\u001b[36m(SAC pid=5853)\u001b[0m   File \"/home/daniel/miniconda3/lib/python3.8/site-packages/ray/_private/worker.py\", line 760, in sigterm_handler\n",
      "\u001b[2m\u001b[36m(SAC pid=5853)\u001b[0m     sys.exit(1)\n",
      "\u001b[2m\u001b[36m(SAC pid=5853)\u001b[0m SystemExit: 1\n",
      "2023-02-10 10:20:23,760\tERROR tune.py:758 -- Trials did not complete: [SAC_darm_DarmSFHand-v0_4d890_00000]\n",
      "2023-02-10 10:20:23,761\tINFO tune.py:762 -- Total run time: 362.95 seconds (362.71 seconds for the tuning loop).\n",
      "2023-02-10 10:20:23,761\tWARNING tune.py:768 -- Experiment has been interrupted, but the most recent state was saved. You can continue running this experiment by passing `resume=True` to `tune.run()`\n",
      "\u001b[2m\u001b[33m(raylet)\u001b[0m [2023-02-10 10:20:24,897 E 4970 5022] (raylet) file_system_monitor.cc:105: /tmp/ray/session_2023-02-10_10-10-12_403153_4748 is over 95% full, available space: 1214267392; capacity: 31845081088. Object creation will fail if spilling is required.\n"
     ]
    }
   ],
   "source": [
    "# TODO: \n",
    "# change: name\n",
    "\n",
    "tuner = tune.Tuner(\n",
    "    \"SAC\",\n",
    "    run_config=air.RunConfig(\n",
    "        name=\"Test_DARMSF_DELTA_TARGET\",\n",
    "        stop={\"training_iteration\": 10_000, \"episode_reward_mean\": 200},\n",
    "        checkpoint_config=air.CheckpointConfig(checkpoint_at_end=True),\n",
    "        callbacks=[\n",
    "                WandbLoggerCallback(project=\"DARM\", \n",
    "                                    api_key=\"392c8a47eb0658eb5c71190757a69110e2140f4a\",\n",
    "                                    save_checkpoints=True, \n",
    "                                    **wandb_init)\n",
    "            ],\n",
    "        local_dir=\"./results\"\n",
    "        ),\n",
    "    param_space=config\n",
    ")\n",
    "\n",
    "results = tuner.fit()"
   ]
  },
  {
   "cell_type": "code",
   "execution_count": null,
   "id": "1e3264d3-86a3-430c-bae2-940f2da854d2",
   "metadata": {},
   "outputs": [],
   "source": []
  }
 ],
 "metadata": {
  "kernelspec": {
   "display_name": "Python 3",
   "language": "python",
   "name": "python3"
  },
  "language_info": {
   "codemirror_mode": {
    "name": "ipython",
    "version": 3
   },
   "file_extension": ".py",
   "mimetype": "text/x-python",
   "name": "python",
   "nbconvert_exporter": "python",
   "pygments_lexer": "ipython3",
   "version": "3.8.12"
  }
 },
 "nbformat": 4,
 "nbformat_minor": 5
}
