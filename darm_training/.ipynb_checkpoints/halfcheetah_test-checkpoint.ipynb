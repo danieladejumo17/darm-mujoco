{
 "cells": [
  {
   "cell_type": "markdown",
   "id": "799cc8cb-e1a5-4a58-a984-efc11326303e",
   "metadata": {},
   "source": [
    "## Installation and Imports"
   ]
  },
  {
   "cell_type": "code",
   "execution_count": 1,
   "id": "b9c7e52e-b467-4d91-8fe9-d1035e51c932",
   "metadata": {},
   "outputs": [],
   "source": [
    "import ray\n",
    "from ray.rllib.algorithms.sac import SACConfig\n",
    "from ray.tune.registry import register_env\n",
    "from ray.tune.logger import pretty_print\n",
    "\n",
    "from ray import air, tune\n",
    "from ray.air import session\n",
    "from ray.air.integrations.wandb import setup_wandb\n",
    "from ray.air.integrations.wandb import WandbLoggerCallback\n",
    "\n",
    "import gym"
   ]
  },
  {
   "cell_type": "markdown",
   "id": "049729f3-c175-4d9c-b449-43af66f121a5",
   "metadata": {},
   "source": [
    "## Configure and Run"
   ]
  },
  {
   "cell_type": "code",
   "execution_count": 2,
   "id": "4a0ed8ba-4f6b-47f9-b0e7-37d0eec71647",
   "metadata": {},
   "outputs": [],
   "source": [
    "config = (\n",
    "    SACConfig()\n",
    "    .environment(\n",
    "        env=\"HalfCheetah-v3\",\n",
    "        normalize_actions=True\n",
    "    )\n",
    "    .training(\n",
    "        q_model_config={\n",
    "            \"fcnet_activation\": \"relu\",\n",
    "            \"fcnet_hiddens\": [256, 256]\n",
    "        },\n",
    "        policy_model_config={\n",
    "            \"fcnet_activation\": \"relu\",\n",
    "            \"fcnet_hiddens\": [256, 256]\n",
    "        },\n",
    "        tau=0.005,\n",
    "        target_entropy=\"auto\",\n",
    "        n_step=1,  # num of SGD steps per batch of data in training step\n",
    "        train_batch_size=256,\n",
    "        target_network_update_freq=1,\n",
    "        replay_buffer_config={\"type\":\"MultiAgentPrioritizedReplayBuffer\"},\n",
    "        num_steps_sampled_before_learning_starts=10_000,\n",
    "        optimization_config={\n",
    "          \"actor_learning_rate\": 0.0003,\n",
    "          \"critic_learning_rate\": 0.0003,\n",
    "          \"entropy_learning_rate\": 0.0003,\n",
    "        },\n",
    "        clip_actions=False\n",
    "    )\n",
    "    .rollouts(\n",
    "        num_rollout_workers=3,\n",
    "        rollout_fragment_length=1,\n",
    "    )\n",
    "    .resources(num_gpus=0)\n",
    "    .evaluation(evaluation_interval=100) # For 1000 timesteps iter; 100 evals\n",
    "    .reporting(\n",
    "        min_sample_timesteps_per_iteration=1000,\n",
    "        metrics_num_episodes_for_smoothing=5\n",
    "    )\n",
    "    .framework(framework=\"torch\")\n",
    ")"
   ]
  },
  {
   "cell_type": "code",
   "execution_count": 3,
   "id": "46f0fa8e-5023-44c3-a9f7-8a6b041617a2",
   "metadata": {},
   "outputs": [],
   "source": [
    "wandb_init = dict(\n",
    "    save_code=True,\n",
    "    config={\n",
    "        \"env\": \"HalfCheetah-v3\",\n",
    "        \n",
    "        \"actor_learning_rate\": 0.0003,\n",
    "        \"critic_learning_rate\": 0.0003,\n",
    "        \"entropy_learning_rate\": 0.0003,\n",
    "        \"framework\": \"torch\",\n",
    "        \n",
    "        \"num_rollout_workers\": 3,\n",
    "        \"num_gpu\": 0,\n",
    "        \"metrics_num_episodes_for_smoothing\": 5\n",
    "    },\n",
    "    tags=[\"local\"],\n",
    "    notes=\"Test to inspect scaling on Vast.ai\",\n",
    "    name=\"HalfCheetah_local\"\n",
    "    # job_type=D\n",
    "    # monitor_gym=\n",
    ")"
   ]
  },
  {
   "cell_type": "code",
   "execution_count": 4,
   "id": "727ee5b8-0cc3-4831-91ee-34514946c66a",
   "metadata": {
    "tags": []
   },
   "outputs": [
    {
     "name": "stderr",
     "output_type": "stream",
     "text": [
      "2023-02-09 23:25:13,054\tINFO worker.py:1538 -- Started a local Ray instance.\n",
      "2023-02-09 23:25:14,515\tINFO wandb.py:250 -- Already logged into W&B.\n"
     ]
    },
    {
     "data": {
      "text/html": [
       "<div class=\"tuneStatus\">\n",
       "  <div style=\"display: flex;flex-direction: row\">\n",
       "    <div style=\"display: flex;flex-direction: column;\">\n",
       "      <h3>Tune Status</h3>\n",
       "      <table>\n",
       "<tbody>\n",
       "<tr><td>Current time:</td><td>2023-02-09 23:27:57</td></tr>\n",
       "<tr><td>Running for: </td><td>00:02:42.49        </td></tr>\n",
       "<tr><td>Memory:      </td><td>4.6/7.5 GiB        </td></tr>\n",
       "</tbody>\n",
       "</table>\n",
       "    </div>\n",
       "    <div class=\"vDivider\"></div>\n",
       "    <div class=\"systemInfo\">\n",
       "      <h3>System Info</h3>\n",
       "      Using FIFO scheduling algorithm.<br>Resources requested: 4.0/4 CPUs, 0/0 GPUs, 0.0/2.7 GiB heap, 0.0/1.35 GiB objects\n",
       "    </div>\n",
       "    \n",
       "  </div>\n",
       "  <div class=\"hDivider\"></div>\n",
       "  <div class=\"trialStatus\">\n",
       "    <h3>Trial Status</h3>\n",
       "    <table>\n",
       "<thead>\n",
       "<tr><th>Trial name                    </th><th>status  </th><th>loc                </th><th style=\"text-align: right;\">  iter</th><th style=\"text-align: right;\">  total time (s)</th><th style=\"text-align: right;\">   ts</th><th style=\"text-align: right;\">  reward</th><th style=\"text-align: right;\">  episode_reward_max</th><th style=\"text-align: right;\">  episode_reward_min</th><th style=\"text-align: right;\">  episode_len_mean</th></tr>\n",
       "</thead>\n",
       "<tbody>\n",
       "<tr><td>SAC_HalfCheetah-v3_9fb81_00000</td><td>RUNNING </td><td>192.168.152.36:5255</td><td style=\"text-align: right;\">    11</td><td style=\"text-align: right;\">         93.1622</td><td style=\"text-align: right;\">11022</td><td style=\"text-align: right;\">-292.981</td><td style=\"text-align: right;\">            -233.998</td><td style=\"text-align: right;\">              -340.9</td><td style=\"text-align: right;\">              1000</td></tr>\n",
       "</tbody>\n",
       "</table>\n",
       "  </div>\n",
       "</div>\n",
       "<style>\n",
       ".tuneStatus {\n",
       "  color: var(--jp-ui-font-color1);\n",
       "}\n",
       ".tuneStatus .systemInfo {\n",
       "  display: flex;\n",
       "  flex-direction: column;\n",
       "}\n",
       ".tuneStatus td {\n",
       "  white-space: nowrap;\n",
       "}\n",
       ".tuneStatus .trialStatus {\n",
       "  display: flex;\n",
       "  flex-direction: column;\n",
       "}\n",
       ".tuneStatus h3 {\n",
       "  font-weight: bold;\n",
       "}\n",
       ".tuneStatus .hDivider {\n",
       "  border-bottom-width: var(--jp-border-width);\n",
       "  border-bottom-color: var(--jp-border-color0);\n",
       "  border-bottom-style: solid;\n",
       "}\n",
       ".tuneStatus .vDivider {\n",
       "  border-left-width: var(--jp-border-width);\n",
       "  border-left-color: var(--jp-border-color0);\n",
       "  border-left-style: solid;\n",
       "  margin: 0.5em 1em 0.5em 1em;\n",
       "}\n",
       "</style>\n"
      ],
      "text/plain": [
       "<IPython.core.display.HTML object>"
      ]
     },
     "metadata": {},
     "output_type": "display_data"
    },
    {
     "name": "stderr",
     "output_type": "stream",
     "text": [
      "\u001b[34m\u001b[1mwandb\u001b[0m: Currently logged in as: \u001b[33mdanieladejumo\u001b[0m. Use \u001b[1m`wandb login --relogin`\u001b[0m to force relogin\n",
      "\u001b[2m\u001b[36m(SAC pid=5255)\u001b[0m 2023-02-09 23:25:18,698\tWARNING algorithm_config.py:488 -- Cannot create SACConfig from given `config_dict`! Property __stdout_file__ not supported.\n",
      "\u001b[2m\u001b[36m(SAC pid=5255)\u001b[0m 2023-02-09 23:25:18,895\tINFO algorithm.py:501 -- Current log_level is WARN. For more information, set 'log_level': 'INFO' / 'DEBUG' or use the -v and -vv flags.\n",
      "\u001b[2m\u001b[33m(raylet)\u001b[0m [2023-02-09 23:25:22,946 E 4994 5039] (raylet) file_system_monitor.cc:105: /tmp/ray/session_2023-02-09_23-25-09_937334_4881 is over 95% full, available space: 1206038528; capacity: 31845081088. Object creation will fail if spilling is required.\n",
      "\u001b[2m\u001b[36m(SAC pid=5255)\u001b[0m 2023-02-09 23:25:28,387\tWARNING util.py:66 -- Install gputil for GPU system monitoring.\n",
      "\u001b[2m\u001b[36m(SAC pid=5255)\u001b[0m 2023-02-09 23:25:28,669\tWARNING multi_agent_prioritized_replay_buffer.py:215 -- Adding batches with column `weights` to this buffer while providing weights as a call argument to the add method results in the column being overwritten.\n"
     ]
    },
    {
     "data": {
      "text/html": [
       "Tracking run with wandb version 0.13.10"
      ],
      "text/plain": [
       "<IPython.core.display.HTML object>"
      ]
     },
     "metadata": {},
     "output_type": "display_data"
    },
    {
     "data": {
      "text/html": [
       "Run data is saved locally in <code>/home/daniel/DARM/darm_mujoco/darm_training/results/HalfCheetah_vast_ai/SAC_HalfCheetah-v3_9fb81_00000_0_2023-02-09_23-25-14/wandb/run-20230209_232518-9fb81_00000</code>"
      ],
      "text/plain": [
       "<IPython.core.display.HTML object>"
      ]
     },
     "metadata": {},
     "output_type": "display_data"
    },
    {
     "data": {
      "text/html": [
       "Syncing run <strong><a href='https://wandb.ai/danieladejumo/HalfCheetah/runs/9fb81_00000' target=\"_blank\">HalfCheetah_local</a></strong> to <a href='https://wandb.ai/danieladejumo/HalfCheetah' target=\"_blank\">Weights & Biases</a> (<a href='https://wandb.me/run' target=\"_blank\">docs</a>)<br/>"
      ],
      "text/plain": [
       "<IPython.core.display.HTML object>"
      ]
     },
     "metadata": {},
     "output_type": "display_data"
    },
    {
     "data": {
      "text/html": [
       " View project at <a href='https://wandb.ai/danieladejumo/HalfCheetah' target=\"_blank\">https://wandb.ai/danieladejumo/HalfCheetah</a>"
      ],
      "text/plain": [
       "<IPython.core.display.HTML object>"
      ]
     },
     "metadata": {},
     "output_type": "display_data"
    },
    {
     "data": {
      "text/html": [
       " View run at <a href='https://wandb.ai/danieladejumo/HalfCheetah/runs/9fb81_00000' target=\"_blank\">https://wandb.ai/danieladejumo/HalfCheetah/runs/9fb81_00000</a>"
      ],
      "text/plain": [
       "<IPython.core.display.HTML object>"
      ]
     },
     "metadata": {},
     "output_type": "display_data"
    },
    {
     "data": {
      "text/html": [
       "<div class=\"trialProgress\">\n",
       "  <h3>Trial Progress</h3>\n",
       "  <table>\n",
       "<thead>\n",
       "<tr><th>Trial name                    </th><th style=\"text-align: right;\">  agent_timesteps_total</th><th>counters                                                                                                                                                                                       </th><th>custom_metrics  </th><th>date               </th><th>done  </th><th style=\"text-align: right;\">  episode_len_mean</th><th>episode_media  </th><th style=\"text-align: right;\">  episode_reward_max</th><th style=\"text-align: right;\">  episode_reward_mean</th><th style=\"text-align: right;\">  episode_reward_min</th><th style=\"text-align: right;\">  episodes_this_iter</th><th style=\"text-align: right;\">  episodes_total</th><th>experiment_id                   </th><th>hostname  </th><th>info  </th><th style=\"text-align: right;\">  iterations_since_restore</th><th>node_ip       </th><th style=\"text-align: right;\">  num_agent_steps_sampled</th><th style=\"text-align: right;\">  num_agent_steps_trained</th><th style=\"text-align: right;\">  num_env_steps_sampled</th><th style=\"text-align: right;\">  num_env_steps_sampled_this_iter</th><th style=\"text-align: right;\">  num_env_steps_trained</th><th style=\"text-align: right;\">  num_env_steps_trained_this_iter</th><th style=\"text-align: right;\">  num_faulty_episodes</th><th style=\"text-align: right;\">  num_healthy_workers</th><th style=\"text-align: right;\">  num_in_flight_async_reqs</th><th style=\"text-align: right;\">  num_remote_worker_restarts</th><th style=\"text-align: right;\">  num_steps_trained_this_iter</th><th>perf                                                                          </th><th style=\"text-align: right;\">  pid</th><th>policy_reward_max  </th><th>policy_reward_mean  </th><th>policy_reward_min  </th><th>sampler_perf                                                                                                                                                                                                   </th><th>sampler_results                                                                                                                                                                                                                                                                                                                                                                                                                                                                                                                                                                                                                                                                                                                                                      </th><th style=\"text-align: right;\">  time_since_restore</th><th style=\"text-align: right;\">  time_this_iter_s</th><th style=\"text-align: right;\">  time_total_s</th><th>timers                                                                                                                                                                            </th><th style=\"text-align: right;\">  timestamp</th><th style=\"text-align: right;\">  timesteps_since_restore</th><th style=\"text-align: right;\">  timesteps_total</th><th style=\"text-align: right;\">  training_iteration</th><th>trial_id   </th><th style=\"text-align: right;\">  warmup_time</th></tr>\n",
       "</thead>\n",
       "<tbody>\n",
       "<tr><td>SAC_HalfCheetah-v3_9fb81_00000</td><td style=\"text-align: right;\">                  11022</td><td>{&#x27;num_env_steps_sampled&#x27;: 11022, &#x27;num_env_steps_trained&#x27;: 87296, &#x27;num_agent_steps_sampled&#x27;: 11022, &#x27;num_agent_steps_trained&#x27;: 87296, &#x27;last_target_update_ts&#x27;: 11022, &#x27;num_target_updates&#x27;: 341}</td><td>{}              </td><td>2023-02-09_23-27-01</td><td>False </td><td style=\"text-align: right;\">              1000</td><td>{}             </td><td style=\"text-align: right;\">            -233.998</td><td style=\"text-align: right;\">             -292.981</td><td style=\"text-align: right;\">              -340.9</td><td style=\"text-align: right;\">                   0</td><td style=\"text-align: right;\">               9</td><td>359c2c77b76b4dd6977ec99c57b8d411</td><td>Daniel    </td><td>{&#x27;learner&#x27;: {&#x27;default_policy&#x27;: {&#x27;learner_stats&#x27;: {&#x27;allreduce_latency&#x27;: 0.0, &#x27;grad_gnorm&#x27;: 10.07202434539795, &#x27;actor_loss&#x27;: -9.025458335876465, &#x27;critic_loss&#x27;: 0.2415330410003662, &#x27;alpha_loss&#x27;: -1.027607798576355, &#x27;alpha_value&#x27;: 0.90300614, &#x27;log_alpha_value&#x27;: -0.102025956, &#x27;target_entropy&#x27;: -6.0, &#x27;policy_t&#x27;: 0.04645523428916931, &#x27;mean_q&#x27;: 5.41398286819458, &#x27;max_q&#x27;: 11.071789741516113, &#x27;min_q&#x27;: 1.4648659229278564}, &#x27;td_error&#x27;: array([2.9509466 , 0.9988861 , 1.9370294 , 1.1591816 , 1.4729459 ,\n",
       "       1.8506498 , 2.885347  , 1.5431514 , 0.45359862, 1.6352813 ,\n",
       "       1.067107  , 2.415809  , 2.4009805 , 0.66712904, 2.2120981 ,\n",
       "       1.9833089 , 2.4560628 , 1.2805784 , 1.3984807 , 0.40885758,\n",
       "       1.0757196 , 0.13333607, 0.14555717, 1.3062484 , 2.4643962 ,\n",
       "       2.0643098 , 0.44860196, 0.3981986 , 1.4452876 , 1.2698514 ,\n",
       "       3.1402712 , 2.571973  , 3.8710046 , 1.4677339 , 2.6913037 ,\n",
       "       0.39448595, 1.9173098 , 1.4558547 , 2.3872962 , 0.60955215,\n",
       "       3.5681305 , 2.483955  , 1.8751287 , 1.1586635 , 1.5558608 ,\n",
       "       4.234622  , 0.7035558 , 2.7190063 , 1.8820316 , 1.8628948 ,\n",
       "       1.6156793 , 2.031303  , 0.28688264, 0.8564153 , 0.23660326,\n",
       "       3.1828823 , 1.8692517 , 5.3230243 , 2.118788  , 0.6094477 ,\n",
       "       0.76543546, 0.6576369 , 2.4151714 , 2.1163783 , 3.802826  ,\n",
       "       3.0842838 , 4.595171  , 1.2762183 , 1.8338513 , 2.7085688 ,\n",
       "       2.1769552 , 1.8450398 , 1.0973964 , 2.3642838 , 2.8488984 ,\n",
       "       0.542676  , 1.2971399 , 2.0986705 , 1.9930696 , 3.6106372 ,\n",
       "       0.75904226, 0.6446961 , 1.3395989 , 1.0964713 , 1.1312335 ,\n",
       "       1.51985   , 2.3886333 , 1.1496575 , 1.2212092 , 4.634345  ,\n",
       "       1.1431317 , 3.5023205 , 2.7518466 , 0.64675653, 4.913612  ,\n",
       "       1.1415017 , 3.6226726 , 0.24486136, 0.7408836 , 1.0706868 ,\n",
       "       1.2121747 , 1.7321489 , 0.7289655 , 1.4608619 , 2.9639819 ,\n",
       "       1.6174421 , 2.5748954 , 1.884774  , 0.22317839, 2.438346  ,\n",
       "       0.2816062 , 0.6420634 , 3.0350065 , 1.3908501 , 3.9100094 ,\n",
       "       1.1554964 , 0.4355669 , 1.9591995 , 1.63557   , 3.903087  ,\n",
       "       2.6690068 , 0.9179816 , 2.599912  , 0.8063154 , 2.5694776 ,\n",
       "       1.9564964 , 1.109189  , 2.7190042 , 0.5401666 , 1.380898  ,\n",
       "       2.7454548 , 0.18205953, 2.0934923 , 1.0248401 , 1.4094403 ,\n",
       "       2.1985838 , 2.6140718 , 2.2516499 , 1.8336132 , 2.6929183 ,\n",
       "       1.6135666 , 1.7486076 , 1.9121552 , 1.2403853 , 3.5458894 ,\n",
       "       0.7683978 , 0.9451697 , 1.8377435 , 0.5707805 , 3.3786104 ,\n",
       "       3.225205  , 0.86801505, 1.5875199 , 0.65161586, 2.4181483 ,\n",
       "       2.0135152 , 3.494512  , 0.25844884, 1.822489  , 0.53197217,\n",
       "       1.8171518 , 1.510526  , 0.89664865, 1.8043802 , 1.7567089 ,\n",
       "       4.24862   , 2.1927009 , 2.4027464 , 1.2664046 , 1.6513941 ,\n",
       "       1.9291918 , 2.9750626 , 3.5492785 , 2.7101328 , 2.033898  ,\n",
       "       1.0999234 , 0.8117268 , 1.8664973 , 2.066683  , 1.4051342 ,\n",
       "       0.74687886, 0.11155272, 1.9677541 , 1.3607306 , 1.5288043 ,\n",
       "       0.25973332, 0.7631824 , 1.7051808 , 0.802094  , 0.83978724,\n",
       "       1.535423  , 2.1544096 , 0.9650657 , 1.6017727 , 0.33154702,\n",
       "       1.401068  , 4.1225753 , 0.9291835 , 0.5205152 , 1.1508821 ,\n",
       "       2.6086388 , 2.1520872 , 0.44897294, 2.5097456 , 1.8100348 ,\n",
       "       0.8794029 , 2.365128  , 1.4229324 , 1.5331357 , 0.20331597,\n",
       "       0.5721834 , 0.8165846 , 0.55181336, 2.0156095 , 1.1546798 ,\n",
       "       0.994534  , 2.2371376 , 1.3520977 , 1.440165  , 1.3498456 ,\n",
       "       0.90504956, 1.0942979 , 4.1667514 , 2.7432008 , 0.7208247 ,\n",
       "       0.2540052 , 3.2562547 , 0.06819344, 1.8134959 , 2.0130293 ,\n",
       "       0.25110054, 1.8268158 , 0.9371655 , 2.44393   , 1.570142  ,\n",
       "       0.9074135 , 1.6927862 , 1.706352  , 1.1398256 , 2.4488614 ,\n",
       "       3.7668762 , 1.2291183 , 0.64544713, 1.6840007 , 0.6163583 ,\n",
       "       0.633306  , 1.6026213 , 2.187861  , 0.80523443, 1.2110784 ,\n",
       "       2.1133633 , 2.4793444 , 4.3143826 , 0.8647673 , 2.7738688 ,\n",
       "       0.4736588 ], dtype=float32), &#x27;mean_td_error&#x27;: 1.7262011766433716, &#x27;model&#x27;: {}, &#x27;custom_metrics&#x27;: {}, &#x27;num_agent_steps_trained&#x27;: 256.0, &#x27;num_grad_updates_lifetime&#x27;: 341.0, &#x27;diff_num_grad_updates_vs_sampler_policy&#x27;: 340.0}}, &#x27;num_env_steps_sampled&#x27;: 11022, &#x27;num_env_steps_trained&#x27;: 87296, &#x27;num_agent_steps_sampled&#x27;: 11022, &#x27;num_agent_steps_trained&#x27;: 87296, &#x27;last_target_update_ts&#x27;: 11022, &#x27;num_target_updates&#x27;: 341}       </td><td style=\"text-align: right;\">                        11</td><td>192.168.152.36</td><td style=\"text-align: right;\">                    11022</td><td style=\"text-align: right;\">                    87296</td><td style=\"text-align: right;\">                  11022</td><td style=\"text-align: right;\">                             1002</td><td style=\"text-align: right;\">                  87296</td><td style=\"text-align: right;\">                            85504</td><td style=\"text-align: right;\">                    0</td><td style=\"text-align: right;\">                    3</td><td style=\"text-align: right;\">                         0</td><td style=\"text-align: right;\">                           0</td><td style=\"text-align: right;\">                        85504</td><td>{&#x27;cpu_util_percent&#x27;: 42.11200000000001, &#x27;ram_util_percent&#x27;: 60.25200000000002}</td><td style=\"text-align: right;\"> 5255</td><td>{}                 </td><td>{}                  </td><td>{}                 </td><td>{&#x27;mean_raw_obs_processing_ms&#x27;: 1.4851522110455198, &#x27;mean_inference_ms&#x27;: 2.506559229549628, &#x27;mean_action_processing_ms&#x27;: 0.2388331049747872, &#x27;mean_env_wait_ms&#x27;: 0.29935671098171135, &#x27;mean_env_render_ms&#x27;: 0.0}</td><td>{&#x27;episode_reward_max&#x27;: -233.99772775695823, &#x27;episode_reward_min&#x27;: -340.8995194641167, &#x27;episode_reward_mean&#x27;: -292.9808384674325, &#x27;episode_len_mean&#x27;: 1000.0, &#x27;episode_media&#x27;: {}, &#x27;episodes_this_iter&#x27;: 0, &#x27;policy_reward_min&#x27;: {}, &#x27;policy_reward_max&#x27;: {}, &#x27;policy_reward_mean&#x27;: {}, &#x27;custom_metrics&#x27;: {}, &#x27;hist_stats&#x27;: {&#x27;episode_reward&#x27;: [-321.0240325291854, -297.97974884848054, -271.00316373842156, -340.8995194641167, -233.99772775695823], &#x27;episode_lengths&#x27;: [1000, 1000, 1000, 1000, 1000]}, &#x27;sampler_perf&#x27;: {&#x27;mean_raw_obs_processing_ms&#x27;: 1.4851522110455198, &#x27;mean_inference_ms&#x27;: 2.506559229549628, &#x27;mean_action_processing_ms&#x27;: 0.2388331049747872, &#x27;mean_env_wait_ms&#x27;: 0.29935671098171135, &#x27;mean_env_render_ms&#x27;: 0.0}, &#x27;num_faulty_episodes&#x27;: 0}</td><td style=\"text-align: right;\">             93.1622</td><td style=\"text-align: right;\">           54.4502</td><td style=\"text-align: right;\">       93.1622</td><td>{&#x27;training_iteration_time_ms&#x27;: 170.46, &#x27;load_time_ms&#x27;: 0.284, &#x27;load_throughput&#x27;: 902455.727, &#x27;learn_time_ms&#x27;: 26.165, &#x27;learn_throughput&#x27;: 9784.193, &#x27;synch_weights_time_ms&#x27;: 5.59}</td><td style=\"text-align: right;\"> 1675981621</td><td style=\"text-align: right;\">                        0</td><td style=\"text-align: right;\">            11022</td><td style=\"text-align: right;\">                  11</td><td>9fb81_00000</td><td style=\"text-align: right;\">      9.49957</td></tr>\n",
       "</tbody>\n",
       "</table>\n",
       "</div>\n",
       "<style>\n",
       ".trialProgress {\n",
       "  display: flex;\n",
       "  flex-direction: column;\n",
       "  color: var(--jp-ui-font-color1);\n",
       "}\n",
       ".trialProgress h3 {\n",
       "  font-weight: bold;\n",
       "}\n",
       ".trialProgress td {\n",
       "  white-space: nowrap;\n",
       "}\n",
       "</style>\n"
      ],
      "text/plain": [
       "<IPython.core.display.HTML object>"
      ]
     },
     "metadata": {},
     "output_type": "display_data"
    },
    {
     "name": "stderr",
     "output_type": "stream",
     "text": [
      "\u001b[2m\u001b[33m(raylet)\u001b[0m [2023-02-09 23:25:32,970 E 4994 5039] (raylet) file_system_monitor.cc:105: /tmp/ray/session_2023-02-09_23-25-09_937334_4881 is over 95% full, available space: 1200185344; capacity: 31845081088. Object creation will fail if spilling is required.\n",
      "\u001b[2m\u001b[33m(raylet)\u001b[0m [2023-02-09 23:25:42,975 E 4994 5039] (raylet) file_system_monitor.cc:105: /tmp/ray/session_2023-02-09_23-25-09_937334_4881 is over 95% full, available space: 1202999296; capacity: 31845081088. Object creation will fail if spilling is required.\n",
      "\u001b[2m\u001b[33m(raylet)\u001b[0m [2023-02-09 23:25:52,982 E 4994 5039] (raylet) file_system_monitor.cc:105: /tmp/ray/session_2023-02-09_23-25-09_937334_4881 is over 95% full, available space: 1201119232; capacity: 31845081088. Object creation will fail if spilling is required.\n",
      "\u001b[2m\u001b[33m(raylet)\u001b[0m [2023-02-09 23:26:02,992 E 4994 5039] (raylet) file_system_monitor.cc:105: /tmp/ray/session_2023-02-09_23-25-09_937334_4881 is over 95% full, available space: 1200787456; capacity: 31845081088. Object creation will fail if spilling is required.\n",
      "\u001b[2m\u001b[36m(SAC pid=5255)\u001b[0m 2023-02-09 23:26:06,216\tWARNING deprecation.py:47 -- DeprecationWarning: `concat_samples` has been deprecated. Use `concat_samples() from rllib.policy.sample_batch` instead. This will raise an error in the future!\n",
      "\u001b[2m\u001b[33m(raylet)\u001b[0m [2023-02-09 23:26:12,998 E 4994 5039] (raylet) file_system_monitor.cc:105: /tmp/ray/session_2023-02-09_23-25-09_937334_4881 is over 95% full, available space: 1200504832; capacity: 31845081088. Object creation will fail if spilling is required.\n",
      "\u001b[2m\u001b[33m(raylet)\u001b[0m [2023-02-09 23:26:23,005 E 4994 5039] (raylet) file_system_monitor.cc:105: /tmp/ray/session_2023-02-09_23-25-09_937334_4881 is over 95% full, available space: 1200422912; capacity: 31845081088. Object creation will fail if spilling is required.\n",
      "\u001b[2m\u001b[33m(raylet)\u001b[0m [2023-02-09 23:26:33,012 E 4994 5039] (raylet) file_system_monitor.cc:105: /tmp/ray/session_2023-02-09_23-25-09_937334_4881 is over 95% full, available space: 1200472064; capacity: 31845081088. Object creation will fail if spilling is required.\n",
      "\u001b[2m\u001b[33m(raylet)\u001b[0m [2023-02-09 23:26:43,018 E 4994 5039] (raylet) file_system_monitor.cc:105: /tmp/ray/session_2023-02-09_23-25-09_937334_4881 is over 95% full, available space: 1200443392; capacity: 31845081088. Object creation will fail if spilling is required.\n",
      "\u001b[2m\u001b[33m(raylet)\u001b[0m [2023-02-09 23:26:53,025 E 4994 5039] (raylet) file_system_monitor.cc:105: /tmp/ray/session_2023-02-09_23-25-09_937334_4881 is over 95% full, available space: 1200435200; capacity: 31845081088. Object creation will fail if spilling is required.\n",
      "\u001b[2m\u001b[33m(raylet)\u001b[0m [2023-02-09 23:27:03,030 E 4994 5039] (raylet) file_system_monitor.cc:105: /tmp/ray/session_2023-02-09_23-25-09_937334_4881 is over 95% full, available space: 1200381952; capacity: 31845081088. Object creation will fail if spilling is required.\n",
      "\u001b[2m\u001b[33m(raylet)\u001b[0m [2023-02-09 23:27:13,038 E 4994 5039] (raylet) file_system_monitor.cc:105: /tmp/ray/session_2023-02-09_23-25-09_937334_4881 is over 95% full, available space: 1200173056; capacity: 31845081088. Object creation will fail if spilling is required.\n",
      "\u001b[2m\u001b[33m(raylet)\u001b[0m [2023-02-09 23:27:23,044 E 4994 5039] (raylet) file_system_monitor.cc:105: /tmp/ray/session_2023-02-09_23-25-09_937334_4881 is over 95% full, available space: 1200373760; capacity: 31845081088. Object creation will fail if spilling is required.\n",
      "\u001b[2m\u001b[33m(raylet)\u001b[0m [2023-02-09 23:27:33,050 E 4994 5039] (raylet) file_system_monitor.cc:105: /tmp/ray/session_2023-02-09_23-25-09_937334_4881 is over 95% full, available space: 1199734784; capacity: 31845081088. Object creation will fail if spilling is required.\n",
      "\u001b[2m\u001b[33m(raylet)\u001b[0m [2023-02-09 23:27:43,056 E 4994 5039] (raylet) file_system_monitor.cc:105: /tmp/ray/session_2023-02-09_23-25-09_937334_4881 is over 95% full, available space: 1199964160; capacity: 31845081088. Object creation will fail if spilling is required.\n",
      "\u001b[2m\u001b[33m(raylet)\u001b[0m [2023-02-09 23:27:53,062 E 4994 5039] (raylet) file_system_monitor.cc:105: /tmp/ray/session_2023-02-09_23-25-09_937334_4881 is over 95% full, available space: 1199947776; capacity: 31845081088. Object creation will fail if spilling is required.\n",
      "2023-02-09 23:27:56,765\tWARNING tune.py:690 -- Stop signal received (e.g. via SIGINT/Ctrl+C), ending Ray Tune run. This will try to checkpoint the experiment state one last time. Press CTRL+C (or send SIGINT/SIGKILL/SIGTERM) to skip. \n",
      "2023-02-09 23:27:57,006\tWARNING tune.py:690 -- Stop signal received (e.g. via SIGINT/Ctrl+C), ending Ray Tune run. This will try to checkpoint the experiment state one last time. Press CTRL+C (or send SIGINT/SIGKILL/SIGTERM) to skip. \n",
      "2023-02-09 23:27:57,227\tERROR tune.py:758 -- Trials did not complete: [SAC_HalfCheetah-v3_9fb81_00000]\n",
      "2023-02-09 23:27:57,229\tINFO tune.py:762 -- Total run time: 162.89 seconds (162.49 seconds for the tuning loop).\n",
      "2023-02-09 23:27:57,230\tWARNING tune.py:768 -- Experiment has been interrupted, but the most recent state was saved. You can continue running this experiment by passing `resume=True` to `tune.run()`\n"
     ]
    }
   ],
   "source": [
    "tuner = tune.Tuner(\n",
    "    \"SAC\",\n",
    "    run_config=air.RunConfig(\n",
    "        name=\"HalfCheetah_vast_ai\",\n",
    "        stop={\"training_iteration\": 3_000, \"episode_reward_mean\": 150},\n",
    "        checkpoint_config=air.CheckpointConfig(checkpoint_at_end=True),\n",
    "        callbacks=[\n",
    "                WandbLoggerCallback(project=\"HalfCheetah\", save_checkpoints=True, **wandb_init)\n",
    "            ],\n",
    "        local_dir=\"./results\"\n",
    "        ),\n",
    "    param_space=config\n",
    ")\n",
    "\n",
    "results = tuner.fit()"
   ]
  },
  {
   "cell_type": "code",
   "execution_count": null,
   "id": "e444bbad-0350-4217-bdff-727163e10aa6",
   "metadata": {},
   "outputs": [],
   "source": []
  }
 ],
 "metadata": {
  "kernelspec": {
   "display_name": "Python 3",
   "language": "python",
   "name": "python3"
  },
  "language_info": {
   "codemirror_mode": {
    "name": "ipython",
    "version": 3
   },
   "file_extension": ".py",
   "mimetype": "text/x-python",
   "name": "python",
   "nbconvert_exporter": "python",
   "pygments_lexer": "ipython3",
   "version": "3.8.12"
  }
 },
 "nbformat": 4,
 "nbformat_minor": 5
}
