{
 "cells": [
  {
   "cell_type": "markdown",
   "id": "799cc8cb-e1a5-4a58-a984-efc11326303e",
   "metadata": {},
   "source": [
    "## Installation and Imports"
   ]
  },
  {
   "cell_type": "code",
   "execution_count": null,
   "id": "b0d385d9-46d0-43ec-a48f-864512a68528",
   "metadata": {},
   "outputs": [],
   "source": [
    "!pip install ray[rllib] torch\n",
    "!pip install tensorflow_probability\n",
    "!pip install wandb"
   ]
  },
  {
   "cell_type": "code",
   "execution_count": 1,
   "id": "b9c7e52e-b467-4d91-8fe9-d1035e51c932",
   "metadata": {},
   "outputs": [],
   "source": [
    "import ray\n",
    "from ray.rllib.algorithms.sac import SACConfig\n",
    "from ray.tune.registry import register_env\n",
    "from ray.tune.logger import pretty_print\n",
    "\n",
    "from ray import air, tune\n",
    "from ray.air import session\n",
    "from ray.air.integrations.wandb import setup_wandb\n",
    "from ray.air.integrations.wandb import WandbLoggerCallback\n",
    "\n",
    "import gym"
   ]
  },
  {
   "cell_type": "markdown",
   "id": "049729f3-c175-4d9c-b449-43af66f121a5",
   "metadata": {},
   "source": [
    "## Configure and Run"
   ]
  },
  {
   "cell_type": "code",
   "execution_count": 2,
   "id": "4a0ed8ba-4f6b-47f9-b0e7-37d0eec71647",
   "metadata": {},
   "outputs": [],
   "source": [
    "config = (\n",
    "    SACConfig()\n",
    "    .environment(\n",
    "        env=\"HalfCheetah-v3\",\n",
    "        normalize_actions=True\n",
    "    )\n",
    "    .training(\n",
    "        q_model_config={\n",
    "            \"fcnet_activation\": \"relu\",\n",
    "            \"fcnet_hiddens\": [256, 256]\n",
    "        },\n",
    "        policy_model_config={\n",
    "            \"fcnet_activation\": \"relu\",\n",
    "            \"fcnet_hiddens\": [256, 256]\n",
    "        },\n",
    "        tau=0.005,\n",
    "        target_entropy=\"auto\",\n",
    "        n_step=1,  # num of SGD steps per batch of data in training step\n",
    "        train_batch_size=256,\n",
    "        target_network_update_freq=1,\n",
    "        replay_buffer_config={\"type\":\"MultiAgentPrioritizedReplayBuffer\"},\n",
    "        num_steps_sampled_before_learning_starts=10_000,\n",
    "        optimization_config={\n",
    "          \"actor_learning_rate\": 0.0003,\n",
    "          \"critic_learning_rate\": 0.0003,\n",
    "          \"entropy_learning_rate\": 0.0003,\n",
    "        },\n",
    "        clip_actions=False\n",
    "    )\n",
    "    .rollouts(\n",
    "        num_rollout_workers=3,\n",
    "        rollout_fragment_length=1,\n",
    "    )\n",
    "    .resources(num_gpus=0)\n",
    "    .evaluation(evaluation_interval=100) # For 1000 timesteps iter; 100 evals\n",
    "    .reporting(\n",
    "        min_sample_timesteps_per_iteration=1000,\n",
    "        metrics_num_episodes_for_smoothing=5\n",
    "    )\n",
    "    .framework(framework=\"torch\")\n",
    ")"
   ]
  },
  {
   "cell_type": "code",
   "execution_count": 3,
   "id": "46f0fa8e-5023-44c3-a9f7-8a6b041617a2",
   "metadata": {},
   "outputs": [],
   "source": [
    "wandb_init = dict(\n",
    "    save_code=True,\n",
    "    config={\n",
    "        \"env\": \"HalfCheetah-v3\",\n",
    "        \n",
    "        \"actor_learning_rate\": 0.0003,\n",
    "        \"critic_learning_rate\": 0.0003,\n",
    "        \"entropy_learning_rate\": 0.0003,\n",
    "        \"framework\": \"torch\",\n",
    "        \n",
    "        \"num_rollout_workers\": 3,\n",
    "        \"num_gpu\": 0,\n",
    "        \"metrics_num_episodes_for_smoothing\": 5\n",
    "    },\n",
    "    tags=[\"local\"],\n",
    "    notes=\"Test to inspect scaling on Vast.ai\",\n",
    "    name=\"HalfCheetah_local\"\n",
    "    # job_type=D\n",
    "    # monitor_gym=\n",
    ")"
   ]
  },
  {
   "cell_type": "code",
   "execution_count": 4,
   "id": "727ee5b8-0cc3-4831-91ee-34514946c66a",
   "metadata": {
    "collapsed": true,
    "jupyter": {
     "outputs_hidden": true
    },
    "tags": []
   },
   "outputs": [
    {
     "name": "stderr",
     "output_type": "stream",
     "text": [
      "2023-02-10 11:04:20,575\tINFO worker.py:1538 -- Started a local Ray instance.\n",
      "2023-02-10 11:04:22,218\tINFO wandb.py:250 -- Already logged into W&B.\n"
     ]
    },
    {
     "data": {
      "text/html": [
       "<div class=\"tuneStatus\">\n",
       "  <div style=\"display: flex;flex-direction: row\">\n",
       "    <div style=\"display: flex;flex-direction: column;\">\n",
       "      <h3>Tune Status</h3>\n",
       "      <table>\n",
       "<tbody>\n",
       "<tr><td>Current time:</td><td>2023-02-10 11:13:51</td></tr>\n",
       "<tr><td>Running for: </td><td>00:09:28.95        </td></tr>\n",
       "<tr><td>Memory:      </td><td>6.1/7.5 GiB        </td></tr>\n",
       "</tbody>\n",
       "</table>\n",
       "    </div>\n",
       "    <div class=\"vDivider\"></div>\n",
       "    <div class=\"systemInfo\">\n",
       "      <h3>System Info</h3>\n",
       "      Using FIFO scheduling algorithm.<br>Resources requested: 4.0/4 CPUs, 0/0 GPUs, 0.0/1.51 GiB heap, 0.0/0.76 GiB objects\n",
       "    </div>\n",
       "    \n",
       "  </div>\n",
       "  <div class=\"hDivider\"></div>\n",
       "  <div class=\"trialStatus\">\n",
       "    <h3>Trial Status</h3>\n",
       "    <table>\n",
       "<thead>\n",
       "<tr><th>Trial name                    </th><th>status  </th><th>loc                </th><th style=\"text-align: right;\">  iter</th><th style=\"text-align: right;\">  total time (s)</th><th style=\"text-align: right;\">   ts</th><th style=\"text-align: right;\">  reward</th><th style=\"text-align: right;\">  episode_reward_max</th><th style=\"text-align: right;\">  episode_reward_min</th><th style=\"text-align: right;\">  episode_len_mean</th></tr>\n",
       "</thead>\n",
       "<tbody>\n",
       "<tr><td>SAC_HalfCheetah-v3_4a7ee_00000</td><td>RUNNING </td><td>192.168.152.36:8770</td><td style=\"text-align: right;\">    19</td><td style=\"text-align: right;\">         519.932</td><td style=\"text-align: right;\">19038</td><td style=\"text-align: right;\">-259.557</td><td style=\"text-align: right;\">            -190.513</td><td style=\"text-align: right;\">            -334.009</td><td style=\"text-align: right;\">              1000</td></tr>\n",
       "</tbody>\n",
       "</table>\n",
       "  </div>\n",
       "</div>\n",
       "<style>\n",
       ".tuneStatus {\n",
       "  color: var(--jp-ui-font-color1);\n",
       "}\n",
       ".tuneStatus .systemInfo {\n",
       "  display: flex;\n",
       "  flex-direction: column;\n",
       "}\n",
       ".tuneStatus td {\n",
       "  white-space: nowrap;\n",
       "}\n",
       ".tuneStatus .trialStatus {\n",
       "  display: flex;\n",
       "  flex-direction: column;\n",
       "}\n",
       ".tuneStatus h3 {\n",
       "  font-weight: bold;\n",
       "}\n",
       ".tuneStatus .hDivider {\n",
       "  border-bottom-width: var(--jp-border-width);\n",
       "  border-bottom-color: var(--jp-border-color0);\n",
       "  border-bottom-style: solid;\n",
       "}\n",
       ".tuneStatus .vDivider {\n",
       "  border-left-width: var(--jp-border-width);\n",
       "  border-left-color: var(--jp-border-color0);\n",
       "  border-left-style: solid;\n",
       "  margin: 0.5em 1em 0.5em 1em;\n",
       "}\n",
       "</style>\n"
      ],
      "text/plain": [
       "<IPython.core.display.HTML object>"
      ]
     },
     "metadata": {},
     "output_type": "display_data"
    },
    {
     "name": "stderr",
     "output_type": "stream",
     "text": [
      "\u001b[34m\u001b[1mwandb\u001b[0m: Currently logged in as: \u001b[33mdanieladejumo\u001b[0m. Use \u001b[1m`wandb login --relogin`\u001b[0m to force relogin\n",
      "\u001b[2m\u001b[36m(SAC pid=8770)\u001b[0m 2023-02-10 11:04:26,378\tWARNING algorithm_config.py:488 -- Cannot create SACConfig from given `config_dict`! Property __stdout_file__ not supported.\n",
      "\u001b[2m\u001b[36m(SAC pid=8770)\u001b[0m 2023-02-10 11:04:26,610\tINFO algorithm.py:501 -- Current log_level is WARN. For more information, set 'log_level': 'INFO' / 'DEBUG' or use the -v and -vv flags.\n",
      "\u001b[2m\u001b[33m(raylet)\u001b[0m [2023-02-10 11:04:30,462 E 8512 8557] (raylet) file_system_monitor.cc:105: /tmp/ray/session_2023-02-10_11-04-18_300548_8410 is over 95% full, available space: 1219694592; capacity: 31845081088. Object creation will fail if spilling is required.\n"
     ]
    },
    {
     "data": {
      "text/html": [
       "Tracking run with wandb version 0.13.10"
      ],
      "text/plain": [
       "<IPython.core.display.HTML object>"
      ]
     },
     "metadata": {},
     "output_type": "display_data"
    },
    {
     "data": {
      "text/html": [
       "Run data is saved locally in <code>/home/daniel/DARM/darm_mujoco/darm_training/results/HalfCheetah_local/SAC_HalfCheetah-v3_4a7ee_00000_0_2023-02-10_11-04-22/wandb/run-20230210_110425-4a7ee_00000</code>"
      ],
      "text/plain": [
       "<IPython.core.display.HTML object>"
      ]
     },
     "metadata": {},
     "output_type": "display_data"
    },
    {
     "data": {
      "text/html": [
       "Syncing run <strong><a href='https://wandb.ai/danieladejumo/HalfCheetah/runs/4a7ee_00000' target=\"_blank\">HalfCheetah_local</a></strong> to <a href='https://wandb.ai/danieladejumo/HalfCheetah' target=\"_blank\">Weights & Biases</a> (<a href='https://wandb.me/run' target=\"_blank\">docs</a>)<br/>"
      ],
      "text/plain": [
       "<IPython.core.display.HTML object>"
      ]
     },
     "metadata": {},
     "output_type": "display_data"
    },
    {
     "data": {
      "text/html": [
       " View project at <a href='https://wandb.ai/danieladejumo/HalfCheetah' target=\"_blank\">https://wandb.ai/danieladejumo/HalfCheetah</a>"
      ],
      "text/plain": [
       "<IPython.core.display.HTML object>"
      ]
     },
     "metadata": {},
     "output_type": "display_data"
    },
    {
     "data": {
      "text/html": [
       " View run at <a href='https://wandb.ai/danieladejumo/HalfCheetah/runs/4a7ee_00000' target=\"_blank\">https://wandb.ai/danieladejumo/HalfCheetah/runs/4a7ee_00000</a>"
      ],
      "text/plain": [
       "<IPython.core.display.HTML object>"
      ]
     },
     "metadata": {},
     "output_type": "display_data"
    },
    {
     "name": "stderr",
     "output_type": "stream",
     "text": [
      "\u001b[2m\u001b[36m(SAC pid=8770)\u001b[0m 2023-02-10 11:04:35,506\tWARNING util.py:66 -- Install gputil for GPU system monitoring.\n",
      "\u001b[2m\u001b[36m(SAC pid=8770)\u001b[0m 2023-02-10 11:04:35,803\tWARNING multi_agent_prioritized_replay_buffer.py:215 -- Adding batches with column `weights` to this buffer while providing weights as a call argument to the add method results in the column being overwritten.\n"
     ]
    },
    {
     "data": {
      "text/html": [
       "<div class=\"trialProgress\">\n",
       "  <h3>Trial Progress</h3>\n",
       "  <table>\n",
       "<thead>\n",
       "<tr><th>Trial name                    </th><th style=\"text-align: right;\">  agent_timesteps_total</th><th>counters                                                                                                                                                                                          </th><th>custom_metrics  </th><th>date               </th><th>done  </th><th style=\"text-align: right;\">  episode_len_mean</th><th>episode_media  </th><th style=\"text-align: right;\">  episode_reward_max</th><th style=\"text-align: right;\">  episode_reward_mean</th><th style=\"text-align: right;\">  episode_reward_min</th><th style=\"text-align: right;\">  episodes_this_iter</th><th style=\"text-align: right;\">  episodes_total</th><th>experiment_id                   </th><th>hostname  </th><th>info  </th><th style=\"text-align: right;\">  iterations_since_restore</th><th>node_ip       </th><th style=\"text-align: right;\">  num_agent_steps_sampled</th><th style=\"text-align: right;\">  num_agent_steps_trained</th><th style=\"text-align: right;\">  num_env_steps_sampled</th><th style=\"text-align: right;\">  num_env_steps_sampled_this_iter</th><th style=\"text-align: right;\">  num_env_steps_trained</th><th style=\"text-align: right;\">  num_env_steps_trained_this_iter</th><th style=\"text-align: right;\">  num_faulty_episodes</th><th style=\"text-align: right;\">  num_healthy_workers</th><th style=\"text-align: right;\">  num_in_flight_async_reqs</th><th style=\"text-align: right;\">  num_remote_worker_restarts</th><th style=\"text-align: right;\">  num_steps_trained_this_iter</th><th>perf                                                    </th><th style=\"text-align: right;\">  pid</th><th>policy_reward_max  </th><th>policy_reward_mean  </th><th>policy_reward_min  </th><th>sampler_perf                                                                                                                                                                                                    </th><th>sampler_results                                                                                                                                                                                                                                                                                                                                                                                                                                                                                                                                                                                                                                                                                                                                                        </th><th style=\"text-align: right;\">  time_since_restore</th><th style=\"text-align: right;\">  time_this_iter_s</th><th style=\"text-align: right;\">  time_total_s</th><th>timers                                                                                                                                                                             </th><th style=\"text-align: right;\">  timestamp</th><th style=\"text-align: right;\">  timesteps_since_restore</th><th style=\"text-align: right;\">  timesteps_total</th><th style=\"text-align: right;\">  training_iteration</th><th>trial_id   </th><th style=\"text-align: right;\">  warmup_time</th></tr>\n",
       "</thead>\n",
       "<tbody>\n",
       "<tr><td>SAC_HalfCheetah-v3_4a7ee_00000</td><td style=\"text-align: right;\">                  19038</td><td>{&#x27;num_env_steps_sampled&#x27;: 19038, &#x27;num_env_steps_trained&#x27;: 771328, &#x27;num_agent_steps_sampled&#x27;: 19038, &#x27;num_agent_steps_trained&#x27;: 771328, &#x27;last_target_update_ts&#x27;: 19038, &#x27;num_target_updates&#x27;: 3013}</td><td>{}              </td><td>2023-02-10_11-13-16</td><td>False </td><td style=\"text-align: right;\">              1000</td><td>{}             </td><td style=\"text-align: right;\">            -190.513</td><td style=\"text-align: right;\">             -259.557</td><td style=\"text-align: right;\">            -334.009</td><td style=\"text-align: right;\">                   0</td><td style=\"text-align: right;\">              18</td><td>eb2ab4e9039e47baa7a0744ff713e4f8</td><td>Daniel    </td><td>{&#x27;learner&#x27;: {&#x27;default_policy&#x27;: {&#x27;learner_stats&#x27;: {&#x27;allreduce_latency&#x27;: 0.0, &#x27;grad_gnorm&#x27;: 9.758378982543945, &#x27;actor_loss&#x27;: -25.98797607421875, &#x27;critic_loss&#x27;: 0.1140708327293396, &#x27;alpha_loss&#x27;: -8.783862113952637, &#x27;alpha_value&#x27;: 0.4065146, &#x27;log_alpha_value&#x27;: -0.9001354, &#x27;target_entropy&#x27;: -6.0, &#x27;policy_t&#x27;: 0.009235848672688007, &#x27;mean_q&#x27;: 24.703245162963867, &#x27;max_q&#x27;: 29.371721267700195, &#x27;min_q&#x27;: 17.71662712097168}, &#x27;td_error&#x27;: array([ 0.33663464,  1.2601948 ,  0.28399277,  1.0609436 ,  1.1876373 ,\n",
       "        0.77235985,  0.39661217,  1.8075237 ,  0.21414566,  3.072195  ,\n",
       "        2.3819637 ,  0.4548006 ,  0.24678612,  0.79231644,  0.8752146 ,\n",
       "        0.8064976 ,  0.59739685,  0.88677406,  1.6359854 ,  0.49676704,\n",
       "        2.2438574 ,  2.4265738 ,  1.096798  ,  1.5275669 ,  0.5167084 ,\n",
       "        0.7446928 ,  0.63783646,  0.78740597,  0.8644352 ,  0.70473003,\n",
       "        0.25894928,  3.8774958 ,  1.8265591 ,  0.52253056,  0.3203869 ,\n",
       "        0.6314659 ,  0.11497688,  1.2570848 ,  0.3603592 ,  0.62269974,\n",
       "        0.55908775,  0.5118036 ,  0.7691231 ,  2.31979   ,  1.1254578 ,\n",
       "        0.67871094,  1.1452103 ,  0.22850704,  3.9334507 ,  0.9412079 ,\n",
       "        0.4457178 ,  1.8052874 ,  2.7814283 ,  0.32353497,  0.42216587,\n",
       "        0.53152657,  1.2548428 ,  2.9495945 ,  0.31592178,  2.0177383 ,\n",
       "        1.4619961 ,  0.5534277 ,  2.5569992 ,  0.65735817,  0.6479845 ,\n",
       "        1.0793705 ,  0.87029076,  0.66249657,  1.0622044 ,  2.323742  ,\n",
       "        0.4010811 ,  0.891881  ,  0.4186468 ,  0.6992321 ,  1.0623341 ,\n",
       "        1.0056705 ,  1.174758  ,  1.3097258 ,  2.323824  ,  0.64501   ,\n",
       "        1.0750351 ,  0.3852768 ,  0.9641895 ,  2.3115416 ,  0.67684937,\n",
       "        0.8154249 ,  0.1271534 ,  0.63460064,  1.9324121 ,  0.63217354,\n",
       "        2.850933  ,  1.6855679 ,  2.989849  ,  0.43947506,  2.6809158 ,\n",
       "        1.0275698 ,  1.7981501 ,  2.0140724 ,  0.63266945,  0.5763073 ,\n",
       "        0.5687628 ,  2.600439  ,  0.35207653,  0.5303459 ,  0.91572   ,\n",
       "        0.8894968 ,  0.5999069 ,  0.88246155,  0.46098137,  1.1507416 ,\n",
       "        0.9566822 ,  1.1904469 ,  1.1747885 ,  3.0292225 ,  0.3907013 ,\n",
       "        0.90608215,  0.45789242,  0.36025524,  0.7595682 ,  0.6853914 ,\n",
       "        0.47565842,  2.0772629 ,  0.77293587,  3.083043  ,  0.5579281 ,\n",
       "        0.22869682,  0.82181644,  1.4444485 ,  1.2327309 ,  2.2273254 ,\n",
       "        0.330225  ,  3.7707224 ,  0.43575096,  0.6655512 ,  1.0478611 ,\n",
       "        0.30140686,  1.896472  ,  0.71027946,  2.5655537 ,  0.4602995 ,\n",
       "        1.4443302 , 20.699846  ,  2.152135  ,  0.6435814 ,  2.1164722 ,\n",
       "        0.18476963,  0.4216776 ,  0.5605507 ,  0.6306133 ,  1.7774782 ,\n",
       "        0.18500137,  1.8345537 ,  1.1081963 ,  0.69869995,  0.7706938 ,\n",
       "        0.36132622,  0.7507343 ,  1.6786642 ,  1.4784584 ,  1.8067188 ,\n",
       "        0.97959614,  1.0228138 ,  0.3762703 ,  1.2080765 ,  0.99732494,\n",
       "        0.6340637 ,  1.9076681 ,  0.21814823,  1.3577166 ,  1.0699825 ,\n",
       "        1.2514515 ,  0.7959509 ,  0.20892906,  1.7141218 ,  0.0699482 ,\n",
       "        0.5657463 ,  1.9342804 ,  0.7694483 ,  1.7399502 ,  1.4493809 ,\n",
       "        0.8604851 ,  0.49267197,  3.3351908 ,  0.33294678,  2.1961966 ,\n",
       "        1.2414217 ,  1.0598145 ,  1.4460678 ,  0.8308735 ,  2.048954  ,\n",
       "        0.44484806,  0.45335674,  2.6631975 ,  0.6593342 ,  0.3684368 ,\n",
       "        3.1114597 ,  2.0016766 ,  1.4549799 ,  0.3212738 ,  1.074542  ,\n",
       "        0.2679186 ,  0.5940571 ,  1.037981  ,  3.1126242 ,  0.29491997,\n",
       "        0.8105984 ,  0.9493542 ,  0.5602484 ,  1.0763607 ,  1.4213467 ,\n",
       "        2.437419  ,  0.4743271 ,  1.0421429 ,  0.53688717,  1.2567396 ,\n",
       "        1.3113213 ,  0.76556015,  0.5134773 ,  0.5274782 ,  1.7223206 ,\n",
       "        1.0456581 ,  1.6769428 ,  1.372714  ,  0.15181923,  2.7394123 ,\n",
       "        3.2577715 ,  1.4613667 ,  0.25989056,  0.29662514,  2.4640274 ,\n",
       "        0.29676914,  1.0779533 ,  1.9858942 ,  1.5365696 ,  1.7043457 ,\n",
       "        0.30888557,  0.9649706 ,  0.25320816,  5.2329187 ,  0.6947098 ,\n",
       "        1.3241634 ,  2.8769398 ,  0.8897095 ,  2.0535202 ,  0.90903664,\n",
       "        2.4368172 ,  0.19243336,  0.8223791 ,  0.30472946,  0.4822092 ,\n",
       "        0.45879364,  0.9614725 ,  0.9965677 ,  1.0878162 ,  1.1616325 ,\n",
       "        0.13834572], dtype=float32), &#x27;mean_td_error&#x27;: 1.220942497253418, &#x27;model&#x27;: {}, &#x27;custom_metrics&#x27;: {}, &#x27;num_agent_steps_trained&#x27;: 256.0, &#x27;num_grad_updates_lifetime&#x27;: 3013.0, &#x27;diff_num_grad_updates_vs_sampler_policy&#x27;: 3012.0}}, &#x27;num_env_steps_sampled&#x27;: 19038, &#x27;num_env_steps_trained&#x27;: 771328, &#x27;num_agent_steps_sampled&#x27;: 19038, &#x27;num_agent_steps_trained&#x27;: 771328, &#x27;last_target_update_ts&#x27;: 19038, &#x27;num_target_updates&#x27;: 3013}       </td><td style=\"text-align: right;\">                        19</td><td>192.168.152.36</td><td style=\"text-align: right;\">                    19038</td><td style=\"text-align: right;\">                   771328</td><td style=\"text-align: right;\">                  19038</td><td style=\"text-align: right;\">                             1002</td><td style=\"text-align: right;\">                 771328</td><td style=\"text-align: right;\">                            85504</td><td style=\"text-align: right;\">                    0</td><td style=\"text-align: right;\">                    3</td><td style=\"text-align: right;\">                         0</td><td style=\"text-align: right;\">                           0</td><td style=\"text-align: right;\">                        85504</td><td>{&#x27;cpu_util_percent&#x27;: 46.8, &#x27;ram_util_percent&#x27;: 80.81625}</td><td style=\"text-align: right;\"> 8770</td><td>{}                 </td><td>{}                  </td><td>{}                 </td><td>{&#x27;mean_raw_obs_processing_ms&#x27;: 1.3236382406449168, &#x27;mean_inference_ms&#x27;: 2.3153769610507147, &#x27;mean_action_processing_ms&#x27;: 0.2232992425872684, &#x27;mean_env_wait_ms&#x27;: 0.27413021622578043, &#x27;mean_env_render_ms&#x27;: 0.0}</td><td>{&#x27;episode_reward_max&#x27;: -190.51257700856925, &#x27;episode_reward_min&#x27;: -334.0085722934719, &#x27;episode_reward_mean&#x27;: -259.55740757502326, &#x27;episode_len_mean&#x27;: 1000.0, &#x27;episode_media&#x27;: {}, &#x27;episodes_this_iter&#x27;: 0, &#x27;policy_reward_min&#x27;: {}, &#x27;policy_reward_max&#x27;: {}, &#x27;policy_reward_mean&#x27;: {}, &#x27;custom_metrics&#x27;: {}, &#x27;hist_stats&#x27;: {&#x27;episode_reward&#x27;: [-259.6053751951275, -190.51257700856925, -334.0085722934719, -307.29519873564004, -206.36531464230757], &#x27;episode_lengths&#x27;: [1000, 1000, 1000, 1000, 1000]}, &#x27;sampler_perf&#x27;: {&#x27;mean_raw_obs_processing_ms&#x27;: 1.3236382406449168, &#x27;mean_inference_ms&#x27;: 2.3153769610507147, &#x27;mean_action_processing_ms&#x27;: 0.2232992425872684, &#x27;mean_env_wait_ms&#x27;: 0.27413021622578043, &#x27;mean_env_render_ms&#x27;: 0.0}, &#x27;num_faulty_episodes&#x27;: 0}</td><td style=\"text-align: right;\">             519.932</td><td style=\"text-align: right;\">           57.6614</td><td style=\"text-align: right;\">       519.932</td><td>{&#x27;training_iteration_time_ms&#x27;: 158.002, &#x27;load_time_ms&#x27;: 0.297, &#x27;load_throughput&#x27;: 862166.231, &#x27;learn_time_ms&#x27;: 25.808, &#x27;learn_throughput&#x27;: 9919.35, &#x27;synch_weights_time_ms&#x27;: 5.692}</td><td style=\"text-align: right;\"> 1676023996</td><td style=\"text-align: right;\">                        0</td><td style=\"text-align: right;\">            19038</td><td style=\"text-align: right;\">                  19</td><td>4a7ee_00000</td><td style=\"text-align: right;\">      8.90337</td></tr>\n",
       "</tbody>\n",
       "</table>\n",
       "</div>\n",
       "<style>\n",
       ".trialProgress {\n",
       "  display: flex;\n",
       "  flex-direction: column;\n",
       "  color: var(--jp-ui-font-color1);\n",
       "}\n",
       ".trialProgress h3 {\n",
       "  font-weight: bold;\n",
       "}\n",
       ".trialProgress td {\n",
       "  white-space: nowrap;\n",
       "}\n",
       "</style>\n"
      ],
      "text/plain": [
       "<IPython.core.display.HTML object>"
      ]
     },
     "metadata": {},
     "output_type": "display_data"
    },
    {
     "name": "stderr",
     "output_type": "stream",
     "text": [
      "\u001b[2m\u001b[33m(raylet)\u001b[0m [2023-02-10 11:04:40,467 E 8512 8557] (raylet) file_system_monitor.cc:105: /tmp/ray/session_2023-02-10_11-04-18_300548_8410 is over 95% full, available space: 1219559424; capacity: 31845081088. Object creation will fail if spilling is required.\n",
      "\u001b[2m\u001b[33m(raylet)\u001b[0m [2023-02-10 11:04:50,473 E 8512 8557] (raylet) file_system_monitor.cc:105: /tmp/ray/session_2023-02-10_11-04-18_300548_8410 is over 95% full, available space: 1219481600; capacity: 31845081088. Object creation will fail if spilling is required.\n",
      "\u001b[2m\u001b[33m(raylet)\u001b[0m [2023-02-10 11:05:00,478 E 8512 8557] (raylet) file_system_monitor.cc:105: /tmp/ray/session_2023-02-10_11-04-18_300548_8410 is over 95% full, available space: 1219358720; capacity: 31845081088. Object creation will fail if spilling is required.\n",
      "\u001b[2m\u001b[36m(SAC pid=8770)\u001b[0m 2023-02-10 11:05:09,118\tWARNING deprecation.py:47 -- DeprecationWarning: `concat_samples` has been deprecated. Use `concat_samples() from rllib.policy.sample_batch` instead. This will raise an error in the future!\n",
      "\u001b[2m\u001b[33m(raylet)\u001b[0m [2023-02-10 11:05:10,487 E 8512 8557] (raylet) file_system_monitor.cc:105: /tmp/ray/session_2023-02-10_11-04-18_300548_8410 is over 95% full, available space: 1219256320; capacity: 31845081088. Object creation will fail if spilling is required.\n",
      "\u001b[2m\u001b[33m(raylet)\u001b[0m [2023-02-10 11:05:20,494 E 8512 8557] (raylet) file_system_monitor.cc:105: /tmp/ray/session_2023-02-10_11-04-18_300548_8410 is over 95% full, available space: 1219186688; capacity: 31845081088. Object creation will fail if spilling is required.\n",
      "\u001b[2m\u001b[33m(raylet)\u001b[0m [2023-02-10 11:05:30,499 E 8512 8557] (raylet) file_system_monitor.cc:105: /tmp/ray/session_2023-02-10_11-04-18_300548_8410 is over 95% full, available space: 1219153920; capacity: 31845081088. Object creation will fail if spilling is required.\n",
      "\u001b[2m\u001b[33m(raylet)\u001b[0m [2023-02-10 11:05:40,505 E 8512 8557] (raylet) file_system_monitor.cc:105: /tmp/ray/session_2023-02-10_11-04-18_300548_8410 is over 95% full, available space: 1219153920; capacity: 31845081088. Object creation will fail if spilling is required.\n",
      "\u001b[2m\u001b[33m(raylet)\u001b[0m [2023-02-10 11:05:50,510 E 8512 8557] (raylet) file_system_monitor.cc:105: /tmp/ray/session_2023-02-10_11-04-18_300548_8410 is over 95% full, available space: 1219149824; capacity: 31845081088. Object creation will fail if spilling is required.\n",
      "\u001b[2m\u001b[33m(raylet)\u001b[0m [2023-02-10 11:06:00,516 E 8512 8557] (raylet) file_system_monitor.cc:105: /tmp/ray/session_2023-02-10_11-04-18_300548_8410 is over 95% full, available space: 1219149824; capacity: 31845081088. Object creation will fail if spilling is required.\n",
      "\u001b[2m\u001b[33m(raylet)\u001b[0m [2023-02-10 11:06:10,521 E 8512 8557] (raylet) file_system_monitor.cc:105: /tmp/ray/session_2023-02-10_11-04-18_300548_8410 is over 95% full, available space: 1219092480; capacity: 31845081088. Object creation will fail if spilling is required.\n",
      "\u001b[2m\u001b[33m(raylet)\u001b[0m [2023-02-10 11:06:20,526 E 8512 8557] (raylet) file_system_monitor.cc:105: /tmp/ray/session_2023-02-10_11-04-18_300548_8410 is over 95% full, available space: 1219072000; capacity: 31845081088. Object creation will fail if spilling is required.\n",
      "\u001b[2m\u001b[33m(raylet)\u001b[0m [2023-02-10 11:06:30,532 E 8512 8557] (raylet) file_system_monitor.cc:105: /tmp/ray/session_2023-02-10_11-04-18_300548_8410 is over 95% full, available space: 1219067904; capacity: 31845081088. Object creation will fail if spilling is required.\n",
      "\u001b[2m\u001b[33m(raylet)\u001b[0m [2023-02-10 11:06:40,539 E 8512 8557] (raylet) file_system_monitor.cc:105: /tmp/ray/session_2023-02-10_11-04-18_300548_8410 is over 95% full, available space: 1219334144; capacity: 31845081088. Object creation will fail if spilling is required.\n",
      "\u001b[2m\u001b[33m(raylet)\u001b[0m [2023-02-10 11:06:50,545 E 8512 8557] (raylet) file_system_monitor.cc:105: /tmp/ray/session_2023-02-10_11-04-18_300548_8410 is over 95% full, available space: 1219313664; capacity: 31845081088. Object creation will fail if spilling is required.\n",
      "\u001b[2m\u001b[33m(raylet)\u001b[0m [2023-02-10 11:07:00,550 E 8512 8557] (raylet) file_system_monitor.cc:105: /tmp/ray/session_2023-02-10_11-04-18_300548_8410 is over 95% full, available space: 1219272704; capacity: 31845081088. Object creation will fail if spilling is required.\n",
      "\u001b[2m\u001b[33m(raylet)\u001b[0m [2023-02-10 11:07:10,558 E 8512 8557] (raylet) file_system_monitor.cc:105: /tmp/ray/session_2023-02-10_11-04-18_300548_8410 is over 95% full, available space: 1219260416; capacity: 31845081088. Object creation will fail if spilling is required.\n",
      "\u001b[2m\u001b[33m(raylet)\u001b[0m [2023-02-10 11:07:20,564 E 8512 8557] (raylet) file_system_monitor.cc:105: /tmp/ray/session_2023-02-10_11-04-18_300548_8410 is over 95% full, available space: 1219227648; capacity: 31845081088. Object creation will fail if spilling is required.\n",
      "\u001b[2m\u001b[33m(raylet)\u001b[0m [2023-02-10 11:07:30,569 E 8512 8557] (raylet) file_system_monitor.cc:105: /tmp/ray/session_2023-02-10_11-04-18_300548_8410 is over 95% full, available space: 1219215360; capacity: 31845081088. Object creation will fail if spilling is required.\n",
      "\u001b[2m\u001b[33m(raylet)\u001b[0m [2023-02-10 11:07:40,575 E 8512 8557] (raylet) file_system_monitor.cc:105: /tmp/ray/session_2023-02-10_11-04-18_300548_8410 is over 95% full, available space: 1219211264; capacity: 31845081088. Object creation will fail if spilling is required.\n",
      "\u001b[2m\u001b[33m(raylet)\u001b[0m [2023-02-10 11:07:50,581 E 8512 8557] (raylet) file_system_monitor.cc:105: /tmp/ray/session_2023-02-10_11-04-18_300548_8410 is over 95% full, available space: 1219203072; capacity: 31845081088. Object creation will fail if spilling is required.\n",
      "\u001b[2m\u001b[33m(raylet)\u001b[0m [2023-02-10 11:08:00,587 E 8512 8557] (raylet) file_system_monitor.cc:105: /tmp/ray/session_2023-02-10_11-04-18_300548_8410 is over 95% full, available space: 1219158016; capacity: 31845081088. Object creation will fail if spilling is required.\n",
      "\u001b[2m\u001b[33m(raylet)\u001b[0m [2023-02-10 11:08:10,592 E 8512 8557] (raylet) file_system_monitor.cc:105: /tmp/ray/session_2023-02-10_11-04-18_300548_8410 is over 95% full, available space: 1219158016; capacity: 31845081088. Object creation will fail if spilling is required.\n",
      "\u001b[2m\u001b[33m(raylet)\u001b[0m [2023-02-10 11:08:20,597 E 8512 8557] (raylet) file_system_monitor.cc:105: /tmp/ray/session_2023-02-10_11-04-18_300548_8410 is over 95% full, available space: 1219100672; capacity: 31845081088. Object creation will fail if spilling is required.\n",
      "\u001b[2m\u001b[33m(raylet)\u001b[0m [2023-02-10 11:08:30,603 E 8512 8557] (raylet) file_system_monitor.cc:105: /tmp/ray/session_2023-02-10_11-04-18_300548_8410 is over 95% full, available space: 1219072000; capacity: 31845081088. Object creation will fail if spilling is required.\n",
      "\u001b[2m\u001b[33m(raylet)\u001b[0m [2023-02-10 11:08:40,609 E 8512 8557] (raylet) file_system_monitor.cc:105: /tmp/ray/session_2023-02-10_11-04-18_300548_8410 is over 95% full, available space: 1219072000; capacity: 31845081088. Object creation will fail if spilling is required.\n",
      "\u001b[2m\u001b[33m(raylet)\u001b[0m [2023-02-10 11:08:50,614 E 8512 8557] (raylet) file_system_monitor.cc:105: /tmp/ray/session_2023-02-10_11-04-18_300548_8410 is over 95% full, available space: 1219026944; capacity: 31845081088. Object creation will fail if spilling is required.\n",
      "\u001b[2m\u001b[33m(raylet)\u001b[0m [2023-02-10 11:09:00,620 E 8512 8557] (raylet) file_system_monitor.cc:105: /tmp/ray/session_2023-02-10_11-04-18_300548_8410 is over 95% full, available space: 1219022848; capacity: 31845081088. Object creation will fail if spilling is required.\n",
      "\u001b[2m\u001b[33m(raylet)\u001b[0m [2023-02-10 11:09:10,626 E 8512 8557] (raylet) file_system_monitor.cc:105: /tmp/ray/session_2023-02-10_11-04-18_300548_8410 is over 95% full, available space: 1219022848; capacity: 31845081088. Object creation will fail if spilling is required.\n",
      "\u001b[2m\u001b[33m(raylet)\u001b[0m [2023-02-10 11:09:20,631 E 8512 8557] (raylet) file_system_monitor.cc:105: /tmp/ray/session_2023-02-10_11-04-18_300548_8410 is over 95% full, available space: 1218990080; capacity: 31845081088. Object creation will fail if spilling is required.\n",
      "\u001b[2m\u001b[33m(raylet)\u001b[0m [2023-02-10 11:09:30,637 E 8512 8557] (raylet) file_system_monitor.cc:105: /tmp/ray/session_2023-02-10_11-04-18_300548_8410 is over 95% full, available space: 1218985984; capacity: 31845081088. Object creation will fail if spilling is required.\n",
      "\u001b[2m\u001b[33m(raylet)\u001b[0m [2023-02-10 11:09:40,643 E 8512 8557] (raylet) file_system_monitor.cc:105: /tmp/ray/session_2023-02-10_11-04-18_300548_8410 is over 95% full, available space: 1218949120; capacity: 31845081088. Object creation will fail if spilling is required.\n",
      "\u001b[2m\u001b[33m(raylet)\u001b[0m [2023-02-10 11:09:50,649 E 8512 8557] (raylet) file_system_monitor.cc:105: /tmp/ray/session_2023-02-10_11-04-18_300548_8410 is over 95% full, available space: 1218945024; capacity: 31845081088. Object creation will fail if spilling is required.\n",
      "\u001b[2m\u001b[33m(raylet)\u001b[0m [2023-02-10 11:10:00,654 E 8512 8557] (raylet) file_system_monitor.cc:105: /tmp/ray/session_2023-02-10_11-04-18_300548_8410 is over 95% full, available space: 1218920448; capacity: 31845081088. Object creation will fail if spilling is required.\n",
      "\u001b[2m\u001b[33m(raylet)\u001b[0m [2023-02-10 11:10:10,660 E 8512 8557] (raylet) file_system_monitor.cc:105: /tmp/ray/session_2023-02-10_11-04-18_300548_8410 is over 95% full, available space: 1218920448; capacity: 31845081088. Object creation will fail if spilling is required.\n",
      "\u001b[2m\u001b[33m(raylet)\u001b[0m [2023-02-10 11:10:20,665 E 8512 8557] (raylet) file_system_monitor.cc:105: /tmp/ray/session_2023-02-10_11-04-18_300548_8410 is over 95% full, available space: 1218887680; capacity: 31845081088. Object creation will fail if spilling is required.\n",
      "\u001b[2m\u001b[33m(raylet)\u001b[0m [2023-02-10 11:10:30,673 E 8512 8557] (raylet) file_system_monitor.cc:105: /tmp/ray/session_2023-02-10_11-04-18_300548_8410 is over 95% full, available space: 1218883584; capacity: 31845081088. Object creation will fail if spilling is required.\n",
      "\u001b[2m\u001b[33m(raylet)\u001b[0m [2023-02-10 11:10:40,679 E 8512 8557] (raylet) file_system_monitor.cc:105: /tmp/ray/session_2023-02-10_11-04-18_300548_8410 is over 95% full, available space: 1218842624; capacity: 31845081088. Object creation will fail if spilling is required.\n",
      "\u001b[2m\u001b[33m(raylet)\u001b[0m [2023-02-10 11:10:50,684 E 8512 8557] (raylet) file_system_monitor.cc:105: /tmp/ray/session_2023-02-10_11-04-18_300548_8410 is over 95% full, available space: 1218834432; capacity: 31845081088. Object creation will fail if spilling is required.\n",
      "\u001b[2m\u001b[33m(raylet)\u001b[0m [2023-02-10 11:11:00,689 E 8512 8557] (raylet) file_system_monitor.cc:105: /tmp/ray/session_2023-02-10_11-04-18_300548_8410 is over 95% full, available space: 1218822144; capacity: 31845081088. Object creation will fail if spilling is required.\n",
      "\u001b[2m\u001b[33m(raylet)\u001b[0m [2023-02-10 11:11:10,695 E 8512 8557] (raylet) file_system_monitor.cc:105: /tmp/ray/session_2023-02-10_11-04-18_300548_8410 is over 95% full, available space: 1218818048; capacity: 31845081088. Object creation will fail if spilling is required.\n",
      "\u001b[2m\u001b[33m(raylet)\u001b[0m [2023-02-10 11:11:20,703 E 8512 8557] (raylet) file_system_monitor.cc:105: /tmp/ray/session_2023-02-10_11-04-18_300548_8410 is over 95% full, available space: 1218789376; capacity: 31845081088. Object creation will fail if spilling is required.\n",
      "\u001b[2m\u001b[33m(raylet)\u001b[0m [2023-02-10 11:11:30,709 E 8512 8557] (raylet) file_system_monitor.cc:105: /tmp/ray/session_2023-02-10_11-04-18_300548_8410 is over 95% full, available space: 1218719744; capacity: 31845081088. Object creation will fail if spilling is required.\n",
      "\u001b[2m\u001b[33m(raylet)\u001b[0m [2023-02-10 11:11:40,715 E 8512 8557] (raylet) file_system_monitor.cc:105: /tmp/ray/session_2023-02-10_11-04-18_300548_8410 is over 95% full, available space: 1218719744; capacity: 31845081088. Object creation will fail if spilling is required.\n",
      "\u001b[2m\u001b[33m(raylet)\u001b[0m [2023-02-10 11:11:50,721 E 8512 8557] (raylet) file_system_monitor.cc:105: /tmp/ray/session_2023-02-10_11-04-18_300548_8410 is over 95% full, available space: 1218719744; capacity: 31845081088. Object creation will fail if spilling is required.\n",
      "\u001b[2m\u001b[33m(raylet)\u001b[0m [2023-02-10 11:12:00,728 E 8512 8557] (raylet) file_system_monitor.cc:105: /tmp/ray/session_2023-02-10_11-04-18_300548_8410 is over 95% full, available space: 1218711552; capacity: 31845081088. Object creation will fail if spilling is required.\n",
      "\u001b[2m\u001b[33m(raylet)\u001b[0m [2023-02-10 11:12:10,733 E 8512 8557] (raylet) file_system_monitor.cc:105: /tmp/ray/session_2023-02-10_11-04-18_300548_8410 is over 95% full, available space: 1218707456; capacity: 31845081088. Object creation will fail if spilling is required.\n",
      "\u001b[2m\u001b[33m(raylet)\u001b[0m [2023-02-10 11:12:20,738 E 8512 8557] (raylet) file_system_monitor.cc:105: /tmp/ray/session_2023-02-10_11-04-18_300548_8410 is over 95% full, available space: 1218637824; capacity: 31845081088. Object creation will fail if spilling is required.\n",
      "\u001b[2m\u001b[33m(raylet)\u001b[0m [2023-02-10 11:12:30,745 E 8512 8557] (raylet) file_system_monitor.cc:105: /tmp/ray/session_2023-02-10_11-04-18_300548_8410 is over 95% full, available space: 1218637824; capacity: 31845081088. Object creation will fail if spilling is required.\n",
      "\u001b[2m\u001b[33m(raylet)\u001b[0m [2023-02-10 11:12:40,751 E 8512 8557] (raylet) file_system_monitor.cc:105: /tmp/ray/session_2023-02-10_11-04-18_300548_8410 is over 95% full, available space: 1218596864; capacity: 31845081088. Object creation will fail if spilling is required.\n",
      "\u001b[2m\u001b[33m(raylet)\u001b[0m [2023-02-10 11:12:50,756 E 8512 8557] (raylet) file_system_monitor.cc:105: /tmp/ray/session_2023-02-10_11-04-18_300548_8410 is over 95% full, available space: 1218572288; capacity: 31845081088. Object creation will fail if spilling is required.\n",
      "\u001b[2m\u001b[33m(raylet)\u001b[0m [2023-02-10 11:13:00,764 E 8512 8557] (raylet) file_system_monitor.cc:105: /tmp/ray/session_2023-02-10_11-04-18_300548_8410 is over 95% full, available space: 1218576384; capacity: 31845081088. Object creation will fail if spilling is required.\n",
      "\u001b[2m\u001b[33m(raylet)\u001b[0m [2023-02-10 11:13:10,769 E 8512 8557] (raylet) file_system_monitor.cc:105: /tmp/ray/session_2023-02-10_11-04-18_300548_8410 is over 95% full, available space: 1218420736; capacity: 31845081088. Object creation will fail if spilling is required.\n",
      "\u001b[2m\u001b[33m(raylet)\u001b[0m [2023-02-10 11:13:20,775 E 8512 8557] (raylet) file_system_monitor.cc:105: /tmp/ray/session_2023-02-10_11-04-18_300548_8410 is over 95% full, available space: 1218363392; capacity: 31845081088. Object creation will fail if spilling is required.\n",
      "\u001b[2m\u001b[33m(raylet)\u001b[0m [2023-02-10 11:13:30,780 E 8512 8557] (raylet) file_system_monitor.cc:105: /tmp/ray/session_2023-02-10_11-04-18_300548_8410 is over 95% full, available space: 1218338816; capacity: 31845081088. Object creation will fail if spilling is required.\n",
      "\u001b[2m\u001b[33m(raylet)\u001b[0m [2023-02-10 11:13:40,786 E 8512 8557] (raylet) file_system_monitor.cc:105: /tmp/ray/session_2023-02-10_11-04-18_300548_8410 is over 95% full, available space: 1218379776; capacity: 31845081088. Object creation will fail if spilling is required.\n",
      "2023-02-10 11:13:47,344\tWARNING tune.py:690 -- Stop signal received (e.g. via SIGINT/Ctrl+C), ending Ray Tune run. This will try to checkpoint the experiment state one last time. Press CTRL+C (or send SIGINT/SIGKILL/SIGTERM) to skip. \n",
      "2023-02-10 11:13:48,169\tWARNING tune.py:690 -- Stop signal received (e.g. via SIGINT/Ctrl+C), ending Ray Tune run. This will try to checkpoint the experiment state one last time. Press CTRL+C (or send SIGINT/SIGKILL/SIGTERM) to skip. \n",
      "\u001b[2m\u001b[33m(raylet)\u001b[0m [2023-02-10 11:13:50,795 E 8512 8557] (raylet) file_system_monitor.cc:105: /tmp/ray/session_2023-02-10_11-04-18_300548_8410 is over 95% full, available space: 1218416640; capacity: 31845081088. Object creation will fail if spilling is required.\n",
      "2023-02-10 11:13:51,392\tERROR tune.py:758 -- Trials did not complete: [SAC_HalfCheetah-v3_4a7ee_00000]\n",
      "2023-02-10 11:13:51,395\tINFO tune.py:762 -- Total run time: 569.37 seconds (568.94 seconds for the tuning loop).\n",
      "2023-02-10 11:13:51,398\tWARNING tune.py:768 -- Experiment has been interrupted, but the most recent state was saved. You can continue running this experiment by passing `resume=True` to `tune.run()`\n",
      "Process _WandbLoggingProcess-1:\n",
      "Traceback (most recent call last):\n",
      "  File \"/home/daniel/miniconda3/lib/python3.8/multiprocessing/process.py\", line 315, in _bootstrap\n",
      "    self.run()\n",
      "  File \"/home/daniel/miniconda3/lib/python3.8/site-packages/ray/air/integrations/wandb.py\", line 322, in run\n",
      "    item_type, item_content = self.queue.get()\n",
      "  File \"/home/daniel/miniconda3/lib/python3.8/multiprocessing/queues.py\", line 97, in get\n",
      "    res = self._recv_bytes()\n",
      "  File \"/home/daniel/miniconda3/lib/python3.8/multiprocessing/connection.py\", line 216, in recv_bytes\n",
      "    buf = self._recv_bytes(maxlength)\n",
      "  File \"/home/daniel/miniconda3/lib/python3.8/multiprocessing/connection.py\", line 414, in _recv_bytes\n",
      "    buf = self._recv(4)\n",
      "  File \"/home/daniel/miniconda3/lib/python3.8/multiprocessing/connection.py\", line 379, in _recv\n",
      "    chunk = read(handle, remaining)\n",
      "KeyboardInterrupt\n"
     ]
    }
   ],
   "source": [
    "tuner = tune.Tuner(\n",
    "    \"SAC\",\n",
    "    run_config=air.RunConfig(\n",
    "        name=\"HalfCheetah_local\",\n",
    "        stop={\"training_iteration\": 3_000, \"episode_reward_mean\": 150},\n",
    "        checkpoint_config=air.CheckpointConfig(checkpoint_at_end=True),\n",
    "        callbacks=[\n",
    "                WandbLoggerCallback(project=\"HalfCheetah\", \n",
    "                                    api_key=\"392c8a47eb0658eb5c71190757a69110e2140f4a\"\n",
    "                                    save_checkpoints=True, \n",
    "                                    **wandb_init)\n",
    "            ],\n",
    "        local_dir=\"./results\"\n",
    "        ),\n",
    "    param_space=config\n",
    ")\n",
    "\n",
    "results = tuner.fit()"
   ]
  }
 ],
 "metadata": {
  "kernelspec": {
   "display_name": "Python 3",
   "language": "python",
   "name": "python3"
  },
  "language_info": {
   "codemirror_mode": {
    "name": "ipython",
    "version": 3
   },
   "file_extension": ".py",
   "mimetype": "text/x-python",
   "name": "python",
   "nbconvert_exporter": "python",
   "pygments_lexer": "ipython3",
   "version": "3.8.12"
  }
 },
 "nbformat": 4,
 "nbformat_minor": 5
}
