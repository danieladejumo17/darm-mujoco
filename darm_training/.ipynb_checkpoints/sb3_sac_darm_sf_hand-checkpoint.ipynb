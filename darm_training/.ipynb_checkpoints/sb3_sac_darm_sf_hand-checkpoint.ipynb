{
 "cells": [
  {
   "cell_type": "code",
   "execution_count": 1,
   "id": "e4bd79bb-1862-4f19-b3e8-a8d827be6faa",
   "metadata": {},
   "outputs": [
    {
     "name": "stdout",
     "output_type": "stream",
     "text": [
      "/home/daniel/DARM/darm_mujoco/darm_training\n"
     ]
    }
   ],
   "source": [
    "!pwd"
   ]
  },
  {
   "cell_type": "code",
   "execution_count": 2,
   "id": "882904ff-0340-4a30-9315-5fb187698370",
   "metadata": {},
   "outputs": [
    {
     "data": {
      "text/plain": [
       "'/home/daniel/DARM/darm_mujoco'"
      ]
     },
     "execution_count": 2,
     "metadata": {},
     "output_type": "execute_result"
    }
   ],
   "source": [
    "import os\n",
    "os.environ[\"DARM_MUJOCO_PATH\"] = \"/home/daniel/DARM/darm_mujoco\"\n",
    "os.getenv('DARM_MUJOCO_PATH')"
   ]
  },
  {
   "cell_type": "code",
   "execution_count": 3,
   "id": "8a6733be-66a7-4aa7-81b5-b1b28b0a0efd",
   "metadata": {},
   "outputs": [
    {
     "name": "stdout",
     "output_type": "stream",
     "text": [
      "gcc (Ubuntu 7.5.0-3ubuntu1~18.04) 7.5.0\n",
      "Copyright (C) 2017 Free Software Foundation, Inc.\n",
      "This is free software; see the source for copying conditions.  There is NO\n",
      "warranty; not even for MERCHANTABILITY or FITNESS FOR A PARTICULAR PURPOSE.\n",
      "\n"
     ]
    }
   ],
   "source": [
    "# Check if GCC is installed\n",
    "!gcc --version"
   ]
  },
  {
   "cell_type": "code",
   "execution_count": null,
   "id": "9ed9d52a-a921-4b43-ab04-dd0701fb5a5a",
   "metadata": {},
   "outputs": [],
   "source": [
    "# Install GCC if absent\n",
    "!sudo apt update\n",
    "!sudo apt install build-essential -y"
   ]
  },
  {
   "cell_type": "code",
   "execution_count": null,
   "id": "3c027ec5-151e-4986-a444-2107e98fb741",
   "metadata": {},
   "outputs": [],
   "source": [
    "!python setup.py install"
   ]
  },
  {
   "cell_type": "code",
   "execution_count": null,
   "id": "9e8b1cb4-49d2-416d-b23b-004c54cefbf1",
   "metadata": {},
   "outputs": [],
   "source": [
    "# Check if mujoco import is successful\n",
    "import mujoco"
   ]
  },
  {
   "cell_type": "code",
   "execution_count": null,
   "id": "32a51788-02c3-4cac-a869-8f62b25d5bc6",
   "metadata": {},
   "outputs": [],
   "source": [
    "# If mujoco import fails, update pandas and restart runtime\n",
    "!pip install pandas -U"
   ]
  },
  {
   "cell_type": "code",
   "execution_count": null,
   "id": "3047544b-c26e-4ef2-8b41-4b7fe8ae79d0",
   "metadata": {},
   "outputs": [],
   "source": [
    "# If GLFW is missing\n",
    "%%bash\n",
    "sudo apt-get install libglfw3 -y\n",
    "sudo apt-get install libglfw3-dev -y\n",
    "pip install --user glfw"
   ]
  },
  {
   "cell_type": "code",
   "execution_count": null,
   "id": "c3a012c8-fe11-44e5-ada6-5c7b50405c71",
   "metadata": {},
   "outputs": [],
   "source": [
    "!pip install stable-baselines3[extra]\n",
    "!pip install wandb"
   ]
  },
  {
   "cell_type": "code",
   "execution_count": 4,
   "id": "ea66991b-3d7c-4e2e-8133-c5f358fa797e",
   "metadata": {},
   "outputs": [],
   "source": [
    "import gym\n",
    "from darm_gym_env import DARMSFEnv\n",
    "from stable_baselines3 import SAC\n",
    "from stable_baselines3.common.vec_env.subproc_vec_env import SubprocVecEnv\n",
    "from stable_baselines3.common.vec_env.vec_monitor import VecMonitor\n",
    "from stable_baselines3.common.vec_env.vec_normalize import VecNormalize\n",
    "from stable_baselines3.common.vec_env.dummy_vec_env import DummyVecEnv\n",
    "from stable_baselines3.common.env_util import make_vec_env\n",
    "\n",
    "import wandb\n",
    "from wandb.integration.sb3 import WandbCallback\n",
    "from stable_baselines3.common.callbacks import CallbackList, EvalCallback, StopTrainingOnRewardThreshold, StopTrainingOnNoModelImprovement\n",
    "\n",
    "\n",
    "from datetime import datetime"
   ]
  },
  {
   "cell_type": "code",
   "execution_count": 35,
   "id": "2d7b4bbe-9994-4dc5-b212-c0f5d6ca25b2",
   "metadata": {},
   "outputs": [],
   "source": [
    "config = {\n",
    "    \"env_id\": \"darm/DarmSFHand-v0\",\n",
    "    \"algo\": \"SAC\",\n",
    "    \"rl_lib\": \"SB3\",\n",
    "    \n",
    "    \"seed\": 0,\n",
    "    \"mean_reward_thresh\": 1_300,\n",
    "    \"total_timesteps\": 10_000_000,\n",
    "    \"pi_net_arch\": [32, 256, 256, 64],\n",
    "    \"qf_net_arch\": [32, 256, 256, 64],\n",
    "    \"learning_starts\": 40_000,\n",
    "    \"num_cpu\": 6,\n",
    "    \n",
    "    \"eval_freq\": 2_000, # 5_000\n",
    "    \"max_no_improvement_evals\": 10,\n",
    "    \"no_improvement_min_evals\": 20,\n",
    "    \n",
    "    \"log_interval\": 20, # episodes\n",
    "    \"wandb_model_save_freq\": 2_000 #5_000 timesteps?\n",
    "}"
   ]
  },
  {
   "cell_type": "code",
   "execution_count": 5,
   "id": "c6bdd726-0edc-4e6b-8c4b-b679c56ce71f",
   "metadata": {},
   "outputs": [
    {
     "name": "stderr",
     "output_type": "stream",
     "text": [
      "\u001b[34m\u001b[1mwandb\u001b[0m: Currently logged in as: \u001b[33mdanieladejumo\u001b[0m. Use \u001b[1m`wandb login --relogin`\u001b[0m to force relogin\n"
     ]
    },
    {
     "data": {
      "text/html": [
       "Tracking run with wandb version 0.13.10"
      ],
      "text/plain": [
       "<IPython.core.display.HTML object>"
      ]
     },
     "metadata": {},
     "output_type": "display_data"
    },
    {
     "data": {
      "text/html": [
       "Run data is saved locally in <code>/home/daniel/DARM/darm_mujoco/darm_training/wandb/run-20230221_162741-fwqpzibt</code>"
      ],
      "text/plain": [
       "<IPython.core.display.HTML object>"
      ]
     },
     "metadata": {},
     "output_type": "display_data"
    },
    {
     "data": {
      "text/html": [
       "Syncing run <strong><a href='https://wandb.ai/danieladejumo/DARM/runs/fwqpzibt' target=\"_blank\">test4_SF_SB3_SAC</a></strong> to <a href='https://wandb.ai/danieladejumo/DARM' target=\"_blank\">Weights & Biases</a> (<a href='https://wandb.me/run' target=\"_blank\">docs</a>)<br/>"
      ],
      "text/plain": [
       "<IPython.core.display.HTML object>"
      ]
     },
     "metadata": {},
     "output_type": "display_data"
    },
    {
     "data": {
      "text/html": [
       " View project at <a href='https://wandb.ai/danieladejumo/DARM' target=\"_blank\">https://wandb.ai/danieladejumo/DARM</a>"
      ],
      "text/plain": [
       "<IPython.core.display.HTML object>"
      ]
     },
     "metadata": {},
     "output_type": "display_data"
    },
    {
     "data": {
      "text/html": [
       " View run at <a href='https://wandb.ai/danieladejumo/DARM/runs/fwqpzibt' target=\"_blank\">https://wandb.ai/danieladejumo/DARM/runs/fwqpzibt</a>"
      ],
      "text/plain": [
       "<IPython.core.display.HTML object>"
      ]
     },
     "metadata": {},
     "output_type": "display_data"
    }
   ],
   "source": [
    "run_name = \"test1_SF_SB3_SAC_1\"\n",
    "\n",
    "notes = \"\"\"\n",
    "- The environment was updated such that the target is within a range from the start point\n",
    "- Velocity penalty was removed and only effort penalty was used\n",
    "- The reward function was updated according to the reach task reward used in facebookresearch/myosuite [https://github.com/facebookresearch/myosuite/blob/main/myosuite/envs/myo/reach_v0.py]\n",
    "- The done signal is trigerred only when the fingertip goes beyond a threshold. The episode continues to the maximum timestep otherwise.\n",
    "- The friction and damping coefficient of the environment is updated. Values are inspired from Deepmind's Mujoco Menagerie [https://github.com/deepmind/mujoco_menagerie/blob/main/shadow_hand/right_hand.xml]\n",
    "- The range of action from the model was changed to [-1, 1]. This action is mapped to the actual action sent to mujoco e.g [0, 2]]. This change is inspired from values used in OpenAI's Gym Mujoco environments.\n",
    "- max_episode_steps was updated to 200.\n",
    "- Velocity vector (size [3,]) was added to observation. Observation size is now (9,)\n",
    "- Action range was increased to [0, 5]\n",
    "\n",
    "- This run was trained on vast_ai using SB3's SAC algo.\n",
    "\"\"\"\n",
    "\n",
    "tags = [\"single_finger\", \"sac\", \"sb3\", \"vast_ai\"]\n",
    "\n",
    "run = wandb.init(\n",
    "    project=\"DARM\",\n",
    "    name=run_name,\n",
    "    tags=tags,\n",
    "    notes=notes,\n",
    "    config=config,\n",
    "    sync_tensorboard=True,  # auto-upload sb3's tensorboard metrics\n",
    "    # monitor_gym=True,  # auto-upload the videos of agents playing the game\n",
    "    save_code=True,  # optional\n",
    ")"
   ]
  },
  {
   "cell_type": "code",
   "execution_count": 6,
   "id": "87846de9-eca5-498d-a18d-c41b9363b5ab",
   "metadata": {
    "tags": []
   },
   "outputs": [
    {
     "name": "stdout",
     "output_type": "stream",
     "text": [
      "Loaded XML file successfully\n"
     ]
    },
    {
     "name": "stderr",
     "output_type": "stream",
     "text": [
      "/home/daniel/miniconda3/lib/python3.8/site-packages/gym/spaces/box.py:73: UserWarning: \u001b[33mWARN: Box bound precision lowered by casting to float32\u001b[0m\n",
      "  logger.warn(\n"
     ]
    },
    {
     "name": "stdout",
     "output_type": "stream",
     "text": [
      "Loaded XML file successfully\n",
      "Loaded XML file successfully\n",
      "Loaded XML file successfully\n",
      "Using cpu device\n"
     ]
    }
   ],
   "source": [
    "NUM_CPU = config[\"num_cpu\"]\n",
    "\n",
    "env = make_vec_env(config[\"env_id\"], n_envs=NUM_CPU, seed=config[\"seed\"])\n",
    "# env = VecNormalize(env)   #FIXME: Remember to save norm params if using VecNorm env\n",
    "# env = VecMonitor(env)\n",
    "\n",
    "policy_kwargs = dict(net_arch=dict(pi=config[\"pi_net_arch\"], qf=config[\"qf_net_arch\"]))\n",
    "\n",
    "model = SAC(\"MlpPolicy\", env, verbose=1,\n",
    "            learning_starts=config[\"learning_starts\"],\n",
    "            gradient_steps=NUM_CPU, # num of envs\n",
    "            policy_kwargs=policy_kwargs,\n",
    "            tensorboard_log=\"./results/darm_sf_hand\")"
   ]
  },
  {
   "cell_type": "code",
   "execution_count": 7,
   "id": "665027f7-6606-4178-9ddb-614d3c1c4706",
   "metadata": {},
   "outputs": [
    {
     "name": "stdout",
     "output_type": "stream",
     "text": [
      "Loaded XML file successfully\n"
     ]
    },
    {
     "data": {
      "text/plain": [
       "<stable_baselines3.common.callbacks.CallbackList at 0x7f4920e50fa0>"
      ]
     },
     "execution_count": 7,
     "metadata": {},
     "output_type": "execute_result"
    }
   ],
   "source": [
    "eval_env = make_vec_env(config[\"env_id\"], n_envs=1, seed=config[\"seed\"])\n",
    "\n",
    "# Stop training when the model reaches the reward threshold\n",
    "reward_thresh_callback = StopTrainingOnRewardThreshold(reward_threshold=config[\"mean_reward_thresh\"], verbose=1)\n",
    "\n",
    "# Stop training if there is no improvement after more than N evaluations\n",
    "stop_train_callback = StopTrainingOnNoModelImprovement(\n",
    "    max_no_improvement_evals=config[\"max_no_improvement_evals\"], \n",
    "    min_evals=config[\"no_improvement_min_evals\"], \n",
    "    verbose=1)\n",
    "\n",
    "eval_callback = EvalCallback(eval_env, \n",
    "                             best_model_save_path=f\"./results/darm_sf_hand/{run_name}/models/best\",\n",
    "                             log_path=f\"./results/darm_sf_hand/{run_name}/models/best/logs\", \n",
    "                             eval_freq=config[\"eval_freq\"],\n",
    "                             callback_on_new_best=reward_thresh_callback,\n",
    "                             # callback_after_eval=stop_train_callback,\n",
    "                             deterministic=True, render=False, verbose=1)\n",
    "\n",
    "wandb_callback=WandbCallback(model_save_path=f\"./results/darm_sf_hand/{run_name}/models\",\n",
    "                             model_save_freq=config[\"wandb_model_save_freq\"],\n",
    "                             verbose=2)\n",
    "\n",
    "# Create the callback list\n",
    "callback = CallbackList([wandb_callback, eval_callback])\n",
    "callback"
   ]
  },
  {
   "cell_type": "code",
   "execution_count": 8,
   "id": "2866ed92-c5e1-4179-a261-0378da2b421f",
   "metadata": {
    "collapsed": true,
    "jupyter": {
     "outputs_hidden": true
    },
    "tags": []
   },
   "outputs": [
    {
     "name": "stdout",
     "output_type": "stream",
     "text": [
      "Logging to ./results/darm_sf_hand/test4_SF_SB3_SAC_1\n"
     ]
    },
    {
     "name": "stderr",
     "output_type": "stream",
     "text": [
      "/home/daniel/miniconda3/lib/python3.8/site-packages/numpy/core/fromnumeric.py:86: VisibleDeprecationWarning: Creating an ndarray from ragged nested sequences (which is a list-or-tuple of lists-or-tuples-or ndarrays with different lengths or shapes) is deprecated. If you meant to do this, you must specify 'dtype=object' when creating the ndarray.\n",
      "  return ufunc.reduce(obj, axis, dtype, out, **passkwargs)\n"
     ]
    },
    {
     "name": "stdout",
     "output_type": "stream",
     "text": [
      "---------------------------------\n",
      "| rollout/           |          |\n",
      "|    ep_len_mean     | 91.5     |\n",
      "|    ep_rew_mean     | -32.1    |\n",
      "| time/              |          |\n",
      "|    episodes        | 20       |\n",
      "|    fps             | 500      |\n",
      "|    time_elapsed    | 3        |\n",
      "|    total_timesteps | 1968     |\n",
      "---------------------------------\n",
      "---------------------------------\n",
      "| rollout/           |          |\n",
      "|    ep_len_mean     | 92.2     |\n",
      "|    ep_rew_mean     | -27.9    |\n",
      "| time/              |          |\n",
      "|    episodes        | 40       |\n",
      "|    fps             | 502      |\n",
      "|    time_elapsed    | 8        |\n",
      "|    total_timesteps | 4020     |\n",
      "---------------------------------\n",
      "---------------------------------\n",
      "| rollout/           |          |\n",
      "|    ep_len_mean     | 85.2     |\n",
      "|    ep_rew_mean     | -30.4    |\n",
      "| time/              |          |\n",
      "|    episodes        | 60       |\n",
      "|    fps             | 509      |\n",
      "|    time_elapsed    | 10       |\n",
      "|    total_timesteps | 5384     |\n",
      "---------------------------------\n",
      "Eval num_timesteps=8000, episode_reward=-50.95 +/- 3.88\n",
      "Episode length: 17.00 +/- 5.33\n",
      "---------------------------------\n",
      "| eval/              |          |\n",
      "|    mean_ep_length  | 17       |\n",
      "|    mean_reward     | -50.9    |\n",
      "| time/              |          |\n",
      "|    total_timesteps | 8000     |\n",
      "---------------------------------\n",
      "New best mean reward!\n",
      "---------------------------------\n",
      "| rollout/           |          |\n",
      "|    ep_len_mean     | 99.8     |\n",
      "|    ep_rew_mean     | -31.9    |\n",
      "| time/              |          |\n",
      "|    episodes        | 80       |\n",
      "|    fps             | 488      |\n",
      "|    time_elapsed    | 16       |\n",
      "|    total_timesteps | 8228     |\n",
      "---------------------------------\n",
      "---------------------------------\n",
      "| rollout/           |          |\n",
      "|    ep_len_mean     | 99.7     |\n",
      "|    ep_rew_mean     | -35      |\n",
      "| time/              |          |\n",
      "|    episodes        | 100      |\n",
      "|    fps             | 495      |\n",
      "|    time_elapsed    | 20       |\n",
      "|    total_timesteps | 10092    |\n",
      "---------------------------------\n",
      "---------------------------------\n",
      "| rollout/           |          |\n",
      "|    ep_len_mean     | 95.4     |\n",
      "|    ep_rew_mean     | -38.3    |\n",
      "| time/              |          |\n",
      "|    episodes        | 120      |\n",
      "|    fps             | 499      |\n",
      "|    time_elapsed    | 23       |\n",
      "|    total_timesteps | 11580    |\n",
      "---------------------------------\n",
      "---------------------------------\n",
      "| rollout/           |          |\n",
      "|    ep_len_mean     | 92.5     |\n",
      "|    ep_rew_mean     | -42.4    |\n",
      "| time/              |          |\n",
      "|    episodes        | 140      |\n",
      "|    fps             | 503      |\n",
      "|    time_elapsed    | 26       |\n",
      "|    total_timesteps | 13224    |\n",
      "---------------------------------\n",
      "---------------------------------\n",
      "| rollout/           |          |\n",
      "|    ep_len_mean     | 98.3     |\n",
      "|    ep_rew_mean     | -44      |\n",
      "| time/              |          |\n",
      "|    episodes        | 160      |\n",
      "|    fps             | 494      |\n",
      "|    time_elapsed    | 30       |\n",
      "|    total_timesteps | 15104    |\n",
      "---------------------------------\n",
      "Eval num_timesteps=16000, episode_reward=-41.16 +/- 10.08\n",
      "Episode length: 127.00 +/- 89.41\n",
      "---------------------------------\n",
      "| eval/              |          |\n",
      "|    mean_ep_length  | 127      |\n",
      "|    mean_reward     | -41.2    |\n",
      "| time/              |          |\n",
      "|    total_timesteps | 16000    |\n",
      "---------------------------------\n",
      "New best mean reward!\n",
      "---------------------------------\n",
      "| rollout/           |          |\n",
      "|    ep_len_mean     | 90       |\n",
      "|    ep_rew_mean     | -44.4    |\n",
      "| time/              |          |\n",
      "|    episodes        | 180      |\n",
      "|    fps             | 455      |\n",
      "|    time_elapsed    | 37       |\n",
      "|    total_timesteps | 17172    |\n",
      "---------------------------------\n",
      "---------------------------------\n",
      "| rollout/           |          |\n",
      "|    ep_len_mean     | 88.2     |\n",
      "|    ep_rew_mean     | -44.1    |\n",
      "| time/              |          |\n",
      "|    episodes        | 200      |\n",
      "|    fps             | 454      |\n",
      "|    time_elapsed    | 41       |\n",
      "|    total_timesteps | 18992    |\n",
      "---------------------------------\n",
      "---------------------------------\n",
      "| rollout/           |          |\n",
      "|    ep_len_mean     | 90       |\n",
      "|    ep_rew_mean     | -41.5    |\n",
      "| time/              |          |\n",
      "|    episodes        | 220      |\n",
      "|    fps             | 458      |\n",
      "|    time_elapsed    | 44       |\n",
      "|    total_timesteps | 20512    |\n",
      "---------------------------------\n",
      "---------------------------------\n",
      "| rollout/           |          |\n",
      "|    ep_len_mean     | 90.9     |\n",
      "|    ep_rew_mean     | -38.7    |\n",
      "| time/              |          |\n",
      "|    episodes        | 240      |\n",
      "|    fps             | 461      |\n",
      "|    time_elapsed    | 48       |\n",
      "|    total_timesteps | 22248    |\n",
      "---------------------------------\n",
      "Eval num_timesteps=24000, episode_reward=-47.28 +/- 8.29\n",
      "Episode length: 56.60 +/- 71.96\n",
      "---------------------------------\n",
      "| eval/              |          |\n",
      "|    mean_ep_length  | 56.6     |\n",
      "|    mean_reward     | -47.3    |\n",
      "| time/              |          |\n",
      "|    total_timesteps | 24000    |\n",
      "---------------------------------\n",
      "---------------------------------\n",
      "| rollout/           |          |\n",
      "|    ep_len_mean     | 96.2     |\n",
      "|    ep_rew_mean     | -38.9    |\n",
      "| time/              |          |\n",
      "|    episodes        | 260      |\n",
      "|    fps             | 455      |\n",
      "|    time_elapsed    | 54       |\n",
      "|    total_timesteps | 24784    |\n",
      "---------------------------------\n",
      "---------------------------------\n",
      "| rollout/           |          |\n",
      "|    ep_len_mean     | 88.7     |\n",
      "|    ep_rew_mean     | -40.5    |\n",
      "| time/              |          |\n",
      "|    episodes        | 280      |\n",
      "|    fps             | 456      |\n",
      "|    time_elapsed    | 56       |\n",
      "|    total_timesteps | 25936    |\n",
      "---------------------------------\n",
      "---------------------------------\n",
      "| rollout/           |          |\n",
      "|    ep_len_mean     | 87.9     |\n",
      "|    ep_rew_mean     | -40.1    |\n",
      "| time/              |          |\n",
      "|    episodes        | 300      |\n",
      "|    fps             | 457      |\n",
      "|    time_elapsed    | 61       |\n",
      "|    total_timesteps | 27976    |\n",
      "---------------------------------\n",
      "---------------------------------\n",
      "| rollout/           |          |\n",
      "|    ep_len_mean     | 101      |\n",
      "|    ep_rew_mean     | -40.6    |\n",
      "| time/              |          |\n",
      "|    episodes        | 320      |\n",
      "|    fps             | 459      |\n",
      "|    time_elapsed    | 66       |\n",
      "|    total_timesteps | 30712    |\n",
      "---------------------------------\n",
      "Eval num_timesteps=32000, episode_reward=-43.29 +/- 9.81\n",
      "Episode length: 58.40 +/- 71.01\n",
      "---------------------------------\n",
      "| eval/              |          |\n",
      "|    mean_ep_length  | 58.4     |\n",
      "|    mean_reward     | -43.3    |\n",
      "| time/              |          |\n",
      "|    total_timesteps | 32000    |\n",
      "---------------------------------\n",
      "---------------------------------\n",
      "| rollout/           |          |\n",
      "|    ep_len_mean     | 105      |\n",
      "|    ep_rew_mean     | -43.4    |\n",
      "| time/              |          |\n",
      "|    episodes        | 340      |\n",
      "|    fps             | 455      |\n",
      "|    time_elapsed    | 71       |\n",
      "|    total_timesteps | 32560    |\n",
      "---------------------------------\n",
      "---------------------------------\n",
      "| rollout/           |          |\n",
      "|    ep_len_mean     | 94.1     |\n",
      "|    ep_rew_mean     | -44.1    |\n",
      "| time/              |          |\n",
      "|    episodes        | 360      |\n",
      "|    fps             | 456      |\n",
      "|    time_elapsed    | 75       |\n",
      "|    total_timesteps | 34276    |\n",
      "---------------------------------\n",
      "---------------------------------\n",
      "| rollout/           |          |\n",
      "|    ep_len_mean     | 96.7     |\n",
      "|    ep_rew_mean     | -44      |\n",
      "| time/              |          |\n",
      "|    episodes        | 380      |\n",
      "|    fps             | 459      |\n",
      "|    time_elapsed    | 77       |\n",
      "|    total_timesteps | 35696    |\n",
      "---------------------------------\n",
      "---------------------------------\n",
      "| rollout/           |          |\n",
      "|    ep_len_mean     | 99.6     |\n",
      "|    ep_rew_mean     | -44.3    |\n",
      "| time/              |          |\n",
      "|    episodes        | 400      |\n",
      "|    fps             | 460      |\n",
      "|    time_elapsed    | 82       |\n",
      "|    total_timesteps | 37876    |\n",
      "---------------------------------\n",
      "Eval num_timesteps=40000, episode_reward=-24.95 +/- 41.75\n",
      "Episode length: 92.40 +/- 87.95\n",
      "---------------------------------\n",
      "| eval/              |          |\n",
      "|    mean_ep_length  | 92.4     |\n",
      "|    mean_reward     | -24.9    |\n",
      "| time/              |          |\n",
      "|    total_timesteps | 40000    |\n",
      "---------------------------------\n",
      "New best mean reward!\n",
      "---------------------------------\n",
      "| rollout/           |          |\n",
      "|    ep_len_mean     | 94.9     |\n",
      "|    ep_rew_mean     | -36.7    |\n",
      "| time/              |          |\n",
      "|    episodes        | 420      |\n",
      "|    fps             | 416      |\n",
      "|    time_elapsed    | 96       |\n",
      "|    total_timesteps | 40360    |\n",
      "| train/             |          |\n",
      "|    actor_loss      | -7.7     |\n",
      "|    critic_loss     | 15.7     |\n",
      "|    ent_coef        | 0.899    |\n",
      "|    ent_coef_loss   | -0.89    |\n",
      "|    learning_rate   | 0.0003   |\n",
      "|    n_updates       | 356      |\n",
      "---------------------------------\n",
      "---------------------------------\n",
      "| rollout/           |          |\n",
      "|    ep_len_mean     | 91.6     |\n",
      "|    ep_rew_mean     | -30.8    |\n",
      "| time/              |          |\n",
      "|    episodes        | 440      |\n",
      "|    fps             | 304      |\n",
      "|    time_elapsed    | 137      |\n",
      "|    total_timesteps | 41960    |\n",
      "| train/             |          |\n",
      "|    actor_loss      | -17.6    |\n",
      "|    critic_loss     | 25.1     |\n",
      "|    ent_coef        | 0.557    |\n",
      "|    ent_coef_loss   | -4.92    |\n",
      "|    learning_rate   | 0.0003   |\n",
      "|    n_updates       | 1956     |\n",
      "---------------------------------\n",
      "---------------------------------\n",
      "| rollout/           |          |\n",
      "|    ep_len_mean     | 95.7     |\n",
      "|    ep_rew_mean     | -30.9    |\n",
      "| time/              |          |\n",
      "|    episodes        | 460      |\n",
      "|    fps             | 233      |\n",
      "|    time_elapsed    | 188      |\n",
      "|    total_timesteps | 43876    |\n",
      "| train/             |          |\n",
      "|    actor_loss      | -22.4    |\n",
      "|    critic_loss     | 25       |\n",
      "|    ent_coef        | 0.317    |\n",
      "|    ent_coef_loss   | -8.85    |\n",
      "|    learning_rate   | 0.0003   |\n",
      "|    n_updates       | 3872     |\n",
      "---------------------------------\n",
      "---------------------------------\n",
      "| rollout/           |          |\n",
      "|    ep_len_mean     | 100      |\n",
      "|    ep_rew_mean     | -12.7    |\n",
      "| time/              |          |\n",
      "|    episodes        | 480      |\n",
      "|    fps             | 191      |\n",
      "|    time_elapsed    | 238      |\n",
      "|    total_timesteps | 45808    |\n",
      "| train/             |          |\n",
      "|    actor_loss      | -23.8    |\n",
      "|    critic_loss     | 4.18     |\n",
      "|    ent_coef        | 0.182    |\n",
      "|    ent_coef_loss   | -10.4    |\n",
      "|    learning_rate   | 0.0003   |\n",
      "|    n_updates       | 5804     |\n",
      "---------------------------------\n",
      "Eval num_timesteps=48000, episode_reward=-37.06 +/- 13.40\n",
      "Episode length: 200.00 +/- 0.00\n",
      "---------------------------------\n",
      "| eval/              |          |\n",
      "|    mean_ep_length  | 200      |\n",
      "|    mean_reward     | -37.1    |\n",
      "| time/              |          |\n",
      "|    total_timesteps | 48000    |\n",
      "| train/             |          |\n",
      "|    actor_loss      | -20.1    |\n",
      "|    critic_loss     | 8.23     |\n",
      "|    ent_coef        | 0.0977   |\n",
      "|    ent_coef_loss   | -13.9    |\n",
      "|    learning_rate   | 0.0003   |\n",
      "|    n_updates       | 7996     |\n",
      "---------------------------------\n",
      "---------------------------------\n",
      "| rollout/           |          |\n",
      "|    ep_len_mean     | 114      |\n",
      "|    ep_rew_mean     | -2.58    |\n",
      "| time/              |          |\n",
      "|    episodes        | 500      |\n",
      "|    fps             | 148      |\n",
      "|    time_elapsed    | 330      |\n",
      "|    total_timesteps | 49132    |\n",
      "| train/             |          |\n",
      "|    actor_loss      | -19.4    |\n",
      "|    critic_loss     | 6.48     |\n",
      "|    ent_coef        | 0.0746   |\n",
      "|    ent_coef_loss   | -10.9    |\n",
      "|    learning_rate   | 0.0003   |\n",
      "|    n_updates       | 9128     |\n",
      "---------------------------------\n",
      "---------------------------------\n",
      "| rollout/           |          |\n",
      "|    ep_len_mean     | 117      |\n",
      "|    ep_rew_mean     | -9.55    |\n",
      "| time/              |          |\n",
      "|    episodes        | 520      |\n",
      "|    fps             | 128      |\n",
      "|    time_elapsed    | 402      |\n",
      "|    total_timesteps | 51840    |\n",
      "| train/             |          |\n",
      "|    actor_loss      | -17.6    |\n",
      "|    critic_loss     | 2.88     |\n",
      "|    ent_coef        | 0.048    |\n",
      "|    ent_coef_loss   | -3.41    |\n",
      "|    learning_rate   | 0.0003   |\n",
      "|    n_updates       | 11836    |\n",
      "---------------------------------\n",
      "Saving last checkpoint\n",
      "Last checkpoint saved in: ./results/darm_sf_hand/test4_SF_SB3_SAC/models/last_model\n"
     ]
    },
    {
     "ename": "KeyboardInterrupt",
     "evalue": "",
     "output_type": "error",
     "traceback": [
      "\u001b[0;31m---------------------------------------------------------------------------\u001b[0m",
      "\u001b[0;31mKeyboardInterrupt\u001b[0m                         Traceback (most recent call last)",
      "Input \u001b[0;32mIn [8]\u001b[0m, in \u001b[0;36m<cell line: 1>\u001b[0;34m()\u001b[0m\n\u001b[1;32m      1\u001b[0m \u001b[38;5;28;01mtry\u001b[39;00m:\n\u001b[0;32m----> 2\u001b[0m     \u001b[43mmodel\u001b[49m\u001b[38;5;241;43m.\u001b[39;49m\u001b[43mlearn\u001b[49m\u001b[43m(\u001b[49m\u001b[43mtotal_timesteps\u001b[49m\u001b[38;5;241;43m=\u001b[39;49m\u001b[43mconfig\u001b[49m\u001b[43m[\u001b[49m\u001b[38;5;124;43m\"\u001b[39;49m\u001b[38;5;124;43mtotal_timesteps\u001b[39;49m\u001b[38;5;124;43m\"\u001b[39;49m\u001b[43m]\u001b[49m\u001b[43m,\u001b[49m\u001b[43m \u001b[49m\n\u001b[1;32m      3\u001b[0m \u001b[43m                \u001b[49m\u001b[43mlog_interval\u001b[49m\u001b[38;5;241;43m=\u001b[39;49m\u001b[43mconfig\u001b[49m\u001b[43m[\u001b[49m\u001b[38;5;124;43m\"\u001b[39;49m\u001b[38;5;124;43mlog_interval\u001b[39;49m\u001b[38;5;124;43m\"\u001b[39;49m\u001b[43m]\u001b[49m\u001b[43m,\u001b[49m\u001b[43m \u001b[49m\n\u001b[1;32m      4\u001b[0m \u001b[43m                \u001b[49m\u001b[43mtb_log_name\u001b[49m\u001b[38;5;241;43m=\u001b[39;49m\u001b[43mrun_name\u001b[49m\u001b[43m,\u001b[49m\n\u001b[1;32m      5\u001b[0m \u001b[43m                \u001b[49m\u001b[43mcallback\u001b[49m\u001b[38;5;241;43m=\u001b[39;49m\u001b[43mcallback\u001b[49m\u001b[43m)\u001b[49m\n\u001b[1;32m      6\u001b[0m \u001b[38;5;28;01mexcept\u001b[39;00m \u001b[38;5;167;01mException\u001b[39;00m \u001b[38;5;28;01mas\u001b[39;00m e:\n\u001b[1;32m      7\u001b[0m     \u001b[38;5;28mprint\u001b[39m(\u001b[38;5;124m\"\u001b[39m\u001b[38;5;124mException caught:\u001b[39m\u001b[38;5;124m\"\u001b[39m)\n",
      "File \u001b[0;32m~/miniconda3/lib/python3.8/site-packages/stable_baselines3/sac/sac.py:309\u001b[0m, in \u001b[0;36mSAC.learn\u001b[0;34m(self, total_timesteps, callback, log_interval, eval_env, eval_freq, n_eval_episodes, tb_log_name, eval_log_path, reset_num_timesteps, progress_bar)\u001b[0m\n\u001b[1;32m    295\u001b[0m \u001b[38;5;28;01mdef\u001b[39;00m \u001b[38;5;21mlearn\u001b[39m(\n\u001b[1;32m    296\u001b[0m     \u001b[38;5;28mself\u001b[39m: SACSelf,\n\u001b[1;32m    297\u001b[0m     total_timesteps: \u001b[38;5;28mint\u001b[39m,\n\u001b[0;32m   (...)\u001b[0m\n\u001b[1;32m    306\u001b[0m     progress_bar: \u001b[38;5;28mbool\u001b[39m \u001b[38;5;241m=\u001b[39m \u001b[38;5;28;01mFalse\u001b[39;00m,\n\u001b[1;32m    307\u001b[0m ) \u001b[38;5;241m-\u001b[39m\u001b[38;5;241m>\u001b[39m SACSelf:\n\u001b[0;32m--> 309\u001b[0m     \u001b[38;5;28;01mreturn\u001b[39;00m \u001b[38;5;28;43msuper\u001b[39;49m\u001b[43m(\u001b[49m\u001b[43m)\u001b[49m\u001b[38;5;241;43m.\u001b[39;49m\u001b[43mlearn\u001b[49m\u001b[43m(\u001b[49m\n\u001b[1;32m    310\u001b[0m \u001b[43m        \u001b[49m\u001b[43mtotal_timesteps\u001b[49m\u001b[38;5;241;43m=\u001b[39;49m\u001b[43mtotal_timesteps\u001b[49m\u001b[43m,\u001b[49m\n\u001b[1;32m    311\u001b[0m \u001b[43m        \u001b[49m\u001b[43mcallback\u001b[49m\u001b[38;5;241;43m=\u001b[39;49m\u001b[43mcallback\u001b[49m\u001b[43m,\u001b[49m\n\u001b[1;32m    312\u001b[0m \u001b[43m        \u001b[49m\u001b[43mlog_interval\u001b[49m\u001b[38;5;241;43m=\u001b[39;49m\u001b[43mlog_interval\u001b[49m\u001b[43m,\u001b[49m\n\u001b[1;32m    313\u001b[0m \u001b[43m        \u001b[49m\u001b[43meval_env\u001b[49m\u001b[38;5;241;43m=\u001b[39;49m\u001b[43meval_env\u001b[49m\u001b[43m,\u001b[49m\n\u001b[1;32m    314\u001b[0m \u001b[43m        \u001b[49m\u001b[43meval_freq\u001b[49m\u001b[38;5;241;43m=\u001b[39;49m\u001b[43meval_freq\u001b[49m\u001b[43m,\u001b[49m\n\u001b[1;32m    315\u001b[0m \u001b[43m        \u001b[49m\u001b[43mn_eval_episodes\u001b[49m\u001b[38;5;241;43m=\u001b[39;49m\u001b[43mn_eval_episodes\u001b[49m\u001b[43m,\u001b[49m\n\u001b[1;32m    316\u001b[0m \u001b[43m        \u001b[49m\u001b[43mtb_log_name\u001b[49m\u001b[38;5;241;43m=\u001b[39;49m\u001b[43mtb_log_name\u001b[49m\u001b[43m,\u001b[49m\n\u001b[1;32m    317\u001b[0m \u001b[43m        \u001b[49m\u001b[43meval_log_path\u001b[49m\u001b[38;5;241;43m=\u001b[39;49m\u001b[43meval_log_path\u001b[49m\u001b[43m,\u001b[49m\n\u001b[1;32m    318\u001b[0m \u001b[43m        \u001b[49m\u001b[43mreset_num_timesteps\u001b[49m\u001b[38;5;241;43m=\u001b[39;49m\u001b[43mreset_num_timesteps\u001b[49m\u001b[43m,\u001b[49m\n\u001b[1;32m    319\u001b[0m \u001b[43m        \u001b[49m\u001b[43mprogress_bar\u001b[49m\u001b[38;5;241;43m=\u001b[39;49m\u001b[43mprogress_bar\u001b[49m\u001b[43m,\u001b[49m\n\u001b[1;32m    320\u001b[0m \u001b[43m    \u001b[49m\u001b[43m)\u001b[49m\n",
      "File \u001b[0;32m~/miniconda3/lib/python3.8/site-packages/stable_baselines3/common/off_policy_algorithm.py:375\u001b[0m, in \u001b[0;36mOffPolicyAlgorithm.learn\u001b[0;34m(self, total_timesteps, callback, log_interval, eval_env, eval_freq, n_eval_episodes, tb_log_name, eval_log_path, reset_num_timesteps, progress_bar)\u001b[0m\n\u001b[1;32m    373\u001b[0m         \u001b[38;5;66;03m# Special case when the user passes `gradient_steps=0`\u001b[39;00m\n\u001b[1;32m    374\u001b[0m         \u001b[38;5;28;01mif\u001b[39;00m gradient_steps \u001b[38;5;241m>\u001b[39m \u001b[38;5;241m0\u001b[39m:\n\u001b[0;32m--> 375\u001b[0m             \u001b[38;5;28;43mself\u001b[39;49m\u001b[38;5;241;43m.\u001b[39;49m\u001b[43mtrain\u001b[49m\u001b[43m(\u001b[49m\u001b[43mbatch_size\u001b[49m\u001b[38;5;241;43m=\u001b[39;49m\u001b[38;5;28;43mself\u001b[39;49m\u001b[38;5;241;43m.\u001b[39;49m\u001b[43mbatch_size\u001b[49m\u001b[43m,\u001b[49m\u001b[43m \u001b[49m\u001b[43mgradient_steps\u001b[49m\u001b[38;5;241;43m=\u001b[39;49m\u001b[43mgradient_steps\u001b[49m\u001b[43m)\u001b[49m\n\u001b[1;32m    377\u001b[0m callback\u001b[38;5;241m.\u001b[39mon_training_end()\n\u001b[1;32m    379\u001b[0m \u001b[38;5;28;01mreturn\u001b[39;00m \u001b[38;5;28mself\u001b[39m\n",
      "File \u001b[0;32m~/miniconda3/lib/python3.8/site-packages/stable_baselines3/sac/sac.py:265\u001b[0m, in \u001b[0;36mSAC.train\u001b[0;34m(self, gradient_steps, batch_size)\u001b[0m\n\u001b[1;32m    263\u001b[0m \u001b[38;5;28mself\u001b[39m\u001b[38;5;241m.\u001b[39mcritic\u001b[38;5;241m.\u001b[39moptimizer\u001b[38;5;241m.\u001b[39mzero_grad()\n\u001b[1;32m    264\u001b[0m critic_loss\u001b[38;5;241m.\u001b[39mbackward()\n\u001b[0;32m--> 265\u001b[0m \u001b[38;5;28;43mself\u001b[39;49m\u001b[38;5;241;43m.\u001b[39;49m\u001b[43mcritic\u001b[49m\u001b[38;5;241;43m.\u001b[39;49m\u001b[43moptimizer\u001b[49m\u001b[38;5;241;43m.\u001b[39;49m\u001b[43mstep\u001b[49m\u001b[43m(\u001b[49m\u001b[43m)\u001b[49m\n\u001b[1;32m    267\u001b[0m \u001b[38;5;66;03m# Compute actor loss\u001b[39;00m\n\u001b[1;32m    268\u001b[0m \u001b[38;5;66;03m# Alternative: actor_loss = th.mean(log_prob - qf1_pi)\u001b[39;00m\n\u001b[1;32m    269\u001b[0m \u001b[38;5;66;03m# Min over all critic networks\u001b[39;00m\n\u001b[1;32m    270\u001b[0m q_values_pi \u001b[38;5;241m=\u001b[39m th\u001b[38;5;241m.\u001b[39mcat(\u001b[38;5;28mself\u001b[39m\u001b[38;5;241m.\u001b[39mcritic(replay_data\u001b[38;5;241m.\u001b[39mobservations, actions_pi), dim\u001b[38;5;241m=\u001b[39m\u001b[38;5;241m1\u001b[39m)\n",
      "File \u001b[0;32m~/miniconda3/lib/python3.8/site-packages/torch/optim/optimizer.py:140\u001b[0m, in \u001b[0;36mOptimizer._hook_for_profile.<locals>.profile_hook_step.<locals>.wrapper\u001b[0;34m(*args, **kwargs)\u001b[0m\n\u001b[1;32m    138\u001b[0m profile_name \u001b[38;5;241m=\u001b[39m \u001b[38;5;124m\"\u001b[39m\u001b[38;5;124mOptimizer.step#\u001b[39m\u001b[38;5;132;01m{}\u001b[39;00m\u001b[38;5;124m.step\u001b[39m\u001b[38;5;124m\"\u001b[39m\u001b[38;5;241m.\u001b[39mformat(obj\u001b[38;5;241m.\u001b[39m\u001b[38;5;18m__class__\u001b[39m\u001b[38;5;241m.\u001b[39m\u001b[38;5;18m__name__\u001b[39m)\n\u001b[1;32m    139\u001b[0m \u001b[38;5;28;01mwith\u001b[39;00m torch\u001b[38;5;241m.\u001b[39mautograd\u001b[38;5;241m.\u001b[39mprofiler\u001b[38;5;241m.\u001b[39mrecord_function(profile_name):\n\u001b[0;32m--> 140\u001b[0m     out \u001b[38;5;241m=\u001b[39m \u001b[43mfunc\u001b[49m\u001b[43m(\u001b[49m\u001b[38;5;241;43m*\u001b[39;49m\u001b[43margs\u001b[49m\u001b[43m,\u001b[49m\u001b[43m \u001b[49m\u001b[38;5;241;43m*\u001b[39;49m\u001b[38;5;241;43m*\u001b[39;49m\u001b[43mkwargs\u001b[49m\u001b[43m)\u001b[49m\n\u001b[1;32m    141\u001b[0m     obj\u001b[38;5;241m.\u001b[39m_optimizer_step_code()\n\u001b[1;32m    142\u001b[0m     \u001b[38;5;28;01mreturn\u001b[39;00m out\n",
      "File \u001b[0;32m~/miniconda3/lib/python3.8/site-packages/torch/optim/optimizer.py:23\u001b[0m, in \u001b[0;36m_use_grad_for_differentiable.<locals>._use_grad\u001b[0;34m(self, *args, **kwargs)\u001b[0m\n\u001b[1;32m     21\u001b[0m \u001b[38;5;28;01mtry\u001b[39;00m:\n\u001b[1;32m     22\u001b[0m     torch\u001b[38;5;241m.\u001b[39mset_grad_enabled(\u001b[38;5;28mself\u001b[39m\u001b[38;5;241m.\u001b[39mdefaults[\u001b[38;5;124m'\u001b[39m\u001b[38;5;124mdifferentiable\u001b[39m\u001b[38;5;124m'\u001b[39m])\n\u001b[0;32m---> 23\u001b[0m     ret \u001b[38;5;241m=\u001b[39m \u001b[43mfunc\u001b[49m\u001b[43m(\u001b[49m\u001b[38;5;28;43mself\u001b[39;49m\u001b[43m,\u001b[49m\u001b[43m \u001b[49m\u001b[38;5;241;43m*\u001b[39;49m\u001b[43margs\u001b[49m\u001b[43m,\u001b[49m\u001b[43m \u001b[49m\u001b[38;5;241;43m*\u001b[39;49m\u001b[38;5;241;43m*\u001b[39;49m\u001b[43mkwargs\u001b[49m\u001b[43m)\u001b[49m\n\u001b[1;32m     24\u001b[0m \u001b[38;5;28;01mfinally\u001b[39;00m:\n\u001b[1;32m     25\u001b[0m     torch\u001b[38;5;241m.\u001b[39mset_grad_enabled(prev_grad)\n",
      "File \u001b[0;32m~/miniconda3/lib/python3.8/site-packages/torch/optim/adam.py:234\u001b[0m, in \u001b[0;36mAdam.step\u001b[0;34m(self, closure, grad_scaler)\u001b[0m\n\u001b[1;32m    231\u001b[0m                 \u001b[38;5;28;01mraise\u001b[39;00m \u001b[38;5;167;01mRuntimeError\u001b[39;00m(\u001b[38;5;124m'\u001b[39m\u001b[38;5;124m`requires_grad` is not supported for `step` in differentiable mode\u001b[39m\u001b[38;5;124m'\u001b[39m)\n\u001b[1;32m    232\u001b[0m             state_steps\u001b[38;5;241m.\u001b[39mappend(state[\u001b[38;5;124m'\u001b[39m\u001b[38;5;124mstep\u001b[39m\u001b[38;5;124m'\u001b[39m])\n\u001b[0;32m--> 234\u001b[0m     \u001b[43madam\u001b[49m\u001b[43m(\u001b[49m\u001b[43mparams_with_grad\u001b[49m\u001b[43m,\u001b[49m\n\u001b[1;32m    235\u001b[0m \u001b[43m         \u001b[49m\u001b[43mgrads\u001b[49m\u001b[43m,\u001b[49m\n\u001b[1;32m    236\u001b[0m \u001b[43m         \u001b[49m\u001b[43mexp_avgs\u001b[49m\u001b[43m,\u001b[49m\n\u001b[1;32m    237\u001b[0m \u001b[43m         \u001b[49m\u001b[43mexp_avg_sqs\u001b[49m\u001b[43m,\u001b[49m\n\u001b[1;32m    238\u001b[0m \u001b[43m         \u001b[49m\u001b[43mmax_exp_avg_sqs\u001b[49m\u001b[43m,\u001b[49m\n\u001b[1;32m    239\u001b[0m \u001b[43m         \u001b[49m\u001b[43mstate_steps\u001b[49m\u001b[43m,\u001b[49m\n\u001b[1;32m    240\u001b[0m \u001b[43m         \u001b[49m\u001b[43mamsgrad\u001b[49m\u001b[38;5;241;43m=\u001b[39;49m\u001b[43mgroup\u001b[49m\u001b[43m[\u001b[49m\u001b[38;5;124;43m'\u001b[39;49m\u001b[38;5;124;43mamsgrad\u001b[39;49m\u001b[38;5;124;43m'\u001b[39;49m\u001b[43m]\u001b[49m\u001b[43m,\u001b[49m\n\u001b[1;32m    241\u001b[0m \u001b[43m         \u001b[49m\u001b[43mbeta1\u001b[49m\u001b[38;5;241;43m=\u001b[39;49m\u001b[43mbeta1\u001b[49m\u001b[43m,\u001b[49m\n\u001b[1;32m    242\u001b[0m \u001b[43m         \u001b[49m\u001b[43mbeta2\u001b[49m\u001b[38;5;241;43m=\u001b[39;49m\u001b[43mbeta2\u001b[49m\u001b[43m,\u001b[49m\n\u001b[1;32m    243\u001b[0m \u001b[43m         \u001b[49m\u001b[43mlr\u001b[49m\u001b[38;5;241;43m=\u001b[39;49m\u001b[43mgroup\u001b[49m\u001b[43m[\u001b[49m\u001b[38;5;124;43m'\u001b[39;49m\u001b[38;5;124;43mlr\u001b[39;49m\u001b[38;5;124;43m'\u001b[39;49m\u001b[43m]\u001b[49m\u001b[43m,\u001b[49m\n\u001b[1;32m    244\u001b[0m \u001b[43m         \u001b[49m\u001b[43mweight_decay\u001b[49m\u001b[38;5;241;43m=\u001b[39;49m\u001b[43mgroup\u001b[49m\u001b[43m[\u001b[49m\u001b[38;5;124;43m'\u001b[39;49m\u001b[38;5;124;43mweight_decay\u001b[39;49m\u001b[38;5;124;43m'\u001b[39;49m\u001b[43m]\u001b[49m\u001b[43m,\u001b[49m\n\u001b[1;32m    245\u001b[0m \u001b[43m         \u001b[49m\u001b[43meps\u001b[49m\u001b[38;5;241;43m=\u001b[39;49m\u001b[43mgroup\u001b[49m\u001b[43m[\u001b[49m\u001b[38;5;124;43m'\u001b[39;49m\u001b[38;5;124;43meps\u001b[39;49m\u001b[38;5;124;43m'\u001b[39;49m\u001b[43m]\u001b[49m\u001b[43m,\u001b[49m\n\u001b[1;32m    246\u001b[0m \u001b[43m         \u001b[49m\u001b[43mmaximize\u001b[49m\u001b[38;5;241;43m=\u001b[39;49m\u001b[43mgroup\u001b[49m\u001b[43m[\u001b[49m\u001b[38;5;124;43m'\u001b[39;49m\u001b[38;5;124;43mmaximize\u001b[39;49m\u001b[38;5;124;43m'\u001b[39;49m\u001b[43m]\u001b[49m\u001b[43m,\u001b[49m\n\u001b[1;32m    247\u001b[0m \u001b[43m         \u001b[49m\u001b[43mforeach\u001b[49m\u001b[38;5;241;43m=\u001b[39;49m\u001b[43mgroup\u001b[49m\u001b[43m[\u001b[49m\u001b[38;5;124;43m'\u001b[39;49m\u001b[38;5;124;43mforeach\u001b[39;49m\u001b[38;5;124;43m'\u001b[39;49m\u001b[43m]\u001b[49m\u001b[43m,\u001b[49m\n\u001b[1;32m    248\u001b[0m \u001b[43m         \u001b[49m\u001b[43mcapturable\u001b[49m\u001b[38;5;241;43m=\u001b[39;49m\u001b[43mgroup\u001b[49m\u001b[43m[\u001b[49m\u001b[38;5;124;43m'\u001b[39;49m\u001b[38;5;124;43mcapturable\u001b[39;49m\u001b[38;5;124;43m'\u001b[39;49m\u001b[43m]\u001b[49m\u001b[43m,\u001b[49m\n\u001b[1;32m    249\u001b[0m \u001b[43m         \u001b[49m\u001b[43mdifferentiable\u001b[49m\u001b[38;5;241;43m=\u001b[39;49m\u001b[43mgroup\u001b[49m\u001b[43m[\u001b[49m\u001b[38;5;124;43m'\u001b[39;49m\u001b[38;5;124;43mdifferentiable\u001b[39;49m\u001b[38;5;124;43m'\u001b[39;49m\u001b[43m]\u001b[49m\u001b[43m,\u001b[49m\n\u001b[1;32m    250\u001b[0m \u001b[43m         \u001b[49m\u001b[43mfused\u001b[49m\u001b[38;5;241;43m=\u001b[39;49m\u001b[43mgroup\u001b[49m\u001b[43m[\u001b[49m\u001b[38;5;124;43m'\u001b[39;49m\u001b[38;5;124;43mfused\u001b[39;49m\u001b[38;5;124;43m'\u001b[39;49m\u001b[43m]\u001b[49m\u001b[43m,\u001b[49m\n\u001b[1;32m    251\u001b[0m \u001b[43m         \u001b[49m\u001b[43mgrad_scale\u001b[49m\u001b[38;5;241;43m=\u001b[39;49m\u001b[43mgrad_scale\u001b[49m\u001b[43m,\u001b[49m\n\u001b[1;32m    252\u001b[0m \u001b[43m         \u001b[49m\u001b[43mfound_inf\u001b[49m\u001b[38;5;241;43m=\u001b[39;49m\u001b[43mfound_inf\u001b[49m\u001b[43m)\u001b[49m\n\u001b[1;32m    254\u001b[0m \u001b[38;5;28;01mreturn\u001b[39;00m loss\n",
      "File \u001b[0;32m~/miniconda3/lib/python3.8/site-packages/torch/optim/adam.py:300\u001b[0m, in \u001b[0;36madam\u001b[0;34m(params, grads, exp_avgs, exp_avg_sqs, max_exp_avg_sqs, state_steps, foreach, capturable, differentiable, fused, grad_scale, found_inf, amsgrad, beta1, beta2, lr, weight_decay, eps, maximize)\u001b[0m\n\u001b[1;32m    297\u001b[0m \u001b[38;5;28;01melse\u001b[39;00m:\n\u001b[1;32m    298\u001b[0m     func \u001b[38;5;241m=\u001b[39m _single_tensor_adam\n\u001b[0;32m--> 300\u001b[0m \u001b[43mfunc\u001b[49m\u001b[43m(\u001b[49m\u001b[43mparams\u001b[49m\u001b[43m,\u001b[49m\n\u001b[1;32m    301\u001b[0m \u001b[43m     \u001b[49m\u001b[43mgrads\u001b[49m\u001b[43m,\u001b[49m\n\u001b[1;32m    302\u001b[0m \u001b[43m     \u001b[49m\u001b[43mexp_avgs\u001b[49m\u001b[43m,\u001b[49m\n\u001b[1;32m    303\u001b[0m \u001b[43m     \u001b[49m\u001b[43mexp_avg_sqs\u001b[49m\u001b[43m,\u001b[49m\n\u001b[1;32m    304\u001b[0m \u001b[43m     \u001b[49m\u001b[43mmax_exp_avg_sqs\u001b[49m\u001b[43m,\u001b[49m\n\u001b[1;32m    305\u001b[0m \u001b[43m     \u001b[49m\u001b[43mstate_steps\u001b[49m\u001b[43m,\u001b[49m\n\u001b[1;32m    306\u001b[0m \u001b[43m     \u001b[49m\u001b[43mamsgrad\u001b[49m\u001b[38;5;241;43m=\u001b[39;49m\u001b[43mamsgrad\u001b[49m\u001b[43m,\u001b[49m\n\u001b[1;32m    307\u001b[0m \u001b[43m     \u001b[49m\u001b[43mbeta1\u001b[49m\u001b[38;5;241;43m=\u001b[39;49m\u001b[43mbeta1\u001b[49m\u001b[43m,\u001b[49m\n\u001b[1;32m    308\u001b[0m \u001b[43m     \u001b[49m\u001b[43mbeta2\u001b[49m\u001b[38;5;241;43m=\u001b[39;49m\u001b[43mbeta2\u001b[49m\u001b[43m,\u001b[49m\n\u001b[1;32m    309\u001b[0m \u001b[43m     \u001b[49m\u001b[43mlr\u001b[49m\u001b[38;5;241;43m=\u001b[39;49m\u001b[43mlr\u001b[49m\u001b[43m,\u001b[49m\n\u001b[1;32m    310\u001b[0m \u001b[43m     \u001b[49m\u001b[43mweight_decay\u001b[49m\u001b[38;5;241;43m=\u001b[39;49m\u001b[43mweight_decay\u001b[49m\u001b[43m,\u001b[49m\n\u001b[1;32m    311\u001b[0m \u001b[43m     \u001b[49m\u001b[43meps\u001b[49m\u001b[38;5;241;43m=\u001b[39;49m\u001b[43meps\u001b[49m\u001b[43m,\u001b[49m\n\u001b[1;32m    312\u001b[0m \u001b[43m     \u001b[49m\u001b[43mmaximize\u001b[49m\u001b[38;5;241;43m=\u001b[39;49m\u001b[43mmaximize\u001b[49m\u001b[43m,\u001b[49m\n\u001b[1;32m    313\u001b[0m \u001b[43m     \u001b[49m\u001b[43mcapturable\u001b[49m\u001b[38;5;241;43m=\u001b[39;49m\u001b[43mcapturable\u001b[49m\u001b[43m,\u001b[49m\n\u001b[1;32m    314\u001b[0m \u001b[43m     \u001b[49m\u001b[43mdifferentiable\u001b[49m\u001b[38;5;241;43m=\u001b[39;49m\u001b[43mdifferentiable\u001b[49m\u001b[43m,\u001b[49m\n\u001b[1;32m    315\u001b[0m \u001b[43m     \u001b[49m\u001b[43mgrad_scale\u001b[49m\u001b[38;5;241;43m=\u001b[39;49m\u001b[43mgrad_scale\u001b[49m\u001b[43m,\u001b[49m\n\u001b[1;32m    316\u001b[0m \u001b[43m     \u001b[49m\u001b[43mfound_inf\u001b[49m\u001b[38;5;241;43m=\u001b[39;49m\u001b[43mfound_inf\u001b[49m\u001b[43m)\u001b[49m\n",
      "File \u001b[0;32m~/miniconda3/lib/python3.8/site-packages/torch/optim/adam.py:412\u001b[0m, in \u001b[0;36m_single_tensor_adam\u001b[0;34m(params, grads, exp_avgs, exp_avg_sqs, max_exp_avg_sqs, state_steps, grad_scale, found_inf, amsgrad, beta1, beta2, lr, weight_decay, eps, maximize, capturable, differentiable)\u001b[0m\n\u001b[1;32m    409\u001b[0m \u001b[38;5;28;01melse\u001b[39;00m:\n\u001b[1;32m    410\u001b[0m     denom \u001b[38;5;241m=\u001b[39m (exp_avg_sq\u001b[38;5;241m.\u001b[39msqrt() \u001b[38;5;241m/\u001b[39m bias_correction2_sqrt)\u001b[38;5;241m.\u001b[39madd_(eps)\n\u001b[0;32m--> 412\u001b[0m \u001b[43mparam\u001b[49m\u001b[38;5;241;43m.\u001b[39;49m\u001b[43maddcdiv_\u001b[49m\u001b[43m(\u001b[49m\u001b[43mexp_avg\u001b[49m\u001b[43m,\u001b[49m\u001b[43m \u001b[49m\u001b[43mdenom\u001b[49m\u001b[43m,\u001b[49m\u001b[43m \u001b[49m\u001b[43mvalue\u001b[49m\u001b[38;5;241;43m=\u001b[39;49m\u001b[38;5;241;43m-\u001b[39;49m\u001b[43mstep_size\u001b[49m\u001b[43m)\u001b[49m\n",
      "\u001b[0;31mKeyboardInterrupt\u001b[0m: "
     ]
    }
   ],
   "source": [
    "try:\n",
    "    model.learn(total_timesteps=config[\"total_timesteps\"], \n",
    "                log_interval=config[\"log_interval\"], \n",
    "                tb_log_name=run_name,\n",
    "                callback=callback)\n",
    "except Exception as e:\n",
    "    print(\"Exception caught:\")\n",
    "    print(e)\n",
    "finally:\n",
    "    # timestamp = f\"{datetime.now().date()}__{datetime.now().time()}\"\n",
    "    print(\"Saving last checkpoint\")\n",
    "    model_name = f\"./results/darm_sf_hand/{run_name}/models/last_model\"\n",
    "    env_norm_name = f\"./results/darm_sf_hand/{run_name}/env_norm\"\n",
    "    model.save(model_name)\n",
    "    print(f\"Last checkpoint saved in: {model_name}\")\n",
    "    # env.save(env_norm_name) # FIXME: Remember to save norm params if using VecNorm env\n",
    "    "
   ]
  },
  {
   "cell_type": "code",
   "execution_count": 9,
   "id": "139daf70-71ae-4b08-8798-a9e86b0a87a0",
   "metadata": {
    "collapsed": true,
    "jupyter": {
     "outputs_hidden": true
    },
    "tags": []
   },
   "outputs": [
    {
     "data": {
      "text/html": [
       "Waiting for W&B process to finish... <strong style=\"color:green\">(success).</strong>"
      ],
      "text/plain": [
       "<IPython.core.display.HTML object>"
      ]
     },
     "metadata": {},
     "output_type": "display_data"
    },
    {
     "data": {
      "text/html": [
       "<style>\n",
       "    table.wandb td:nth-child(1) { padding: 0 10px; text-align: left ; width: auto;} td:nth-child(2) {text-align: left ; width: 100%}\n",
       "    .wandb-row { display: flex; flex-direction: row; flex-wrap: wrap; justify-content: flex-start; width: 100% }\n",
       "    .wandb-col { display: flex; flex-direction: column; flex-basis: 100%; flex: 1; padding: 10px; }\n",
       "    </style>\n",
       "<div class=\"wandb-row\"><div class=\"wandb-col\"><h3>Run history:</h3><br/><table class=\"wandb\"><tr><td>eval/mean_ep_length</td><td>▁▅▃▃▄█</td></tr><tr><td>eval/mean_reward</td><td>▁▄▂▃█▅</td></tr><tr><td>global_step</td><td>▁▁▁▂▂▂▂▃▃▃▃▃▄▄▄▄▄▅▅▅▅▆▆▆▆▆▇▇▇▇██</td></tr><tr><td>rollout/ep_len_mean</td><td>▂▃▁▄▄▃▃▄▂▂▂▂▃▂▂▅▅▃▄▄▃▂▃▄▇█</td></tr><tr><td>rollout/ep_rew_mean</td><td>▃▄▃▃▃▂▁▁▁▁▁▂▂▂▂▂▁▁▁▁▂▃▃▆█▇</td></tr><tr><td>time/fps</td><td>████████▇▇▇▇▇▇▇▇▇▇▇▇▆▄▃▂▁▁</td></tr><tr><td>train/actor_loss</td><td>█▄▂▁▃▃▄</td></tr><tr><td>train/critic_loss</td><td>▅██▁▃▂▁</td></tr><tr><td>train/ent_coef</td><td>█▅▃▂▁▁▁</td></tr><tr><td>train/ent_coef_loss</td><td>█▆▄▃▁▃▇</td></tr><tr><td>train/learning_rate</td><td>▁▁▁▁▁▁▁</td></tr></table><br/></div><div class=\"wandb-col\"><h3>Run summary:</h3><br/><table class=\"wandb\"><tr><td>eval/mean_ep_length</td><td>200.0</td></tr><tr><td>eval/mean_reward</td><td>-37.05579</td></tr><tr><td>global_step</td><td>51840</td></tr><tr><td>rollout/ep_len_mean</td><td>116.95</td></tr><tr><td>rollout/ep_rew_mean</td><td>-9.54759</td></tr><tr><td>time/fps</td><td>128.0</td></tr><tr><td>train/actor_loss</td><td>-17.60356</td></tr><tr><td>train/critic_loss</td><td>2.88043</td></tr><tr><td>train/ent_coef</td><td>0.04804</td></tr><tr><td>train/ent_coef_loss</td><td>-3.41416</td></tr><tr><td>train/learning_rate</td><td>0.0003</td></tr></table><br/></div></div>"
      ],
      "text/plain": [
       "<IPython.core.display.HTML object>"
      ]
     },
     "metadata": {},
     "output_type": "display_data"
    },
    {
     "data": {
      "text/html": [
       " View run <strong style=\"color:#cdcd00\">test4_SF_SB3_SAC</strong> at: <a href='https://wandb.ai/danieladejumo/DARM/runs/fwqpzibt' target=\"_blank\">https://wandb.ai/danieladejumo/DARM/runs/fwqpzibt</a><br/>Synced 7 W&B file(s), 0 media file(s), 0 artifact file(s) and 3 other file(s)"
      ],
      "text/plain": [
       "<IPython.core.display.HTML object>"
      ]
     },
     "metadata": {},
     "output_type": "display_data"
    },
    {
     "data": {
      "text/html": [
       "Find logs at: <code>./wandb/run-20230221_162741-fwqpzibt/logs</code>"
      ],
      "text/plain": [
       "<IPython.core.display.HTML object>"
      ]
     },
     "metadata": {},
     "output_type": "display_data"
    },
    {
     "name": "stdout",
     "output_type": "stream",
     "text": [
      "Finished run test4_SF_SB3_SAC\n"
     ]
    }
   ],
   "source": [
    "# Finish the run if it's final\n",
    "run.finish()\n",
    "print(f\"Finished run {run_name}\")"
   ]
  },
  {
   "cell_type": "code",
   "execution_count": null,
   "id": "be8d09bf-c365-498a-8534-c609b300a77e",
   "metadata": {
    "tags": []
   },
   "outputs": [],
   "source": [
    "# MORE TRAINING\n",
    "\n",
    "# LOAD TRAINED MODEL\n",
    "\n",
    "try:\n",
    "    model.learn(total_timesteps=10_000_000, log_interval=8, tb_log_name=\"PlainDarmEnv\",\n",
    "                    callback=WandbCallback(model_save_path=f\"checkpoints/wandb/{run.id}\",\n",
    "                                           model_save_freq=10, verbose=2)\n",
    "               )\n",
    "    # Add calbacks\n",
    "except Exception as e:\n",
    "    print(\"Exception caught:\")\n",
    "    print(e)\n",
    "finally:\n",
    "    timestamp = f\"{datetime.now().date()}__{datetime.now().time()}\"\n",
    "    print(f\"Saving checkpoint {timestamp}\")\n",
    "    model_name = f\"./checkpoints/darm_sf_hand_{timestamp}\"\n",
    "    env_norm_name = f\"./checkpoints/darm_sf_hand_env_norm_{timestamp}\"\n",
    "    model.save(model_name)\n",
    "    # env.save(env_norm_name) # FIXME: Remember to save norm params if using VecNorm env\n",
    "    "
   ]
  },
  {
   "cell_type": "code",
   "execution_count": null,
   "id": "d27f256d",
   "metadata": {
    "tags": []
   },
   "outputs": [],
   "source": [
    "env.close()"
   ]
  },
  {
   "cell_type": "markdown",
   "id": "6923cae6-9497-4a2e-b9f8-db23ca6e1fae",
   "metadata": {},
   "source": [
    "### DONE TRAINING"
   ]
  },
  {
   "cell_type": "code",
   "execution_count": 144,
   "id": "c54a6abe-1b86-4682-9d7d-456dc1364ba8",
   "metadata": {},
   "outputs": [
    {
     "name": "stdout",
     "output_type": "stream",
     "text": [
      "/home/daniel/DARM/darm_mujoco/darm_training\n"
     ]
    }
   ],
   "source": [
    "!pwd"
   ]
  },
  {
   "cell_type": "code",
   "execution_count": 154,
   "id": "0e4596f3-355b-4200-9eb5-128405d6b914",
   "metadata": {
    "tags": []
   },
   "outputs": [
    {
     "name": "stdout",
     "output_type": "stream",
     "text": [
      "Loaded XML file successfully\n"
     ]
    },
    {
     "data": {
      "text/plain": [
       "<stable_baselines3.sac.sac.SAC at 0x7f22c9bab0a0>"
      ]
     },
     "execution_count": 154,
     "metadata": {},
     "output_type": "execute_result"
    }
   ],
   "source": [
    "model_name = \"./results/darm_sf_hand/model\"\n",
    "# env_norm_name = \"./checkpoints/darm_sf_hand_env_norm_2022-12-28__10:10:05.637581\"\n",
    "\n",
    "eval_env = make_vec_env(config[\"env_id\"], n_envs=1, seed=config[\"seed\"])\n",
    "# eval_env = DummyVecEnv([lambda: gym.make(\"darm/DarmSFHand-v0\", render_mode=\"human\", hand_name=\"hand1\")])\n",
    "# eval_env = gym.make(\"darm/DarmSFHand-v0\", render_mode=\"human\", hand_name=\"hand1\")\n",
    "\n",
    "eval_model = SAC.load(model_name, env=eval_env)\n",
    "eval_model"
   ]
  },
  {
   "cell_type": "code",
   "execution_count": 155,
   "id": "759192eb-a5d0-43e5-825a-8f550c09ad5e",
   "metadata": {},
   "outputs": [
    {
     "name": "stdout",
     "output_type": "stream",
     "text": [
      "1385.6010603 555.9812113953661\n"
     ]
    }
   ],
   "source": [
    "from stable_baselines3.common.evaluation import evaluate_policy\n",
    "\n",
    "# Evaluate the model with 10 evaluation episodes and deterministic=True\n",
    "mean_reward, std_reward = evaluate_policy(eval_model, env=eval_model.get_env(), \n",
    "                                          n_eval_episodes=10, deterministic=True)\n",
    "\n",
    "# Print the results\n",
    "print(mean_reward, std_reward)"
   ]
  },
  {
   "cell_type": "code",
   "execution_count": 141,
   "id": "c1818f92-c4f6-4af5-a1d3-1752af7e1806",
   "metadata": {},
   "outputs": [],
   "source": [
    "# env = DummyVecEnv([lambda: gym.make(\"darm/DarmSFHand-v0\", render_mode=\"human\", hand_name=\"hand1\")])\n",
    "\n",
    "# env = VecNormalize.load(env_norm_name, env)\n",
    "# env.training = False\n",
    "# print(\"Zero Norm: \", env.unnormalize_reward(-0.47959065))"
   ]
  },
  {
   "cell_type": "code",
   "execution_count": 153,
   "id": "cbec922f-40a9-4f6f-b7f8-99ebd5113835",
   "metadata": {
    "tags": []
   },
   "outputs": [
    {
     "name": "stdout",
     "output_type": "stream",
     "text": [
      "Loaded XML file successfully\n",
      "Episode Return: 0.19471649080514908 Episode Length: 200\n",
      "{'TimeLimit.truncated': True,\n",
      " 'action': array([0.1990543 , 0.96680355, 1.668639  , 0.48699266, 0.06523365],\n",
      "      dtype=float32),\n",
      " 'episode': {'l': 200, 'r': 0.194717, 't': 4.237415},\n",
      " 'model_action': array([[-0.8009457 , -0.03319645,  0.66863894, -0.51300734, -0.93476635]],\n",
      "      dtype=float32),\n",
      " 'reward': {'act_reg': -1.0000131130218506,\n",
      "            'bonus': array([0.]),\n",
      "            'dense': array([-0.11761407]),\n",
      "            'done': array([False]),\n",
      "            'penalty': array([-0.]),\n",
      "            'reach': array([-0.00880638]),\n",
      "            'solved': array([False]),\n",
      "            'sparse': array([-0.00880638])},\n",
      " 'sim_time': 16.154000000001925,\n",
      " 'terminal_observation': array([-0.01216627, -0.02088929,  0.07975191, -0.02060792, -0.02012741,\n",
      "        0.08214155])}\n"
     ]
    }
   ],
   "source": [
    "import pprint\n",
    "\n",
    "env = make_vec_env(config[\"env_id\"], n_envs=1, seed=config[\"seed\"], env_kwargs={\"render_mode\": \"human\"})\n",
    "# env = DummyVecEnv([lambda: gym.make(\"darm/DarmSFHand-v0\", render_mode=\"human\", hand_name=\"hand1\")])\n",
    "# env = gym.make(\"darm/DarmSFHand-v0\", render_mode=\"human\", hand_name=\"hand1\")\n",
    "\n",
    "obs = env.reset()\n",
    "episode_return = 0\n",
    "episode_length = 0\n",
    "N_EPISODES = 1\n",
    "\n",
    "for i in range(N_EPISODES):\n",
    "    done = False\n",
    "    while not done:\n",
    "        # env.render()\n",
    "        action, _states = eval_model.predict(obs, deterministic=True)\n",
    "        obs, reward, done, info = env.step(action)\n",
    "        episode_return += reward[0]\n",
    "        episode_length += 1\n",
    "        done = done[0]\n",
    "        \n",
    "    print(f\"Episode Return: {episode_return} Episode Length: {episode_length}\")\n",
    "    info[0][\"model_action\"] = action\n",
    "    pprint.pprint(info[0])\n",
    "    # info[\"model_action\"] = action\n",
    "    # pprint.pprint(info)\n",
    "    \n",
    "    done = False\n",
    "    episode_return = 0\n",
    "    episode_length = 0\n",
    "\n",
    "env.close()"
   ]
  },
  {
   "cell_type": "code",
   "execution_count": 9,
   "id": "8f67ea17-a30b-4b6c-a9ea-0bc5da32959a",
   "metadata": {},
   "outputs": [],
   "source": [
    "import numpy as np\n",
    "def norm_to_target(obs):\n",
    "    \"\"\"\n",
    "    Returns the norm of each fingertip to the target position\n",
    "    obs: an observation from the observation space [...fingertip_pos, ...target_pos]\n",
    "    \"\"\"\n",
    "    obs = obs.reshape((-1, 3))\n",
    "    n_fingertips = len(obs)//2\n",
    "\n",
    "    fingertip_poses = obs[0:n_fingertips]\n",
    "    target_poses = obs[n_fingertips:]\n",
    "\n",
    "    return np.linalg.norm(fingertip_poses-target_poses, ord=2, axis=-1)"
   ]
  },
  {
   "cell_type": "code",
   "execution_count": 10,
   "id": "b82aebaa-ee94-4d80-86b6-af957ff7ebb0",
   "metadata": {},
   "outputs": [
    {
     "name": "stdout",
     "output_type": "stream",
     "text": [
      "Num Steps: 100\n",
      "Episode Return: [-206.27367]\n",
      "Episode Return Norm: [-6.1579084]\n",
      "\n",
      "\n",
      "Num Steps: 7\n",
      "Episode Return: [238.47386]\n",
      "Episode Return Norm: [7.1191816]\n",
      "Goal Reached!\n",
      "\n",
      "\n",
      "Num Steps: 100\n",
      "Episode Return: [-112.209465]\n",
      "Episode Return Norm: [-3.3497994]\n",
      "\n",
      "\n",
      "Num Steps: 29\n",
      "Episode Return: [194.17151]\n",
      "Episode Return Norm: [5.7966194]\n",
      "Goal Reached!\n",
      "\n",
      "\n",
      "Num Steps: 100\n",
      "Episode Return: [-154.97745]\n",
      "Episode Return Norm: [-4.6265574]\n",
      "\n",
      "\n",
      "Num Steps: 4\n",
      "Episode Return: [243.22809]\n",
      "Episode Return Norm: [7.2611094]\n",
      "Goal Reached!\n",
      "\n",
      "\n",
      "Num Steps: 100\n",
      "Episode Return: [-204.50894]\n",
      "Episode Return Norm: [-6.1052227]\n",
      "\n",
      "\n",
      "Num Steps: 100\n",
      "Episode Return: [-108.443665]\n",
      "Episode Return Norm: [-3.2373753]\n",
      "\n",
      "\n",
      "Num Steps: 100\n",
      "Episode Return: [-206.46591]\n",
      "Episode Return Norm: [-6.163656]\n",
      "\n",
      "\n",
      "Num Steps: 100\n",
      "Episode Return: [-206.59006]\n",
      "Episode Return Norm: [-6.167353]\n",
      "\n",
      "\n"
     ]
    }
   ],
   "source": [
    "obs = env.reset()\n",
    "episode_return = 0\n",
    "N_EPISODES = 10\n",
    "\n",
    "for i in range(N_EPISODES):\n",
    "  obs = env.reset()\n",
    "  done = False\n",
    "  episode_steps = 0\n",
    "  episode_return = 0\n",
    "  episode_return_norm = 0\n",
    "\n",
    "  \n",
    "  while not done:\n",
    "    # print(\"Observation: \", env.unnormalize_obs(obs))\n",
    "    old_norm = norm_to_target(env.unnormalize_obs(obs))\n",
    "\n",
    "    action, _states = model.predict(obs, deterministic=True)\n",
    "    # print(\"Action: \", action)\n",
    "\n",
    "    obs, reward, done, info = env.step(action)\n",
    "    episode_steps += 1\n",
    "    new_norm = norm_to_target(env.unnormalize_obs(obs))\n",
    "\n",
    "    # Get actual reward\n",
    "    unnormalized_reward = env.unnormalize_reward(reward)\n",
    "    episode_return += unnormalized_reward\n",
    "    episode_return_norm += reward\n",
    "    # print(f\"Reward: {unnormalized_reward}; Normalized: {reward}\")\n",
    "\n",
    "    # print(f\"Next Observation: {env.unnormalize_obs(obs)}\")\n",
    "    # print(f\"Change in Norm: {new_norm - old_norm}\")\n",
    "    # print(\"-----------------------------------------------------\")\n",
    "\n",
    "    # render\n",
    "    env.render()\n",
    "  \n",
    "  print(f\"Num Steps: {episode_steps}\")\n",
    "  print(f\"Episode Return: {episode_return}\")\n",
    "  print(f\"Episode Return Norm: {episode_return_norm}\")\n",
    "  if episode_return > -70: \n",
    "    print(\"Goal Reached!\")\n",
    "  print(\"\\n\")\n",
    "\n",
    "env.close()"
   ]
  }
 ],
 "metadata": {
  "kernelspec": {
   "display_name": "Python 3",
   "language": "python",
   "name": "python3"
  },
  "language_info": {
   "codemirror_mode": {
    "name": "ipython",
    "version": 3
   },
   "file_extension": ".py",
   "mimetype": "text/x-python",
   "name": "python",
   "nbconvert_exporter": "python",
   "pygments_lexer": "ipython3",
   "version": "3.8.12"
  },
  "vscode": {
   "interpreter": {
    "hash": "f502c9f8cc810ebd22b57e7c79a9d06f7b7c060e6ecfb4908c78b2fe1d232067"
   }
  }
 },
 "nbformat": 4,
 "nbformat_minor": 5
}
