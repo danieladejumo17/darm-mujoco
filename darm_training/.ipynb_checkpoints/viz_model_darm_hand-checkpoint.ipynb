{
 "cells": [
  {
   "cell_type": "code",
   "execution_count": 1,
   "id": "e981fd21-f5de-4e4b-9165-e4bf2fe0cdc9",
   "metadata": {
    "tags": []
   },
   "outputs": [
    {
     "name": "stdout",
     "output_type": "stream",
     "text": [
      "env: MUJOCO_GL=egl\n"
     ]
    }
   ],
   "source": [
    "%env MUJOCO_GL=egl\n",
    "import mujoco"
   ]
  },
  {
   "cell_type": "code",
   "execution_count": 2,
   "id": "be67d100-4239-478d-a0f7-8a52b3b2b869",
   "metadata": {
    "tags": []
   },
   "outputs": [],
   "source": [
    "# !command -v ffmpeg >/dev/null || (apt update && apt install -y ffmpeg)\n",
    "# !pip install -q mediapy\n",
    "# import mediapy as media"
   ]
  },
  {
   "cell_type": "code",
   "execution_count": 2,
   "id": "20c24d71-2076-429d-8454-add907355101",
   "metadata": {
    "tags": []
   },
   "outputs": [],
   "source": [
    "import os\n",
    "DARM_XML_FILE = f\"{os.getenv('DARM_MUJOCO_PATH')}/mujoco_env/darm.xml\"\n",
    "xml_path = DARM_XML_FILE\n",
    "\n",
    "model = mujoco.MjModel.from_xml_path(xml_path)\n",
    "data = mujoco.MjData(model)\n",
    "renderer = mujoco.Renderer(model)"
   ]
  },
  {
   "cell_type": "code",
   "execution_count": 4,
   "id": "89589b6d-aa85-49fe-a52d-c02b7bf81853",
   "metadata": {
    "tags": []
   },
   "outputs": [
    {
     "data": {
      "text/html": [
       "<table class=\"show_images\" style=\"border-spacing:0px;\"><tr><td style=\"padding:1px;\"><img width=\"320\" height=\"240\" style=\"image-rendering:auto; object-fit:cover;\" src=\"data:image/png;base64,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\"/></td></tr></table>"
      ],
      "text/plain": [
       "<IPython.core.display.HTML object>"
      ]
     },
     "metadata": {},
     "output_type": "display_data"
    }
   ],
   "source": [
    "mujoco.mj_forward(model, data)\n",
    "renderer.update_scene(data)\n",
    "\n",
    "media.show_image(renderer.render())"
   ]
  },
  {
   "cell_type": "code",
   "execution_count": 3,
   "id": "aa2a41f5-4edc-41fb-993b-052a4ef81403",
   "metadata": {
    "tags": []
   },
   "outputs": [],
   "source": [
    "import gym\n",
    "from darm_gym_env import DARMEnv"
   ]
  },
  {
   "cell_type": "code",
   "execution_count": 4,
   "id": "f5fb5599-1dba-4dea-9a11-8bbcfc2182cf",
   "metadata": {
    "tags": []
   },
   "outputs": [
    {
     "name": "stdout",
     "output_type": "stream",
     "text": [
      "Loaded XML file successfully\n"
     ]
    },
    {
     "name": "stderr",
     "output_type": "stream",
     "text": [
      "/opt/conda/lib/python3.10/site-packages/gym-0.21.0-py3.10.egg/gym/spaces/box.py:73: UserWarning: \u001b[33mWARN: Box bound precision lowered by casting to float32\u001b[0m\n",
      "  logger.warn(\n"
     ]
    }
   ],
   "source": [
    "env = gym.make(\"darm/DarmHand-v0\", render_mode=None, hand_name=\"hand1\",\n",
    "               single_finger_env=True)"
   ]
  },
  {
   "cell_type": "code",
   "execution_count": null,
   "id": "fb37c133-66a6-463f-a841-71c788876593",
   "metadata": {},
   "outputs": [],
   "source": []
  }
 ],
 "metadata": {
  "kernelspec": {
   "display_name": "Python 3 (ipykernel)",
   "language": "python",
   "name": "python3"
  },
  "language_info": {
   "codemirror_mode": {
    "name": "ipython",
    "version": 3
   },
   "file_extension": ".py",
   "mimetype": "text/x-python",
   "name": "python",
   "nbconvert_exporter": "python",
   "pygments_lexer": "ipython3",
   "version": "3.10.8"
  }
 },
 "nbformat": 4,
 "nbformat_minor": 5
}
