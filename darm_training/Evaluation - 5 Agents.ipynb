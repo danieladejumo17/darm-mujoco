{
 "cells": [
  {
   "cell_type": "code",
   "execution_count": 1,
   "id": "31a60be7-f935-400c-9923-6f2bfd5b7571",
   "metadata": {
    "tags": []
   },
   "outputs": [],
   "source": [
    "import os\n",
    "import gym\n",
    "from darm_gym_env import DARMEnv\n",
    "from stable_baselines3 import SAC\n",
    "from stable_baselines3.common.vec_env.subproc_vec_env import SubprocVecEnv\n",
    "from stable_baselines3.common.vec_env.vec_monitor import VecMonitor\n",
    "from stable_baselines3.common.vec_env.vec_normalize import VecNormalize\n",
    "from stable_baselines3.common.vec_env.dummy_vec_env import DummyVecEnv\n",
    "from stable_baselines3.common.env_util import make_vec_env\n",
    "\n",
    "import wandb\n",
    "from wandb.integration.sb3 import WandbCallback\n",
    "from stable_baselines3.common.callbacks import CallbackList, EvalCallback, StopTrainingOnRewardThreshold, StopTrainingOnNoModelImprovement\n",
    "\n",
    "\n",
    "from datetime import datetime"
   ]
  },
  {
   "cell_type": "markdown",
   "id": "e95aa84d-cba5-4225-9eaf-e211e95177e8",
   "metadata": {},
   "source": [
    "### Load Models"
   ]
  },
  {
   "cell_type": "code",
   "execution_count": 5,
   "id": "a4c563d2-bc1c-4c8d-8286-24205fd66c14",
   "metadata": {},
   "outputs": [
    {
     "data": {
      "text/plain": [
       "<stable_baselines3.sac.sac.SAC at 0x7f9c90abf0d0>"
      ]
     },
     "execution_count": 5,
     "metadata": {},
     "output_type": "execute_result"
    }
   ],
   "source": [
    "env_tag = \"di\"\n",
    "run_name = f\"SB3_SAC_{env_tag}_position\"\n",
    "run_local_dir = f\"{os.getenv('DARM_MUJOCO_PATH')}/darm_training/results/{env_tag}/{run_name}\"\n",
    "\n",
    "model_name_i = f\"{run_local_dir}/models/best/best_model\"\n",
    "eval_model_i = SAC.load(model_name_i)\n",
    "eval_model_i"
   ]
  },
  {
   "cell_type": "code",
   "execution_count": 6,
   "id": "6ef88d7d-2fde-4881-adcf-5fe2ec0e10ac",
   "metadata": {},
   "outputs": [
    {
     "data": {
      "text/plain": [
       "<stable_baselines3.sac.sac.SAC at 0x7f9c90abf880>"
      ]
     },
     "execution_count": 6,
     "metadata": {},
     "output_type": "execute_result"
    }
   ],
   "source": [
    "env_tag = \"dii\"\n",
    "run_name = f\"SB3_SAC_{env_tag}_position_2\"\n",
    "run_local_dir = f\"{os.getenv('DARM_MUJOCO_PATH')}/darm_training/results/{env_tag}/{run_name}\"\n",
    "\n",
    "model_name_ii = f\"{run_local_dir}/models/best/best_model\"\n",
    "eval_model_ii = SAC.load(model_name_i)\n",
    "eval_model_ii"
   ]
  },
  {
   "cell_type": "code",
   "execution_count": 7,
   "id": "abd5a6c5-be06-47ef-907f-fa10b1a92f98",
   "metadata": {},
   "outputs": [
    {
     "data": {
      "text/plain": [
       "<stable_baselines3.sac.sac.SAC at 0x7f9c92386310>"
      ]
     },
     "execution_count": 7,
     "metadata": {},
     "output_type": "execute_result"
    }
   ],
   "source": [
    "env_tag = \"diii\"\n",
    "run_name = f\"SB3_SAC_{env_tag}_position\"\n",
    "run_local_dir = f\"{os.getenv('DARM_MUJOCO_PATH')}/darm_training/results/{env_tag}/{run_name}\"\n",
    "\n",
    "model_name_iii = f\"{run_local_dir}/models/best/best_model\"\n",
    "eval_model_iii = SAC.load(model_name_i)\n",
    "eval_model_iii"
   ]
  },
  {
   "cell_type": "code",
   "execution_count": 8,
   "id": "e2f1d8ca-8b1f-4318-8eef-6ebe5ce011c2",
   "metadata": {},
   "outputs": [
    {
     "data": {
      "text/plain": [
       "<stable_baselines3.sac.sac.SAC at 0x7f9c8435bd90>"
      ]
     },
     "execution_count": 8,
     "metadata": {},
     "output_type": "execute_result"
    }
   ],
   "source": [
    "env_tag = \"div\"\n",
    "run_name = f\"SB3_SAC_{env_tag}_position\"\n",
    "run_local_dir = f\"{os.getenv('DARM_MUJOCO_PATH')}/darm_training/results/{env_tag}/{run_name}\"\n",
    "\n",
    "model_name_iv = f\"{run_local_dir}/models/best/best_model\"\n",
    "eval_model_iv = SAC.load(model_name_i)\n",
    "eval_model_iv"
   ]
  },
  {
   "cell_type": "code",
   "execution_count": 9,
   "id": "07a643de-dc1e-45ea-8285-9dde2be75bb1",
   "metadata": {},
   "outputs": [
    {
     "data": {
      "text/plain": [
       "<stable_baselines3.sac.sac.SAC at 0x7f9c92386130>"
      ]
     },
     "execution_count": 9,
     "metadata": {},
     "output_type": "execute_result"
    }
   ],
   "source": [
    "env_tag = \"dv\"\n",
    "run_name = f\"SB3_SAC_{env_tag}_position\"\n",
    "run_local_dir = f\"{os.getenv('DARM_MUJOCO_PATH')}/darm_training/results/{env_tag}/{run_name}\"\n",
    "\n",
    "model_name_v = f\"{run_local_dir}/models/best/best_model\"\n",
    "eval_model_v = SAC.load(model_name_i)\n",
    "eval_model_v"
   ]
  },
  {
   "cell_type": "code",
   "execution_count": null,
   "id": "2f63330b-abcf-4819-8f19-dd1b135f0c70",
   "metadata": {},
   "outputs": [],
   "source": []
  }
 ],
 "metadata": {
  "kernelspec": {
   "display_name": "Python 3",
   "language": "python",
   "name": "python3"
  },
  "language_info": {
   "codemirror_mode": {
    "name": "ipython",
    "version": 3
   },
   "file_extension": ".py",
   "mimetype": "text/x-python",
   "name": "python",
   "nbconvert_exporter": "python",
   "pygments_lexer": "ipython3",
   "version": "3.8.12"
  }
 },
 "nbformat": 4,
 "nbformat_minor": 5
}
