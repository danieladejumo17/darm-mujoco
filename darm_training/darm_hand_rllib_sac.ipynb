{
 "cells": [
  {
   "cell_type": "markdown",
   "id": "799cc8cb-e1a5-4a58-a984-efc11326303e",
   "metadata": {},
   "source": [
    "## Installation and Imports"
   ]
  },
  {
   "cell_type": "code",
   "execution_count": 1,
   "id": "d23a9220-2972-4248-9c15-0f55802c4359",
   "metadata": {},
   "outputs": [
    {
     "name": "stdout",
     "output_type": "stream",
     "text": [
      "/home/daniel/DARM/darm_mujoco/darm_training\n"
     ]
    }
   ],
   "source": [
    "!pwd"
   ]
  },
  {
   "cell_type": "code",
   "execution_count": 2,
   "id": "f874e73d-f740-45bf-bed4-117e846ac0f2",
   "metadata": {},
   "outputs": [
    {
     "data": {
      "text/plain": [
       "'/home/daniel/DARM/darm_mujoco'"
      ]
     },
     "execution_count": 2,
     "metadata": {},
     "output_type": "execute_result"
    }
   ],
   "source": [
    "# Configure env variables\n",
    "\n",
    "# TODO: change path\n",
    "import os\n",
    "os.environ[\"DARM_MUJOCO_PATH\"] = \"/workspace/darm-mujoco\"\n",
    "os.getenv('DARM_MUJOCO_PATH')"
   ]
  },
  {
   "cell_type": "code",
   "execution_count": 3,
   "id": "1faaeaf7-f077-4e44-a4aa-4e81374219e6",
   "metadata": {},
   "outputs": [
    {
     "name": "stdout",
     "output_type": "stream",
     "text": [
      "gcc (Ubuntu 7.5.0-3ubuntu1~18.04) 7.5.0\n",
      "Copyright (C) 2017 Free Software Foundation, Inc.\n",
      "This is free software; see the source for copying conditions.  There is NO\n",
      "warranty; not even for MERCHANTABILITY or FITNESS FOR A PARTICULAR PURPOSE.\n",
      "\n"
     ]
    }
   ],
   "source": [
    "# Check if GCC is installed\n",
    "!gcc --version"
   ]
  },
  {
   "cell_type": "code",
   "execution_count": null,
   "id": "d95b2f04-9248-4bc8-91dd-334075cf0646",
   "metadata": {},
   "outputs": [],
   "source": [
    "# Install GCC if absent\n",
    "!sudo apt update\n",
    "!sudo apt install build-essential -y"
   ]
  },
  {
   "cell_type": "code",
   "execution_count": null,
   "id": "e4f22778-56c3-4fea-a3de-6e4ac487ea84",
   "metadata": {},
   "outputs": [],
   "source": [
    "# # Setup Mujoco for gym - If needed\n",
    "# !apt-get install -y \\\n",
    "#     libgl1-mesa-dev \\\n",
    "#     libgl1-mesa-glx \\\n",
    "#     libglew-dev \\\n",
    "#     libosmesa6-dev \\\n",
    "#     software-properties-common\n",
    "\n",
    "# !apt-get install -y patchelf\n",
    "\n",
    "# !pip install gym\n",
    "\n",
    "# !pip install free-mujoco-py\n",
    "\n",
    "# import mujoco_py\n",
    "# import gym"
   ]
  },
  {
   "cell_type": "code",
   "execution_count": 3,
   "id": "b21d33a5-8591-4a1c-891e-a71073ff1c91",
   "metadata": {
    "collapsed": true,
    "jupyter": {
     "outputs_hidden": true
    },
    "tags": []
   },
   "outputs": [
    {
     "name": "stdout",
     "output_type": "stream",
     "text": [
      "Requirement already satisfied: ray[rllib] in /home/daniel/miniconda3/lib/python3.8/site-packages (2.2.0)\n",
      "Requirement already satisfied: torch in /home/daniel/miniconda3/lib/python3.8/site-packages (1.13.1)\n",
      "Requirement already satisfied: pyyaml in /home/daniel/miniconda3/lib/python3.8/site-packages (from ray[rllib]) (6.0)\n",
      "Requirement already satisfied: click>=7.0 in /home/daniel/miniconda3/lib/python3.8/site-packages (from ray[rllib]) (8.1.3)\n",
      "Requirement already satisfied: numpy>=1.16 in /home/daniel/miniconda3/lib/python3.8/site-packages (from ray[rllib]) (1.23.4)\n",
      "Requirement already satisfied: grpcio>=1.32.0 in /home/daniel/miniconda3/lib/python3.8/site-packages (from ray[rllib]) (1.51.1)\n",
      "Requirement already satisfied: msgpack<2.0.0,>=1.0.0 in /home/daniel/miniconda3/lib/python3.8/site-packages (from ray[rllib]) (1.0.4)\n",
      "Requirement already satisfied: filelock in /home/daniel/miniconda3/lib/python3.8/site-packages (from ray[rllib]) (3.8.2)\n",
      "Requirement already satisfied: aiosignal in /home/daniel/miniconda3/lib/python3.8/site-packages (from ray[rllib]) (1.3.1)\n",
      "Requirement already satisfied: jsonschema in /home/daniel/miniconda3/lib/python3.8/site-packages (from ray[rllib]) (4.17.3)\n",
      "Requirement already satisfied: virtualenv>=20.0.24 in /home/daniel/miniconda3/lib/python3.8/site-packages (from ray[rllib]) (20.17.1)\n",
      "Requirement already satisfied: attrs in /home/daniel/miniconda3/lib/python3.8/site-packages (from ray[rllib]) (22.2.0)\n",
      "Requirement already satisfied: requests in /home/daniel/miniconda3/lib/python3.8/site-packages (from ray[rllib]) (2.27.1)\n",
      "Requirement already satisfied: frozenlist in /home/daniel/miniconda3/lib/python3.8/site-packages (from ray[rllib]) (1.3.3)\n",
      "Requirement already satisfied: protobuf!=3.19.5,>=3.15.3 in /home/daniel/miniconda3/lib/python3.8/site-packages (from ray[rllib]) (3.20.1)\n",
      "Requirement already satisfied: scikit-image in /home/daniel/miniconda3/lib/python3.8/site-packages (from ray[rllib]) (0.19.3)\n",
      "Requirement already satisfied: tensorboardX>=1.9 in /home/daniel/miniconda3/lib/python3.8/site-packages (from ray[rllib]) (2.5.1)\n",
      "Requirement already satisfied: matplotlib!=3.4.3 in /home/daniel/miniconda3/lib/python3.8/site-packages (from ray[rllib]) (3.6.1)\n",
      "Requirement already satisfied: scipy in /home/daniel/miniconda3/lib/python3.8/site-packages (from ray[rllib]) (1.9.2)\n",
      "Requirement already satisfied: tabulate in /home/daniel/miniconda3/lib/python3.8/site-packages (from ray[rllib]) (0.9.0)\n",
      "Requirement already satisfied: typer in /home/daniel/miniconda3/lib/python3.8/site-packages (from ray[rllib]) (0.7.0)\n",
      "Requirement already satisfied: gym<0.24.0,>=0.21.0 in /home/daniel/miniconda3/lib/python3.8/site-packages (from ray[rllib]) (0.21.0)\n",
      "Requirement already satisfied: lz4 in /home/daniel/miniconda3/lib/python3.8/site-packages (from ray[rllib]) (4.0.2)\n",
      "Requirement already satisfied: pandas in /home/daniel/miniconda3/lib/python3.8/site-packages (from ray[rllib]) (1.5.2)\n",
      "Requirement already satisfied: rich in /home/daniel/miniconda3/lib/python3.8/site-packages (from ray[rllib]) (12.6.0)\n",
      "Requirement already satisfied: dm-tree in /home/daniel/miniconda3/lib/python3.8/site-packages (from ray[rllib]) (0.1.8)\n",
      "Requirement already satisfied: typing_extensions in /home/daniel/miniconda3/lib/python3.8/site-packages (from torch) (4.4.0)\n",
      "Requirement already satisfied: cloudpickle>=1.2.0 in /home/daniel/miniconda3/lib/python3.8/site-packages (from gym<0.24.0,>=0.21.0->ray[rllib]) (2.2.0)\n",
      "Requirement already satisfied: python-dateutil>=2.7 in /home/daniel/miniconda3/lib/python3.8/site-packages (from matplotlib!=3.4.3->ray[rllib]) (2.8.2)\n",
      "Requirement already satisfied: contourpy>=1.0.1 in /home/daniel/miniconda3/lib/python3.8/site-packages (from matplotlib!=3.4.3->ray[rllib]) (1.0.5)\n",
      "Requirement already satisfied: pyparsing>=2.2.1 in /home/daniel/miniconda3/lib/python3.8/site-packages (from matplotlib!=3.4.3->ray[rllib]) (3.0.9)\n",
      "Requirement already satisfied: cycler>=0.10 in /home/daniel/miniconda3/lib/python3.8/site-packages (from matplotlib!=3.4.3->ray[rllib]) (0.11.0)\n",
      "Requirement already satisfied: fonttools>=4.22.0 in /home/daniel/miniconda3/lib/python3.8/site-packages (from matplotlib!=3.4.3->ray[rllib]) (4.37.4)\n",
      "Requirement already satisfied: kiwisolver>=1.0.1 in /home/daniel/miniconda3/lib/python3.8/site-packages (from matplotlib!=3.4.3->ray[rllib]) (1.4.4)\n",
      "Requirement already satisfied: packaging>=20.0 in /home/daniel/miniconda3/lib/python3.8/site-packages (from matplotlib!=3.4.3->ray[rllib]) (21.3)\n",
      "Requirement already satisfied: pillow>=6.2.0 in /home/daniel/miniconda3/lib/python3.8/site-packages (from matplotlib!=3.4.3->ray[rllib]) (9.3.0)\n",
      "Requirement already satisfied: six>=1.5 in /home/daniel/miniconda3/lib/python3.8/site-packages (from python-dateutil>=2.7->matplotlib!=3.4.3->ray[rllib]) (1.12.0)\n",
      "Requirement already satisfied: distlib<1,>=0.3.6 in /home/daniel/miniconda3/lib/python3.8/site-packages (from virtualenv>=20.0.24->ray[rllib]) (0.3.6)\n",
      "Requirement already satisfied: platformdirs<3,>=2.4 in /home/daniel/miniconda3/lib/python3.8/site-packages (from virtualenv>=20.0.24->ray[rllib]) (2.6.0)\n",
      "Requirement already satisfied: pkgutil-resolve-name>=1.3.10 in /home/daniel/miniconda3/lib/python3.8/site-packages (from jsonschema->ray[rllib]) (1.3.10)\n",
      "Requirement already satisfied: pyrsistent!=0.17.0,!=0.17.1,!=0.17.2,>=0.14.0 in /home/daniel/miniconda3/lib/python3.8/site-packages (from jsonschema->ray[rllib]) (0.19.2)\n",
      "Requirement already satisfied: importlib-resources>=1.4.0 in /home/daniel/miniconda3/lib/python3.8/site-packages (from jsonschema->ray[rllib]) (5.10.1)\n",
      "Requirement already satisfied: zipp>=3.1.0 in /home/daniel/miniconda3/lib/python3.8/site-packages (from importlib-resources>=1.4.0->jsonschema->ray[rllib]) (3.11.0)\n",
      "Requirement already satisfied: pytz>=2020.1 in /home/daniel/miniconda3/lib/python3.8/site-packages (from pandas->ray[rllib]) (2022.7)\n",
      "Requirement already satisfied: urllib3<1.27,>=1.21.1 in /home/daniel/miniconda3/lib/python3.8/site-packages (from requests->ray[rllib]) (1.26.14)\n",
      "Requirement already satisfied: certifi>=2017.4.17 in /home/daniel/miniconda3/lib/python3.8/site-packages (from requests->ray[rllib]) (2022.12.7)\n",
      "Requirement already satisfied: charset-normalizer~=2.0.0 in /home/daniel/miniconda3/lib/python3.8/site-packages (from requests->ray[rllib]) (2.0.4)\n",
      "Requirement already satisfied: idna<4,>=2.5 in /home/daniel/miniconda3/lib/python3.8/site-packages (from requests->ray[rllib]) (3.3)\n",
      "Requirement already satisfied: pygments<3.0.0,>=2.6.0 in /home/daniel/miniconda3/lib/python3.8/site-packages (from rich->ray[rllib]) (2.13.0)\n",
      "Requirement already satisfied: commonmark<0.10.0,>=0.9.0 in /home/daniel/miniconda3/lib/python3.8/site-packages (from rich->ray[rllib]) (0.9.1)\n",
      "Requirement already satisfied: networkx>=2.2 in /home/daniel/miniconda3/lib/python3.8/site-packages (from scikit-image->ray[rllib]) (2.8.8)\n",
      "Requirement already satisfied: PyWavelets>=1.1.1 in /home/daniel/miniconda3/lib/python3.8/site-packages (from scikit-image->ray[rllib]) (1.4.1)\n",
      "Requirement already satisfied: tifffile>=2019.7.26 in /home/daniel/miniconda3/lib/python3.8/site-packages (from scikit-image->ray[rllib]) (2022.10.10)\n",
      "Requirement already satisfied: imageio>=2.4.1 in /home/daniel/miniconda3/lib/python3.8/site-packages (from scikit-image->ray[rllib]) (2.23.0)\n",
      "Requirement already satisfied: wandb in /home/daniel/miniconda3/lib/python3.8/site-packages (0.13.10)\n",
      "Requirement already satisfied: psutil>=5.0.0 in /home/daniel/miniconda3/lib/python3.8/site-packages (from wandb) (5.9.4)\n",
      "Requirement already satisfied: Click!=8.0.0,>=7.0 in /home/daniel/miniconda3/lib/python3.8/site-packages (from wandb) (8.1.3)\n",
      "Requirement already satisfied: protobuf!=4.21.0,<5,>=3.12.0 in /home/daniel/miniconda3/lib/python3.8/site-packages (from wandb) (3.20.1)\n",
      "Requirement already satisfied: setproctitle in /home/daniel/miniconda3/lib/python3.8/site-packages (from wandb) (1.3.2)\n",
      "Requirement already satisfied: sentry-sdk>=1.0.0 in /home/daniel/miniconda3/lib/python3.8/site-packages (from wandb) (1.15.0)\n",
      "Requirement already satisfied: PyYAML in /home/daniel/miniconda3/lib/python3.8/site-packages (from wandb) (6.0)\n",
      "Requirement already satisfied: setuptools in /home/daniel/miniconda3/lib/python3.8/site-packages (from wandb) (65.6.3)\n",
      "Requirement already satisfied: docker-pycreds>=0.4.0 in /home/daniel/miniconda3/lib/python3.8/site-packages (from wandb) (0.4.0)\n",
      "Requirement already satisfied: appdirs>=1.4.3 in /home/daniel/miniconda3/lib/python3.8/site-packages (from wandb) (1.4.4)\n",
      "Requirement already satisfied: GitPython>=1.0.0 in /home/daniel/miniconda3/lib/python3.8/site-packages (from wandb) (3.1.30)\n",
      "Requirement already satisfied: typing-extensions in /home/daniel/miniconda3/lib/python3.8/site-packages (from wandb) (4.4.0)\n",
      "Requirement already satisfied: requests<3,>=2.0.0 in /home/daniel/miniconda3/lib/python3.8/site-packages (from wandb) (2.27.1)\n",
      "Requirement already satisfied: pathtools in /home/daniel/miniconda3/lib/python3.8/site-packages (from wandb) (0.1.2)\n",
      "Requirement already satisfied: six>=1.4.0 in /home/daniel/miniconda3/lib/python3.8/site-packages (from docker-pycreds>=0.4.0->wandb) (1.12.0)\n",
      "Requirement already satisfied: gitdb<5,>=4.0.1 in /home/daniel/miniconda3/lib/python3.8/site-packages (from GitPython>=1.0.0->wandb) (4.0.10)\n",
      "Requirement already satisfied: smmap<6,>=3.0.1 in /home/daniel/miniconda3/lib/python3.8/site-packages (from gitdb<5,>=4.0.1->GitPython>=1.0.0->wandb) (5.0.0)\n",
      "Requirement already satisfied: urllib3<1.27,>=1.21.1 in /home/daniel/miniconda3/lib/python3.8/site-packages (from requests<3,>=2.0.0->wandb) (1.26.14)\n",
      "Requirement already satisfied: certifi>=2017.4.17 in /home/daniel/miniconda3/lib/python3.8/site-packages (from requests<3,>=2.0.0->wandb) (2022.12.7)\n",
      "Requirement already satisfied: idna<4,>=2.5 in /home/daniel/miniconda3/lib/python3.8/site-packages (from requests<3,>=2.0.0->wandb) (3.3)\n",
      "Requirement already satisfied: charset-normalizer~=2.0.0 in /home/daniel/miniconda3/lib/python3.8/site-packages (from requests<3,>=2.0.0->wandb) (2.0.4)\n",
      "Requirement already satisfied: tensorflow_probability in /home/daniel/miniconda3/lib/python3.8/site-packages (0.19.0)\n",
      "Requirement already satisfied: cloudpickle>=1.3 in /home/daniel/miniconda3/lib/python3.8/site-packages (from tensorflow_probability) (2.2.0)\n",
      "Requirement already satisfied: absl-py in /home/daniel/miniconda3/lib/python3.8/site-packages (from tensorflow_probability) (1.2.0)\n",
      "Requirement already satisfied: six>=1.10.0 in /home/daniel/miniconda3/lib/python3.8/site-packages (from tensorflow_probability) (1.12.0)\n",
      "Requirement already satisfied: numpy>=1.13.3 in /home/daniel/miniconda3/lib/python3.8/site-packages (from tensorflow_probability) (1.23.4)\n",
      "Requirement already satisfied: gast>=0.3.2 in /home/daniel/miniconda3/lib/python3.8/site-packages (from tensorflow_probability) (0.5.3)\n",
      "Requirement already satisfied: decorator in /home/daniel/miniconda3/lib/python3.8/site-packages (from tensorflow_probability) (5.1.1)\n",
      "Requirement already satisfied: dm-tree in /home/daniel/miniconda3/lib/python3.8/site-packages (from tensorflow_probability) (0.1.8)\n"
     ]
    }
   ],
   "source": [
    "!pip install ray[rllib] torch\n",
    "!pip install wandb\n",
    "!pip install tensorflow_probability"
   ]
  },
  {
   "cell_type": "code",
   "execution_count": 4,
   "id": "773175aa-0f05-4ed7-80e3-bd401c43d56d",
   "metadata": {
    "collapsed": true,
    "jupyter": {
     "outputs_hidden": true
    },
    "tags": []
   },
   "outputs": [
    {
     "name": "stdout",
     "output_type": "stream",
     "text": [
      "/home/daniel/DARM/darm_mujoco\n",
      "running install\n",
      "/home/daniel/miniconda3/lib/python3.8/site-packages/setuptools/command/install.py:34: SetuptoolsDeprecationWarning: setup.py install is deprecated. Use build and pip and other standards-based tools.\n",
      "  warnings.warn(\n",
      "/home/daniel/miniconda3/lib/python3.8/site-packages/setuptools/command/easy_install.py:144: EasyInstallDeprecationWarning: easy_install command is deprecated. Use build and pip and other standards-based tools.\n",
      "  warnings.warn(\n",
      "running bdist_egg\n",
      "running egg_info\n",
      "writing darm_gym_env.egg-info/PKG-INFO\n",
      "writing dependency_links to darm_gym_env.egg-info/dependency_links.txt\n",
      "writing requirements to darm_gym_env.egg-info/requires.txt\n",
      "writing top-level names to darm_gym_env.egg-info/top_level.txt\n",
      "reading manifest file 'darm_gym_env.egg-info/SOURCES.txt'\n",
      "writing manifest file 'darm_gym_env.egg-info/SOURCES.txt'\n",
      "installing library code to build/bdist.linux-x86_64/egg\n",
      "running install_lib\n",
      "running build_py\n",
      "creating build/bdist.linux-x86_64/egg\n",
      "creating build/bdist.linux-x86_64/egg/darm_gym_env\n",
      "copying build/lib/darm_gym_env/darm_sf_gym.py -> build/bdist.linux-x86_64/egg/darm_gym_env\n",
      "copying build/lib/darm_gym_env/__init__.py -> build/bdist.linux-x86_64/egg/darm_gym_env\n",
      "copying build/lib/darm_gym_env/multi_darm_gym.py -> build/bdist.linux-x86_64/egg/darm_gym_env\n",
      "copying build/lib/darm_gym_env/darm_gym.py -> build/bdist.linux-x86_64/egg/darm_gym_env\n",
      "copying build/lib/darm_gym_env/env_test.py -> build/bdist.linux-x86_64/egg/darm_gym_env\n",
      "byte-compiling build/bdist.linux-x86_64/egg/darm_gym_env/darm_sf_gym.py to darm_sf_gym.cpython-38.pyc\n",
      "byte-compiling build/bdist.linux-x86_64/egg/darm_gym_env/__init__.py to __init__.cpython-38.pyc\n",
      "byte-compiling build/bdist.linux-x86_64/egg/darm_gym_env/multi_darm_gym.py to multi_darm_gym.cpython-38.pyc\n",
      "byte-compiling build/bdist.linux-x86_64/egg/darm_gym_env/darm_gym.py to darm_gym.cpython-38.pyc\n",
      "byte-compiling build/bdist.linux-x86_64/egg/darm_gym_env/env_test.py to env_test.cpython-38.pyc\n",
      "creating build/bdist.linux-x86_64/egg/EGG-INFO\n",
      "copying darm_gym_env.egg-info/PKG-INFO -> build/bdist.linux-x86_64/egg/EGG-INFO\n",
      "copying darm_gym_env.egg-info/SOURCES.txt -> build/bdist.linux-x86_64/egg/EGG-INFO\n",
      "copying darm_gym_env.egg-info/dependency_links.txt -> build/bdist.linux-x86_64/egg/EGG-INFO\n",
      "copying darm_gym_env.egg-info/requires.txt -> build/bdist.linux-x86_64/egg/EGG-INFO\n",
      "copying darm_gym_env.egg-info/top_level.txt -> build/bdist.linux-x86_64/egg/EGG-INFO\n",
      "zip_safe flag not set; analyzing archive contents...\n",
      "darm_gym_env.__pycache__.darm_gym.cpython-38: module references __file__\n",
      "darm_gym_env.__pycache__.multi_darm_gym.cpython-38: module references __file__\n",
      "creating 'dist/darm_gym_env-0.0.1-py3.8.egg' and adding 'build/bdist.linux-x86_64/egg' to it\n",
      "removing 'build/bdist.linux-x86_64/egg' (and everything under it)\n",
      "Processing darm_gym_env-0.0.1-py3.8.egg\n",
      "removing '/home/daniel/miniconda3/lib/python3.8/site-packages/darm_gym_env-0.0.1-py3.8.egg' (and everything under it)\n",
      "creating /home/daniel/miniconda3/lib/python3.8/site-packages/darm_gym_env-0.0.1-py3.8.egg\n",
      "Extracting darm_gym_env-0.0.1-py3.8.egg to /home/daniel/miniconda3/lib/python3.8/site-packages\n",
      "darm-gym-env 0.0.1 is already the active version in easy-install.pth\n",
      "\n",
      "Installed /home/daniel/miniconda3/lib/python3.8/site-packages/darm_gym_env-0.0.1-py3.8.egg\n",
      "Processing dependencies for darm-gym-env==0.0.1\n",
      "Searching for gym==0.21.0\n",
      "Best match: gym 0.21.0\n",
      "Adding gym 0.21.0 to easy-install.pth file\n",
      "\n",
      "Using /home/daniel/miniconda3/lib/python3.8/site-packages\n",
      "Searching for mujoco==2.2.2\n",
      "Best match: mujoco 2.2.2\n",
      "Adding mujoco 2.2.2 to easy-install.pth file\n",
      "\n",
      "Using /home/daniel/miniconda3/lib/python3.8/site-packages\n",
      "Searching for cloudpickle==2.2.0\n",
      "Best match: cloudpickle 2.2.0\n",
      "Adding cloudpickle 2.2.0 to easy-install.pth file\n",
      "\n",
      "Using /home/daniel/miniconda3/lib/python3.8/site-packages\n",
      "Searching for numpy==1.23.4\n",
      "Best match: numpy 1.23.4\n",
      "Adding numpy 1.23.4 to easy-install.pth file\n",
      "Installing f2py script to /home/daniel/miniconda3/bin\n",
      "Installing f2py3 script to /home/daniel/miniconda3/bin\n",
      "Installing f2py3.8 script to /home/daniel/miniconda3/bin\n",
      "\n",
      "Using /home/daniel/miniconda3/lib/python3.8/site-packages\n",
      "Searching for PyOpenGL==3.1.6\n",
      "Best match: PyOpenGL 3.1.6\n",
      "Adding PyOpenGL 3.1.6 to easy-install.pth file\n",
      "\n",
      "Using /home/daniel/miniconda3/lib/python3.8/site-packages\n",
      "Searching for glfw==2.5.5\n",
      "Best match: glfw 2.5.5\n",
      "Adding glfw 2.5.5 to easy-install.pth file\n",
      "\n",
      "Using /home/daniel/miniconda3/lib/python3.8/site-packages\n",
      "Searching for absl-py==1.2.0\n",
      "Best match: absl-py 1.2.0\n",
      "Adding absl-py 1.2.0 to easy-install.pth file\n",
      "\n",
      "Using /home/daniel/miniconda3/lib/python3.8/site-packages\n",
      "Finished processing dependencies for darm-gym-env==0.0.1\n"
     ]
    }
   ],
   "source": [
    "%%bash\n",
    "cd ..\n",
    "python setup.py install"
   ]
  },
  {
   "cell_type": "code",
   "execution_count": null,
   "id": "07e3679f-78c0-46dd-a387-c2b63c39958a",
   "metadata": {},
   "outputs": [],
   "source": [
    "# Check if mujoco import is successful\n",
    "import mujoco"
   ]
  },
  {
   "cell_type": "code",
   "execution_count": null,
   "id": "8e486c3f-2352-4846-8c0f-0933541cf336",
   "metadata": {},
   "outputs": [],
   "source": [
    "# If mujoco import fails, update pandas and restart runtime\n",
    "!pip install pandas -U"
   ]
  },
  {
   "cell_type": "code",
   "execution_count": null,
   "id": "ecdc0754-925b-4829-98ea-23367d3b0fc3",
   "metadata": {},
   "outputs": [],
   "source": [
    "# # If GLFW is absent\n",
    "# %%bash\n",
    "# sudo apt-get install libglfw3 -y\n",
    "# sudo apt-get install libglfw3-dev -y\n",
    "# pip install --user glfw"
   ]
  },
  {
   "cell_type": "code",
   "execution_count": 1,
   "id": "b9c7e52e-b467-4d91-8fe9-d1035e51c932",
   "metadata": {},
   "outputs": [],
   "source": [
    "import ray\n",
    "from ray.rllib.algorithms.sac import SACConfig\n",
    "from ray.tune.registry import register_env\n",
    "from ray.tune.logger import pretty_print\n",
    "\n",
    "from ray import air, tune\n",
    "from ray.air import session\n",
    "from ray.air.integrations.wandb import setup_wandb\n",
    "from ray.air.integrations.wandb import WandbLoggerCallback\n",
    "\n",
    "import gym\n",
    "from darm_gym_env import DARMEnv"
   ]
  },
  {
   "cell_type": "markdown",
   "id": "bec813f2-af0d-4011-b168-ebb49c32acd6",
   "metadata": {},
   "source": [
    "### TODO:\n",
    "    - Change single_finger=False (In env register and config)\n",
    "    - Change run_local_dir"
   ]
  },
  {
   "cell_type": "markdown",
   "id": "56f0ddd0-d833-4494-9ca4-d9c6f72cae32",
   "metadata": {},
   "source": [
    "## Register Environment with RLlib"
   ]
  },
  {
   "cell_type": "code",
   "execution_count": 12,
   "id": "0ee4bf2a-d82c-4aaa-b278-f11a080e28af",
   "metadata": {},
   "outputs": [],
   "source": [
    "def make_env(env_config):\n",
    "    env = gym.wrappers.TimeLimit(env=DARMEnv(render_mode=None, action_time=0.08, hand_name=\"hand1\", single_finger_env=False), max_episode_steps=200)\n",
    "    env = gym.wrappers.TransformObservation(env, lambda obs: obs*100)\n",
    "    return env\n",
    "\n",
    "env_creator = lambda env_config: make_env(env_config)\n",
    "register_env(\"darm/DarmHand-v0\", env_creator)"
   ]
  },
  {
   "cell_type": "markdown",
   "id": "049729f3-c175-4d9c-b449-43af66f121a5",
   "metadata": {},
   "source": [
    "## Configure Run"
   ]
  },
  {
   "cell_type": "code",
   "execution_count": 14,
   "id": "4a0ed8ba-4f6b-47f9-b0e7-37d0eec71647",
   "metadata": {
    "tags": []
   },
   "outputs": [],
   "source": [
    "# TODO:\n",
    "# change: rollout_workers\n",
    "# change: gpu\n",
    "\n",
    "config = (\n",
    "    SACConfig()\n",
    "    .environment(\n",
    "        env=\"darm/DarmHand-v0\",\n",
    "        normalize_actions=True\n",
    "    )\n",
    "    .training(\n",
    "        q_model_config={\n",
    "            \"fcnet_activation\": \"relu\",\n",
    "            \"fcnet_hiddens\": [128, 256, 256, 128] # [256, 256]\n",
    "        },\n",
    "        policy_model_config={\n",
    "            \"fcnet_activation\": \"relu\",\n",
    "            \"fcnet_hiddens\": [128, 256, 256, 128] # [256, 256]\n",
    "        },\n",
    "        tau=0.005,\n",
    "        target_entropy=\"auto\",\n",
    "        n_step=1,  # num of SGD steps per batch of data in training step\n",
    "        train_batch_size=256,\n",
    "        target_network_update_freq=1,\n",
    "        replay_buffer_config={\"type\":\"MultiAgentPrioritizedReplayBuffer\"},\n",
    "        num_steps_sampled_before_learning_starts=40_000,  # timesteps (transitions)\n",
    "        optimization_config={\n",
    "          \"actor_learning_rate\": 0.0003,\n",
    "          \"critic_learning_rate\": 0.0003,\n",
    "          \"entropy_learning_rate\": 0.0003,\n",
    "        },\n",
    "        clip_actions=False\n",
    "    )\n",
    "    .rollouts(\n",
    "        num_rollout_workers=3,\n",
    "        num_envs_per_worker=1,\n",
    "        rollout_fragment_length=1,\n",
    "        recreate_failed_workers=True,\n",
    "        num_consecutive_worker_failures_tolerance=10,\n",
    "        restart_failed_sub_environments=True,\n",
    "        # batch_mode=\"complete_episodes\"\n",
    "    )\n",
    "    .resources(num_gpus=0)\n",
    "    .evaluation(evaluation_interval=100) # Training iterations\n",
    "    .reporting(\n",
    "        min_sample_timesteps_per_iteration=1000,\n",
    "        metrics_num_episodes_for_smoothing=100\n",
    "    )\n",
    "    .framework(framework=\"torch\")\n",
    ")"
   ]
  },
  {
   "cell_type": "code",
   "execution_count": 15,
   "id": "46f0fa8e-5023-44c3-a9f7-8a6b041617a2",
   "metadata": {},
   "outputs": [],
   "source": [
    "# TODO:\n",
    "# change: run name\n",
    "# change: notes\n",
    "# change: tags\n",
    "# change: wandb config\n",
    "\n",
    "run_name = \"test1_MF_RLlib_SAC\"\n",
    "\n",
    "notes = \"\"\"\n",
    "- The environment was updated such that the target is within a range from the start point\n",
    "- Velocity penalty was removed and only effort penalty was used\n",
    "- The reward function was updated according to the reach task reward used in facebookresearch/myosuite [https://github.com/facebookresearch/myosuite/blob/main/myosuite/envs/myo/reach_v0.py]\n",
    "- The done signal is trigerred only when the fingertip goes beyond a threshold. The episode continues to the maximum timestep otherwise.\n",
    "- The friction and damping coefficient of the environment is updated. Values are inspired from Deepmind's Mujoco Menagerie [https://github.com/deepmind/mujoco_menagerie/blob/main/shadow_hand/right_hand.xml]\n",
    "- The range of action from the model was changed to [-1, 1]. This action is mapped to the actual action sent to mujoco e.g [0, 2]]. This change is inspired from values used in OpenAI's Gym Mujoco environments.\n",
    "- max_episode_steps was updated to 200.\n",
    "- Velocity vector (size [3,]) was added to observation. Observation size is now (9,)\n",
    "- Action range was increased to [0, 5]\n",
    "- Observation warpper to scale observation from m and m/s to cm and cm/s was applied\n",
    "- Max Tension for Digitorum Extensor Communis was increased to 10\n",
    "- FIXED: Velocity Observation from (prev_pos - new_pos)/time to (new_pos - prev_pos)/time\n",
    "- FIXED: Removed weight of 1 from 'sparse', 'solved', and 'done' in reward weighting\n",
    "- Reduced max_target_th to 5*0.004, 20 mm\n",
    "\n",
    "- Five-Fingers; No Wrist Environment\n",
    "- This run was trained on vast_ai using RLlib's SAC algo.\n",
    "\"\"\"\n",
    "\n",
    "tags = [\"five_fingers\", \"sac\", \"rllib\", \"vast_ai\"]\n",
    "\n",
    "\n",
    "\n",
    "wandb_init = dict(\n",
    "    save_code=True,\n",
    "    resume=True,\n",
    "    config={\n",
    "        \"env\": config.env,\n",
    "        \"num_rollout_workers\": config.num_rollout_workers,\n",
    "        \"num_envs_per_worker\": config.num_envs_per_worker,\n",
    "        \"recreate_failed_workers\": config.recreate_failed_workers,\n",
    "        \"num_consecutive_worker_failures_tolerance\": config.num_consecutive_worker_failures_tolerance,\n",
    "        \"restart_failed_sub_environments\": config.restart_failed_sub_environments,\n",
    "        \"num_gpus\": config.num_gpus,\n",
    "        \"framework\": config.framework_str,\n",
    "        \n",
    "        \"stop_episode_reward_mean\": 1_300,\n",
    "        \"run_local_dir\": f\"{os.getenv('DARM_MUJOCO_PATH')}/darm_training/results/darm_mf_hand\",\n",
    "        \n",
    "        \"checkpoint_at_end\": True,\n",
    "        \"checkpoint_score_attribute\": \"episode_reward_mean\",  # or leave to save last chkpts\n",
    "        \"checkpoint_score_order\": \"max\",\n",
    "        \"checkpoint_frequency\": 50,   # iterations\n",
    "        \"num_checkpoints_to_keep\": 3,\n",
    "        \"save_checkpoints_to_wandb\": True\n",
    "    },\n",
    "    tags=tags,\n",
    "    notes=notes,\n",
    "    name=run_name\n",
    "    # job_type=\n",
    "    # monitor_gym=\n",
    ")"
   ]
  },
  {
   "cell_type": "code",
   "execution_count": 16,
   "id": "6d7468b3-f377-4c7f-a0c3-6dec032fdc37",
   "metadata": {},
   "outputs": [
    {
     "name": "stdout",
     "output_type": "stream",
     "text": [
      "[Errno 2] No such file or directory: '/home/daniel/DARM/darm-mujoco/darm_training/'\n",
      "/home/daniel/DARM/darm_mujoco/darm_training\n"
     ]
    }
   ],
   "source": [
    "!pwd"
   ]
  },
  {
   "cell_type": "markdown",
   "id": "becce66d-f166-42e0-9ca5-d044260bcb3d",
   "metadata": {},
   "source": [
    "## Run"
   ]
  },
  {
   "cell_type": "code",
   "execution_count": 17,
   "id": "727ee5b8-0cc3-4831-91ee-34514946c66a",
   "metadata": {
    "tags": []
   },
   "outputs": [
    {
     "data": {
      "text/html": [
       "<div class=\"tuneStatus\">\n",
       "  <div style=\"display: flex;flex-direction: row\">\n",
       "    <div style=\"display: flex;flex-direction: column;\">\n",
       "      <h3>Tune Status</h3>\n",
       "      <table>\n",
       "<tbody>\n",
       "<tr><td>Current time:</td><td>2023-03-04 21:39:54</td></tr>\n",
       "<tr><td>Running for: </td><td>00:03:59.69        </td></tr>\n",
       "<tr><td>Memory:      </td><td>5.6/7.5 GiB        </td></tr>\n",
       "</tbody>\n",
       "</table>\n",
       "    </div>\n",
       "    <div class=\"vDivider\"></div>\n",
       "    <div class=\"systemInfo\">\n",
       "      <h3>System Info</h3>\n",
       "      Using FIFO scheduling algorithm.<br>Resources requested: 4.0/4 CPUs, 0/0 GPUs, 0.0/2.42 GiB heap, 0.0/1.21 GiB objects\n",
       "    </div>\n",
       "    \n",
       "  </div>\n",
       "  <div class=\"hDivider\"></div>\n",
       "  <div class=\"trialStatus\">\n",
       "    <h3>Trial Status</h3>\n",
       "    <table>\n",
       "<thead>\n",
       "<tr><th>Trial name                      </th><th>status  </th><th>loc               </th><th style=\"text-align: right;\">  iter</th><th style=\"text-align: right;\">  total time (s)</th><th style=\"text-align: right;\">   ts</th><th style=\"text-align: right;\">  reward</th><th style=\"text-align: right;\">  episode_reward_max</th><th style=\"text-align: right;\">  episode_reward_min</th><th style=\"text-align: right;\">  episode_len_mean</th></tr>\n",
       "</thead>\n",
       "<tbody>\n",
       "<tr><td>SAC_darm_DarmHand-v0_299b4_00000</td><td>RUNNING </td><td>192.168.93.36:4924</td><td style=\"text-align: right;\">    12</td><td style=\"text-align: right;\">         223.523</td><td style=\"text-align: right;\">12024</td><td style=\"text-align: right;\">-10.9323</td><td style=\"text-align: right;\">           -0.627997</td><td style=\"text-align: right;\">            -40.2694</td><td style=\"text-align: right;\">           2.43309</td></tr>\n",
       "</tbody>\n",
       "</table>\n",
       "  </div>\n",
       "</div>\n",
       "<style>\n",
       ".tuneStatus {\n",
       "  color: var(--jp-ui-font-color1);\n",
       "}\n",
       ".tuneStatus .systemInfo {\n",
       "  display: flex;\n",
       "  flex-direction: column;\n",
       "}\n",
       ".tuneStatus td {\n",
       "  white-space: nowrap;\n",
       "}\n",
       ".tuneStatus .trialStatus {\n",
       "  display: flex;\n",
       "  flex-direction: column;\n",
       "}\n",
       ".tuneStatus h3 {\n",
       "  font-weight: bold;\n",
       "}\n",
       ".tuneStatus .hDivider {\n",
       "  border-bottom-width: var(--jp-border-width);\n",
       "  border-bottom-color: var(--jp-border-color0);\n",
       "  border-bottom-style: solid;\n",
       "}\n",
       ".tuneStatus .vDivider {\n",
       "  border-left-width: var(--jp-border-width);\n",
       "  border-left-color: var(--jp-border-color0);\n",
       "  border-left-style: solid;\n",
       "  margin: 0.5em 1em 0.5em 1em;\n",
       "}\n",
       "</style>\n"
      ],
      "text/plain": [
       "<IPython.core.display.HTML object>"
      ]
     },
     "metadata": {},
     "output_type": "display_data"
    },
    {
     "name": "stderr",
     "output_type": "stream",
     "text": [
      "\u001b[34m\u001b[1mwandb\u001b[0m: Currently logged in as: \u001b[33mdanieladejumo\u001b[0m. Use \u001b[1m`wandb login --relogin`\u001b[0m to force relogin\n",
      "\u001b[2m\u001b[36m(SAC pid=4924)\u001b[0m 2023-03-04 21:35:59,675\tWARNING algorithm_config.py:488 -- Cannot create SACConfig from given `config_dict`! Property __stdout_file__ not supported.\n",
      "\u001b[2m\u001b[36m(SAC pid=4924)\u001b[0m 2023-03-04 21:35:59,874\tINFO algorithm.py:501 -- Current log_level is WARN. For more information, set 'log_level': 'INFO' / 'DEBUG' or use the -v and -vv flags.\n",
      "\u001b[2m\u001b[33m(raylet)\u001b[0m [2023-03-04 21:36:00,254 E 4146 4196] (raylet) file_system_monitor.cc:105: /tmp/ray/session_2023-03-04_21-33-58_015046_3747 is over 95% full, available space: 322654208; capacity: 31845081088. Object creation will fail if spilling is required.\n",
      "\u001b[2m\u001b[36m(RolloutWorker pid=5061)\u001b[0m /home/daniel/miniconda3/lib/python3.8/site-packages/gym/spaces/box.py:73: UserWarning: \u001b[33mWARN: Box bound precision lowered by casting to float32\u001b[0m\n",
      "\u001b[2m\u001b[36m(RolloutWorker pid=5061)\u001b[0m   logger.warn(\n",
      "\u001b[2m\u001b[36m(RolloutWorker pid=5061)\u001b[0m /home/daniel/miniconda3/lib/python3.8/site-packages/numpy/core/fromnumeric.py:86: VisibleDeprecationWarning: Creating an ndarray from ragged nested sequences (which is a list-or-tuple of lists-or-tuples-or ndarrays with different lengths or shapes) is deprecated. If you meant to do this, you must specify 'dtype=object' when creating the ndarray.\n",
      "\u001b[2m\u001b[36m(RolloutWorker pid=5061)\u001b[0m   return ufunc.reduce(obj, axis, dtype, out, **passkwargs)\n"
     ]
    },
    {
     "name": "stdout",
     "output_type": "stream",
     "text": [
      "\u001b[2m\u001b[36m(RolloutWorker pid=5061)\u001b[0m Loaded XML file successfully\n",
      "\u001b[2m\u001b[36m(RolloutWorker pid=5060)\u001b[0m Loaded XML file successfully\n"
     ]
    },
    {
     "name": "stderr",
     "output_type": "stream",
     "text": [
      "\u001b[2m\u001b[36m(RolloutWorker pid=5060)\u001b[0m /home/daniel/miniconda3/lib/python3.8/site-packages/gym/spaces/box.py:73: UserWarning: \u001b[33mWARN: Box bound precision lowered by casting to float32\u001b[0m\n",
      "\u001b[2m\u001b[36m(RolloutWorker pid=5060)\u001b[0m   logger.warn(\n",
      "\u001b[2m\u001b[36m(RolloutWorker pid=5060)\u001b[0m 2023-03-04 21:36:08,141\tWARNING env.py:147 -- Your env doesn't have a .spec.max_episode_steps attribute. This is fine if you have set 'horizon' in your config dictionary, or `soft_horizon`. However, if you haven't, 'horizon' will default to infinity, and your environment will not be reset.\n",
      "\u001b[2m\u001b[36m(RolloutWorker pid=5060)\u001b[0m /home/daniel/miniconda3/lib/python3.8/site-packages/numpy/core/fromnumeric.py:86: VisibleDeprecationWarning: Creating an ndarray from ragged nested sequences (which is a list-or-tuple of lists-or-tuples-or ndarrays with different lengths or shapes) is deprecated. If you meant to do this, you must specify 'dtype=object' when creating the ndarray.\n",
      "\u001b[2m\u001b[36m(RolloutWorker pid=5060)\u001b[0m   return ufunc.reduce(obj, axis, dtype, out, **passkwargs)\n",
      "\u001b[2m\u001b[36m(RolloutWorker pid=5062)\u001b[0m /home/daniel/miniconda3/lib/python3.8/site-packages/gym/spaces/box.py:73: UserWarning: \u001b[33mWARN: Box bound precision lowered by casting to float32\u001b[0m\n",
      "\u001b[2m\u001b[36m(RolloutWorker pid=5062)\u001b[0m   logger.warn(\n",
      "\u001b[2m\u001b[36m(RolloutWorker pid=5062)\u001b[0m /home/daniel/miniconda3/lib/python3.8/site-packages/numpy/core/fromnumeric.py:86: VisibleDeprecationWarning: Creating an ndarray from ragged nested sequences (which is a list-or-tuple of lists-or-tuples-or ndarrays with different lengths or shapes) is deprecated. If you meant to do this, you must specify 'dtype=object' when creating the ndarray.\n",
      "\u001b[2m\u001b[36m(RolloutWorker pid=5062)\u001b[0m   return ufunc.reduce(obj, axis, dtype, out, **passkwargs)\n"
     ]
    },
    {
     "name": "stdout",
     "output_type": "stream",
     "text": [
      "\u001b[2m\u001b[36m(RolloutWorker pid=5062)\u001b[0m Loaded XML file successfully\n"
     ]
    },
    {
     "data": {
      "text/html": [
       "Tracking run with wandb version 0.13.10"
      ],
      "text/plain": [
       "<IPython.core.display.HTML object>"
      ]
     },
     "metadata": {},
     "output_type": "display_data"
    },
    {
     "data": {
      "text/html": [
       "Run data is saved locally in <code>/home/daniel/DARM/darm_mujoco/darm_training/results/darm_mf_hand/test1_MF_RLlib_SAC/SAC_darm_DarmHand-v0_299b4_00000_0_2023-03-04_21-35-55/wandb/run-20230304_213559-299b4_00000</code>"
      ],
      "text/plain": [
       "<IPython.core.display.HTML object>"
      ]
     },
     "metadata": {},
     "output_type": "display_data"
    },
    {
     "data": {
      "text/html": [
       "Syncing run <strong><a href='https://wandb.ai/danieladejumo/DARM/runs/299b4_00000' target=\"_blank\">test1_MF_RLlib_SAC</a></strong> to <a href='https://wandb.ai/danieladejumo/DARM' target=\"_blank\">Weights & Biases</a> (<a href='https://wandb.me/run' target=\"_blank\">docs</a>)<br/>"
      ],
      "text/plain": [
       "<IPython.core.display.HTML object>"
      ]
     },
     "metadata": {},
     "output_type": "display_data"
    },
    {
     "data": {
      "text/html": [
       " View project at <a href='https://wandb.ai/danieladejumo/DARM' target=\"_blank\">https://wandb.ai/danieladejumo/DARM</a>"
      ],
      "text/plain": [
       "<IPython.core.display.HTML object>"
      ]
     },
     "metadata": {},
     "output_type": "display_data"
    },
    {
     "data": {
      "text/html": [
       " View run at <a href='https://wandb.ai/danieladejumo/DARM/runs/299b4_00000' target=\"_blank\">https://wandb.ai/danieladejumo/DARM/runs/299b4_00000</a>"
      ],
      "text/plain": [
       "<IPython.core.display.HTML object>"
      ]
     },
     "metadata": {},
     "output_type": "display_data"
    },
    {
     "name": "stderr",
     "output_type": "stream",
     "text": [
      "\u001b[2m\u001b[33m(raylet)\u001b[0m [2023-03-04 21:36:10,261 E 4146 4196] (raylet) file_system_monitor.cc:105: /tmp/ray/session_2023-03-04_21-33-58_015046_3747 is over 95% full, available space: 315428864; capacity: 31845081088. Object creation will fail if spilling is required.\n"
     ]
    },
    {
     "name": "stdout",
     "output_type": "stream",
     "text": [
      "\u001b[2m\u001b[36m(SAC pid=4924)\u001b[0m Loaded XML file successfully\n"
     ]
    },
    {
     "name": "stderr",
     "output_type": "stream",
     "text": [
      "\u001b[2m\u001b[36m(SAC pid=4924)\u001b[0m /home/daniel/miniconda3/lib/python3.8/site-packages/gym/spaces/box.py:73: UserWarning: \u001b[33mWARN: Box bound precision lowered by casting to float32\u001b[0m\n",
      "\u001b[2m\u001b[36m(SAC pid=4924)\u001b[0m   logger.warn(\n",
      "\u001b[2m\u001b[36m(SAC pid=4924)\u001b[0m 2023-03-04 21:36:10,665\tWARNING env.py:147 -- Your env doesn't have a .spec.max_episode_steps attribute. This is fine if you have set 'horizon' in your config dictionary, or `soft_horizon`. However, if you haven't, 'horizon' will default to infinity, and your environment will not be reset.\n",
      "\u001b[2m\u001b[36m(SAC pid=4924)\u001b[0m /home/daniel/miniconda3/lib/python3.8/site-packages/numpy/core/fromnumeric.py:86: VisibleDeprecationWarning: Creating an ndarray from ragged nested sequences (which is a list-or-tuple of lists-or-tuples-or ndarrays with different lengths or shapes) is deprecated. If you meant to do this, you must specify 'dtype=object' when creating the ndarray.\n",
      "\u001b[2m\u001b[36m(SAC pid=4924)\u001b[0m   return ufunc.reduce(obj, axis, dtype, out, **passkwargs)\n",
      "\u001b[2m\u001b[36m(SAC pid=4924)\u001b[0m 2023-03-04 21:36:10,726\tINFO trainable.py:172 -- Trainable.setup took 10.854 seconds. If your trainable is slow to initialize, consider setting reuse_actors=True to reduce actor creation overheads.\n",
      "\u001b[2m\u001b[36m(SAC pid=4924)\u001b[0m 2023-03-04 21:36:10,727\tWARNING util.py:66 -- Install gputil for GPU system monitoring.\n",
      "\u001b[2m\u001b[36m(RolloutWorker pid=5061)\u001b[0m /home/daniel/miniconda3/lib/python3.8/site-packages/numpy/core/fromnumeric.py:86: VisibleDeprecationWarning: Creating an ndarray from ragged nested sequences (which is a list-or-tuple of lists-or-tuples-or ndarrays with different lengths or shapes) is deprecated. If you meant to do this, you must specify 'dtype=object' when creating the ndarray.\n",
      "\u001b[2m\u001b[36m(RolloutWorker pid=5061)\u001b[0m   return ufunc.reduce(obj, axis, dtype, out, **passkwargs)\n",
      "\u001b[2m\u001b[36m(RolloutWorker pid=5060)\u001b[0m /home/daniel/miniconda3/lib/python3.8/site-packages/numpy/core/fromnumeric.py:86: VisibleDeprecationWarning: Creating an ndarray from ragged nested sequences (which is a list-or-tuple of lists-or-tuples-or ndarrays with different lengths or shapes) is deprecated. If you meant to do this, you must specify 'dtype=object' when creating the ndarray.\n",
      "\u001b[2m\u001b[36m(RolloutWorker pid=5060)\u001b[0m   return ufunc.reduce(obj, axis, dtype, out, **passkwargs)\n",
      "\u001b[2m\u001b[36m(RolloutWorker pid=5062)\u001b[0m /home/daniel/miniconda3/lib/python3.8/site-packages/numpy/core/fromnumeric.py:86: VisibleDeprecationWarning: Creating an ndarray from ragged nested sequences (which is a list-or-tuple of lists-or-tuples-or ndarrays with different lengths or shapes) is deprecated. If you meant to do this, you must specify 'dtype=object' when creating the ndarray.\n",
      "\u001b[2m\u001b[36m(RolloutWorker pid=5062)\u001b[0m   return ufunc.reduce(obj, axis, dtype, out, **passkwargs)\n",
      "\u001b[2m\u001b[36m(SAC pid=4924)\u001b[0m 2023-03-04 21:36:11,106\tWARNING multi_agent_prioritized_replay_buffer.py:215 -- Adding batches with column `weights` to this buffer while providing weights as a call argument to the add method results in the column being overwritten.\n",
      "\u001b[2m\u001b[33m(raylet)\u001b[0m [2023-03-04 21:36:20,273 E 4146 4196] (raylet) file_system_monitor.cc:105: /tmp/ray/session_2023-03-04_21-33-58_015046_3747 is over 95% full, available space: 315437056; capacity: 31845081088. Object creation will fail if spilling is required.\n"
     ]
    },
    {
     "data": {
      "text/html": [
       "<div class=\"trialProgress\">\n",
       "  <h3>Trial Progress</h3>\n",
       "  <table>\n",
       "<thead>\n",
       "<tr><th>Trial name                      </th><th style=\"text-align: right;\">  agent_timesteps_total</th><th>counters                                                                                                                    </th><th>custom_metrics  </th><th>date               </th><th>done  </th><th style=\"text-align: right;\">  episode_len_mean</th><th>episode_media  </th><th style=\"text-align: right;\">  episode_reward_max</th><th style=\"text-align: right;\">  episode_reward_mean</th><th style=\"text-align: right;\">  episode_reward_min</th><th style=\"text-align: right;\">  episodes_this_iter</th><th style=\"text-align: right;\">  episodes_total</th><th>experiment_id                   </th><th>hostname  </th><th>info                                                                                                                                       </th><th style=\"text-align: right;\">  iterations_since_restore</th><th>node_ip      </th><th style=\"text-align: right;\">  num_agent_steps_sampled</th><th style=\"text-align: right;\">  num_agent_steps_trained</th><th style=\"text-align: right;\">  num_env_steps_sampled</th><th style=\"text-align: right;\">  num_env_steps_sampled_this_iter</th><th style=\"text-align: right;\">  num_env_steps_trained</th><th style=\"text-align: right;\">  num_env_steps_trained_this_iter</th><th style=\"text-align: right;\">  num_faulty_episodes</th><th style=\"text-align: right;\">  num_healthy_workers</th><th style=\"text-align: right;\">  num_in_flight_async_reqs</th><th style=\"text-align: right;\">  num_remote_worker_restarts</th><th style=\"text-align: right;\">  num_steps_trained_this_iter</th><th>perf                                                                          </th><th style=\"text-align: right;\">  pid</th><th>policy_reward_max  </th><th>policy_reward_mean  </th><th>policy_reward_min  </th><th>sampler_perf                                                                                                                                                                                                  </th><th>sampler_results                                                                                                                                                                                                                                                                                                                                                                                                                                                                                                                                                                                                                                                                                                                                                                                                                                                                                                                                                                                                                                                                                                                                                                                                                                                                                                                                                                                                                                                                                                                                                                                                                                                                                                                                                                                                                                                                                                                                                                                                                                                                                                                                                                                                                                                                                                                                                                                                                                                                                                                                                                                                                                                                                                                                                                                                                                                                                                                                                                                                                                                                                                                                                                                                                                                                                                                                                                                                                                                                                                                                                                                                                                                                                                                                                                                                                                                                                                                                                                                                                                                                                                                                                                                                                                                                                                                                                                                                                                                                                                                                                                                                                                                                                                                                                                                                                                                                                                                                                                                                                                                                                                                                                                                                                                                                                                                                                                                                                                                                                                                                                                                                                                                                                                                                                                                                                                                                                                                                                                                                                                                                                                                                                                                                                                                                                                                                                                                                                                                                                                                                                                                                                                                                                                                                                                                                                                                                                                                                                                                                                                                                                                                                                                                                                                                                                                                                                                                                                                                                                                                                                                                                                                                                                                                                                                                                                                                                                                                                                                                                                                                                                                                                                                                                                                                                                                                                                                                                                                                                                                                                                                                                                                                                                                                                                                                                                                                                                                                                                                                                                                                                                                                                                                                                                                                                                                                                                                                                                                                                                                                                                                                                                                                                                                                                                                                                                                                                                                                                                                                                                                                                                                                                                                                                                                                                                                                                                                                                                                                                                                                                                                  </th><th style=\"text-align: right;\">  time_since_restore</th><th style=\"text-align: right;\">  time_this_iter_s</th><th style=\"text-align: right;\">  time_total_s</th><th>timers                                </th><th style=\"text-align: right;\">  timestamp</th><th style=\"text-align: right;\">  timesteps_since_restore</th><th style=\"text-align: right;\">  timesteps_total</th><th style=\"text-align: right;\">  training_iteration</th><th>trial_id   </th><th style=\"text-align: right;\">  warmup_time</th></tr>\n",
       "</thead>\n",
       "<tbody>\n",
       "<tr><td>SAC_darm_DarmHand-v0_299b4_00000</td><td style=\"text-align: right;\">                  12024</td><td>{&#x27;num_env_steps_sampled&#x27;: 12024, &#x27;num_env_steps_trained&#x27;: 0, &#x27;num_agent_steps_sampled&#x27;: 12024, &#x27;num_agent_steps_trained&#x27;: 0}</td><td>{}              </td><td>2023-03-04_21-39-54</td><td>False </td><td style=\"text-align: right;\">           2.43309</td><td>{}             </td><td style=\"text-align: right;\">           -0.627997</td><td style=\"text-align: right;\">             -10.9323</td><td style=\"text-align: right;\">            -40.2694</td><td style=\"text-align: right;\">                 411</td><td style=\"text-align: right;\">            4942</td><td>6ae5418bf11c42359a455754c8e596d2</td><td>Daniel    </td><td>{&#x27;learner&#x27;: {}, &#x27;num_env_steps_sampled&#x27;: 12024, &#x27;num_env_steps_trained&#x27;: 0, &#x27;num_agent_steps_sampled&#x27;: 12024, &#x27;num_agent_steps_trained&#x27;: 0}</td><td style=\"text-align: right;\">                        12</td><td>192.168.93.36</td><td style=\"text-align: right;\">                    12024</td><td style=\"text-align: right;\">                        0</td><td style=\"text-align: right;\">                  12024</td><td style=\"text-align: right;\">                             1002</td><td style=\"text-align: right;\">                      0</td><td style=\"text-align: right;\">                                0</td><td style=\"text-align: right;\">                    0</td><td style=\"text-align: right;\">                    3</td><td style=\"text-align: right;\">                         0</td><td style=\"text-align: right;\">                           0</td><td style=\"text-align: right;\">                            0</td><td>{&#x27;cpu_util_percent&#x27;: 84.51212121212122, &#x27;ram_util_percent&#x27;: 73.81818181818181}</td><td style=\"text-align: right;\"> 4924</td><td>{}                 </td><td>{}                  </td><td>{}                 </td><td>{&#x27;mean_raw_obs_processing_ms&#x27;: 1.7189555971835808, &#x27;mean_inference_ms&#x27;: 2.836624851613868, &#x27;mean_action_processing_ms&#x27;: 0.23748462305688628, &#x27;mean_env_wait_ms&#x27;: 38.10354625510331, &#x27;mean_env_render_ms&#x27;: 0.0}</td><td>{&#x27;episode_reward_max&#x27;: -0.6279969624493544, &#x27;episode_reward_min&#x27;: -40.26942496194788, &#x27;episode_reward_mean&#x27;: -10.93225218503461, &#x27;episode_len_mean&#x27;: 2.4330900243309004, &#x27;episode_media&#x27;: {}, &#x27;episodes_this_iter&#x27;: 411, &#x27;policy_reward_min&#x27;: {}, &#x27;policy_reward_max&#x27;: {}, &#x27;policy_reward_mean&#x27;: {}, &#x27;custom_metrics&#x27;: {}, &#x27;hist_stats&#x27;: {&#x27;episode_reward&#x27;: [-17.03337006494612, -10.086573086192306, -9.268594942861899, -6.954664672300197, -6.2236959227014275, -7.679747960577737, -7.758153312554607, -29.44465157434471, -9.277773504381287, -17.761391827349637, -6.233761240765208, -8.649807442781904, -8.551400925706773, -27.7820039473289, -7.824844616760191, -20.174993567816642, -7.91681248377658, -5.510035827726778, -10.245725374472078, -17.844557599166656, -7.017579551837032, -7.762971965385435, -20.24543469772737, -9.338436582342744, -7.839800297220227, -10.083396272589024, -15.444102096284887, -7.688779691858089, -8.638286065361845, -19.378276304195314, -9.455063900099539, -17.038117944233942, -19.36255033276476, -8.574741034840045, -9.433590224483208, -7.678588062975199, -9.367658256111929, -10.233336948138898, -7.023678510654687, -10.083560056929397, -19.374456540714316, -10.167248949803916, -10.182530581929406, -6.231585420180993, -6.208036844525813, -7.763635413843662, -29.553677620919213, -29.550735804168312, -7.754949511061408, -10.24697058086721, -7.828799971304425, -8.552774263234854, -8.569781723462446, -8.55037539885793, -7.093398412294518, -7.758775541576667, -19.37048110471067, -7.67918243500826, -20.16619664267265, -7.0300905218714185, -10.164944811804252, -9.280963691696602, -8.46552777423611, -7.759154896610403, -9.273504131710144, -15.758448482695309, -6.955308513568548, -7.752248662847352, -17.837941558601578, -6.149250674668578, -7.0677679933154005, -8.561415959151843, -10.15721429025697, -9.453731101558642, -17.769403392633514, -10.15026351248632, -20.19095780151129, -7.040281250288297, -18.571760413250338, -1.4795049233229944, -9.359152974053016, -7.7491988687938775, -6.07196448905806, -7.757052891300494, -6.87740428677129, -7.756627403961076, -8.550000120693483, -7.749370042864334, -19.472415221149028, -19.289760006381375, -9.287997533676073, -3.891503522923161, -5.517328458551317, -4.622776350036059, -16.96102270950553, -7.755648147192817, -7.8213146618005105, -7.013948104752407, -7.753115705792641, -9.451659674659496, -10.255065403925736, -20.172366669667504, -17.81882875077941, -6.969449821710398, -19.375685149025784, -28.572416441240843, -8.644929935615243, -6.149023546310488, -6.955664485728811, -9.419328122570839, -10.089942808404484, -10.173326632348518, -7.767094374710161, -4.068731612153817, -10.182677992621812, -7.677311341536854, -20.175461385904484, -7.850778585708856, -2.941361223293904, -29.378996880798656, -9.282946914313474, -8.563530727644062, -10.164071499352971, -8.64829592232986, -8.473366697333978, -3.833890066166407, -3.9030908000348212, -9.376363569114531, -5.4228670841716085, -4.624659539209944, -9.374902921228959, -9.37151768711921, -10.177476215312666, -7.742808225994112, -7.055249552566452, -17.834914922391608, -6.154661855195046, -16.253946162607896, -8.475435921393625, -16.960216242267457, -19.294150801204257, -9.343253909274043, -10.172020104232843, -5.4157141618179025, -14.641915419310713, -30.173325671701786, -6.96287121275542, -7.029263145708169, -20.169229987513376, -5.49637708821329, -29.457972612441136, -7.828714100256035, -5.428381301551203, -6.217384752194282, -19.381429671168192, -19.370348269787215, -9.344882437193615, -9.368450925096466, -4.7224054652795235, -9.603455143583313, -9.369350723130419, -7.679498559376299, -8.47045894715634, -7.761699902191102, -8.562877040921514, -5.4954067251868, -9.284535315192182, -10.088033700492714, -10.09057709582767, -6.228844323059463, -18.65009842518621, -8.567079679160884, -7.050397622817814, -9.279137771413414, -8.644854303748073, -13.94117502834552, -7.040431511719646, -27.86102424649853, -8.546341449531667, -7.29216503787972, -19.38668323093516, -20.19044802720978, -6.961508394813719, -9.421424728086954, -20.193561277738674, -7.032242650389627, -5.0763974064228545, -6.3017913782594475, -9.282536470204475, -9.283584473981524, -3.898481033394896, -10.08821364881608, -8.564388867448312, -9.37024751379935, -7.115836363596154, -10.165887338820285, -18.578145767301404, -10.689748210113287, -6.219586938403761, -15.367626457140533, -7.911172697955275, -8.547069408137547, -10.069106386075008, -6.151950574236789, -10.159747726459633, -19.459430294725706, -20.16148685446951, -8.545540285027819, -8.566125050041885, -10.084428772586213, -9.344866696522812, -16.235397413526236, -9.367769546286798, -40.26942496194788, -5.428648197005905, -5.339355461936919, -10.146859692562998, -8.55932904766389, -27.209452107011163, -6.310434930708391, -4.638057597425527, -9.3645099421127, -4.551615115577184, -5.352632293427773, -29.394743037085, -8.55619013787139, -5.353757650384619, -9.278413856729323, -8.56482698105992, -7.681904317505049, -9.366232316860271, -10.176660107686573, -9.281082264643134, -30.255178156827103, -7.826578038321564, -6.9475012489153825, -13.891954684510413, -8.562251056914127, -9.282014010966533, -6.329104850266169, -6.233825252158622, -18.562668922410143, -7.033818422975082, -17.768123181201315, -8.571131075167779, -7.756876240647562, -9.279957551619107, -6.234732331543457, -7.740820385649116, -6.968961657150157, -6.228704973627461, -17.93237405525704, -7.853985218176336, -19.28803546297811, -10.153540812209522, -10.164939985399386, -9.284336007293959, -9.3615164297842, -8.476432221281868, -18.639012204869818, -17.037801753600462, -9.365762947565129, -18.6510110070992, -19.432624901729163, -8.555459229123056, -8.483939574356624, -18.64253844590256, -24.639934705921185, -10.09786742003098, -17.768954379609603, -20.336733768351987, -9.373157211823932, -7.061886265843829, -6.310019407309875, -17.846162795249747, -7.676581905106263, -6.957857062266783, -10.092040646553574, -8.476844991308532, -8.555556479071159, -18.640576751688176, -19.482929295676975, -18.57549342829227, -18.57752521143565, -17.770239127573632, -17.98134458459658, -8.654110500522215, -7.749352071433886, -6.868733498607247, -8.548355652113422, -6.956928962840608, -10.166167908196114, -17.76663002428116, -9.279651995844237, -9.349474623526016, -19.287150914157884, -17.765848025014694, -8.746077405358147, -6.150955473827416, -20.18309795809838, -7.76091237593039, -8.569613424058806, -5.35442774961613, -6.15375393384058, -8.477821338087363, -5.348253202075426, -5.435586462810836, -6.239953895529134, -10.23539095117698, -7.683571217503787, -9.359883258392601, -9.443339761335913, -0.6279969624493544, -6.961387534538577, -10.26894154013454, -4.636329513527055, -10.164335022431043, -8.48468899297919, -8.566932911605265, -10.320121073808952, -8.562699784185785, -20.172368190497565, -6.949160806824289, -7.033843849194889, -4.618787467036579, -9.438605371828983, -9.362866936134585, -6.231969207157837, -8.638025575157947, -18.576696250799667, -9.350273543900132, -10.167345475908927, -8.559049967642158, -16.97549059048435, -7.038955384125698, -9.53349918027707, -8.550980486047402, -7.75183285258247, -8.54711149711578, -10.18432365291388, -20.099769830985526, -8.477296355188184, -10.176407763327095, -10.167827945982946, -10.093120626341795, -8.62124556017745, -9.45654285039434, -9.286537223111088, -8.722121453632095, -7.7642211347909535, -18.645290680213133, -3.8885668249587244, -18.638822192173187, -16.969316248646287, -20.16105420440168, -18.002556913891645, -6.971349603174012, -10.09051382099759, -5.521276077721586, -7.181773308861706, -19.372334023906106, -17.03293078019957, -10.159937804701507, -10.488083502068505, -3.115724695135807, -9.35201618910137, -8.918026102779326, -6.947102033994062, -6.234088782589271, -8.5574370311192, -9.276382874898076, -20.178271570730665, -17.78406237004711, -7.762014114293888, -9.448653531178612, -17.783876147086403, -8.562788269211609, -8.571612318983798, -19.364109993872837, -8.561014544537182, -19.378491945933582, -9.27582546068788, -6.32819706323409, -6.960392502978412, -10.082576491111514, -10.15631406853519, -25.448828986078304, -9.370797550223369, -7.762985427023413, -18.575351863742327, -2.2875958702516392, -9.666473692063859, -17.049444194152564, -9.442909100553962, -9.356759331620015, -9.364517055684376, -3.2651316133389656, -7.756917166643838, -7.108071655509557, -15.434812831315224, -7.829441354858219, -7.037796904877021, -6.969818243118125, -9.274795214450464, -10.234123997431263, -9.347094225506197, -17.820541461415775, -6.234950304433529, -10.088614827654073, -10.173046784405562, -8.470277457567676], &#x27;episode_lengths&#x27;: [3, 1, 1, 2, 3, 1, 2, 3, 1, 2, 3, 3, 2, 2, 3, 2, 4, 4, 3, 3, 3, 2, 3, 2, 3, 1, 3, 1, 3, 2, 3, 3, 2, 2, 3, 1, 2, 3, 3, 1, 2, 2, 2, 3, 3, 2, 4, 4, 2, 3, 3, 2, 2, 2, 4, 2, 2, 1, 2, 3, 2, 1, 1, 2, 1, 7, 2, 2, 3, 2, 3, 2, 2, 3, 2, 2, 2, 3, 2, 4, 2, 2, 1, 2, 1, 2, 2, 2, 3, 1, 1, 4, 4, 3, 2, 2, 3, 3, 2, 3, 3, 2, 3, 2, 2, 2, 3, 2, 2, 3, 1, 2, 2, 6, 2, 1, 2, 3, 2, 2, 1, 2, 2, 3, 1, 3, 4, 2, 3, 3, 2, 2, 2, 2, 3, 3, 2, 3, 1, 2, 1, 2, 2, 3, 3, 2, 2, 3, 2, 4, 3, 3, 3, 3, 2, 2, 2, 2, 4, 5, 2, 1, 1, 2, 2, 4, 1, 1, 1, 3, 3, 2, 3, 1, 3, 4, 3, 3, 2, 6, 2, 2, 2, 3, 2, 3, 9, 4, 1, 1, 4, 1, 2, 2, 4, 2, 2, 4, 3, 2, 4, 2, 1, 2, 2, 3, 2, 2, 2, 1, 2, 3, 2, 3, 3, 2, 2, 2, 5, 4, 3, 2, 2, 2, 2, 2, 2, 1, 2, 1, 2, 2, 1, 3, 3, 2, 4, 2, 1, 4, 3, 2, 3, 2, 2, 2, 1, 3, 2, 2, 3, 4, 3, 1, 2, 2, 1, 2, 1, 3, 3, 2, 3, 3, 2, 1, 3, 3, 1, 2, 4, 2, 3, 4, 3, 1, 2, 1, 1, 2, 3, 3, 2, 2, 2, 5, 3, 2, 1, 2, 2, 2, 2, 1, 2, 1, 2, 4, 2, 2, 2, 2, 2, 2, 1, 2, 3, 3, 3, 1, 2, 3, 3, 2, 3, 3, 2, 1, 2, 4, 2, 2, 2, 3, 3, 3, 2, 3, 3, 2, 2, 2, 2, 2, 3, 4, 2, 2, 2, 2, 1, 1, 2, 2, 1, 3, 3, 1, 4, 2, 3, 4, 3, 2, 2, 5, 2, 1, 4, 5, 2, 3, 2, 6, 4, 2, 6, 2, 3, 2, 1, 2, 2, 2, 3, 2, 2, 2, 2, 2, 2, 1, 4, 2, 1, 2, 3, 2, 2, 2, 4, 16, 3, 3, 2, 2, 6, 2, 4, 3, 3, 3, 2, 1, 3, 2, 3, 3, 1, 2, 1]}, &#x27;sampler_perf&#x27;: {&#x27;mean_raw_obs_processing_ms&#x27;: 1.7189555971835808, &#x27;mean_inference_ms&#x27;: 2.836624851613868, &#x27;mean_action_processing_ms&#x27;: 0.23748462305688628, &#x27;mean_env_wait_ms&#x27;: 38.10354625510331, &#x27;mean_env_render_ms&#x27;: 0.0}, &#x27;num_faulty_episodes&#x27;: 0}</td><td style=\"text-align: right;\">             223.523</td><td style=\"text-align: right;\">           22.9466</td><td style=\"text-align: right;\">       223.523</td><td>{&#x27;training_iteration_time_ms&#x27;: 83.832}</td><td style=\"text-align: right;\"> 1677962394</td><td style=\"text-align: right;\">                        0</td><td style=\"text-align: right;\">            12024</td><td style=\"text-align: right;\">                  12</td><td>299b4_00000</td><td style=\"text-align: right;\">      10.8584</td></tr>\n",
       "</tbody>\n",
       "</table>\n",
       "</div>\n",
       "<style>\n",
       ".trialProgress {\n",
       "  display: flex;\n",
       "  flex-direction: column;\n",
       "  color: var(--jp-ui-font-color1);\n",
       "}\n",
       ".trialProgress h3 {\n",
       "  font-weight: bold;\n",
       "}\n",
       ".trialProgress td {\n",
       "  white-space: nowrap;\n",
       "}\n",
       "</style>\n"
      ],
      "text/plain": [
       "<IPython.core.display.HTML object>"
      ]
     },
     "metadata": {},
     "output_type": "display_data"
    },
    {
     "name": "stderr",
     "output_type": "stream",
     "text": [
      "\u001b[2m\u001b[33m(raylet)\u001b[0m [2023-03-04 21:36:30,285 E 4146 4196] (raylet) file_system_monitor.cc:105: /tmp/ray/session_2023-03-04_21-33-58_015046_3747 is over 95% full, available space: 318902272; capacity: 31845081088. Object creation will fail if spilling is required.\n",
      "\u001b[2m\u001b[33m(raylet)\u001b[0m [2023-03-04 21:36:40,292 E 4146 4196] (raylet) file_system_monitor.cc:105: /tmp/ray/session_2023-03-04_21-33-58_015046_3747 is over 95% full, available space: 318791680; capacity: 31845081088. Object creation will fail if spilling is required.\n",
      "\u001b[2m\u001b[33m(raylet)\u001b[0m [2023-03-04 21:36:50,297 E 4146 4196] (raylet) file_system_monitor.cc:105: /tmp/ray/session_2023-03-04_21-33-58_015046_3747 is over 95% full, available space: 318074880; capacity: 31845081088. Object creation will fail if spilling is required.\n",
      "\u001b[2m\u001b[33m(raylet)\u001b[0m [2023-03-04 21:37:00,303 E 4146 4196] (raylet) file_system_monitor.cc:105: /tmp/ray/session_2023-03-04_21-33-58_015046_3747 is over 95% full, available space: 317464576; capacity: 31845081088. Object creation will fail if spilling is required.\n",
      "\u001b[2m\u001b[33m(raylet)\u001b[0m [2023-03-04 21:37:10,308 E 4146 4196] (raylet) file_system_monitor.cc:105: /tmp/ray/session_2023-03-04_21-33-58_015046_3747 is over 95% full, available space: 314327040; capacity: 31845081088. Object creation will fail if spilling is required.\n",
      "\u001b[2m\u001b[33m(raylet)\u001b[0m [2023-03-04 21:37:20,319 E 4146 4196] (raylet) file_system_monitor.cc:105: /tmp/ray/session_2023-03-04_21-33-58_015046_3747 is over 95% full, available space: 311828480; capacity: 31845081088. Object creation will fail if spilling is required.\n",
      "\u001b[2m\u001b[33m(raylet)\u001b[0m [2023-03-04 21:37:30,333 E 4146 4196] (raylet) file_system_monitor.cc:105: /tmp/ray/session_2023-03-04_21-33-58_015046_3747 is over 95% full, available space: 311595008; capacity: 31845081088. Object creation will fail if spilling is required.\n",
      "\u001b[2m\u001b[33m(raylet)\u001b[0m [2023-03-04 21:37:40,342 E 4146 4196] (raylet) file_system_monitor.cc:105: /tmp/ray/session_2023-03-04_21-33-58_015046_3747 is over 95% full, available space: 311320576; capacity: 31845081088. Object creation will fail if spilling is required.\n",
      "\u001b[2m\u001b[33m(raylet)\u001b[0m [2023-03-04 21:37:50,350 E 4146 4196] (raylet) file_system_monitor.cc:105: /tmp/ray/session_2023-03-04_21-33-58_015046_3747 is over 95% full, available space: 310980608; capacity: 31845081088. Object creation will fail if spilling is required.\n",
      "\u001b[2m\u001b[33m(raylet)\u001b[0m [2023-03-04 21:38:00,356 E 4146 4196] (raylet) file_system_monitor.cc:105: /tmp/ray/session_2023-03-04_21-33-58_015046_3747 is over 95% full, available space: 310779904; capacity: 31845081088. Object creation will fail if spilling is required.\n",
      "\u001b[2m\u001b[33m(raylet)\u001b[0m [2023-03-04 21:38:10,361 E 4146 4196] (raylet) file_system_monitor.cc:105: /tmp/ray/session_2023-03-04_21-33-58_015046_3747 is over 95% full, available space: 310652928; capacity: 31845081088. Object creation will fail if spilling is required.\n",
      "\u001b[2m\u001b[33m(raylet)\u001b[0m [2023-03-04 21:38:20,370 E 4146 4196] (raylet) file_system_monitor.cc:105: /tmp/ray/session_2023-03-04_21-33-58_015046_3747 is over 95% full, available space: 310341632; capacity: 31845081088. Object creation will fail if spilling is required.\n",
      "\u001b[2m\u001b[33m(raylet)\u001b[0m [2023-03-04 21:38:30,376 E 4146 4196] (raylet) file_system_monitor.cc:105: /tmp/ray/session_2023-03-04_21-33-58_015046_3747 is over 95% full, available space: 310124544; capacity: 31845081088. Object creation will fail if spilling is required.\n",
      "\u001b[2m\u001b[33m(raylet)\u001b[0m [2023-03-04 21:38:40,393 E 4146 4196] (raylet) file_system_monitor.cc:105: /tmp/ray/session_2023-03-04_21-33-58_015046_3747 is over 95% full, available space: 309940224; capacity: 31845081088. Object creation will fail if spilling is required.\n",
      "\u001b[2m\u001b[33m(raylet)\u001b[0m [2023-03-04 21:38:50,398 E 4146 4196] (raylet) file_system_monitor.cc:105: /tmp/ray/session_2023-03-04_21-33-58_015046_3747 is over 95% full, available space: 309817344; capacity: 31845081088. Object creation will fail if spilling is required.\n",
      "\u001b[2m\u001b[33m(raylet)\u001b[0m [2023-03-04 21:39:00,403 E 4146 4196] (raylet) file_system_monitor.cc:105: /tmp/ray/session_2023-03-04_21-33-58_015046_3747 is over 95% full, available space: 309460992; capacity: 31845081088. Object creation will fail if spilling is required.\n",
      "\u001b[2m\u001b[33m(raylet)\u001b[0m [2023-03-04 21:39:10,410 E 4146 4196] (raylet) file_system_monitor.cc:105: /tmp/ray/session_2023-03-04_21-33-58_015046_3747 is over 95% full, available space: 309387264; capacity: 31845081088. Object creation will fail if spilling is required.\n",
      "\u001b[34m\u001b[1mwandb\u001b[0m: Adding directory to artifact (/home/daniel/DARM/darm_mujoco/darm_training/results/darm_mf_hand/test1_MF_RLlib_SAC/SAC_darm_DarmHand-v0_299b4_00000_0_2023-03-04_21-35-55/checkpoint_000010)... Done. 0.0s\n",
      "\u001b[2m\u001b[33m(raylet)\u001b[0m [2023-03-04 21:39:20,422 E 4146 4196] (raylet) file_system_monitor.cc:105: /tmp/ray/session_2023-03-04_21-33-58_015046_3747 is over 95% full, available space: 305418240; capacity: 31845081088. Object creation will fail if spilling is required.\n",
      "\u001b[2m\u001b[33m(raylet)\u001b[0m [2023-03-04 21:39:30,431 E 4146 4196] (raylet) file_system_monitor.cc:105: /tmp/ray/session_2023-03-04_21-33-58_015046_3747 is over 95% full, available space: 305061888; capacity: 31845081088. Object creation will fail if spilling is required.\n",
      "\u001b[2m\u001b[33m(raylet)\u001b[0m [2023-03-04 21:39:40,441 E 4146 4196] (raylet) file_system_monitor.cc:105: /tmp/ray/session_2023-03-04_21-33-58_015046_3747 is over 95% full, available space: 304877568; capacity: 31845081088. Object creation will fail if spilling is required.\n",
      "\u001b[2m\u001b[33m(raylet)\u001b[0m [2023-03-04 21:39:50,453 E 4146 4196] (raylet) file_system_monitor.cc:105: /tmp/ray/session_2023-03-04_21-33-58_015046_3747 is over 95% full, available space: 304783360; capacity: 31845081088. Object creation will fail if spilling is required.\n",
      "2023-03-04 21:39:54,766\tWARNING tune.py:690 -- Stop signal received (e.g. via SIGINT/Ctrl+C), ending Ray Tune run. This will try to checkpoint the experiment state one last time. Press CTRL+C (or send SIGINT/SIGKILL/SIGTERM) to skip. \n",
      "2023-03-04 21:39:54,814\tWARNING tune.py:690 -- Stop signal received (e.g. via SIGINT/Ctrl+C), ending Ray Tune run. This will try to checkpoint the experiment state one last time. Press CTRL+C (or send SIGINT/SIGKILL/SIGTERM) to skip. \n",
      "2023-03-04 21:39:55,161\tERROR tune.py:758 -- Trials did not complete: [SAC_darm_DarmHand-v0_299b4_00000]\n",
      "2023-03-04 21:39:55,162\tINFO tune.py:762 -- Total run time: 239.92 seconds (239.64 seconds for the tuning loop).\n",
      "2023-03-04 21:39:55,163\tWARNING tune.py:768 -- Experiment has been interrupted, but the most recent state was saved. You can continue running this experiment by passing `resume=True` to `tune.run()`\n",
      "\u001b[2m\u001b[33m(raylet)\u001b[0m [2023-03-04 21:40:00,465 E 4146 4196] (raylet) file_system_monitor.cc:105: /tmp/ray/session_2023-03-04_21-33-58_015046_3747 is over 95% full, available space: 303046656; capacity: 31845081088. Object creation will fail if spilling is required.\n",
      "\u001b[2m\u001b[33m(raylet)\u001b[0m [2023-03-04 21:40:10,474 E 4146 4196] (raylet) file_system_monitor.cc:105: /tmp/ray/session_2023-03-04_21-33-58_015046_3747 is over 95% full, available space: 302878720; capacity: 31845081088. Object creation will fail if spilling is required.\n",
      "\u001b[2m\u001b[33m(raylet)\u001b[0m [2023-03-04 21:40:20,481 E 4146 4196] (raylet) file_system_monitor.cc:105: /tmp/ray/session_2023-03-04_21-33-58_015046_3747 is over 95% full, available space: 302698496; capacity: 31845081088. Object creation will fail if spilling is required.\n",
      "\u001b[2m\u001b[33m(raylet)\u001b[0m [2023-03-04 21:40:30,494 E 4146 4196] (raylet) file_system_monitor.cc:105: /tmp/ray/session_2023-03-04_21-33-58_015046_3747 is over 95% full, available space: 302628864; capacity: 31845081088. Object creation will fail if spilling is required.\n",
      "\u001b[2m\u001b[33m(raylet)\u001b[0m [2023-03-04 21:40:40,502 E 4146 4196] (raylet) file_system_monitor.cc:105: /tmp/ray/session_2023-03-04_21-33-58_015046_3747 is over 95% full, available space: 302538752; capacity: 31845081088. Object creation will fail if spilling is required.\n",
      "\u001b[2m\u001b[33m(raylet)\u001b[0m [2023-03-04 21:40:50,517 E 4146 4196] (raylet) file_system_monitor.cc:105: /tmp/ray/session_2023-03-04_21-33-58_015046_3747 is over 95% full, available space: 302497792; capacity: 31845081088. Object creation will fail if spilling is required.\n",
      "\u001b[2m\u001b[33m(raylet)\u001b[0m [2023-03-04 21:41:00,531 E 4146 4196] (raylet) file_system_monitor.cc:105: /tmp/ray/session_2023-03-04_21-33-58_015046_3747 is over 95% full, available space: 302395392; capacity: 31845081088. Object creation will fail if spilling is required.\n"
     ]
    }
   ],
   "source": [
    "# TODO: \n",
    "# change: name\n",
    "# change: checkpoint_freq\n",
    "\n",
    "sync_config = tune.SyncConfig()\n",
    "\n",
    "tuner = tune.Tuner(\n",
    "    \"SAC\",\n",
    "    param_space=config,\n",
    "    run_config=air.RunConfig(\n",
    "        name=run_name,\n",
    "        sync_config=sync_config,\n",
    "        stop={\"episode_reward_mean\": wandb_init[\"config\"][\"stop_episode_reward_mean\"]},\n",
    "        \n",
    "        local_dir=wandb_init[\"config\"][\"run_local_dir\"],\n",
    "        checkpoint_config=air.CheckpointConfig(\n",
    "            checkpoint_at_end = wandb_init[\"config\"][\"checkpoint_at_end\"],\n",
    "            checkpoint_score_attribute = wandb_init[\"config\"][\"checkpoint_score_attribute\"],  # or leave to save last chkpts\n",
    "            checkpoint_score_order = wandb_init[\"config\"][\"checkpoint_score_order\"],\n",
    "            checkpoint_frequency = wandb_init[\"config\"][\"checkpoint_frequency\"],\n",
    "            num_to_keep = wandb_init[\"config\"][\"num_checkpoints_to_keep\"]\n",
    "        ),\n",
    "        callbacks=[\n",
    "                WandbLoggerCallback(project=\"DARM\", \n",
    "                                    api_key=\"392c8a47eb0658eb5c71190757a69110e2140f4a\",\n",
    "                                    save_checkpoints=wandb_init[\"config\"][\"save_checkpoints_to_wandb\"], \n",
    "                                    **wandb_init)\n",
    "            ],\n",
    "        )\n",
    "    \n",
    ")\n",
    "\n",
    "results = tuner.fit()"
   ]
  },
  {
   "cell_type": "code",
   "execution_count": 16,
   "id": "1e3264d3-86a3-430c-bae2-940f2da854d2",
   "metadata": {},
   "outputs": [],
   "source": [
    "# Ensure wandb is sysncing to cloud\n",
    "# cd to darm_training again if not"
   ]
  },
  {
   "cell_type": "code",
   "execution_count": 10,
   "id": "ed17fb23-77b1-4e35-95b7-a44b6e342691",
   "metadata": {
    "tags": []
   },
   "outputs": [
    {
     "name": "stderr",
     "output_type": "stream",
     "text": [
      "2023-02-11 17:26:13,607\tINFO experiment_analysis.py:795 -- No `self.trials`. Drawing logdirs from checkpoint file. This may result in some information that is out of sync, as checkpointing is periodic.\n"
     ]
    },
    {
     "data": {
      "text/plain": [
       "<ray.tune.tuner.Tuner at 0x7fede99d9a90>"
      ]
     },
     "execution_count": 10,
     "metadata": {},
     "output_type": "execute_result"
    },
    {
     "name": "stderr",
     "output_type": "stream",
     "text": [
      "\u001b[2m\u001b[33m(raylet)\u001b[0m [2023-02-11 17:26:16,601 E 14732 14777] (raylet) file_system_monitor.cc:105: /tmp/ray/session_2023-02-11_17-23-24_266872_14581 is over 95% full, available space: 1061720064; capacity: 31845081088. Object creation will fail if spilling is required.\n"
     ]
    }
   ],
   "source": [
    "# TODO:\n",
    "# change: experiment name\n",
    "\n",
    "# Restore Interrupted run\n",
    "tuner = tune.Tuner.restore(\n",
    "    f\"{wandb_init['config']['run_local_dir']}/{run_name}\",\n",
    "    resume_errored=True\n",
    ")\n",
    "tuner"
   ]
  },
  {
   "cell_type": "code",
   "execution_count": 15,
   "id": "160c2790-f9ac-41cb-8198-d571d2c51332",
   "metadata": {
    "tags": []
   },
   "outputs": [
    {
     "data": {
      "text/plain": [
       "<ray.tune.result_grid.ResultGrid at 0x7fcd58384b80>"
      ]
     },
     "execution_count": 15,
     "metadata": {},
     "output_type": "execute_result"
    }
   ],
   "source": [
    "results = tuner.get_results()\n",
    "results"
   ]
  },
  {
   "cell_type": "code",
   "execution_count": 16,
   "id": "ace959cb-3e05-4caa-8dd9-f00bbab33eb0",
   "metadata": {
    "collapsed": true,
    "jupyter": {
     "outputs_hidden": true
    },
    "tags": []
   },
   "outputs": [
    {
     "data": {
      "text/plain": [
       "Result(metrics={'custom_metrics': {}, 'episode_media': {}, 'info': {'learner': {'default_policy': {'learner_stats': {'allreduce_latency': 0.0, 'grad_gnorm': 8.343955039978027, 'actor_loss': -5.076763153076172, 'critic_loss': 0.4612053632736206, 'alpha_loss': -0.850807249546051, 'alpha_value': 0.9030595, 'log_alpha_value': -0.101966895, 'target_entropy': -5.0, 'policy_t': -0.01997794397175312, 'mean_q': 2.0334110260009766, 'max_q': 2.8355112075805664, 'min_q': 1.038293480873108}, 'td_error': array([9.46030378e-01, 4.29627061e-01, 2.65497327e-01, 8.43869328e-01,\n",
       "       1.09686172e+00, 7.66791701e-01, 7.26696014e-01, 5.70532084e-02,\n",
       "       1.14584994e+00, 4.43507016e-01, 1.04901314e-01, 1.52089047e+00,\n",
       "       6.52013183e-01, 8.16148460e-01, 1.08409297e+00, 2.61833251e-01,\n",
       "       3.79876256e-01, 9.56449747e-01, 5.75677335e-01, 1.02149987e+00,\n",
       "       1.76170349e-01, 9.50863540e-01, 7.04805613e-01, 3.25276971e-01,\n",
       "       6.36387825e-01, 8.46629441e-01, 5.59558868e-02, 8.83865356e-03,\n",
       "       7.97627211e-01, 8.26396644e-01, 9.43091869e-01, 2.46674316e+02,\n",
       "       5.55538654e-01, 7.27864265e-01, 1.29726791e+00, 4.26257730e-01,\n",
       "       4.88600850e-01, 7.20911384e-01, 6.31772637e-01, 1.28249526e+00,\n",
       "       7.96164632e-01, 3.33085537e+00, 3.80529928e+00, 9.50119078e-01,\n",
       "       8.29495788e-01, 4.02090669e-01, 9.92336035e-01, 4.70980978e+00,\n",
       "       7.12400794e-01, 5.61774313e-01, 8.87979388e-01, 6.99178576e-02,\n",
       "       7.03785896e-01, 3.68088245e+00, 4.42697144e+00, 3.84785533e-02,\n",
       "       4.06367898e-01, 9.53655124e-01, 1.01472402e+00, 6.36071920e-01,\n",
       "       3.92946482e-01, 2.85786510e-01, 7.28411913e-01, 4.54745054e-01,\n",
       "       5.25969863e-02, 6.62682295e-01, 2.46527893e+02, 3.33758354e-01,\n",
       "       3.90868187e-01, 2.47024506e+02, 3.74032736e-01, 7.44001746e-01,\n",
       "       1.19754124e+00, 1.98264122e-01, 5.89548111e-01, 7.19748855e-01,\n",
       "       6.91104770e-01, 2.46527893e+02, 1.00903511e+00, 8.68608594e-01,\n",
       "       1.46339655e-01, 8.63849521e-01, 6.97440386e-01, 6.95250630e-01,\n",
       "       1.08643126e+00, 2.53858209e-01, 9.59976912e-01, 3.65842342e-01,\n",
       "       5.75604081e-01, 1.01638889e+00, 5.54916143e-01, 2.61025906e-01,\n",
       "       3.69157314e-01, 5.89906454e-01, 9.18144405e-01, 9.76853013e-01,\n",
       "       7.45771408e-01, 7.41098404e-01, 3.15677047e-01, 1.40482628e+00,\n",
       "       8.13360214e-02, 1.82469726e-01, 9.30288076e-01, 1.78921580e-01,\n",
       "       2.64111042e-01, 7.66712904e-01, 2.51149416e-01, 3.72322750e+00,\n",
       "       1.50621676e+00, 1.34934068e-01, 8.34389687e-01, 2.28880048e-01,\n",
       "       2.46911713e+02, 8.71338129e-01, 1.41575491e+00, 1.15829027e+00,\n",
       "       4.01661396e-01, 3.22172642e-02, 1.03146315e+00, 1.20233822e+00,\n",
       "       3.63595724e-01, 3.59781146e-01, 3.90814304e-01, 7.14776337e-01,\n",
       "       2.03609109e-01, 8.17107201e-01, 1.51301539e+00, 9.68729496e-01,\n",
       "       8.05726111e-01, 6.48125052e-01, 4.55322862e-01, 2.52527475e-01,\n",
       "       6.16939187e-01, 7.07782507e-01, 2.46674316e+02, 5.37988365e-01,\n",
       "       8.88993800e-01, 6.42939091e-01, 5.66157341e-01, 7.45199919e-01,\n",
       "       4.95904922e-01, 5.44749737e-01, 1.33524406e+00, 1.09470248e+00,\n",
       "       4.20443952e-01, 2.31693149e-01, 1.49213076e-01, 4.79452491e-01,\n",
       "       5.01387000e-01, 6.36883974e-01, 9.08940554e-01, 2.35339999e-02,\n",
       "       1.09470153e+00, 6.25958681e-01, 4.33341503e-01, 8.15379143e-01,\n",
       "       1.10253215e+00, 1.11163783e+00, 6.50242090e-01, 3.74678016e-01,\n",
       "       5.57896376e-01, 6.90997720e-01, 1.67405367e-01, 5.14347076e-01,\n",
       "       6.10636115e-01, 1.26651037e+00, 1.06177032e-01, 1.89136624e-01,\n",
       "       7.38880932e-01, 1.18341660e+00, 2.61298299e-01, 1.94938481e-01,\n",
       "       2.90627241e-01, 8.71249318e-01, 5.99144578e-01, 5.03087521e-01,\n",
       "       1.23708069e+00, 3.05450976e-01, 3.46238852e-01, 5.79999447e-01,\n",
       "       1.01897049e+00, 1.15455341e+00, 3.51977944e-01, 4.95337844e-01,\n",
       "       1.29761028e+00, 2.77725697e-01, 9.85441983e-01, 6.46635413e-01,\n",
       "       7.72787869e-01, 1.04821801e-01, 1.34492373e+00, 2.94095612e+00,\n",
       "       1.16106701e+00, 1.31630957e-01, 9.86808658e-01, 4.82740879e-01,\n",
       "       2.54980326e-01, 4.74518299e-01, 4.15986300e-01, 1.08055830e-01,\n",
       "       6.39527440e-01, 1.52761579e-01, 4.26321507e-01, 8.16009641e-01,\n",
       "       7.27825999e-01, 1.11527145e-01, 1.66661322e-01, 5.02551913e-01,\n",
       "       1.97000146e-01, 4.07129705e-01, 7.51043320e-01, 2.46911713e+02,\n",
       "       7.29810119e-01, 6.43945575e-01, 1.79764152e-01, 5.80982447e-01,\n",
       "       2.05063581e-01, 1.04409027e+00, 4.56080079e-01, 4.46982563e-01,\n",
       "       9.81729567e-01, 6.59761965e-01, 2.98615646e+00, 2.80451059e-01,\n",
       "       4.59819794e-01, 9.62480664e-01, 1.36348128e-01, 9.03037906e-01,\n",
       "       7.55133808e-01, 1.33910954e-01, 6.25847220e-01, 4.72928882e-01,\n",
       "       1.15204036e-01, 1.34494066e+00, 3.28659534e-01, 7.61413455e-01,\n",
       "       2.46207031e+02, 5.60174465e-01, 6.26057982e-01, 7.27932453e-01,\n",
       "       5.94342828e-01, 1.06366754e-01, 8.86531234e-01, 7.32596040e-01,\n",
       "       6.20095134e-01, 5.57798028e-01, 7.78808892e-01, 2.44230628e-01,\n",
       "       4.23718333e-01, 1.13543332e-01, 5.97412705e-01, 7.66506553e-01,\n",
       "       7.60311723e-01, 6.40589774e-01, 4.38361287e-01, 9.32641983e-01],\n",
       "      dtype=float32), 'mean_td_error': 8.407605171203613, 'model': {}, 'custom_metrics': {}, 'num_agent_steps_trained': 256.0, 'num_grad_updates_lifetime': 341.0, 'diff_num_grad_updates_vs_sampler_policy': 340.0}}, 'num_env_steps_sampled': 11022, 'num_env_steps_trained': 87296, 'num_agent_steps_sampled': 11022, 'num_agent_steps_trained': 87296, 'last_target_update_ts': 11022, 'num_target_updates': 341}, 'sampler_results': {'episode_reward_max': -175.28551595658064, 'episode_reward_min': -191.91201797127724, 'episode_reward_mean': -183.6617713689804, 'episode_len_mean': 100.0, 'episode_media': {}, 'episodes_this_iter': 10, 'policy_reward_min': {}, 'policy_reward_max': {}, 'policy_reward_mean': {}, 'custom_metrics': {}, 'hist_stats': {'episode_reward': [-177.71922475099564, -187.68662855029106, -175.28551595658064, -185.17646113038063, -188.07598569989204, -183.15926399081945, -187.51414139568806, -191.91201797127724, -180.03978146612644, -180.04869277775288], 'episode_lengths': [100, 100, 100, 100, 100, 100, 100, 100, 100, 100]}, 'sampler_perf': {'mean_raw_obs_processing_ms': 1.2209175070937799, 'mean_inference_ms': 2.2407887063058864, 'mean_action_processing_ms': 0.21747991990069954, 'mean_env_wait_ms': 3.0381576901390437, 'mean_env_render_ms': 0.0}, 'num_faulty_episodes': 0}, 'episode_reward_max': -175.28551595658064, 'episode_reward_min': -191.91201797127724, 'episode_reward_mean': -183.6617713689804, 'episode_len_mean': 100.0, 'episodes_this_iter': 10, 'policy_reward_min': {}, 'policy_reward_max': {}, 'policy_reward_mean': {}, 'hist_stats': {'episode_reward': [-177.71922475099564, -187.68662855029106, -175.28551595658064, -185.17646113038063, -188.07598569989204, -183.15926399081945, -187.51414139568806, -191.91201797127724, -180.03978146612644, -180.04869277775288], 'episode_lengths': [100, 100, 100, 100, 100, 100, 100, 100, 100, 100]}, 'sampler_perf': {'mean_raw_obs_processing_ms': 1.2209175070937799, 'mean_inference_ms': 2.2407887063058864, 'mean_action_processing_ms': 0.21747991990069954, 'mean_env_wait_ms': 3.0381576901390437, 'mean_env_render_ms': 0.0}, 'num_faulty_episodes': 0, 'num_healthy_workers': 3, 'num_in_flight_async_reqs': 0, 'num_remote_worker_restarts': 0, 'num_agent_steps_sampled': 11022, 'num_agent_steps_trained': 87296, 'num_env_steps_sampled': 11022, 'num_env_steps_trained': 87296, 'num_env_steps_sampled_this_iter': 1002, 'num_env_steps_trained_this_iter': 85504, 'num_steps_trained_this_iter': 85504, 'agent_timesteps_total': 11022, 'timers': {'training_iteration_time_ms': 147.211, 'load_time_ms': 0.259, 'load_throughput': 986985.774, 'learn_time_ms': 24.022, 'learn_throughput': 10657.075, 'synch_weights_time_ms': 5.359}, 'counters': {'num_env_steps_sampled': 11022, 'num_env_steps_trained': 87296, 'num_agent_steps_sampled': 11022, 'num_agent_steps_trained': 87296, 'last_target_update_ts': 11022, 'num_target_updates': 341}, 'done': False, 'trial_id': 'ad8de_00000', 'perf': {'cpu_util_percent': 38.9536231884058, 'ram_util_percent': 87.61304347826086}, 'experiment_tag': '0'}, error=None, log_dir=PosixPath('/home/daniel/DARM/darm_mujoco/darm_training/results/Test_DARMSF_DELTA_TARGET/SAC_darm_DarmSFHand-v0_a1dbe_00000_0_2023-02-11_16-49-13/results/Test_DARMSF_DELTA_TARGET/SAC_darm_DarmSFHand-v0_ad8de_00000_0_2023-02-11_16-56-43'))"
      ]
     },
     "execution_count": 16,
     "metadata": {},
     "output_type": "execute_result"
    }
   ],
   "source": [
    "# Get the best result based on a particular metric.\n",
    "best_result = results.get_best_result(metric=\"episode_reward_mean\", mode=\"max\")\n",
    "best_result"
   ]
  },
  {
   "cell_type": "code",
   "execution_count": 17,
   "id": "beca7170-c89a-402c-afb7-ce88cf5524b7",
   "metadata": {
    "tags": []
   },
   "outputs": [
    {
     "data": {
      "text/plain": [
       "Checkpoint(local_path=/home/daniel/DARM/darm_mujoco/darm_training/results/Test_DARMSF_DELTA_TARGET/SAC_darm_DarmSFHand-v0_a1dbe_00000_0_2023-02-11_16-49-13/results/Test_DARMSF_DELTA_TARGET/SAC_darm_DarmSFHand-v0_ad8de_00000_0_2023-02-11_16-56-43/checkpoint_000011)"
      ]
     },
     "execution_count": 17,
     "metadata": {},
     "output_type": "execute_result"
    },
    {
     "name": "stderr",
     "output_type": "stream",
     "text": [
      "\u001b[2m\u001b[33m(raylet)\u001b[0m [2023-02-11 17:00:32,579 E 9254 9299] (raylet) file_system_monitor.cc:105: /tmp/ray/session_2023-02-11_16-49-09_974082_9002 is over 95% full, available space: 1129005056; capacity: 31845081088. Object creation will fail if spilling is required.\n",
      "\u001b[2m\u001b[33m(raylet)\u001b[0m [2023-02-11 17:00:42,596 E 9254 9299] (raylet) file_system_monitor.cc:105: /tmp/ray/session_2023-02-11_16-49-09_974082_9002 is over 95% full, available space: 1129254912; capacity: 31845081088. Object creation will fail if spilling is required.\n",
      "\u001b[2m\u001b[33m(raylet)\u001b[0m [2023-02-11 17:00:52,615 E 9254 9299] (raylet) file_system_monitor.cc:105: /tmp/ray/session_2023-02-11_16-49-09_974082_9002 is over 95% full, available space: 1129238528; capacity: 31845081088. Object creation will fail if spilling is required.\n"
     ]
    }
   ],
   "source": [
    "# Get the best checkpoint corresponding to the best result.\n",
    "best_checkpoint = best_result.checkpoint\n",
    "best_checkpoint"
   ]
  },
  {
   "cell_type": "code",
   "execution_count": 11,
   "id": "3b9e8a43-146c-4a5b-99b7-12384ff38b84",
   "metadata": {
    "collapsed": true,
    "jupyter": {
     "outputs_hidden": true
    },
    "tags": []
   },
   "outputs": [
    {
     "name": "stderr",
     "output_type": "stream",
     "text": [
      "2023-02-11 16:38:32,937\tWARNING algorithm_config.py:488 -- Cannot create SACConfig from given `config_dict`! Property __stdout_file__ not supported.\n",
      "2023-02-11 16:38:32,949\tINFO algorithm.py:501 -- Current log_level is WARN. For more information, set 'log_level': 'INFO' / 'DEBUG' or use the -v and -vv flags.\n",
      "\u001b[2m\u001b[33m(raylet)\u001b[0m [2023-02-11 16:38:35,741 E 6815 6860] (raylet) file_system_monitor.cc:105: /tmp/ray/session_2023-02-11_16-34-33_438228_6699 is over 95% full, available space: 1174347776; capacity: 31845081088. Object creation will fail if spilling is required.\n"
     ]
    },
    {
     "name": "stdout",
     "output_type": "stream",
     "text": [
      "\u001b[2m\u001b[36m(RolloutWorker pid=7501)\u001b[0m Loaded XML file successfully\n"
     ]
    },
    {
     "name": "stderr",
     "output_type": "stream",
     "text": [
      "\u001b[2m\u001b[36m(RolloutWorker pid=7501)\u001b[0m /home/daniel/miniconda3/lib/python3.8/site-packages/gym/spaces/box.py:73: UserWarning: \u001b[33mWARN: Box bound precision lowered by casting to float32\u001b[0m\n",
      "\u001b[2m\u001b[36m(RolloutWorker pid=7501)\u001b[0m   logger.warn(\n",
      "\u001b[2m\u001b[36m(RolloutWorker pid=7500)\u001b[0m /home/daniel/miniconda3/lib/python3.8/site-packages/gym/spaces/box.py:73: UserWarning: \u001b[33mWARN: Box bound precision lowered by casting to float32\u001b[0m\n",
      "\u001b[2m\u001b[36m(RolloutWorker pid=7500)\u001b[0m   logger.warn(\n",
      "\u001b[2m\u001b[36m(RolloutWorker pid=7500)\u001b[0m 2023-02-11 16:38:38,536\tWARNING env.py:147 -- Your env doesn't have a .spec.max_episode_steps attribute. This is fine if you have set 'horizon' in your config dictionary, or `soft_horizon`. However, if you haven't, 'horizon' will default to infinity, and your environment will not be reset.\n"
     ]
    },
    {
     "name": "stdout",
     "output_type": "stream",
     "text": [
      "\u001b[2m\u001b[36m(RolloutWorker pid=7500)\u001b[0m Loaded XML file successfully\n"
     ]
    },
    {
     "name": "stderr",
     "output_type": "stream",
     "text": [
      "\u001b[2m\u001b[36m(RolloutWorker pid=7502)\u001b[0m /home/daniel/miniconda3/lib/python3.8/site-packages/gym/spaces/box.py:73: UserWarning: \u001b[33mWARN: Box bound precision lowered by casting to float32\u001b[0m\n",
      "\u001b[2m\u001b[36m(RolloutWorker pid=7502)\u001b[0m   logger.warn(\n"
     ]
    },
    {
     "name": "stdout",
     "output_type": "stream",
     "text": [
      "\u001b[2m\u001b[36m(RolloutWorker pid=7502)\u001b[0m Loaded XML file successfully\n"
     ]
    },
    {
     "name": "stderr",
     "output_type": "stream",
     "text": [
      "/home/daniel/miniconda3/lib/python3.8/site-packages/gym/spaces/box.py:73: UserWarning: \u001b[33mWARN: Box bound precision lowered by casting to float32\u001b[0m\n",
      "  logger.warn(\n",
      "2023-02-11 16:38:39,885\tWARNING env.py:147 -- Your env doesn't have a .spec.max_episode_steps attribute. This is fine if you have set 'horizon' in your config dictionary, or `soft_horizon`. However, if you haven't, 'horizon' will default to infinity, and your environment will not be reset.\n",
      "2023-02-11 16:38:39,927\tWARNING util.py:66 -- Install gputil for GPU system monitoring.\n"
     ]
    },
    {
     "name": "stdout",
     "output_type": "stream",
     "text": [
      "Loaded XML file successfully\n"
     ]
    },
    {
     "data": {
      "text/plain": [
       "SAC"
      ]
     },
     "execution_count": 11,
     "metadata": {},
     "output_type": "execute_result"
    }
   ],
   "source": [
    "# Get Algorithm from saved checkpoint\n",
    "from ray.rllib.algorithms.algorithm import Algorithm\n",
    "algo = Algorithm.from_checkpoint(best_checkpoint._local_path)\n",
    "algo"
   ]
  },
  {
   "cell_type": "code",
   "execution_count": 11,
   "id": "a9cff7c5-f517-4287-9447-668320c35452",
   "metadata": {
    "collapsed": true,
    "jupyter": {
     "outputs_hidden": true
    },
    "tags": []
   },
   "outputs": [
    {
     "name": "stderr",
     "output_type": "stream",
     "text": [
      "2023-02-11 17:26:26,421\tINFO trial_runner.py:688 -- A local experiment checkpoint was found and will be used to restore the previous experiment state.\n",
      "2023-02-11 17:26:26,422\tINFO trial_runner.py:825 -- Using following checkpoint to resume: /home/daniel/DARM/darm_mujoco/darm_training/results/Test_DARMSF_DELTA_TARGET/experiment_state-2023-02-11_17-23-28.json\n",
      "2023-02-11 17:26:26,426\tWARNING trial_runner.py:830 -- Attempting to resume experiment from /home/daniel/DARM/darm_mujoco/darm_training/results/Test_DARMSF_DELTA_TARGET. This will ignore any new changes to the specification.\n",
      "2023-02-11 17:26:26,440\tINFO tune.py:653 -- TrialRunner resumed, ignoring new add_experiment but updating trial resources.\n"
     ]
    },
    {
     "data": {
      "text/html": [
       "<div class=\"tuneStatus\">\n",
       "  <div style=\"display: flex;flex-direction: row\">\n",
       "    <div style=\"display: flex;flex-direction: column;\">\n",
       "      <h3>Tune Status</h3>\n",
       "      <table>\n",
       "<tbody>\n",
       "<tr><td>Current time:</td><td>2023-02-11 17:29:20</td></tr>\n",
       "<tr><td>Running for: </td><td>00:02:54.01        </td></tr>\n",
       "<tr><td>Memory:      </td><td>6.3/7.5 GiB        </td></tr>\n",
       "</tbody>\n",
       "</table>\n",
       "    </div>\n",
       "    <div class=\"vDivider\"></div>\n",
       "    <div class=\"systemInfo\">\n",
       "      <h3>System Info</h3>\n",
       "      Using FIFO scheduling algorithm.<br>Resources requested: 4.0/4 CPUs, 0/0 GPUs, 0.0/1.72 GiB heap, 0.0/0.86 GiB objects\n",
       "    </div>\n",
       "    \n",
       "  </div>\n",
       "  <div class=\"hDivider\"></div>\n",
       "  <div class=\"trialStatus\">\n",
       "    <h3>Trial Status</h3>\n",
       "    <table>\n",
       "<thead>\n",
       "<tr><th>Trial name                        </th><th>status  </th><th>loc                 </th><th style=\"text-align: right;\">  iter</th><th style=\"text-align: right;\">  total time (s)</th><th style=\"text-align: right;\">   ts</th><th style=\"text-align: right;\">  reward</th><th style=\"text-align: right;\">  episode_reward_max</th><th style=\"text-align: right;\">  episode_reward_min</th><th style=\"text-align: right;\">  episode_len_mean</th></tr>\n",
       "</thead>\n",
       "<tbody>\n",
       "<tr><td>SAC_darm_DarmSFHand-v0_6a944_00000</td><td>RUNNING </td><td>192.168.152.36:15703</td><td style=\"text-align: right;\">    13</td><td style=\"text-align: right;\">         227.817</td><td style=\"text-align: right;\">13026</td><td style=\"text-align: right;\">-179.588</td><td style=\"text-align: right;\">            -166.097</td><td style=\"text-align: right;\">            -189.684</td><td style=\"text-align: right;\">               100</td></tr>\n",
       "</tbody>\n",
       "</table>\n",
       "  </div>\n",
       "</div>\n",
       "<style>\n",
       ".tuneStatus {\n",
       "  color: var(--jp-ui-font-color1);\n",
       "}\n",
       ".tuneStatus .systemInfo {\n",
       "  display: flex;\n",
       "  flex-direction: column;\n",
       "}\n",
       ".tuneStatus td {\n",
       "  white-space: nowrap;\n",
       "}\n",
       ".tuneStatus .trialStatus {\n",
       "  display: flex;\n",
       "  flex-direction: column;\n",
       "}\n",
       ".tuneStatus h3 {\n",
       "  font-weight: bold;\n",
       "}\n",
       ".tuneStatus .hDivider {\n",
       "  border-bottom-width: var(--jp-border-width);\n",
       "  border-bottom-color: var(--jp-border-color0);\n",
       "  border-bottom-style: solid;\n",
       "}\n",
       ".tuneStatus .vDivider {\n",
       "  border-left-width: var(--jp-border-width);\n",
       "  border-left-color: var(--jp-border-color0);\n",
       "  border-left-style: solid;\n",
       "  margin: 0.5em 1em 0.5em 1em;\n",
       "}\n",
       "</style>\n"
      ],
      "text/plain": [
       "<IPython.core.display.HTML object>"
      ]
     },
     "metadata": {},
     "output_type": "display_data"
    },
    {
     "name": "stderr",
     "output_type": "stream",
     "text": [
      "\u001b[2m\u001b[33m(raylet)\u001b[0m [2023-02-11 17:26:26,618 E 14732 14777] (raylet) file_system_monitor.cc:105: /tmp/ray/session_2023-02-11_17-23-24_266872_14581 is over 95% full, available space: 1061683200; capacity: 31845081088. Object creation will fail if spilling is required.\n",
      "\u001b[34m\u001b[1mwandb\u001b[0m: Currently logged in as: \u001b[33mdanieladejumo\u001b[0m. Use \u001b[1m`wandb login --relogin`\u001b[0m to force relogin\n",
      "\u001b[2m\u001b[36m(SAC pid=15703)\u001b[0m 2023-02-11 17:26:30,934\tWARNING algorithm_config.py:488 -- Cannot create SACConfig from given `config_dict`! Property __stdout_file__ not supported.\n",
      "\u001b[2m\u001b[36m(SAC pid=15703)\u001b[0m 2023-02-11 17:26:31,413\tINFO algorithm.py:501 -- Current log_level is WARN. For more information, set 'log_level': 'INFO' / 'DEBUG' or use the -v and -vv flags.\n"
     ]
    },
    {
     "data": {
      "text/html": [
       "Tracking run with wandb version 0.13.10"
      ],
      "text/plain": [
       "<IPython.core.display.HTML object>"
      ]
     },
     "metadata": {},
     "output_type": "display_data"
    },
    {
     "data": {
      "text/html": [
       "Run data is saved locally in <code>/home/daniel/DARM/darm_mujoco/darm_training/results/Test_DARMSF_DELTA_TARGET/SAC_darm_DarmSFHand-v0_6a944_00000_0_2023-02-11_17-23-28/wandb/run-20230211_172629-6a944_00000</code>"
      ],
      "text/plain": [
       "<IPython.core.display.HTML object>"
      ]
     },
     "metadata": {},
     "output_type": "display_data"
    },
    {
     "data": {
      "text/html": [
       "Resuming run <strong><a href='https://wandb.ai/danieladejumo/DARM/runs/6a944_00000' target=\"_blank\">Test_DARMSF_DELTA_TARGET</a></strong> to <a href='https://wandb.ai/danieladejumo/DARM' target=\"_blank\">Weights & Biases</a> (<a href='https://wandb.me/run' target=\"_blank\">docs</a>)<br/>"
      ],
      "text/plain": [
       "<IPython.core.display.HTML object>"
      ]
     },
     "metadata": {},
     "output_type": "display_data"
    },
    {
     "data": {
      "text/html": [
       " View project at <a href='https://wandb.ai/danieladejumo/DARM' target=\"_blank\">https://wandb.ai/danieladejumo/DARM</a>"
      ],
      "text/plain": [
       "<IPython.core.display.HTML object>"
      ]
     },
     "metadata": {},
     "output_type": "display_data"
    },
    {
     "data": {
      "text/html": [
       " View run at <a href='https://wandb.ai/danieladejumo/DARM/runs/6a944_00000' target=\"_blank\">https://wandb.ai/danieladejumo/DARM/runs/6a944_00000</a>"
      ],
      "text/plain": [
       "<IPython.core.display.HTML object>"
      ]
     },
     "metadata": {},
     "output_type": "display_data"
    },
    {
     "name": "stderr",
     "output_type": "stream",
     "text": [
      "\u001b[2m\u001b[33m(raylet)\u001b[0m [2023-02-11 17:26:36,627 E 14732 14777] (raylet) file_system_monitor.cc:105: /tmp/ray/session_2023-02-11_17-23-24_266872_14581 is over 95% full, available space: 1061359616; capacity: 31845081088. Object creation will fail if spilling is required.\n"
     ]
    },
    {
     "name": "stdout",
     "output_type": "stream",
     "text": [
      "\u001b[2m\u001b[36m(RolloutWorker pid=15846)\u001b[0m Loaded XML file successfully\n",
      "\u001b[2m\u001b[36m(RolloutWorker pid=15844)\u001b[0m Loaded XML file successfully\n"
     ]
    },
    {
     "name": "stderr",
     "output_type": "stream",
     "text": [
      "\u001b[2m\u001b[36m(RolloutWorker pid=15846)\u001b[0m /home/daniel/miniconda3/lib/python3.8/site-packages/gym/spaces/box.py:73: UserWarning: \u001b[33mWARN: Box bound precision lowered by casting to float32\u001b[0m\n",
      "\u001b[2m\u001b[36m(RolloutWorker pid=15846)\u001b[0m   logger.warn(\n",
      "\u001b[2m\u001b[36m(RolloutWorker pid=15844)\u001b[0m /home/daniel/miniconda3/lib/python3.8/site-packages/gym/spaces/box.py:73: UserWarning: \u001b[33mWARN: Box bound precision lowered by casting to float32\u001b[0m\n",
      "\u001b[2m\u001b[36m(RolloutWorker pid=15844)\u001b[0m   logger.warn(\n",
      "\u001b[2m\u001b[36m(RolloutWorker pid=15844)\u001b[0m 2023-02-11 17:26:38,825\tWARNING env.py:147 -- Your env doesn't have a .spec.max_episode_steps attribute. This is fine if you have set 'horizon' in your config dictionary, or `soft_horizon`. However, if you haven't, 'horizon' will default to infinity, and your environment will not be reset.\n"
     ]
    },
    {
     "name": "stdout",
     "output_type": "stream",
     "text": [
      "\u001b[2m\u001b[36m(RolloutWorker pid=15845)\u001b[0m Loaded XML file successfully\n"
     ]
    },
    {
     "name": "stderr",
     "output_type": "stream",
     "text": [
      "\u001b[2m\u001b[36m(RolloutWorker pid=15845)\u001b[0m /home/daniel/miniconda3/lib/python3.8/site-packages/gym/spaces/box.py:73: UserWarning: \u001b[33mWARN: Box bound precision lowered by casting to float32\u001b[0m\n",
      "\u001b[2m\u001b[36m(RolloutWorker pid=15845)\u001b[0m   logger.warn(\n",
      "\u001b[2m\u001b[36m(SAC pid=15703)\u001b[0m /home/daniel/miniconda3/lib/python3.8/site-packages/gym/spaces/box.py:73: UserWarning: \u001b[33mWARN: Box bound precision lowered by casting to float32\u001b[0m\n",
      "\u001b[2m\u001b[36m(SAC pid=15703)\u001b[0m   logger.warn(\n",
      "\u001b[2m\u001b[36m(SAC pid=15703)\u001b[0m 2023-02-11 17:26:40,232\tWARNING env.py:147 -- Your env doesn't have a .spec.max_episode_steps attribute. This is fine if you have set 'horizon' in your config dictionary, or `soft_horizon`. However, if you haven't, 'horizon' will default to infinity, and your environment will not be reset.\n",
      "\u001b[2m\u001b[36m(SAC pid=15703)\u001b[0m 2023-02-11 17:26:40,261\tWARNING util.py:66 -- Install gputil for GPU system monitoring.\n"
     ]
    },
    {
     "name": "stdout",
     "output_type": "stream",
     "text": [
      "\u001b[2m\u001b[36m(SAC pid=15703)\u001b[0m Loaded XML file successfully\n"
     ]
    },
    {
     "name": "stderr",
     "output_type": "stream",
     "text": [
      "\u001b[2m\u001b[36m(SAC pid=15703)\u001b[0m 2023-02-11 17:26:40,442\tINFO trainable.py:790 -- Restored on 192.168.152.36 from checkpoint: /tmp/checkpoint_tmp_7f50b6e15e2c473dba807bf1d398566d\n",
      "\u001b[2m\u001b[36m(SAC pid=15703)\u001b[0m 2023-02-11 17:26:40,442\tINFO trainable.py:799 -- Current state after restoring: {'_iteration': 11, '_timesteps_total': None, '_time_total': 113.04964661598206, '_episodes_total': 114}\n",
      "\u001b[2m\u001b[36m(SAC pid=15703)\u001b[0m 2023-02-11 17:26:40,721\tWARNING multi_agent_prioritized_replay_buffer.py:215 -- Adding batches with column `weights` to this buffer while providing weights as a call argument to the add method results in the column being overwritten.\n",
      "\u001b[2m\u001b[36m(SAC pid=15703)\u001b[0m 2023-02-11 17:26:40,721\tWARNING deprecation.py:47 -- DeprecationWarning: `concat_samples` has been deprecated. Use `concat_samples() from rllib.policy.sample_batch` instead. This will raise an error in the future!\n",
      "\u001b[2m\u001b[33m(raylet)\u001b[0m [2023-02-11 17:26:46,634 E 14732 14777] (raylet) file_system_monitor.cc:105: /tmp/ray/session_2023-02-11_17-23-24_266872_14581 is over 95% full, available space: 1061335040; capacity: 31845081088. Object creation will fail if spilling is required.\n",
      "\u001b[2m\u001b[33m(raylet)\u001b[0m [2023-02-11 17:26:56,640 E 14732 14777] (raylet) file_system_monitor.cc:105: /tmp/ray/session_2023-02-11_17-23-24_266872_14581 is over 95% full, available space: 1061343232; capacity: 31845081088. Object creation will fail if spilling is required.\n",
      "\u001b[2m\u001b[33m(raylet)\u001b[0m [2023-02-11 17:27:06,648 E 14732 14777] (raylet) file_system_monitor.cc:105: /tmp/ray/session_2023-02-11_17-23-24_266872_14581 is over 95% full, available space: 1061339136; capacity: 31845081088. Object creation will fail if spilling is required.\n",
      "\u001b[2m\u001b[33m(raylet)\u001b[0m [2023-02-11 17:27:16,654 E 14732 14777] (raylet) file_system_monitor.cc:105: /tmp/ray/session_2023-02-11_17-23-24_266872_14581 is over 95% full, available space: 1061343232; capacity: 31845081088. Object creation will fail if spilling is required.\n",
      "\u001b[2m\u001b[33m(raylet)\u001b[0m [2023-02-11 17:27:26,659 E 14732 14777] (raylet) file_system_monitor.cc:105: /tmp/ray/session_2023-02-11_17-23-24_266872_14581 is over 95% full, available space: 1061314560; capacity: 31845081088. Object creation will fail if spilling is required.\n"
     ]
    },
    {
     "data": {
      "text/html": [
       "<div class=\"trialProgress\">\n",
       "  <h3>Trial Progress</h3>\n",
       "  <table>\n",
       "<thead>\n",
       "<tr><th>Trial name                        </th><th style=\"text-align: right;\">  agent_timesteps_total</th><th>counters                                                                                                                                                                                          </th><th>custom_metrics  </th><th>date               </th><th>done  </th><th style=\"text-align: right;\">  episode_len_mean</th><th>episode_media  </th><th style=\"text-align: right;\">  episode_reward_max</th><th style=\"text-align: right;\">  episode_reward_mean</th><th style=\"text-align: right;\">  episode_reward_min</th><th style=\"text-align: right;\">  episodes_this_iter</th><th style=\"text-align: right;\">  episodes_total</th><th>experiment_id                   </th><th>hostname  </th><th>info  </th><th style=\"text-align: right;\">  iterations_since_restore</th><th>node_ip       </th><th style=\"text-align: right;\">  num_agent_steps_sampled</th><th style=\"text-align: right;\">  num_agent_steps_trained</th><th style=\"text-align: right;\">  num_env_steps_sampled</th><th style=\"text-align: right;\">  num_env_steps_sampled_this_iter</th><th style=\"text-align: right;\">  num_env_steps_trained</th><th style=\"text-align: right;\">  num_env_steps_trained_this_iter</th><th style=\"text-align: right;\">  num_faulty_episodes</th><th style=\"text-align: right;\">  num_healthy_workers</th><th style=\"text-align: right;\">  num_in_flight_async_reqs</th><th style=\"text-align: right;\">  num_remote_worker_restarts</th><th style=\"text-align: right;\">  num_steps_trained_this_iter</th><th>perf                                                                          </th><th style=\"text-align: right;\">  pid</th><th>policy_reward_max  </th><th>policy_reward_mean  </th><th>policy_reward_min  </th><th>sampler_perf                                                                                                                                                                                                   </th><th>sampler_results                                                                                                                                                                                                                                                                                                                                                                                                                                                                                                                                                                                                                                                                                                                                                                                                                                                     </th><th style=\"text-align: right;\">  time_since_restore</th><th style=\"text-align: right;\">  time_this_iter_s</th><th style=\"text-align: right;\">  time_total_s</th><th>timers                                                                                                                                                                               </th><th style=\"text-align: right;\">  timestamp</th><th style=\"text-align: right;\">  timesteps_since_restore</th><th style=\"text-align: right;\">  timesteps_total</th><th style=\"text-align: right;\">  training_iteration</th><th>trial_id   </th><th style=\"text-align: right;\">  warmup_time</th></tr>\n",
       "</thead>\n",
       "<tbody>\n",
       "<tr><td>SAC_darm_DarmSFHand-v0_6a944_00000</td><td style=\"text-align: right;\">                  13026</td><td>{&#x27;num_env_steps_sampled&#x27;: 13026, &#x27;num_env_steps_trained&#x27;: 258304, &#x27;num_agent_steps_sampled&#x27;: 13026, &#x27;num_agent_steps_trained&#x27;: 258304, &#x27;last_target_update_ts&#x27;: 13026, &#x27;num_target_updates&#x27;: 1009}</td><td>{}              </td><td>2023-02-11_17-28-35</td><td>False </td><td style=\"text-align: right;\">               100</td><td>{}             </td><td style=\"text-align: right;\">            -166.097</td><td style=\"text-align: right;\">             -179.588</td><td style=\"text-align: right;\">            -189.684</td><td style=\"text-align: right;\">                   9</td><td style=\"text-align: right;\">             132</td><td>2674246d3b814ef583cb37ca785123d2</td><td>Daniel    </td><td>{&#x27;learner&#x27;: {&#x27;default_policy&#x27;: {&#x27;learner_stats&#x27;: {&#x27;allreduce_latency&#x27;: 0.0, &#x27;grad_gnorm&#x27;: 8.40356159210205, &#x27;actor_loss&#x27;: -4.885239601135254, &#x27;critic_loss&#x27;: 0.3069121241569519, &#x27;alpha_loss&#x27;: -2.5390048027038574, &#x27;alpha_value&#x27;: 0.7392387, &#x27;log_alpha_value&#x27;: -0.30213442, &#x27;target_entropy&#x27;: -5.0, &#x27;policy_t&#x27;: -0.029988128691911697, &#x27;mean_q&#x27;: 2.379087448120117, &#x27;max_q&#x27;: 3.1470589637756348, &#x27;min_q&#x27;: 1.5433847904205322}, &#x27;td_error&#x27;: array([7.4213958e-01, 1.5848637e-01, 6.0251343e-01, 9.3348145e-01,\n",
       "       7.2470105e-01, 6.5075898e-01, 7.4386942e-01, 4.2802992e+00,\n",
       "       4.9475217e-01, 2.1274698e-01, 1.5443254e-01, 2.0181298e-01,\n",
       "       4.8542452e-01, 4.9696553e-01, 3.7915547e+00, 8.3584547e-02,\n",
       "       8.3843565e-01, 7.5096285e-01, 6.2452388e-01, 2.4125576e-01,\n",
       "       7.7261329e-01, 2.6608777e-01, 3.3530772e-01, 2.6860654e-01,\n",
       "       1.5399015e-01, 7.0978558e-01, 7.8079522e-01, 1.0731530e-01,\n",
       "       8.8066232e-01, 1.1126903e+00, 3.6070585e-02, 6.7874563e-01,\n",
       "       7.5406009e-01, 4.2981052e-01, 1.1391871e+00, 3.9740098e-01,\n",
       "       1.0762990e+00, 8.4136343e-01, 5.8252001e-01, 4.0861154e-01,\n",
       "       5.6281984e-01, 2.7024639e-01, 6.9000638e-01, 8.6244369e-01,\n",
       "       5.7595563e-01, 7.2603118e-01, 5.9470689e-01, 2.7473211e-01,\n",
       "       5.6826186e-01, 2.4650784e+02, 9.8598832e-01, 7.3479068e-01,\n",
       "       6.1449623e-01, 1.2699622e+00, 7.5296319e-01, 2.8090358e-02,\n",
       "       9.4109213e-01, 8.2771111e-01, 4.2838442e-01, 3.8090675e+00,\n",
       "       4.7546709e-01, 2.4742079e-01, 4.1203547e-01, 7.3801911e-01,\n",
       "       1.0025257e+00, 6.7763782e-01, 6.7099619e-01, 8.6762822e-01,\n",
       "       5.6190348e-01, 8.8954902e-01, 8.1222010e-01, 8.6386180e-01,\n",
       "       7.6953566e-01, 1.0633967e+00, 5.9996891e-01, 5.3750610e-01,\n",
       "       7.0670819e-01, 4.9724150e-01, 3.3370614e-02, 6.8903613e-01,\n",
       "       9.4764221e-01, 5.0915122e-02, 5.0027347e-01, 9.6055913e-01,\n",
       "       5.5192137e-01, 7.9515433e-01, 7.2671640e-01, 3.9931262e-01,\n",
       "       1.8239129e-01, 9.9649012e-01, 8.4206927e-01, 4.1600978e-01,\n",
       "       4.0527940e-01, 7.6102638e-01, 2.3393106e-01, 4.7766042e-01,\n",
       "       2.2459340e-01, 8.5827851e-01, 1.4306033e-01, 2.4650784e+02,\n",
       "       7.1198571e-01, 3.9922416e+00, 1.2246186e+00, 7.4194229e-01,\n",
       "       2.7496171e-01, 4.5212805e-02, 7.4664807e-01, 1.3847947e-02,\n",
       "       8.7445688e-01, 6.6402781e-01, 1.0255686e+00, 4.5125723e-01,\n",
       "       4.8755097e-01, 2.4650784e+02, 4.4124365e-01, 1.0487792e+00,\n",
       "       5.8346188e-01, 2.6959336e-01, 3.5287654e-01, 5.9907603e-01,\n",
       "       4.8603582e-01, 6.1551094e-01, 6.9831514e-01, 5.1433253e-01,\n",
       "       1.8200487e-01, 9.6122825e-01, 7.8497732e-01, 2.2768998e-01,\n",
       "       9.6964097e-01, 1.4972503e+00, 8.0229974e-01, 1.0484257e+00,\n",
       "       5.5421102e-01, 8.3084774e-01, 4.7661805e-01, 3.9173824e-01,\n",
       "       3.1396019e-01, 4.2802992e+00, 2.7052438e-01, 2.6957560e-01,\n",
       "       7.5368738e-01, 4.4456518e-01, 3.1527257e-01, 8.5121763e-01,\n",
       "       9.0664178e-01, 9.4629610e-01, 5.6297445e-01, 5.9285718e-01,\n",
       "       6.3104606e-01, 5.2718985e-01, 6.5370166e-01, 7.0399725e-01,\n",
       "       4.5417070e-02, 2.4650784e+02, 7.2803473e-01, 1.1245636e+00,\n",
       "       3.7708211e-01, 3.7433398e-01, 4.3422055e-01, 3.2808065e-01,\n",
       "       6.2305951e-01, 1.7103601e-01, 7.9449832e-01, 1.3040452e+00,\n",
       "       7.1471536e-01, 4.5487504e+00, 4.1272748e-01, 6.5745860e-01,\n",
       "       6.6768157e-01, 8.8028562e-01, 7.0535421e-01, 5.2402341e-01,\n",
       "       5.6226981e-01, 5.4202604e-01, 2.7826047e-01, 2.6031137e-01,\n",
       "       6.0549617e-02, 3.6561573e-01, 2.4650784e+02, 8.0606019e-01,\n",
       "       8.4074116e-01, 4.9388194e-01, 7.1800745e-01, 2.9282093e-02,\n",
       "       1.9090211e-01, 3.8544512e-01, 1.4638956e+00, 1.4547678e+00,\n",
       "       1.0922147e+00, 2.6176953e-01, 1.3020796e-01, 5.6222248e-01,\n",
       "       5.6339896e-01, 7.6045167e-01, 7.8438163e-01, 7.5755298e-01,\n",
       "       8.2661462e-01, 3.5743856e-01, 1.3571662e-01, 5.3244066e-01,\n",
       "       8.8719201e-01, 8.2828355e-01, 3.8229942e-01, 6.0678411e-01,\n",
       "       4.7898412e-01, 8.2518208e-01, 5.2971601e-01, 6.7987609e-01,\n",
       "       7.6182199e-01, 1.0264168e+00, 6.2066817e-01, 9.0486789e-01,\n",
       "       4.7908902e-01, 1.1681950e-01, 7.6850456e-01, 3.1422675e-01,\n",
       "       9.3148047e-01, 9.5507002e-01, 8.3421135e-01, 5.6414163e-01,\n",
       "       4.1598296e-01, 5.0719857e-02, 9.6793044e-01, 1.4145180e+00,\n",
       "       1.4200950e-01, 8.1434751e-01, 7.0387411e-01, 8.6176515e-01,\n",
       "       6.2346458e-01, 1.4636874e-01, 3.2455921e-01, 1.5807381e+00,\n",
       "       5.9650755e-01, 7.9351628e-01, 1.6089365e+00, 7.5115800e-01,\n",
       "       5.8976293e-01, 4.7450304e-02, 6.6682827e-01, 7.1542680e-01,\n",
       "       4.6520185e-01, 3.4638846e-01, 7.5957966e-01, 4.9341345e-01,\n",
       "       4.8143768e-01, 1.2025452e-01, 6.0646594e-01, 1.1619196e+00,\n",
       "       2.7393532e-01, 8.4904301e-01, 2.5427663e-01, 7.0259297e-01,\n",
       "       5.2577734e-01, 2.9342413e-01, 6.1365223e-01, 9.0736806e-01],\n",
       "      dtype=float32), &#x27;mean_td_error&#x27;: 5.492199897766113, &#x27;model&#x27;: {}, &#x27;custom_metrics&#x27;: {}, &#x27;num_agent_steps_trained&#x27;: 256.0, &#x27;num_grad_updates_lifetime&#x27;: 668.0, &#x27;diff_num_grad_updates_vs_sampler_policy&#x27;: 667.0}}, &#x27;num_env_steps_sampled&#x27;: 13026, &#x27;num_env_steps_trained&#x27;: 258304, &#x27;num_agent_steps_sampled&#x27;: 13026, &#x27;num_agent_steps_trained&#x27;: 258304, &#x27;last_target_update_ts&#x27;: 13026, &#x27;num_target_updates&#x27;: 1009}       </td><td style=\"text-align: right;\">                         2</td><td>192.168.152.36</td><td style=\"text-align: right;\">                    13026</td><td style=\"text-align: right;\">                   258304</td><td style=\"text-align: right;\">                  13026</td><td style=\"text-align: right;\">                             1002</td><td style=\"text-align: right;\">                 258304</td><td style=\"text-align: right;\">                            85504</td><td style=\"text-align: right;\">                    0</td><td style=\"text-align: right;\">                    3</td><td style=\"text-align: right;\">                         0</td><td style=\"text-align: right;\">                           0</td><td style=\"text-align: right;\">                        85504</td><td>{&#x27;cpu_util_percent&#x27;: 54.76744186046512, &#x27;ram_util_percent&#x27;: 85.32209302325585}</td><td style=\"text-align: right;\">15703</td><td>{}                 </td><td>{}                  </td><td>{}                 </td><td>{&#x27;mean_raw_obs_processing_ms&#x27;: 1.3155451329359085, &#x27;mean_inference_ms&#x27;: 2.6820931912181267, &#x27;mean_action_processing_ms&#x27;: 0.25946855188663404, &#x27;mean_env_wait_ms&#x27;: 3.287473482817159, &#x27;mean_env_render_ms&#x27;: 0.0}</td><td>{&#x27;episode_reward_max&#x27;: -166.09740307927132, &#x27;episode_reward_min&#x27;: -189.6840973868966, &#x27;episode_reward_mean&#x27;: -179.5880893824829, &#x27;episode_len_mean&#x27;: 100.0, &#x27;episode_media&#x27;: {}, &#x27;episodes_this_iter&#x27;: 9, &#x27;policy_reward_min&#x27;: {}, &#x27;policy_reward_max&#x27;: {}, &#x27;policy_reward_mean&#x27;: {}, &#x27;custom_metrics&#x27;: {}, &#x27;hist_stats&#x27;: {&#x27;episode_reward&#x27;: [-187.3498569726944, -166.09740307927132, -172.9712873697281, -187.82146245241165, -176.65354753285646, -183.53197374939919, -176.7706963941455, -189.6840973868966, -175.4124795049429], &#x27;episode_lengths&#x27;: [100, 100, 100, 100, 100, 100, 100, 100, 100]}, &#x27;sampler_perf&#x27;: {&#x27;mean_raw_obs_processing_ms&#x27;: 1.3155451329359085, &#x27;mean_inference_ms&#x27;: 2.6820931912181267, &#x27;mean_action_processing_ms&#x27;: 0.25946855188663404, &#x27;mean_env_wait_ms&#x27;: 3.287473482817159, &#x27;mean_env_render_ms&#x27;: 0.0}, &#x27;num_faulty_episodes&#x27;: 0}</td><td style=\"text-align: right;\">             114.767</td><td style=\"text-align: right;\">            62.318</td><td style=\"text-align: right;\">       227.817</td><td>{&#x27;training_iteration_time_ms&#x27;: 151.985, &#x27;load_time_ms&#x27;: 0.246, &#x27;load_throughput&#x27;: 1042265.409, &#x27;learn_time_ms&#x27;: 25.824, &#x27;learn_throughput&#x27;: 9913.287, &#x27;synch_weights_time_ms&#x27;: 6.049}</td><td style=\"text-align: right;\"> 1676132915</td><td style=\"text-align: right;\">                        0</td><td style=\"text-align: right;\">            13026</td><td style=\"text-align: right;\">                  13</td><td>6a944_00000</td><td style=\"text-align: right;\">      9.03385</td></tr>\n",
       "</tbody>\n",
       "</table>\n",
       "</div>\n",
       "<style>\n",
       ".trialProgress {\n",
       "  display: flex;\n",
       "  flex-direction: column;\n",
       "  color: var(--jp-ui-font-color1);\n",
       "}\n",
       ".trialProgress h3 {\n",
       "  font-weight: bold;\n",
       "}\n",
       ".trialProgress td {\n",
       "  white-space: nowrap;\n",
       "}\n",
       "</style>\n"
      ],
      "text/plain": [
       "<IPython.core.display.HTML object>"
      ]
     },
     "metadata": {},
     "output_type": "display_data"
    },
    {
     "name": "stderr",
     "output_type": "stream",
     "text": [
      "\u001b[34m\u001b[1mwandb\u001b[0m: Adding directory to artifact (/home/daniel/DARM/darm_mujoco/darm_training/results/Test_DARMSF_DELTA_TARGET/SAC_darm_DarmSFHand-v0_6a944_00000_0_2023-02-11_17-23-28/checkpoint_000012)... Done. 0.0s\n",
      "\u001b[2m\u001b[33m(raylet)\u001b[0m [2023-02-11 17:27:36,665 E 14732 14777] (raylet) file_system_monitor.cc:105: /tmp/ray/session_2023-02-11_17-23-24_266872_14581 is over 95% full, available space: 1055997952; capacity: 31845081088. Object creation will fail if spilling is required.\n",
      "\u001b[2m\u001b[33m(raylet)\u001b[0m [2023-02-11 17:27:46,672 E 14732 14777] (raylet) file_system_monitor.cc:105: /tmp/ray/session_2023-02-11_17-23-24_266872_14581 is over 95% full, available space: 1055973376; capacity: 31845081088. Object creation will fail if spilling is required.\n",
      "\u001b[2m\u001b[33m(raylet)\u001b[0m [2023-02-11 17:27:56,678 E 14732 14777] (raylet) file_system_monitor.cc:105: /tmp/ray/session_2023-02-11_17-23-24_266872_14581 is over 95% full, available space: 1055977472; capacity: 31845081088. Object creation will fail if spilling is required.\n",
      "\u001b[2m\u001b[33m(raylet)\u001b[0m [2023-02-11 17:28:06,689 E 14732 14777] (raylet) file_system_monitor.cc:105: /tmp/ray/session_2023-02-11_17-23-24_266872_14581 is over 95% full, available space: 1056280576; capacity: 31845081088. Object creation will fail if spilling is required.\n",
      "\u001b[2m\u001b[33m(raylet)\u001b[0m [2023-02-11 17:28:16,700 E 14732 14777] (raylet) file_system_monitor.cc:105: /tmp/ray/session_2023-02-11_17-23-24_266872_14581 is over 95% full, available space: 1056186368; capacity: 31845081088. Object creation will fail if spilling is required.\n",
      "\u001b[2m\u001b[33m(raylet)\u001b[0m [2023-02-11 17:28:26,706 E 14732 14777] (raylet) file_system_monitor.cc:105: /tmp/ray/session_2023-02-11_17-23-24_266872_14581 is over 95% full, available space: 1056030720; capacity: 31845081088. Object creation will fail if spilling is required.\n",
      "\u001b[34m\u001b[1mwandb\u001b[0m: Adding directory to artifact (/home/daniel/DARM/darm_mujoco/darm_training/results/Test_DARMSF_DELTA_TARGET/SAC_darm_DarmSFHand-v0_6a944_00000_0_2023-02-11_17-23-28/checkpoint_000013)... Done. 0.0s\n",
      "\u001b[2m\u001b[33m(raylet)\u001b[0m [2023-02-11 17:28:36,714 E 14732 14777] (raylet) file_system_monitor.cc:105: /tmp/ray/session_2023-02-11_17-23-24_266872_14581 is over 95% full, available space: 1053261824; capacity: 31845081088. Object creation will fail if spilling is required.\n",
      "\u001b[2m\u001b[33m(raylet)\u001b[0m [2023-02-11 17:28:46,719 E 14732 14777] (raylet) file_system_monitor.cc:105: /tmp/ray/session_2023-02-11_17-23-24_266872_14581 is over 95% full, available space: 1053159424; capacity: 31845081088. Object creation will fail if spilling is required.\n",
      "\u001b[2m\u001b[33m(raylet)\u001b[0m [2023-02-11 17:28:56,725 E 14732 14777] (raylet) file_system_monitor.cc:105: /tmp/ray/session_2023-02-11_17-23-24_266872_14581 is over 95% full, available space: 1053106176; capacity: 31845081088. Object creation will fail if spilling is required.\n",
      "\u001b[2m\u001b[33m(raylet)\u001b[0m [2023-02-11 17:29:06,732 E 14732 14777] (raylet) file_system_monitor.cc:105: /tmp/ray/session_2023-02-11_17-23-24_266872_14581 is over 95% full, available space: 1053073408; capacity: 31845081088. Object creation will fail if spilling is required.\n",
      "2023-02-11 17:29:16,846\tWARNING tune.py:690 -- Stop signal received (e.g. via SIGINT/Ctrl+C), ending Ray Tune run. This will try to checkpoint the experiment state one last time. Press CTRL+C (or send SIGINT/SIGKILL/SIGTERM) to skip. \n",
      "\u001b[2m\u001b[33m(raylet)\u001b[0m [2023-02-11 17:29:16,738 E 14732 14777] (raylet) file_system_monitor.cc:105: /tmp/ray/session_2023-02-11_17-23-24_266872_14581 is over 95% full, available space: 1053069312; capacity: 31845081088. Object creation will fail if spilling is required.\n",
      "2023-02-11 17:29:17,441\tWARNING tune.py:690 -- Stop signal received (e.g. via SIGINT/Ctrl+C), ending Ray Tune run. This will try to checkpoint the experiment state one last time. Press CTRL+C (or send SIGINT/SIGKILL/SIGTERM) to skip. \n",
      "2023-02-11 17:29:20,661\tERROR tune.py:758 -- Trials did not complete: [SAC_darm_DarmSFHand-v0_6a944_00000]\n",
      "2023-02-11 17:29:20,663\tINFO tune.py:762 -- Total run time: 174.25 seconds (174.00 seconds for the tuning loop).\n",
      "2023-02-11 17:29:20,664\tWARNING tune.py:768 -- Experiment has been interrupted, but the most recent state was saved. You can continue running this experiment by passing `resume=True` to `tune.run()`\n"
     ]
    },
    {
     "data": {
      "text/plain": [
       "<ray.tune.result_grid.ResultGrid at 0x7fedc40a1d90>"
      ]
     },
     "execution_count": 11,
     "metadata": {},
     "output_type": "execute_result"
    }
   ],
   "source": [
    "# resume the interrupted run\n",
    "tuner.fit()"
   ]
  },
  {
   "cell_type": "code",
   "execution_count": null,
   "id": "1d25217d-5941-40bc-b103-d5ff3f6e9c72",
   "metadata": {},
   "outputs": [],
   "source": []
  }
 ],
 "metadata": {
  "kernelspec": {
   "display_name": "Python 3",
   "language": "python",
   "name": "python3"
  },
  "language_info": {
   "codemirror_mode": {
    "name": "ipython",
    "version": 3
   },
   "file_extension": ".py",
   "mimetype": "text/x-python",
   "name": "python",
   "nbconvert_exporter": "python",
   "pygments_lexer": "ipython3",
   "version": "3.8.12"
  },
  "vscode": {
   "interpreter": {
    "hash": "f502c9f8cc810ebd22b57e7c79a9d06f7b7c060e6ecfb4908c78b2fe1d232067"
   }
  }
 },
 "nbformat": 4,
 "nbformat_minor": 5
}
