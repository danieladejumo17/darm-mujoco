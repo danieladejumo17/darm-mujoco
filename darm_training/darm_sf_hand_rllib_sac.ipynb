{
 "cells": [
  {
   "cell_type": "markdown",
   "id": "799cc8cb-e1a5-4a58-a984-efc11326303e",
   "metadata": {},
   "source": [
    "## Installation and Imports"
   ]
  },
  {
   "cell_type": "code",
   "execution_count": null,
   "id": "f874e73d-f740-45bf-bed4-117e846ac0f2",
   "metadata": {},
   "outputs": [],
   "source": [
    "# Configure env variables\n",
    "import os\n",
    "os.environ[\"DARM_MUJOCO_PATH\"] = \"/home/daniel/DARM/darm_mujoco\""
   ]
  },
  {
   "cell_type": "code",
   "execution_count": null,
   "id": "b9c7e52e-b467-4d91-8fe9-d1035e51c932",
   "metadata": {},
   "outputs": [],
   "source": [
    "import ray\n",
    "from ray.rllib.algorithms.sac import SACConfig\n",
    "from ray.tune.registry import register_env\n",
    "from ray.tune.logger import pretty_print\n",
    "\n",
    "from ray import air, tune\n",
    "from ray.air import session\n",
    "from ray.air.integrations.wandb import setup_wandb\n",
    "from ray.air.integrations.wandb import WandbLoggerCallback\n",
    "\n",
    "import gym\n",
    "from darm_gym_env import DARMSFEnv"
   ]
  },
  {
   "cell_type": "markdown",
   "id": "3d2cb250-242a-446f-a47e-2c8438d64ea8",
   "metadata": {},
   "source": [
    "## Register Environment with RLlib"
   ]
  },
  {
   "cell_type": "code",
   "execution_count": null,
   "id": "0ee4bf2a-d82c-4aaa-b278-f11a080e28af",
   "metadata": {},
   "outputs": [],
   "source": [
    "# env_creator = lambda env_config: gym.make(\"darm/DarmSFHand-v0\", render_mode=None, hand_name=\"hand1\") # DARMSFEnv(render_mode=None, reaction_time=0.08, hand_name=\"hand1\") # \n",
    "\n",
    "def make_env(env_config):\n",
    "    env = gym.wrappers.TimeLimit(env=DARMSFEnv(render_mode=None, reaction_time=0.08, hand_name=\"hand1\"), max_episode_steps=100)\n",
    "    return env\n",
    "env_creator = lambda env_config: make_env(env_config) #gym.wrappers.TimeLimit(env=DARMSFEnv(render_mode=None, reaction_time=0.08, hand_name=\"hand1\"), max_episode_steps=100)\n",
    "\n",
    "register_env(\"darm/DarmSFHand-v0\", env_creator)"
   ]
  },
  {
   "cell_type": "markdown",
   "id": "049729f3-c175-4d9c-b449-43af66f121a5",
   "metadata": {},
   "source": [
    "## Configure and Run"
   ]
  },
  {
   "cell_type": "code",
   "execution_count": null,
   "id": "4a0ed8ba-4f6b-47f9-b0e7-37d0eec71647",
   "metadata": {},
   "outputs": [],
   "source": [
    "config = (\n",
    "    SACConfig()\n",
    "    .environment(\n",
    "        env=\"darm/DarmSFHand-v0\",\n",
    "        normalize_actions=True\n",
    "    )\n",
    "    .training(\n",
    "        q_model_config={\n",
    "            \"fcnet_activation\": \"relu\",\n",
    "            \"fcnet_hiddens\": [256, 256]\n",
    "        },\n",
    "        policy_model_config={\n",
    "            \"fcnet_activation\": \"relu\",\n",
    "            \"fcnet_hiddens\": [256, 256]\n",
    "        },\n",
    "        tau=0.005,\n",
    "        target_entropy=\"auto\",\n",
    "        n_step=1,  # num of SGD steps per batch of data in training step\n",
    "        train_batch_size=256,\n",
    "        target_network_update_freq=1,\n",
    "        replay_buffer_config={\"type\":\"MultiAgentPrioritizedReplayBuffer\"},\n",
    "        num_steps_sampled_before_learning_starts=10_000,\n",
    "        optimization_config={\n",
    "          \"actor_learning_rate\": 0.0003,\n",
    "          \"critic_learning_rate\": 0.0003,\n",
    "          \"entropy_learning_rate\": 0.0003,\n",
    "        },\n",
    "        clip_actions=False\n",
    "    )\n",
    "    .rollouts(\n",
    "        num_rollout_workers=3,\n",
    "        rollout_fragment_length=1,\n",
    "    )\n",
    "    .resources(num_gpus=0)\n",
    "    .evaluation(evaluation_interval=100) # For 1000 timesteps iter; 100 evals\n",
    "    .reporting(\n",
    "        min_sample_timesteps_per_iteration=1000,\n",
    "        metrics_num_episodes_for_smoothing=5\n",
    "    )\n",
    "    .framework(framework=\"torch\")\n",
    ")"
   ]
  },
  {
   "cell_type": "code",
   "execution_count": null,
   "id": "46f0fa8e-5023-44c3-a9f7-8a6b041617a2",
   "metadata": {},
   "outputs": [],
   "source": [
    "wandb_init = dict(\n",
    "    save_code=True,\n",
    "    config={\n",
    "        \"env\": \"DARMSFHand-v0\",\n",
    "        \n",
    "        \"actor_learning_rate\": 0.0003,\n",
    "        \"critic_learning_rate\": 0.0003,\n",
    "        \"entropy_learning_rate\": 0.0003,\n",
    "        \"framework\": \"torch\",\n",
    "        \n",
    "        \"num_rollout_workers\": 3,\n",
    "        \"num_gpu\": 0,\n",
    "        \"metrics_num_episodes_for_smoothing\": 5\n",
    "    },\n",
    "    tags=[\"single_finger\"],\n",
    "    notes=\"Fixed the env to use targets that are delta increaments from the starting state. Removed velocity penalty, and used only effort penalty\",\n",
    "    name=\"Test_DARMSF_DELTA_TARGET\"\n",
    "    # job_type=D\n",
    "    # monitor_gym=\n",
    ")"
   ]
  },
  {
   "cell_type": "code",
   "execution_count": null,
   "id": "727ee5b8-0cc3-4831-91ee-34514946c66a",
   "metadata": {},
   "outputs": [
    {
     "name": "stderr",
     "output_type": "stream",
     "text": [
      "2023-02-09 14:34:37,372\tINFO worker.py:1538 -- Started a local Ray instance.\n",
      "2023-02-09 14:34:38,879\tINFO wandb.py:250 -- Already logged into W&B.\n"
     ]
    },
    {
     "data": {
      "text/html": [
       "<div class=\"tuneStatus\">\n",
       "  <div style=\"display: flex;flex-direction: row\">\n",
       "    <div style=\"display: flex;flex-direction: column;\">\n",
       "      <h3>Tune Status</h3>\n",
       "      <table>\n",
       "<tbody>\n",
       "<tr><td>Current time:</td><td>2023-02-09 14:40:08</td></tr>\n",
       "<tr><td>Running for: </td><td>00:05:30.07        </td></tr>\n",
       "<tr><td>Memory:      </td><td>6.4/7.5 GiB        </td></tr>\n",
       "</tbody>\n",
       "</table>\n",
       "    </div>\n",
       "    <div class=\"vDivider\"></div>\n",
       "    <div class=\"systemInfo\">\n",
       "      <h3>System Info</h3>\n",
       "      Using FIFO scheduling algorithm.<br>Resources requested: 4.0/4 CPUs, 0/0 GPUs, 0.0/1.78 GiB heap, 0.0/0.89 GiB objects\n",
       "    </div>\n",
       "    \n",
       "  </div>\n",
       "  <div class=\"hDivider\"></div>\n",
       "  <div class=\"trialStatus\">\n",
       "    <h3>Trial Status</h3>\n",
       "    <table>\n",
       "<thead>\n",
       "<tr><th>Trial name                        </th><th>status  </th><th>loc                 </th><th style=\"text-align: right;\">  iter</th><th style=\"text-align: right;\">  total time (s)</th><th style=\"text-align: right;\">   ts</th><th style=\"text-align: right;\">  reward</th><th style=\"text-align: right;\">  episode_reward_max</th><th style=\"text-align: right;\">  episode_reward_min</th><th style=\"text-align: right;\">  episode_len_mean</th></tr>\n",
       "</thead>\n",
       "<tbody>\n",
       "<tr><td>SAC_darm_DarmSFHand-v0_80340_00000</td><td>RUNNING </td><td>192.168.152.36:27220</td><td style=\"text-align: right;\">    14</td><td style=\"text-align: right;\">         267.249</td><td style=\"text-align: right;\">14028</td><td style=\"text-align: right;\">-181.857</td><td style=\"text-align: right;\">            -167.734</td><td style=\"text-align: right;\">             -193.16</td><td style=\"text-align: right;\">               100</td></tr>\n",
       "</tbody>\n",
       "</table>\n",
       "  </div>\n",
       "</div>\n",
       "<style>\n",
       ".tuneStatus {\n",
       "  color: var(--jp-ui-font-color1);\n",
       "}\n",
       ".tuneStatus .systemInfo {\n",
       "  display: flex;\n",
       "  flex-direction: column;\n",
       "}\n",
       ".tuneStatus td {\n",
       "  white-space: nowrap;\n",
       "}\n",
       ".tuneStatus .trialStatus {\n",
       "  display: flex;\n",
       "  flex-direction: column;\n",
       "}\n",
       ".tuneStatus h3 {\n",
       "  font-weight: bold;\n",
       "}\n",
       ".tuneStatus .hDivider {\n",
       "  border-bottom-width: var(--jp-border-width);\n",
       "  border-bottom-color: var(--jp-border-color0);\n",
       "  border-bottom-style: solid;\n",
       "}\n",
       ".tuneStatus .vDivider {\n",
       "  border-left-width: var(--jp-border-width);\n",
       "  border-left-color: var(--jp-border-color0);\n",
       "  border-left-style: solid;\n",
       "  margin: 0.5em 1em 0.5em 1em;\n",
       "}\n",
       "</style>\n"
      ],
      "text/plain": [
       "<IPython.core.display.HTML object>"
      ]
     },
     "metadata": {},
     "output_type": "display_data"
    },
    {
     "name": "stderr",
     "output_type": "stream",
     "text": [
      "\u001b[2m\u001b[36m(SAC pid=27220)\u001b[0m 2023-02-09 14:34:42,596\tWARNING algorithm_config.py:488 -- Cannot create SACConfig from given `config_dict`! Property __stdout_file__ not supported.\n",
      "\u001b[2m\u001b[36m(SAC pid=27220)\u001b[0m 2023-02-09 14:34:42,995\tINFO algorithm.py:501 -- Current log_level is WARN. For more information, set 'log_level': 'INFO' / 'DEBUG' or use the -v and -vv flags.\n",
      "\u001b[34m\u001b[1mwandb\u001b[0m: Currently logged in as: \u001b[33mdanieladejumo\u001b[0m. Use \u001b[1m`wandb login --relogin`\u001b[0m to force relogin\n",
      "\u001b[2m\u001b[33m(raylet)\u001b[0m [2023-02-09 14:34:47,263 E 26959 27004] (raylet) file_system_monitor.cc:105: /tmp/ray/session_2023-02-09_14-34-35_158333_26854 is over 95% full, available space: 1199403008; capacity: 31845081088. Object creation will fail if spilling is required.\n",
      "\u001b[2m\u001b[36m(RolloutWorker pid=27324)\u001b[0m /home/daniel/miniconda3/lib/python3.8/site-packages/gym/spaces/box.py:73: UserWarning: \u001b[33mWARN: Box bound precision lowered by casting to float32\u001b[0m\n",
      "\u001b[2m\u001b[36m(RolloutWorker pid=27324)\u001b[0m   logger.warn(\n",
      "\u001b[2m\u001b[36m(RolloutWorker pid=27324)\u001b[0m 2023-02-09 14:34:49,388\tWARNING env.py:147 -- Your env doesn't have a .spec.max_episode_steps attribute. This is fine if you have set 'horizon' in your config dictionary, or `soft_horizon`. However, if you haven't, 'horizon' will default to infinity, and your environment will not be reset.\n"
     ]
    },
    {
     "name": "stdout",
     "output_type": "stream",
     "text": [
      "\u001b[2m\u001b[36m(RolloutWorker pid=27324)\u001b[0m Loaded XML file successfully\n"
     ]
    },
    {
     "name": "stderr",
     "output_type": "stream",
     "text": [
      "\u001b[2m\u001b[36m(RolloutWorker pid=27325)\u001b[0m /home/daniel/miniconda3/lib/python3.8/site-packages/gym/spaces/box.py:73: UserWarning: \u001b[33mWARN: Box bound precision lowered by casting to float32\u001b[0m\n",
      "\u001b[2m\u001b[36m(RolloutWorker pid=27325)\u001b[0m   logger.warn(\n"
     ]
    },
    {
     "name": "stdout",
     "output_type": "stream",
     "text": [
      "\u001b[2m\u001b[36m(RolloutWorker pid=27325)\u001b[0m Loaded XML file successfully\n"
     ]
    },
    {
     "name": "stderr",
     "output_type": "stream",
     "text": [
      "\u001b[2m\u001b[36m(RolloutWorker pid=27327)\u001b[0m /home/daniel/miniconda3/lib/python3.8/site-packages/gym/spaces/box.py:73: UserWarning: \u001b[33mWARN: Box bound precision lowered by casting to float32\u001b[0m\n",
      "\u001b[2m\u001b[36m(RolloutWorker pid=27327)\u001b[0m   logger.warn(\n"
     ]
    },
    {
     "name": "stdout",
     "output_type": "stream",
     "text": [
      "\u001b[2m\u001b[36m(RolloutWorker pid=27327)\u001b[0m Loaded XML file successfully\n",
      "\u001b[2m\u001b[36m(SAC pid=27220)\u001b[0m Loaded XML file successfully\n"
     ]
    },
    {
     "name": "stderr",
     "output_type": "stream",
     "text": [
      "\u001b[2m\u001b[36m(SAC pid=27220)\u001b[0m /home/daniel/miniconda3/lib/python3.8/site-packages/gym/spaces/box.py:73: UserWarning: \u001b[33mWARN: Box bound precision lowered by casting to float32\u001b[0m\n",
      "\u001b[2m\u001b[36m(SAC pid=27220)\u001b[0m   logger.warn(\n",
      "\u001b[2m\u001b[36m(SAC pid=27220)\u001b[0m 2023-02-09 14:34:50,987\tWARNING env.py:147 -- Your env doesn't have a .spec.max_episode_steps attribute. This is fine if you have set 'horizon' in your config dictionary, or `soft_horizon`. However, if you haven't, 'horizon' will default to infinity, and your environment will not be reset.\n",
      "\u001b[2m\u001b[36m(SAC pid=27220)\u001b[0m 2023-02-09 14:34:51,023\tWARNING util.py:66 -- Install gputil for GPU system monitoring.\n",
      "\u001b[2m\u001b[36m(SAC pid=27220)\u001b[0m 2023-02-09 14:34:51,348\tWARNING multi_agent_prioritized_replay_buffer.py:215 -- Adding batches with column `weights` to this buffer while providing weights as a call argument to the add method results in the column being overwritten.\n"
     ]
    },
    {
     "data": {
      "text/html": [
       "Tracking run with wandb version 0.13.10"
      ],
      "text/plain": [
       "<IPython.core.display.HTML object>"
      ]
     },
     "metadata": {},
     "output_type": "display_data"
    },
    {
     "data": {
      "text/html": [
       "Run data is saved locally in <code>/home/daniel/DARM/darm_mujoco/darm_training/results/Test_DARMSF_DELTA_TARGET/SAC_darm_DarmSFHand-v0_80340_00000_0_2023-02-09_14-34-39/wandb/run-20230209_143443-80340_00000</code>"
      ],
      "text/plain": [
       "<IPython.core.display.HTML object>"
      ]
     },
     "metadata": {},
     "output_type": "display_data"
    },
    {
     "data": {
      "text/html": [
       "Syncing run <strong><a href='https://wandb.ai/danieladejumo/DARM/runs/80340_00000' target=\"_blank\">SAC_darm_DarmSFHand-v0_80340_00000</a></strong> to <a href='https://wandb.ai/danieladejumo/DARM' target=\"_blank\">Weights & Biases</a> (<a href='https://wandb.me/run' target=\"_blank\">docs</a>)<br/>"
      ],
      "text/plain": [
       "<IPython.core.display.HTML object>"
      ]
     },
     "metadata": {},
     "output_type": "display_data"
    },
    {
     "data": {
      "text/html": [
       " View project at <a href='https://wandb.ai/danieladejumo/DARM' target=\"_blank\">https://wandb.ai/danieladejumo/DARM</a>"
      ],
      "text/plain": [
       "<IPython.core.display.HTML object>"
      ]
     },
     "metadata": {},
     "output_type": "display_data"
    },
    {
     "data": {
      "text/html": [
       " View run at <a href='https://wandb.ai/danieladejumo/DARM/runs/80340_00000' target=\"_blank\">https://wandb.ai/danieladejumo/DARM/runs/80340_00000</a>"
      ],
      "text/plain": [
       "<IPython.core.display.HTML object>"
      ]
     },
     "metadata": {},
     "output_type": "display_data"
    },
    {
     "data": {
      "text/html": [
       "<div class=\"trialProgress\">\n",
       "  <h3>Trial Progress</h3>\n",
       "  <table>\n",
       "<thead>\n",
       "<tr><th>Trial name                        </th><th style=\"text-align: right;\">  agent_timesteps_total</th><th>counters                                                                                                                                                                                          </th><th>custom_metrics  </th><th>date               </th><th>done  </th><th style=\"text-align: right;\">  episode_len_mean</th><th>episode_media  </th><th style=\"text-align: right;\">  episode_reward_max</th><th style=\"text-align: right;\">  episode_reward_mean</th><th style=\"text-align: right;\">  episode_reward_min</th><th style=\"text-align: right;\">  episodes_this_iter</th><th style=\"text-align: right;\">  episodes_total</th><th>experiment_id                   </th><th>hostname  </th><th>info  </th><th style=\"text-align: right;\">  iterations_since_restore</th><th>node_ip       </th><th style=\"text-align: right;\">  num_agent_steps_sampled</th><th style=\"text-align: right;\">  num_agent_steps_trained</th><th style=\"text-align: right;\">  num_env_steps_sampled</th><th style=\"text-align: right;\">  num_env_steps_sampled_this_iter</th><th style=\"text-align: right;\">  num_env_steps_trained</th><th style=\"text-align: right;\">  num_env_steps_trained_this_iter</th><th style=\"text-align: right;\">  num_faulty_episodes</th><th style=\"text-align: right;\">  num_healthy_workers</th><th style=\"text-align: right;\">  num_in_flight_async_reqs</th><th style=\"text-align: right;\">  num_remote_worker_restarts</th><th style=\"text-align: right;\">  num_steps_trained_this_iter</th><th>perf                                                                          </th><th style=\"text-align: right;\">  pid</th><th>policy_reward_max  </th><th>policy_reward_mean  </th><th>policy_reward_min  </th><th>sampler_perf                                                                                                                                                                                                   </th><th>sampler_results                                                                                                                                                                                                                                                                                                                                                                                                                                                                                                                                                                                                                                                                                                                                                                                                                                                      </th><th style=\"text-align: right;\">  time_since_restore</th><th style=\"text-align: right;\">  time_this_iter_s</th><th style=\"text-align: right;\">  time_total_s</th><th>timers                                                                                                                                                                              </th><th style=\"text-align: right;\">  timestamp</th><th style=\"text-align: right;\">  timesteps_since_restore</th><th style=\"text-align: right;\">  timesteps_total</th><th style=\"text-align: right;\">  training_iteration</th><th style=\"text-align: right;\">   trial_id</th><th style=\"text-align: right;\">  warmup_time</th></tr>\n",
       "</thead>\n",
       "<tbody>\n",
       "<tr><td>SAC_darm_DarmSFHand-v0_80340_00000</td><td style=\"text-align: right;\">                  14028</td><td>{&#x27;num_env_steps_sampled&#x27;: 14028, &#x27;num_env_steps_trained&#x27;: 343808, &#x27;num_agent_steps_sampled&#x27;: 14028, &#x27;num_agent_steps_trained&#x27;: 343808, &#x27;last_target_update_ts&#x27;: 14028, &#x27;num_target_updates&#x27;: 1343}</td><td>{}              </td><td>2023-02-09_14-39-18</td><td>False </td><td style=\"text-align: right;\">               100</td><td>{}             </td><td style=\"text-align: right;\">            -167.734</td><td style=\"text-align: right;\">             -181.857</td><td style=\"text-align: right;\">             -193.16</td><td style=\"text-align: right;\">                   9</td><td style=\"text-align: right;\">             142</td><td>4d5d6cddaea7444681811f5901f7f828</td><td>Daniel    </td><td>{&#x27;learner&#x27;: {&#x27;default_policy&#x27;: {&#x27;learner_stats&#x27;: {&#x27;allreduce_latency&#x27;: 0.0, &#x27;grad_gnorm&#x27;: 8.39486026763916, &#x27;actor_loss&#x27;: -6.580883979797363, &#x27;critic_loss&#x27;: 0.4550599455833435, &#x27;alpha_loss&#x27;: -3.383199691772461, &#x27;alpha_value&#x27;: 0.66830647, &#x27;log_alpha_value&#x27;: -0.40300846, &#x27;target_entropy&#x27;: -5.0, &#x27;policy_t&#x27;: -0.03436039388179779, &#x27;mean_q&#x27;: 4.342226505279541, &#x27;max_q&#x27;: 5.156735420227051, &#x27;min_q&#x27;: 3.575044631958008}, &#x27;td_error&#x27;: array([6.2540793e-01, 4.5765638e-01, 6.0351992e-01, 5.3600264e-01,\n",
       "       5.3697062e-01, 3.5429788e-01, 6.3966894e-01, 4.3950689e-01,\n",
       "       3.0898547e-01, 3.5763597e-01, 2.5843692e-01, 2.4424387e+02,\n",
       "       6.2366247e-01, 1.0298094e+00, 3.7921548e-01, 5.8851790e-01,\n",
       "       6.8428922e-01, 3.6911631e-01, 2.4983907e-01, 3.1475449e-01,\n",
       "       4.7771585e-01, 2.0441175e-01, 2.5444245e-01, 4.7385430e-01,\n",
       "       6.3522744e-01, 2.4424387e+02, 2.2937608e-01, 1.9195795e-01,\n",
       "       1.1908977e+00, 2.7746677e-01, 7.4611473e-01, 5.3805947e-01,\n",
       "       2.8580499e-01, 4.8387599e-01, 4.7730875e-01, 3.1153989e-01,\n",
       "       1.8242693e-01, 4.0938568e-01, 4.4973850e-02, 3.5717463e-01,\n",
       "       4.5586491e-01, 5.5774808e-01, 3.1213140e-01, 6.1641049e-01,\n",
       "       7.9763246e-01, 5.5203891e-01, 6.3834667e-02, 3.4150100e-01,\n",
       "       1.7865181e-01, 4.3705249e-01, 9.3548775e-02, 4.8295999e-01,\n",
       "       5.6634879e-01, 3.6766005e-01, 6.7817593e-01, 3.5869682e-01,\n",
       "       7.9080129e-01, 3.2671928e-01, 4.3091679e-01, 2.9990554e-01,\n",
       "       3.8590550e-01, 2.8836060e-01, 5.7863498e-01, 5.6745982e-01,\n",
       "       5.3336382e-02, 5.7227468e+00, 6.2225733e+00, 4.2531133e-01,\n",
       "       3.6855268e-01, 2.5376964e-01, 5.9127808e-01, 3.9476085e-01,\n",
       "       4.9604011e-01, 2.4424387e+02, 3.9734340e-01, 5.8897972e-01,\n",
       "       6.5261531e+00, 4.1279554e-02, 4.1853189e-01, 5.2429509e-01,\n",
       "       2.2952294e-01, 1.3147068e-01, 1.0730052e-01, 5.5268192e-01,\n",
       "       4.6468949e-01, 4.2544770e-01, 8.0994105e-01, 5.7329106e-01,\n",
       "       4.6431756e-01, 9.7654200e-01, 5.6129479e-01, 5.1981664e-01,\n",
       "       4.6256256e-01, 3.2733679e-01, 3.4979343e-01, 5.5347395e-01,\n",
       "       6.5031314e-01, 5.6426740e-01, 3.4597373e-01, 4.5243812e-01,\n",
       "       4.2402530e-01, 5.8651328e-01, 1.1226618e+00, 1.8286109e-01,\n",
       "       4.9003768e-01, 4.9098778e-01, 5.1805449e-01, 8.1689692e-01,\n",
       "       8.0412102e-01, 6.4753199e-01, 6.1038661e-01, 4.3800688e-01,\n",
       "       2.1849394e-02, 3.0075407e-01, 2.0346689e-01, 4.3718982e-01,\n",
       "       7.8672647e-02, 4.2797709e-01, 2.8174806e-01, 1.0752141e+00,\n",
       "       1.1570907e-01, 4.3866563e-01, 2.7734494e-01, 5.7188749e-01,\n",
       "       6.6870232e+00, 3.7410498e-01, 4.7048974e-01, 2.4428757e+02,\n",
       "       2.1687126e-01, 1.6757846e-01, 1.6909933e-01, 5.7601271e+00,\n",
       "       6.6289234e-01, 3.4381604e-01, 5.7368374e-01, 5.6940422e+00,\n",
       "       6.9504523e-01, 3.7642837e-01, 6.4249420e+00, 4.4458151e-01,\n",
       "       5.2501297e-01, 5.7120371e-01, 5.0119138e-01, 5.8855166e+00,\n",
       "       4.8160148e-01, 1.9192815e-01, 5.1493216e-01, 7.9043508e-01,\n",
       "       1.0468115e+00, 4.7878098e-01, 5.1332283e-01, 5.0460100e-01,\n",
       "       3.3191776e-01, 5.1709008e-01, 4.0797472e-02, 2.0680261e-01,\n",
       "       6.4284921e-01, 3.9638317e-01, 7.5174785e-01, 4.5112944e-01,\n",
       "       5.2390027e-01, 4.3554664e-01, 8.9489746e-01, 4.5726538e-01,\n",
       "       4.8996449e-01, 4.6001816e-01, 3.2921410e-01, 7.2976160e-01,\n",
       "       5.1476574e-01, 4.4994020e-01, 3.4559798e-01, 6.7357540e-01,\n",
       "       3.6850071e-01, 1.3330221e-01, 3.0081534e-01, 4.7243357e-02,\n",
       "       5.4233909e-01, 3.5538983e-01, 6.1634445e-01, 8.9196515e-01,\n",
       "       2.8894258e-01, 5.5968370e+00, 4.0648484e-01, 2.0235538e-01,\n",
       "       1.9109607e-01, 6.5696096e-01, 5.6301966e+00, 3.5394931e-01,\n",
       "       2.6782990e-01, 5.6557250e-01, 9.5883894e-01, 5.1984143e-01,\n",
       "       6.8428326e-01, 7.7551746e-01, 2.1740031e-01, 3.1341791e-01,\n",
       "       2.4398997e+02, 8.0687523e-02, 4.9486244e-01, 4.5796943e-01,\n",
       "       2.4358420e+02, 6.4911675e-01, 5.7567859e-01, 3.2206440e-01,\n",
       "       3.8403773e-01, 1.3797998e-02, 6.5622520e-01, 6.7508049e+00,\n",
       "       2.2412586e-01, 5.6361699e-01, 1.3913512e-01, 7.0668221e-01,\n",
       "       4.5013642e-01, 3.7972713e-01, 2.4033666e-01, 1.0932443e+00,\n",
       "       1.4943323e+00, 1.9672847e-01, 5.2402592e-01, 2.4330020e-01,\n",
       "       1.0074015e+00, 5.2334332e-01, 5.3800082e-01, 6.7673922e-01,\n",
       "       5.2325344e-01, 5.8589959e-01, 1.3278627e-01, 4.3292975e-01,\n",
       "       5.6907225e-01, 6.6979933e-01, 1.1941693e+00, 2.1429205e-01,\n",
       "       3.3362865e-01, 5.5084324e-01, 5.3002417e-01, 5.6737447e-01,\n",
       "       2.6911235e-01, 2.4358420e+02, 2.8977942e-01, 7.0883727e-01,\n",
       "       7.9896545e-01, 4.2363119e-01, 2.4384717e+02, 1.1563802e-01,\n",
       "       2.0128179e-01, 5.3285384e-01, 7.3034000e-01, 5.0068188e-01,\n",
       "       6.5261531e+00, 2.6539207e-01, 5.2622700e-01, 4.8029709e-01,\n",
       "       5.7244158e-01, 6.1082673e-01, 9.5797169e-01, 3.5520434e-01],\n",
       "      dtype=float32), &#x27;mean_td_error&#x27;: 8.342748641967773, &#x27;model&#x27;: {}, &#x27;custom_metrics&#x27;: {}, &#x27;num_agent_steps_trained&#x27;: 256.0, &#x27;num_grad_updates_lifetime&#x27;: 1343.0, &#x27;diff_num_grad_updates_vs_sampler_policy&#x27;: 1342.0}}, &#x27;num_env_steps_sampled&#x27;: 14028, &#x27;num_env_steps_trained&#x27;: 343808, &#x27;num_agent_steps_sampled&#x27;: 14028, &#x27;num_agent_steps_trained&#x27;: 343808, &#x27;last_target_update_ts&#x27;: 14028, &#x27;num_target_updates&#x27;: 1343}       </td><td style=\"text-align: right;\">                        14</td><td>192.168.152.36</td><td style=\"text-align: right;\">                    14028</td><td style=\"text-align: right;\">                   343808</td><td style=\"text-align: right;\">                  14028</td><td style=\"text-align: right;\">                             1002</td><td style=\"text-align: right;\">                 343808</td><td style=\"text-align: right;\">                            85504</td><td style=\"text-align: right;\">                    0</td><td style=\"text-align: right;\">                    3</td><td style=\"text-align: right;\">                         0</td><td style=\"text-align: right;\">                           0</td><td style=\"text-align: right;\">                        85504</td><td>{&#x27;cpu_util_percent&#x27;: 52.06941176470589, &#x27;ram_util_percent&#x27;: 87.08588235294118}</td><td style=\"text-align: right;\">27220</td><td>{}                 </td><td>{}                  </td><td>{}                 </td><td>{&#x27;mean_raw_obs_processing_ms&#x27;: 1.2571061467183018, &#x27;mean_inference_ms&#x27;: 2.3783673479538177, &#x27;mean_action_processing_ms&#x27;: 0.23117343083424405, &#x27;mean_env_wait_ms&#x27;: 3.096820011455652, &#x27;mean_env_render_ms&#x27;: 0.0}</td><td>{&#x27;episode_reward_max&#x27;: -167.73383703827858, &#x27;episode_reward_min&#x27;: -193.160078458488, &#x27;episode_reward_mean&#x27;: -181.85733484476805, &#x27;episode_len_mean&#x27;: 100.0, &#x27;episode_media&#x27;: {}, &#x27;episodes_this_iter&#x27;: 9, &#x27;policy_reward_min&#x27;: {}, &#x27;policy_reward_max&#x27;: {}, &#x27;policy_reward_mean&#x27;: {}, &#x27;custom_metrics&#x27;: {}, &#x27;hist_stats&#x27;: {&#x27;episode_reward&#x27;: [-191.58597734570503, -190.74350184202194, -167.73383703827858, -184.81242395937443, -172.80720306932926, -193.160078458488, -171.496223077178, -177.10790572315454, -187.26886308938265], &#x27;episode_lengths&#x27;: [100, 100, 100, 100, 100, 100, 100, 100, 100]}, &#x27;sampler_perf&#x27;: {&#x27;mean_raw_obs_processing_ms&#x27;: 1.2571061467183018, &#x27;mean_inference_ms&#x27;: 2.3783673479538177, &#x27;mean_action_processing_ms&#x27;: 0.23117343083424405, &#x27;mean_env_wait_ms&#x27;: 3.096820011455652, &#x27;mean_env_render_ms&#x27;: 0.0}, &#x27;num_faulty_episodes&#x27;: 0}</td><td style=\"text-align: right;\">             267.249</td><td style=\"text-align: right;\">           61.6602</td><td style=\"text-align: right;\">       267.249</td><td>{&#x27;training_iteration_time_ms&#x27;: 158.074, &#x27;load_time_ms&#x27;: 0.312, &#x27;load_throughput&#x27;: 821468.766, &#x27;learn_time_ms&#x27;: 26.655, &#x27;learn_throughput&#x27;: 9604.062, &#x27;synch_weights_time_ms&#x27;: 5.892}</td><td style=\"text-align: right;\"> 1675949958</td><td style=\"text-align: right;\">                        0</td><td style=\"text-align: right;\">            14028</td><td style=\"text-align: right;\">                  14</td><td style=\"text-align: right;\">80340_00000</td><td style=\"text-align: right;\">      8.03539</td></tr>\n",
       "</tbody>\n",
       "</table>\n",
       "</div>\n",
       "<style>\n",
       ".trialProgress {\n",
       "  display: flex;\n",
       "  flex-direction: column;\n",
       "  color: var(--jp-ui-font-color1);\n",
       "}\n",
       ".trialProgress h3 {\n",
       "  font-weight: bold;\n",
       "}\n",
       ".trialProgress td {\n",
       "  white-space: nowrap;\n",
       "}\n",
       "</style>\n"
      ],
      "text/plain": [
       "<IPython.core.display.HTML object>"
      ]
     },
     "metadata": {},
     "output_type": "display_data"
    },
    {
     "name": "stderr",
     "output_type": "stream",
     "text": [
      "\u001b[2m\u001b[33m(raylet)\u001b[0m [2023-02-09 14:34:57,270 E 26959 27004] (raylet) file_system_monitor.cc:105: /tmp/ray/session_2023-02-09_14-34-35_158333_26854 is over 95% full, available space: 1199267840; capacity: 31845081088. Object creation will fail if spilling is required.\n",
      "\u001b[2m\u001b[33m(raylet)\u001b[0m [2023-02-09 14:35:07,276 E 26959 27004] (raylet) file_system_monitor.cc:105: /tmp/ray/session_2023-02-09_14-34-35_158333_26854 is over 95% full, available space: 1199169536; capacity: 31845081088. Object creation will fail if spilling is required.\n",
      "\u001b[2m\u001b[33m(raylet)\u001b[0m [2023-02-09 14:35:17,287 E 26959 27004] (raylet) file_system_monitor.cc:105: /tmp/ray/session_2023-02-09_14-34-35_158333_26854 is over 95% full, available space: 1199026176; capacity: 31845081088. Object creation will fail if spilling is required.\n",
      "\u001b[2m\u001b[33m(raylet)\u001b[0m [2023-02-09 14:35:27,295 E 26959 27004] (raylet) file_system_monitor.cc:105: /tmp/ray/session_2023-02-09_14-34-35_158333_26854 is over 95% full, available space: 1198841856; capacity: 31845081088. Object creation will fail if spilling is required.\n",
      "\u001b[2m\u001b[36m(SAC pid=27220)\u001b[0m 2023-02-09 14:35:35,013\tWARNING deprecation.py:47 -- DeprecationWarning: `concat_samples` has been deprecated. Use `concat_samples() from rllib.policy.sample_batch` instead. This will raise an error in the future!\n",
      "\u001b[2m\u001b[33m(raylet)\u001b[0m [2023-02-09 14:35:37,300 E 26959 27004] (raylet) file_system_monitor.cc:105: /tmp/ray/session_2023-02-09_14-34-35_158333_26854 is over 95% full, available space: 1198665728; capacity: 31845081088. Object creation will fail if spilling is required.\n",
      "\u001b[2m\u001b[33m(raylet)\u001b[0m [2023-02-09 14:35:47,306 E 26959 27004] (raylet) file_system_monitor.cc:105: /tmp/ray/session_2023-02-09_14-34-35_158333_26854 is over 95% full, available space: 1198546944; capacity: 31845081088. Object creation will fail if spilling is required.\n",
      "\u001b[2m\u001b[33m(raylet)\u001b[0m [2023-02-09 14:35:57,313 E 26959 27004] (raylet) file_system_monitor.cc:105: /tmp/ray/session_2023-02-09_14-34-35_158333_26854 is over 95% full, available space: 1198489600; capacity: 31845081088. Object creation will fail if spilling is required.\n",
      "\u001b[2m\u001b[33m(raylet)\u001b[0m [2023-02-09 14:36:07,320 E 26959 27004] (raylet) file_system_monitor.cc:105: /tmp/ray/session_2023-02-09_14-34-35_158333_26854 is over 95% full, available space: 1198473216; capacity: 31845081088. Object creation will fail if spilling is required.\n",
      "\u001b[2m\u001b[33m(raylet)\u001b[0m [2023-02-09 14:36:17,326 E 26959 27004] (raylet) file_system_monitor.cc:105: /tmp/ray/session_2023-02-09_14-34-35_158333_26854 is over 95% full, available space: 1198444544; capacity: 31845081088. Object creation will fail if spilling is required.\n",
      "\u001b[2m\u001b[33m(raylet)\u001b[0m [2023-02-09 14:36:27,332 E 26959 27004] (raylet) file_system_monitor.cc:105: /tmp/ray/session_2023-02-09_14-34-35_158333_26854 is over 95% full, available space: 1198473216; capacity: 31845081088. Object creation will fail if spilling is required.\n",
      "\u001b[2m\u001b[33m(raylet)\u001b[0m [2023-02-09 14:36:37,339 E 26959 27004] (raylet) file_system_monitor.cc:105: /tmp/ray/session_2023-02-09_14-34-35_158333_26854 is over 95% full, available space: 1198374912; capacity: 31845081088. Object creation will fail if spilling is required.\n",
      "\u001b[2m\u001b[33m(raylet)\u001b[0m [2023-02-09 14:36:47,346 E 26959 27004] (raylet) file_system_monitor.cc:105: /tmp/ray/session_2023-02-09_14-34-35_158333_26854 is over 95% full, available space: 1198370816; capacity: 31845081088. Object creation will fail if spilling is required.\n",
      "\u001b[2m\u001b[33m(raylet)\u001b[0m [2023-02-09 14:36:57,352 E 26959 27004] (raylet) file_system_monitor.cc:105: /tmp/ray/session_2023-02-09_14-34-35_158333_26854 is over 95% full, available space: 1198370816; capacity: 31845081088. Object creation will fail if spilling is required.\n",
      "\u001b[2m\u001b[33m(raylet)\u001b[0m [2023-02-09 14:37:07,361 E 26959 27004] (raylet) file_system_monitor.cc:105: /tmp/ray/session_2023-02-09_14-34-35_158333_26854 is over 95% full, available space: 1198362624; capacity: 31845081088. Object creation will fail if spilling is required.\n",
      "\u001b[2m\u001b[33m(raylet)\u001b[0m [2023-02-09 14:37:17,367 E 26959 27004] (raylet) file_system_monitor.cc:105: /tmp/ray/session_2023-02-09_14-34-35_158333_26854 is over 95% full, available space: 1198362624; capacity: 31845081088. Object creation will fail if spilling is required.\n",
      "\u001b[2m\u001b[33m(raylet)\u001b[0m [2023-02-09 14:37:27,373 E 26959 27004] (raylet) file_system_monitor.cc:105: /tmp/ray/session_2023-02-09_14-34-35_158333_26854 is over 95% full, available space: 1198297088; capacity: 31845081088. Object creation will fail if spilling is required.\n",
      "\u001b[2m\u001b[33m(raylet)\u001b[0m [2023-02-09 14:37:37,379 E 26959 27004] (raylet) file_system_monitor.cc:105: /tmp/ray/session_2023-02-09_14-34-35_158333_26854 is over 95% full, available space: 1197965312; capacity: 31845081088. Object creation will fail if spilling is required.\n",
      "\u001b[2m\u001b[33m(raylet)\u001b[0m [2023-02-09 14:37:47,385 E 26959 27004] (raylet) file_system_monitor.cc:105: /tmp/ray/session_2023-02-09_14-34-35_158333_26854 is over 95% full, available space: 1198878720; capacity: 31845081088. Object creation will fail if spilling is required.\n",
      "\u001b[2m\u001b[33m(raylet)\u001b[0m [2023-02-09 14:37:57,392 E 26959 27004] (raylet) file_system_monitor.cc:105: /tmp/ray/session_2023-02-09_14-34-35_158333_26854 is over 95% full, available space: 1198366720; capacity: 31845081088. Object creation will fail if spilling is required.\n",
      "\u001b[2m\u001b[33m(raylet)\u001b[0m [2023-02-09 14:38:07,398 E 26959 27004] (raylet) file_system_monitor.cc:105: /tmp/ray/session_2023-02-09_14-34-35_158333_26854 is over 95% full, available space: 1198358528; capacity: 31845081088. Object creation will fail if spilling is required.\n",
      "\u001b[2m\u001b[33m(raylet)\u001b[0m [2023-02-09 14:38:17,404 E 26959 27004] (raylet) file_system_monitor.cc:105: /tmp/ray/session_2023-02-09_14-34-35_158333_26854 is over 95% full, available space: 1198284800; capacity: 31845081088. Object creation will fail if spilling is required.\n",
      "\u001b[2m\u001b[33m(raylet)\u001b[0m [2023-02-09 14:38:27,411 E 26959 27004] (raylet) file_system_monitor.cc:105: /tmp/ray/session_2023-02-09_14-34-35_158333_26854 is over 95% full, available space: 1197981696; capacity: 31845081088. Object creation will fail if spilling is required.\n",
      "\u001b[2m\u001b[33m(raylet)\u001b[0m [2023-02-09 14:38:37,417 E 26959 27004] (raylet) file_system_monitor.cc:105: /tmp/ray/session_2023-02-09_14-34-35_158333_26854 is over 95% full, available space: 1198002176; capacity: 31845081088. Object creation will fail if spilling is required.\n",
      "\u001b[2m\u001b[33m(raylet)\u001b[0m [2023-02-09 14:38:47,422 E 26959 27004] (raylet) file_system_monitor.cc:105: /tmp/ray/session_2023-02-09_14-34-35_158333_26854 is over 95% full, available space: 1197875200; capacity: 31845081088. Object creation will fail if spilling is required.\n",
      "\u001b[2m\u001b[33m(raylet)\u001b[0m [2023-02-09 14:38:57,429 E 26959 27004] (raylet) file_system_monitor.cc:105: /tmp/ray/session_2023-02-09_14-34-35_158333_26854 is over 95% full, available space: 1197801472; capacity: 31845081088. Object creation will fail if spilling is required.\n",
      "\u001b[2m\u001b[33m(raylet)\u001b[0m [2023-02-09 14:39:07,435 E 26959 27004] (raylet) file_system_monitor.cc:105: /tmp/ray/session_2023-02-09_14-34-35_158333_26854 is over 95% full, available space: 1197731840; capacity: 31845081088. Object creation will fail if spilling is required.\n",
      "\u001b[2m\u001b[33m(raylet)\u001b[0m [2023-02-09 14:39:17,442 E 26959 27004] (raylet) file_system_monitor.cc:105: /tmp/ray/session_2023-02-09_14-34-35_158333_26854 is over 95% full, available space: 1197764608; capacity: 31845081088. Object creation will fail if spilling is required.\n",
      "\u001b[2m\u001b[33m(raylet)\u001b[0m [2023-02-09 14:39:27,448 E 26959 27004] (raylet) file_system_monitor.cc:105: /tmp/ray/session_2023-02-09_14-34-35_158333_26854 is over 95% full, available space: 1198637056; capacity: 31845081088. Object creation will fail if spilling is required.\n",
      "\u001b[2m\u001b[33m(raylet)\u001b[0m [2023-02-09 14:39:37,455 E 26959 27004] (raylet) file_system_monitor.cc:105: /tmp/ray/session_2023-02-09_14-34-35_158333_26854 is over 95% full, available space: 1198481408; capacity: 31845081088. Object creation will fail if spilling is required.\n",
      "\u001b[2m\u001b[33m(raylet)\u001b[0m [2023-02-09 14:39:47,460 E 26959 27004] (raylet) file_system_monitor.cc:105: /tmp/ray/session_2023-02-09_14-34-35_158333_26854 is over 95% full, available space: 1198383104; capacity: 31845081088. Object creation will fail if spilling is required.\n",
      "\u001b[2m\u001b[33m(raylet)\u001b[0m [2023-02-09 14:39:57,473 E 26959 27004] (raylet) file_system_monitor.cc:105: /tmp/ray/session_2023-02-09_14-34-35_158333_26854 is over 95% full, available space: 1198383104; capacity: 31845081088. Object creation will fail if spilling is required.\n",
      "\u001b[2m\u001b[33m(raylet)\u001b[0m [2023-02-09 14:40:07,482 E 26959 27004] (raylet) file_system_monitor.cc:105: /tmp/ray/session_2023-02-09_14-34-35_158333_26854 is over 95% full, available space: 1198374912; capacity: 31845081088. Object creation will fail if spilling is required.\n"
     ]
    }
   ],
   "source": [
    "tuner = tune.Tuner(\n",
    "    \"SAC\",\n",
    "    run_config=air.RunConfig(\n",
    "        name=\"Test_DARMSF_DELTA_TARGET\",\n",
    "        stop={\"training_iteration\": 10_000, \"episode_reward_mean\": 200},\n",
    "        checkpoint_config=air.CheckpointConfig(checkpoint_at_end=True),\n",
    "        callbacks=[\n",
    "                WandbLoggerCallback(project=\"DARM\", save_checkpoints=True, **wandb_init)\n",
    "            ],\n",
    "        local_dir=\"./results\"\n",
    "        ),\n",
    "    param_space=config\n",
    ")\n",
    "\n",
    "results = tuner.fit()"
   ]
  }
 ],
 "metadata": {
  "kernelspec": {
   "display_name": "Python 3",
   "language": "python",
   "name": "python3"
  },
  "language_info": {
   "codemirror_mode": {
    "name": "ipython",
    "version": 3
   },
   "file_extension": ".py",
   "mimetype": "text/x-python",
   "name": "python",
   "nbconvert_exporter": "python",
   "pygments_lexer": "ipython3",
   "version": "3.8.12"
  }
 },
 "nbformat": 4,
 "nbformat_minor": 5
}
