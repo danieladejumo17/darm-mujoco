{
 "cells": [
  {
   "cell_type": "markdown",
   "id": "799cc8cb-e1a5-4a58-a984-efc11326303e",
   "metadata": {},
   "source": [
    "## Installation and Imports"
   ]
  },
  {
   "cell_type": "code",
   "execution_count": 1,
   "id": "d23a9220-2972-4248-9c15-0f55802c4359",
   "metadata": {},
   "outputs": [
    {
     "name": "stdout",
     "output_type": "stream",
     "text": [
      "/home/daniel/DARM/darm_mujoco/darm_training\n"
     ]
    }
   ],
   "source": [
    "!pwd"
   ]
  },
  {
   "cell_type": "code",
   "execution_count": 2,
   "id": "f874e73d-f740-45bf-bed4-117e846ac0f2",
   "metadata": {},
   "outputs": [
    {
     "data": {
      "text/plain": [
       "'/home/daniel/DARM/darm_mujoco'"
      ]
     },
     "execution_count": 2,
     "metadata": {},
     "output_type": "execute_result"
    }
   ],
   "source": [
    "# Configure env variables\n",
    "\n",
    "# TODO: change path\n",
    "import os\n",
    "os.environ[\"DARM_MUJOCO_PATH\"] = \"/home/daniel/DARM/darm_mujoco\"\n",
    "os.getenv('DARM_MUJOCO_PATH')"
   ]
  },
  {
   "cell_type": "code",
   "execution_count": null,
   "id": "1faaeaf7-f077-4e44-a4aa-4e81374219e6",
   "metadata": {},
   "outputs": [],
   "source": [
    "# Check if GCC is installed\n",
    "!gcc --version"
   ]
  },
  {
   "cell_type": "code",
   "execution_count": null,
   "id": "d95b2f04-9248-4bc8-91dd-334075cf0646",
   "metadata": {},
   "outputs": [],
   "source": [
    "# Install GCC if absent\n",
    "!sudo apt update\n",
    "!sudo apt install build-essential -y"
   ]
  },
  {
   "cell_type": "code",
   "execution_count": null,
   "id": "e4f22778-56c3-4fea-a3de-6e4ac487ea84",
   "metadata": {},
   "outputs": [],
   "source": [
    "# # Setup Mujoco for gym - If needed\n",
    "# !apt-get install -y \\\n",
    "#     libgl1-mesa-dev \\\n",
    "#     libgl1-mesa-glx \\\n",
    "#     libglew-dev \\\n",
    "#     libosmesa6-dev \\\n",
    "#     software-properties-common\n",
    "\n",
    "# !apt-get install -y patchelf\n",
    "\n",
    "# !pip install gym\n",
    "\n",
    "# !pip install free-mujoco-py\n",
    "\n",
    "# import mujoco_py\n",
    "# import gym"
   ]
  },
  {
   "cell_type": "code",
   "execution_count": 3,
   "id": "b21d33a5-8591-4a1c-891e-a71073ff1c91",
   "metadata": {
    "collapsed": true,
    "jupyter": {
     "outputs_hidden": true
    },
    "tags": []
   },
   "outputs": [
    {
     "name": "stdout",
     "output_type": "stream",
     "text": [
      "Requirement already satisfied: ray[rllib] in /home/daniel/miniconda3/lib/python3.8/site-packages (2.2.0)\n",
      "Requirement already satisfied: torch in /home/daniel/miniconda3/lib/python3.8/site-packages (1.13.1)\n",
      "Requirement already satisfied: pyyaml in /home/daniel/miniconda3/lib/python3.8/site-packages (from ray[rllib]) (6.0)\n",
      "Requirement already satisfied: click>=7.0 in /home/daniel/miniconda3/lib/python3.8/site-packages (from ray[rllib]) (8.1.3)\n",
      "Requirement already satisfied: numpy>=1.16 in /home/daniel/miniconda3/lib/python3.8/site-packages (from ray[rllib]) (1.23.4)\n",
      "Requirement already satisfied: grpcio>=1.32.0 in /home/daniel/miniconda3/lib/python3.8/site-packages (from ray[rllib]) (1.51.1)\n",
      "Requirement already satisfied: msgpack<2.0.0,>=1.0.0 in /home/daniel/miniconda3/lib/python3.8/site-packages (from ray[rllib]) (1.0.4)\n",
      "Requirement already satisfied: filelock in /home/daniel/miniconda3/lib/python3.8/site-packages (from ray[rllib]) (3.8.2)\n",
      "Requirement already satisfied: aiosignal in /home/daniel/miniconda3/lib/python3.8/site-packages (from ray[rllib]) (1.3.1)\n",
      "Requirement already satisfied: jsonschema in /home/daniel/miniconda3/lib/python3.8/site-packages (from ray[rllib]) (4.17.3)\n",
      "Requirement already satisfied: virtualenv>=20.0.24 in /home/daniel/miniconda3/lib/python3.8/site-packages (from ray[rllib]) (20.17.1)\n",
      "Requirement already satisfied: attrs in /home/daniel/miniconda3/lib/python3.8/site-packages (from ray[rllib]) (22.2.0)\n",
      "Requirement already satisfied: requests in /home/daniel/miniconda3/lib/python3.8/site-packages (from ray[rllib]) (2.27.1)\n",
      "Requirement already satisfied: frozenlist in /home/daniel/miniconda3/lib/python3.8/site-packages (from ray[rllib]) (1.3.3)\n",
      "Requirement already satisfied: protobuf!=3.19.5,>=3.15.3 in /home/daniel/miniconda3/lib/python3.8/site-packages (from ray[rllib]) (3.20.1)\n",
      "Requirement already satisfied: scikit-image in /home/daniel/miniconda3/lib/python3.8/site-packages (from ray[rllib]) (0.19.3)\n",
      "Requirement already satisfied: tensorboardX>=1.9 in /home/daniel/miniconda3/lib/python3.8/site-packages (from ray[rllib]) (2.5.1)\n",
      "Requirement already satisfied: matplotlib!=3.4.3 in /home/daniel/miniconda3/lib/python3.8/site-packages (from ray[rllib]) (3.6.1)\n",
      "Requirement already satisfied: scipy in /home/daniel/miniconda3/lib/python3.8/site-packages (from ray[rllib]) (1.9.2)\n",
      "Requirement already satisfied: tabulate in /home/daniel/miniconda3/lib/python3.8/site-packages (from ray[rllib]) (0.9.0)\n",
      "Requirement already satisfied: typer in /home/daniel/miniconda3/lib/python3.8/site-packages (from ray[rllib]) (0.7.0)\n",
      "Requirement already satisfied: gym<0.24.0,>=0.21.0 in /home/daniel/miniconda3/lib/python3.8/site-packages (from ray[rllib]) (0.21.0)\n",
      "Requirement already satisfied: lz4 in /home/daniel/miniconda3/lib/python3.8/site-packages (from ray[rllib]) (4.0.2)\n",
      "Requirement already satisfied: pandas in /home/daniel/miniconda3/lib/python3.8/site-packages (from ray[rllib]) (1.5.2)\n",
      "Requirement already satisfied: rich in /home/daniel/miniconda3/lib/python3.8/site-packages (from ray[rllib]) (12.6.0)\n",
      "Requirement already satisfied: dm-tree in /home/daniel/miniconda3/lib/python3.8/site-packages (from ray[rllib]) (0.1.8)\n",
      "Requirement already satisfied: typing_extensions in /home/daniel/miniconda3/lib/python3.8/site-packages (from torch) (4.4.0)\n",
      "Requirement already satisfied: cloudpickle>=1.2.0 in /home/daniel/miniconda3/lib/python3.8/site-packages (from gym<0.24.0,>=0.21.0->ray[rllib]) (2.2.0)\n",
      "Requirement already satisfied: python-dateutil>=2.7 in /home/daniel/miniconda3/lib/python3.8/site-packages (from matplotlib!=3.4.3->ray[rllib]) (2.8.2)\n",
      "Requirement already satisfied: contourpy>=1.0.1 in /home/daniel/miniconda3/lib/python3.8/site-packages (from matplotlib!=3.4.3->ray[rllib]) (1.0.5)\n",
      "Requirement already satisfied: pyparsing>=2.2.1 in /home/daniel/miniconda3/lib/python3.8/site-packages (from matplotlib!=3.4.3->ray[rllib]) (3.0.9)\n",
      "Requirement already satisfied: cycler>=0.10 in /home/daniel/miniconda3/lib/python3.8/site-packages (from matplotlib!=3.4.3->ray[rllib]) (0.11.0)\n",
      "Requirement already satisfied: fonttools>=4.22.0 in /home/daniel/miniconda3/lib/python3.8/site-packages (from matplotlib!=3.4.3->ray[rllib]) (4.37.4)\n",
      "Requirement already satisfied: kiwisolver>=1.0.1 in /home/daniel/miniconda3/lib/python3.8/site-packages (from matplotlib!=3.4.3->ray[rllib]) (1.4.4)\n",
      "Requirement already satisfied: packaging>=20.0 in /home/daniel/miniconda3/lib/python3.8/site-packages (from matplotlib!=3.4.3->ray[rllib]) (21.3)\n",
      "Requirement already satisfied: pillow>=6.2.0 in /home/daniel/miniconda3/lib/python3.8/site-packages (from matplotlib!=3.4.3->ray[rllib]) (9.3.0)\n",
      "Requirement already satisfied: six>=1.5 in /home/daniel/miniconda3/lib/python3.8/site-packages (from python-dateutil>=2.7->matplotlib!=3.4.3->ray[rllib]) (1.12.0)\n",
      "Requirement already satisfied: distlib<1,>=0.3.6 in /home/daniel/miniconda3/lib/python3.8/site-packages (from virtualenv>=20.0.24->ray[rllib]) (0.3.6)\n",
      "Requirement already satisfied: platformdirs<3,>=2.4 in /home/daniel/miniconda3/lib/python3.8/site-packages (from virtualenv>=20.0.24->ray[rllib]) (2.6.0)\n",
      "Requirement already satisfied: pkgutil-resolve-name>=1.3.10 in /home/daniel/miniconda3/lib/python3.8/site-packages (from jsonschema->ray[rllib]) (1.3.10)\n",
      "Requirement already satisfied: pyrsistent!=0.17.0,!=0.17.1,!=0.17.2,>=0.14.0 in /home/daniel/miniconda3/lib/python3.8/site-packages (from jsonschema->ray[rllib]) (0.19.2)\n",
      "Requirement already satisfied: importlib-resources>=1.4.0 in /home/daniel/miniconda3/lib/python3.8/site-packages (from jsonschema->ray[rllib]) (5.10.1)\n",
      "Requirement already satisfied: zipp>=3.1.0 in /home/daniel/miniconda3/lib/python3.8/site-packages (from importlib-resources>=1.4.0->jsonschema->ray[rllib]) (3.11.0)\n",
      "Requirement already satisfied: pytz>=2020.1 in /home/daniel/miniconda3/lib/python3.8/site-packages (from pandas->ray[rllib]) (2022.7)\n",
      "Requirement already satisfied: urllib3<1.27,>=1.21.1 in /home/daniel/miniconda3/lib/python3.8/site-packages (from requests->ray[rllib]) (1.26.14)\n",
      "Requirement already satisfied: certifi>=2017.4.17 in /home/daniel/miniconda3/lib/python3.8/site-packages (from requests->ray[rllib]) (2022.12.7)\n",
      "Requirement already satisfied: charset-normalizer~=2.0.0 in /home/daniel/miniconda3/lib/python3.8/site-packages (from requests->ray[rllib]) (2.0.4)\n",
      "Requirement already satisfied: idna<4,>=2.5 in /home/daniel/miniconda3/lib/python3.8/site-packages (from requests->ray[rllib]) (3.3)\n",
      "Requirement already satisfied: pygments<3.0.0,>=2.6.0 in /home/daniel/miniconda3/lib/python3.8/site-packages (from rich->ray[rllib]) (2.13.0)\n",
      "Requirement already satisfied: commonmark<0.10.0,>=0.9.0 in /home/daniel/miniconda3/lib/python3.8/site-packages (from rich->ray[rllib]) (0.9.1)\n",
      "Requirement already satisfied: networkx>=2.2 in /home/daniel/miniconda3/lib/python3.8/site-packages (from scikit-image->ray[rllib]) (2.8.8)\n",
      "Requirement already satisfied: PyWavelets>=1.1.1 in /home/daniel/miniconda3/lib/python3.8/site-packages (from scikit-image->ray[rllib]) (1.4.1)\n",
      "Requirement already satisfied: tifffile>=2019.7.26 in /home/daniel/miniconda3/lib/python3.8/site-packages (from scikit-image->ray[rllib]) (2022.10.10)\n",
      "Requirement already satisfied: imageio>=2.4.1 in /home/daniel/miniconda3/lib/python3.8/site-packages (from scikit-image->ray[rllib]) (2.23.0)\n",
      "Requirement already satisfied: wandb in /home/daniel/miniconda3/lib/python3.8/site-packages (0.13.10)\n",
      "Requirement already satisfied: psutil>=5.0.0 in /home/daniel/miniconda3/lib/python3.8/site-packages (from wandb) (5.9.4)\n",
      "Requirement already satisfied: Click!=8.0.0,>=7.0 in /home/daniel/miniconda3/lib/python3.8/site-packages (from wandb) (8.1.3)\n",
      "Requirement already satisfied: protobuf!=4.21.0,<5,>=3.12.0 in /home/daniel/miniconda3/lib/python3.8/site-packages (from wandb) (3.20.1)\n",
      "Requirement already satisfied: setproctitle in /home/daniel/miniconda3/lib/python3.8/site-packages (from wandb) (1.3.2)\n",
      "Requirement already satisfied: sentry-sdk>=1.0.0 in /home/daniel/miniconda3/lib/python3.8/site-packages (from wandb) (1.15.0)\n",
      "Requirement already satisfied: PyYAML in /home/daniel/miniconda3/lib/python3.8/site-packages (from wandb) (6.0)\n",
      "Requirement already satisfied: setuptools in /home/daniel/miniconda3/lib/python3.8/site-packages (from wandb) (65.6.3)\n",
      "Requirement already satisfied: docker-pycreds>=0.4.0 in /home/daniel/miniconda3/lib/python3.8/site-packages (from wandb) (0.4.0)\n",
      "Requirement already satisfied: appdirs>=1.4.3 in /home/daniel/miniconda3/lib/python3.8/site-packages (from wandb) (1.4.4)\n",
      "Requirement already satisfied: GitPython>=1.0.0 in /home/daniel/miniconda3/lib/python3.8/site-packages (from wandb) (3.1.30)\n",
      "Requirement already satisfied: typing-extensions in /home/daniel/miniconda3/lib/python3.8/site-packages (from wandb) (4.4.0)\n",
      "Requirement already satisfied: requests<3,>=2.0.0 in /home/daniel/miniconda3/lib/python3.8/site-packages (from wandb) (2.27.1)\n",
      "Requirement already satisfied: pathtools in /home/daniel/miniconda3/lib/python3.8/site-packages (from wandb) (0.1.2)\n",
      "Requirement already satisfied: six>=1.4.0 in /home/daniel/miniconda3/lib/python3.8/site-packages (from docker-pycreds>=0.4.0->wandb) (1.12.0)\n",
      "Requirement already satisfied: gitdb<5,>=4.0.1 in /home/daniel/miniconda3/lib/python3.8/site-packages (from GitPython>=1.0.0->wandb) (4.0.10)\n",
      "Requirement already satisfied: smmap<6,>=3.0.1 in /home/daniel/miniconda3/lib/python3.8/site-packages (from gitdb<5,>=4.0.1->GitPython>=1.0.0->wandb) (5.0.0)\n",
      "Requirement already satisfied: urllib3<1.27,>=1.21.1 in /home/daniel/miniconda3/lib/python3.8/site-packages (from requests<3,>=2.0.0->wandb) (1.26.14)\n",
      "Requirement already satisfied: certifi>=2017.4.17 in /home/daniel/miniconda3/lib/python3.8/site-packages (from requests<3,>=2.0.0->wandb) (2022.12.7)\n",
      "Requirement already satisfied: idna<4,>=2.5 in /home/daniel/miniconda3/lib/python3.8/site-packages (from requests<3,>=2.0.0->wandb) (3.3)\n",
      "Requirement already satisfied: charset-normalizer~=2.0.0 in /home/daniel/miniconda3/lib/python3.8/site-packages (from requests<3,>=2.0.0->wandb) (2.0.4)\n",
      "Requirement already satisfied: tensorflow_probability in /home/daniel/miniconda3/lib/python3.8/site-packages (0.19.0)\n",
      "Requirement already satisfied: cloudpickle>=1.3 in /home/daniel/miniconda3/lib/python3.8/site-packages (from tensorflow_probability) (2.2.0)\n",
      "Requirement already satisfied: absl-py in /home/daniel/miniconda3/lib/python3.8/site-packages (from tensorflow_probability) (1.2.0)\n",
      "Requirement already satisfied: six>=1.10.0 in /home/daniel/miniconda3/lib/python3.8/site-packages (from tensorflow_probability) (1.12.0)\n",
      "Requirement already satisfied: numpy>=1.13.3 in /home/daniel/miniconda3/lib/python3.8/site-packages (from tensorflow_probability) (1.23.4)\n",
      "Requirement already satisfied: gast>=0.3.2 in /home/daniel/miniconda3/lib/python3.8/site-packages (from tensorflow_probability) (0.5.3)\n",
      "Requirement already satisfied: decorator in /home/daniel/miniconda3/lib/python3.8/site-packages (from tensorflow_probability) (5.1.1)\n",
      "Requirement already satisfied: dm-tree in /home/daniel/miniconda3/lib/python3.8/site-packages (from tensorflow_probability) (0.1.8)\n"
     ]
    }
   ],
   "source": [
    "!pip install ray[rllib] torch\n",
    "!pip install wandb\n",
    "!pip install tensorflow_probability"
   ]
  },
  {
   "cell_type": "code",
   "execution_count": 4,
   "id": "773175aa-0f05-4ed7-80e3-bd401c43d56d",
   "metadata": {
    "collapsed": true,
    "jupyter": {
     "outputs_hidden": true
    },
    "tags": []
   },
   "outputs": [
    {
     "name": "stdout",
     "output_type": "stream",
     "text": [
      "/home/daniel/DARM/darm_mujoco\n",
      "running install\n",
      "/home/daniel/miniconda3/lib/python3.8/site-packages/setuptools/command/install.py:34: SetuptoolsDeprecationWarning: setup.py install is deprecated. Use build and pip and other standards-based tools.\n",
      "  warnings.warn(\n",
      "/home/daniel/miniconda3/lib/python3.8/site-packages/setuptools/command/easy_install.py:144: EasyInstallDeprecationWarning: easy_install command is deprecated. Use build and pip and other standards-based tools.\n",
      "  warnings.warn(\n",
      "running bdist_egg\n",
      "running egg_info\n",
      "writing darm_gym_env.egg-info/PKG-INFO\n",
      "writing dependency_links to darm_gym_env.egg-info/dependency_links.txt\n",
      "writing requirements to darm_gym_env.egg-info/requires.txt\n",
      "writing top-level names to darm_gym_env.egg-info/top_level.txt\n",
      "reading manifest file 'darm_gym_env.egg-info/SOURCES.txt'\n",
      "writing manifest file 'darm_gym_env.egg-info/SOURCES.txt'\n",
      "installing library code to build/bdist.linux-x86_64/egg\n",
      "running install_lib\n",
      "running build_py\n",
      "creating build/bdist.linux-x86_64/egg\n",
      "creating build/bdist.linux-x86_64/egg/darm_gym_env\n",
      "copying build/lib/darm_gym_env/darm_sf_gym.py -> build/bdist.linux-x86_64/egg/darm_gym_env\n",
      "copying build/lib/darm_gym_env/__init__.py -> build/bdist.linux-x86_64/egg/darm_gym_env\n",
      "copying build/lib/darm_gym_env/multi_darm_gym.py -> build/bdist.linux-x86_64/egg/darm_gym_env\n",
      "copying build/lib/darm_gym_env/darm_gym.py -> build/bdist.linux-x86_64/egg/darm_gym_env\n",
      "copying build/lib/darm_gym_env/env_test.py -> build/bdist.linux-x86_64/egg/darm_gym_env\n",
      "byte-compiling build/bdist.linux-x86_64/egg/darm_gym_env/darm_sf_gym.py to darm_sf_gym.cpython-38.pyc\n",
      "byte-compiling build/bdist.linux-x86_64/egg/darm_gym_env/__init__.py to __init__.cpython-38.pyc\n",
      "byte-compiling build/bdist.linux-x86_64/egg/darm_gym_env/multi_darm_gym.py to multi_darm_gym.cpython-38.pyc\n",
      "byte-compiling build/bdist.linux-x86_64/egg/darm_gym_env/darm_gym.py to darm_gym.cpython-38.pyc\n",
      "byte-compiling build/bdist.linux-x86_64/egg/darm_gym_env/env_test.py to env_test.cpython-38.pyc\n",
      "creating build/bdist.linux-x86_64/egg/EGG-INFO\n",
      "copying darm_gym_env.egg-info/PKG-INFO -> build/bdist.linux-x86_64/egg/EGG-INFO\n",
      "copying darm_gym_env.egg-info/SOURCES.txt -> build/bdist.linux-x86_64/egg/EGG-INFO\n",
      "copying darm_gym_env.egg-info/dependency_links.txt -> build/bdist.linux-x86_64/egg/EGG-INFO\n",
      "copying darm_gym_env.egg-info/requires.txt -> build/bdist.linux-x86_64/egg/EGG-INFO\n",
      "copying darm_gym_env.egg-info/top_level.txt -> build/bdist.linux-x86_64/egg/EGG-INFO\n",
      "zip_safe flag not set; analyzing archive contents...\n",
      "darm_gym_env.__pycache__.darm_gym.cpython-38: module references __file__\n",
      "darm_gym_env.__pycache__.multi_darm_gym.cpython-38: module references __file__\n",
      "creating 'dist/darm_gym_env-0.0.1-py3.8.egg' and adding 'build/bdist.linux-x86_64/egg' to it\n",
      "removing 'build/bdist.linux-x86_64/egg' (and everything under it)\n",
      "Processing darm_gym_env-0.0.1-py3.8.egg\n",
      "removing '/home/daniel/miniconda3/lib/python3.8/site-packages/darm_gym_env-0.0.1-py3.8.egg' (and everything under it)\n",
      "creating /home/daniel/miniconda3/lib/python3.8/site-packages/darm_gym_env-0.0.1-py3.8.egg\n",
      "Extracting darm_gym_env-0.0.1-py3.8.egg to /home/daniel/miniconda3/lib/python3.8/site-packages\n",
      "darm-gym-env 0.0.1 is already the active version in easy-install.pth\n",
      "\n",
      "Installed /home/daniel/miniconda3/lib/python3.8/site-packages/darm_gym_env-0.0.1-py3.8.egg\n",
      "Processing dependencies for darm-gym-env==0.0.1\n",
      "Searching for gym==0.21.0\n",
      "Best match: gym 0.21.0\n",
      "Adding gym 0.21.0 to easy-install.pth file\n",
      "\n",
      "Using /home/daniel/miniconda3/lib/python3.8/site-packages\n",
      "Searching for mujoco==2.2.2\n",
      "Best match: mujoco 2.2.2\n",
      "Adding mujoco 2.2.2 to easy-install.pth file\n",
      "\n",
      "Using /home/daniel/miniconda3/lib/python3.8/site-packages\n",
      "Searching for cloudpickle==2.2.0\n",
      "Best match: cloudpickle 2.2.0\n",
      "Adding cloudpickle 2.2.0 to easy-install.pth file\n",
      "\n",
      "Using /home/daniel/miniconda3/lib/python3.8/site-packages\n",
      "Searching for numpy==1.23.4\n",
      "Best match: numpy 1.23.4\n",
      "Adding numpy 1.23.4 to easy-install.pth file\n",
      "Installing f2py script to /home/daniel/miniconda3/bin\n",
      "Installing f2py3 script to /home/daniel/miniconda3/bin\n",
      "Installing f2py3.8 script to /home/daniel/miniconda3/bin\n",
      "\n",
      "Using /home/daniel/miniconda3/lib/python3.8/site-packages\n",
      "Searching for PyOpenGL==3.1.6\n",
      "Best match: PyOpenGL 3.1.6\n",
      "Adding PyOpenGL 3.1.6 to easy-install.pth file\n",
      "\n",
      "Using /home/daniel/miniconda3/lib/python3.8/site-packages\n",
      "Searching for glfw==2.5.5\n",
      "Best match: glfw 2.5.5\n",
      "Adding glfw 2.5.5 to easy-install.pth file\n",
      "\n",
      "Using /home/daniel/miniconda3/lib/python3.8/site-packages\n",
      "Searching for absl-py==1.2.0\n",
      "Best match: absl-py 1.2.0\n",
      "Adding absl-py 1.2.0 to easy-install.pth file\n",
      "\n",
      "Using /home/daniel/miniconda3/lib/python3.8/site-packages\n",
      "Finished processing dependencies for darm-gym-env==0.0.1\n"
     ]
    }
   ],
   "source": [
    "%cd /home/daniel/DARM/darm_mujoco\n",
    "!python setup.py install"
   ]
  },
  {
   "cell_type": "code",
   "execution_count": null,
   "id": "07e3679f-78c0-46dd-a387-c2b63c39958a",
   "metadata": {},
   "outputs": [],
   "source": [
    "# Check if mujoco import is successful\n",
    "import mujoco"
   ]
  },
  {
   "cell_type": "code",
   "execution_count": null,
   "id": "8e486c3f-2352-4846-8c0f-0933541cf336",
   "metadata": {},
   "outputs": [],
   "source": [
    "# If mujoco import fails, update pandas and restart runtime\n",
    "!pip install pandas -U"
   ]
  },
  {
   "cell_type": "code",
   "execution_count": 3,
   "id": "b9c7e52e-b467-4d91-8fe9-d1035e51c932",
   "metadata": {},
   "outputs": [],
   "source": [
    "import ray\n",
    "from ray.rllib.algorithms.sac import SACConfig\n",
    "from ray.tune.registry import register_env\n",
    "from ray.tune.logger import pretty_print\n",
    "\n",
    "from ray import air, tune\n",
    "from ray.air import session\n",
    "from ray.air.integrations.wandb import setup_wandb\n",
    "from ray.air.integrations.wandb import WandbLoggerCallback\n",
    "\n",
    "import gym\n",
    "from darm_gym_env import DARMSFEnv"
   ]
  },
  {
   "cell_type": "markdown",
   "id": "3d2cb250-242a-446f-a47e-2c8438d64ea8",
   "metadata": {},
   "source": [
    "## Register Environment with RLlib"
   ]
  },
  {
   "cell_type": "code",
   "execution_count": 4,
   "id": "0ee4bf2a-d82c-4aaa-b278-f11a080e28af",
   "metadata": {},
   "outputs": [],
   "source": [
    "# env_creator = lambda env_config: gym.make(\"darm/DarmSFHand-v0\", render_mode=None, hand_name=\"hand1\") # DARMSFEnv(render_mode=None, reaction_time=0.08, hand_name=\"hand1\") # \n",
    "\n",
    "def make_env(env_config):\n",
    "    env = gym.wrappers.TimeLimit(env=DARMSFEnv(render_mode=None, reaction_time=0.08, hand_name=\"hand1\"), max_episode_steps=1000)\n",
    "    return env\n",
    "env_creator = lambda env_config: make_env(env_config) #gym.wrappers.TimeLimit(env=DARMSFEnv(render_mode=None, reaction_time=0.08, hand_name=\"hand1\"), max_episode_steps=1000)\n",
    "\n",
    "register_env(\"darm/DarmSFHand-v0\", env_creator)"
   ]
  },
  {
   "cell_type": "markdown",
   "id": "049729f3-c175-4d9c-b449-43af66f121a5",
   "metadata": {},
   "source": [
    "## Configure and Run"
   ]
  },
  {
   "cell_type": "code",
   "execution_count": 14,
   "id": "4a0ed8ba-4f6b-47f9-b0e7-37d0eec71647",
   "metadata": {
    "collapsed": true,
    "jupyter": {
     "outputs_hidden": true
    },
    "tags": []
   },
   "outputs": [
    {
     "data": {
      "text/plain": [
       "{'extra_python_environs_for_driver': {},\n",
       " 'extra_python_environs_for_worker': {},\n",
       " 'num_gpus': 0,\n",
       " 'num_cpus_per_worker': 1,\n",
       " 'num_gpus_per_worker': 0,\n",
       " '_fake_gpus': False,\n",
       " 'custom_resources_per_worker': {},\n",
       " 'placement_strategy': 'PACK',\n",
       " 'eager_tracing': False,\n",
       " 'eager_max_retraces': 20,\n",
       " 'tf_session_args': {'intra_op_parallelism_threads': 2,\n",
       "  'inter_op_parallelism_threads': 2,\n",
       "  'gpu_options': {'allow_growth': True},\n",
       "  'log_device_placement': False,\n",
       "  'device_count': {'CPU': 1},\n",
       "  'allow_soft_placement': True},\n",
       " 'local_tf_session_args': {'intra_op_parallelism_threads': 8,\n",
       "  'inter_op_parallelism_threads': 8},\n",
       " 'env': 'darm/DarmSFHand-v0',\n",
       " 'env_config': {},\n",
       " 'observation_space': None,\n",
       " 'action_space': None,\n",
       " 'env_task_fn': None,\n",
       " 'render_env': False,\n",
       " 'clip_rewards': None,\n",
       " 'normalize_actions': True,\n",
       " 'clip_actions': False,\n",
       " 'disable_env_checking': False,\n",
       " 'num_envs_per_worker': 8,\n",
       " 'sample_collector': ray.rllib.evaluation.collectors.simple_list_collector.SimpleListCollector,\n",
       " 'sample_async': False,\n",
       " 'enable_connectors': False,\n",
       " 'rollout_fragment_length': 1,\n",
       " 'batch_mode': 'complete_episodes',\n",
       " 'remote_worker_envs': False,\n",
       " 'remote_env_batch_wait_ms': 0,\n",
       " 'validate_workers_after_construction': True,\n",
       " 'ignore_worker_failures': False,\n",
       " 'recreate_failed_workers': True,\n",
       " 'restart_failed_sub_environments': True,\n",
       " 'num_consecutive_worker_failures_tolerance': 10,\n",
       " 'horizon': None,\n",
       " 'soft_horizon': False,\n",
       " 'no_done_at_end': False,\n",
       " 'preprocessor_pref': 'deepmind',\n",
       " 'observation_filter': 'NoFilter',\n",
       " 'synchronize_filters': True,\n",
       " 'compress_observations': False,\n",
       " 'enable_tf1_exec_eagerly': False,\n",
       " 'sampler_perf_stats_ema_coef': None,\n",
       " 'gamma': 0.99,\n",
       " 'lr': 0.001,\n",
       " 'train_batch_size': 256,\n",
       " 'model': {'_use_default_native_models': False,\n",
       "  '_disable_preprocessor_api': False,\n",
       "  '_disable_action_flattening': False,\n",
       "  'fcnet_hiddens': [256, 256],\n",
       "  'fcnet_activation': 'tanh',\n",
       "  'conv_filters': None,\n",
       "  'conv_activation': 'relu',\n",
       "  'post_fcnet_hiddens': [],\n",
       "  'post_fcnet_activation': 'relu',\n",
       "  'free_log_std': False,\n",
       "  'no_final_linear': False,\n",
       "  'vf_share_layers': True,\n",
       "  'use_lstm': False,\n",
       "  'max_seq_len': 20,\n",
       "  'lstm_cell_size': 256,\n",
       "  'lstm_use_prev_action': False,\n",
       "  'lstm_use_prev_reward': False,\n",
       "  '_time_major': False,\n",
       "  'use_attention': False,\n",
       "  'attention_num_transformer_units': 1,\n",
       "  'attention_dim': 64,\n",
       "  'attention_num_heads': 1,\n",
       "  'attention_head_dim': 32,\n",
       "  'attention_memory_inference': 50,\n",
       "  'attention_memory_training': 50,\n",
       "  'attention_position_wise_mlp_dim': 32,\n",
       "  'attention_init_gru_gate_bias': 2.0,\n",
       "  'attention_use_n_prev_actions': 0,\n",
       "  'attention_use_n_prev_rewards': 0,\n",
       "  'framestack': True,\n",
       "  'dim': 84,\n",
       "  'grayscale': False,\n",
       "  'zero_mean': True,\n",
       "  'custom_model': None,\n",
       "  'custom_model_config': {},\n",
       "  'custom_action_dist': None,\n",
       "  'custom_preprocessor': None,\n",
       "  'lstm_use_prev_action_reward': -1},\n",
       " 'optimizer': {},\n",
       " 'max_requests_in_flight_per_sampler_worker': 2,\n",
       " 'explore': True,\n",
       " 'exploration_config': {'type': 'StochasticSampling'},\n",
       " 'input_config': {},\n",
       " 'actions_in_input_normalized': False,\n",
       " 'postprocess_inputs': False,\n",
       " 'shuffle_buffer_size': 0,\n",
       " 'output': None,\n",
       " 'output_config': {},\n",
       " 'output_compress_columns': ['obs', 'new_obs'],\n",
       " 'output_max_file_size': 67108864,\n",
       " 'offline_sampling': False,\n",
       " 'evaluation_interval': 100,\n",
       " 'evaluation_duration': 10,\n",
       " 'evaluation_duration_unit': 'episodes',\n",
       " 'evaluation_sample_timeout_s': 180.0,\n",
       " 'evaluation_parallel_to_training': False,\n",
       " 'evaluation_config': None,\n",
       " 'off_policy_estimation_methods': {},\n",
       " 'ope_split_batch_by_episode': True,\n",
       " 'evaluation_num_workers': 0,\n",
       " 'always_attach_evaluation_results': False,\n",
       " 'enable_async_evaluation': False,\n",
       " 'in_evaluation': False,\n",
       " 'sync_filters_on_rollout_workers_timeout_s': 60.0,\n",
       " 'keep_per_episode_custom_metrics': False,\n",
       " 'metrics_episode_collection_timeout_s': 60.0,\n",
       " 'metrics_num_episodes_for_smoothing': 5,\n",
       " 'min_time_s_per_iteration': 1,\n",
       " 'min_train_timesteps_per_iteration': 0,\n",
       " 'min_sample_timesteps_per_iteration': 1000,\n",
       " 'export_native_model_files': False,\n",
       " 'logger_creator': None,\n",
       " 'logger_config': None,\n",
       " 'log_level': 'WARN',\n",
       " 'log_sys_usage': True,\n",
       " 'fake_sampler': False,\n",
       " 'seed': None,\n",
       " 'worker_cls': None,\n",
       " '_tf_policy_handles_more_than_one_loss': False,\n",
       " '_disable_preprocessor_api': False,\n",
       " '_disable_action_flattening': False,\n",
       " '_disable_execution_plan_api': True,\n",
       " 'simple_optimizer': -1,\n",
       " 'replay_sequence_length': None,\n",
       " 'twin_q': True,\n",
       " 'q_model_config': {'fcnet_hiddens': [256, 256],\n",
       "  'fcnet_activation': 'relu',\n",
       "  'post_fcnet_hiddens': [],\n",
       "  'post_fcnet_activation': None,\n",
       "  'custom_model': None,\n",
       "  'custom_model_config': {}},\n",
       " 'policy_model_config': {'fcnet_hiddens': [256, 256],\n",
       "  'fcnet_activation': 'relu',\n",
       "  'post_fcnet_hiddens': [],\n",
       "  'post_fcnet_activation': None,\n",
       "  'custom_model': None,\n",
       "  'custom_model_config': {}},\n",
       " 'tau': 0.005,\n",
       " 'initial_alpha': 1.0,\n",
       " 'target_entropy': 'auto',\n",
       " 'n_step': 1,\n",
       " 'replay_buffer_config': {'_enable_replay_buffer_api': True,\n",
       "  'type': 'MultiAgentPrioritizedReplayBuffer',\n",
       "  'capacity': 1000000,\n",
       "  'prioritized_replay': False,\n",
       "  'prioritized_replay_alpha': 0.6,\n",
       "  'prioritized_replay_beta': 0.4,\n",
       "  'prioritized_replay_eps': 1e-06,\n",
       "  'worker_side_prioritization': False},\n",
       " 'store_buffer_in_checkpoints': False,\n",
       " 'training_intensity': None,\n",
       " 'optimization': {'actor_learning_rate': 0.0003,\n",
       "  'critic_learning_rate': 0.0003,\n",
       "  'entropy_learning_rate': 0.0003},\n",
       " 'grad_clip': None,\n",
       " 'target_network_update_freq': 1,\n",
       " 'num_steps_sampled_before_learning_starts': 10000,\n",
       " '_deterministic_loss': False,\n",
       " '_use_beta_distribution': False,\n",
       " 'use_state_preprocessor': -1,\n",
       " 'worker_side_prioritization': -1,\n",
       " 'input': 'sampler',\n",
       " 'multiagent': {'policies': {'default_policy': <ray.rllib.policy.policy.PolicySpec at 0x7f404c3dca30>},\n",
       "  'policy_mapping_fn': <function ray.rllib.algorithms.algorithm_config.AlgorithmConfig.__init__.<locals>.<lambda>(aid, episode, worker, **kwargs)>,\n",
       "  'policies_to_train': None,\n",
       "  'policy_map_capacity': 100,\n",
       "  'policy_map_cache': None,\n",
       "  'count_steps_by': 'env_steps',\n",
       "  'observation_fn': None},\n",
       " 'callbacks': ray.rllib.algorithms.callbacks.DefaultCallbacks,\n",
       " 'create_env_on_driver': False,\n",
       " 'custom_eval_function': None,\n",
       " 'framework': 'torch',\n",
       " 'num_cpus_for_driver': 1,\n",
       " 'num_workers': 3}"
      ]
     },
     "execution_count": 14,
     "metadata": {},
     "output_type": "execute_result"
    },
    {
     "name": "stderr",
     "output_type": "stream",
     "text": [
      "\u001b[2m\u001b[33m(raylet)\u001b[0m [2023-02-11 19:29:50,001 E 3731 3781] (raylet) file_system_monitor.cc:105: /tmp/ray/session_2023-02-11_19-15-37_042436_3307 is over 95% full, available space: 117522432; capacity: 31845081088. Object creation will fail if spilling is required.\n",
      "\u001b[2m\u001b[33m(raylet)\u001b[0m [2023-02-11 19:30:00,016 E 3731 3781] (raylet) file_system_monitor.cc:105: /tmp/ray/session_2023-02-11_19-15-37_042436_3307 is over 95% full, available space: 117510144; capacity: 31845081088. Object creation will fail if spilling is required.\n",
      "\u001b[2m\u001b[33m(raylet)\u001b[0m [2023-02-11 19:30:10,035 E 3731 3781] (raylet) file_system_monitor.cc:105: /tmp/ray/session_2023-02-11_19-15-37_042436_3307 is over 95% full, available space: 117452800; capacity: 31845081088. Object creation will fail if spilling is required.\n"
     ]
    }
   ],
   "source": [
    "# TODO:\n",
    "# change: rollout_workers\n",
    "# change: gpu\n",
    "\n",
    "config = (\n",
    "    SACConfig()\n",
    "    .environment(\n",
    "        env=\"darm/DarmSFHand-v0\",\n",
    "        normalize_actions=True\n",
    "    )\n",
    "    .training(\n",
    "        q_model_config={\n",
    "            \"fcnet_activation\": \"relu\",\n",
    "            \"fcnet_hiddens\": [256, 256]\n",
    "        },\n",
    "        policy_model_config={\n",
    "            \"fcnet_activation\": \"relu\",\n",
    "            \"fcnet_hiddens\": [256, 256]\n",
    "        },\n",
    "        tau=0.005,\n",
    "        target_entropy=\"auto\",\n",
    "        n_step=1,  # num of SGD steps per batch of data in training step\n",
    "        train_batch_size=256,\n",
    "        target_network_update_freq=1,\n",
    "        replay_buffer_config={\"type\":\"MultiAgentPrioritizedReplayBuffer\"},\n",
    "        num_steps_sampled_before_learning_starts=10_000,\n",
    "        optimization_config={\n",
    "          \"actor_learning_rate\": 0.0003,\n",
    "          \"critic_learning_rate\": 0.0003,\n",
    "          \"entropy_learning_rate\": 0.0003,\n",
    "        },\n",
    "        clip_actions=False\n",
    "    )\n",
    "    .rollouts(\n",
    "        num_rollout_workers=3,\n",
    "        num_envs_per_worker=8,\n",
    "        rollout_fragment_length=1,\n",
    "        recreate_failed_workers=True,\n",
    "        num_consecutive_worker_failures_tolerance=10,\n",
    "        restart_failed_sub_environments=True,\n",
    "        batch_mode=\"complete_episodes\"\n",
    "    )\n",
    "    .resources(num_gpus=0)\n",
    "    .evaluation(evaluation_interval=100) # For 1000 timesteps iter; 100 evals\n",
    "    .reporting(\n",
    "        min_sample_timesteps_per_iteration=1000,\n",
    "        metrics_num_episodes_for_smoothing=5\n",
    "    )\n",
    "    .framework(framework=\"torch\")\n",
    ")"
   ]
  },
  {
   "cell_type": "code",
   "execution_count": 8,
   "id": "46f0fa8e-5023-44c3-a9f7-8a6b041617a2",
   "metadata": {},
   "outputs": [],
   "source": [
    "# TODO:\n",
    "# change: rollout_workers\n",
    "# change: gpu\n",
    "# change: tags\n",
    "# change: name\n",
    "\n",
    "wandb_init = dict(\n",
    "    save_code=True,\n",
    "    resume=True,\n",
    "    config={\n",
    "        \"env\": \"DARMSFHand-v0\",\n",
    "        \n",
    "        \"actor_learning_rate\": 0.0003,\n",
    "        \"critic_learning_rate\": 0.0003,\n",
    "        \"entropy_learning_rate\": 0.0003,\n",
    "        \"framework\": \"torch\",\n",
    "        \n",
    "        \"num_rollout_workers\": 3,\n",
    "        \"num_gpu\": 0,\n",
    "        \"metrics_num_episodes_for_smoothing\": 5\n",
    "    },\n",
    "    tags=[\"single_finger\", \"complete_episodes\"],\n",
    "    notes=\"Fixed the env to use targets that are delta increaments from the starting state. Removed velocity penalty, and used only effort penalty\",\n",
    "    name=\"8env_cmp_ep_Test_DARMSF_DELTA_TARGET\"\n",
    "    # job_type=\n",
    "    # monitor_gym=\n",
    ")"
   ]
  },
  {
   "cell_type": "code",
   "execution_count": 9,
   "id": "6d7468b3-f377-4c7f-a0c3-6dec032fdc37",
   "metadata": {},
   "outputs": [
    {
     "name": "stdout",
     "output_type": "stream",
     "text": [
      "[Errno 2] No such file or directory: '/home/daniel/DARM/darm-mujoco/darm_training/'\n",
      "/home/daniel/DARM/darm_mujoco/darm_training\n"
     ]
    }
   ],
   "source": [
    "%cd /home/daniel/DARM/darm-mujoco/darm_training/"
   ]
  },
  {
   "cell_type": "code",
   "execution_count": 10,
   "id": "727ee5b8-0cc3-4831-91ee-34514946c66a",
   "metadata": {
    "tags": []
   },
   "outputs": [
    {
     "name": "stderr",
     "output_type": "stream",
     "text": [
      "2023-02-11 19:15:39,278\tINFO worker.py:1538 -- Started a local Ray instance.\n"
     ]
    },
    {
     "data": {
      "text/html": [
       "<div class=\"tuneStatus\">\n",
       "  <div style=\"display: flex;flex-direction: row\">\n",
       "    <div style=\"display: flex;flex-direction: column;\">\n",
       "      <h3>Tune Status</h3>\n",
       "      <table>\n",
       "<tbody>\n",
       "<tr><td>Current time:</td><td>2023-02-11 19:28:51</td></tr>\n",
       "<tr><td>Running for: </td><td>00:13:10.30        </td></tr>\n",
       "<tr><td>Memory:      </td><td>6.8/7.5 GiB        </td></tr>\n",
       "</tbody>\n",
       "</table>\n",
       "    </div>\n",
       "    <div class=\"vDivider\"></div>\n",
       "    <div class=\"systemInfo\">\n",
       "      <h3>System Info</h3>\n",
       "      Using FIFO scheduling algorithm.<br>Resources requested: 4.0/4 CPUs, 0/0 GPUs, 0.0/2.7 GiB heap, 0.0/1.35 GiB objects\n",
       "    </div>\n",
       "    <div class=\"vDivider\"></div>\n",
       "<div class=\"messages\">\n",
       "  <h3>Messages</h3>\n",
       "  : ***LOW MEMORY*** less than 10% of the memory on this node is available for use. This can cause unexpected crashes. Consider reducing the memory used by your application or reducing the Ray object store size by setting `object_store_memory` when calling `ray.init`.\n",
       "  \n",
       "  \n",
       "</div>\n",
       "<style>\n",
       ".messages {\n",
       "  color: var(--jp-ui-font-color1);\n",
       "  display: flex;\n",
       "  flex-direction: column;\n",
       "  padding-left: 1em;\n",
       "  overflow-y: auto;\n",
       "}\n",
       ".messages h3 {\n",
       "  font-weight: bold;\n",
       "}\n",
       ".vDivider {\n",
       "  border-left-width: var(--jp-border-width);\n",
       "  border-left-color: var(--jp-border-color0);\n",
       "  border-left-style: solid;\n",
       "  margin: 0.5em 1em 0.5em 1em;\n",
       "}\n",
       "</style>\n",
       "\n",
       "  </div>\n",
       "  <div class=\"hDivider\"></div>\n",
       "  <div class=\"trialStatus\">\n",
       "    <h3>Trial Status</h3>\n",
       "    <table>\n",
       "<thead>\n",
       "<tr><th>Trial name                        </th><th>status  </th><th>loc                </th><th style=\"text-align: right;\">  iter</th><th style=\"text-align: right;\">  total time (s)</th><th style=\"text-align: right;\">    ts</th><th style=\"text-align: right;\">  reward</th><th style=\"text-align: right;\">  episode_reward_max</th><th style=\"text-align: right;\">  episode_reward_min</th><th style=\"text-align: right;\">  episode_len_mean</th></tr>\n",
       "</thead>\n",
       "<tbody>\n",
       "<tr><td>SAC_darm_DarmSFHand-v0_179bb_00000</td><td>RUNNING </td><td>192.168.152.36:4006</td><td style=\"text-align: right;\">   217</td><td style=\"text-align: right;\">         741.375</td><td style=\"text-align: right;\">255269</td><td style=\"text-align: right;\"> -184.83</td><td style=\"text-align: right;\">            -172.903</td><td style=\"text-align: right;\">             -192.29</td><td style=\"text-align: right;\">               100</td></tr>\n",
       "</tbody>\n",
       "</table>\n",
       "  </div>\n",
       "</div>\n",
       "<style>\n",
       ".tuneStatus {\n",
       "  color: var(--jp-ui-font-color1);\n",
       "}\n",
       ".tuneStatus .systemInfo {\n",
       "  display: flex;\n",
       "  flex-direction: column;\n",
       "}\n",
       ".tuneStatus td {\n",
       "  white-space: nowrap;\n",
       "}\n",
       ".tuneStatus .trialStatus {\n",
       "  display: flex;\n",
       "  flex-direction: column;\n",
       "}\n",
       ".tuneStatus h3 {\n",
       "  font-weight: bold;\n",
       "}\n",
       ".tuneStatus .hDivider {\n",
       "  border-bottom-width: var(--jp-border-width);\n",
       "  border-bottom-color: var(--jp-border-color0);\n",
       "  border-bottom-style: solid;\n",
       "}\n",
       ".tuneStatus .vDivider {\n",
       "  border-left-width: var(--jp-border-width);\n",
       "  border-left-color: var(--jp-border-color0);\n",
       "  border-left-style: solid;\n",
       "  margin: 0.5em 1em 0.5em 1em;\n",
       "}\n",
       "</style>\n"
      ],
      "text/plain": [
       "<IPython.core.display.HTML object>"
      ]
     },
     "metadata": {},
     "output_type": "display_data"
    },
    {
     "name": "stderr",
     "output_type": "stream",
     "text": [
      "\u001b[34m\u001b[1mwandb\u001b[0m: Currently logged in as: \u001b[33mdanieladejumo\u001b[0m. Use \u001b[1m`wandb login --relogin`\u001b[0m to force relogin\n",
      "\u001b[2m\u001b[36m(SAC pid=4006)\u001b[0m 2023-02-11 19:15:44,955\tWARNING algorithm_config.py:488 -- Cannot create SACConfig from given `config_dict`! Property __stdout_file__ not supported.\n",
      "\u001b[2m\u001b[36m(SAC pid=4006)\u001b[0m 2023-02-11 19:15:45,346\tINFO algorithm.py:501 -- Current log_level is WARN. For more information, set 'log_level': 'INFO' / 'DEBUG' or use the -v and -vv flags.\n",
      "\u001b[2m\u001b[33m(raylet)\u001b[0m [2023-02-11 19:15:49,193 E 3731 3781] (raylet) file_system_monitor.cc:105: /tmp/ray/session_2023-02-11_19-15-37_042436_3307 is over 95% full, available space: 584503296; capacity: 31845081088. Object creation will fail if spilling is required.\n",
      "\u001b[2m\u001b[36m(RolloutWorker pid=4143)\u001b[0m /home/daniel/miniconda3/lib/python3.8/site-packages/gym/spaces/box.py:73: UserWarning: \u001b[33mWARN: Box bound precision lowered by casting to float32\u001b[0m\n",
      "\u001b[2m\u001b[36m(RolloutWorker pid=4143)\u001b[0m   logger.warn(\n",
      "\u001b[2m\u001b[36m(RolloutWorker pid=4144)\u001b[0m /home/daniel/miniconda3/lib/python3.8/site-packages/gym/spaces/box.py:73: UserWarning: \u001b[33mWARN: Box bound precision lowered by casting to float32\u001b[0m\n",
      "\u001b[2m\u001b[36m(RolloutWorker pid=4144)\u001b[0m   logger.warn(\n",
      "\u001b[2m\u001b[36m(RolloutWorker pid=4142)\u001b[0m /home/daniel/miniconda3/lib/python3.8/site-packages/gym/spaces/box.py:73: UserWarning: \u001b[33mWARN: Box bound precision lowered by casting to float32\u001b[0m\n",
      "\u001b[2m\u001b[36m(RolloutWorker pid=4142)\u001b[0m   logger.warn(\n",
      "\u001b[2m\u001b[36m(RolloutWorker pid=4142)\u001b[0m 2023-02-11 19:15:53,256\tWARNING env.py:147 -- Your env doesn't have a .spec.max_episode_steps attribute. This is fine if you have set 'horizon' in your config dictionary, or `soft_horizon`. However, if you haven't, 'horizon' will default to infinity, and your environment will not be reset.\n"
     ]
    },
    {
     "name": "stdout",
     "output_type": "stream",
     "text": [
      "\u001b[2m\u001b[36m(RolloutWorker pid=4143)\u001b[0m Loaded XML file successfully\n",
      "\u001b[2m\u001b[36m(RolloutWorker pid=4144)\u001b[0m Loaded XML file successfully\n",
      "\u001b[2m\u001b[36m(RolloutWorker pid=4142)\u001b[0m Loaded XML file successfully\n"
     ]
    },
    {
     "data": {
      "text/html": [
       "Tracking run with wandb version 0.13.10"
      ],
      "text/plain": [
       "<IPython.core.display.HTML object>"
      ]
     },
     "metadata": {},
     "output_type": "display_data"
    },
    {
     "data": {
      "text/html": [
       "Run data is saved locally in <code>/home/daniel/DARM/darm_mujoco/darm_training/results/8env_cmp_ep_Test_DARMSF_DELTA_TARGET/SAC_darm_DarmSFHand-v0_179bb_00000_0_2023-02-11_19-15-41/wandb/run-20230211_191543-179bb_00000</code>"
      ],
      "text/plain": [
       "<IPython.core.display.HTML object>"
      ]
     },
     "metadata": {},
     "output_type": "display_data"
    },
    {
     "data": {
      "text/html": [
       "Syncing run <strong><a href='https://wandb.ai/danieladejumo/DARM/runs/179bb_00000' target=\"_blank\">8env_cmp_ep_Test_DARMSF_DELTA_TARGET</a></strong> to <a href='https://wandb.ai/danieladejumo/DARM' target=\"_blank\">Weights & Biases</a> (<a href='https://wandb.me/run' target=\"_blank\">docs</a>)<br/>"
      ],
      "text/plain": [
       "<IPython.core.display.HTML object>"
      ]
     },
     "metadata": {},
     "output_type": "display_data"
    },
    {
     "data": {
      "text/html": [
       " View project at <a href='https://wandb.ai/danieladejumo/DARM' target=\"_blank\">https://wandb.ai/danieladejumo/DARM</a>"
      ],
      "text/plain": [
       "<IPython.core.display.HTML object>"
      ]
     },
     "metadata": {},
     "output_type": "display_data"
    },
    {
     "data": {
      "text/html": [
       " View run at <a href='https://wandb.ai/danieladejumo/DARM/runs/179bb_00000' target=\"_blank\">https://wandb.ai/danieladejumo/DARM/runs/179bb_00000</a>"
      ],
      "text/plain": [
       "<IPython.core.display.HTML object>"
      ]
     },
     "metadata": {},
     "output_type": "display_data"
    },
    {
     "name": "stdout",
     "output_type": "stream",
     "text": [
      "\u001b[2m\u001b[36m(RolloutWorker pid=4142)\u001b[0m Loaded XML file successfully\n",
      "\u001b[2m\u001b[36m(RolloutWorker pid=4144)\u001b[0m Loaded XML file successfully\n",
      "\u001b[2m\u001b[36m(RolloutWorker pid=4143)\u001b[0m Loaded XML file successfully\n",
      "\u001b[2m\u001b[36m(RolloutWorker pid=4142)\u001b[0m Loaded XML file successfully\n",
      "\u001b[2m\u001b[36m(RolloutWorker pid=4144)\u001b[0m Loaded XML file successfully\n",
      "\u001b[2m\u001b[36m(RolloutWorker pid=4143)\u001b[0m Loaded XML file successfully\n",
      "\u001b[2m\u001b[36m(RolloutWorker pid=4144)\u001b[0m Loaded XML file successfully\n",
      "\u001b[2m\u001b[36m(RolloutWorker pid=4142)\u001b[0m Loaded XML file successfully\n",
      "\u001b[2m\u001b[36m(RolloutWorker pid=4143)\u001b[0m Loaded XML file successfully\n",
      "\u001b[2m\u001b[36m(RolloutWorker pid=4144)\u001b[0m Loaded XML file successfully\n",
      "\u001b[2m\u001b[36m(RolloutWorker pid=4142)\u001b[0m Loaded XML file successfully\n",
      "\u001b[2m\u001b[36m(RolloutWorker pid=4143)\u001b[0m Loaded XML file successfully\n"
     ]
    },
    {
     "name": "stderr",
     "output_type": "stream",
     "text": [
      "\u001b[2m\u001b[33m(raylet)\u001b[0m [2023-02-11 19:15:59,205 E 3731 3781] (raylet) file_system_monitor.cc:105: /tmp/ray/session_2023-02-11_19-15-37_042436_3307 is over 95% full, available space: 577929216; capacity: 31845081088. Object creation will fail if spilling is required.\n"
     ]
    },
    {
     "name": "stdout",
     "output_type": "stream",
     "text": [
      "\u001b[2m\u001b[36m(RolloutWorker pid=4144)\u001b[0m Loaded XML file successfully\n",
      "\u001b[2m\u001b[36m(RolloutWorker pid=4143)\u001b[0m Loaded XML file successfully\n",
      "\u001b[2m\u001b[36m(RolloutWorker pid=4142)\u001b[0m Loaded XML file successfully\n",
      "\u001b[2m\u001b[36m(RolloutWorker pid=4144)\u001b[0m Loaded XML file successfully\n",
      "\u001b[2m\u001b[36m(RolloutWorker pid=4143)\u001b[0m Loaded XML file successfully\n",
      "\u001b[2m\u001b[36m(RolloutWorker pid=4142)\u001b[0m Loaded XML file successfully\n",
      "\u001b[2m\u001b[36m(RolloutWorker pid=4144)\u001b[0m Loaded XML file successfully\n",
      "\u001b[2m\u001b[36m(RolloutWorker pid=4143)\u001b[0m Loaded XML file successfully\n",
      "\u001b[2m\u001b[36m(RolloutWorker pid=4142)\u001b[0m Loaded XML file successfully\n"
     ]
    },
    {
     "name": "stderr",
     "output_type": "stream",
     "text": [
      "\u001b[2m\u001b[36m(SAC pid=4006)\u001b[0m /home/daniel/miniconda3/lib/python3.8/site-packages/gym/spaces/box.py:73: UserWarning: \u001b[33mWARN: Box bound precision lowered by casting to float32\u001b[0m\n",
      "\u001b[2m\u001b[36m(SAC pid=4006)\u001b[0m   logger.warn(\n",
      "\u001b[2m\u001b[36m(SAC pid=4006)\u001b[0m 2023-02-11 19:16:03,434\tWARNING env.py:147 -- Your env doesn't have a .spec.max_episode_steps attribute. This is fine if you have set 'horizon' in your config dictionary, or `soft_horizon`. However, if you haven't, 'horizon' will default to infinity, and your environment will not be reset.\n"
     ]
    },
    {
     "name": "stdout",
     "output_type": "stream",
     "text": [
      "\u001b[2m\u001b[36m(SAC pid=4006)\u001b[0m Loaded XML file successfully\n",
      "\u001b[2m\u001b[36m(SAC pid=4006)\u001b[0m Loaded XML file successfully\n",
      "\u001b[2m\u001b[36m(SAC pid=4006)\u001b[0m Loaded XML file successfully\n",
      "\u001b[2m\u001b[36m(SAC pid=4006)\u001b[0m Loaded XML file successfully\n",
      "\u001b[2m\u001b[36m(SAC pid=4006)\u001b[0m Loaded XML file successfully\n",
      "\u001b[2m\u001b[36m(SAC pid=4006)\u001b[0m Loaded XML file successfully\n",
      "\u001b[2m\u001b[36m(SAC pid=4006)\u001b[0m Loaded XML file successfully\n"
     ]
    },
    {
     "name": "stderr",
     "output_type": "stream",
     "text": [
      "\u001b[2m\u001b[33m(raylet)\u001b[0m [2023-02-11 19:16:09,211 E 3731 3781] (raylet) file_system_monitor.cc:105: /tmp/ray/session_2023-02-11_19-15-37_042436_3307 is over 95% full, available space: 581222400; capacity: 31845081088. Object creation will fail if spilling is required.\n",
      "\u001b[2m\u001b[36m(SAC pid=4006)\u001b[0m 2023-02-11 19:16:09,649\tINFO trainable.py:172 -- Trainable.setup took 24.305 seconds. If your trainable is slow to initialize, consider setting reuse_actors=True to reduce actor creation overheads.\n",
      "\u001b[2m\u001b[36m(SAC pid=4006)\u001b[0m 2023-02-11 19:16:09,649\tWARNING util.py:66 -- Install gputil for GPU system monitoring.\n"
     ]
    },
    {
     "name": "stdout",
     "output_type": "stream",
     "text": [
      "\u001b[2m\u001b[36m(SAC pid=4006)\u001b[0m Loaded XML file successfully\n"
     ]
    },
    {
     "name": "stderr",
     "output_type": "stream",
     "text": [
      "\u001b[2m\u001b[36m(SAC pid=4006)\u001b[0m 2023-02-11 19:16:13,017\tWARNING multi_agent_prioritized_replay_buffer.py:215 -- Adding batches with column `weights` to this buffer while providing weights as a call argument to the add method results in the column being overwritten.\n"
     ]
    },
    {
     "data": {
      "text/html": [
       "<div class=\"trialProgress\">\n",
       "  <h3>Trial Progress</h3>\n",
       "  <table>\n",
       "<thead>\n",
       "<tr><th>Trial name                        </th><th style=\"text-align: right;\">  agent_timesteps_total</th><th>counters                                                                                                                                                                                            </th><th>custom_metrics  </th><th>date               </th><th>done  </th><th style=\"text-align: right;\">  episode_len_mean</th><th>episode_media  </th><th style=\"text-align: right;\">  episode_reward_max</th><th style=\"text-align: right;\">  episode_reward_mean</th><th style=\"text-align: right;\">  episode_reward_min</th><th style=\"text-align: right;\">  episodes_this_iter</th><th style=\"text-align: right;\">  episodes_total</th><th>experiment_id                   </th><th>hostname  </th><th>info  </th><th style=\"text-align: right;\">  iterations_since_restore</th><th>node_ip       </th><th style=\"text-align: right;\">  num_agent_steps_sampled</th><th style=\"text-align: right;\">  num_agent_steps_trained</th><th style=\"text-align: right;\">  num_env_steps_sampled</th><th style=\"text-align: right;\">  num_env_steps_sampled_this_iter</th><th style=\"text-align: right;\">  num_env_steps_trained</th><th style=\"text-align: right;\">  num_env_steps_trained_this_iter</th><th style=\"text-align: right;\">  num_faulty_episodes</th><th style=\"text-align: right;\">  num_healthy_workers</th><th style=\"text-align: right;\">  num_in_flight_async_reqs</th><th style=\"text-align: right;\">  num_remote_worker_restarts</th><th style=\"text-align: right;\">  num_steps_trained_this_iter</th><th>perf                                                                          </th><th style=\"text-align: right;\">  pid</th><th>policy_reward_max  </th><th>policy_reward_mean  </th><th>policy_reward_min  </th><th>sampler_perf                                                                                                                                                                                                </th><th>sampler_results                                                                                                                                                                                                                                                                                                                                                                                                                                                                                                                                                                                                                                                                                                                                                                                                                                                             </th><th style=\"text-align: right;\">  time_since_restore</th><th style=\"text-align: right;\">  time_this_iter_s</th><th style=\"text-align: right;\">  time_total_s</th><th>timers                                                                                                                                                                              </th><th style=\"text-align: right;\">  timestamp</th><th style=\"text-align: right;\">  timesteps_since_restore</th><th style=\"text-align: right;\">  timesteps_total</th><th style=\"text-align: right;\">  training_iteration</th><th>trial_id   </th><th style=\"text-align: right;\">  warmup_time</th></tr>\n",
       "</thead>\n",
       "<tbody>\n",
       "<tr><td>SAC_darm_DarmSFHand-v0_179bb_00000</td><td style=\"text-align: right;\">                 254269</td><td>{&#x27;num_env_steps_sampled&#x27;: 254269, &#x27;num_env_steps_trained&#x27;: 221440, &#x27;num_agent_steps_sampled&#x27;: 254269, &#x27;num_agent_steps_trained&#x27;: 221440, &#x27;last_target_update_ts&#x27;: 254269, &#x27;num_target_updates&#x27;: 865}</td><td>{}              </td><td>2023-02-11_19-28-46</td><td>False </td><td style=\"text-align: right;\">           89.5556</td><td>{}             </td><td style=\"text-align: right;\">             240.523</td><td style=\"text-align: right;\">             -139.434</td><td style=\"text-align: right;\">            -195.771</td><td style=\"text-align: right;\">                   9</td><td style=\"text-align: right;\">            2586</td><td>95798da667c44a85905a593baa154fe7</td><td>Daniel    </td><td>{&#x27;learner&#x27;: {&#x27;default_policy&#x27;: {&#x27;learner_stats&#x27;: {&#x27;allreduce_latency&#x27;: 0.0, &#x27;grad_gnorm&#x27;: 8.412211418151855, &#x27;actor_loss&#x27;: -6.113483428955078, &#x27;critic_loss&#x27;: 0.047933921217918396, &#x27;alpha_loss&#x27;: -2.1803839206695557, &#x27;alpha_value&#x27;: 0.7716743, &#x27;log_alpha_value&#x27;: -0.2591927, &#x27;target_entropy&#x27;: -5.0, &#x27;policy_t&#x27;: -0.015224670991301537, &#x27;mean_q&#x27;: 3.5392165184020996, &#x27;max_q&#x27;: 4.098714828491211, &#x27;min_q&#x27;: 2.6217854022979736}, &#x27;td_error&#x27;: array([1.46431327e-01, 3.94257665e-01, 6.74173594e-01, 5.86444139e-01,\n",
       "       4.10774469e-01, 7.99208641e-01, 8.02165985e-01, 6.04646921e-01,\n",
       "       1.80744052e-01, 1.07565880e-01, 1.68466687e-01, 4.69948530e-01,\n",
       "       1.54204369e-01, 6.45148516e-01, 7.46771097e-02, 7.51260519e-01,\n",
       "       5.69868565e-01, 4.99303460e-01, 4.63913918e-01, 1.63797736e-01,\n",
       "       4.42468166e-01, 5.61371207e-01, 7.54427075e-01, 1.23319983e-01,\n",
       "       4.29314613e-01, 3.63872766e-01, 5.19393206e-01, 2.98516989e-01,\n",
       "       4.01322484e-01, 5.50394654e-01, 4.88874078e-01, 4.36257362e-01,\n",
       "       4.09926295e-01, 3.11878204e-01, 4.25271273e-01, 6.20383501e-01,\n",
       "       4.93131995e-01, 4.44417834e-01, 6.24982357e-01, 6.51130676e-01,\n",
       "       5.03359795e-01, 2.45171356e+02, 1.49619579e-01, 5.07337093e-01,\n",
       "       4.48907614e-02, 7.85684586e-02, 5.53010702e-01, 6.70867920e-01,\n",
       "       5.81312060e-01, 7.58226752e-01, 4.13824797e-01, 3.94141674e-01,\n",
       "       4.60121036e-01, 3.05863619e-01, 5.14650106e-01, 4.26628947e-01,\n",
       "       4.99199271e-01, 1.25747585e+00, 7.53485560e-01, 7.08401084e-01,\n",
       "       3.24697852e-01, 1.01772785e-01, 6.90237761e-01, 2.33137131e-01,\n",
       "       6.96907282e-01, 1.28694212e+00, 4.39301014e-01, 2.10801005e-01,\n",
       "       3.42124343e-01, 1.57168984e-01, 2.24895358e-01, 3.23400497e-02,\n",
       "       5.99060178e-01, 4.17830110e-01, 7.70286322e-01, 2.32761383e-01,\n",
       "       2.68883586e-01, 5.20187974e-01, 1.78355932e-01, 4.79869485e-01,\n",
       "       2.57993460e-01, 3.65079999e-01, 6.97735429e-01, 2.19332457e-01,\n",
       "       3.73098612e-01, 6.07264996e-01, 5.71798563e-01, 3.88374567e-01,\n",
       "       8.56137514e-01, 8.71317625e-01, 1.81767225e-01, 4.14772987e-01,\n",
       "       3.38086843e-01, 4.58023310e-01, 6.63560152e-01, 5.15259743e-01,\n",
       "       2.69862890e-01, 5.18673539e-01, 3.99626255e-01, 1.31711245e-01,\n",
       "       4.54027057e-01, 3.28786969e-01, 9.46861506e-01, 1.88130379e-01,\n",
       "       1.62204587e+00, 4.03504610e-01, 5.33233643e-01, 3.14668179e-01,\n",
       "       4.41712379e-01, 4.90839601e-01, 5.89397192e-01, 2.75573373e-01,\n",
       "       6.44361019e-01, 3.40936422e-01, 4.44684029e-01, 1.72413111e-01,\n",
       "       1.88962579e-01, 5.44782400e-01, 6.55957222e-01, 5.90798616e-01,\n",
       "       4.24523592e-01, 6.08666301e-01, 7.09342480e-01, 8.69397759e-01,\n",
       "       5.38100958e-01, 2.41183281e-01, 1.30488873e-01, 1.08946884e+00,\n",
       "       3.86836171e-01, 4.44678545e-01, 1.48842573e-01, 5.35924196e-01,\n",
       "       4.11223769e-01, 2.40782976e-01, 4.13589835e-01, 4.91421103e-01,\n",
       "       2.53834009e-01, 5.73795128e+00, 7.11337924e-01, 3.73072982e-01,\n",
       "       3.72252703e-01, 5.08470178e-01, 2.44451165e-01, 1.23452663e-01,\n",
       "       4.11465049e-01, 3.56747627e-01, 5.03532052e-01, 4.80599761e-01,\n",
       "       5.10802078e+00, 1.82090044e-01, 3.35313320e-01, 5.67605853e-01,\n",
       "       8.96078348e-02, 4.93101358e-01, 4.85331535e-01, 3.58474612e-01,\n",
       "       5.93012333e-01, 2.45211959e-01, 5.39077640e-01, 2.93414593e-02,\n",
       "       4.03859854e-01, 2.05810070e-02, 3.85019064e-01, 8.38836193e-01,\n",
       "       3.82838488e-01, 4.28623676e-01, 7.25347757e-01, 3.27157378e-01,\n",
       "       2.06711292e-02, 3.50894690e-01, 1.16192579e-01, 4.34111238e-01,\n",
       "       3.42114568e-01, 4.61051941e-01, 3.43117595e-01, 5.03477097e-01,\n",
       "       4.68885183e-01, 2.94196606e-01, 3.37648392e-01, 5.20084381e-01,\n",
       "       5.74688673e-01, 5.64959526e-01, 4.22971487e-01, 6.22637987e-01,\n",
       "       5.58745980e-01, 1.52038872e+00, 2.31433034e-01, 6.63897991e-02,\n",
       "       5.49949169e-01, 5.14680624e-01, 3.58519435e-01, 6.66337013e-01,\n",
       "       7.17256546e-01, 1.62846327e-01, 5.46737313e-01, 4.30140495e-01,\n",
       "       3.91987443e-01, 1.82510614e-02, 4.42092896e-01, 5.95599532e-01,\n",
       "       5.69820642e-01, 2.42247343e-01, 3.67725372e-01, 6.77248240e-01,\n",
       "       2.78090954e-01, 3.43628049e-01, 1.61242485e-01, 3.67328048e-01,\n",
       "       2.72215366e-01, 7.73121595e-01, 3.77482533e-01, 1.25529861e+00,\n",
       "       6.93788052e-01, 5.23720980e-02, 1.12715721e-01, 4.11507368e-01,\n",
       "       3.36225390e-01, 1.02381468e-01, 2.36740351e-01, 5.37263036e-01,\n",
       "       6.77783966e-01, 5.49523234e-01, 1.70576215e-01, 7.98722267e-01,\n",
       "       5.40122390e-01, 4.50299621e-01, 5.02975345e-01, 3.79696250e-01,\n",
       "       5.35663843e-01, 5.14876485e-01, 3.21395159e-01, 3.44562531e-01,\n",
       "       2.37024665e-01, 5.85801840e-01, 3.61874342e-01, 5.62191844e-01,\n",
       "       4.55371499e-01, 5.99348187e-01, 4.99363184e-01, 5.86849809e-01,\n",
       "       3.54822278e-01, 4.64888811e-01, 2.48181343e-01, 5.77801228e-01,\n",
       "       4.00488257e-01, 6.81254983e-01, 6.06014013e-01, 4.80735779e-01,\n",
       "       4.95252848e-01, 6.25100136e-01, 3.76674294e-01, 7.21747160e-01,\n",
       "       8.23387384e-01, 3.53230715e-01, 2.77336359e-01, 7.18195200e-01],\n",
       "      dtype=float32), &#x27;mean_td_error&#x27;: 1.4482245445251465, &#x27;model&#x27;: {}, &#x27;custom_metrics&#x27;: {}, &#x27;num_agent_steps_trained&#x27;: 256.0, &#x27;num_grad_updates_lifetime&#x27;: 865.0, &#x27;diff_num_grad_updates_vs_sampler_policy&#x27;: 864.0}}, &#x27;num_env_steps_sampled&#x27;: 254269, &#x27;num_env_steps_trained&#x27;: 221440, &#x27;num_agent_steps_sampled&#x27;: 254269, &#x27;num_agent_steps_trained&#x27;: 221440, &#x27;last_target_update_ts&#x27;: 254269, &#x27;num_target_updates&#x27;: 865}       </td><td style=\"text-align: right;\">                       216</td><td>192.168.152.36</td><td style=\"text-align: right;\">                   254269</td><td style=\"text-align: right;\">                   221440</td><td style=\"text-align: right;\">                 254269</td><td style=\"text-align: right;\">                             1206</td><td style=\"text-align: right;\">                 221440</td><td style=\"text-align: right;\">                             1024</td><td style=\"text-align: right;\">                    0</td><td style=\"text-align: right;\">                    2</td><td style=\"text-align: right;\">                         0</td><td style=\"text-align: right;\">                           2</td><td style=\"text-align: right;\">                         1024</td><td>{&#x27;cpu_util_percent&#x27;: 74.28571428571429, &#x27;ram_util_percent&#x27;: 92.65714285714286}</td><td style=\"text-align: right;\"> 4006</td><td>{}                 </td><td>{}                  </td><td>{}                 </td><td>{&#x27;mean_raw_obs_processing_ms&#x27;: 2.933600925629454, &#x27;mean_inference_ms&#x27;: 2.186229255721348, &#x27;mean_action_processing_ms&#x27;: 0.767675362853113, &#x27;mean_env_wait_ms&#x27;: 21.641127285030375, &#x27;mean_env_render_ms&#x27;: 0.0}</td><td>{&#x27;episode_reward_max&#x27;: 240.5227508097887, &#x27;episode_reward_min&#x27;: -195.77066253125668, &#x27;episode_reward_mean&#x27;: -139.43429894786743, &#x27;episode_len_mean&#x27;: 89.55555555555556, &#x27;episode_media&#x27;: {}, &#x27;episodes_this_iter&#x27;: 9, &#x27;policy_reward_min&#x27;: {}, &#x27;policy_reward_max&#x27;: {}, &#x27;policy_reward_mean&#x27;: {}, &#x27;custom_metrics&#x27;: {}, &#x27;hist_stats&#x27;: {&#x27;episode_reward&#x27;: [-188.02437069267035, -188.9480082951486, -188.56400795280933, -195.77066253125668, -183.92274528741837, -186.0668497979641, -188.50286706537008, 240.5227508097887, -175.63192971795797], &#x27;episode_lengths&#x27;: [100, 100, 100, 100, 100, 100, 100, 6, 100]}, &#x27;sampler_perf&#x27;: {&#x27;mean_raw_obs_processing_ms&#x27;: 2.933600925629454, &#x27;mean_inference_ms&#x27;: 2.186229255721348, &#x27;mean_action_processing_ms&#x27;: 0.767675362853113, &#x27;mean_env_wait_ms&#x27;: 21.641127285030375, &#x27;mean_env_render_ms&#x27;: 0.0}, &#x27;num_faulty_episodes&#x27;: 0}</td><td style=\"text-align: right;\">             736.562</td><td style=\"text-align: right;\">            5.2491</td><td style=\"text-align: right;\">       736.562</td><td>{&#x27;training_iteration_time_ms&#x27;: 963.869, &#x27;load_time_ms&#x27;: 0.368, &#x27;load_throughput&#x27;: 695023.512, &#x27;learn_time_ms&#x27;: 32.268, &#x27;learn_throughput&#x27;: 7933.439, &#x27;synch_weights_time_ms&#x27;: 7.943}</td><td style=\"text-align: right;\"> 1676140126</td><td style=\"text-align: right;\">                        0</td><td style=\"text-align: right;\">           254269</td><td style=\"text-align: right;\">                 216</td><td>179bb_00000</td><td style=\"text-align: right;\">      24.3092</td></tr>\n",
       "</tbody>\n",
       "</table>\n",
       "</div>\n",
       "<style>\n",
       ".trialProgress {\n",
       "  display: flex;\n",
       "  flex-direction: column;\n",
       "  color: var(--jp-ui-font-color1);\n",
       "}\n",
       ".trialProgress h3 {\n",
       "  font-weight: bold;\n",
       "}\n",
       ".trialProgress td {\n",
       "  white-space: nowrap;\n",
       "}\n",
       "</style>\n"
      ],
      "text/plain": [
       "<IPython.core.display.HTML object>"
      ]
     },
     "metadata": {},
     "output_type": "display_data"
    },
    {
     "name": "stderr",
     "output_type": "stream",
     "text": [
      "\u001b[34m\u001b[1mwandb\u001b[0m: Adding directory to artifact (/home/daniel/DARM/darm_mujoco/darm_training/results/8env_cmp_ep_Test_DARMSF_DELTA_TARGET/SAC_darm_DarmSFHand-v0_179bb_00000_0_2023-02-11_19-15-41/checkpoint_000001)... Done. 0.0s\n",
      "\u001b[34m\u001b[1mwandb\u001b[0m: Adding directory to artifact (/home/daniel/DARM/darm_mujoco/darm_training/results/8env_cmp_ep_Test_DARMSF_DELTA_TARGET/SAC_darm_DarmSFHand-v0_179bb_00000_0_2023-02-11_19-15-41/checkpoint_000002)... Done. 0.0s\n",
      "\u001b[2m\u001b[33m(raylet)\u001b[0m [2023-02-11 19:16:19,220 E 3731 3781] (raylet) file_system_monitor.cc:105: /tmp/ray/session_2023-02-11_19-15-37_042436_3307 is over 95% full, available space: 577241088; capacity: 31845081088. Object creation will fail if spilling is required.\n",
      "\u001b[34m\u001b[1mwandb\u001b[0m: Adding directory to artifact (/home/daniel/DARM/darm_mujoco/darm_training/results/8env_cmp_ep_Test_DARMSF_DELTA_TARGET/SAC_darm_DarmSFHand-v0_179bb_00000_0_2023-02-11_19-15-41/checkpoint_000003)... Done. 0.0s\n",
      "\u001b[34m\u001b[1mwandb\u001b[0m: Adding directory to artifact (/home/daniel/DARM/darm_mujoco/darm_training/results/8env_cmp_ep_Test_DARMSF_DELTA_TARGET/SAC_darm_DarmSFHand-v0_179bb_00000_0_2023-02-11_19-15-41/checkpoint_000004)... Done. 0.0s\n",
      "\u001b[34m\u001b[1mwandb\u001b[0m: Adding directory to artifact (/home/daniel/DARM/darm_mujoco/darm_training/results/8env_cmp_ep_Test_DARMSF_DELTA_TARGET/SAC_darm_DarmSFHand-v0_179bb_00000_0_2023-02-11_19-15-41/checkpoint_000005)... Done. 0.0s\n",
      "\u001b[34m\u001b[1mwandb\u001b[0m: Adding directory to artifact (/home/daniel/DARM/darm_mujoco/darm_training/results/8env_cmp_ep_Test_DARMSF_DELTA_TARGET/SAC_darm_DarmSFHand-v0_179bb_00000_0_2023-02-11_19-15-41/checkpoint_000006)... Done. 0.0s\n",
      "\u001b[34m\u001b[1mwandb\u001b[0m: Adding directory to artifact (/home/daniel/DARM/darm_mujoco/darm_training/results/8env_cmp_ep_Test_DARMSF_DELTA_TARGET/SAC_darm_DarmSFHand-v0_179bb_00000_0_2023-02-11_19-15-41/checkpoint_000007)... Done. 0.0s\n",
      "\u001b[2m\u001b[36m(SAC pid=4006)\u001b[0m 2023-02-11 19:16:27,873\tWARNING deprecation.py:47 -- DeprecationWarning: `concat_samples` has been deprecated. Use `concat_samples() from rllib.policy.sample_batch` instead. This will raise an error in the future!\n",
      "\u001b[34m\u001b[1mwandb\u001b[0m: Adding directory to artifact (/home/daniel/DARM/darm_mujoco/darm_training/results/8env_cmp_ep_Test_DARMSF_DELTA_TARGET/SAC_darm_DarmSFHand-v0_179bb_00000_0_2023-02-11_19-15-41/checkpoint_000008)... Done. 0.0s\n",
      "\u001b[2m\u001b[33m(raylet)\u001b[0m [2023-02-11 19:16:29,225 E 3731 3781] (raylet) file_system_monitor.cc:105: /tmp/ray/session_2023-02-11_19-15-37_042436_3307 is over 95% full, available space: 566923264; capacity: 31845081088. Object creation will fail if spilling is required.\n",
      "\u001b[34m\u001b[1mwandb\u001b[0m: Adding directory to artifact (/home/daniel/DARM/darm_mujoco/darm_training/results/8env_cmp_ep_Test_DARMSF_DELTA_TARGET/SAC_darm_DarmSFHand-v0_179bb_00000_0_2023-02-11_19-15-41/checkpoint_000009)... Done. 0.0s\n",
      "\u001b[34m\u001b[1mwandb\u001b[0m: Adding directory to artifact (/home/daniel/DARM/darm_mujoco/darm_training/results/8env_cmp_ep_Test_DARMSF_DELTA_TARGET/SAC_darm_DarmSFHand-v0_179bb_00000_0_2023-02-11_19-15-41/checkpoint_000010)... Done. 0.0s\n",
      "\u001b[34m\u001b[1mwandb\u001b[0m: Adding directory to artifact (/home/daniel/DARM/darm_mujoco/darm_training/results/8env_cmp_ep_Test_DARMSF_DELTA_TARGET/SAC_darm_DarmSFHand-v0_179bb_00000_0_2023-02-11_19-15-41/checkpoint_000011)... Done. 0.1s\n",
      "\u001b[2m\u001b[33m(raylet)\u001b[0m [2023-02-11 19:16:39,233 E 3731 3781] (raylet) file_system_monitor.cc:105: /tmp/ray/session_2023-02-11_19-15-37_042436_3307 is over 95% full, available space: 560685056; capacity: 31845081088. Object creation will fail if spilling is required.\n",
      "\u001b[34m\u001b[1mwandb\u001b[0m: Adding directory to artifact (/home/daniel/DARM/darm_mujoco/darm_training/results/8env_cmp_ep_Test_DARMSF_DELTA_TARGET/SAC_darm_DarmSFHand-v0_179bb_00000_0_2023-02-11_19-15-41/checkpoint_000012)... Done. 0.0s\n",
      "\u001b[34m\u001b[1mwandb\u001b[0m: Adding directory to artifact (/home/daniel/DARM/darm_mujoco/darm_training/results/8env_cmp_ep_Test_DARMSF_DELTA_TARGET/SAC_darm_DarmSFHand-v0_179bb_00000_0_2023-02-11_19-15-41/checkpoint_000013)... Done. 0.0s\n",
      "\u001b[34m\u001b[1mwandb\u001b[0m: Adding directory to artifact (/home/daniel/DARM/darm_mujoco/darm_training/results/8env_cmp_ep_Test_DARMSF_DELTA_TARGET/SAC_darm_DarmSFHand-v0_179bb_00000_0_2023-02-11_19-15-41/checkpoint_000014)... Done. 0.0s\n",
      "\u001b[34m\u001b[1mwandb\u001b[0m: Adding directory to artifact (/home/daniel/DARM/darm_mujoco/darm_training/results/8env_cmp_ep_Test_DARMSF_DELTA_TARGET/SAC_darm_DarmSFHand-v0_179bb_00000_0_2023-02-11_19-15-41/checkpoint_000015)... Done. 0.1s\n",
      "\u001b[2m\u001b[33m(raylet)\u001b[0m [2023-02-11 19:16:49,239 E 3731 3781] (raylet) file_system_monitor.cc:105: /tmp/ray/session_2023-02-11_19-15-37_042436_3307 is over 95% full, available space: 549965824; capacity: 31845081088. Object creation will fail if spilling is required.\n",
      "\u001b[34m\u001b[1mwandb\u001b[0m: Adding directory to artifact (/home/daniel/DARM/darm_mujoco/darm_training/results/8env_cmp_ep_Test_DARMSF_DELTA_TARGET/SAC_darm_DarmSFHand-v0_179bb_00000_0_2023-02-11_19-15-41/checkpoint_000016)... Done. 0.0s\n",
      "\u001b[34m\u001b[1mwandb\u001b[0m: Adding directory to artifact (/home/daniel/DARM/darm_mujoco/darm_training/results/8env_cmp_ep_Test_DARMSF_DELTA_TARGET/SAC_darm_DarmSFHand-v0_179bb_00000_0_2023-02-11_19-15-41/checkpoint_000017)... Done. 0.0s\n",
      "\u001b[34m\u001b[1mwandb\u001b[0m: Adding directory to artifact (/home/daniel/DARM/darm_mujoco/darm_training/results/8env_cmp_ep_Test_DARMSF_DELTA_TARGET/SAC_darm_DarmSFHand-v0_179bb_00000_0_2023-02-11_19-15-41/checkpoint_000018)... Done. 0.0s\n",
      "\u001b[2m\u001b[33m(raylet)\u001b[0m [2023-02-11 19:16:59,245 E 3731 3781] (raylet) file_system_monitor.cc:105: /tmp/ray/session_2023-02-11_19-15-37_042436_3307 is over 95% full, available space: 539418624; capacity: 31845081088. Object creation will fail if spilling is required.\n",
      "\u001b[34m\u001b[1mwandb\u001b[0m: Adding directory to artifact (/home/daniel/DARM/darm_mujoco/darm_training/results/8env_cmp_ep_Test_DARMSF_DELTA_TARGET/SAC_darm_DarmSFHand-v0_179bb_00000_0_2023-02-11_19-15-41/checkpoint_000019)... Done. 0.0s\n",
      "\u001b[34m\u001b[1mwandb\u001b[0m: Adding directory to artifact (/home/daniel/DARM/darm_mujoco/darm_training/results/8env_cmp_ep_Test_DARMSF_DELTA_TARGET/SAC_darm_DarmSFHand-v0_179bb_00000_0_2023-02-11_19-15-41/checkpoint_000020)... Done. 0.0s\n",
      "\u001b[34m\u001b[1mwandb\u001b[0m: Adding directory to artifact (/home/daniel/DARM/darm_mujoco/darm_training/results/8env_cmp_ep_Test_DARMSF_DELTA_TARGET/SAC_darm_DarmSFHand-v0_179bb_00000_0_2023-02-11_19-15-41/checkpoint_000021)... Done. 0.1s\n",
      "\u001b[2m\u001b[33m(raylet)\u001b[0m [2023-02-11 19:17:09,252 E 3731 3781] (raylet) file_system_monitor.cc:105: /tmp/ray/session_2023-02-11_19-15-37_042436_3307 is over 95% full, available space: 531369984; capacity: 31845081088. Object creation will fail if spilling is required.\n",
      "\u001b[34m\u001b[1mwandb\u001b[0m: Adding directory to artifact (/home/daniel/DARM/darm_mujoco/darm_training/results/8env_cmp_ep_Test_DARMSF_DELTA_TARGET/SAC_darm_DarmSFHand-v0_179bb_00000_0_2023-02-11_19-15-41/checkpoint_000022)... Done. 0.0s\n",
      "\u001b[34m\u001b[1mwandb\u001b[0m: Adding directory to artifact (/home/daniel/DARM/darm_mujoco/darm_training/results/8env_cmp_ep_Test_DARMSF_DELTA_TARGET/SAC_darm_DarmSFHand-v0_179bb_00000_0_2023-02-11_19-15-41/checkpoint_000023)... Done. 0.1s\n",
      "\u001b[34m\u001b[1mwandb\u001b[0m: Adding directory to artifact (/home/daniel/DARM/darm_mujoco/darm_training/results/8env_cmp_ep_Test_DARMSF_DELTA_TARGET/SAC_darm_DarmSFHand-v0_179bb_00000_0_2023-02-11_19-15-41/checkpoint_000024)... Done. 0.0s\n",
      "\u001b[34m\u001b[1mwandb\u001b[0m: Adding directory to artifact (/home/daniel/DARM/darm_mujoco/darm_training/results/8env_cmp_ep_Test_DARMSF_DELTA_TARGET/SAC_darm_DarmSFHand-v0_179bb_00000_0_2023-02-11_19-15-41/checkpoint_000025)... Done. 0.0s\n",
      "\u001b[2m\u001b[33m(raylet)\u001b[0m [2023-02-11 19:17:19,266 E 3731 3781] (raylet) file_system_monitor.cc:105: /tmp/ray/session_2023-02-11_19-15-37_042436_3307 is over 95% full, available space: 523337728; capacity: 31845081088. Object creation will fail if spilling is required.\n",
      "\u001b[34m\u001b[1mwandb\u001b[0m: Adding directory to artifact (/home/daniel/DARM/darm_mujoco/darm_training/results/8env_cmp_ep_Test_DARMSF_DELTA_TARGET/SAC_darm_DarmSFHand-v0_179bb_00000_0_2023-02-11_19-15-41/checkpoint_000026)... Done. 0.0s\n",
      "\u001b[34m\u001b[1mwandb\u001b[0m: Adding directory to artifact (/home/daniel/DARM/darm_mujoco/darm_training/results/8env_cmp_ep_Test_DARMSF_DELTA_TARGET/SAC_darm_DarmSFHand-v0_179bb_00000_0_2023-02-11_19-15-41/checkpoint_000027)... Done. 0.1s\n",
      "\u001b[34m\u001b[1mwandb\u001b[0m: Adding directory to artifact (/home/daniel/DARM/darm_mujoco/darm_training/results/8env_cmp_ep_Test_DARMSF_DELTA_TARGET/SAC_darm_DarmSFHand-v0_179bb_00000_0_2023-02-11_19-15-41/checkpoint_000028)... Done. 0.0s\n",
      "\u001b[2m\u001b[33m(raylet)\u001b[0m [2023-02-11 19:17:29,271 E 3731 3781] (raylet) file_system_monitor.cc:105: /tmp/ray/session_2023-02-11_19-15-37_042436_3307 is over 95% full, available space: 512659456; capacity: 31845081088. Object creation will fail if spilling is required.\n",
      "\u001b[34m\u001b[1mwandb\u001b[0m: Adding directory to artifact (/home/daniel/DARM/darm_mujoco/darm_training/results/8env_cmp_ep_Test_DARMSF_DELTA_TARGET/SAC_darm_DarmSFHand-v0_179bb_00000_0_2023-02-11_19-15-41/checkpoint_000029)... Done. 0.0s\n",
      "\u001b[34m\u001b[1mwandb\u001b[0m: Adding directory to artifact (/home/daniel/DARM/darm_mujoco/darm_training/results/8env_cmp_ep_Test_DARMSF_DELTA_TARGET/SAC_darm_DarmSFHand-v0_179bb_00000_0_2023-02-11_19-15-41/checkpoint_000030)... Done. 0.0s\n",
      "\u001b[34m\u001b[1mwandb\u001b[0m: Adding directory to artifact (/home/daniel/DARM/darm_mujoco/darm_training/results/8env_cmp_ep_Test_DARMSF_DELTA_TARGET/SAC_darm_DarmSFHand-v0_179bb_00000_0_2023-02-11_19-15-41/checkpoint_000031)... Done. 0.0s\n",
      "\u001b[2m\u001b[33m(raylet)\u001b[0m [2023-02-11 19:17:39,277 E 3731 3781] (raylet) file_system_monitor.cc:105: /tmp/ray/session_2023-02-11_19-15-37_042436_3307 is over 95% full, available space: 504602624; capacity: 31845081088. Object creation will fail if spilling is required.\n",
      "\u001b[34m\u001b[1mwandb\u001b[0m: Adding directory to artifact (/home/daniel/DARM/darm_mujoco/darm_training/results/8env_cmp_ep_Test_DARMSF_DELTA_TARGET/SAC_darm_DarmSFHand-v0_179bb_00000_0_2023-02-11_19-15-41/checkpoint_000032)... Done. 0.0s\n",
      "\u001b[34m\u001b[1mwandb\u001b[0m: Adding directory to artifact (/home/daniel/DARM/darm_mujoco/darm_training/results/8env_cmp_ep_Test_DARMSF_DELTA_TARGET/SAC_darm_DarmSFHand-v0_179bb_00000_0_2023-02-11_19-15-41/checkpoint_000033)... Done. 0.0s\n",
      "\u001b[34m\u001b[1mwandb\u001b[0m: Adding directory to artifact (/home/daniel/DARM/darm_mujoco/darm_training/results/8env_cmp_ep_Test_DARMSF_DELTA_TARGET/SAC_darm_DarmSFHand-v0_179bb_00000_0_2023-02-11_19-15-41/checkpoint_000034)... Done. 0.0s\n",
      "\u001b[34m\u001b[1mwandb\u001b[0m: Adding directory to artifact (/home/daniel/DARM/darm_mujoco/darm_training/results/8env_cmp_ep_Test_DARMSF_DELTA_TARGET/SAC_darm_DarmSFHand-v0_179bb_00000_0_2023-02-11_19-15-41/checkpoint_000035)... Done. 0.0s\n",
      "\u001b[2m\u001b[33m(raylet)\u001b[0m [2023-02-11 19:17:49,282 E 3731 3781] (raylet) file_system_monitor.cc:105: /tmp/ray/session_2023-02-11_19-15-37_042436_3307 is over 95% full, available space: 493903872; capacity: 31845081088. Object creation will fail if spilling is required.\n",
      "\u001b[34m\u001b[1mwandb\u001b[0m: Adding directory to artifact (/home/daniel/DARM/darm_mujoco/darm_training/results/8env_cmp_ep_Test_DARMSF_DELTA_TARGET/SAC_darm_DarmSFHand-v0_179bb_00000_0_2023-02-11_19-15-41/checkpoint_000036)... Done. 0.0s\n",
      "\u001b[34m\u001b[1mwandb\u001b[0m: Adding directory to artifact (/home/daniel/DARM/darm_mujoco/darm_training/results/8env_cmp_ep_Test_DARMSF_DELTA_TARGET/SAC_darm_DarmSFHand-v0_179bb_00000_0_2023-02-11_19-15-41/checkpoint_000037)... Done. 0.1s\n",
      "\u001b[34m\u001b[1mwandb\u001b[0m: Adding directory to artifact (/home/daniel/DARM/darm_mujoco/darm_training/results/8env_cmp_ep_Test_DARMSF_DELTA_TARGET/SAC_darm_DarmSFHand-v0_179bb_00000_0_2023-02-11_19-15-41/checkpoint_000038)... Done. 0.0s\n",
      "\u001b[2m\u001b[33m(raylet)\u001b[0m [2023-02-11 19:17:59,287 E 3731 3781] (raylet) file_system_monitor.cc:105: /tmp/ray/session_2023-02-11_19-15-37_042436_3307 is over 95% full, available space: 485863424; capacity: 31845081088. Object creation will fail if spilling is required.\n",
      "\u001b[34m\u001b[1mwandb\u001b[0m: Adding directory to artifact (/home/daniel/DARM/darm_mujoco/darm_training/results/8env_cmp_ep_Test_DARMSF_DELTA_TARGET/SAC_darm_DarmSFHand-v0_179bb_00000_0_2023-02-11_19-15-41/checkpoint_000039)... Done. 0.1s\n",
      "\u001b[34m\u001b[1mwandb\u001b[0m: Adding directory to artifact (/home/daniel/DARM/darm_mujoco/darm_training/results/8env_cmp_ep_Test_DARMSF_DELTA_TARGET/SAC_darm_DarmSFHand-v0_179bb_00000_0_2023-02-11_19-15-41/checkpoint_000040)... Done. 0.0s\n",
      "\u001b[34m\u001b[1mwandb\u001b[0m: Adding directory to artifact (/home/daniel/DARM/darm_mujoco/darm_training/results/8env_cmp_ep_Test_DARMSF_DELTA_TARGET/SAC_darm_DarmSFHand-v0_179bb_00000_0_2023-02-11_19-15-41/checkpoint_000041)... Done. 0.1s\n",
      "\u001b[2m\u001b[33m(raylet)\u001b[0m [2023-02-11 19:18:09,296 E 3731 3781] (raylet) file_system_monitor.cc:105: /tmp/ray/session_2023-02-11_19-15-37_042436_3307 is over 95% full, available space: 477741056; capacity: 31845081088. Object creation will fail if spilling is required.\n",
      "\u001b[34m\u001b[1mwandb\u001b[0m: Adding directory to artifact (/home/daniel/DARM/darm_mujoco/darm_training/results/8env_cmp_ep_Test_DARMSF_DELTA_TARGET/SAC_darm_DarmSFHand-v0_179bb_00000_0_2023-02-11_19-15-41/checkpoint_000042)... Done. 0.0s\n",
      "\u001b[34m\u001b[1mwandb\u001b[0m: Adding directory to artifact (/home/daniel/DARM/darm_mujoco/darm_training/results/8env_cmp_ep_Test_DARMSF_DELTA_TARGET/SAC_darm_DarmSFHand-v0_179bb_00000_0_2023-02-11_19-15-41/checkpoint_000043)... Done. 0.1s\n",
      "\u001b[34m\u001b[1mwandb\u001b[0m: Adding directory to artifact (/home/daniel/DARM/darm_mujoco/darm_training/results/8env_cmp_ep_Test_DARMSF_DELTA_TARGET/SAC_darm_DarmSFHand-v0_179bb_00000_0_2023-02-11_19-15-41/checkpoint_000044)... Done. 0.0s\n",
      "\u001b[34m\u001b[1mwandb\u001b[0m: Adding directory to artifact (/home/daniel/DARM/darm_mujoco/darm_training/results/8env_cmp_ep_Test_DARMSF_DELTA_TARGET/SAC_darm_DarmSFHand-v0_179bb_00000_0_2023-02-11_19-15-41/checkpoint_000045)... Done. 0.0s\n",
      "\u001b[2m\u001b[33m(raylet)\u001b[0m [2023-02-11 19:18:19,304 E 3731 3781] (raylet) file_system_monitor.cc:105: /tmp/ray/session_2023-02-11_19-15-37_042436_3307 is over 95% full, available space: 467083264; capacity: 31845081088. Object creation will fail if spilling is required.\n",
      "\u001b[34m\u001b[1mwandb\u001b[0m: Adding directory to artifact (/home/daniel/DARM/darm_mujoco/darm_training/results/8env_cmp_ep_Test_DARMSF_DELTA_TARGET/SAC_darm_DarmSFHand-v0_179bb_00000_0_2023-02-11_19-15-41/checkpoint_000046)... Done. 0.0s\n",
      "\u001b[34m\u001b[1mwandb\u001b[0m: Adding directory to artifact (/home/daniel/DARM/darm_mujoco/darm_training/results/8env_cmp_ep_Test_DARMSF_DELTA_TARGET/SAC_darm_DarmSFHand-v0_179bb_00000_0_2023-02-11_19-15-41/checkpoint_000047)... Done. 0.0s\n",
      "\u001b[34m\u001b[1mwandb\u001b[0m: Adding directory to artifact (/home/daniel/DARM/darm_mujoco/darm_training/results/8env_cmp_ep_Test_DARMSF_DELTA_TARGET/SAC_darm_DarmSFHand-v0_179bb_00000_0_2023-02-11_19-15-41/checkpoint_000048)... Done. 0.0s\n",
      "\u001b[2m\u001b[33m(raylet)\u001b[0m [2023-02-11 19:18:29,312 E 3731 3781] (raylet) file_system_monitor.cc:105: /tmp/ray/session_2023-02-11_19-15-37_042436_3307 is over 95% full, available space: 461611008; capacity: 31845081088. Object creation will fail if spilling is required.\n",
      "\u001b[34m\u001b[1mwandb\u001b[0m: Adding directory to artifact (/home/daniel/DARM/darm_mujoco/darm_training/results/8env_cmp_ep_Test_DARMSF_DELTA_TARGET/SAC_darm_DarmSFHand-v0_179bb_00000_0_2023-02-11_19-15-41/checkpoint_000049)... Done. 0.1s\n",
      "\u001b[34m\u001b[1mwandb\u001b[0m: Adding directory to artifact (/home/daniel/DARM/darm_mujoco/darm_training/results/8env_cmp_ep_Test_DARMSF_DELTA_TARGET/SAC_darm_DarmSFHand-v0_179bb_00000_0_2023-02-11_19-15-41/checkpoint_000050)... Done. 0.0s\n",
      "\u001b[34m\u001b[1mwandb\u001b[0m: Adding directory to artifact (/home/daniel/DARM/darm_mujoco/darm_training/results/8env_cmp_ep_Test_DARMSF_DELTA_TARGET/SAC_darm_DarmSFHand-v0_179bb_00000_0_2023-02-11_19-15-41/checkpoint_000051)... Done. 0.1s\n",
      "\u001b[2m\u001b[33m(raylet)\u001b[0m [2023-02-11 19:18:39,317 E 3731 3781] (raylet) file_system_monitor.cc:105: /tmp/ray/session_2023-02-11_19-15-37_042436_3307 is over 95% full, available space: 461942784; capacity: 31845081088. Object creation will fail if spilling is required.\n",
      "\u001b[34m\u001b[1mwandb\u001b[0m: Adding directory to artifact (/home/daniel/DARM/darm_mujoco/darm_training/results/8env_cmp_ep_Test_DARMSF_DELTA_TARGET/SAC_darm_DarmSFHand-v0_179bb_00000_0_2023-02-11_19-15-41/checkpoint_000052)... Done. 0.1s\n",
      "\u001b[34m\u001b[1mwandb\u001b[0m: Adding directory to artifact (/home/daniel/DARM/darm_mujoco/darm_training/results/8env_cmp_ep_Test_DARMSF_DELTA_TARGET/SAC_darm_DarmSFHand-v0_179bb_00000_0_2023-02-11_19-15-41/checkpoint_000053)... Done. 0.1s\n",
      "\u001b[34m\u001b[1mwandb\u001b[0m: Adding directory to artifact (/home/daniel/DARM/darm_mujoco/darm_training/results/8env_cmp_ep_Test_DARMSF_DELTA_TARGET/SAC_darm_DarmSFHand-v0_179bb_00000_0_2023-02-11_19-15-41/checkpoint_000054)... Done. 0.0s\n",
      "\u001b[34m\u001b[1mwandb\u001b[0m: Adding directory to artifact (/home/daniel/DARM/darm_mujoco/darm_training/results/8env_cmp_ep_Test_DARMSF_DELTA_TARGET/SAC_darm_DarmSFHand-v0_179bb_00000_0_2023-02-11_19-15-41/checkpoint_000055)... Done. 0.0s\n",
      "\u001b[2m\u001b[33m(raylet)\u001b[0m [2023-02-11 19:18:49,324 E 3731 3781] (raylet) file_system_monitor.cc:105: /tmp/ray/session_2023-02-11_19-15-37_042436_3307 is over 95% full, available space: 451190784; capacity: 31845081088. Object creation will fail if spilling is required.\n",
      "\u001b[34m\u001b[1mwandb\u001b[0m: Adding directory to artifact (/home/daniel/DARM/darm_mujoco/darm_training/results/8env_cmp_ep_Test_DARMSF_DELTA_TARGET/SAC_darm_DarmSFHand-v0_179bb_00000_0_2023-02-11_19-15-41/checkpoint_000056)... Done. 0.1s\n",
      "\u001b[34m\u001b[1mwandb\u001b[0m: Adding directory to artifact (/home/daniel/DARM/darm_mujoco/darm_training/results/8env_cmp_ep_Test_DARMSF_DELTA_TARGET/SAC_darm_DarmSFHand-v0_179bb_00000_0_2023-02-11_19-15-41/checkpoint_000057)... Done. 0.0s\n",
      "\u001b[34m\u001b[1mwandb\u001b[0m: Adding directory to artifact (/home/daniel/DARM/darm_mujoco/darm_training/results/8env_cmp_ep_Test_DARMSF_DELTA_TARGET/SAC_darm_DarmSFHand-v0_179bb_00000_0_2023-02-11_19-15-41/checkpoint_000058)... Done. 0.0s\n",
      "\u001b[2m\u001b[33m(raylet)\u001b[0m [2023-02-11 19:18:59,330 E 3731 3781] (raylet) file_system_monitor.cc:105: /tmp/ray/session_2023-02-11_19-15-37_042436_3307 is over 95% full, available space: 445411328; capacity: 31845081088. Object creation will fail if spilling is required.\n",
      "\u001b[34m\u001b[1mwandb\u001b[0m: Adding directory to artifact (/home/daniel/DARM/darm_mujoco/darm_training/results/8env_cmp_ep_Test_DARMSF_DELTA_TARGET/SAC_darm_DarmSFHand-v0_179bb_00000_0_2023-02-11_19-15-41/checkpoint_000059)... Done. 0.0s\n",
      "\u001b[34m\u001b[1mwandb\u001b[0m: Adding directory to artifact (/home/daniel/DARM/darm_mujoco/darm_training/results/8env_cmp_ep_Test_DARMSF_DELTA_TARGET/SAC_darm_DarmSFHand-v0_179bb_00000_0_2023-02-11_19-15-41/checkpoint_000060)... Done. 0.0s\n",
      "\u001b[34m\u001b[1mwandb\u001b[0m: Adding directory to artifact (/home/daniel/DARM/darm_mujoco/darm_training/results/8env_cmp_ep_Test_DARMSF_DELTA_TARGET/SAC_darm_DarmSFHand-v0_179bb_00000_0_2023-02-11_19-15-41/checkpoint_000061)... Done. 0.0s\n",
      "\u001b[2m\u001b[33m(raylet)\u001b[0m [2023-02-11 19:19:09,335 E 3731 3781] (raylet) file_system_monitor.cc:105: /tmp/ray/session_2023-02-11_19-15-37_042436_3307 is over 95% full, available space: 434839552; capacity: 31845081088. Object creation will fail if spilling is required.\n",
      "\u001b[34m\u001b[1mwandb\u001b[0m: Adding directory to artifact (/home/daniel/DARM/darm_mujoco/darm_training/results/8env_cmp_ep_Test_DARMSF_DELTA_TARGET/SAC_darm_DarmSFHand-v0_179bb_00000_0_2023-02-11_19-15-41/checkpoint_000062)... Done. 0.0s\n",
      "\u001b[34m\u001b[1mwandb\u001b[0m: Adding directory to artifact (/home/daniel/DARM/darm_mujoco/darm_training/results/8env_cmp_ep_Test_DARMSF_DELTA_TARGET/SAC_darm_DarmSFHand-v0_179bb_00000_0_2023-02-11_19-15-41/checkpoint_000063)... Done. 0.0s\n",
      "\u001b[34m\u001b[1mwandb\u001b[0m: Adding directory to artifact (/home/daniel/DARM/darm_mujoco/darm_training/results/8env_cmp_ep_Test_DARMSF_DELTA_TARGET/SAC_darm_DarmSFHand-v0_179bb_00000_0_2023-02-11_19-15-41/checkpoint_000064)... Done. 0.0s\n",
      "\u001b[2m\u001b[33m(raylet)\u001b[0m [2023-02-11 19:19:19,341 E 3731 3781] (raylet) file_system_monitor.cc:105: /tmp/ray/session_2023-02-11_19-15-37_042436_3307 is over 95% full, available space: 427200512; capacity: 31845081088. Object creation will fail if spilling is required.\n",
      "\u001b[34m\u001b[1mwandb\u001b[0m: Adding directory to artifact (/home/daniel/DARM/darm_mujoco/darm_training/results/8env_cmp_ep_Test_DARMSF_DELTA_TARGET/SAC_darm_DarmSFHand-v0_179bb_00000_0_2023-02-11_19-15-41/checkpoint_000065)... Done. 0.0s\n",
      "\u001b[34m\u001b[1mwandb\u001b[0m: Adding directory to artifact (/home/daniel/DARM/darm_mujoco/darm_training/results/8env_cmp_ep_Test_DARMSF_DELTA_TARGET/SAC_darm_DarmSFHand-v0_179bb_00000_0_2023-02-11_19-15-41/checkpoint_000066)... Done. 0.0s\n",
      "\u001b[34m\u001b[1mwandb\u001b[0m: Adding directory to artifact (/home/daniel/DARM/darm_mujoco/darm_training/results/8env_cmp_ep_Test_DARMSF_DELTA_TARGET/SAC_darm_DarmSFHand-v0_179bb_00000_0_2023-02-11_19-15-41/checkpoint_000067)... Done. 0.0s\n",
      "\u001b[34m\u001b[1mwandb\u001b[0m: Adding directory to artifact (/home/daniel/DARM/darm_mujoco/darm_training/results/8env_cmp_ep_Test_DARMSF_DELTA_TARGET/SAC_darm_DarmSFHand-v0_179bb_00000_0_2023-02-11_19-15-41/checkpoint_000068)... Done. 0.0s\n",
      "\u001b[2m\u001b[33m(raylet)\u001b[0m [2023-02-11 19:19:29,347 E 3731 3781] (raylet) file_system_monitor.cc:105: /tmp/ray/session_2023-02-11_19-15-37_042436_3307 is over 95% full, available space: 416571392; capacity: 31845081088. Object creation will fail if spilling is required.\n",
      "\u001b[34m\u001b[1mwandb\u001b[0m: Adding directory to artifact (/home/daniel/DARM/darm_mujoco/darm_training/results/8env_cmp_ep_Test_DARMSF_DELTA_TARGET/SAC_darm_DarmSFHand-v0_179bb_00000_0_2023-02-11_19-15-41/checkpoint_000069)... Done. 0.1s\n",
      "\u001b[34m\u001b[1mwandb\u001b[0m: Adding directory to artifact (/home/daniel/DARM/darm_mujoco/darm_training/results/8env_cmp_ep_Test_DARMSF_DELTA_TARGET/SAC_darm_DarmSFHand-v0_179bb_00000_0_2023-02-11_19-15-41/checkpoint_000070)... Done. 0.0s\n",
      "\u001b[34m\u001b[1mwandb\u001b[0m: Adding directory to artifact (/home/daniel/DARM/darm_mujoco/darm_training/results/8env_cmp_ep_Test_DARMSF_DELTA_TARGET/SAC_darm_DarmSFHand-v0_179bb_00000_0_2023-02-11_19-15-41/checkpoint_000071)... Done. 0.1s\n",
      "\u001b[2m\u001b[33m(raylet)\u001b[0m [2023-02-11 19:19:39,352 E 3731 3781] (raylet) file_system_monitor.cc:105: /tmp/ray/session_2023-02-11_19-15-37_042436_3307 is over 95% full, available space: 408547328; capacity: 31845081088. Object creation will fail if spilling is required.\n",
      "\u001b[34m\u001b[1mwandb\u001b[0m: Adding directory to artifact (/home/daniel/DARM/darm_mujoco/darm_training/results/8env_cmp_ep_Test_DARMSF_DELTA_TARGET/SAC_darm_DarmSFHand-v0_179bb_00000_0_2023-02-11_19-15-41/checkpoint_000072)... Done. 0.1s\n",
      "\u001b[34m\u001b[1mwandb\u001b[0m: Adding directory to artifact (/home/daniel/DARM/darm_mujoco/darm_training/results/8env_cmp_ep_Test_DARMSF_DELTA_TARGET/SAC_darm_DarmSFHand-v0_179bb_00000_0_2023-02-11_19-15-41/checkpoint_000073)... Done. 0.0s\n",
      "\u001b[34m\u001b[1mwandb\u001b[0m: Adding directory to artifact (/home/daniel/DARM/darm_mujoco/darm_training/results/8env_cmp_ep_Test_DARMSF_DELTA_TARGET/SAC_darm_DarmSFHand-v0_179bb_00000_0_2023-02-11_19-15-41/checkpoint_000074)... Done. 0.1s\n",
      "\u001b[2m\u001b[33m(raylet)\u001b[0m [2023-02-11 19:19:49,358 E 3731 3781] (raylet) file_system_monitor.cc:105: /tmp/ray/session_2023-02-11_19-15-37_042436_3307 is over 95% full, available space: 389873664; capacity: 31845081088. Object creation will fail if spilling is required.\n",
      "\u001b[34m\u001b[1mwandb\u001b[0m: Adding directory to artifact (/home/daniel/DARM/darm_mujoco/darm_training/results/8env_cmp_ep_Test_DARMSF_DELTA_TARGET/SAC_darm_DarmSFHand-v0_179bb_00000_0_2023-02-11_19-15-41/checkpoint_000075)... Done. 0.0s\n",
      "\u001b[34m\u001b[1mwandb\u001b[0m: Adding directory to artifact (/home/daniel/DARM/darm_mujoco/darm_training/results/8env_cmp_ep_Test_DARMSF_DELTA_TARGET/SAC_darm_DarmSFHand-v0_179bb_00000_0_2023-02-11_19-15-41/checkpoint_000076)... Done. 0.0s\n",
      "\u001b[34m\u001b[1mwandb\u001b[0m: Adding directory to artifact (/home/daniel/DARM/darm_mujoco/darm_training/results/8env_cmp_ep_Test_DARMSF_DELTA_TARGET/SAC_darm_DarmSFHand-v0_179bb_00000_0_2023-02-11_19-15-41/checkpoint_000077)... Done. 0.0s\n",
      "\u001b[34m\u001b[1mwandb\u001b[0m: Adding directory to artifact (/home/daniel/DARM/darm_mujoco/darm_training/results/8env_cmp_ep_Test_DARMSF_DELTA_TARGET/SAC_darm_DarmSFHand-v0_179bb_00000_0_2023-02-11_19-15-41/checkpoint_000078)... Done. 0.0s\n",
      "\u001b[2m\u001b[33m(raylet)\u001b[0m [2023-02-11 19:19:59,365 E 3731 3781] (raylet) file_system_monitor.cc:105: /tmp/ray/session_2023-02-11_19-15-37_042436_3307 is over 95% full, available space: 379199488; capacity: 31845081088. Object creation will fail if spilling is required.\n",
      "\u001b[34m\u001b[1mwandb\u001b[0m: Adding directory to artifact (/home/daniel/DARM/darm_mujoco/darm_training/results/8env_cmp_ep_Test_DARMSF_DELTA_TARGET/SAC_darm_DarmSFHand-v0_179bb_00000_0_2023-02-11_19-15-41/checkpoint_000079)... Done. 0.0s\n",
      "\u001b[34m\u001b[1mwandb\u001b[0m: Adding directory to artifact (/home/daniel/DARM/darm_mujoco/darm_training/results/8env_cmp_ep_Test_DARMSF_DELTA_TARGET/SAC_darm_DarmSFHand-v0_179bb_00000_0_2023-02-11_19-15-41/checkpoint_000080)... Done. 0.0s\n",
      "\u001b[34m\u001b[1mwandb\u001b[0m: Adding directory to artifact (/home/daniel/DARM/darm_mujoco/darm_training/results/8env_cmp_ep_Test_DARMSF_DELTA_TARGET/SAC_darm_DarmSFHand-v0_179bb_00000_0_2023-02-11_19-15-41/checkpoint_000081)... Done. 0.0s\n",
      "\u001b[2m\u001b[33m(raylet)\u001b[0m [2023-02-11 19:20:09,370 E 3731 3781] (raylet) file_system_monitor.cc:105: /tmp/ray/session_2023-02-11_19-15-37_042436_3307 is over 95% full, available space: 368586752; capacity: 31845081088. Object creation will fail if spilling is required.\n",
      "\u001b[34m\u001b[1mwandb\u001b[0m: Adding directory to artifact (/home/daniel/DARM/darm_mujoco/darm_training/results/8env_cmp_ep_Test_DARMSF_DELTA_TARGET/SAC_darm_DarmSFHand-v0_179bb_00000_0_2023-02-11_19-15-41/checkpoint_000082)... Done. 0.1s\n",
      "\u001b[34m\u001b[1mwandb\u001b[0m: Adding directory to artifact (/home/daniel/DARM/darm_mujoco/darm_training/results/8env_cmp_ep_Test_DARMSF_DELTA_TARGET/SAC_darm_DarmSFHand-v0_179bb_00000_0_2023-02-11_19-15-41/checkpoint_000083)... Done. 0.0s\n",
      "\u001b[34m\u001b[1mwandb\u001b[0m: Adding directory to artifact (/home/daniel/DARM/darm_mujoco/darm_training/results/8env_cmp_ep_Test_DARMSF_DELTA_TARGET/SAC_darm_DarmSFHand-v0_179bb_00000_0_2023-02-11_19-15-41/checkpoint_000084)... Done. 0.0s\n",
      "\u001b[34m\u001b[1mwandb\u001b[0m: Adding directory to artifact (/home/daniel/DARM/darm_mujoco/darm_training/results/8env_cmp_ep_Test_DARMSF_DELTA_TARGET/SAC_darm_DarmSFHand-v0_179bb_00000_0_2023-02-11_19-15-41/checkpoint_000085)... Done. 0.1s\n",
      "\u001b[2m\u001b[33m(raylet)\u001b[0m [2023-02-11 19:20:19,376 E 3731 3781] (raylet) file_system_monitor.cc:105: /tmp/ray/session_2023-02-11_19-15-37_042436_3307 is over 95% full, available space: 360554496; capacity: 31845081088. Object creation will fail if spilling is required.\n",
      "\u001b[34m\u001b[1mwandb\u001b[0m: Adding directory to artifact (/home/daniel/DARM/darm_mujoco/darm_training/results/8env_cmp_ep_Test_DARMSF_DELTA_TARGET/SAC_darm_DarmSFHand-v0_179bb_00000_0_2023-02-11_19-15-41/checkpoint_000086)... Done. 0.0s\n",
      "\u001b[34m\u001b[1mwandb\u001b[0m: Adding directory to artifact (/home/daniel/DARM/darm_mujoco/darm_training/results/8env_cmp_ep_Test_DARMSF_DELTA_TARGET/SAC_darm_DarmSFHand-v0_179bb_00000_0_2023-02-11_19-15-41/checkpoint_000087)... Done. 0.0s\n",
      "\u001b[34m\u001b[1mwandb\u001b[0m: Adding directory to artifact (/home/daniel/DARM/darm_mujoco/darm_training/results/8env_cmp_ep_Test_DARMSF_DELTA_TARGET/SAC_darm_DarmSFHand-v0_179bb_00000_0_2023-02-11_19-15-41/checkpoint_000088)... Done. 0.0s\n",
      "\u001b[34m\u001b[1mwandb\u001b[0m: Adding directory to artifact (/home/daniel/DARM/darm_mujoco/darm_training/results/8env_cmp_ep_Test_DARMSF_DELTA_TARGET/SAC_darm_DarmSFHand-v0_179bb_00000_0_2023-02-11_19-15-41/checkpoint_000089)... \u001b[2m\u001b[33m(raylet)\u001b[0m [2023-02-11 19:20:29,384 E 3731 3781] (raylet) file_system_monitor.cc:105: /tmp/ray/session_2023-02-11_19-15-37_042436_3307 is over 95% full, available space: 352485376; capacity: 31845081088. Object creation will fail if spilling is required.\n",
      "Done. 0.1s\n",
      "\u001b[34m\u001b[1mwandb\u001b[0m: Adding directory to artifact (/home/daniel/DARM/darm_mujoco/darm_training/results/8env_cmp_ep_Test_DARMSF_DELTA_TARGET/SAC_darm_DarmSFHand-v0_179bb_00000_0_2023-02-11_19-15-41/checkpoint_000090)... Done. 0.0s\n",
      "\u001b[34m\u001b[1mwandb\u001b[0m: Adding directory to artifact (/home/daniel/DARM/darm_mujoco/darm_training/results/8env_cmp_ep_Test_DARMSF_DELTA_TARGET/SAC_darm_DarmSFHand-v0_179bb_00000_0_2023-02-11_19-15-41/checkpoint_000091)... Done. 0.0s\n",
      "\u001b[34m\u001b[1mwandb\u001b[0m: Adding directory to artifact (/home/daniel/DARM/darm_mujoco/darm_training/results/8env_cmp_ep_Test_DARMSF_DELTA_TARGET/SAC_darm_DarmSFHand-v0_179bb_00000_0_2023-02-11_19-15-41/checkpoint_000092)... Done. 0.0s\n",
      "\u001b[2m\u001b[33m(raylet)\u001b[0m [2023-02-11 19:20:39,389 E 3731 3781] (raylet) file_system_monitor.cc:105: /tmp/ray/session_2023-02-11_19-15-37_042436_3307 is over 95% full, available space: 341843968; capacity: 31845081088. Object creation will fail if spilling is required.\n",
      "\u001b[34m\u001b[1mwandb\u001b[0m: Adding directory to artifact (/home/daniel/DARM/darm_mujoco/darm_training/results/8env_cmp_ep_Test_DARMSF_DELTA_TARGET/SAC_darm_DarmSFHand-v0_179bb_00000_0_2023-02-11_19-15-41/checkpoint_000093)... Done. 0.0s\n",
      "\u001b[34m\u001b[1mwandb\u001b[0m: Adding directory to artifact (/home/daniel/DARM/darm_mujoco/darm_training/results/8env_cmp_ep_Test_DARMSF_DELTA_TARGET/SAC_darm_DarmSFHand-v0_179bb_00000_0_2023-02-11_19-15-41/checkpoint_000094)... Done. 0.1s\n",
      "\u001b[34m\u001b[1mwandb\u001b[0m: Adding directory to artifact (/home/daniel/DARM/darm_mujoco/darm_training/results/8env_cmp_ep_Test_DARMSF_DELTA_TARGET/SAC_darm_DarmSFHand-v0_179bb_00000_0_2023-02-11_19-15-41/checkpoint_000095)... Done. 0.1s\n",
      "\u001b[34m\u001b[1mwandb\u001b[0m: Adding directory to artifact (/home/daniel/DARM/darm_mujoco/darm_training/results/8env_cmp_ep_Test_DARMSF_DELTA_TARGET/SAC_darm_DarmSFHand-v0_179bb_00000_0_2023-02-11_19-15-41/checkpoint_000096)... Done. 0.1s\n",
      "\u001b[2m\u001b[33m(raylet)\u001b[0m [2023-02-11 19:20:49,394 E 3731 3781] (raylet) file_system_monitor.cc:105: /tmp/ray/session_2023-02-11_19-15-37_042436_3307 is over 95% full, available space: 341966848; capacity: 31845081088. Object creation will fail if spilling is required.\n",
      "\u001b[34m\u001b[1mwandb\u001b[0m: Adding directory to artifact (/home/daniel/DARM/darm_mujoco/darm_training/results/8env_cmp_ep_Test_DARMSF_DELTA_TARGET/SAC_darm_DarmSFHand-v0_179bb_00000_0_2023-02-11_19-15-41/checkpoint_000097)... Done. 0.1s\n",
      "\u001b[34m\u001b[1mwandb\u001b[0m: Adding directory to artifact (/home/daniel/DARM/darm_mujoco/darm_training/results/8env_cmp_ep_Test_DARMSF_DELTA_TARGET/SAC_darm_DarmSFHand-v0_179bb_00000_0_2023-02-11_19-15-41/checkpoint_000098)... Done. 0.1s\n",
      "\u001b[34m\u001b[1mwandb\u001b[0m: Adding directory to artifact (/home/daniel/DARM/darm_mujoco/darm_training/results/8env_cmp_ep_Test_DARMSF_DELTA_TARGET/SAC_darm_DarmSFHand-v0_179bb_00000_0_2023-02-11_19-15-41/checkpoint_000099)... Done. 0.0s\n",
      "\u001b[2m\u001b[33m(raylet)\u001b[0m [2023-02-11 19:20:59,399 E 3731 3781] (raylet) file_system_monitor.cc:105: /tmp/ray/session_2023-02-11_19-15-37_042436_3307 is over 95% full, available space: 334016512; capacity: 31845081088. Object creation will fail if spilling is required.\n",
      "\u001b[34m\u001b[1mwandb\u001b[0m: Adding directory to artifact (/home/daniel/DARM/darm_mujoco/darm_training/results/8env_cmp_ep_Test_DARMSF_DELTA_TARGET/SAC_darm_DarmSFHand-v0_179bb_00000_0_2023-02-11_19-15-41/checkpoint_000100)... Done. 0.0s\n",
      "\u001b[2m\u001b[33m(raylet)\u001b[0m [2023-02-11 19:21:09,404 E 3731 3781] (raylet) file_system_monitor.cc:105: /tmp/ray/session_2023-02-11_19-15-37_042436_3307 is over 95% full, available space: 331374592; capacity: 31845081088. Object creation will fail if spilling is required.\n",
      "\u001b[34m\u001b[1mwandb\u001b[0m: Adding directory to artifact (/home/daniel/DARM/darm_mujoco/darm_training/results/8env_cmp_ep_Test_DARMSF_DELTA_TARGET/SAC_darm_DarmSFHand-v0_179bb_00000_0_2023-02-11_19-15-41/checkpoint_000101)... Done. 0.0s\n",
      "\u001b[34m\u001b[1mwandb\u001b[0m: Adding directory to artifact (/home/daniel/DARM/darm_mujoco/darm_training/results/8env_cmp_ep_Test_DARMSF_DELTA_TARGET/SAC_darm_DarmSFHand-v0_179bb_00000_0_2023-02-11_19-15-41/checkpoint_000102)... Done. 0.0s\n",
      "\u001b[34m\u001b[1mwandb\u001b[0m: Adding directory to artifact (/home/daniel/DARM/darm_mujoco/darm_training/results/8env_cmp_ep_Test_DARMSF_DELTA_TARGET/SAC_darm_DarmSFHand-v0_179bb_00000_0_2023-02-11_19-15-41/checkpoint_000103)... Done. 0.0s\n",
      "\u001b[34m\u001b[1mwandb\u001b[0m: Adding directory to artifact (/home/daniel/DARM/darm_mujoco/darm_training/results/8env_cmp_ep_Test_DARMSF_DELTA_TARGET/SAC_darm_DarmSFHand-v0_179bb_00000_0_2023-02-11_19-15-41/checkpoint_000104)... Done. 0.0s\n",
      "\u001b[2m\u001b[33m(raylet)\u001b[0m [2023-02-11 19:21:19,410 E 3731 3781] (raylet) file_system_monitor.cc:105: /tmp/ray/session_2023-02-11_19-15-37_042436_3307 is over 95% full, available space: 320610304; capacity: 31845081088. Object creation will fail if spilling is required.\n",
      "\u001b[34m\u001b[1mwandb\u001b[0m: Adding directory to artifact (/home/daniel/DARM/darm_mujoco/darm_training/results/8env_cmp_ep_Test_DARMSF_DELTA_TARGET/SAC_darm_DarmSFHand-v0_179bb_00000_0_2023-02-11_19-15-41/checkpoint_000105)... Done. 0.1s\n",
      "\u001b[34m\u001b[1mwandb\u001b[0m: Adding directory to artifact (/home/daniel/DARM/darm_mujoco/darm_training/results/8env_cmp_ep_Test_DARMSF_DELTA_TARGET/SAC_darm_DarmSFHand-v0_179bb_00000_0_2023-02-11_19-15-41/checkpoint_000106)... Done. 0.1s\n",
      "\u001b[34m\u001b[1mwandb\u001b[0m: Adding directory to artifact (/home/daniel/DARM/darm_mujoco/darm_training/results/8env_cmp_ep_Test_DARMSF_DELTA_TARGET/SAC_darm_DarmSFHand-v0_179bb_00000_0_2023-02-11_19-15-41/checkpoint_000107)... Done. 0.0s\n",
      "\u001b[2m\u001b[33m(raylet)\u001b[0m [2023-02-11 19:21:29,416 E 3731 3781] (raylet) file_system_monitor.cc:105: /tmp/ray/session_2023-02-11_19-15-37_042436_3307 is over 95% full, available space: 312700928; capacity: 31845081088. Object creation will fail if spilling is required.\n",
      "\u001b[34m\u001b[1mwandb\u001b[0m: Adding directory to artifact (/home/daniel/DARM/darm_mujoco/darm_training/results/8env_cmp_ep_Test_DARMSF_DELTA_TARGET/SAC_darm_DarmSFHand-v0_179bb_00000_0_2023-02-11_19-15-41/checkpoint_000108)... Done. 0.0s\n",
      "\u001b[34m\u001b[1mwandb\u001b[0m: Adding directory to artifact (/home/daniel/DARM/darm_mujoco/darm_training/results/8env_cmp_ep_Test_DARMSF_DELTA_TARGET/SAC_darm_DarmSFHand-v0_179bb_00000_0_2023-02-11_19-15-41/checkpoint_000109)... Done. 0.1s\n",
      "\u001b[34m\u001b[1mwandb\u001b[0m: Adding directory to artifact (/home/daniel/DARM/darm_mujoco/darm_training/results/8env_cmp_ep_Test_DARMSF_DELTA_TARGET/SAC_darm_DarmSFHand-v0_179bb_00000_0_2023-02-11_19-15-41/checkpoint_000110)... Done. 0.1s\n",
      "\u001b[34m\u001b[1mwandb\u001b[0m: Adding directory to artifact (/home/daniel/DARM/darm_mujoco/darm_training/results/8env_cmp_ep_Test_DARMSF_DELTA_TARGET/SAC_darm_DarmSFHand-v0_179bb_00000_0_2023-02-11_19-15-41/checkpoint_000111)... Done. 0.0s\n",
      "\u001b[2m\u001b[33m(raylet)\u001b[0m [2023-02-11 19:21:39,436 E 3731 3781] (raylet) file_system_monitor.cc:105: /tmp/ray/session_2023-02-11_19-15-37_042436_3307 is over 95% full, available space: 301944832; capacity: 31845081088. Object creation will fail if spilling is required.\n",
      "\u001b[34m\u001b[1mwandb\u001b[0m: Adding directory to artifact (/home/daniel/DARM/darm_mujoco/darm_training/results/8env_cmp_ep_Test_DARMSF_DELTA_TARGET/SAC_darm_DarmSFHand-v0_179bb_00000_0_2023-02-11_19-15-41/checkpoint_000112)... Done. 0.0s\n",
      "\u001b[34m\u001b[1mwandb\u001b[0m: Adding directory to artifact (/home/daniel/DARM/darm_mujoco/darm_training/results/8env_cmp_ep_Test_DARMSF_DELTA_TARGET/SAC_darm_DarmSFHand-v0_179bb_00000_0_2023-02-11_19-15-41/checkpoint_000113)... Done. 0.1s\n",
      "\u001b[34m\u001b[1mwandb\u001b[0m: Adding directory to artifact (/home/daniel/DARM/darm_mujoco/darm_training/results/8env_cmp_ep_Test_DARMSF_DELTA_TARGET/SAC_darm_DarmSFHand-v0_179bb_00000_0_2023-02-11_19-15-41/checkpoint_000114)... Done. 0.1s\n",
      "\u001b[2m\u001b[33m(raylet)\u001b[0m [2023-02-11 19:21:49,447 E 3731 3781] (raylet) file_system_monitor.cc:105: /tmp/ray/session_2023-02-11_19-15-37_042436_3307 is over 95% full, available space: 318177280; capacity: 31845081088. Object creation will fail if spilling is required.\n",
      "\u001b[34m\u001b[1mwandb\u001b[0m: Adding directory to artifact (/home/daniel/DARM/darm_mujoco/darm_training/results/8env_cmp_ep_Test_DARMSF_DELTA_TARGET/SAC_darm_DarmSFHand-v0_179bb_00000_0_2023-02-11_19-15-41/checkpoint_000115)... Done. 0.1s\n",
      "\u001b[34m\u001b[1mwandb\u001b[0m: Adding directory to artifact (/home/daniel/DARM/darm_mujoco/darm_training/results/8env_cmp_ep_Test_DARMSF_DELTA_TARGET/SAC_darm_DarmSFHand-v0_179bb_00000_0_2023-02-11_19-15-41/checkpoint_000116)... Done. 0.1s\n",
      "\u001b[2m\u001b[33m(raylet)\u001b[0m [2023-02-11 19:21:59,455 E 3731 3781] (raylet) file_system_monitor.cc:105: /tmp/ray/session_2023-02-11_19-15-37_042436_3307 is over 95% full, available space: 312291328; capacity: 31845081088. Object creation will fail if spilling is required.\n",
      "\u001b[34m\u001b[1mwandb\u001b[0m: Adding directory to artifact (/home/daniel/DARM/darm_mujoco/darm_training/results/8env_cmp_ep_Test_DARMSF_DELTA_TARGET/SAC_darm_DarmSFHand-v0_179bb_00000_0_2023-02-11_19-15-41/checkpoint_000117)... Done. 0.1s\n",
      "\u001b[34m\u001b[1mwandb\u001b[0m: Adding directory to artifact (/home/daniel/DARM/darm_mujoco/darm_training/results/8env_cmp_ep_Test_DARMSF_DELTA_TARGET/SAC_darm_DarmSFHand-v0_179bb_00000_0_2023-02-11_19-15-41/checkpoint_000118)... Done. 0.0s\n",
      "\u001b[34m\u001b[1mwandb\u001b[0m: Adding directory to artifact (/home/daniel/DARM/darm_mujoco/darm_training/results/8env_cmp_ep_Test_DARMSF_DELTA_TARGET/SAC_darm_DarmSFHand-v0_179bb_00000_0_2023-02-11_19-15-41/checkpoint_000119)... Done. 0.1s\n",
      "\u001b[2m\u001b[33m(raylet)\u001b[0m [2023-02-11 19:22:09,463 E 3731 3781] (raylet) file_system_monitor.cc:105: /tmp/ray/session_2023-02-11_19-15-37_042436_3307 is over 95% full, available space: 304336896; capacity: 31845081088. Object creation will fail if spilling is required.\n",
      "\u001b[34m\u001b[1mwandb\u001b[0m: Adding directory to artifact (/home/daniel/DARM/darm_mujoco/darm_training/results/8env_cmp_ep_Test_DARMSF_DELTA_TARGET/SAC_darm_DarmSFHand-v0_179bb_00000_0_2023-02-11_19-15-41/checkpoint_000120)... Done. 0.0s\n",
      "\u001b[34m\u001b[1mwandb\u001b[0m: Adding directory to artifact (/home/daniel/DARM/darm_mujoco/darm_training/results/8env_cmp_ep_Test_DARMSF_DELTA_TARGET/SAC_darm_DarmSFHand-v0_179bb_00000_0_2023-02-11_19-15-41/checkpoint_000121)... Done. 0.1s\n",
      "\u001b[34m\u001b[1mwandb\u001b[0m: Adding directory to artifact (/home/daniel/DARM/darm_mujoco/darm_training/results/8env_cmp_ep_Test_DARMSF_DELTA_TARGET/SAC_darm_DarmSFHand-v0_179bb_00000_0_2023-02-11_19-15-41/checkpoint_000122)... Done. 0.0s\n",
      "\u001b[2m\u001b[33m(raylet)\u001b[0m [2023-02-11 19:22:19,469 E 3731 3781] (raylet) file_system_monitor.cc:105: /tmp/ray/session_2023-02-11_19-15-37_042436_3307 is over 95% full, available space: 295809024; capacity: 31845081088. Object creation will fail if spilling is required.\n",
      "\u001b[34m\u001b[1mwandb\u001b[0m: Adding directory to artifact (/home/daniel/DARM/darm_mujoco/darm_training/results/8env_cmp_ep_Test_DARMSF_DELTA_TARGET/SAC_darm_DarmSFHand-v0_179bb_00000_0_2023-02-11_19-15-41/checkpoint_000123)... Done. 0.1s\n",
      "\u001b[34m\u001b[1mwandb\u001b[0m: Adding directory to artifact (/home/daniel/DARM/darm_mujoco/darm_training/results/8env_cmp_ep_Test_DARMSF_DELTA_TARGET/SAC_darm_DarmSFHand-v0_179bb_00000_0_2023-02-11_19-15-41/checkpoint_000124)... Done. 0.0s\n",
      "\u001b[2m\u001b[33m(raylet)\u001b[0m [2023-02-11 19:22:29,475 E 3731 3781] (raylet) file_system_monitor.cc:105: /tmp/ray/session_2023-02-11_19-15-37_042436_3307 is over 95% full, available space: 290533376; capacity: 31845081088. Object creation will fail if spilling is required.\n",
      "\u001b[34m\u001b[1mwandb\u001b[0m: Adding directory to artifact (/home/daniel/DARM/darm_mujoco/darm_training/results/8env_cmp_ep_Test_DARMSF_DELTA_TARGET/SAC_darm_DarmSFHand-v0_179bb_00000_0_2023-02-11_19-15-41/checkpoint_000125)... Done. 0.1s\n",
      "\u001b[34m\u001b[1mwandb\u001b[0m: Adding directory to artifact (/home/daniel/DARM/darm_mujoco/darm_training/results/8env_cmp_ep_Test_DARMSF_DELTA_TARGET/SAC_darm_DarmSFHand-v0_179bb_00000_0_2023-02-11_19-15-41/checkpoint_000126)... Done. 0.1s\n",
      "\u001b[34m\u001b[1mwandb\u001b[0m: Adding directory to artifact (/home/daniel/DARM/darm_mujoco/darm_training/results/8env_cmp_ep_Test_DARMSF_DELTA_TARGET/SAC_darm_DarmSFHand-v0_179bb_00000_0_2023-02-11_19-15-41/checkpoint_000127)... Done. 0.1s\n",
      "\u001b[2m\u001b[33m(raylet)\u001b[0m [2023-02-11 19:22:39,481 E 3731 3781] (raylet) file_system_monitor.cc:105: /tmp/ray/session_2023-02-11_19-15-37_042436_3307 is over 95% full, available space: 282259456; capacity: 31845081088. Object creation will fail if spilling is required.\n",
      "\u001b[34m\u001b[1mwandb\u001b[0m: Adding directory to artifact (/home/daniel/DARM/darm_mujoco/darm_training/results/8env_cmp_ep_Test_DARMSF_DELTA_TARGET/SAC_darm_DarmSFHand-v0_179bb_00000_0_2023-02-11_19-15-41/checkpoint_000128)... Done. 0.1s\n",
      "\u001b[34m\u001b[1mwandb\u001b[0m: Adding directory to artifact (/home/daniel/DARM/darm_mujoco/darm_training/results/8env_cmp_ep_Test_DARMSF_DELTA_TARGET/SAC_darm_DarmSFHand-v0_179bb_00000_0_2023-02-11_19-15-41/checkpoint_000129)... Done. 0.1s\n",
      "\u001b[34m\u001b[1mwandb\u001b[0m: Adding directory to artifact (/home/daniel/DARM/darm_mujoco/darm_training/results/8env_cmp_ep_Test_DARMSF_DELTA_TARGET/SAC_darm_DarmSFHand-v0_179bb_00000_0_2023-02-11_19-15-41/checkpoint_000130)... Done. 0.0s\n",
      "\u001b[34m\u001b[1mwandb\u001b[0m: Adding directory to artifact (/home/daniel/DARM/darm_mujoco/darm_training/results/8env_cmp_ep_Test_DARMSF_DELTA_TARGET/SAC_darm_DarmSFHand-v0_179bb_00000_0_2023-02-11_19-15-41/checkpoint_000131)... Done. 0.1s\n",
      "\u001b[2m\u001b[33m(raylet)\u001b[0m [2023-02-11 19:22:49,488 E 3731 3781] (raylet) file_system_monitor.cc:105: /tmp/ray/session_2023-02-11_19-15-37_042436_3307 is over 95% full, available space: 274259968; capacity: 31845081088. Object creation will fail if spilling is required.\n",
      "\u001b[34m\u001b[1mwandb\u001b[0m: Adding directory to artifact (/home/daniel/DARM/darm_mujoco/darm_training/results/8env_cmp_ep_Test_DARMSF_DELTA_TARGET/SAC_darm_DarmSFHand-v0_179bb_00000_0_2023-02-11_19-15-41/checkpoint_000132)... Done. 0.1s\n",
      "\u001b[34m\u001b[1mwandb\u001b[0m: Adding directory to artifact (/home/daniel/DARM/darm_mujoco/darm_training/results/8env_cmp_ep_Test_DARMSF_DELTA_TARGET/SAC_darm_DarmSFHand-v0_179bb_00000_0_2023-02-11_19-15-41/checkpoint_000133)... Done. 0.1s\n",
      "\u001b[34m\u001b[1mwandb\u001b[0m: Adding directory to artifact (/home/daniel/DARM/darm_mujoco/darm_training/results/8env_cmp_ep_Test_DARMSF_DELTA_TARGET/SAC_darm_DarmSFHand-v0_179bb_00000_0_2023-02-11_19-15-41/checkpoint_000134)... Done. 0.0s\n",
      "\u001b[2m\u001b[33m(raylet)\u001b[0m [2023-02-11 19:22:59,494 E 3731 3781] (raylet) file_system_monitor.cc:105: /tmp/ray/session_2023-02-11_19-15-37_042436_3307 is over 95% full, available space: 272547840; capacity: 31845081088. Object creation will fail if spilling is required.\n",
      "\u001b[34m\u001b[1mwandb\u001b[0m: Adding directory to artifact (/home/daniel/DARM/darm_mujoco/darm_training/results/8env_cmp_ep_Test_DARMSF_DELTA_TARGET/SAC_darm_DarmSFHand-v0_179bb_00000_0_2023-02-11_19-15-41/checkpoint_000135)... Done. 0.0s\n",
      "\u001b[34m\u001b[1mwandb\u001b[0m: Adding directory to artifact (/home/daniel/DARM/darm_mujoco/darm_training/results/8env_cmp_ep_Test_DARMSF_DELTA_TARGET/SAC_darm_DarmSFHand-v0_179bb_00000_0_2023-02-11_19-15-41/checkpoint_000136)... Done. 0.1s\n",
      "\u001b[2m\u001b[33m(raylet)\u001b[0m [2023-02-11 19:23:09,504 E 3731 3781] (raylet) file_system_monitor.cc:105: /tmp/ray/session_2023-02-11_19-15-37_042436_3307 is over 95% full, available space: 262070272; capacity: 31845081088. Object creation will fail if spilling is required.\n",
      "\u001b[34m\u001b[1mwandb\u001b[0m: Adding directory to artifact (/home/daniel/DARM/darm_mujoco/darm_training/results/8env_cmp_ep_Test_DARMSF_DELTA_TARGET/SAC_darm_DarmSFHand-v0_179bb_00000_0_2023-02-11_19-15-41/checkpoint_000137)... Done. 0.1s\n",
      "\u001b[34m\u001b[1mwandb\u001b[0m: Adding directory to artifact (/home/daniel/DARM/darm_mujoco/darm_training/results/8env_cmp_ep_Test_DARMSF_DELTA_TARGET/SAC_darm_DarmSFHand-v0_179bb_00000_0_2023-02-11_19-15-41/checkpoint_000138)... Done. 0.1s\n",
      "\u001b[34m\u001b[1mwandb\u001b[0m: Adding directory to artifact (/home/daniel/DARM/darm_mujoco/darm_training/results/8env_cmp_ep_Test_DARMSF_DELTA_TARGET/SAC_darm_DarmSFHand-v0_179bb_00000_0_2023-02-11_19-15-41/checkpoint_000139)... Done. 0.0s\n",
      "\u001b[34m\u001b[1mwandb\u001b[0m: Adding directory to artifact (/home/daniel/DARM/darm_mujoco/darm_training/results/8env_cmp_ep_Test_DARMSF_DELTA_TARGET/SAC_darm_DarmSFHand-v0_179bb_00000_0_2023-02-11_19-15-41/checkpoint_000140)... Done. 0.1s\n",
      "\u001b[2m\u001b[33m(raylet)\u001b[0m [2023-02-11 19:23:19,510 E 3731 3781] (raylet) file_system_monitor.cc:105: /tmp/ray/session_2023-02-11_19-15-37_042436_3307 is over 95% full, available space: 256761856; capacity: 31845081088. Object creation will fail if spilling is required.\n",
      "\u001b[34m\u001b[1mwandb\u001b[0m: Adding directory to artifact (/home/daniel/DARM/darm_mujoco/darm_training/results/8env_cmp_ep_Test_DARMSF_DELTA_TARGET/SAC_darm_DarmSFHand-v0_179bb_00000_0_2023-02-11_19-15-41/checkpoint_000141)... Done. 0.0s\n",
      "\u001b[34m\u001b[1mwandb\u001b[0m: Adding directory to artifact (/home/daniel/DARM/darm_mujoco/darm_training/results/8env_cmp_ep_Test_DARMSF_DELTA_TARGET/SAC_darm_DarmSFHand-v0_179bb_00000_0_2023-02-11_19-15-41/checkpoint_000142)... Done. 0.0s\n",
      "\u001b[34m\u001b[1mwandb\u001b[0m: Adding directory to artifact (/home/daniel/DARM/darm_mujoco/darm_training/results/8env_cmp_ep_Test_DARMSF_DELTA_TARGET/SAC_darm_DarmSFHand-v0_179bb_00000_0_2023-02-11_19-15-41/checkpoint_000143)... Done. 0.1s\n",
      "\u001b[2m\u001b[33m(raylet)\u001b[0m [2023-02-11 19:23:29,516 E 3731 3781] (raylet) file_system_monitor.cc:105: /tmp/ray/session_2023-02-11_19-15-37_042436_3307 is over 95% full, available space: 248946688; capacity: 31845081088. Object creation will fail if spilling is required.\n",
      "\u001b[34m\u001b[1mwandb\u001b[0m: Adding directory to artifact (/home/daniel/DARM/darm_mujoco/darm_training/results/8env_cmp_ep_Test_DARMSF_DELTA_TARGET/SAC_darm_DarmSFHand-v0_179bb_00000_0_2023-02-11_19-15-41/checkpoint_000144)... Done. 0.1s\n",
      "\u001b[34m\u001b[1mwandb\u001b[0m: Adding directory to artifact (/home/daniel/DARM/darm_mujoco/darm_training/results/8env_cmp_ep_Test_DARMSF_DELTA_TARGET/SAC_darm_DarmSFHand-v0_179bb_00000_0_2023-02-11_19-15-41/checkpoint_000145)... Done. 0.1s\n",
      "\u001b[34m\u001b[1mwandb\u001b[0m: Adding directory to artifact (/home/daniel/DARM/darm_mujoco/darm_training/results/8env_cmp_ep_Test_DARMSF_DELTA_TARGET/SAC_darm_DarmSFHand-v0_179bb_00000_0_2023-02-11_19-15-41/checkpoint_000146)... Done. 0.1s\n",
      "\u001b[2m\u001b[33m(raylet)\u001b[0m [2023-02-11 19:23:39,521 E 3731 3781] (raylet) file_system_monitor.cc:105: /tmp/ray/session_2023-02-11_19-15-37_042436_3307 is over 95% full, available space: 240893952; capacity: 31845081088. Object creation will fail if spilling is required.\n",
      "\u001b[34m\u001b[1mwandb\u001b[0m: Adding directory to artifact (/home/daniel/DARM/darm_mujoco/darm_training/results/8env_cmp_ep_Test_DARMSF_DELTA_TARGET/SAC_darm_DarmSFHand-v0_179bb_00000_0_2023-02-11_19-15-41/checkpoint_000147)... Done. 0.1s\n",
      "\u001b[34m\u001b[1mwandb\u001b[0m: Adding directory to artifact (/home/daniel/DARM/darm_mujoco/darm_training/results/8env_cmp_ep_Test_DARMSF_DELTA_TARGET/SAC_darm_DarmSFHand-v0_179bb_00000_0_2023-02-11_19-15-41/checkpoint_000148)... Done. 0.1s\n",
      "\u001b[34m\u001b[1mwandb\u001b[0m: Adding directory to artifact (/home/daniel/DARM/darm_mujoco/darm_training/results/8env_cmp_ep_Test_DARMSF_DELTA_TARGET/SAC_darm_DarmSFHand-v0_179bb_00000_0_2023-02-11_19-15-41/checkpoint_000149)... Done. 0.0s\n",
      "\u001b[2m\u001b[33m(raylet)\u001b[0m [2023-02-11 19:23:49,527 E 3731 3781] (raylet) file_system_monitor.cc:105: /tmp/ray/session_2023-02-11_19-15-37_042436_3307 is over 95% full, available space: 232787968; capacity: 31845081088. Object creation will fail if spilling is required.\n",
      "\u001b[34m\u001b[1mwandb\u001b[0m: Adding directory to artifact (/home/daniel/DARM/darm_mujoco/darm_training/results/8env_cmp_ep_Test_DARMSF_DELTA_TARGET/SAC_darm_DarmSFHand-v0_179bb_00000_0_2023-02-11_19-15-41/checkpoint_000150)... Done. 0.0s\n",
      "\u001b[34m\u001b[1mwandb\u001b[0m: Adding directory to artifact (/home/daniel/DARM/darm_mujoco/darm_training/results/8env_cmp_ep_Test_DARMSF_DELTA_TARGET/SAC_darm_DarmSFHand-v0_179bb_00000_0_2023-02-11_19-15-41/checkpoint_000151)... Done. 0.0s\n",
      "\u001b[34m\u001b[1mwandb\u001b[0m: Adding directory to artifact (/home/daniel/DARM/darm_mujoco/darm_training/results/8env_cmp_ep_Test_DARMSF_DELTA_TARGET/SAC_darm_DarmSFHand-v0_179bb_00000_0_2023-02-11_19-15-41/checkpoint_000152)... Done. 0.1s\n",
      "\u001b[2m\u001b[33m(raylet)\u001b[0m [2023-02-11 19:23:59,533 E 3731 3781] (raylet) file_system_monitor.cc:105: /tmp/ray/session_2023-02-11_19-15-37_042436_3307 is over 95% full, available space: 245870592; capacity: 31845081088. Object creation will fail if spilling is required.\n",
      "\u001b[34m\u001b[1mwandb\u001b[0m: Adding directory to artifact (/home/daniel/DARM/darm_mujoco/darm_training/results/8env_cmp_ep_Test_DARMSF_DELTA_TARGET/SAC_darm_DarmSFHand-v0_179bb_00000_0_2023-02-11_19-15-41/checkpoint_000153)... Done. 0.1s\n",
      "\u001b[34m\u001b[1mwandb\u001b[0m: Adding directory to artifact (/home/daniel/DARM/darm_mujoco/darm_training/results/8env_cmp_ep_Test_DARMSF_DELTA_TARGET/SAC_darm_DarmSFHand-v0_179bb_00000_0_2023-02-11_19-15-41/checkpoint_000154)... Done. 0.1s\n",
      "\u001b[34m\u001b[1mwandb\u001b[0m: Adding directory to artifact (/home/daniel/DARM/darm_mujoco/darm_training/results/8env_cmp_ep_Test_DARMSF_DELTA_TARGET/SAC_darm_DarmSFHand-v0_179bb_00000_0_2023-02-11_19-15-41/checkpoint_000155)... Done. 0.1s\n",
      "\u001b[2m\u001b[33m(raylet)\u001b[0m [2023-02-11 19:24:09,539 E 3731 3781] (raylet) file_system_monitor.cc:105: /tmp/ray/session_2023-02-11_19-15-37_042436_3307 is over 95% full, available space: 237867008; capacity: 31845081088. Object creation will fail if spilling is required.\n",
      "\u001b[34m\u001b[1mwandb\u001b[0m: Adding directory to artifact (/home/daniel/DARM/darm_mujoco/darm_training/results/8env_cmp_ep_Test_DARMSF_DELTA_TARGET/SAC_darm_DarmSFHand-v0_179bb_00000_0_2023-02-11_19-15-41/checkpoint_000156)... Done. 0.1s\n",
      "\u001b[34m\u001b[1mwandb\u001b[0m: Adding directory to artifact (/home/daniel/DARM/darm_mujoco/darm_training/results/8env_cmp_ep_Test_DARMSF_DELTA_TARGET/SAC_darm_DarmSFHand-v0_179bb_00000_0_2023-02-11_19-15-41/checkpoint_000157)... Done. 0.1s\n",
      "\u001b[34m\u001b[1mwandb\u001b[0m: Adding directory to artifact (/home/daniel/DARM/darm_mujoco/darm_training/results/8env_cmp_ep_Test_DARMSF_DELTA_TARGET/SAC_darm_DarmSFHand-v0_179bb_00000_0_2023-02-11_19-15-41/checkpoint_000158)... Done. 0.1s\n",
      "\u001b[2m\u001b[33m(raylet)\u001b[0m [2023-02-11 19:24:19,546 E 3731 3781] (raylet) file_system_monitor.cc:105: /tmp/ray/session_2023-02-11_19-15-37_042436_3307 is over 95% full, available space: 229859328; capacity: 31845081088. Object creation will fail if spilling is required.\n",
      "\u001b[34m\u001b[1mwandb\u001b[0m: Adding directory to artifact (/home/daniel/DARM/darm_mujoco/darm_training/results/8env_cmp_ep_Test_DARMSF_DELTA_TARGET/SAC_darm_DarmSFHand-v0_179bb_00000_0_2023-02-11_19-15-41/checkpoint_000159)... Done. 0.1s\n",
      "\u001b[34m\u001b[1mwandb\u001b[0m: Adding directory to artifact (/home/daniel/DARM/darm_mujoco/darm_training/results/8env_cmp_ep_Test_DARMSF_DELTA_TARGET/SAC_darm_DarmSFHand-v0_179bb_00000_0_2023-02-11_19-15-41/checkpoint_000160)... Done. 0.0s\n",
      "\u001b[34m\u001b[1mwandb\u001b[0m: Adding directory to artifact (/home/daniel/DARM/darm_mujoco/darm_training/results/8env_cmp_ep_Test_DARMSF_DELTA_TARGET/SAC_darm_DarmSFHand-v0_179bb_00000_0_2023-02-11_19-15-41/checkpoint_000161)... Done. 0.0s\n",
      "\u001b[2m\u001b[33m(raylet)\u001b[0m [2023-02-11 19:24:29,557 E 3731 3781] (raylet) file_system_monitor.cc:105: /tmp/ray/session_2023-02-11_19-15-37_042436_3307 is over 95% full, available space: 222130176; capacity: 31845081088. Object creation will fail if spilling is required.\n",
      "\u001b[34m\u001b[1mwandb\u001b[0m: Adding directory to artifact (/home/daniel/DARM/darm_mujoco/darm_training/results/8env_cmp_ep_Test_DARMSF_DELTA_TARGET/SAC_darm_DarmSFHand-v0_179bb_00000_0_2023-02-11_19-15-41/checkpoint_000162)... Done. 0.1s\n",
      "\u001b[34m\u001b[1mwandb\u001b[0m: Adding directory to artifact (/home/daniel/DARM/darm_mujoco/darm_training/results/8env_cmp_ep_Test_DARMSF_DELTA_TARGET/SAC_darm_DarmSFHand-v0_179bb_00000_0_2023-02-11_19-15-41/checkpoint_000163)... Done. 0.0s\n",
      "\u001b[2m\u001b[33m(raylet)\u001b[0m [2023-02-11 19:24:39,563 E 3731 3781] (raylet) file_system_monitor.cc:105: /tmp/ray/session_2023-02-11_19-15-37_042436_3307 is over 95% full, available space: 217022464; capacity: 31845081088. Object creation will fail if spilling is required.\n",
      "\u001b[34m\u001b[1mwandb\u001b[0m: Adding directory to artifact (/home/daniel/DARM/darm_mujoco/darm_training/results/8env_cmp_ep_Test_DARMSF_DELTA_TARGET/SAC_darm_DarmSFHand-v0_179bb_00000_0_2023-02-11_19-15-41/checkpoint_000164)... Done. 0.1s\n",
      "\u001b[34m\u001b[1mwandb\u001b[0m: Adding directory to artifact (/home/daniel/DARM/darm_mujoco/darm_training/results/8env_cmp_ep_Test_DARMSF_DELTA_TARGET/SAC_darm_DarmSFHand-v0_179bb_00000_0_2023-02-11_19-15-41/checkpoint_000165)... Done. 0.1s\n",
      "\u001b[34m\u001b[1mwandb\u001b[0m: Adding directory to artifact (/home/daniel/DARM/darm_mujoco/darm_training/results/8env_cmp_ep_Test_DARMSF_DELTA_TARGET/SAC_darm_DarmSFHand-v0_179bb_00000_0_2023-02-11_19-15-41/checkpoint_000166)... Done. 0.1s\n",
      "\u001b[2m\u001b[33m(raylet)\u001b[0m [2023-02-11 19:24:49,580 E 3731 3781] (raylet) file_system_monitor.cc:105: /tmp/ray/session_2023-02-11_19-15-37_042436_3307 is over 95% full, available space: 208105472; capacity: 31845081088. Object creation will fail if spilling is required.\n",
      "\u001b[34m\u001b[1mwandb\u001b[0m: Adding directory to artifact (/home/daniel/DARM/darm_mujoco/darm_training/results/8env_cmp_ep_Test_DARMSF_DELTA_TARGET/SAC_darm_DarmSFHand-v0_179bb_00000_0_2023-02-11_19-15-41/checkpoint_000167)... Done. 0.1s\n",
      "\u001b[34m\u001b[1mwandb\u001b[0m: Adding directory to artifact (/home/daniel/DARM/darm_mujoco/darm_training/results/8env_cmp_ep_Test_DARMSF_DELTA_TARGET/SAC_darm_DarmSFHand-v0_179bb_00000_0_2023-02-11_19-15-41/checkpoint_000168)... Done. 0.1s\n",
      "\u001b[34m\u001b[1mwandb\u001b[0m: Adding directory to artifact (/home/daniel/DARM/darm_mujoco/darm_training/results/8env_cmp_ep_Test_DARMSF_DELTA_TARGET/SAC_darm_DarmSFHand-v0_179bb_00000_0_2023-02-11_19-15-41/checkpoint_000169)... Done. 0.1s\n",
      "\u001b[2m\u001b[33m(raylet)\u001b[0m [2023-02-11 19:24:59,588 E 3731 3781] (raylet) file_system_monitor.cc:105: /tmp/ray/session_2023-02-11_19-15-37_042436_3307 is over 95% full, available space: 207335424; capacity: 31845081088. Object creation will fail if spilling is required.\n",
      "\u001b[34m\u001b[1mwandb\u001b[0m: Adding directory to artifact (/home/daniel/DARM/darm_mujoco/darm_training/results/8env_cmp_ep_Test_DARMSF_DELTA_TARGET/SAC_darm_DarmSFHand-v0_179bb_00000_0_2023-02-11_19-15-41/checkpoint_000170)... Done. 0.1s\n",
      "\u001b[34m\u001b[1mwandb\u001b[0m: Adding directory to artifact (/home/daniel/DARM/darm_mujoco/darm_training/results/8env_cmp_ep_Test_DARMSF_DELTA_TARGET/SAC_darm_DarmSFHand-v0_179bb_00000_0_2023-02-11_19-15-41/checkpoint_000171)... Done. 0.1s\n",
      "\u001b[34m\u001b[1mwandb\u001b[0m: Adding directory to artifact (/home/daniel/DARM/darm_mujoco/darm_training/results/8env_cmp_ep_Test_DARMSF_DELTA_TARGET/SAC_darm_DarmSFHand-v0_179bb_00000_0_2023-02-11_19-15-41/checkpoint_000172)... Done. 0.1s\n",
      "\u001b[2m\u001b[33m(raylet)\u001b[0m [2023-02-11 19:25:09,627 E 3731 3781] (raylet) file_system_monitor.cc:105: /tmp/ray/session_2023-02-11_19-15-37_042436_3307 is over 95% full, available space: 201465856; capacity: 31845081088. Object creation will fail if spilling is required.\n",
      "\u001b[34m\u001b[1mwandb\u001b[0m: Adding directory to artifact (/home/daniel/DARM/darm_mujoco/darm_training/results/8env_cmp_ep_Test_DARMSF_DELTA_TARGET/SAC_darm_DarmSFHand-v0_179bb_00000_0_2023-02-11_19-15-41/checkpoint_000173)... Done. 0.1s\n",
      "\u001b[34m\u001b[1mwandb\u001b[0m: Adding directory to artifact (/home/daniel/DARM/darm_mujoco/darm_training/results/8env_cmp_ep_Test_DARMSF_DELTA_TARGET/SAC_darm_DarmSFHand-v0_179bb_00000_0_2023-02-11_19-15-41/checkpoint_000174)... Done. 0.1s\n",
      "\u001b[34m\u001b[1mwandb\u001b[0m: Adding directory to artifact (/home/daniel/DARM/darm_mujoco/darm_training/results/8env_cmp_ep_Test_DARMSF_DELTA_TARGET/SAC_darm_DarmSFHand-v0_179bb_00000_0_2023-02-11_19-15-41/checkpoint_000175)... Done. 0.1s\n",
      "\u001b[2m\u001b[33m(raylet)\u001b[0m [2023-02-11 19:25:19,636 E 3731 3781] (raylet) file_system_monitor.cc:105: /tmp/ray/session_2023-02-11_19-15-37_042436_3307 is over 95% full, available space: 193441792; capacity: 31845081088. Object creation will fail if spilling is required.\n",
      "\u001b[34m\u001b[1mwandb\u001b[0m: Adding directory to artifact (/home/daniel/DARM/darm_mujoco/darm_training/results/8env_cmp_ep_Test_DARMSF_DELTA_TARGET/SAC_darm_DarmSFHand-v0_179bb_00000_0_2023-02-11_19-15-41/checkpoint_000176)... Done. 0.0s\n",
      "\u001b[34m\u001b[1mwandb\u001b[0m: Adding directory to artifact (/home/daniel/DARM/darm_mujoco/darm_training/results/8env_cmp_ep_Test_DARMSF_DELTA_TARGET/SAC_darm_DarmSFHand-v0_179bb_00000_0_2023-02-11_19-15-41/checkpoint_000177)... Done. 0.1s\n",
      "\u001b[34m\u001b[1mwandb\u001b[0m: Adding directory to artifact (/home/daniel/DARM/darm_mujoco/darm_training/results/8env_cmp_ep_Test_DARMSF_DELTA_TARGET/SAC_darm_DarmSFHand-v0_179bb_00000_0_2023-02-11_19-15-41/checkpoint_000178)... Done. 0.1s\n",
      "\u001b[2m\u001b[33m(raylet)\u001b[0m [2023-02-11 19:25:29,642 E 3731 3781] (raylet) file_system_monitor.cc:105: /tmp/ray/session_2023-02-11_19-15-37_042436_3307 is over 95% full, available space: 185475072; capacity: 31845081088. Object creation will fail if spilling is required.\n",
      "\u001b[34m\u001b[1mwandb\u001b[0m: Adding directory to artifact (/home/daniel/DARM/darm_mujoco/darm_training/results/8env_cmp_ep_Test_DARMSF_DELTA_TARGET/SAC_darm_DarmSFHand-v0_179bb_00000_0_2023-02-11_19-15-41/checkpoint_000179)... Done. 0.1s\n",
      "\u001b[34m\u001b[1mwandb\u001b[0m: Adding directory to artifact (/home/daniel/DARM/darm_mujoco/darm_training/results/8env_cmp_ep_Test_DARMSF_DELTA_TARGET/SAC_darm_DarmSFHand-v0_179bb_00000_0_2023-02-11_19-15-41/checkpoint_000180)... Done. 0.1s\n",
      "\u001b[34m\u001b[1mwandb\u001b[0m: Adding directory to artifact (/home/daniel/DARM/darm_mujoco/darm_training/results/8env_cmp_ep_Test_DARMSF_DELTA_TARGET/SAC_darm_DarmSFHand-v0_179bb_00000_0_2023-02-11_19-15-41/checkpoint_000181)... Done. 0.0s\n",
      "\u001b[2m\u001b[33m(raylet)\u001b[0m [2023-02-11 19:25:39,648 E 3731 3781] (raylet) file_system_monitor.cc:105: /tmp/ray/session_2023-02-11_19-15-37_042436_3307 is over 95% full, available space: 179597312; capacity: 31845081088. Object creation will fail if spilling is required.\n",
      "\u001b[34m\u001b[1mwandb\u001b[0m: Adding directory to artifact (/home/daniel/DARM/darm_mujoco/darm_training/results/8env_cmp_ep_Test_DARMSF_DELTA_TARGET/SAC_darm_DarmSFHand-v0_179bb_00000_0_2023-02-11_19-15-41/checkpoint_000182)... Done. 0.1s\n",
      "\u001b[34m\u001b[1mwandb\u001b[0m: Adding directory to artifact (/home/daniel/DARM/darm_mujoco/darm_training/results/8env_cmp_ep_Test_DARMSF_DELTA_TARGET/SAC_darm_DarmSFHand-v0_179bb_00000_0_2023-02-11_19-15-41/checkpoint_000183)... Done. 0.1s\n",
      "\u001b[34m\u001b[1mwandb\u001b[0m: Adding directory to artifact (/home/daniel/DARM/darm_mujoco/darm_training/results/8env_cmp_ep_Test_DARMSF_DELTA_TARGET/SAC_darm_DarmSFHand-v0_179bb_00000_0_2023-02-11_19-15-41/checkpoint_000184)... Done. 0.1s\n",
      "\u001b[2m\u001b[33m(raylet)\u001b[0m [2023-02-11 19:25:49,659 E 3731 3781] (raylet) file_system_monitor.cc:105: /tmp/ray/session_2023-02-11_19-15-37_042436_3307 is over 95% full, available space: 171360256; capacity: 31845081088. Object creation will fail if spilling is required.\n",
      "\u001b[34m\u001b[1mwandb\u001b[0m: Adding directory to artifact (/home/daniel/DARM/darm_mujoco/darm_training/results/8env_cmp_ep_Test_DARMSF_DELTA_TARGET/SAC_darm_DarmSFHand-v0_179bb_00000_0_2023-02-11_19-15-41/checkpoint_000185)... Done. 0.1s\n",
      "\u001b[2m\u001b[36m(SAC pid=4006)\u001b[0m 2023-02-11 19:25:56,168\tERROR actor_manager.py:486 -- Ray error, taking actor 3 out of service. The actor died unexpectedly before finishing this task.\n",
      "\u001b[2m\u001b[33m(raylet)\u001b[0m [2023-02-11 19:25:59,705 E 3731 3781] (raylet) file_system_monitor.cc:105: /tmp/ray/session_2023-02-11_19-15-37_042436_3307 is over 95% full, available space: 183934976; capacity: 31845081088. Object creation will fail if spilling is required.\n",
      "\u001b[34m\u001b[1mwandb\u001b[0m: Adding directory to artifact (/home/daniel/DARM/darm_mujoco/darm_training/results/8env_cmp_ep_Test_DARMSF_DELTA_TARGET/SAC_darm_DarmSFHand-v0_179bb_00000_0_2023-02-11_19-15-41/checkpoint_000186)... Done. 0.1s\n",
      "\u001b[2m\u001b[36m(RolloutWorker pid=8263)\u001b[0m /home/daniel/miniconda3/lib/python3.8/site-packages/gym/spaces/box.py:73: UserWarning: \u001b[33mWARN: Box bound precision lowered by casting to float32\u001b[0m\n",
      "\u001b[2m\u001b[36m(RolloutWorker pid=8263)\u001b[0m   logger.warn(\n"
     ]
    },
    {
     "name": "stdout",
     "output_type": "stream",
     "text": [
      "\u001b[2m\u001b[36m(RolloutWorker pid=8263)\u001b[0m Loaded XML file successfully\n"
     ]
    },
    {
     "name": "stderr",
     "output_type": "stream",
     "text": [
      "\u001b[34m\u001b[1mwandb\u001b[0m: Adding directory to artifact (/home/daniel/DARM/darm_mujoco/darm_training/results/8env_cmp_ep_Test_DARMSF_DELTA_TARGET/SAC_darm_DarmSFHand-v0_179bb_00000_0_2023-02-11_19-15-41/checkpoint_000187)... Done. 0.0s\n",
      "\u001b[2m\u001b[33m(raylet)\u001b[0m [2023-02-11 19:26:09,738 E 3731 3781] (raylet) file_system_monitor.cc:105: /tmp/ray/session_2023-02-11_19-15-37_042436_3307 is over 95% full, available space: 177045504; capacity: 31845081088. Object creation will fail if spilling is required.\n",
      "\u001b[34m\u001b[1mwandb\u001b[0m: Adding directory to artifact (/home/daniel/DARM/darm_mujoco/darm_training/results/8env_cmp_ep_Test_DARMSF_DELTA_TARGET/SAC_darm_DarmSFHand-v0_179bb_00000_0_2023-02-11_19-15-41/checkpoint_000188)... Done. 0.1s\n"
     ]
    },
    {
     "name": "stdout",
     "output_type": "stream",
     "text": [
      "\u001b[2m\u001b[36m(RolloutWorker pid=8382)\u001b[0m Loaded XML file successfully\n"
     ]
    },
    {
     "name": "stderr",
     "output_type": "stream",
     "text": [
      "\u001b[2m\u001b[36m(RolloutWorker pid=8382)\u001b[0m /home/daniel/miniconda3/lib/python3.8/site-packages/gym/spaces/box.py:73: UserWarning: \u001b[33mWARN: Box bound precision lowered by casting to float32\u001b[0m\n",
      "\u001b[2m\u001b[36m(RolloutWorker pid=8382)\u001b[0m   logger.warn(\n",
      "\u001b[2m\u001b[33m(raylet)\u001b[0m [2023-02-11 19:26:19,753 E 3731 3781] (raylet) file_system_monitor.cc:105: /tmp/ray/session_2023-02-11_19-15-37_042436_3307 is over 95% full, available space: 171737088; capacity: 31845081088. Object creation will fail if spilling is required.\n"
     ]
    },
    {
     "name": "stdout",
     "output_type": "stream",
     "text": [
      "\u001b[2m\u001b[36m(RolloutWorker pid=8382)\u001b[0m Loaded XML file successfully\n",
      "\u001b[2m\u001b[36m(RolloutWorker pid=8382)\u001b[0m Loaded XML file successfully\n"
     ]
    },
    {
     "name": "stderr",
     "output_type": "stream",
     "text": [
      "\u001b[34m\u001b[1mwandb\u001b[0m: Adding directory to artifact (/home/daniel/DARM/darm_mujoco/darm_training/results/8env_cmp_ep_Test_DARMSF_DELTA_TARGET/SAC_darm_DarmSFHand-v0_179bb_00000_0_2023-02-11_19-15-41/checkpoint_000189)... Done. 0.1s\n"
     ]
    },
    {
     "name": "stdout",
     "output_type": "stream",
     "text": [
      "\u001b[2m\u001b[36m(RolloutWorker pid=8382)\u001b[0m Loaded XML file successfully\n",
      "\u001b[2m\u001b[36m(RolloutWorker pid=8382)\u001b[0m Loaded XML file successfully\n",
      "\u001b[2m\u001b[36m(RolloutWorker pid=8382)\u001b[0m Loaded XML file successfully\n",
      "\u001b[2m\u001b[36m(RolloutWorker pid=8382)\u001b[0m Loaded XML file successfully\n"
     ]
    },
    {
     "name": "stderr",
     "output_type": "stream",
     "text": [
      "\u001b[34m\u001b[1mwandb\u001b[0m: Adding directory to artifact (/home/daniel/DARM/darm_mujoco/darm_training/results/8env_cmp_ep_Test_DARMSF_DELTA_TARGET/SAC_darm_DarmSFHand-v0_179bb_00000_0_2023-02-11_19-15-41/checkpoint_000190)... Done. 0.1s\n",
      "\u001b[2m\u001b[33m(raylet)\u001b[0m [2023-02-11 19:26:29,768 E 3731 3781] (raylet) file_system_monitor.cc:105: /tmp/ray/session_2023-02-11_19-15-37_042436_3307 is over 95% full, available space: 168878080; capacity: 31845081088. Object creation will fail if spilling is required.\n",
      "\u001b[34m\u001b[1mwandb\u001b[0m: Adding directory to artifact (/home/daniel/DARM/darm_mujoco/darm_training/results/8env_cmp_ep_Test_DARMSF_DELTA_TARGET/SAC_darm_DarmSFHand-v0_179bb_00000_0_2023-02-11_19-15-41/checkpoint_000191)... Done. 0.1s\n",
      "\u001b[2m\u001b[36m(RolloutWorker pid=8612)\u001b[0m /home/daniel/miniconda3/lib/python3.8/site-packages/gym/spaces/box.py:73: UserWarning: \u001b[33mWARN: Box bound precision lowered by casting to float32\u001b[0m\n",
      "\u001b[2m\u001b[36m(RolloutWorker pid=8612)\u001b[0m   logger.warn(\n"
     ]
    },
    {
     "name": "stdout",
     "output_type": "stream",
     "text": [
      "\u001b[2m\u001b[36m(RolloutWorker pid=8612)\u001b[0m Loaded XML file successfully\n",
      "\u001b[2m\u001b[36m(RolloutWorker pid=8612)\u001b[0m Loaded XML file successfully\n",
      "\u001b[2m\u001b[36m(RolloutWorker pid=8612)\u001b[0m Loaded XML file successfully\n"
     ]
    },
    {
     "name": "stderr",
     "output_type": "stream",
     "text": [
      "\u001b[34m\u001b[1mwandb\u001b[0m: Adding directory to artifact (/home/daniel/DARM/darm_mujoco/darm_training/results/8env_cmp_ep_Test_DARMSF_DELTA_TARGET/SAC_darm_DarmSFHand-v0_179bb_00000_0_2023-02-11_19-15-41/checkpoint_000192)... Done. 0.1s\n",
      "\u001b[2m\u001b[33m(raylet)\u001b[0m [2023-02-11 19:26:39,220 E 3731 3731] (raylet) node_manager.cc:3097: 3 Workers (tasks / actors) killed due to memory pressure (OOM), 0 Workers crashed due to other reasons at node (ID: 44ed66b9bb128d373344301a0c660a681bdf58a1f76477245ddf41f6, IP: 192.168.152.36) over the last time period. To see more information about the Workers killed on this node, use `ray logs raylet.out -ip 192.168.152.36`\n",
      "\u001b[2m\u001b[33m(raylet)\u001b[0m \n",
      "\u001b[2m\u001b[33m(raylet)\u001b[0m Refer to the documentation on how to address the out of memory issue: https://docs.ray.io/en/latest/ray-core/scheduling/ray-oom-prevention.html. Consider provisioning more memory on this node or reducing task parallelism by requesting more CPUs per task. To adjust the kill threshold, set the environment variable `RAY_memory_usage_threshold` when starting Ray. To disable worker killing, set the environment variable `RAY_memory_monitor_refresh_ms` to zero.\n"
     ]
    },
    {
     "name": "stdout",
     "output_type": "stream",
     "text": [
      "\u001b[2m\u001b[36m(RolloutWorker pid=8612)\u001b[0m Loaded XML file successfully\n"
     ]
    },
    {
     "name": "stderr",
     "output_type": "stream",
     "text": [
      "\u001b[2m\u001b[33m(raylet)\u001b[0m [2023-02-11 19:26:39,775 E 3731 3781] (raylet) file_system_monitor.cc:105: /tmp/ray/session_2023-02-11_19-15-37_042436_3307 is over 95% full, available space: 164073472; capacity: 31845081088. Object creation will fail if spilling is required.\n"
     ]
    },
    {
     "name": "stdout",
     "output_type": "stream",
     "text": [
      "\u001b[2m\u001b[36m(RolloutWorker pid=8612)\u001b[0m Loaded XML file successfully\n",
      "\u001b[2m\u001b[36m(RolloutWorker pid=8612)\u001b[0m Loaded XML file successfully\n",
      "\u001b[2m\u001b[36m(RolloutWorker pid=8612)\u001b[0m Loaded XML file successfully\n"
     ]
    },
    {
     "name": "stderr",
     "output_type": "stream",
     "text": [
      "\u001b[34m\u001b[1mwandb\u001b[0m: Adding directory to artifact (/home/daniel/DARM/darm_mujoco/darm_training/results/8env_cmp_ep_Test_DARMSF_DELTA_TARGET/SAC_darm_DarmSFHand-v0_179bb_00000_0_2023-02-11_19-15-41/checkpoint_000193)... Done. 0.1s\n"
     ]
    },
    {
     "name": "stdout",
     "output_type": "stream",
     "text": [
      "\u001b[2m\u001b[36m(RolloutWorker pid=8612)\u001b[0m Loaded XML file successfully\n"
     ]
    },
    {
     "name": "stderr",
     "output_type": "stream",
     "text": [
      "\u001b[2m\u001b[33m(raylet)\u001b[0m [2023-02-11 19:26:49,785 E 3731 3781] (raylet) file_system_monitor.cc:105: /tmp/ray/session_2023-02-11_19-15-37_042436_3307 is over 95% full, available space: 161320960; capacity: 31845081088. Object creation will fail if spilling is required.\n",
      "\u001b[34m\u001b[1mwandb\u001b[0m: Adding directory to artifact (/home/daniel/DARM/darm_mujoco/darm_training/results/8env_cmp_ep_Test_DARMSF_DELTA_TARGET/SAC_darm_DarmSFHand-v0_179bb_00000_0_2023-02-11_19-15-41/checkpoint_000194)... Done. 0.0s\n",
      "\u001b[2m\u001b[36m(RolloutWorker pid=8767)\u001b[0m /home/daniel/miniconda3/lib/python3.8/site-packages/gym/spaces/box.py:73: UserWarning: \u001b[33mWARN: Box bound precision lowered by casting to float32\u001b[0m\n",
      "\u001b[2m\u001b[36m(RolloutWorker pid=8767)\u001b[0m   logger.warn(\n"
     ]
    },
    {
     "name": "stdout",
     "output_type": "stream",
     "text": [
      "\u001b[2m\u001b[36m(RolloutWorker pid=8767)\u001b[0m Loaded XML file successfully\n",
      "\u001b[2m\u001b[36m(RolloutWorker pid=8767)\u001b[0m Loaded XML file successfully\n",
      "\u001b[2m\u001b[36m(RolloutWorker pid=8767)\u001b[0m Loaded XML file successfully\n",
      "\u001b[2m\u001b[36m(RolloutWorker pid=8767)\u001b[0m Loaded XML file successfully\n"
     ]
    },
    {
     "name": "stderr",
     "output_type": "stream",
     "text": [
      "\u001b[34m\u001b[1mwandb\u001b[0m: Adding directory to artifact (/home/daniel/DARM/darm_mujoco/darm_training/results/8env_cmp_ep_Test_DARMSF_DELTA_TARGET/SAC_darm_DarmSFHand-v0_179bb_00000_0_2023-02-11_19-15-41/checkpoint_000195)... Done. 0.1s\n",
      "\u001b[2m\u001b[33m(raylet)\u001b[0m [2023-02-11 19:26:59,797 E 3731 3781] (raylet) file_system_monitor.cc:105: /tmp/ray/session_2023-02-11_19-15-37_042436_3307 is over 95% full, available space: 161984512; capacity: 31845081088. Object creation will fail if spilling is required.\n"
     ]
    },
    {
     "name": "stdout",
     "output_type": "stream",
     "text": [
      "\u001b[2m\u001b[36m(RolloutWorker pid=8767)\u001b[0m Loaded XML file successfully\n",
      "\u001b[2m\u001b[36m(RolloutWorker pid=8767)\u001b[0m Loaded XML file successfully\n",
      "\u001b[2m\u001b[36m(RolloutWorker pid=8767)\u001b[0m Loaded XML file successfully\n",
      "\u001b[2m\u001b[36m(RolloutWorker pid=8767)\u001b[0m Loaded XML file successfully\n"
     ]
    },
    {
     "name": "stderr",
     "output_type": "stream",
     "text": [
      "\u001b[34m\u001b[1mwandb\u001b[0m: Adding directory to artifact (/home/daniel/DARM/darm_mujoco/darm_training/results/8env_cmp_ep_Test_DARMSF_DELTA_TARGET/SAC_darm_DarmSFHand-v0_179bb_00000_0_2023-02-11_19-15-41/checkpoint_000196)... Done. 0.0s\n",
      "\u001b[34m\u001b[1mwandb\u001b[0m: Adding directory to artifact (/home/daniel/DARM/darm_mujoco/darm_training/results/8env_cmp_ep_Test_DARMSF_DELTA_TARGET/SAC_darm_DarmSFHand-v0_179bb_00000_0_2023-02-11_19-15-41/checkpoint_000197)... Done. 0.1s\n",
      "\u001b[2m\u001b[33m(raylet)\u001b[0m [2023-02-11 19:27:09,804 E 3731 3781] (raylet) file_system_monitor.cc:105: /tmp/ray/session_2023-02-11_19-15-37_042436_3307 is over 95% full, available space: 154136576; capacity: 31845081088. Object creation will fail if spilling is required.\n",
      "\u001b[34m\u001b[1mwandb\u001b[0m: Adding directory to artifact (/home/daniel/DARM/darm_mujoco/darm_training/results/8env_cmp_ep_Test_DARMSF_DELTA_TARGET/SAC_darm_DarmSFHand-v0_179bb_00000_0_2023-02-11_19-15-41/checkpoint_000198)... Done. 0.1s\n",
      "\u001b[34m\u001b[1mwandb\u001b[0m: Adding directory to artifact (/home/daniel/DARM/darm_mujoco/darm_training/results/8env_cmp_ep_Test_DARMSF_DELTA_TARGET/SAC_darm_DarmSFHand-v0_179bb_00000_0_2023-02-11_19-15-41/checkpoint_000199)... Done. 0.0s\n",
      "\u001b[2m\u001b[33m(raylet)\u001b[0m [2023-02-11 19:27:19,810 E 3731 3781] (raylet) file_system_monitor.cc:105: /tmp/ray/session_2023-02-11_19-15-37_042436_3307 is over 95% full, available space: 148766720; capacity: 31845081088. Object creation will fail if spilling is required.\n",
      "\u001b[34m\u001b[1mwandb\u001b[0m: Adding directory to artifact (/home/daniel/DARM/darm_mujoco/darm_training/results/8env_cmp_ep_Test_DARMSF_DELTA_TARGET/SAC_darm_DarmSFHand-v0_179bb_00000_0_2023-02-11_19-15-41/checkpoint_000200)... Done. 0.1s\n",
      "\u001b[2m\u001b[36m(SAC pid=4006)\u001b[0m 2023-02-11 19:27:28,169\tERROR actor_manager.py:486 -- Ray error, taking actor 3 out of service. The actor died unexpectedly before finishing this task.\n",
      "\u001b[2m\u001b[33m(raylet)\u001b[0m [2023-02-11 19:27:29,821 E 3731 3781] (raylet) file_system_monitor.cc:105: /tmp/ray/session_2023-02-11_19-15-37_042436_3307 is over 95% full, available space: 148373504; capacity: 31845081088. Object creation will fail if spilling is required.\n"
     ]
    },
    {
     "name": "stdout",
     "output_type": "stream",
     "text": [
      "\u001b[2m\u001b[36m(RolloutWorker pid=8964)\u001b[0m Loaded XML file successfully\n"
     ]
    },
    {
     "name": "stderr",
     "output_type": "stream",
     "text": [
      "\u001b[2m\u001b[36m(RolloutWorker pid=8964)\u001b[0m /home/daniel/miniconda3/lib/python3.8/site-packages/gym/spaces/box.py:73: UserWarning: \u001b[33mWARN: Box bound precision lowered by casting to float32\u001b[0m\n",
      "\u001b[2m\u001b[36m(RolloutWorker pid=8964)\u001b[0m   logger.warn(\n"
     ]
    },
    {
     "name": "stdout",
     "output_type": "stream",
     "text": [
      "\u001b[2m\u001b[36m(RolloutWorker pid=8964)\u001b[0m Loaded XML file successfully\n"
     ]
    },
    {
     "name": "stderr",
     "output_type": "stream",
     "text": [
      "\u001b[34m\u001b[1mwandb\u001b[0m: Adding directory to artifact (/home/daniel/DARM/darm_mujoco/darm_training/results/8env_cmp_ep_Test_DARMSF_DELTA_TARGET/SAC_darm_DarmSFHand-v0_179bb_00000_0_2023-02-11_19-15-41/checkpoint_000201)... Done. 0.1s\n"
     ]
    },
    {
     "name": "stdout",
     "output_type": "stream",
     "text": [
      "\u001b[2m\u001b[36m(RolloutWorker pid=8964)\u001b[0m Loaded XML file successfully\n",
      "\u001b[2m\u001b[36m(RolloutWorker pid=8964)\u001b[0m Loaded XML file successfully\n",
      "\u001b[2m\u001b[36m(RolloutWorker pid=8964)\u001b[0m Loaded XML file successfully\n"
     ]
    },
    {
     "name": "stderr",
     "output_type": "stream",
     "text": [
      "\u001b[2m\u001b[33m(raylet)\u001b[0m [2023-02-11 19:27:39,222 E 3731 3731] (raylet) node_manager.cc:3097: 2 Workers (tasks / actors) killed due to memory pressure (OOM), 0 Workers crashed due to other reasons at node (ID: 44ed66b9bb128d373344301a0c660a681bdf58a1f76477245ddf41f6, IP: 192.168.152.36) over the last time period. To see more information about the Workers killed on this node, use `ray logs raylet.out -ip 192.168.152.36`\n",
      "\u001b[2m\u001b[33m(raylet)\u001b[0m \n",
      "\u001b[2m\u001b[33m(raylet)\u001b[0m Refer to the documentation on how to address the out of memory issue: https://docs.ray.io/en/latest/ray-core/scheduling/ray-oom-prevention.html. Consider provisioning more memory on this node or reducing task parallelism by requesting more CPUs per task. To adjust the kill threshold, set the environment variable `RAY_memory_usage_threshold` when starting Ray. To disable worker killing, set the environment variable `RAY_memory_monitor_refresh_ms` to zero.\n"
     ]
    },
    {
     "name": "stdout",
     "output_type": "stream",
     "text": [
      "\u001b[2m\u001b[36m(RolloutWorker pid=8964)\u001b[0m Loaded XML file successfully\n"
     ]
    },
    {
     "name": "stderr",
     "output_type": "stream",
     "text": [
      "\u001b[2m\u001b[33m(raylet)\u001b[0m [2023-02-11 19:27:39,831 E 3731 3781] (raylet) file_system_monitor.cc:105: /tmp/ray/session_2023-02-11_19-15-37_042436_3307 is over 95% full, available space: 145526784; capacity: 31845081088. Object creation will fail if spilling is required.\n"
     ]
    },
    {
     "name": "stdout",
     "output_type": "stream",
     "text": [
      "\u001b[2m\u001b[36m(RolloutWorker pid=8964)\u001b[0m Loaded XML file successfully\n"
     ]
    },
    {
     "name": "stderr",
     "output_type": "stream",
     "text": [
      "\u001b[34m\u001b[1mwandb\u001b[0m: Adding directory to artifact (/home/daniel/DARM/darm_mujoco/darm_training/results/8env_cmp_ep_Test_DARMSF_DELTA_TARGET/SAC_darm_DarmSFHand-v0_179bb_00000_0_2023-02-11_19-15-41/checkpoint_000202)... Done. 0.0s\n"
     ]
    },
    {
     "name": "stdout",
     "output_type": "stream",
     "text": [
      "\u001b[2m\u001b[36m(RolloutWorker pid=8964)\u001b[0m Loaded XML file successfully\n"
     ]
    },
    {
     "name": "stderr",
     "output_type": "stream",
     "text": [
      "\u001b[34m\u001b[1mwandb\u001b[0m: Adding directory to artifact (/home/daniel/DARM/darm_mujoco/darm_training/results/8env_cmp_ep_Test_DARMSF_DELTA_TARGET/SAC_darm_DarmSFHand-v0_179bb_00000_0_2023-02-11_19-15-41/checkpoint_000203)... Done. 0.0s\n",
      "\u001b[2m\u001b[33m(raylet)\u001b[0m [2023-02-11 19:27:49,858 E 3731 3781] (raylet) file_system_monitor.cc:105: /tmp/ray/session_2023-02-11_19-15-37_042436_3307 is over 95% full, available space: 140959744; capacity: 31845081088. Object creation will fail if spilling is required.\n"
     ]
    },
    {
     "name": "stdout",
     "output_type": "stream",
     "text": [
      "\u001b[2m\u001b[36m(RolloutWorker pid=9111)\u001b[0m Loaded XML file successfully\n"
     ]
    },
    {
     "name": "stderr",
     "output_type": "stream",
     "text": [
      "\u001b[2m\u001b[36m(RolloutWorker pid=9111)\u001b[0m /home/daniel/miniconda3/lib/python3.8/site-packages/gym/spaces/box.py:73: UserWarning: \u001b[33mWARN: Box bound precision lowered by casting to float32\u001b[0m\n",
      "\u001b[2m\u001b[36m(RolloutWorker pid=9111)\u001b[0m   logger.warn(\n",
      "\u001b[34m\u001b[1mwandb\u001b[0m: Adding directory to artifact (/home/daniel/DARM/darm_mujoco/darm_training/results/8env_cmp_ep_Test_DARMSF_DELTA_TARGET/SAC_darm_DarmSFHand-v0_179bb_00000_0_2023-02-11_19-15-41/checkpoint_000204)... Done. 0.1s\n"
     ]
    },
    {
     "name": "stdout",
     "output_type": "stream",
     "text": [
      "\u001b[2m\u001b[36m(RolloutWorker pid=9111)\u001b[0m Loaded XML file successfully\n",
      "\u001b[2m\u001b[36m(RolloutWorker pid=9111)\u001b[0m Loaded XML file successfully\n",
      "\u001b[2m\u001b[36m(RolloutWorker pid=9111)\u001b[0m Loaded XML file successfully\n"
     ]
    },
    {
     "name": "stderr",
     "output_type": "stream",
     "text": [
      "\u001b[2m\u001b[33m(raylet)\u001b[0m [2023-02-11 19:27:59,871 E 3731 3781] (raylet) file_system_monitor.cc:105: /tmp/ray/session_2023-02-11_19-15-37_042436_3307 is over 95% full, available space: 138244096; capacity: 31845081088. Object creation will fail if spilling is required.\n",
      "\u001b[34m\u001b[1mwandb\u001b[0m: Adding directory to artifact (/home/daniel/DARM/darm_mujoco/darm_training/results/8env_cmp_ep_Test_DARMSF_DELTA_TARGET/SAC_darm_DarmSFHand-v0_179bb_00000_0_2023-02-11_19-15-41/checkpoint_000205)... Done. 0.1s\n"
     ]
    },
    {
     "name": "stdout",
     "output_type": "stream",
     "text": [
      "\u001b[2m\u001b[36m(RolloutWorker pid=9221)\u001b[0m Loaded XML file successfully\n"
     ]
    },
    {
     "name": "stderr",
     "output_type": "stream",
     "text": [
      "\u001b[2m\u001b[36m(RolloutWorker pid=9221)\u001b[0m /home/daniel/miniconda3/lib/python3.8/site-packages/gym/spaces/box.py:73: UserWarning: \u001b[33mWARN: Box bound precision lowered by casting to float32\u001b[0m\n",
      "\u001b[2m\u001b[36m(RolloutWorker pid=9221)\u001b[0m   logger.warn(\n",
      "\u001b[34m\u001b[1mwandb\u001b[0m: Adding directory to artifact (/home/daniel/DARM/darm_mujoco/darm_training/results/8env_cmp_ep_Test_DARMSF_DELTA_TARGET/SAC_darm_DarmSFHand-v0_179bb_00000_0_2023-02-11_19-15-41/checkpoint_000206)... Done. 0.1s\n"
     ]
    },
    {
     "name": "stdout",
     "output_type": "stream",
     "text": [
      "\u001b[2m\u001b[36m(RolloutWorker pid=9221)\u001b[0m Loaded XML file successfully\n",
      "\u001b[2m\u001b[36m(RolloutWorker pid=9221)\u001b[0m Loaded XML file successfully\n",
      "\u001b[2m\u001b[36m(RolloutWorker pid=9221)\u001b[0m Loaded XML file successfully\n",
      "\u001b[2m\u001b[36m(RolloutWorker pid=9221)\u001b[0m Loaded XML file successfully\n"
     ]
    },
    {
     "name": "stderr",
     "output_type": "stream",
     "text": [
      "\u001b[2m\u001b[33m(raylet)\u001b[0m [2023-02-11 19:28:09,881 E 3731 3781] (raylet) file_system_monitor.cc:105: /tmp/ray/session_2023-02-11_19-15-37_042436_3307 is over 95% full, available space: 147398656; capacity: 31845081088. Object creation will fail if spilling is required.\n"
     ]
    },
    {
     "name": "stdout",
     "output_type": "stream",
     "text": [
      "\u001b[2m\u001b[36m(RolloutWorker pid=9221)\u001b[0m Loaded XML file successfully\n"
     ]
    },
    {
     "name": "stderr",
     "output_type": "stream",
     "text": [
      "\u001b[34m\u001b[1mwandb\u001b[0m: Adding directory to artifact (/home/daniel/DARM/darm_mujoco/darm_training/results/8env_cmp_ep_Test_DARMSF_DELTA_TARGET/SAC_darm_DarmSFHand-v0_179bb_00000_0_2023-02-11_19-15-41/checkpoint_000207)... Done. 0.1s\n"
     ]
    },
    {
     "name": "stdout",
     "output_type": "stream",
     "text": [
      "\u001b[2m\u001b[36m(RolloutWorker pid=9221)\u001b[0m Loaded XML file successfully\n",
      "\u001b[2m\u001b[36m(RolloutWorker pid=9221)\u001b[0m Loaded XML file successfully\n"
     ]
    },
    {
     "name": "stderr",
     "output_type": "stream",
     "text": [
      "\u001b[34m\u001b[1mwandb\u001b[0m: Adding directory to artifact (/home/daniel/DARM/darm_mujoco/darm_training/results/8env_cmp_ep_Test_DARMSF_DELTA_TARGET/SAC_darm_DarmSFHand-v0_179bb_00000_0_2023-02-11_19-15-41/checkpoint_000208)... Done. 0.1s\n",
      "\u001b[34m\u001b[1mwandb\u001b[0m: Adding directory to artifact (/home/daniel/DARM/darm_mujoco/darm_training/results/8env_cmp_ep_Test_DARMSF_DELTA_TARGET/SAC_darm_DarmSFHand-v0_179bb_00000_0_2023-02-11_19-15-41/checkpoint_000209)... Done. 0.1s\n",
      "\u001b[2m\u001b[33m(raylet)\u001b[0m [2023-02-11 19:28:19,887 E 3731 3781] (raylet) file_system_monitor.cc:105: /tmp/ray/session_2023-02-11_19-15-37_042436_3307 is over 95% full, available space: 139325440; capacity: 31845081088. Object creation will fail if spilling is required.\n",
      "\u001b[34m\u001b[1mwandb\u001b[0m: Adding directory to artifact (/home/daniel/DARM/darm_mujoco/darm_training/results/8env_cmp_ep_Test_DARMSF_DELTA_TARGET/SAC_darm_DarmSFHand-v0_179bb_00000_0_2023-02-11_19-15-41/checkpoint_000210)... Done. 0.1s\n",
      "\u001b[34m\u001b[1mwandb\u001b[0m: Adding directory to artifact (/home/daniel/DARM/darm_mujoco/darm_training/results/8env_cmp_ep_Test_DARMSF_DELTA_TARGET/SAC_darm_DarmSFHand-v0_179bb_00000_0_2023-02-11_19-15-41/checkpoint_000211)... Done. 0.0s\n",
      "\u001b[34m\u001b[1mwandb\u001b[0m: Adding directory to artifact (/home/daniel/DARM/darm_mujoco/darm_training/results/8env_cmp_ep_Test_DARMSF_DELTA_TARGET/SAC_darm_DarmSFHand-v0_179bb_00000_0_2023-02-11_19-15-41/checkpoint_000212)... Done. 0.1s\n",
      "\u001b[2m\u001b[33m(raylet)\u001b[0m [2023-02-11 19:28:29,893 E 3731 3781] (raylet) file_system_monitor.cc:105: /tmp/ray/session_2023-02-11_19-15-37_042436_3307 is over 95% full, available space: 131272704; capacity: 31845081088. Object creation will fail if spilling is required.\n",
      "\u001b[34m\u001b[1mwandb\u001b[0m: Adding directory to artifact (/home/daniel/DARM/darm_mujoco/darm_training/results/8env_cmp_ep_Test_DARMSF_DELTA_TARGET/SAC_darm_DarmSFHand-v0_179bb_00000_0_2023-02-11_19-15-41/checkpoint_000213)... Done. 0.1s\n",
      "\u001b[34m\u001b[1mwandb\u001b[0m: Adding directory to artifact (/home/daniel/DARM/darm_mujoco/darm_training/results/8env_cmp_ep_Test_DARMSF_DELTA_TARGET/SAC_darm_DarmSFHand-v0_179bb_00000_0_2023-02-11_19-15-41/checkpoint_000214)... Done. 0.1s\n",
      "\u001b[2m\u001b[33m(raylet)\u001b[0m [2023-02-11 19:28:39,225 E 3731 3731] (raylet) node_manager.cc:3097: 2 Workers (tasks / actors) killed due to memory pressure (OOM), 0 Workers crashed due to other reasons at node (ID: 44ed66b9bb128d373344301a0c660a681bdf58a1f76477245ddf41f6, IP: 192.168.152.36) over the last time period. To see more information about the Workers killed on this node, use `ray logs raylet.out -ip 192.168.152.36`\n",
      "\u001b[2m\u001b[33m(raylet)\u001b[0m \n",
      "\u001b[2m\u001b[33m(raylet)\u001b[0m Refer to the documentation on how to address the out of memory issue: https://docs.ray.io/en/latest/ray-core/scheduling/ray-oom-prevention.html. Consider provisioning more memory on this node or reducing task parallelism by requesting more CPUs per task. To adjust the kill threshold, set the environment variable `RAY_memory_usage_threshold` when starting Ray. To disable worker killing, set the environment variable `RAY_memory_monitor_refresh_ms` to zero.\n",
      "\u001b[2m\u001b[33m(raylet)\u001b[0m [2023-02-11 19:28:39,901 E 3731 3781] (raylet) file_system_monitor.cc:105: /tmp/ray/session_2023-02-11_19-15-37_042436_3307 is over 95% full, available space: 125857792; capacity: 31845081088. Object creation will fail if spilling is required.\n",
      "\u001b[34m\u001b[1mwandb\u001b[0m: Adding directory to artifact (/home/daniel/DARM/darm_mujoco/darm_training/results/8env_cmp_ep_Test_DARMSF_DELTA_TARGET/SAC_darm_DarmSFHand-v0_179bb_00000_0_2023-02-11_19-15-41/checkpoint_000215)... Done. 0.1s\n",
      "\u001b[34m\u001b[1mwandb\u001b[0m: Adding directory to artifact (/home/daniel/DARM/darm_mujoco/darm_training/results/8env_cmp_ep_Test_DARMSF_DELTA_TARGET/SAC_darm_DarmSFHand-v0_179bb_00000_0_2023-02-11_19-15-41/checkpoint_000216)... \u001b[2m\u001b[36m(SAC pid=4006)\u001b[0m 2023-02-11 19:28:46,186\tERROR actor_manager.py:486 -- Ray error, taking actor 3 out of service. The actor died unexpectedly before finishing this task.\n",
      "Done. 0.1s\n",
      "2023-02-11 19:28:48,466\tWARNING tune.py:690 -- Stop signal received (e.g. via SIGINT/Ctrl+C), ending Ray Tune run. This will try to checkpoint the experiment state one last time. Press CTRL+C (or send SIGINT/SIGKILL/SIGTERM) to skip. \n",
      "2023-02-11 19:28:49,435\tWARNING tune.py:690 -- Stop signal received (e.g. via SIGINT/Ctrl+C), ending Ray Tune run. This will try to checkpoint the experiment state one last time. Press CTRL+C (or send SIGINT/SIGKILL/SIGTERM) to skip. \n",
      "\u001b[2m\u001b[33m(raylet)\u001b[0m [2023-02-11 19:28:49,912 E 3731 3781] (raylet) file_system_monitor.cc:105: /tmp/ray/session_2023-02-11_19-15-37_042436_3307 is over 95% full, available space: 120545280; capacity: 31845081088. Object creation will fail if spilling is required.\n",
      "2023-02-11 19:28:51,542\tERROR tune.py:758 -- Trials did not complete: [SAC_darm_DarmSFHand-v0_179bb_00000]\n",
      "2023-02-11 19:28:51,543\tINFO tune.py:762 -- Total run time: 790.82 seconds (790.30 seconds for the tuning loop).\n",
      "2023-02-11 19:28:51,544\tWARNING tune.py:768 -- Experiment has been interrupted, but the most recent state was saved. You can continue running this experiment by passing `resume=True` to `tune.run()`\n",
      "\u001b[2m\u001b[33m(raylet)\u001b[0m [2023-02-11 19:28:59,925 E 3731 3781] (raylet) file_system_monitor.cc:105: /tmp/ray/session_2023-02-11_19-15-37_042436_3307 is over 95% full, available space: 117747712; capacity: 31845081088. Object creation will fail if spilling is required.\n",
      "\u001b[2m\u001b[33m(raylet)\u001b[0m [2023-02-11 19:29:09,940 E 3731 3781] (raylet) file_system_monitor.cc:105: /tmp/ray/session_2023-02-11_19-15-37_042436_3307 is over 95% full, available space: 117735424; capacity: 31845081088. Object creation will fail if spilling is required.\n"
     ]
    }
   ],
   "source": [
    "# TODO: \n",
    "# change: name\n",
    "# change: checkpoint_freq\n",
    "\n",
    "sync_config = tune.SyncConfig()\n",
    "\n",
    "tuner = tune.Tuner(\n",
    "    \"SAC\",\n",
    "    run_config=air.RunConfig(\n",
    "        name=\"8env_cmp_ep_Test_DARMSF_DELTA_TARGET\",\n",
    "        local_dir=f\"{os.getenv('DARM_MUJOCO_PATH')}/darm_training/results\",\n",
    "        sync_config=sync_config,\n",
    "        stop={\"training_iteration\": 10_000, \"episode_reward_mean\": 200},\n",
    "        checkpoint_config=air.CheckpointConfig(\n",
    "            checkpoint_at_end=True,\n",
    "            checkpoint_score_attribute=\"episode_reward_mean\",  # or leave to save last chkpts\n",
    "            checkpoint_score_order=\"max\",\n",
    "            checkpoint_frequency=1,  #50,\n",
    "            num_to_keep=3\n",
    "        ),\n",
    "        callbacks=[\n",
    "                WandbLoggerCallback(project=\"DARM\", \n",
    "                                    api_key=\"392c8a47eb0658eb5c71190757a69110e2140f4a\",\n",
    "                                    save_checkpoints=True, \n",
    "                                    **wandb_init)\n",
    "            ],\n",
    "        ),\n",
    "    param_space=config\n",
    ")\n",
    "\n",
    "results = tuner.fit()"
   ]
  },
  {
   "cell_type": "code",
   "execution_count": 16,
   "id": "1e3264d3-86a3-430c-bae2-940f2da854d2",
   "metadata": {},
   "outputs": [],
   "source": [
    "# Ensure wandb is sysncing to cloud\n",
    "# cd to darm_training again if not"
   ]
  },
  {
   "cell_type": "code",
   "execution_count": 10,
   "id": "ed17fb23-77b1-4e35-95b7-a44b6e342691",
   "metadata": {
    "tags": []
   },
   "outputs": [
    {
     "name": "stderr",
     "output_type": "stream",
     "text": [
      "2023-02-11 17:26:13,607\tINFO experiment_analysis.py:795 -- No `self.trials`. Drawing logdirs from checkpoint file. This may result in some information that is out of sync, as checkpointing is periodic.\n"
     ]
    },
    {
     "data": {
      "text/plain": [
       "<ray.tune.tuner.Tuner at 0x7fede99d9a90>"
      ]
     },
     "execution_count": 10,
     "metadata": {},
     "output_type": "execute_result"
    },
    {
     "name": "stderr",
     "output_type": "stream",
     "text": [
      "\u001b[2m\u001b[33m(raylet)\u001b[0m [2023-02-11 17:26:16,601 E 14732 14777] (raylet) file_system_monitor.cc:105: /tmp/ray/session_2023-02-11_17-23-24_266872_14581 is over 95% full, available space: 1061720064; capacity: 31845081088. Object creation will fail if spilling is required.\n"
     ]
    }
   ],
   "source": [
    "# TODO:\n",
    "# change: experiment name\n",
    "\n",
    "# Restore Interrupted run\n",
    "tuner = tune.Tuner.restore(\n",
    "    f\"{os.getenv('DARM_MUJOCO_PATH')}/darm_training/results/Test_DARMSF_DELTA_TARGET\",\n",
    "    resume_errored=True\n",
    ")\n",
    "tuner"
   ]
  },
  {
   "cell_type": "code",
   "execution_count": 15,
   "id": "160c2790-f9ac-41cb-8198-d571d2c51332",
   "metadata": {
    "tags": []
   },
   "outputs": [
    {
     "data": {
      "text/plain": [
       "<ray.tune.result_grid.ResultGrid at 0x7fcd58384b80>"
      ]
     },
     "execution_count": 15,
     "metadata": {},
     "output_type": "execute_result"
    }
   ],
   "source": [
    "results = tuner.get_results()\n",
    "results"
   ]
  },
  {
   "cell_type": "code",
   "execution_count": 16,
   "id": "ace959cb-3e05-4caa-8dd9-f00bbab33eb0",
   "metadata": {
    "collapsed": true,
    "jupyter": {
     "outputs_hidden": true
    },
    "tags": []
   },
   "outputs": [
    {
     "data": {
      "text/plain": [
       "Result(metrics={'custom_metrics': {}, 'episode_media': {}, 'info': {'learner': {'default_policy': {'learner_stats': {'allreduce_latency': 0.0, 'grad_gnorm': 8.343955039978027, 'actor_loss': -5.076763153076172, 'critic_loss': 0.4612053632736206, 'alpha_loss': -0.850807249546051, 'alpha_value': 0.9030595, 'log_alpha_value': -0.101966895, 'target_entropy': -5.0, 'policy_t': -0.01997794397175312, 'mean_q': 2.0334110260009766, 'max_q': 2.8355112075805664, 'min_q': 1.038293480873108}, 'td_error': array([9.46030378e-01, 4.29627061e-01, 2.65497327e-01, 8.43869328e-01,\n",
       "       1.09686172e+00, 7.66791701e-01, 7.26696014e-01, 5.70532084e-02,\n",
       "       1.14584994e+00, 4.43507016e-01, 1.04901314e-01, 1.52089047e+00,\n",
       "       6.52013183e-01, 8.16148460e-01, 1.08409297e+00, 2.61833251e-01,\n",
       "       3.79876256e-01, 9.56449747e-01, 5.75677335e-01, 1.02149987e+00,\n",
       "       1.76170349e-01, 9.50863540e-01, 7.04805613e-01, 3.25276971e-01,\n",
       "       6.36387825e-01, 8.46629441e-01, 5.59558868e-02, 8.83865356e-03,\n",
       "       7.97627211e-01, 8.26396644e-01, 9.43091869e-01, 2.46674316e+02,\n",
       "       5.55538654e-01, 7.27864265e-01, 1.29726791e+00, 4.26257730e-01,\n",
       "       4.88600850e-01, 7.20911384e-01, 6.31772637e-01, 1.28249526e+00,\n",
       "       7.96164632e-01, 3.33085537e+00, 3.80529928e+00, 9.50119078e-01,\n",
       "       8.29495788e-01, 4.02090669e-01, 9.92336035e-01, 4.70980978e+00,\n",
       "       7.12400794e-01, 5.61774313e-01, 8.87979388e-01, 6.99178576e-02,\n",
       "       7.03785896e-01, 3.68088245e+00, 4.42697144e+00, 3.84785533e-02,\n",
       "       4.06367898e-01, 9.53655124e-01, 1.01472402e+00, 6.36071920e-01,\n",
       "       3.92946482e-01, 2.85786510e-01, 7.28411913e-01, 4.54745054e-01,\n",
       "       5.25969863e-02, 6.62682295e-01, 2.46527893e+02, 3.33758354e-01,\n",
       "       3.90868187e-01, 2.47024506e+02, 3.74032736e-01, 7.44001746e-01,\n",
       "       1.19754124e+00, 1.98264122e-01, 5.89548111e-01, 7.19748855e-01,\n",
       "       6.91104770e-01, 2.46527893e+02, 1.00903511e+00, 8.68608594e-01,\n",
       "       1.46339655e-01, 8.63849521e-01, 6.97440386e-01, 6.95250630e-01,\n",
       "       1.08643126e+00, 2.53858209e-01, 9.59976912e-01, 3.65842342e-01,\n",
       "       5.75604081e-01, 1.01638889e+00, 5.54916143e-01, 2.61025906e-01,\n",
       "       3.69157314e-01, 5.89906454e-01, 9.18144405e-01, 9.76853013e-01,\n",
       "       7.45771408e-01, 7.41098404e-01, 3.15677047e-01, 1.40482628e+00,\n",
       "       8.13360214e-02, 1.82469726e-01, 9.30288076e-01, 1.78921580e-01,\n",
       "       2.64111042e-01, 7.66712904e-01, 2.51149416e-01, 3.72322750e+00,\n",
       "       1.50621676e+00, 1.34934068e-01, 8.34389687e-01, 2.28880048e-01,\n",
       "       2.46911713e+02, 8.71338129e-01, 1.41575491e+00, 1.15829027e+00,\n",
       "       4.01661396e-01, 3.22172642e-02, 1.03146315e+00, 1.20233822e+00,\n",
       "       3.63595724e-01, 3.59781146e-01, 3.90814304e-01, 7.14776337e-01,\n",
       "       2.03609109e-01, 8.17107201e-01, 1.51301539e+00, 9.68729496e-01,\n",
       "       8.05726111e-01, 6.48125052e-01, 4.55322862e-01, 2.52527475e-01,\n",
       "       6.16939187e-01, 7.07782507e-01, 2.46674316e+02, 5.37988365e-01,\n",
       "       8.88993800e-01, 6.42939091e-01, 5.66157341e-01, 7.45199919e-01,\n",
       "       4.95904922e-01, 5.44749737e-01, 1.33524406e+00, 1.09470248e+00,\n",
       "       4.20443952e-01, 2.31693149e-01, 1.49213076e-01, 4.79452491e-01,\n",
       "       5.01387000e-01, 6.36883974e-01, 9.08940554e-01, 2.35339999e-02,\n",
       "       1.09470153e+00, 6.25958681e-01, 4.33341503e-01, 8.15379143e-01,\n",
       "       1.10253215e+00, 1.11163783e+00, 6.50242090e-01, 3.74678016e-01,\n",
       "       5.57896376e-01, 6.90997720e-01, 1.67405367e-01, 5.14347076e-01,\n",
       "       6.10636115e-01, 1.26651037e+00, 1.06177032e-01, 1.89136624e-01,\n",
       "       7.38880932e-01, 1.18341660e+00, 2.61298299e-01, 1.94938481e-01,\n",
       "       2.90627241e-01, 8.71249318e-01, 5.99144578e-01, 5.03087521e-01,\n",
       "       1.23708069e+00, 3.05450976e-01, 3.46238852e-01, 5.79999447e-01,\n",
       "       1.01897049e+00, 1.15455341e+00, 3.51977944e-01, 4.95337844e-01,\n",
       "       1.29761028e+00, 2.77725697e-01, 9.85441983e-01, 6.46635413e-01,\n",
       "       7.72787869e-01, 1.04821801e-01, 1.34492373e+00, 2.94095612e+00,\n",
       "       1.16106701e+00, 1.31630957e-01, 9.86808658e-01, 4.82740879e-01,\n",
       "       2.54980326e-01, 4.74518299e-01, 4.15986300e-01, 1.08055830e-01,\n",
       "       6.39527440e-01, 1.52761579e-01, 4.26321507e-01, 8.16009641e-01,\n",
       "       7.27825999e-01, 1.11527145e-01, 1.66661322e-01, 5.02551913e-01,\n",
       "       1.97000146e-01, 4.07129705e-01, 7.51043320e-01, 2.46911713e+02,\n",
       "       7.29810119e-01, 6.43945575e-01, 1.79764152e-01, 5.80982447e-01,\n",
       "       2.05063581e-01, 1.04409027e+00, 4.56080079e-01, 4.46982563e-01,\n",
       "       9.81729567e-01, 6.59761965e-01, 2.98615646e+00, 2.80451059e-01,\n",
       "       4.59819794e-01, 9.62480664e-01, 1.36348128e-01, 9.03037906e-01,\n",
       "       7.55133808e-01, 1.33910954e-01, 6.25847220e-01, 4.72928882e-01,\n",
       "       1.15204036e-01, 1.34494066e+00, 3.28659534e-01, 7.61413455e-01,\n",
       "       2.46207031e+02, 5.60174465e-01, 6.26057982e-01, 7.27932453e-01,\n",
       "       5.94342828e-01, 1.06366754e-01, 8.86531234e-01, 7.32596040e-01,\n",
       "       6.20095134e-01, 5.57798028e-01, 7.78808892e-01, 2.44230628e-01,\n",
       "       4.23718333e-01, 1.13543332e-01, 5.97412705e-01, 7.66506553e-01,\n",
       "       7.60311723e-01, 6.40589774e-01, 4.38361287e-01, 9.32641983e-01],\n",
       "      dtype=float32), 'mean_td_error': 8.407605171203613, 'model': {}, 'custom_metrics': {}, 'num_agent_steps_trained': 256.0, 'num_grad_updates_lifetime': 341.0, 'diff_num_grad_updates_vs_sampler_policy': 340.0}}, 'num_env_steps_sampled': 11022, 'num_env_steps_trained': 87296, 'num_agent_steps_sampled': 11022, 'num_agent_steps_trained': 87296, 'last_target_update_ts': 11022, 'num_target_updates': 341}, 'sampler_results': {'episode_reward_max': -175.28551595658064, 'episode_reward_min': -191.91201797127724, 'episode_reward_mean': -183.6617713689804, 'episode_len_mean': 100.0, 'episode_media': {}, 'episodes_this_iter': 10, 'policy_reward_min': {}, 'policy_reward_max': {}, 'policy_reward_mean': {}, 'custom_metrics': {}, 'hist_stats': {'episode_reward': [-177.71922475099564, -187.68662855029106, -175.28551595658064, -185.17646113038063, -188.07598569989204, -183.15926399081945, -187.51414139568806, -191.91201797127724, -180.03978146612644, -180.04869277775288], 'episode_lengths': [100, 100, 100, 100, 100, 100, 100, 100, 100, 100]}, 'sampler_perf': {'mean_raw_obs_processing_ms': 1.2209175070937799, 'mean_inference_ms': 2.2407887063058864, 'mean_action_processing_ms': 0.21747991990069954, 'mean_env_wait_ms': 3.0381576901390437, 'mean_env_render_ms': 0.0}, 'num_faulty_episodes': 0}, 'episode_reward_max': -175.28551595658064, 'episode_reward_min': -191.91201797127724, 'episode_reward_mean': -183.6617713689804, 'episode_len_mean': 100.0, 'episodes_this_iter': 10, 'policy_reward_min': {}, 'policy_reward_max': {}, 'policy_reward_mean': {}, 'hist_stats': {'episode_reward': [-177.71922475099564, -187.68662855029106, -175.28551595658064, -185.17646113038063, -188.07598569989204, -183.15926399081945, -187.51414139568806, -191.91201797127724, -180.03978146612644, -180.04869277775288], 'episode_lengths': [100, 100, 100, 100, 100, 100, 100, 100, 100, 100]}, 'sampler_perf': {'mean_raw_obs_processing_ms': 1.2209175070937799, 'mean_inference_ms': 2.2407887063058864, 'mean_action_processing_ms': 0.21747991990069954, 'mean_env_wait_ms': 3.0381576901390437, 'mean_env_render_ms': 0.0}, 'num_faulty_episodes': 0, 'num_healthy_workers': 3, 'num_in_flight_async_reqs': 0, 'num_remote_worker_restarts': 0, 'num_agent_steps_sampled': 11022, 'num_agent_steps_trained': 87296, 'num_env_steps_sampled': 11022, 'num_env_steps_trained': 87296, 'num_env_steps_sampled_this_iter': 1002, 'num_env_steps_trained_this_iter': 85504, 'num_steps_trained_this_iter': 85504, 'agent_timesteps_total': 11022, 'timers': {'training_iteration_time_ms': 147.211, 'load_time_ms': 0.259, 'load_throughput': 986985.774, 'learn_time_ms': 24.022, 'learn_throughput': 10657.075, 'synch_weights_time_ms': 5.359}, 'counters': {'num_env_steps_sampled': 11022, 'num_env_steps_trained': 87296, 'num_agent_steps_sampled': 11022, 'num_agent_steps_trained': 87296, 'last_target_update_ts': 11022, 'num_target_updates': 341}, 'done': False, 'trial_id': 'ad8de_00000', 'perf': {'cpu_util_percent': 38.9536231884058, 'ram_util_percent': 87.61304347826086}, 'experiment_tag': '0'}, error=None, log_dir=PosixPath('/home/daniel/DARM/darm_mujoco/darm_training/results/Test_DARMSF_DELTA_TARGET/SAC_darm_DarmSFHand-v0_a1dbe_00000_0_2023-02-11_16-49-13/results/Test_DARMSF_DELTA_TARGET/SAC_darm_DarmSFHand-v0_ad8de_00000_0_2023-02-11_16-56-43'))"
      ]
     },
     "execution_count": 16,
     "metadata": {},
     "output_type": "execute_result"
    }
   ],
   "source": [
    "# Get the best result based on a particular metric.\n",
    "best_result = results.get_best_result(metric=\"episode_reward_mean\", mode=\"max\")\n",
    "best_result"
   ]
  },
  {
   "cell_type": "code",
   "execution_count": 17,
   "id": "beca7170-c89a-402c-afb7-ce88cf5524b7",
   "metadata": {
    "tags": []
   },
   "outputs": [
    {
     "data": {
      "text/plain": [
       "Checkpoint(local_path=/home/daniel/DARM/darm_mujoco/darm_training/results/Test_DARMSF_DELTA_TARGET/SAC_darm_DarmSFHand-v0_a1dbe_00000_0_2023-02-11_16-49-13/results/Test_DARMSF_DELTA_TARGET/SAC_darm_DarmSFHand-v0_ad8de_00000_0_2023-02-11_16-56-43/checkpoint_000011)"
      ]
     },
     "execution_count": 17,
     "metadata": {},
     "output_type": "execute_result"
    },
    {
     "name": "stderr",
     "output_type": "stream",
     "text": [
      "\u001b[2m\u001b[33m(raylet)\u001b[0m [2023-02-11 17:00:32,579 E 9254 9299] (raylet) file_system_monitor.cc:105: /tmp/ray/session_2023-02-11_16-49-09_974082_9002 is over 95% full, available space: 1129005056; capacity: 31845081088. Object creation will fail if spilling is required.\n",
      "\u001b[2m\u001b[33m(raylet)\u001b[0m [2023-02-11 17:00:42,596 E 9254 9299] (raylet) file_system_monitor.cc:105: /tmp/ray/session_2023-02-11_16-49-09_974082_9002 is over 95% full, available space: 1129254912; capacity: 31845081088. Object creation will fail if spilling is required.\n",
      "\u001b[2m\u001b[33m(raylet)\u001b[0m [2023-02-11 17:00:52,615 E 9254 9299] (raylet) file_system_monitor.cc:105: /tmp/ray/session_2023-02-11_16-49-09_974082_9002 is over 95% full, available space: 1129238528; capacity: 31845081088. Object creation will fail if spilling is required.\n"
     ]
    }
   ],
   "source": [
    "# Get the best checkpoint corresponding to the best result.\n",
    "best_checkpoint = best_result.checkpoint\n",
    "best_checkpoint"
   ]
  },
  {
   "cell_type": "code",
   "execution_count": 11,
   "id": "3b9e8a43-146c-4a5b-99b7-12384ff38b84",
   "metadata": {
    "tags": []
   },
   "outputs": [
    {
     "name": "stderr",
     "output_type": "stream",
     "text": [
      "2023-02-11 16:38:32,937\tWARNING algorithm_config.py:488 -- Cannot create SACConfig from given `config_dict`! Property __stdout_file__ not supported.\n",
      "2023-02-11 16:38:32,949\tINFO algorithm.py:501 -- Current log_level is WARN. For more information, set 'log_level': 'INFO' / 'DEBUG' or use the -v and -vv flags.\n",
      "\u001b[2m\u001b[33m(raylet)\u001b[0m [2023-02-11 16:38:35,741 E 6815 6860] (raylet) file_system_monitor.cc:105: /tmp/ray/session_2023-02-11_16-34-33_438228_6699 is over 95% full, available space: 1174347776; capacity: 31845081088. Object creation will fail if spilling is required.\n"
     ]
    },
    {
     "name": "stdout",
     "output_type": "stream",
     "text": [
      "\u001b[2m\u001b[36m(RolloutWorker pid=7501)\u001b[0m Loaded XML file successfully\n"
     ]
    },
    {
     "name": "stderr",
     "output_type": "stream",
     "text": [
      "\u001b[2m\u001b[36m(RolloutWorker pid=7501)\u001b[0m /home/daniel/miniconda3/lib/python3.8/site-packages/gym/spaces/box.py:73: UserWarning: \u001b[33mWARN: Box bound precision lowered by casting to float32\u001b[0m\n",
      "\u001b[2m\u001b[36m(RolloutWorker pid=7501)\u001b[0m   logger.warn(\n",
      "\u001b[2m\u001b[36m(RolloutWorker pid=7500)\u001b[0m /home/daniel/miniconda3/lib/python3.8/site-packages/gym/spaces/box.py:73: UserWarning: \u001b[33mWARN: Box bound precision lowered by casting to float32\u001b[0m\n",
      "\u001b[2m\u001b[36m(RolloutWorker pid=7500)\u001b[0m   logger.warn(\n",
      "\u001b[2m\u001b[36m(RolloutWorker pid=7500)\u001b[0m 2023-02-11 16:38:38,536\tWARNING env.py:147 -- Your env doesn't have a .spec.max_episode_steps attribute. This is fine if you have set 'horizon' in your config dictionary, or `soft_horizon`. However, if you haven't, 'horizon' will default to infinity, and your environment will not be reset.\n"
     ]
    },
    {
     "name": "stdout",
     "output_type": "stream",
     "text": [
      "\u001b[2m\u001b[36m(RolloutWorker pid=7500)\u001b[0m Loaded XML file successfully\n"
     ]
    },
    {
     "name": "stderr",
     "output_type": "stream",
     "text": [
      "\u001b[2m\u001b[36m(RolloutWorker pid=7502)\u001b[0m /home/daniel/miniconda3/lib/python3.8/site-packages/gym/spaces/box.py:73: UserWarning: \u001b[33mWARN: Box bound precision lowered by casting to float32\u001b[0m\n",
      "\u001b[2m\u001b[36m(RolloutWorker pid=7502)\u001b[0m   logger.warn(\n"
     ]
    },
    {
     "name": "stdout",
     "output_type": "stream",
     "text": [
      "\u001b[2m\u001b[36m(RolloutWorker pid=7502)\u001b[0m Loaded XML file successfully\n"
     ]
    },
    {
     "name": "stderr",
     "output_type": "stream",
     "text": [
      "/home/daniel/miniconda3/lib/python3.8/site-packages/gym/spaces/box.py:73: UserWarning: \u001b[33mWARN: Box bound precision lowered by casting to float32\u001b[0m\n",
      "  logger.warn(\n",
      "2023-02-11 16:38:39,885\tWARNING env.py:147 -- Your env doesn't have a .spec.max_episode_steps attribute. This is fine if you have set 'horizon' in your config dictionary, or `soft_horizon`. However, if you haven't, 'horizon' will default to infinity, and your environment will not be reset.\n",
      "2023-02-11 16:38:39,927\tWARNING util.py:66 -- Install gputil for GPU system monitoring.\n"
     ]
    },
    {
     "name": "stdout",
     "output_type": "stream",
     "text": [
      "Loaded XML file successfully\n"
     ]
    },
    {
     "data": {
      "text/plain": [
       "SAC"
      ]
     },
     "execution_count": 11,
     "metadata": {},
     "output_type": "execute_result"
    }
   ],
   "source": [
    "# Get Algorithm from saved checkpoint\n",
    "from ray.rllib.algorithms.algorithm import Algorithm\n",
    "algo = Algorithm.from_checkpoint(best_checkpoint._local_path)\n",
    "algo"
   ]
  },
  {
   "cell_type": "code",
   "execution_count": 11,
   "id": "a9cff7c5-f517-4287-9447-668320c35452",
   "metadata": {},
   "outputs": [
    {
     "name": "stderr",
     "output_type": "stream",
     "text": [
      "2023-02-11 17:26:26,421\tINFO trial_runner.py:688 -- A local experiment checkpoint was found and will be used to restore the previous experiment state.\n",
      "2023-02-11 17:26:26,422\tINFO trial_runner.py:825 -- Using following checkpoint to resume: /home/daniel/DARM/darm_mujoco/darm_training/results/Test_DARMSF_DELTA_TARGET/experiment_state-2023-02-11_17-23-28.json\n",
      "2023-02-11 17:26:26,426\tWARNING trial_runner.py:830 -- Attempting to resume experiment from /home/daniel/DARM/darm_mujoco/darm_training/results/Test_DARMSF_DELTA_TARGET. This will ignore any new changes to the specification.\n",
      "2023-02-11 17:26:26,440\tINFO tune.py:653 -- TrialRunner resumed, ignoring new add_experiment but updating trial resources.\n"
     ]
    },
    {
     "data": {
      "text/html": [
       "<div class=\"tuneStatus\">\n",
       "  <div style=\"display: flex;flex-direction: row\">\n",
       "    <div style=\"display: flex;flex-direction: column;\">\n",
       "      <h3>Tune Status</h3>\n",
       "      <table>\n",
       "<tbody>\n",
       "<tr><td>Current time:</td><td>2023-02-11 17:29:20</td></tr>\n",
       "<tr><td>Running for: </td><td>00:02:54.01        </td></tr>\n",
       "<tr><td>Memory:      </td><td>6.3/7.5 GiB        </td></tr>\n",
       "</tbody>\n",
       "</table>\n",
       "    </div>\n",
       "    <div class=\"vDivider\"></div>\n",
       "    <div class=\"systemInfo\">\n",
       "      <h3>System Info</h3>\n",
       "      Using FIFO scheduling algorithm.<br>Resources requested: 4.0/4 CPUs, 0/0 GPUs, 0.0/1.72 GiB heap, 0.0/0.86 GiB objects\n",
       "    </div>\n",
       "    \n",
       "  </div>\n",
       "  <div class=\"hDivider\"></div>\n",
       "  <div class=\"trialStatus\">\n",
       "    <h3>Trial Status</h3>\n",
       "    <table>\n",
       "<thead>\n",
       "<tr><th>Trial name                        </th><th>status  </th><th>loc                 </th><th style=\"text-align: right;\">  iter</th><th style=\"text-align: right;\">  total time (s)</th><th style=\"text-align: right;\">   ts</th><th style=\"text-align: right;\">  reward</th><th style=\"text-align: right;\">  episode_reward_max</th><th style=\"text-align: right;\">  episode_reward_min</th><th style=\"text-align: right;\">  episode_len_mean</th></tr>\n",
       "</thead>\n",
       "<tbody>\n",
       "<tr><td>SAC_darm_DarmSFHand-v0_6a944_00000</td><td>RUNNING </td><td>192.168.152.36:15703</td><td style=\"text-align: right;\">    13</td><td style=\"text-align: right;\">         227.817</td><td style=\"text-align: right;\">13026</td><td style=\"text-align: right;\">-179.588</td><td style=\"text-align: right;\">            -166.097</td><td style=\"text-align: right;\">            -189.684</td><td style=\"text-align: right;\">               100</td></tr>\n",
       "</tbody>\n",
       "</table>\n",
       "  </div>\n",
       "</div>\n",
       "<style>\n",
       ".tuneStatus {\n",
       "  color: var(--jp-ui-font-color1);\n",
       "}\n",
       ".tuneStatus .systemInfo {\n",
       "  display: flex;\n",
       "  flex-direction: column;\n",
       "}\n",
       ".tuneStatus td {\n",
       "  white-space: nowrap;\n",
       "}\n",
       ".tuneStatus .trialStatus {\n",
       "  display: flex;\n",
       "  flex-direction: column;\n",
       "}\n",
       ".tuneStatus h3 {\n",
       "  font-weight: bold;\n",
       "}\n",
       ".tuneStatus .hDivider {\n",
       "  border-bottom-width: var(--jp-border-width);\n",
       "  border-bottom-color: var(--jp-border-color0);\n",
       "  border-bottom-style: solid;\n",
       "}\n",
       ".tuneStatus .vDivider {\n",
       "  border-left-width: var(--jp-border-width);\n",
       "  border-left-color: var(--jp-border-color0);\n",
       "  border-left-style: solid;\n",
       "  margin: 0.5em 1em 0.5em 1em;\n",
       "}\n",
       "</style>\n"
      ],
      "text/plain": [
       "<IPython.core.display.HTML object>"
      ]
     },
     "metadata": {},
     "output_type": "display_data"
    },
    {
     "name": "stderr",
     "output_type": "stream",
     "text": [
      "\u001b[2m\u001b[33m(raylet)\u001b[0m [2023-02-11 17:26:26,618 E 14732 14777] (raylet) file_system_monitor.cc:105: /tmp/ray/session_2023-02-11_17-23-24_266872_14581 is over 95% full, available space: 1061683200; capacity: 31845081088. Object creation will fail if spilling is required.\n",
      "\u001b[34m\u001b[1mwandb\u001b[0m: Currently logged in as: \u001b[33mdanieladejumo\u001b[0m. Use \u001b[1m`wandb login --relogin`\u001b[0m to force relogin\n",
      "\u001b[2m\u001b[36m(SAC pid=15703)\u001b[0m 2023-02-11 17:26:30,934\tWARNING algorithm_config.py:488 -- Cannot create SACConfig from given `config_dict`! Property __stdout_file__ not supported.\n",
      "\u001b[2m\u001b[36m(SAC pid=15703)\u001b[0m 2023-02-11 17:26:31,413\tINFO algorithm.py:501 -- Current log_level is WARN. For more information, set 'log_level': 'INFO' / 'DEBUG' or use the -v and -vv flags.\n"
     ]
    },
    {
     "data": {
      "text/html": [
       "Tracking run with wandb version 0.13.10"
      ],
      "text/plain": [
       "<IPython.core.display.HTML object>"
      ]
     },
     "metadata": {},
     "output_type": "display_data"
    },
    {
     "data": {
      "text/html": [
       "Run data is saved locally in <code>/home/daniel/DARM/darm_mujoco/darm_training/results/Test_DARMSF_DELTA_TARGET/SAC_darm_DarmSFHand-v0_6a944_00000_0_2023-02-11_17-23-28/wandb/run-20230211_172629-6a944_00000</code>"
      ],
      "text/plain": [
       "<IPython.core.display.HTML object>"
      ]
     },
     "metadata": {},
     "output_type": "display_data"
    },
    {
     "data": {
      "text/html": [
       "Resuming run <strong><a href='https://wandb.ai/danieladejumo/DARM/runs/6a944_00000' target=\"_blank\">Test_DARMSF_DELTA_TARGET</a></strong> to <a href='https://wandb.ai/danieladejumo/DARM' target=\"_blank\">Weights & Biases</a> (<a href='https://wandb.me/run' target=\"_blank\">docs</a>)<br/>"
      ],
      "text/plain": [
       "<IPython.core.display.HTML object>"
      ]
     },
     "metadata": {},
     "output_type": "display_data"
    },
    {
     "data": {
      "text/html": [
       " View project at <a href='https://wandb.ai/danieladejumo/DARM' target=\"_blank\">https://wandb.ai/danieladejumo/DARM</a>"
      ],
      "text/plain": [
       "<IPython.core.display.HTML object>"
      ]
     },
     "metadata": {},
     "output_type": "display_data"
    },
    {
     "data": {
      "text/html": [
       " View run at <a href='https://wandb.ai/danieladejumo/DARM/runs/6a944_00000' target=\"_blank\">https://wandb.ai/danieladejumo/DARM/runs/6a944_00000</a>"
      ],
      "text/plain": [
       "<IPython.core.display.HTML object>"
      ]
     },
     "metadata": {},
     "output_type": "display_data"
    },
    {
     "name": "stderr",
     "output_type": "stream",
     "text": [
      "\u001b[2m\u001b[33m(raylet)\u001b[0m [2023-02-11 17:26:36,627 E 14732 14777] (raylet) file_system_monitor.cc:105: /tmp/ray/session_2023-02-11_17-23-24_266872_14581 is over 95% full, available space: 1061359616; capacity: 31845081088. Object creation will fail if spilling is required.\n"
     ]
    },
    {
     "name": "stdout",
     "output_type": "stream",
     "text": [
      "\u001b[2m\u001b[36m(RolloutWorker pid=15846)\u001b[0m Loaded XML file successfully\n",
      "\u001b[2m\u001b[36m(RolloutWorker pid=15844)\u001b[0m Loaded XML file successfully\n"
     ]
    },
    {
     "name": "stderr",
     "output_type": "stream",
     "text": [
      "\u001b[2m\u001b[36m(RolloutWorker pid=15846)\u001b[0m /home/daniel/miniconda3/lib/python3.8/site-packages/gym/spaces/box.py:73: UserWarning: \u001b[33mWARN: Box bound precision lowered by casting to float32\u001b[0m\n",
      "\u001b[2m\u001b[36m(RolloutWorker pid=15846)\u001b[0m   logger.warn(\n",
      "\u001b[2m\u001b[36m(RolloutWorker pid=15844)\u001b[0m /home/daniel/miniconda3/lib/python3.8/site-packages/gym/spaces/box.py:73: UserWarning: \u001b[33mWARN: Box bound precision lowered by casting to float32\u001b[0m\n",
      "\u001b[2m\u001b[36m(RolloutWorker pid=15844)\u001b[0m   logger.warn(\n",
      "\u001b[2m\u001b[36m(RolloutWorker pid=15844)\u001b[0m 2023-02-11 17:26:38,825\tWARNING env.py:147 -- Your env doesn't have a .spec.max_episode_steps attribute. This is fine if you have set 'horizon' in your config dictionary, or `soft_horizon`. However, if you haven't, 'horizon' will default to infinity, and your environment will not be reset.\n"
     ]
    },
    {
     "name": "stdout",
     "output_type": "stream",
     "text": [
      "\u001b[2m\u001b[36m(RolloutWorker pid=15845)\u001b[0m Loaded XML file successfully\n"
     ]
    },
    {
     "name": "stderr",
     "output_type": "stream",
     "text": [
      "\u001b[2m\u001b[36m(RolloutWorker pid=15845)\u001b[0m /home/daniel/miniconda3/lib/python3.8/site-packages/gym/spaces/box.py:73: UserWarning: \u001b[33mWARN: Box bound precision lowered by casting to float32\u001b[0m\n",
      "\u001b[2m\u001b[36m(RolloutWorker pid=15845)\u001b[0m   logger.warn(\n",
      "\u001b[2m\u001b[36m(SAC pid=15703)\u001b[0m /home/daniel/miniconda3/lib/python3.8/site-packages/gym/spaces/box.py:73: UserWarning: \u001b[33mWARN: Box bound precision lowered by casting to float32\u001b[0m\n",
      "\u001b[2m\u001b[36m(SAC pid=15703)\u001b[0m   logger.warn(\n",
      "\u001b[2m\u001b[36m(SAC pid=15703)\u001b[0m 2023-02-11 17:26:40,232\tWARNING env.py:147 -- Your env doesn't have a .spec.max_episode_steps attribute. This is fine if you have set 'horizon' in your config dictionary, or `soft_horizon`. However, if you haven't, 'horizon' will default to infinity, and your environment will not be reset.\n",
      "\u001b[2m\u001b[36m(SAC pid=15703)\u001b[0m 2023-02-11 17:26:40,261\tWARNING util.py:66 -- Install gputil for GPU system monitoring.\n"
     ]
    },
    {
     "name": "stdout",
     "output_type": "stream",
     "text": [
      "\u001b[2m\u001b[36m(SAC pid=15703)\u001b[0m Loaded XML file successfully\n"
     ]
    },
    {
     "name": "stderr",
     "output_type": "stream",
     "text": [
      "\u001b[2m\u001b[36m(SAC pid=15703)\u001b[0m 2023-02-11 17:26:40,442\tINFO trainable.py:790 -- Restored on 192.168.152.36 from checkpoint: /tmp/checkpoint_tmp_7f50b6e15e2c473dba807bf1d398566d\n",
      "\u001b[2m\u001b[36m(SAC pid=15703)\u001b[0m 2023-02-11 17:26:40,442\tINFO trainable.py:799 -- Current state after restoring: {'_iteration': 11, '_timesteps_total': None, '_time_total': 113.04964661598206, '_episodes_total': 114}\n",
      "\u001b[2m\u001b[36m(SAC pid=15703)\u001b[0m 2023-02-11 17:26:40,721\tWARNING multi_agent_prioritized_replay_buffer.py:215 -- Adding batches with column `weights` to this buffer while providing weights as a call argument to the add method results in the column being overwritten.\n",
      "\u001b[2m\u001b[36m(SAC pid=15703)\u001b[0m 2023-02-11 17:26:40,721\tWARNING deprecation.py:47 -- DeprecationWarning: `concat_samples` has been deprecated. Use `concat_samples() from rllib.policy.sample_batch` instead. This will raise an error in the future!\n",
      "\u001b[2m\u001b[33m(raylet)\u001b[0m [2023-02-11 17:26:46,634 E 14732 14777] (raylet) file_system_monitor.cc:105: /tmp/ray/session_2023-02-11_17-23-24_266872_14581 is over 95% full, available space: 1061335040; capacity: 31845081088. Object creation will fail if spilling is required.\n",
      "\u001b[2m\u001b[33m(raylet)\u001b[0m [2023-02-11 17:26:56,640 E 14732 14777] (raylet) file_system_monitor.cc:105: /tmp/ray/session_2023-02-11_17-23-24_266872_14581 is over 95% full, available space: 1061343232; capacity: 31845081088. Object creation will fail if spilling is required.\n",
      "\u001b[2m\u001b[33m(raylet)\u001b[0m [2023-02-11 17:27:06,648 E 14732 14777] (raylet) file_system_monitor.cc:105: /tmp/ray/session_2023-02-11_17-23-24_266872_14581 is over 95% full, available space: 1061339136; capacity: 31845081088. Object creation will fail if spilling is required.\n",
      "\u001b[2m\u001b[33m(raylet)\u001b[0m [2023-02-11 17:27:16,654 E 14732 14777] (raylet) file_system_monitor.cc:105: /tmp/ray/session_2023-02-11_17-23-24_266872_14581 is over 95% full, available space: 1061343232; capacity: 31845081088. Object creation will fail if spilling is required.\n",
      "\u001b[2m\u001b[33m(raylet)\u001b[0m [2023-02-11 17:27:26,659 E 14732 14777] (raylet) file_system_monitor.cc:105: /tmp/ray/session_2023-02-11_17-23-24_266872_14581 is over 95% full, available space: 1061314560; capacity: 31845081088. Object creation will fail if spilling is required.\n"
     ]
    },
    {
     "data": {
      "text/html": [
       "<div class=\"trialProgress\">\n",
       "  <h3>Trial Progress</h3>\n",
       "  <table>\n",
       "<thead>\n",
       "<tr><th>Trial name                        </th><th style=\"text-align: right;\">  agent_timesteps_total</th><th>counters                                                                                                                                                                                          </th><th>custom_metrics  </th><th>date               </th><th>done  </th><th style=\"text-align: right;\">  episode_len_mean</th><th>episode_media  </th><th style=\"text-align: right;\">  episode_reward_max</th><th style=\"text-align: right;\">  episode_reward_mean</th><th style=\"text-align: right;\">  episode_reward_min</th><th style=\"text-align: right;\">  episodes_this_iter</th><th style=\"text-align: right;\">  episodes_total</th><th>experiment_id                   </th><th>hostname  </th><th>info  </th><th style=\"text-align: right;\">  iterations_since_restore</th><th>node_ip       </th><th style=\"text-align: right;\">  num_agent_steps_sampled</th><th style=\"text-align: right;\">  num_agent_steps_trained</th><th style=\"text-align: right;\">  num_env_steps_sampled</th><th style=\"text-align: right;\">  num_env_steps_sampled_this_iter</th><th style=\"text-align: right;\">  num_env_steps_trained</th><th style=\"text-align: right;\">  num_env_steps_trained_this_iter</th><th style=\"text-align: right;\">  num_faulty_episodes</th><th style=\"text-align: right;\">  num_healthy_workers</th><th style=\"text-align: right;\">  num_in_flight_async_reqs</th><th style=\"text-align: right;\">  num_remote_worker_restarts</th><th style=\"text-align: right;\">  num_steps_trained_this_iter</th><th>perf                                                                          </th><th style=\"text-align: right;\">  pid</th><th>policy_reward_max  </th><th>policy_reward_mean  </th><th>policy_reward_min  </th><th>sampler_perf                                                                                                                                                                                                   </th><th>sampler_results                                                                                                                                                                                                                                                                                                                                                                                                                                                                                                                                                                                                                                                                                                                                                                                                                                                     </th><th style=\"text-align: right;\">  time_since_restore</th><th style=\"text-align: right;\">  time_this_iter_s</th><th style=\"text-align: right;\">  time_total_s</th><th>timers                                                                                                                                                                               </th><th style=\"text-align: right;\">  timestamp</th><th style=\"text-align: right;\">  timesteps_since_restore</th><th style=\"text-align: right;\">  timesteps_total</th><th style=\"text-align: right;\">  training_iteration</th><th>trial_id   </th><th style=\"text-align: right;\">  warmup_time</th></tr>\n",
       "</thead>\n",
       "<tbody>\n",
       "<tr><td>SAC_darm_DarmSFHand-v0_6a944_00000</td><td style=\"text-align: right;\">                  13026</td><td>{&#x27;num_env_steps_sampled&#x27;: 13026, &#x27;num_env_steps_trained&#x27;: 258304, &#x27;num_agent_steps_sampled&#x27;: 13026, &#x27;num_agent_steps_trained&#x27;: 258304, &#x27;last_target_update_ts&#x27;: 13026, &#x27;num_target_updates&#x27;: 1009}</td><td>{}              </td><td>2023-02-11_17-28-35</td><td>False </td><td style=\"text-align: right;\">               100</td><td>{}             </td><td style=\"text-align: right;\">            -166.097</td><td style=\"text-align: right;\">             -179.588</td><td style=\"text-align: right;\">            -189.684</td><td style=\"text-align: right;\">                   9</td><td style=\"text-align: right;\">             132</td><td>2674246d3b814ef583cb37ca785123d2</td><td>Daniel    </td><td>{&#x27;learner&#x27;: {&#x27;default_policy&#x27;: {&#x27;learner_stats&#x27;: {&#x27;allreduce_latency&#x27;: 0.0, &#x27;grad_gnorm&#x27;: 8.40356159210205, &#x27;actor_loss&#x27;: -4.885239601135254, &#x27;critic_loss&#x27;: 0.3069121241569519, &#x27;alpha_loss&#x27;: -2.5390048027038574, &#x27;alpha_value&#x27;: 0.7392387, &#x27;log_alpha_value&#x27;: -0.30213442, &#x27;target_entropy&#x27;: -5.0, &#x27;policy_t&#x27;: -0.029988128691911697, &#x27;mean_q&#x27;: 2.379087448120117, &#x27;max_q&#x27;: 3.1470589637756348, &#x27;min_q&#x27;: 1.5433847904205322}, &#x27;td_error&#x27;: array([7.4213958e-01, 1.5848637e-01, 6.0251343e-01, 9.3348145e-01,\n",
       "       7.2470105e-01, 6.5075898e-01, 7.4386942e-01, 4.2802992e+00,\n",
       "       4.9475217e-01, 2.1274698e-01, 1.5443254e-01, 2.0181298e-01,\n",
       "       4.8542452e-01, 4.9696553e-01, 3.7915547e+00, 8.3584547e-02,\n",
       "       8.3843565e-01, 7.5096285e-01, 6.2452388e-01, 2.4125576e-01,\n",
       "       7.7261329e-01, 2.6608777e-01, 3.3530772e-01, 2.6860654e-01,\n",
       "       1.5399015e-01, 7.0978558e-01, 7.8079522e-01, 1.0731530e-01,\n",
       "       8.8066232e-01, 1.1126903e+00, 3.6070585e-02, 6.7874563e-01,\n",
       "       7.5406009e-01, 4.2981052e-01, 1.1391871e+00, 3.9740098e-01,\n",
       "       1.0762990e+00, 8.4136343e-01, 5.8252001e-01, 4.0861154e-01,\n",
       "       5.6281984e-01, 2.7024639e-01, 6.9000638e-01, 8.6244369e-01,\n",
       "       5.7595563e-01, 7.2603118e-01, 5.9470689e-01, 2.7473211e-01,\n",
       "       5.6826186e-01, 2.4650784e+02, 9.8598832e-01, 7.3479068e-01,\n",
       "       6.1449623e-01, 1.2699622e+00, 7.5296319e-01, 2.8090358e-02,\n",
       "       9.4109213e-01, 8.2771111e-01, 4.2838442e-01, 3.8090675e+00,\n",
       "       4.7546709e-01, 2.4742079e-01, 4.1203547e-01, 7.3801911e-01,\n",
       "       1.0025257e+00, 6.7763782e-01, 6.7099619e-01, 8.6762822e-01,\n",
       "       5.6190348e-01, 8.8954902e-01, 8.1222010e-01, 8.6386180e-01,\n",
       "       7.6953566e-01, 1.0633967e+00, 5.9996891e-01, 5.3750610e-01,\n",
       "       7.0670819e-01, 4.9724150e-01, 3.3370614e-02, 6.8903613e-01,\n",
       "       9.4764221e-01, 5.0915122e-02, 5.0027347e-01, 9.6055913e-01,\n",
       "       5.5192137e-01, 7.9515433e-01, 7.2671640e-01, 3.9931262e-01,\n",
       "       1.8239129e-01, 9.9649012e-01, 8.4206927e-01, 4.1600978e-01,\n",
       "       4.0527940e-01, 7.6102638e-01, 2.3393106e-01, 4.7766042e-01,\n",
       "       2.2459340e-01, 8.5827851e-01, 1.4306033e-01, 2.4650784e+02,\n",
       "       7.1198571e-01, 3.9922416e+00, 1.2246186e+00, 7.4194229e-01,\n",
       "       2.7496171e-01, 4.5212805e-02, 7.4664807e-01, 1.3847947e-02,\n",
       "       8.7445688e-01, 6.6402781e-01, 1.0255686e+00, 4.5125723e-01,\n",
       "       4.8755097e-01, 2.4650784e+02, 4.4124365e-01, 1.0487792e+00,\n",
       "       5.8346188e-01, 2.6959336e-01, 3.5287654e-01, 5.9907603e-01,\n",
       "       4.8603582e-01, 6.1551094e-01, 6.9831514e-01, 5.1433253e-01,\n",
       "       1.8200487e-01, 9.6122825e-01, 7.8497732e-01, 2.2768998e-01,\n",
       "       9.6964097e-01, 1.4972503e+00, 8.0229974e-01, 1.0484257e+00,\n",
       "       5.5421102e-01, 8.3084774e-01, 4.7661805e-01, 3.9173824e-01,\n",
       "       3.1396019e-01, 4.2802992e+00, 2.7052438e-01, 2.6957560e-01,\n",
       "       7.5368738e-01, 4.4456518e-01, 3.1527257e-01, 8.5121763e-01,\n",
       "       9.0664178e-01, 9.4629610e-01, 5.6297445e-01, 5.9285718e-01,\n",
       "       6.3104606e-01, 5.2718985e-01, 6.5370166e-01, 7.0399725e-01,\n",
       "       4.5417070e-02, 2.4650784e+02, 7.2803473e-01, 1.1245636e+00,\n",
       "       3.7708211e-01, 3.7433398e-01, 4.3422055e-01, 3.2808065e-01,\n",
       "       6.2305951e-01, 1.7103601e-01, 7.9449832e-01, 1.3040452e+00,\n",
       "       7.1471536e-01, 4.5487504e+00, 4.1272748e-01, 6.5745860e-01,\n",
       "       6.6768157e-01, 8.8028562e-01, 7.0535421e-01, 5.2402341e-01,\n",
       "       5.6226981e-01, 5.4202604e-01, 2.7826047e-01, 2.6031137e-01,\n",
       "       6.0549617e-02, 3.6561573e-01, 2.4650784e+02, 8.0606019e-01,\n",
       "       8.4074116e-01, 4.9388194e-01, 7.1800745e-01, 2.9282093e-02,\n",
       "       1.9090211e-01, 3.8544512e-01, 1.4638956e+00, 1.4547678e+00,\n",
       "       1.0922147e+00, 2.6176953e-01, 1.3020796e-01, 5.6222248e-01,\n",
       "       5.6339896e-01, 7.6045167e-01, 7.8438163e-01, 7.5755298e-01,\n",
       "       8.2661462e-01, 3.5743856e-01, 1.3571662e-01, 5.3244066e-01,\n",
       "       8.8719201e-01, 8.2828355e-01, 3.8229942e-01, 6.0678411e-01,\n",
       "       4.7898412e-01, 8.2518208e-01, 5.2971601e-01, 6.7987609e-01,\n",
       "       7.6182199e-01, 1.0264168e+00, 6.2066817e-01, 9.0486789e-01,\n",
       "       4.7908902e-01, 1.1681950e-01, 7.6850456e-01, 3.1422675e-01,\n",
       "       9.3148047e-01, 9.5507002e-01, 8.3421135e-01, 5.6414163e-01,\n",
       "       4.1598296e-01, 5.0719857e-02, 9.6793044e-01, 1.4145180e+00,\n",
       "       1.4200950e-01, 8.1434751e-01, 7.0387411e-01, 8.6176515e-01,\n",
       "       6.2346458e-01, 1.4636874e-01, 3.2455921e-01, 1.5807381e+00,\n",
       "       5.9650755e-01, 7.9351628e-01, 1.6089365e+00, 7.5115800e-01,\n",
       "       5.8976293e-01, 4.7450304e-02, 6.6682827e-01, 7.1542680e-01,\n",
       "       4.6520185e-01, 3.4638846e-01, 7.5957966e-01, 4.9341345e-01,\n",
       "       4.8143768e-01, 1.2025452e-01, 6.0646594e-01, 1.1619196e+00,\n",
       "       2.7393532e-01, 8.4904301e-01, 2.5427663e-01, 7.0259297e-01,\n",
       "       5.2577734e-01, 2.9342413e-01, 6.1365223e-01, 9.0736806e-01],\n",
       "      dtype=float32), &#x27;mean_td_error&#x27;: 5.492199897766113, &#x27;model&#x27;: {}, &#x27;custom_metrics&#x27;: {}, &#x27;num_agent_steps_trained&#x27;: 256.0, &#x27;num_grad_updates_lifetime&#x27;: 668.0, &#x27;diff_num_grad_updates_vs_sampler_policy&#x27;: 667.0}}, &#x27;num_env_steps_sampled&#x27;: 13026, &#x27;num_env_steps_trained&#x27;: 258304, &#x27;num_agent_steps_sampled&#x27;: 13026, &#x27;num_agent_steps_trained&#x27;: 258304, &#x27;last_target_update_ts&#x27;: 13026, &#x27;num_target_updates&#x27;: 1009}       </td><td style=\"text-align: right;\">                         2</td><td>192.168.152.36</td><td style=\"text-align: right;\">                    13026</td><td style=\"text-align: right;\">                   258304</td><td style=\"text-align: right;\">                  13026</td><td style=\"text-align: right;\">                             1002</td><td style=\"text-align: right;\">                 258304</td><td style=\"text-align: right;\">                            85504</td><td style=\"text-align: right;\">                    0</td><td style=\"text-align: right;\">                    3</td><td style=\"text-align: right;\">                         0</td><td style=\"text-align: right;\">                           0</td><td style=\"text-align: right;\">                        85504</td><td>{&#x27;cpu_util_percent&#x27;: 54.76744186046512, &#x27;ram_util_percent&#x27;: 85.32209302325585}</td><td style=\"text-align: right;\">15703</td><td>{}                 </td><td>{}                  </td><td>{}                 </td><td>{&#x27;mean_raw_obs_processing_ms&#x27;: 1.3155451329359085, &#x27;mean_inference_ms&#x27;: 2.6820931912181267, &#x27;mean_action_processing_ms&#x27;: 0.25946855188663404, &#x27;mean_env_wait_ms&#x27;: 3.287473482817159, &#x27;mean_env_render_ms&#x27;: 0.0}</td><td>{&#x27;episode_reward_max&#x27;: -166.09740307927132, &#x27;episode_reward_min&#x27;: -189.6840973868966, &#x27;episode_reward_mean&#x27;: -179.5880893824829, &#x27;episode_len_mean&#x27;: 100.0, &#x27;episode_media&#x27;: {}, &#x27;episodes_this_iter&#x27;: 9, &#x27;policy_reward_min&#x27;: {}, &#x27;policy_reward_max&#x27;: {}, &#x27;policy_reward_mean&#x27;: {}, &#x27;custom_metrics&#x27;: {}, &#x27;hist_stats&#x27;: {&#x27;episode_reward&#x27;: [-187.3498569726944, -166.09740307927132, -172.9712873697281, -187.82146245241165, -176.65354753285646, -183.53197374939919, -176.7706963941455, -189.6840973868966, -175.4124795049429], &#x27;episode_lengths&#x27;: [100, 100, 100, 100, 100, 100, 100, 100, 100]}, &#x27;sampler_perf&#x27;: {&#x27;mean_raw_obs_processing_ms&#x27;: 1.3155451329359085, &#x27;mean_inference_ms&#x27;: 2.6820931912181267, &#x27;mean_action_processing_ms&#x27;: 0.25946855188663404, &#x27;mean_env_wait_ms&#x27;: 3.287473482817159, &#x27;mean_env_render_ms&#x27;: 0.0}, &#x27;num_faulty_episodes&#x27;: 0}</td><td style=\"text-align: right;\">             114.767</td><td style=\"text-align: right;\">            62.318</td><td style=\"text-align: right;\">       227.817</td><td>{&#x27;training_iteration_time_ms&#x27;: 151.985, &#x27;load_time_ms&#x27;: 0.246, &#x27;load_throughput&#x27;: 1042265.409, &#x27;learn_time_ms&#x27;: 25.824, &#x27;learn_throughput&#x27;: 9913.287, &#x27;synch_weights_time_ms&#x27;: 6.049}</td><td style=\"text-align: right;\"> 1676132915</td><td style=\"text-align: right;\">                        0</td><td style=\"text-align: right;\">            13026</td><td style=\"text-align: right;\">                  13</td><td>6a944_00000</td><td style=\"text-align: right;\">      9.03385</td></tr>\n",
       "</tbody>\n",
       "</table>\n",
       "</div>\n",
       "<style>\n",
       ".trialProgress {\n",
       "  display: flex;\n",
       "  flex-direction: column;\n",
       "  color: var(--jp-ui-font-color1);\n",
       "}\n",
       ".trialProgress h3 {\n",
       "  font-weight: bold;\n",
       "}\n",
       ".trialProgress td {\n",
       "  white-space: nowrap;\n",
       "}\n",
       "</style>\n"
      ],
      "text/plain": [
       "<IPython.core.display.HTML object>"
      ]
     },
     "metadata": {},
     "output_type": "display_data"
    },
    {
     "name": "stderr",
     "output_type": "stream",
     "text": [
      "\u001b[34m\u001b[1mwandb\u001b[0m: Adding directory to artifact (/home/daniel/DARM/darm_mujoco/darm_training/results/Test_DARMSF_DELTA_TARGET/SAC_darm_DarmSFHand-v0_6a944_00000_0_2023-02-11_17-23-28/checkpoint_000012)... Done. 0.0s\n",
      "\u001b[2m\u001b[33m(raylet)\u001b[0m [2023-02-11 17:27:36,665 E 14732 14777] (raylet) file_system_monitor.cc:105: /tmp/ray/session_2023-02-11_17-23-24_266872_14581 is over 95% full, available space: 1055997952; capacity: 31845081088. Object creation will fail if spilling is required.\n",
      "\u001b[2m\u001b[33m(raylet)\u001b[0m [2023-02-11 17:27:46,672 E 14732 14777] (raylet) file_system_monitor.cc:105: /tmp/ray/session_2023-02-11_17-23-24_266872_14581 is over 95% full, available space: 1055973376; capacity: 31845081088. Object creation will fail if spilling is required.\n",
      "\u001b[2m\u001b[33m(raylet)\u001b[0m [2023-02-11 17:27:56,678 E 14732 14777] (raylet) file_system_monitor.cc:105: /tmp/ray/session_2023-02-11_17-23-24_266872_14581 is over 95% full, available space: 1055977472; capacity: 31845081088. Object creation will fail if spilling is required.\n",
      "\u001b[2m\u001b[33m(raylet)\u001b[0m [2023-02-11 17:28:06,689 E 14732 14777] (raylet) file_system_monitor.cc:105: /tmp/ray/session_2023-02-11_17-23-24_266872_14581 is over 95% full, available space: 1056280576; capacity: 31845081088. Object creation will fail if spilling is required.\n",
      "\u001b[2m\u001b[33m(raylet)\u001b[0m [2023-02-11 17:28:16,700 E 14732 14777] (raylet) file_system_monitor.cc:105: /tmp/ray/session_2023-02-11_17-23-24_266872_14581 is over 95% full, available space: 1056186368; capacity: 31845081088. Object creation will fail if spilling is required.\n",
      "\u001b[2m\u001b[33m(raylet)\u001b[0m [2023-02-11 17:28:26,706 E 14732 14777] (raylet) file_system_monitor.cc:105: /tmp/ray/session_2023-02-11_17-23-24_266872_14581 is over 95% full, available space: 1056030720; capacity: 31845081088. Object creation will fail if spilling is required.\n",
      "\u001b[34m\u001b[1mwandb\u001b[0m: Adding directory to artifact (/home/daniel/DARM/darm_mujoco/darm_training/results/Test_DARMSF_DELTA_TARGET/SAC_darm_DarmSFHand-v0_6a944_00000_0_2023-02-11_17-23-28/checkpoint_000013)... Done. 0.0s\n",
      "\u001b[2m\u001b[33m(raylet)\u001b[0m [2023-02-11 17:28:36,714 E 14732 14777] (raylet) file_system_monitor.cc:105: /tmp/ray/session_2023-02-11_17-23-24_266872_14581 is over 95% full, available space: 1053261824; capacity: 31845081088. Object creation will fail if spilling is required.\n",
      "\u001b[2m\u001b[33m(raylet)\u001b[0m [2023-02-11 17:28:46,719 E 14732 14777] (raylet) file_system_monitor.cc:105: /tmp/ray/session_2023-02-11_17-23-24_266872_14581 is over 95% full, available space: 1053159424; capacity: 31845081088. Object creation will fail if spilling is required.\n",
      "\u001b[2m\u001b[33m(raylet)\u001b[0m [2023-02-11 17:28:56,725 E 14732 14777] (raylet) file_system_monitor.cc:105: /tmp/ray/session_2023-02-11_17-23-24_266872_14581 is over 95% full, available space: 1053106176; capacity: 31845081088. Object creation will fail if spilling is required.\n",
      "\u001b[2m\u001b[33m(raylet)\u001b[0m [2023-02-11 17:29:06,732 E 14732 14777] (raylet) file_system_monitor.cc:105: /tmp/ray/session_2023-02-11_17-23-24_266872_14581 is over 95% full, available space: 1053073408; capacity: 31845081088. Object creation will fail if spilling is required.\n",
      "2023-02-11 17:29:16,846\tWARNING tune.py:690 -- Stop signal received (e.g. via SIGINT/Ctrl+C), ending Ray Tune run. This will try to checkpoint the experiment state one last time. Press CTRL+C (or send SIGINT/SIGKILL/SIGTERM) to skip. \n",
      "\u001b[2m\u001b[33m(raylet)\u001b[0m [2023-02-11 17:29:16,738 E 14732 14777] (raylet) file_system_monitor.cc:105: /tmp/ray/session_2023-02-11_17-23-24_266872_14581 is over 95% full, available space: 1053069312; capacity: 31845081088. Object creation will fail if spilling is required.\n",
      "2023-02-11 17:29:17,441\tWARNING tune.py:690 -- Stop signal received (e.g. via SIGINT/Ctrl+C), ending Ray Tune run. This will try to checkpoint the experiment state one last time. Press CTRL+C (or send SIGINT/SIGKILL/SIGTERM) to skip. \n",
      "2023-02-11 17:29:20,661\tERROR tune.py:758 -- Trials did not complete: [SAC_darm_DarmSFHand-v0_6a944_00000]\n",
      "2023-02-11 17:29:20,663\tINFO tune.py:762 -- Total run time: 174.25 seconds (174.00 seconds for the tuning loop).\n",
      "2023-02-11 17:29:20,664\tWARNING tune.py:768 -- Experiment has been interrupted, but the most recent state was saved. You can continue running this experiment by passing `resume=True` to `tune.run()`\n"
     ]
    },
    {
     "data": {
      "text/plain": [
       "<ray.tune.result_grid.ResultGrid at 0x7fedc40a1d90>"
      ]
     },
     "execution_count": 11,
     "metadata": {},
     "output_type": "execute_result"
    }
   ],
   "source": [
    "# resume the interrupted run\n",
    "tuner.fit()"
   ]
  },
  {
   "cell_type": "code",
   "execution_count": null,
   "id": "1d25217d-5941-40bc-b103-d5ff3f6e9c72",
   "metadata": {},
   "outputs": [],
   "source": []
  }
 ],
 "metadata": {
  "kernelspec": {
   "display_name": "base",
   "language": "python",
   "name": "python3"
  },
  "language_info": {
   "codemirror_mode": {
    "name": "ipython",
    "version": 3
   },
   "file_extension": ".py",
   "mimetype": "text/x-python",
   "name": "python",
   "nbconvert_exporter": "python",
   "pygments_lexer": "ipython3",
   "version": "3.8.12"
  },
  "vscode": {
   "interpreter": {
    "hash": "f502c9f8cc810ebd22b57e7c79a9d06f7b7c060e6ecfb4908c78b2fe1d232067"
   }
  }
 },
 "nbformat": 4,
 "nbformat_minor": 5
}
