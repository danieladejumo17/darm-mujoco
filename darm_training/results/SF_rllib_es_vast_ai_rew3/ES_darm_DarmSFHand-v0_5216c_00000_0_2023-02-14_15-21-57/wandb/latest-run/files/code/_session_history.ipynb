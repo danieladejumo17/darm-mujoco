{
 "cells": [
  {
   "cell_type": "code",
   "execution_count": 1,
   "id": "2d9364e1",
   "metadata": {},
   "outputs": [],
   "source": [
    "!pwd"
   ]
  },
  {
   "cell_type": "code",
   "execution_count": 2,
   "id": "c032a3a5",
   "metadata": {},
   "outputs": [
    {
     "name": "stdout",
     "output_type": "stream",
     "text": [
      "'/workspace/darm-mujoco'"
     ]
    }
   ],
   "source": [
    "# Configure env variables\n",
    "\n",
    "# TODO: change path\n",
    "import os\n",
    "os.environ[\"DARM_MUJOCO_PATH\"] = \"/workspace/darm-mujoco\"\n",
    "os.getenv('DARM_MUJOCO_PATH')"
   ]
  },
  {
   "cell_type": "code",
   "execution_count": 3,
   "id": "f3e9adb6",
   "metadata": {},
   "outputs": [],
   "source": [
    "# Check if GCC is installed\n",
    "!gcc --version"
   ]
  },
  {
   "cell_type": "code",
   "execution_count": 4,
   "id": "ee265704",
   "metadata": {},
   "outputs": [],
   "source": [
    "# Install GCC if absent\n",
    "!sudo apt update\n",
    "!sudo apt install build-essential -y"
   ]
  },
  {
   "cell_type": "code",
   "execution_count": 5,
   "id": "d9291eb3",
   "metadata": {},
   "outputs": [],
   "source": [
    "# Setup Mujoco for gym - If needed\n",
    "!apt-get install -y \\\n",
    "    libgl1-mesa-dev \\\n",
    "    libgl1-mesa-glx \\\n",
    "    libglew-dev \\\n",
    "    libosmesa6-dev \\\n",
    "    software-properties-common\n",
    "\n",
    "!apt-get install -y patchelf\n",
    "\n",
    "!pip install gym\n",
    "\n",
    "!pip install free-mujoco-py\n",
    "\n",
    "import mujoco_py\n",
    "import gym"
   ]
  },
  {
   "cell_type": "code",
   "execution_count": 6,
   "id": "d53a734e",
   "metadata": {},
   "outputs": [],
   "source": [
    "!pip install ray[rllib] torch\n",
    "!pip install wandb\n",
    "!pip install tensorflow_probability"
   ]
  },
  {
   "cell_type": "code",
   "execution_count": 7,
   "id": "46205f11",
   "metadata": {},
   "outputs": [],
   "source": [
    "# Check if mujoco import is successful\n",
    "import mujoco"
   ]
  },
  {
   "cell_type": "code",
   "execution_count": 8,
   "id": "270c0a8d",
   "metadata": {},
   "outputs": [],
   "source": [
    "import ray\n",
    "from ray.rllib.algorithms.es import ESConfig\n",
    "from ray.tune.registry import register_env\n",
    "from ray.tune.logger import pretty_print\n",
    "\n",
    "from ray import air, tune\n",
    "from ray.air import session\n",
    "from ray.air.integrations.wandb import setup_wandb\n",
    "from ray.air.integrations.wandb import WandbLoggerCallback\n",
    "\n",
    "import gym\n",
    "from darm_gym_env import DARMSFEnv"
   ]
  },
  {
   "cell_type": "code",
   "execution_count": 9,
   "id": "166dc9be",
   "metadata": {},
   "outputs": [],
   "source": [
    "# env_creator = lambda env_config: gym.make(\"darm/DarmSFHand-v0\", render_mode=None, hand_name=\"hand1\") # DARMSFEnv(render_mode=None, reaction_time=0.08, hand_name=\"hand1\") # \n",
    "\n",
    "def make_env(env_config):\n",
    "    env = gym.wrappers.TimeLimit(env=DARMSFEnv(render_mode=None, reaction_time=0.08, hand_name=\"hand1\"), max_episode_steps=100)\n",
    "    return env\n",
    "env_creator = lambda env_config: make_env(env_config) #gym.wrappers.TimeLimit(env=DARMSFEnv(render_mode=None, reaction_time=0.08, hand_name=\"hand1\"), max_episode_steps=100)\n",
    "\n",
    "register_env(\"darm/DarmSFHand-v0\", env_creator)"
   ]
  },
  {
   "cell_type": "code",
   "execution_count": 10,
   "id": "87c7dffc",
   "metadata": {},
   "outputs": [],
   "source": [
    "# TODO:\n",
    "# change: rollout_workers\n",
    "# change: gpu\n",
    "\n",
    "config = (\n",
    "    ESConfig()\n",
    "    .environment(\n",
    "        env=\"darm/DarmSFHand-v0\"\n",
    "    )\n",
    "    .rollouts(\n",
    "        num_rollout_workers=121,\n",
    "        num_envs_per_worker=64,\n",
    "        # rollout_fragment_length=1,\n",
    "        recreate_failed_workers=True,\n",
    "        num_consecutive_worker_failures_tolerance=10,\n",
    "        restart_failed_sub_environments=True,\n",
    "    )\n",
    "    .resources(num_gpus=1)\n",
    "    # .evaluation(evaluation_interval=100) # For 1000 timesteps iter; 100 evals\n",
    "    .framework(framework=\"torch\")\n",
    ")\n",
    "# config.to_dict()"
   ]
  },
  {
   "cell_type": "code",
   "execution_count": 11,
   "id": "942cccc9",
   "metadata": {},
   "outputs": [],
   "source": [
    "# TODO:\n",
    "# change: rollout_workers\n",
    "# change: gpu\n",
    "# change: tags\n",
    "# change: name\n",
    "\n",
    "wandb_init = dict(\n",
    "    save_code=True,\n",
    "    resume=True,\n",
    "    config={\n",
    "        \"env\": \"DARMSFHand-v0\",\n",
    "        \"num_rollout_workers\": 121,\n",
    "        \"num_envs_per_worker\": 64,\n",
    "        \"recreate_failed_workers\": True,\n",
    "        \"num_consecutive_worker_failures_tolerance\": 10,\n",
    "        \"restart_failed_sub_environments\": True,\n",
    "        \"num_gpus\": 1,\n",
    "        \"framework\": \"torch\"\n",
    "    },\n",
    "    tags=[\"single_finger\", \"es\", \"delta_target\", \"vast_ai\", \"no_vel_penalty\", \"effort_penalty\"],\n",
    "    notes=\"Updated reward function. Fixed the env to use targets that are delta increaments from the starting state. Removed velocity penalty, and used only effort penalty\",\n",
    "    name=\"SF_rllib_es_vast_ai_rew3\"\n",
    "    # job_type=\n",
    "    # monitor_gym=\n",
    ")"
   ]
  },
  {
   "cell_type": "code",
   "execution_count": 12,
   "id": "874a488b",
   "metadata": {},
   "outputs": [
    {
     "data": {
      "text/html": [
       "Tracking run with wandb version 0.13.10"
      ],
      "text/plain": [
       "<IPython.core.display.HTML object>"
      ]
     },
     "metadata": {},
     "output_type": "display_data"
    },
    {
     "data": {
      "text/html": [
       "Run data is saved locally in <code>/workspace/darm-mujoco/darm_training/results/SF_rllib_es_vast_ai_rew3/ES_darm_DarmSFHand-v0_5216c_00000_0_2023-02-14_15-21-57/wandb/run-20230214_152159-5216c_00000</code>"
      ],
      "text/plain": [
       "<IPython.core.display.HTML object>"
      ]
     },
     "metadata": {},
     "output_type": "display_data"
    },
    {
     "data": {
      "text/html": [
       "Syncing run <strong><a href='https://wandb.ai/danieladejumo/DARM/runs/5216c_00000' target=\"_blank\">SF_rllib_es_vast_ai_rew3</a></strong> to <a href='https://wandb.ai/danieladejumo/DARM' target=\"_blank\">Weights & Biases</a> (<a href='https://wandb.me/run' target=\"_blank\">docs</a>)<br/>"
      ],
      "text/plain": [
       "<IPython.core.display.HTML object>"
      ]
     },
     "metadata": {},
     "output_type": "display_data"
    },
    {
     "data": {
      "text/html": [
       " View project at <a href='https://wandb.ai/danieladejumo/DARM' target=\"_blank\">https://wandb.ai/danieladejumo/DARM</a>"
      ],
      "text/plain": [
       "<IPython.core.display.HTML object>"
      ]
     },
     "metadata": {},
     "output_type": "display_data"
    },
    {
     "data": {
      "text/html": [
       " View run at <a href='https://wandb.ai/danieladejumo/DARM/runs/5216c_00000' target=\"_blank\">https://wandb.ai/danieladejumo/DARM/runs/5216c_00000</a>"
      ],
      "text/plain": [
       "<IPython.core.display.HTML object>"
      ]
     },
     "metadata": {},
     "output_type": "display_data"
    }
   ],
   "source": [
    "# TODO: \n",
    "# change: name\n",
    "# change: checkpoint_freq\n",
    "\n",
    "sync_config = tune.SyncConfig()\n",
    "\n",
    "tuner = tune.Tuner(\n",
    "    \"ES\",\n",
    "    run_config=air.RunConfig(\n",
    "        name=\"SF_rllib_es_vast_ai_rew3\",\n",
    "        local_dir=f\"{os.getenv('DARM_MUJOCO_PATH')}/darm_training/results\",\n",
    "        sync_config=sync_config,\n",
    "        stop={\"training_iteration\": 10_000, \"episode_reward_mean\": 20},\n",
    "        checkpoint_config=air.CheckpointConfig(\n",
    "            checkpoint_at_end=True,\n",
    "            checkpoint_score_attribute=\"episode_reward_mean\",  # or leave to save last chkpts\n",
    "            checkpoint_score_order=\"max\",\n",
    "            checkpoint_frequency=50,\n",
    "            num_to_keep=3\n",
    "        ),\n",
    "        callbacks=[\n",
    "                WandbLoggerCallback(project=\"DARM\", \n",
    "                                    api_key=\"392c8a47eb0658eb5c71190757a69110e2140f4a\",\n",
    "                                    save_checkpoints=True, \n",
    "                                    **wandb_init)\n",
    "            ],\n",
    "        ),\n",
    "    param_space=config.to_dict()\n",
    ")\n",
    "\n",
    "results = tuner.fit()"
   ]
  }
 ],
 "metadata": {
  "kernelspec": {
   "display_name": "Python 3",
   "language": "python",
   "name": "python3"
  },
  "language_info": {
   "codemirror_mode": {
    "name": "ipython",
    "version": 3
   },
   "file_extension": ".py",
   "mimetype": "text/x-python",
   "name": "python",
   "nbconvert_exporter": "python",
   "pygments_lexer": "ipython3",
   "version": "3.10.8"
  }
 },
 "nbformat": 4,
 "nbformat_minor": 5
}
