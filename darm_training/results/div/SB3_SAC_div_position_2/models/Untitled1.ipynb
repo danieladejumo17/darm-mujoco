{
 "cells": [
  {
   "cell_type": "code",
   "execution_count": 2,
   "id": "f1e6bf0e-daf7-4001-bc59-a11b91083658",
   "metadata": {
    "tags": []
   },
   "outputs": [
    {
     "data": {
      "text/plain": [
       "8.575"
      ]
     },
     "execution_count": 2,
     "metadata": {},
     "output_type": "execute_result"
    }
   ],
   "source": [
    "torque = 34.3/1000 # mNm\n",
    "rad = 4/1000 # mm\n",
    "\n",
    "force = torque/rad\n",
    "force"
   ]
  }
 ],
 "metadata": {
  "kernelspec": {
   "display_name": "Python 3 (ipykernel)",
   "language": "python",
   "name": "python3"
  },
  "language_info": {
   "codemirror_mode": {
    "name": "ipython",
    "version": 3
   },
   "file_extension": ".py",
   "mimetype": "text/x-python",
   "name": "python",
   "nbconvert_exporter": "python",
   "pygments_lexer": "ipython3",
   "version": "3.10.8"
  }
 },
 "nbformat": 4,
 "nbformat_minor": 5
}
