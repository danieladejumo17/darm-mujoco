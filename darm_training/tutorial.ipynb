{
 "cells": [
  {
   "cell_type": "markdown",
   "metadata": {
    "id": "MpkYHwCqk7W-"
   },
   "source": [
    "![MuJoCo banner](https://raw.githubusercontent.com/deepmind/mujoco/main/banner.png)\n",
    "\n",
    "# <h1><center>Tutorial  <a href=\"https://colab.research.google.com/github/deepmind/mujoco/blob/main/python/tutorial.ipynb\"><img src=\"https://colab.research.google.com/assets/colab-badge.svg\" width=\"140\" align=\"center\"/></a></center></h1>\n",
    "\n",
    "This notebook provides an introductory tutorial for [**MuJoCo** physics](https://github.com/deepmind/mujoco#readme), using the native Python bindings.\n",
    "\n",
    "**A Colab runtime with GPU acceleration is required.** If you're using a CPU-only runtime, you can switch using the menu \"Runtime > Change runtime type\".\n",
    "\n",
    "\n",
    "\n",
    "\n",
    "\n",
    "\n",
    "\n",
    "\n"
   ]
  },
  {
   "cell_type": "markdown",
   "metadata": {
    "id": "xBSdkbmGN2K-"
   },
   "source": [
    "### Copyright notice"
   ]
  },
  {
   "cell_type": "markdown",
   "metadata": {
    "id": "_UbO9uhtBSX5"
   },
   "source": [
    "> <p><small><small>Copyright 2022 DeepMind Technologies Limited.</small></p>\n",
    "> <p><small><small>Licensed under the Apache License, Version 2.0 (the \"License\"); you may not use this file except in compliance with the License. You may obtain a copy of the License at <a href=\"http://www.apache.org/licenses/LICENSE-2.0\">http://www.apache.org/licenses/LICENSE-2.0</a>.</small></small></p>\n",
    "> <p><small><small>Unless required by applicable law or agreed to in writing, software distributed under the License is distributed on an \"AS IS\" BASIS, WITHOUT WARRANTIES OR CONDITIONS OF ANY KIND, either express or implied. See the License for the specific language governing permissions and limitations under the License.</small></small></p>"
   ]
  },
  {
   "cell_type": "markdown",
   "metadata": {
    "id": "YvyGCsgSCxHQ"
   },
   "source": [
    "# Install MuJoCo"
   ]
  },
  {
   "cell_type": "code",
   "execution_count": 1,
   "metadata": {
    "id": "Xqo7pyX-n72M",
    "tags": []
   },
   "outputs": [
    {
     "name": "stdout",
     "output_type": "stream",
     "text": [
      "Requirement already satisfied: mujoco in /opt/conda/lib/python3.10/site-packages/mujoco-2.3.2-py3.10-linux-x86_64.egg (2.3.2)\n",
      "Requirement already satisfied: absl-py in /opt/conda/lib/python3.10/site-packages/absl_py-1.4.0-py3.10.egg (from mujoco) (1.4.0)\n",
      "Requirement already satisfied: glfw in /opt/conda/lib/python3.10/site-packages/glfw-2.5.6-py3.10-linux-x86_64.egg (from mujoco) (2.5.6)\n",
      "Requirement already satisfied: numpy in /opt/conda/lib/python3.10/site-packages (from mujoco) (1.22.3)\n",
      "Requirement already satisfied: pyopengl in /opt/conda/lib/python3.10/site-packages/PyOpenGL-3.1.6-py3.10.egg (from mujoco) (3.1.6)\n",
      "\u001b[33mWARNING: Running pip as the 'root' user can result in broken permissions and conflicting behaviour with the system package manager. It is recommended to use a virtual environment instead: https://pip.pypa.io/warnings/venv\u001b[0m\u001b[33m\n",
      "\u001b[0m"
     ]
    }
   ],
   "source": [
    "!pip install mujoco"
   ]
  },
  {
   "cell_type": "code",
   "execution_count": 2,
   "metadata": {
    "id": "IbZxYDxzoz5R",
    "tags": []
   },
   "outputs": [
    {
     "name": "stdout",
     "output_type": "stream",
     "text": [
      "Tue Mar 14 18:59:12 2023       \n",
      "+-----------------------------------------------------------------------------+\n",
      "| NVIDIA-SMI 525.60.11    Driver Version: 525.60.11    CUDA Version: 12.0     |\n",
      "|-------------------------------+----------------------+----------------------+\n",
      "| GPU  Name        Persistence-M| Bus-Id        Disp.A | Volatile Uncorr. ECC |\n",
      "| Fan  Temp  Perf  Pwr:Usage/Cap|         Memory-Usage | GPU-Util  Compute M. |\n",
      "|                               |                      |               MIG M. |\n",
      "|===============================+======================+======================|\n",
      "|   0  NVIDIA GeForce ...  On   | 00000000:02:00.0 Off |                  N/A |\n",
      "|  0%   25C    P8     7W / 150W |      9MiB /  8192MiB |      0%      Default |\n",
      "|                               |                      |                  N/A |\n",
      "+-------------------------------+----------------------+----------------------+\n",
      "                                                                               \n",
      "+-----------------------------------------------------------------------------+\n",
      "| Processes:                                                                  |\n",
      "|  GPU   GI   CI        PID   Type   Process name                  GPU Memory |\n",
      "|        ID   ID                                                   Usage      |\n",
      "|=============================================================================|\n",
      "+-----------------------------------------------------------------------------+\n",
      "Setting environment variable to use GPU rendering:\n",
      "env: MUJOCO_GL=egl\n",
      "Checking that the installation succeeded:\n",
      "Installation successful.\n"
     ]
    }
   ],
   "source": [
    "#@title Check if installation was successful\n",
    "\n",
    "# from google.colab import files\n",
    "\n",
    "import distutils.util\n",
    "import subprocess\n",
    "if subprocess.run('nvidia-smi').returncode:\n",
    "  raise RuntimeError(\n",
    "      'Cannot communicate with GPU. '\n",
    "      'Make sure you are using a GPU Colab runtime. '\n",
    "      'Go to the Runtime menu and select Choose runtime type.')\n",
    "# Configure MuJoCo to use the EGL rendering backend (requires GPU)\n",
    "print('Setting environment variable to use GPU rendering:')\n",
    "%env MUJOCO_GL=egl\n",
    "\n",
    "try:\n",
    "  print('Checking that the installation succeeded:')\n",
    "  import mujoco\n",
    "  mujoco.MjModel.from_xml_string('<mujoco/>')\n",
    "except Exception as e:\n",
    "  raise e from RuntimeError(\n",
    "      'Something went wrong during installation. Check the shell output above '\n",
    "      'for more information.\\n'\n",
    "      'If using a hosted Colab runtime, make sure you enable GPU acceleration '\n",
    "      'by going to the Runtime menu and selecting \"Choose runtime type\".')\n",
    "\n",
    "print('Installation successful.')"
   ]
  },
  {
   "cell_type": "code",
   "execution_count": 3,
   "metadata": {
    "cellView": "form",
    "id": "T5f4w3Kq2X14",
    "tags": []
   },
   "outputs": [
    {
     "name": "stdout",
     "output_type": "stream",
     "text": [
      "Installing mediapy:\n",
      "\u001b[33mWARNING: Running pip as the 'root' user can result in broken permissions and conflicting behaviour with the system package manager. It is recommended to use a virtual environment instead: https://pip.pypa.io/warnings/venv\u001b[0m\u001b[33m\n",
      "\u001b[0m"
     ]
    }
   ],
   "source": [
    "#@title Import packages for plotting and creating graphics\n",
    "import time\n",
    "import itertools\n",
    "import numpy as np\n",
    "from typing import Callable, NamedTuple, Optional, Union, List\n",
    "\n",
    "# Graphics and plotting.\n",
    "print('Installing mediapy:')\n",
    "!command -v ffmpeg >/dev/null || (apt update && apt install -y ffmpeg)\n",
    "!pip install -q mediapy\n",
    "import mediapy as media\n",
    "import matplotlib.pyplot as plt\n",
    "\n",
    "# More legible printing from numpy.\n",
    "np.set_printoptions(precision=3, suppress=True, linewidth=100)"
   ]
  },
  {
   "cell_type": "markdown",
   "metadata": {
    "id": "t0CF6Gvkt_Cw"
   },
   "source": [
    "# MuJoCo basics\n",
    "\n",
    "We begin by defining and loading a simple model:"
   ]
  },
  {
   "cell_type": "code",
   "execution_count": 4,
   "metadata": {
    "id": "3KJVqak6xdJa",
    "tags": []
   },
   "outputs": [],
   "source": [
    "xml = \"\"\"\n",
    "<mujoco>\n",
    "  <worldbody>\n",
    "    <geom name=\"red_box\" type=\"box\" size=\".2 .2 .2\" rgba=\"1 0 0 1\"/>\n",
    "    <geom name=\"green_sphere\" pos=\".2 .2 .2\" size=\".1\" rgba=\"0 1 0 1\"/>\n",
    "  </worldbody>\n",
    "</mujoco>\n",
    "\"\"\"\n",
    "model = mujoco.MjModel.from_xml_string(xml)"
   ]
  },
  {
   "cell_type": "markdown",
   "metadata": {
    "id": "slhf39lGxvDI"
   },
   "source": [
    "The `xml` string is written in MuJoCo's [MJCF](http://www.mujoco.org/book/modeling.html), which is an [XML](https://en.wikipedia.org/wiki/XML#Key_terminology)-based modeling language.\n",
    "  - The only required element is `<mujoco>`. The smallest valid MJCF model is `<mujoco/>` which is a completely empty model.\n",
    "  - All physical elements live inside the `<worldbody>` which is always the top-level body and constitutes the global origin in Cartesian coordinates.\n",
    "  - We define two geoms in the world named `red_box` and `green_sphere`.\n",
    "  - **Question:** The `red_box` has no position, the `green_sphere` has no type, why is that?\n",
    "    - **Answer:** MJCF attributes have *default values*. The default position is `0 0 0`, the default geom type is `sphere`. The MJCF language is described in the documentation's [XML Reference chapter](https://mujoco.readthedocs.io/en/latest/XMLreference.html).\n",
    "\n",
    "The `from_xml_string()` method invokes the model compiler, which creates a binary `mjModel` instance."
   ]
  },
  {
   "cell_type": "markdown",
   "metadata": {
    "id": "gf9h_wi9weet"
   },
   "source": [
    "## mjModel\n",
    "\n",
    "MuJoCo's `mjModel`, contains the *model description*, i.e., all quantities which *do not change over time*. The complete description of `mjModel` can be found at the end of the header file [`mjmodel.h`](https://github.com/deepmind/mujoco/blob/main/include/mujoco/mjmodel.h). Note that the header files contain short, useful inline comments, describing each field.\n",
    "\n",
    "Examples of quantities that can be found in `mjModel` are `ngeom`, the number of geoms in the scene and `geom_rgba`, their respective colors:"
   ]
  },
  {
   "cell_type": "code",
   "execution_count": 5,
   "metadata": {
    "id": "F40Pe6DY3Q0g",
    "tags": []
   },
   "outputs": [
    {
     "data": {
      "text/plain": [
       "2"
      ]
     },
     "execution_count": 5,
     "metadata": {},
     "output_type": "execute_result"
    }
   ],
   "source": [
    "model.ngeom"
   ]
  },
  {
   "cell_type": "code",
   "execution_count": 6,
   "metadata": {
    "id": "MOIJG9pzx8cA",
    "tags": []
   },
   "outputs": [
    {
     "data": {
      "text/plain": [
       "array([[1., 0., 0., 1.],\n",
       "       [0., 1., 0., 1.]], dtype=float32)"
      ]
     },
     "execution_count": 6,
     "metadata": {},
     "output_type": "execute_result"
    }
   ],
   "source": [
    "model.geom_rgba"
   ]
  },
  {
   "cell_type": "markdown",
   "metadata": {
    "id": "bzcLjdY23Kvp"
   },
   "source": [
    "## Named access\n",
    "\n",
    "The MuJoCo Python bindings provide convenient [accessors](https://mujoco.readthedocs.io/en/latest/python.html#named-access) using names. Calling the `model.geom()` accessor without a name string generates a convenient error that tells us what the valid names are."
   ]
  },
  {
   "cell_type": "code",
   "execution_count": 7,
   "metadata": {
    "id": "9AuTwbLFyJxQ",
    "tags": []
   },
   "outputs": [
    {
     "name": "stdout",
     "output_type": "stream",
     "text": [
      "\"Invalid name ''. Valid names: ['green_sphere', 'red_box']\"\n"
     ]
    }
   ],
   "source": [
    "try:\n",
    "  model.geom()\n",
    "except KeyError as e:\n",
    "  print(e)"
   ]
  },
  {
   "cell_type": "markdown",
   "metadata": {
    "id": "qkfLK3h2zrqr"
   },
   "source": [
    "Calling the named accessor without specifying a property will tell us what all the valid properties are:"
   ]
  },
  {
   "cell_type": "code",
   "execution_count": 8,
   "metadata": {
    "id": "9X95TlWnyEEw",
    "tags": []
   },
   "outputs": [
    {
     "data": {
      "text/plain": [
       "<_MjModelGeomViews\n",
       "  bodyid: array([0], dtype=int32)\n",
       "  conaffinity: array([1], dtype=int32)\n",
       "  condim: array([3], dtype=int32)\n",
       "  contype: array([1], dtype=int32)\n",
       "  dataid: array([-1], dtype=int32)\n",
       "  friction: array([1.   , 0.005, 0.   ])\n",
       "  gap: array([0.])\n",
       "  group: array([0], dtype=int32)\n",
       "  id: 1\n",
       "  margin: array([0.])\n",
       "  matid: array([-1], dtype=int32)\n",
       "  name: 'green_sphere'\n",
       "  pos: array([0.2, 0.2, 0.2])\n",
       "  priority: array([0], dtype=int32)\n",
       "  quat: array([1., 0., 0., 0.])\n",
       "  rbound: array([0.1])\n",
       "  rgba: array([0., 1., 0., 1.], dtype=float32)\n",
       "  sameframe: array([0], dtype=uint8)\n",
       "  size: array([0.1, 0. , 0. ])\n",
       "  solimp: array([0.9  , 0.95 , 0.001, 0.5  , 2.   ])\n",
       "  solmix: array([1.])\n",
       "  solref: array([0.02, 1.  ])\n",
       "  type: array([2], dtype=int32)\n",
       "  user: array([], dtype=float64)\n",
       ">"
      ]
     },
     "execution_count": 8,
     "metadata": {},
     "output_type": "execute_result"
    }
   ],
   "source": [
    "model.geom('green_sphere')"
   ]
  },
  {
   "cell_type": "markdown",
   "metadata": {
    "id": "mS9qDLevKsJq"
   },
   "source": [
    "Let's read the `green_sphere`'s rgba values:"
   ]
  },
  {
   "cell_type": "code",
   "execution_count": 9,
   "metadata": {
    "id": "xsBlJAV7zpHb",
    "tags": []
   },
   "outputs": [
    {
     "data": {
      "text/plain": [
       "array([0., 1., 0., 1.], dtype=float32)"
      ]
     },
     "execution_count": 9,
     "metadata": {},
     "output_type": "execute_result"
    }
   ],
   "source": [
    "model.geom('green_sphere').rgba"
   ]
  },
  {
   "cell_type": "markdown",
   "metadata": {
    "id": "8a8hswjjKyIa"
   },
   "source": [
    "This functionality is a convenience shortcut for MuJoCo's [`mj_name2id`](https://mujoco.readthedocs.io/en/latest/APIreference.html?highlight=mj_name2id#mj-name2id) function:"
   ]
  },
  {
   "cell_type": "code",
   "execution_count": 10,
   "metadata": {
    "id": "Ng92hNUoKnVq",
    "tags": []
   },
   "outputs": [
    {
     "data": {
      "text/plain": [
       "array([0., 1., 0., 1.], dtype=float32)"
      ]
     },
     "execution_count": 10,
     "metadata": {},
     "output_type": "execute_result"
    }
   ],
   "source": [
    "id = mujoco.mj_name2id(model, mujoco.mjtObj.mjOBJ_GEOM, 'green_sphere')\n",
    "model.geom_rgba[id, :]"
   ]
  },
  {
   "cell_type": "markdown",
   "metadata": {
    "id": "5WL_SaJPLl3r"
   },
   "source": [
    "Similarly, the read-only `id` and `name` properties can be used to convert from id to name and back:"
   ]
  },
  {
   "cell_type": "code",
   "execution_count": 11,
   "metadata": {
    "id": "2CbGSmRZeE5p",
    "tags": []
   },
   "outputs": [
    {
     "name": "stdout",
     "output_type": "stream",
     "text": [
      "id of \"green_sphere\":  1\n",
      "name of geom 1:  green_sphere\n",
      "name of body 0:  world\n"
     ]
    }
   ],
   "source": [
    "print('id of \"green_sphere\": ', model.geom('green_sphere').id)\n",
    "print('name of geom 1: ', model.geom(1).name)\n",
    "print('name of body 0: ', model.body(0).name)"
   ]
  },
  {
   "cell_type": "markdown",
   "metadata": {
    "id": "3RIizubaL_du"
   },
   "source": [
    "Note that the 0th body is always the `world`. It cannot be renamed.\n",
    "\n",
    "The `id` and `name` attributes are useful in Python comprehensions:"
   ]
  },
  {
   "cell_type": "code",
   "execution_count": 12,
   "metadata": {
    "id": "m3MtIE5F1K7s",
    "tags": []
   },
   "outputs": [
    {
     "data": {
      "text/plain": [
       "['red_box', 'green_sphere']"
      ]
     },
     "execution_count": 12,
     "metadata": {},
     "output_type": "execute_result"
    }
   ],
   "source": [
    "[model.geom(i).name for i in range(model.ngeom)]"
   ]
  },
  {
   "cell_type": "markdown",
   "metadata": {
    "id": "t5hY0fyXFLcf"
   },
   "source": [
    "## `mjData`\n",
    "`mjData` contains the *state* and quantities that depend on it. The state is made up of time, [generalized](https://en.wikipedia.org/wiki/Generalized_coordinates) positions and generalized velocities. These are respectively `data.time`, `data.qpos` and `data.qvel`. In order to make a new `mjData`, all we need is our `mjModel`"
   ]
  },
  {
   "cell_type": "code",
   "execution_count": 13,
   "metadata": {
    "id": "FV2Hy6m948nr",
    "tags": []
   },
   "outputs": [],
   "source": [
    "data = mujoco.MjData(model)"
   ]
  },
  {
   "cell_type": "markdown",
   "metadata": {
    "id": "-KmNuvlJ46u0"
   },
   "source": [
    "`mjData` also contains *functions of the state*, for example the Cartesian positions of objects in the world frame. The (x, y, z) positions of our two geoms are in `data.geom_xpos`:"
   ]
  },
  {
   "cell_type": "code",
   "execution_count": 14,
   "metadata": {
    "id": "CPwDcAQ0-uUE",
    "tags": []
   },
   "outputs": [
    {
     "name": "stdout",
     "output_type": "stream",
     "text": [
      "[[0. 0. 0.]\n",
      " [0. 0. 0.]]\n"
     ]
    }
   ],
   "source": [
    "print(data.geom_xpos)"
   ]
  },
  {
   "cell_type": "markdown",
   "metadata": {
    "id": "Sjst5xGXX3sr"
   },
   "source": [
    "Wait, why are both of our geoms at the origin? Didn't we offset the green sphere? The answer is that derived quantities in `mjData` need to be explicitly propagated (see [below](#scrollTo=QY1gpms1HXeN)). In our case, the minimal required function is [`mj_kinematics`](https://mujoco.readthedocs.io/en/latest/APIreference.html#mj-kinematics), which computes global Cartesian poses for all objects (excluding cameras and lights)."
   ]
  },
  {
   "cell_type": "code",
   "execution_count": 15,
   "metadata": {
    "id": "tfe0YeZRYNTr",
    "tags": []
   },
   "outputs": [
    {
     "name": "stdout",
     "output_type": "stream",
     "text": [
      "raw access:\n",
      " [[0.  0.  0. ]\n",
      " [0.2 0.2 0.2]]\n",
      "\n",
      "named access:\n",
      " [0.2 0.2 0.2]\n"
     ]
    }
   ],
   "source": [
    "mujoco.mj_kinematics(model, data)\n",
    "print('raw access:\\n', data.geom_xpos)\n",
    "\n",
    "# MjData also supports named access:\n",
    "print('\\nnamed access:\\n', data.geom('green_sphere').xpos)"
   ]
  },
  {
   "cell_type": "markdown",
   "metadata": {
    "id": "eU7uWNsTwmcZ"
   },
   "source": [
    "# Basic rendering, simulation, and animation\n",
    "\n",
    "In order to render we'll need to instantiate a `Renderer` object and call its `render` method.\n",
    "\n",
    "We'll also reload our model to make the colab's sections independent."
   ]
  },
  {
   "cell_type": "code",
   "execution_count": 16,
   "metadata": {
    "id": "xK3c0-UDxMrN",
    "tags": []
   },
   "outputs": [
    {
     "data": {
      "text/html": [
       "<table class=\"show_images\" style=\"border-spacing:0px;\"><tr><td style=\"padding:1px;\"><img width=\"320\" height=\"240\" style=\"image-rendering:auto; object-fit:cover;\" src=\"data:image/png;base64,iVBORw0KGgoAAAANSUhEUgAAAUAAAADwCAIAAAD+Tyo8AAAA9UlEQVR4nO3BAQEAAACCIP+vbkhAAQAAAAAAAAAAAAAAAAAAAAAAAAAAAAAAAAAAAAAAAAAAAAAAAAAAAAAAAAAAAAAAAAAAAAAAAAAAAAAAAAAAAAAAAAAAAAAAAAAAAAAAAAAAAAAAAAAAAAAAAAAAAAAAAAAAAAAAAAAAAAAAAAAAAAAAAAAAAAAAAAAAAAAAAAAAAAAAAAAAAAAAAAAAAAAAAAAAAAAAAAAAAAAAAAAAAAAAAAAAAAAAAAAAAAAAAAAAAAAAAAAAAAAAAAAAAAAAAAAAAAAAAAAAAAAAAAAAAAAAAAAAAAAAAAAAAAAAAPBohR0AAXbPpmUAAAAASUVORK5CYII=\"/></td></tr></table>"
      ],
      "text/plain": [
       "<IPython.core.display.HTML object>"
      ]
     },
     "metadata": {},
     "output_type": "display_data"
    }
   ],
   "source": [
    "xml = \"\"\"\n",
    "<mujoco>\n",
    "  <worldbody>\n",
    "    <geom name=\"red_box\" type=\"box\" size=\".2 .2 .2\" rgba=\"1 0 0 1\"/>\n",
    "    <geom name=\"green_sphere\" pos=\".2 .2 .2\" size=\".1\" rgba=\"0 1 0 1\"/>\n",
    "  </worldbody>\n",
    "</mujoco>\n",
    "\"\"\"\n",
    "# Make model and data\n",
    "model = mujoco.MjModel.from_xml_string(xml)\n",
    "data = mujoco.MjData(model)\n",
    "\n",
    "# Make renderer, render and show the pixels\n",
    "renderer = mujoco.Renderer(model)\n",
    "media.show_image(renderer.render())"
   ]
  },
  {
   "cell_type": "markdown",
   "metadata": {
    "id": "ZkFSHeYGxlT5"
   },
   "source": [
    "Hmmm, why the black pixels?\n",
    "\n",
    "**Answer:** For the same reason as above, we first need to propagate the values in `mjData`. This time we'll call [`mj_forward`](https://mujoco.readthedocs.io/en/latest/APIreference.html#mj-forward), which invokes the entire pipeline up to the computation of accelerations i.e., it computes $\\dot x = f(x)$, where $x$ is the state. This function does more than we actually need, but unless we care about saving computation time, it's good practice to call `mj_forward` since then we know we are not missing anything.\n",
    "\n",
    "We also need to update the `mjvScene` which is an object held by the renderer describing the visual scene. We'll later see that the scene can include visual objects which are not part of the physical model."
   ]
  },
  {
   "cell_type": "code",
   "execution_count": 19,
   "metadata": {
    "id": "pvh47r97huS4",
    "tags": []
   },
   "outputs": [
    {
     "data": {
      "text/html": [
       "<table class=\"show_images\" style=\"border-spacing:0px;\"><tr><td style=\"padding:1px;\"><img width=\"320\" height=\"240\" style=\"image-rendering:auto; object-fit:cover;\" src=\"data:image/png;base64,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\"/></td></tr></table>"
      ],
      "text/plain": [
       "<IPython.core.display.HTML object>"
      ]
     },
     "metadata": {},
     "output_type": "display_data"
    }
   ],
   "source": [
    "mujoco.mj_forward(model, data)\n",
    "renderer.update_scene(data)\n",
    "\n",
    "media.show_image(renderer.render())"
   ]
  },
  {
   "cell_type": "code",
   "execution_count": 18,
   "metadata": {
    "tags": []
   },
   "outputs": [],
   "source": [
    "import os\n",
    "DARM_XML_FILE = f\"{os.getenv('DARM_MUJOCO_PATH')}/mujoco_env/darm.xml\"\n",
    "xml_path = DARM_XML_FILE\n",
    "\n",
    "model = mujoco.MjModel.from_xml_path(xml_path)\n",
    "data = mujoco.MjData(model)\n",
    "renderer = mujoco.Renderer(model)"
   ]
  },
  {
   "cell_type": "markdown",
   "metadata": {
    "id": "6oDW1dOUifw6"
   },
   "source": [
    "This worked, but this image is a bit dark. Let's add a light and re-render."
   ]
  },
  {
   "cell_type": "code",
   "execution_count": 18,
   "metadata": {
    "id": "iqzJj2NIr_2V",
    "tags": []
   },
   "outputs": [
    {
     "data": {
      "text/html": [
       "<table class=\"show_images\" style=\"border-spacing:0px;\"><tr><td style=\"padding:1px;\"><img width=\"320\" height=\"240\" style=\"image-rendering:auto; object-fit:cover;\" src=\"data:image/png;base64,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\"/></td></tr></table>"
      ],
      "text/plain": [
       "<IPython.core.display.HTML object>"
      ]
     },
     "metadata": {},
     "output_type": "display_data"
    }
   ],
   "source": [
    "xml = \"\"\"\n",
    "<mujoco>\n",
    "  <worldbody>\n",
    "    <light name=\"top\" pos=\"0 0 1\"/>\n",
    "    <geom name=\"red_box\" type=\"box\" size=\".2 .2 .2\" rgba=\"1 0 0 1\"/>\n",
    "    <geom name=\"green_sphere\" pos=\".2 .2 .2\" size=\".1\" rgba=\"0 1 0 1\"/>\n",
    "  </worldbody>\n",
    "</mujoco>\n",
    "\"\"\"\n",
    "model = mujoco.MjModel.from_xml_string(xml)\n",
    "data = mujoco.MjData(model)\n",
    "renderer = mujoco.Renderer(model)\n",
    "\n",
    "mujoco.mj_forward(model, data)\n",
    "renderer.update_scene(data)\n",
    "\n",
    "media.show_image(renderer.render())"
   ]
  },
  {
   "cell_type": "markdown",
   "metadata": {
    "id": "HS4K38Eirww9"
   },
   "source": [
    "Much better!\n",
    "\n",
    "Note that all values in the `mjModel` instance are writable. While it's generally not recommended to do this but rather to change the values in the XML, because it's easy to make an invalid model, some values are safe to write into, for example colors:"
   ]
  },
  {
   "cell_type": "code",
   "execution_count": 24,
   "metadata": {
    "id": "GBNcQVYJrt2h",
    "tags": []
   },
   "outputs": [
    {
     "data": {
      "text/html": [
       "<table class=\"show_images\" style=\"border-spacing:0px;\"><tr><td style=\"padding:1px;\"><img width=\"320\" height=\"240\" style=\"image-rendering:auto; object-fit:cover;\" src=\"data:image/png;base64,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\"/></td></tr></table>"
      ],
      "text/plain": [
       "<IPython.core.display.HTML object>"
      ]
     },
     "metadata": {},
     "output_type": "display_data"
    }
   ],
   "source": [
    "# Run this cell multiple times for different colors\n",
    "model.geom('red_box').rgba[:3] = np.random.rand(3)\n",
    "renderer.update_scene(data)\n",
    "media.show_image(renderer.render())"
   ]
  },
  {
   "cell_type": "markdown",
   "metadata": {
    "id": "-P95E-QHizQq"
   },
   "source": [
    "# Simulation\n",
    "\n",
    "Now let's simulate and make a video. We'll use MuJoCo's main high level function `mj_step`, which steps the state $x_{t+h} = f(x_t)$.\n",
    "\n",
    "Note that in the code block below we are *not* rendering after each call to `mj_step`. This is because the default timestep is 2ms, and we want a 60fps video, not 500fps."
   ]
  },
  {
   "cell_type": "code",
   "execution_count": 27,
   "metadata": {
    "id": "NdVnHOYisiKl",
    "tags": []
   },
   "outputs": [
    {
     "ename": "RuntimeError",
     "evalue": "Error writing '/tmp/tmpm3yzj2q4/file.mp4': Unrecognized option 'qp'.\nError splitting the argument list: Option not found\n",
     "output_type": "error",
     "traceback": [
      "\u001b[0;31m---------------------------------------------------------------------------\u001b[0m",
      "\u001b[0;31mBrokenPipeError\u001b[0m                           Traceback (most recent call last)",
      "File \u001b[0;32m/opt/conda/lib/python3.10/site-packages/mediapy/__init__.py:1663\u001b[0m, in \u001b[0;36mwrite_video\u001b[0;34m(path, images, **kwargs)\u001b[0m\n\u001b[1;32m   1662\u001b[0m \u001b[38;5;28;01mfor\u001b[39;00m image \u001b[38;5;129;01min\u001b[39;00m images:\n\u001b[0;32m-> 1663\u001b[0m   \u001b[43mwriter\u001b[49m\u001b[38;5;241;43m.\u001b[39;49m\u001b[43madd_image\u001b[49m\u001b[43m(\u001b[49m\u001b[43mimage\u001b[49m\u001b[43m)\u001b[49m\n",
      "File \u001b[0;32m/opt/conda/lib/python3.10/site-packages/mediapy/__init__.py:1572\u001b[0m, in \u001b[0;36mVideoWriter.add_image\u001b[0;34m(self, image)\u001b[0m\n\u001b[1;32m   1571\u001b[0m \u001b[38;5;28;01massert\u001b[39;00m \u001b[38;5;28mself\u001b[39m\u001b[38;5;241m.\u001b[39m_proc\u001b[38;5;241m.\u001b[39mstdin\n\u001b[0;32m-> 1572\u001b[0m \u001b[38;5;28;01mif\u001b[39;00m \u001b[38;5;28;43mself\u001b[39;49m\u001b[38;5;241;43m.\u001b[39;49m\u001b[43m_proc\u001b[49m\u001b[38;5;241;43m.\u001b[39;49m\u001b[43mstdin\u001b[49m\u001b[38;5;241;43m.\u001b[39;49m\u001b[43mwrite\u001b[49m\u001b[43m(\u001b[49m\u001b[43mdata\u001b[49m\u001b[43m)\u001b[49m \u001b[38;5;241m!=\u001b[39m \u001b[38;5;28mlen\u001b[39m(data):\n\u001b[1;32m   1573\u001b[0m   \u001b[38;5;28mself\u001b[39m\u001b[38;5;241m.\u001b[39m_proc\u001b[38;5;241m.\u001b[39mwait()\n",
      "\u001b[0;31mBrokenPipeError\u001b[0m: [Errno 32] Broken pipe",
      "\nDuring handling of the above exception, another exception occurred:\n",
      "\u001b[0;31mRuntimeError\u001b[0m                              Traceback (most recent call last)",
      "Cell \u001b[0;32mIn[27], line 13\u001b[0m\n\u001b[1;32m     11\u001b[0m     pixels \u001b[38;5;241m=\u001b[39m renderer\u001b[38;5;241m.\u001b[39mrender()\u001b[38;5;241m.\u001b[39mcopy()\n\u001b[1;32m     12\u001b[0m     frames\u001b[38;5;241m.\u001b[39mappend(pixels)\n\u001b[0;32m---> 13\u001b[0m \u001b[43mmedia\u001b[49m\u001b[38;5;241;43m.\u001b[39;49m\u001b[43mshow_video\u001b[49m\u001b[43m(\u001b[49m\u001b[43mframes\u001b[49m\u001b[43m,\u001b[49m\u001b[43m \u001b[49m\u001b[43mfps\u001b[49m\u001b[38;5;241;43m=\u001b[39;49m\u001b[43mframerate\u001b[49m\u001b[43m)\u001b[49m\n",
      "File \u001b[0;32m/opt/conda/lib/python3.10/site-packages/mediapy/__init__.py:1772\u001b[0m, in \u001b[0;36mshow_video\u001b[0;34m(images, title, **kwargs)\u001b[0m\n\u001b[1;32m   1749\u001b[0m \u001b[38;5;28;01mdef\u001b[39;00m \u001b[38;5;21mshow_video\u001b[39m(\n\u001b[1;32m   1750\u001b[0m     images: Iterable[_NDArray], \u001b[38;5;241m*\u001b[39m, title: \u001b[38;5;28mstr\u001b[39m \u001b[38;5;241m|\u001b[39m \u001b[38;5;28;01mNone\u001b[39;00m \u001b[38;5;241m=\u001b[39m \u001b[38;5;28;01mNone\u001b[39;00m, \u001b[38;5;241m*\u001b[39m\u001b[38;5;241m*\u001b[39mkwargs: Any\n\u001b[1;32m   1751\u001b[0m ) \u001b[38;5;241m-\u001b[39m\u001b[38;5;241m>\u001b[39m \u001b[38;5;28mstr\u001b[39m \u001b[38;5;241m|\u001b[39m \u001b[38;5;28;01mNone\u001b[39;00m:\n\u001b[1;32m   1752\u001b[0m \u001b[38;5;250m  \u001b[39m\u001b[38;5;124;03m\"\"\"Displays a video in the IPython notebook and optionally saves it to a file.\u001b[39;00m\n\u001b[1;32m   1753\u001b[0m \n\u001b[1;32m   1754\u001b[0m \u001b[38;5;124;03m  See `show_videos`.\u001b[39;00m\n\u001b[0;32m   (...)\u001b[0m\n\u001b[1;32m   1770\u001b[0m \u001b[38;5;124;03m    html string if `return_html` is `True`.\u001b[39;00m\n\u001b[1;32m   1771\u001b[0m \u001b[38;5;124;03m  \"\"\"\u001b[39;00m\n\u001b[0;32m-> 1772\u001b[0m   \u001b[38;5;28;01mreturn\u001b[39;00m \u001b[43mshow_videos\u001b[49m\u001b[43m(\u001b[49m\u001b[43m[\u001b[49m\u001b[43mimages\u001b[49m\u001b[43m]\u001b[49m\u001b[43m,\u001b[49m\u001b[43m \u001b[49m\u001b[43m[\u001b[49m\u001b[43mtitle\u001b[49m\u001b[43m]\u001b[49m\u001b[43m,\u001b[49m\u001b[43m \u001b[49m\u001b[38;5;241;43m*\u001b[39;49m\u001b[38;5;241;43m*\u001b[39;49m\u001b[43mkwargs\u001b[49m\u001b[43m)\u001b[49m\n",
      "File \u001b[0;32m/opt/conda/lib/python3.10/site-packages/mediapy/__init__.py:1856\u001b[0m, in \u001b[0;36mshow_videos\u001b[0;34m(videos, titles, width, height, downsample, columns, fps, bps, qp, codec, ylabel, html_class, return_html, **kwargs)\u001b[0m\n\u001b[1;32m   1854\u001b[0m   video \u001b[38;5;241m=\u001b[39m [resize_image(image, (h, w)) \u001b[38;5;28;01mfor\u001b[39;00m image \u001b[38;5;129;01min\u001b[39;00m video]\n\u001b[1;32m   1855\u001b[0m   first_image \u001b[38;5;241m=\u001b[39m video[\u001b[38;5;241m0\u001b[39m]\n\u001b[0;32m-> 1856\u001b[0m data \u001b[38;5;241m=\u001b[39m \u001b[43mcompress_video\u001b[49m\u001b[43m(\u001b[49m\n\u001b[1;32m   1857\u001b[0m \u001b[43m    \u001b[49m\u001b[43mvideo\u001b[49m\u001b[43m,\u001b[49m\u001b[43m \u001b[49m\u001b[43mmetadata\u001b[49m\u001b[38;5;241;43m=\u001b[39;49m\u001b[43mmetadata\u001b[49m\u001b[43m,\u001b[49m\u001b[43m \u001b[49m\u001b[43mfps\u001b[49m\u001b[38;5;241;43m=\u001b[39;49m\u001b[43mfps\u001b[49m\u001b[43m,\u001b[49m\u001b[43m \u001b[49m\u001b[43mbps\u001b[49m\u001b[38;5;241;43m=\u001b[39;49m\u001b[43mbps\u001b[49m\u001b[43m,\u001b[49m\u001b[43m \u001b[49m\u001b[43mqp\u001b[49m\u001b[38;5;241;43m=\u001b[39;49m\u001b[43mqp\u001b[49m\u001b[43m,\u001b[49m\u001b[43m \u001b[49m\u001b[43mcodec\u001b[49m\u001b[38;5;241;43m=\u001b[39;49m\u001b[43mcodec\u001b[49m\n\u001b[1;32m   1858\u001b[0m \u001b[43m\u001b[49m\u001b[43m)\u001b[49m\n\u001b[1;32m   1859\u001b[0m \u001b[38;5;28;01mif\u001b[39;00m title \u001b[38;5;129;01mand\u001b[39;00m _config\u001b[38;5;241m.\u001b[39mshow_save_dir:\n\u001b[1;32m   1860\u001b[0m   suffix \u001b[38;5;241m=\u001b[39m _filename_suffix_from_codec(codec)\n",
      "File \u001b[0;32m/opt/conda/lib/python3.10/site-packages/mediapy/__init__.py:1691\u001b[0m, in \u001b[0;36mcompress_video\u001b[0;34m(images, codec, **kwargs)\u001b[0m\n\u001b[1;32m   1689\u001b[0m \u001b[38;5;28;01mwith\u001b[39;00m tempfile\u001b[38;5;241m.\u001b[39mTemporaryDirectory() \u001b[38;5;28;01mas\u001b[39;00m directory_name:\n\u001b[1;32m   1690\u001b[0m   tmp_path \u001b[38;5;241m=\u001b[39m pathlib\u001b[38;5;241m.\u001b[39mPath(directory_name) \u001b[38;5;241m/\u001b[39m \u001b[38;5;124mf\u001b[39m\u001b[38;5;124m'\u001b[39m\u001b[38;5;124mfile\u001b[39m\u001b[38;5;132;01m{\u001b[39;00msuffix\u001b[38;5;132;01m}\u001b[39;00m\u001b[38;5;124m'\u001b[39m\n\u001b[0;32m-> 1691\u001b[0m   \u001b[43mwrite_video\u001b[49m\u001b[43m(\u001b[49m\u001b[43mtmp_path\u001b[49m\u001b[43m,\u001b[49m\u001b[43m \u001b[49m\u001b[43mimages\u001b[49m\u001b[43m,\u001b[49m\u001b[43m \u001b[49m\u001b[43mcodec\u001b[49m\u001b[38;5;241;43m=\u001b[39;49m\u001b[43mcodec\u001b[49m\u001b[43m,\u001b[49m\u001b[43m \u001b[49m\u001b[38;5;241;43m*\u001b[39;49m\u001b[38;5;241;43m*\u001b[39;49m\u001b[43mkwargs\u001b[49m\u001b[43m)\u001b[49m\n\u001b[1;32m   1692\u001b[0m   \u001b[38;5;28;01mreturn\u001b[39;00m tmp_path\u001b[38;5;241m.\u001b[39mread_bytes()\n",
      "File \u001b[0;32m/opt/conda/lib/python3.10/site-packages/mediapy/__init__.py:1661\u001b[0m, in \u001b[0;36mwrite_video\u001b[0;34m(path, images, **kwargs)\u001b[0m\n\u001b[1;32m   1659\u001b[0m   dtype \u001b[38;5;241m=\u001b[39m np\u001b[38;5;241m.\u001b[39mdtype(np\u001b[38;5;241m.\u001b[39muint16)\n\u001b[1;32m   1660\u001b[0m kwargs \u001b[38;5;241m=\u001b[39m {\u001b[38;5;124m'\u001b[39m\u001b[38;5;124mmetadata\u001b[39m\u001b[38;5;124m'\u001b[39m: \u001b[38;5;28mgetattr\u001b[39m(images, \u001b[38;5;124m'\u001b[39m\u001b[38;5;124mmetadata\u001b[39m\u001b[38;5;124m'\u001b[39m, \u001b[38;5;28;01mNone\u001b[39;00m), \u001b[38;5;241m*\u001b[39m\u001b[38;5;241m*\u001b[39mkwargs}\n\u001b[0;32m-> 1661\u001b[0m \u001b[38;5;28;01mwith\u001b[39;00m VideoWriter(path, shape\u001b[38;5;241m=\u001b[39mshape, dtype\u001b[38;5;241m=\u001b[39mdtype, \u001b[38;5;241m*\u001b[39m\u001b[38;5;241m*\u001b[39mkwargs) \u001b[38;5;28;01mas\u001b[39;00m writer:\n\u001b[1;32m   1662\u001b[0m   \u001b[38;5;28;01mfor\u001b[39;00m image \u001b[38;5;129;01min\u001b[39;00m images:\n\u001b[1;32m   1663\u001b[0m     writer\u001b[38;5;241m.\u001b[39madd_image(image)\n",
      "File \u001b[0;32m/opt/conda/lib/python3.10/site-packages/mediapy/__init__.py:1534\u001b[0m, in \u001b[0;36mVideoWriter.__exit__\u001b[0;34m(self, *_)\u001b[0m\n\u001b[1;32m   1533\u001b[0m \u001b[38;5;28;01mdef\u001b[39;00m \u001b[38;5;21m__exit__\u001b[39m(\u001b[38;5;28mself\u001b[39m, \u001b[38;5;241m*\u001b[39m_: Any) \u001b[38;5;241m-\u001b[39m\u001b[38;5;241m>\u001b[39m \u001b[38;5;28;01mNone\u001b[39;00m:\n\u001b[0;32m-> 1534\u001b[0m   \u001b[38;5;28;43mself\u001b[39;49m\u001b[38;5;241;43m.\u001b[39;49m\u001b[43mclose\u001b[49m\u001b[43m(\u001b[49m\u001b[43m)\u001b[49m\n",
      "File \u001b[0;32m/opt/conda/lib/python3.10/site-packages/mediapy/__init__.py:1585\u001b[0m, in \u001b[0;36mVideoWriter.close\u001b[0;34m(self)\u001b[0m\n\u001b[1;32m   1583\u001b[0m \u001b[38;5;28;01mif\u001b[39;00m \u001b[38;5;28mself\u001b[39m\u001b[38;5;241m.\u001b[39m_proc\u001b[38;5;241m.\u001b[39mwait():\n\u001b[1;32m   1584\u001b[0m   s \u001b[38;5;241m=\u001b[39m \u001b[38;5;28mself\u001b[39m\u001b[38;5;241m.\u001b[39m_proc\u001b[38;5;241m.\u001b[39mstderr\u001b[38;5;241m.\u001b[39mread()\u001b[38;5;241m.\u001b[39mdecode()\n\u001b[0;32m-> 1585\u001b[0m   \u001b[38;5;28;01mraise\u001b[39;00m \u001b[38;5;167;01mRuntimeError\u001b[39;00m(\u001b[38;5;124mf\u001b[39m\u001b[38;5;124m\"\u001b[39m\u001b[38;5;124mError writing \u001b[39m\u001b[38;5;124m'\u001b[39m\u001b[38;5;132;01m{\u001b[39;00m\u001b[38;5;28mself\u001b[39m\u001b[38;5;241m.\u001b[39mpath\u001b[38;5;132;01m}\u001b[39;00m\u001b[38;5;124m'\u001b[39m\u001b[38;5;124m: \u001b[39m\u001b[38;5;132;01m{\u001b[39;00ms\u001b[38;5;132;01m}\u001b[39;00m\u001b[38;5;124m\"\u001b[39m)\n\u001b[1;32m   1586\u001b[0m \u001b[38;5;28mself\u001b[39m\u001b[38;5;241m.\u001b[39m_popen\u001b[38;5;241m.\u001b[39m\u001b[38;5;21m__exit__\u001b[39m(\u001b[38;5;28;01mNone\u001b[39;00m, \u001b[38;5;28;01mNone\u001b[39;00m, \u001b[38;5;28;01mNone\u001b[39;00m)\n\u001b[1;32m   1587\u001b[0m \u001b[38;5;28mself\u001b[39m\u001b[38;5;241m.\u001b[39m_popen \u001b[38;5;241m=\u001b[39m \u001b[38;5;28;01mNone\u001b[39;00m\n",
      "\u001b[0;31mRuntimeError\u001b[0m: Error writing '/tmp/tmpm3yzj2q4/file.mp4': Unrecognized option 'qp'.\nError splitting the argument list: Option not found\n"
     ]
    }
   ],
   "source": [
    "duration = 3.8  # (seconds)\n",
    "framerate = 60  # (Hz)\n",
    "\n",
    "# Simulate and display video.\n",
    "frames = []\n",
    "mujoco.mj_resetData(model, data)  # Reset state and time.\n",
    "while data.time < duration:\n",
    "  mujoco.mj_step(model, data)\n",
    "  if len(frames) < data.time * framerate:\n",
    "    renderer.update_scene(data)\n",
    "    pixels = renderer.render().copy()\n",
    "    frames.append(pixels)\n",
    "media.show_video(frames, fps=framerate)"
   ]
  },
  {
   "cell_type": "markdown",
   "metadata": {
    "id": "tYN4sL9RnsCU"
   },
   "source": [
    "Hmmm, the video is playing, but nothing is moving, why is that?\n",
    "\n",
    "This is because this model has no [degrees of freedom](https://www.google.com/url?sa=D&q=https%3A%2F%2Fen.wikipedia.org%2Fwiki%2FDegrees_of_freedom_(mechanics)) (DoFs). The things that move (and which have inertia) are called *bodies*. We add DoFs by adding *joints* to bodies, specifying how they can move with respect to their parents. Let's make a new body that contains our geoms, add a hinge joint and re-render, while visualizing the joint axis using the visualization option object `MjvOption`."
   ]
  },
  {
   "cell_type": "code",
   "execution_count": null,
   "metadata": {
    "id": "LbWf84VYst5m"
   },
   "outputs": [],
   "source": [
    "xml = \"\"\"\n",
    "<mujoco>\n",
    "  <worldbody>\n",
    "    <light name=\"top\" pos=\"0 0 1\"/>\n",
    "    <body name=\"box_and_sphere\" euler=\"0 0 -30\">\n",
    "      <joint name=\"swing\" type=\"hinge\" axis=\"1 -1 0\" pos=\"-.2 -.2 -.2\"/>\n",
    "      <geom name=\"red_box\" type=\"box\" size=\".2 .2 .2\" rgba=\"1 0 0 1\"/>\n",
    "      <geom name=\"green_sphere\" pos=\".2 .2 .2\" size=\".1\" rgba=\"0 1 0 1\"/>\n",
    "    </body>\n",
    "  </worldbody>\n",
    "</mujoco>\n",
    "\"\"\"\n",
    "model = mujoco.MjModel.from_xml_string(xml)\n",
    "data = mujoco.MjData(model)\n",
    "renderer = mujoco.Renderer(model)\n",
    "\n",
    "# enable joint visualization option:\n",
    "scene_option = mujoco.MjvOption()\n",
    "scene_option.flags[mujoco.mjtVisFlag.mjVIS_JOINT] = True\n",
    "\n",
    "duration = 3.8  # (seconds)\n",
    "framerate = 60  # (Hz)\n",
    "\n",
    "frames = []\n",
    "mujoco.mj_resetData(model, data)\n",
    "while data.time < duration:\n",
    "  mujoco.mj_step(model, data)\n",
    "  if len(frames) < data.time * framerate:\n",
    "    renderer.update_scene(data, scene_option=scene_option)\n",
    "    pixels = renderer.render().copy()\n",
    "    frames.append(pixels)\n",
    "\n",
    "# Simulate and display video.\n",
    "media.show_video(frames, fps=framerate)"
   ]
  },
  {
   "cell_type": "markdown",
   "metadata": {
    "id": "Ymv-tvWCpl6V"
   },
   "source": [
    "Note that we rotated the `box_and_sphere` body by 30° around the Z (vertical) axis, with the directive `euler=\"0 0 -30\"`. This was made to emphasize that the poses of elements in the [kinematic tree](https://www.google.com/url?sa=D&q=https%3A%2F%2Fen.wikipedia.org%2Fwiki%2FKinematic_chain) are always with respect to their *parent body*, so our two geoms were also rotated by this transformation.\n",
    "\n",
    "Physics options live in `mjModel.opt`, for example the timestep:"
   ]
  },
  {
   "cell_type": "code",
   "execution_count": null,
   "metadata": {
    "id": "5yvAJokcpyX_"
   },
   "outputs": [],
   "source": [
    "model.opt.timestep"
   ]
  },
  {
   "cell_type": "markdown",
   "metadata": {
    "id": "SdkwLeGUp9B2"
   },
   "source": [
    "Let's flip gravity and re-render:"
   ]
  },
  {
   "cell_type": "code",
   "execution_count": null,
   "metadata": {
    "id": "ocjPQG8Dp2F-"
   },
   "outputs": [],
   "source": [
    "print('default gravity', model.opt.gravity)\n",
    "model.opt.gravity = (0, 0, 10)\n",
    "print('flipped gravity', model.opt.gravity)\n",
    "\n",
    "frames = []\n",
    "mujoco.mj_resetData(model, data)\n",
    "while data.time < duration:\n",
    "  mujoco.mj_step(model, data)\n",
    "  if len(frames) < data.time * framerate:\n",
    "    renderer.update_scene(data, scene_option=scene_option)\n",
    "    pixels = renderer.render().copy()\n",
    "    frames.append(pixels)\n",
    "\n",
    "media.show_video(frames, fps=60)"
   ]
  },
  {
   "cell_type": "markdown",
   "metadata": {
    "id": "FsxDDgXBqg_J"
   },
   "source": [
    "We could also have done this in XML using the top-level `<option>` element:\n",
    "```xml\n",
    "<mujoco>\n",
    "  <option gravity=\"0 0 10\"/>\n",
    "  ...\n",
    "</mujoco>\n",
    "```"
   ]
  },
  {
   "cell_type": "markdown",
   "metadata": {
    "id": "QY1gpms1HXeN"
   },
   "source": [
    "### Understanding Degrees of Freedom\n",
    "\n",
    "In the real world, all rigid objects have 6 degrees-of-freedom: 3 translations and 3 rotations. Real-world joints act as constraints, removing relative degrees-of-freedom from bodies connected by joints. Some physics simulation software use this representation which is known as the \"Cartesian\" or \"subtractive\" representation, but it is inefficient. MuJoCo uses a representation known as the \"Lagrangian\", \"generalized\" or \"additive\" representation, whereby objects have no degrees of freedom unless explicitly added using joints.\n",
    "\n",
    "Our model, which has a single hinge joint, has one degree of freedom, and the entire state is defined by this joint's angle and angular velocity. These are the system's generalized position and velocity."
   ]
  },
  {
   "cell_type": "code",
   "execution_count": null,
   "metadata": {
    "id": "wEdfGEfSKAOC"
   },
   "outputs": [],
   "source": [
    "print('Total number of DoFs in the model:', model.nv)\n",
    "print('Generalized positions:', data.qpos)\n",
    "print('Generalized velocities:', data.qvel)"
   ]
  },
  {
   "cell_type": "markdown",
   "metadata": {
    "id": "Z8E-P5xONUSn"
   },
   "source": [
    "MuJoCo's use of generalized coordinates is the reason that calling a function (e.g. [`mj_forward`](https://mujoco.readthedocs.io/en/latest/APIreference.html#mj-forward)) is required before rendering or reading the global poses of objects – Cartesian positions are *derived* from the generalized positions and need to be explicitly computed."
   ]
  },
  {
   "cell_type": "markdown",
   "metadata": {
    "id": "SHppAOjvSupc"
   },
   "source": [
    "# Example: Simulating free bodies with the self-inverting \"tippe-top\"\n",
    "\n",
    "A free body is a body with a [free joint](https://www.google.com/url?sa=D&q=https%3A%2F%2Fmujoco.readthedocs.io%2Fen%2Flatest%2FXMLreference.html%3Fhighlight%3Dfreejoint%23body-freejoint) having 6 DoFs, i.e., 3 translations and 3 rotations. We could give our `box_and_sphere` body a free joint and watch it fall, but let's look at something more interesting. A \"tippe top\" is a spinning toy which flips itself ([video](https://www.youtube.com/watch?v=kbYpVrdcszQ), [Wikipedia](https://en.wikipedia.org/wiki/Tippe_top)). We model it as follows:"
   ]
  },
  {
   "cell_type": "code",
   "execution_count": null,
   "metadata": {
    "id": "xasXQpVMjIwA"
   },
   "outputs": [],
   "source": [
    "tippe_top = \"\"\"\n",
    "<mujoco model=\"tippe top\">\n",
    "  <option integrator=\"RK4\"/>\n",
    "\n",
    "  <asset>\n",
    "    <texture name=\"grid\" type=\"2d\" builtin=\"checker\" rgb1=\".1 .2 .3\"\n",
    "     rgb2=\".2 .3 .4\" width=\"300\" height=\"300\"/>\n",
    "    <material name=\"grid\" texture=\"grid\" texrepeat=\"8 8\" reflectance=\".2\"/>\n",
    "  </asset>\n",
    "\n",
    "  <worldbody>\n",
    "    <geom size=\".2 .2 .01\" type=\"plane\" material=\"grid\"/>\n",
    "    <light pos=\"0 0 .6\"/>\n",
    "    <camera name=\"closeup\" pos=\"0 -.1 .07\" xyaxes=\"1 0 0 0 1 2\"/>\n",
    "    <body name=\"top\" pos=\"0 0 .02\">\n",
    "      <freejoint/>\n",
    "      <geom name=\"ball\" type=\"sphere\" size=\".02\" />\n",
    "      <geom name=\"stem\" type=\"cylinder\" pos=\"0 0 .02\" size=\"0.004 .008\"/>\n",
    "      <geom name=\"ballast\" type=\"box\" size=\".023 .023 0.005\"  pos=\"0 0 -.015\"\n",
    "       contype=\"0\" conaffinity=\"0\" group=\"3\"/>\n",
    "    </body>\n",
    "  </worldbody>\n",
    "\n",
    "  <keyframe>\n",
    "    <key name=\"spinning\" qpos=\"0 0 0.02 1 0 0 0\" qvel=\"0 0 0 0 1 200\" />\n",
    "  </keyframe>\n",
    "</mujoco>\n",
    "\"\"\"\n",
    "model = mujoco.MjModel.from_xml_string(tippe_top)\n",
    "renderer = mujoco.Renderer(model)\n",
    "data = mujoco.MjData(model)\n",
    "mujoco.mj_forward(model, data)\n",
    "renderer.update_scene(data, camera=\"closeup\")\n",
    "media.show_image(renderer.render())"
   ]
  },
  {
   "cell_type": "markdown",
   "metadata": {
    "id": "bvHlr6maJYIG"
   },
   "source": [
    "Note several new features of this model definition:\n",
    "1. A 6-DoF free joint is added with the `<freejoint/>` clause.\n",
    "2. We use the `<option/>` clause to set the integrator to the 4th order [Runge Kutta](https://en.wikipedia.org/wiki/Runge%E2%80%93Kutta_methods). Runge-Kutta has a higher rate of convergence than the default Euler integrator, which in many cases increases the accuracy at a given timestep size.\n",
    "3. We define the floor's grid material inside the `<asset/>` clause and reference it in the `\"floor\"` geom.\n",
    "4. We use an invisible and non-colliding box geom called `ballast` to move the top's center-of-mass lower. Having a low center of mass is (counter-intuitively) required for the flipping behavior to occur.\n",
    "5. We save our initial spinning state as a *keyframe*. It has a high rotational velocity around the Z-axis, but is not perfectly oriented with the world, which introduces the symmetry-breaking required for the flipping.\n",
    "6. We define a `<camera>` in our model, and then render from it using the `camera` argument to `update_scene()`.\n",
    "Let us examine the state:\n"
   ]
  },
  {
   "cell_type": "code",
   "execution_count": null,
   "metadata": {
    "id": "o4S9nYhHOKmb"
   },
   "outputs": [],
   "source": [
    "print('positions', data.qpos)\n",
    "print('velocities', data.qvel)"
   ]
  },
  {
   "cell_type": "markdown",
   "metadata": {
    "id": "71UgzBAqWdtZ"
   },
   "source": [
    "The velocities are easy to interpret, 6 zeros, one for each DoF. What about the length 7 positions? We can see the initial 2cm height of the body; the subsequent four numbers are the 3D orientation, defined by a *unit quaternion*. 3D orientations are represented with **4** numbers while angular velocities are **3** numbers. For more information see the Wikipedia article on [quaternions and spatial rotation](https://en.wikipedia.org/wiki/Quaternions_and_spatial_rotation).\n",
    "\n",
    "Let's make a video:"
   ]
  },
  {
   "cell_type": "code",
   "execution_count": null,
   "metadata": {
    "id": "5P4HkhKNGQvs"
   },
   "outputs": [],
   "source": [
    "duration = 7    # (seconds)\n",
    "framerate = 60  # (Hz)\n",
    "\n",
    "# Simulate and display video.\n",
    "frames = []\n",
    "mujoco.mj_resetDataKeyframe(model, data, 0)  # Reset the state to keyframe 0\n",
    "while data.time < duration:\n",
    "  mujoco.mj_step(model, data)\n",
    "  if len(frames) < data.time * framerate:\n",
    "    renderer.update_scene(data, \"closeup\")\n",
    "    pixels = renderer.render().copy()\n",
    "    frames.append(pixels)\n",
    "\n",
    "media.show_video(frames, fps=framerate)"
   ]
  },
  {
   "cell_type": "markdown",
   "metadata": {
    "id": "rRuFKD2ubPgu"
   },
   "source": [
    "### Measuring values from `mjData`\n",
    "As mentioned above, the `mjData` structure contains the dynamic variables and intermediate results produced by the simulation which are *expected to change* on each timestep. Below we simulate for 2000 timesteps and plot the angular velocity of the top and height of the stem as a function of time."
   ]
  },
  {
   "cell_type": "code",
   "execution_count": null,
   "metadata": {
    "id": "1XXB6asJoZ2N"
   },
   "outputs": [],
   "source": [
    "timevals = []\n",
    "angular_velocity = []\n",
    "stem_height = []\n",
    "\n",
    "# Simulate and save data\n",
    "mujoco.mj_resetDataKeyframe(model, data, 0)\n",
    "while data.time < duration:\n",
    "  mujoco.mj_step(model, data)\n",
    "  timevals.append(data.time)\n",
    "  angular_velocity.append(data.qvel[3:6].copy())\n",
    "  stem_height.append(data.geom_xpos[2,2]);\n",
    "\n",
    "dpi = 120\n",
    "width = 600\n",
    "height = 800\n",
    "figsize = (width / dpi, height / dpi)\n",
    "_, ax = plt.subplots(2, 1, figsize=figsize, dpi=dpi, sharex=True)\n",
    "\n",
    "ax[0].plot(timevals, angular_velocity)\n",
    "ax[0].set_title('angular velocity')\n",
    "ax[0].set_ylabel('radians / second')\n",
    "\n",
    "ax[1].plot(timevals, stem_height)\n",
    "ax[1].set_xlabel('time (seconds)')\n",
    "ax[1].set_ylabel('meters')\n",
    "_ = ax[1].set_title('stem height')"
   ]
  },
  {
   "cell_type": "markdown",
   "metadata": {
    "id": "u_zN8vATwcGy"
   },
   "source": [
    "# Example: A chaotic pendulum"
   ]
  },
  {
   "cell_type": "markdown",
   "metadata": {
    "id": "g1MKUEL_eSCM"
   },
   "source": [
    "Below is a model of a chaotic pendulum, similar to [this one](https://www.exploratorium.edu/exhibits/chaotic-pendulum) in the San Francisco Exploratorium. "
   ]
  },
  {
   "cell_type": "code",
   "execution_count": null,
   "metadata": {
    "id": "3jHYTV-bwfrS"
   },
   "outputs": [],
   "source": [
    "chaotic_pendulum = \"\"\"\n",
    "<mujoco>\n",
    "  <option timestep=\".001\">\n",
    "    <flag energy=\"enable\" contact=\"disable\"/>\n",
    "  </option>\n",
    "\n",
    "  <default>\n",
    "    <joint type=\"hinge\" axis=\"0 -1 0\"/>\n",
    "    <geom type=\"capsule\" size=\".02\"/>\n",
    "  </default>\n",
    "\n",
    "  <worldbody>\n",
    "    <light pos=\"0 -.4 1\"/>\n",
    "    <camera name=\"fixed\" pos=\"0 -1 0\" xyaxes=\"1 0 0 0 0 1\"/>\n",
    "    <body name=\"0\" pos=\"0 0 .2\">\n",
    "      <joint name=\"root\"/>\n",
    "      <geom fromto=\"-.2 0 0 .2 0 0\" rgba=\"1 1 0 1\"/>\n",
    "      <geom fromto=\"0 0 0 0 0 -.25\" rgba=\"1 1 0 1\"/>\n",
    "      <body name=\"1\" pos=\"-.2 0 0\">\n",
    "        <joint/>\n",
    "        <geom fromto=\"0 0 0 0 0 -.2\" rgba=\"1 0 0 1\"/>\n",
    "      </body>\n",
    "      <body name=\"2\" pos=\".2 0 0\">\n",
    "        <joint/>\n",
    "        <geom fromto=\"0 0 0 0 0 -.2\" rgba=\"0 1 0 1\"/>\n",
    "      </body>\n",
    "      <body name=\"3\" pos=\"0 0 -.25\">\n",
    "        <joint/>\n",
    "        <geom fromto=\"0 0 0 0 0 -.2\" rgba=\"0 0 1 1\"/>\n",
    "      </body>\n",
    "    </body>\n",
    "  </worldbody>\n",
    "</mujoco>\n",
    "\"\"\"\n",
    "model = mujoco.MjModel.from_xml_string(chaotic_pendulum)\n",
    "renderer = mujoco.Renderer(model, 480, 640)\n",
    "data = mujoco.MjData(model)\n",
    "mujoco.mj_forward(model, data)\n",
    "renderer.update_scene(data, camera=\"fixed\")\n",
    "media.show_image(renderer.render())"
   ]
  },
  {
   "cell_type": "markdown",
   "metadata": {
    "id": "EKZrTBSS5f49"
   },
   "source": [
    "## Timing\n",
    "Let's see a video of it in action while we time the components:"
   ]
  },
  {
   "cell_type": "code",
   "execution_count": null,
   "metadata": {
    "id": "-kNWvE9dNwYW"
   },
   "outputs": [],
   "source": [
    "# setup\n",
    "n_seconds = 6\n",
    "framerate = 30  # Hz\n",
    "n_frames = int(n_seconds * framerate)\n",
    "frames = []\n",
    "renderer = mujoco.Renderer(model, 240, 320)\n",
    "\n",
    "\n",
    "# set initial state\n",
    "mujoco.mj_resetData(model, data)\n",
    "data.joint('root').qvel = 10\n",
    "\n",
    "\n",
    "# simulate and record frames\n",
    "frame = 0\n",
    "sim_time = 0\n",
    "render_time = 0\n",
    "n_steps = 0\n",
    "for i in range(n_frames):\n",
    "  while data.time * framerate < i:\n",
    "    tic = time.time()\n",
    "    mujoco.mj_step(model, data)\n",
    "    sim_time += time.time() - tic\n",
    "    n_steps += 1\n",
    "  tic = time.time()\n",
    "  renderer.update_scene(data, \"fixed\")\n",
    "  frame = renderer.render()\n",
    "  render_time += time.time() - tic\n",
    "  frames.append(frame.copy())\n",
    "\n",
    "# print timing and play video\n",
    "step_time = 1e6*sim_time/n_steps\n",
    "step_fps = n_steps/sim_time\n",
    "print(f'simulation: {step_time:5.3g} μs/step  ({step_fps:5.0f}Hz)')\n",
    "frame_time = 1e6*render_time/n_frames\n",
    "frame_fps = n_frames/render_time\n",
    "print(f'rendering:  {frame_time:5.3g} μs/frame ({frame_fps:5.0f}Hz)')\n",
    "print('\\n')\n",
    "\n",
    "# show video\n",
    "media.show_video(frames, fps=framerate)"
   ]
  },
  {
   "cell_type": "markdown",
   "metadata": {
    "id": "Iqi_m8HT-X5k"
   },
   "source": [
    "Note that rendering is **much** slower than the simulated physics.\n",
    "\n",
    "## Chaos\n",
    "This is a [chaotic](https://en.wikipedia.org/wiki/Chaos_theory) system (small pertubations in initial conditions accumulate quickly):"
   ]
  },
  {
   "cell_type": "code",
   "execution_count": null,
   "metadata": {
    "id": "Pa_19EfvOzzg"
   },
   "outputs": [],
   "source": [
    "PERTURBATION = 1e-7\n",
    "SIM_DURATION = 10 # seconds\n",
    "NUM_REPEATS = 8\n",
    "\n",
    "# preallocate\n",
    "n_steps = int(SIM_DURATION / model.opt.timestep)\n",
    "sim_time = np.zeros(n_steps)\n",
    "angle = np.zeros(n_steps)\n",
    "energy = np.zeros(n_steps)\n",
    "\n",
    "# prepare plotting axes\n",
    "_, ax = plt.subplots(2, 1, figsize=(8, 6), sharex=True)\n",
    "\n",
    "# simulate NUM_REPEATS times with slightly different initial conditions\n",
    "for _ in range(NUM_REPEATS):\n",
    "  # initialize\n",
    "  mujoco.mj_resetData(model, data)\n",
    "  data.qvel[0] = 10 # root joint velocity\n",
    "  # perturb initial velocities\n",
    "  data.qvel[:] += PERTURBATION * np.random.randn(model.nv)\n",
    "\n",
    "  # simulate\n",
    "  for i in range(n_steps):\n",
    "    mujoco.mj_step(model, data)\n",
    "    sim_time[i] = data.time\n",
    "    angle[i] = data.joint('root').qpos\n",
    "    energy[i] = data.energy[0] + data.energy[1]\n",
    "\n",
    "  # plot\n",
    "  ax[0].plot(sim_time, angle)\n",
    "  ax[1].plot(sim_time, energy)\n",
    "\n",
    "# finalize plot\n",
    "ax[0].set_title('root angle')\n",
    "ax[0].set_ylabel('radian')\n",
    "ax[1].set_title('total energy')\n",
    "ax[1].set_ylabel('Joule')\n",
    "ax[1].set_xlabel('second')\n",
    "plt.tight_layout()"
   ]
  },
  {
   "cell_type": "markdown",
   "metadata": {
    "id": "daSIA_ewFGxV"
   },
   "source": [
    "## Timestep and accuracy\n",
    "**Question:** Why is the energy varying at all? There is no friction or damping, this system should conserve energy.\n",
    "\n",
    "**Answer:** Because of the discretization of time.\n",
    "\n",
    "If we decrease the timestep we'll get better accuracy and better energy conservation:"
   ]
  },
  {
   "cell_type": "code",
   "execution_count": null,
   "metadata": {
    "id": "4z-7KN_fFme-"
   },
   "outputs": [],
   "source": [
    "SIM_DURATION = 10 # (seconds)\n",
    "TIMESTEPS = np.power(10, np.linspace(-2, -4, 5))\n",
    "\n",
    "# prepare plotting axes\n",
    "_, ax = plt.subplots(1, 1)\n",
    "\n",
    "for dt in TIMESTEPS:\n",
    "   # set timestep, print\n",
    "  model.opt.timestep = dt\n",
    "\n",
    "  # allocate\n",
    "  n_steps = int(SIM_DURATION / model.opt.timestep)\n",
    "  sim_time = np.zeros(n_steps)\n",
    "  energy = np.zeros(n_steps)\n",
    "\n",
    "  # initialize\n",
    "  mujoco.mj_resetData(model, data)\n",
    "  data.qvel[0] = 9 # root joint velocity\n",
    "\n",
    "  # simulate\n",
    "  print('{} steps at dt = {:2.2g}ms'.format(n_steps, 1000*dt))\n",
    "  for i in range(n_steps):\n",
    "    mujoco.mj_step(model, data)\n",
    "    sim_time[i] = data.time\n",
    "    energy[i] = data.energy[0] + data.energy[1]\n",
    "\n",
    "  # plot\n",
    "  ax.plot(sim_time, energy, label='timestep = {:2.2g}ms'.format(1000*dt))\n",
    "\n",
    "# finalize plot\n",
    "ax.set_title('energy')\n",
    "ax.set_ylabel('Joule')\n",
    "ax.set_xlabel('second')\n",
    "ax.legend(frameon=True);\n",
    "plt.tight_layout()"
   ]
  },
  {
   "cell_type": "markdown",
   "metadata": {
    "id": "jsVkUm7QKb9I"
   },
   "source": [
    "## Timestep and divergence\n",
    "When we increase the time step, the simulation quickly diverges:"
   ]
  },
  {
   "cell_type": "code",
   "execution_count": null,
   "metadata": {
    "id": "FbdUA4zDPbDP"
   },
   "outputs": [],
   "source": [
    "SIM_DURATION = 10 # (seconds)\n",
    "TIMESTEPS = np.power(10, np.linspace(-2, -1.5, 7))\n",
    "\n",
    "# get plotting axes\n",
    "ax = plt.gca()\n",
    "\n",
    "for dt in TIMESTEPS:\n",
    "  # set timestep\n",
    "  model.opt.timestep = dt\n",
    "\n",
    "  # allocate\n",
    "  n_steps = int(SIM_DURATION / model.opt.timestep)\n",
    "  sim_time = np.zeros(n_steps)\n",
    "  energy = np.zeros(n_steps) * np.nan\n",
    "  speed = np.zeros(n_steps) * np.nan\n",
    "\n",
    "  # initialize\n",
    "  mujoco.mj_resetData(model, data)\n",
    "  data.qvel[0] = 11 # set root joint velocity\n",
    "\n",
    "  # simulate\n",
    "  print('simulating {} steps at dt = {:2.2g}ms'.format(n_steps, 1000*dt))\n",
    "  for i in range(n_steps):\n",
    "    mujoco.mj_step(model, data)\n",
    "    if data.warning.number.any():\n",
    "      warning_index = np.nonzero(data.warning.number)[0]\n",
    "      warning = mujoco.mjtWarning(warning_index).name\n",
    "      print(f'stopped due to divergence ({warning}) at timestep {i}.\\n')\n",
    "      break\n",
    "    sim_time[i] = data.time\n",
    "    energy[i] = sum(abs(data.qvel))\n",
    "    speed[i] = np.linalg.norm(data.qvel)\n",
    "\n",
    "  # plot\n",
    "  ax.plot(sim_time, energy, label='timestep = {:2.2g}ms'.format(1000*dt))\n",
    "  ax.set_yscale('log')\n",
    "\n",
    "\n",
    "# finalize plot\n",
    "ax.set_ybound(1, 1e3)\n",
    "ax.set_title('energy')\n",
    "ax.set_ylabel('Joule')\n",
    "ax.set_xlabel('second')\n",
    "ax.legend(frameon=True, loc='lower right');\n",
    "plt.tight_layout()\n"
   ]
  },
  {
   "cell_type": "markdown",
   "metadata": {
    "id": "FITYfGyy3XPL"
   },
   "source": [
    "# Contacts\n",
    "\n",
    "Let's go back to our box and sphere example and give it a free joint:"
   ]
  },
  {
   "cell_type": "code",
   "execution_count": null,
   "metadata": {
    "id": "2n1VNVv_FkbB"
   },
   "outputs": [],
   "source": [
    "free_body_MJCF = \"\"\"\n",
    "<mujoco>\n",
    "  <asset>\n",
    "    <texture name=\"grid\" type=\"2d\" builtin=\"checker\" rgb1=\".1 .2 .3\" \n",
    "    rgb2=\".2 .3 .4\" width=\"300\" height=\"300\" mark=\"edge\" markrgb=\".2 .3 .4\"/>\n",
    "    <material name=\"grid\" texture=\"grid\" texrepeat=\"2 2\" texuniform=\"true\"\n",
    "    reflectance=\".2\"/>\n",
    "  </asset>\n",
    "\n",
    "  <worldbody>\n",
    "    <light pos=\"0 0 1\" mode=\"trackcom\"/>\n",
    "    <geom name=\"ground\" type=\"plane\" pos=\"0 0 -.5\" size=\"2 2 .1\" material=\"grid\" solimp=\".99 .99 .01\" solref=\".001 1\"/>\n",
    "    <body name=\"box_and_sphere\" pos=\"0 0 0\">\n",
    "      <freejoint/>\n",
    "      <geom name=\"red_box\" type=\"box\" size=\".1 .1 .1\" rgba=\"1 0 0 1\" solimp=\".99 .99 .01\"  solref=\".001 1\"/>\n",
    "      <geom name=\"green_sphere\" size=\".06\" pos=\".1 .1 .1\" rgba=\"0 1 0 1\"/>\n",
    "      <camera name=\"fixed\" pos=\"0 -.6 .3\" xyaxes=\"1 0 0 0 1 2\"/>\n",
    "      <camera name=\"track\" pos=\"0 -.6 .3\" xyaxes=\"1 0 0 0 1 2\" mode=\"track\"/>\n",
    "    </body>\n",
    "  </worldbody>\n",
    "</mujoco>\n",
    "\"\"\"\n",
    "model = mujoco.MjModel.from_xml_string(free_body_MJCF)\n",
    "renderer = mujoco.Renderer(model, 400, 600)\n",
    "data = mujoco.MjData(model)\n",
    "mujoco.mj_forward(model, data)\n",
    "renderer.update_scene(data, \"fixed\")\n",
    "media.show_image(renderer.render())"
   ]
  },
  {
   "cell_type": "markdown",
   "metadata": {
    "id": "Z2amdQCn8REu"
   },
   "source": [
    "Let render this body rolling on the floor, in slow-motion, while visualizing contact points and forces:"
   ]
  },
  {
   "cell_type": "code",
   "execution_count": null,
   "metadata": {
    "id": "HlRhFs_d3WLP"
   },
   "outputs": [],
   "source": [
    "n_frames = 200\n",
    "height = 240\n",
    "width = 320\n",
    "frames = []\n",
    "renderer = mujoco.Renderer(model, height, width)\n",
    "\n",
    "# visualize contact frames and forces, make body transparent\n",
    "options = mujoco.MjvOption()\n",
    "mujoco.mjv_defaultOption(options)\n",
    "options.flags[mujoco.mjtVisFlag.mjVIS_CONTACTPOINT] = True\n",
    "options.flags[mujoco.mjtVisFlag.mjVIS_CONTACTFORCE] = True\n",
    "options.flags[mujoco.mjtVisFlag.mjVIS_TRANSPARENT] = True\n",
    "\n",
    "# tweak scales of contact visualization elements\n",
    "model.vis.scale.contactwidth = 0.1\n",
    "model.vis.scale.contactheight = 0.03\n",
    "model.vis.scale.forcewidth = 0.05\n",
    "model.vis.map.force = 0.3\n",
    "\n",
    "# random initial rotational velocity:\n",
    "mujoco.mj_resetData(model, data)\n",
    "data.qvel[3:6] = 5*np.random.randn(3)\n",
    "\n",
    "# simulate and render\n",
    "for i in range(n_frames):\n",
    "  while data.time < i/120.0: #1/4x real time\n",
    "    mujoco.mj_step(model, data)\n",
    "  renderer.update_scene(data, \"track\", options)\n",
    "  frame = renderer.render()\n",
    "  frames.append(frame.copy())\n",
    "\n",
    "# show video\n",
    "media.show_video(frames, fps=30)"
   ]
  },
  {
   "cell_type": "markdown",
   "metadata": {
    "id": "_181TbtVSMBl"
   },
   "source": [
    "## Analysis of contact forces\n",
    "\n",
    "Let's rerun the above simulation (with a different random initial condition) and\n",
    "plot some values related to the contacts"
   ]
  },
  {
   "cell_type": "code",
   "execution_count": null,
   "metadata": {
    "id": "BMqyWeHki8Eg"
   },
   "outputs": [],
   "source": [
    "n_steps = 499\n",
    "\n",
    "# allocate\n",
    "sim_time = np.zeros(n_steps)\n",
    "ncon = np.zeros(n_steps)\n",
    "force = np.zeros((n_steps,3))\n",
    "velocity = np.zeros((n_steps, model.nv))\n",
    "penetration = np.zeros(n_steps)\n",
    "acceleration = np.zeros((n_steps, model.nv))\n",
    "forcetorque = np.zeros(6)\n",
    "\n",
    "# random initial rotational velocity:\n",
    "mujoco.mj_resetData(model, data)\n",
    "data.qvel[3:6] = 2*np.random.randn(3)\n",
    "\n",
    "# simulate and save data\n",
    "for i in range(n_steps):\n",
    "  mujoco.mj_step(model, data)\n",
    "  sim_time[i] = data.time\n",
    "  ncon[i] = data.ncon\n",
    "  velocity[i] = data.qvel[:]\n",
    "  acceleration[i] = data.qacc[:]\n",
    "  # iterate over active contacts, save force and distance\n",
    "  for j,c in enumerate(data.contact):\n",
    "    mujoco.mj_contactForce(model, data, j, forcetorque)\n",
    "    force[i] += forcetorque[0:3]\n",
    "    penetration[i] = min(penetration[i], c.dist)\n",
    "  # we could also do\n",
    "  # force[i] += data.qfrc_constraint[0:3]\n",
    "  # do you see why?\n",
    "\n",
    "# plot\n",
    "_, ax = plt.subplots(3, 2, sharex=True, figsize=(10, 10))\n",
    "\n",
    "lines = ax[0,0].plot(sim_time, force)\n",
    "ax[0,0].set_title('contact force')\n",
    "ax[0,0].set_ylabel('Newton')\n",
    "ax[0,0].legend(iter(lines), ('normal z', 'friction x', 'friction y'));\n",
    "\n",
    "ax[1,0].plot(sim_time, acceleration)\n",
    "ax[1,0].set_title('acceleration')\n",
    "ax[1,0].set_ylabel('(meter,radian)/s/s')\n",
    "\n",
    "ax[2,0].plot(sim_time, velocity)\n",
    "ax[2,0].set_title('velocity')\n",
    "ax[2,0].set_ylabel('(meter,radian)/s')\n",
    "ax[2,0].set_xlabel('second')\n",
    "\n",
    "ax[0,1].plot(sim_time, ncon)\n",
    "ax[0,1].set_title('number of contacts')\n",
    "ax[0,1].set_yticks(range(6))\n",
    "\n",
    "ax[1,1].plot(sim_time, force[:,0])\n",
    "ax[1,1].set_yscale('log')\n",
    "ax[1,1].set_title('normal (z) force - log scale')\n",
    "ax[1,1].set_ylabel('Newton')\n",
    "z_gravity = -model.opt.gravity[2]\n",
    "mg = model.body(\"box_and_sphere\").mass[0] * z_gravity\n",
    "mg_line = ax[1,1].plot(sim_time, np.ones(n_steps)*mg, label='m*g', linewidth=1)\n",
    "ax[1,1].legend()\n",
    "\n",
    "ax[2,1].plot(sim_time, 1000*penetration)\n",
    "ax[2,1].set_title('penetration depth')\n",
    "ax[2,1].set_ylabel('millimeter')\n",
    "ax[2,1].set_xlabel('second')\n",
    "\n",
    "plt.tight_layout()"
   ]
  },
  {
   "cell_type": "markdown",
   "metadata": {
    "id": "zV5PkYzFXu42"
   },
   "source": [
    "## Friction\n",
    "\n",
    "Let's see the effect of changing friction values"
   ]
  },
  {
   "cell_type": "code",
   "execution_count": null,
   "metadata": {
    "id": "2R_gKoYyXwda"
   },
   "outputs": [],
   "source": [
    "MJCF = \"\"\"\n",
    "<mujoco>\n",
    "  <asset>\n",
    "    <texture name=\"grid\" type=\"2d\" builtin=\"checker\" rgb1=\".1 .2 .3\"\n",
    "     rgb2=\".2 .3 .4\" width=\"300\" height=\"300\" mark=\"none\"/>\n",
    "    <material name=\"grid\" texture=\"grid\" texrepeat=\"6 6\"\n",
    "     texuniform=\"true\" reflectance=\".2\"/>\n",
    "     <material name=\"wall\" rgba='.5 .5 .5 1'/>\n",
    "  </asset>\n",
    "\n",
    "  <default>\n",
    "    <geom type=\"box\" size=\".05 .05 .05\" />\n",
    "    <joint type=\"free\"/>\n",
    "  </default>\n",
    "\n",
    "  <worldbody>\n",
    "    <light name=\"light\" pos=\"-.2 0 1\"/>\n",
    "    <geom name=\"ground\" type=\"plane\" size=\".5 .5 10\" material=\"grid\"\n",
    "     zaxis=\"-.3 0 1\" friction=\".1\"/> \n",
    "    <camera name=\"y\" pos=\"-.1 -.6 .3\" xyaxes=\"1 0 0 0 1 2\"/>\n",
    "    <body pos=\"0 0 .1\">\n",
    "      <joint/>\n",
    "      <geom/>\n",
    "    </body>\n",
    "    <body pos=\"0 .2 .1\">\n",
    "      <joint/>\n",
    "      <geom friction=\".33\"/>\n",
    "    </body>\n",
    "  </worldbody>\n",
    "\n",
    "</mujoco>\n",
    "\"\"\"\n",
    "n_frames = 60\n",
    "height = 300\n",
    "width = 300\n",
    "frames = []\n",
    "\n",
    "# load\n",
    "model = mujoco.MjModel.from_xml_string(MJCF)\n",
    "data = mujoco.MjData(model)\n",
    "renderer = mujoco.Renderer(model, height, width)\n",
    "\n",
    "# simulate and render\n",
    "mujoco.mj_resetData(model, data)\n",
    "for i in range(n_frames):\n",
    "  while data.time < i/30.0:\n",
    "    mujoco.mj_step(model, data)\n",
    "  renderer.update_scene(data, \"y\")\n",
    "  frame = renderer.render()\n",
    "  frames.append(frame.copy())\n",
    "media.show_video(frames, fps=30)"
   ]
  },
  {
   "cell_type": "markdown",
   "metadata": {
    "id": "ArmmaPqGP6W7"
   },
   "source": [
    "# Tendons, actuators and sensors"
   ]
  },
  {
   "cell_type": "code",
   "execution_count": null,
   "metadata": {
    "id": "VJz84c97c8Df"
   },
   "outputs": [],
   "source": [
    "MJCF = \"\"\"\n",
    "<mujoco>\n",
    "  <asset>\n",
    "    <texture name=\"grid\" type=\"2d\" builtin=\"checker\" rgb1=\".1 .2 .3\"\n",
    "     rgb2=\".2 .3 .4\" width=\"300\" height=\"300\" mark=\"none\"/>\n",
    "    <material name=\"grid\" texture=\"grid\" texrepeat=\"1 1\"\n",
    "     texuniform=\"true\" reflectance=\".2\"/>\n",
    "  </asset>\n",
    "\n",
    "  <worldbody>\n",
    "    <light name=\"light\" pos=\"0 0 1\"/>\n",
    "    <geom name=\"floor\" type=\"plane\" pos=\"0 0 -.5\" size=\"2 2 .1\" material=\"grid\"/>\n",
    "    <site name=\"anchor\" pos=\"0 0 .3\" size=\".01\"/>\n",
    "    <camera name=\"fixed\" pos=\"0 -1.3 .5\" xyaxes=\"1 0 0 0 1 2\"/>\n",
    "\n",
    "    <geom name=\"pole\" type=\"cylinder\" fromto=\".3 0 -.5 .3 0 -.1\" size=\".04\"/>\n",
    "    <body name=\"bat\" pos=\".3 0 -.1\">\n",
    "      <joint name=\"swing\" type=\"hinge\" damping=\"1\" axis=\"0 0 1\"/>\n",
    "      <geom name=\"bat\" type=\"capsule\" fromto=\"0 0 .04 0 -.3 .04\"\n",
    "       size=\".04\" rgba=\"0 0 1 1\"/>\n",
    "    </body>\n",
    "\n",
    "    <body name=\"box_and_sphere\" pos=\"0 0 0\">\n",
    "      <joint name=\"free\" type=\"free\"/>\n",
    "      <geom name=\"red_box\" type=\"box\" size=\".1 .1 .1\" rgba=\"1 0 0 1\"/>\n",
    "      <geom name=\"green_sphere\"  size=\".06\" pos=\".1 .1 .1\" rgba=\"0 1 0 1\"/>\n",
    "      <site name=\"hook\" pos=\"-.1 -.1 -.1\" size=\".01\"/>\n",
    "      <site name=\"IMU\"/>\n",
    "    </body>\n",
    "  </worldbody>\n",
    "\n",
    "  <tendon>\n",
    "    <spatial name=\"wire\" limited=\"true\" range=\"0 0.35\" width=\"0.003\">\n",
    "      <site site=\"anchor\"/>\n",
    "      <site site=\"hook\"/>\n",
    "    </spatial>\n",
    "  </tendon>\n",
    "\n",
    "  <actuator>\n",
    "    <motor name=\"my_motor\" joint=\"swing\" gear=\"1\"/>\n",
    "  </actuator>\n",
    "\n",
    "  <sensor>\n",
    "    <accelerometer name=\"accelerometer\" site=\"IMU\"/>\n",
    "  </sensor>\n",
    "</mujoco>\n",
    "\"\"\"\n",
    "model = mujoco.MjModel.from_xml_string(MJCF)\n",
    "renderer = mujoco.Renderer(model, 480, 480)\n",
    "data = mujoco.MjData(model)\n",
    "mujoco.mj_forward(model, data)\n",
    "renderer.update_scene(data, \"fixed\")\n",
    "media.show_image(renderer.render())\n"
   ]
  },
  {
   "cell_type": "markdown",
   "metadata": {
    "id": "u8z2vrOr_RVD"
   },
   "source": [
    "actuated bat and passive \"piñata\":"
   ]
  },
  {
   "cell_type": "code",
   "execution_count": null,
   "metadata": {
    "id": "z-zoBCuBv2Xi"
   },
   "outputs": [],
   "source": [
    "n_frames = 180\n",
    "height = 240\n",
    "width = 320\n",
    "frames = []\n",
    "fps = 60.0\n",
    "times = []\n",
    "sensordata = []\n",
    "\n",
    "renderer = mujoco.Renderer(model, height, width)\n",
    "\n",
    "# constant actuator signal\n",
    "mujoco.mj_resetData(model, data)\n",
    "data.ctrl = 20\n",
    "\n",
    "# simulate and render\n",
    "for i in range(n_frames):\n",
    "  while data.time < i/fps:\n",
    "    mujoco.mj_step(model, data)\n",
    "    times.append(data.time)\n",
    "    sensordata.append(data.sensor('accelerometer').data.copy())\n",
    "  renderer.update_scene(data, \"fixed\")\n",
    "  frame = renderer.render()\n",
    "  frames.append(frame.copy())\n",
    "\n",
    "media.show_video(frames, fps=fps)"
   ]
  },
  {
   "cell_type": "markdown",
   "metadata": {
    "id": "gwHMy_iRA7Jh"
   },
   "source": [
    "Let's plot the values measured by our accelometer sensor:"
   ]
  },
  {
   "cell_type": "code",
   "execution_count": null,
   "metadata": {
    "id": "uy4wSEMAAJgn"
   },
   "outputs": [],
   "source": [
    "ax = plt.gca()\n",
    "\n",
    "ax.plot(np.asarray(times), np.asarray(sensordata), label='timestep = {:2.2g}ms'.format(1000*dt))\n",
    "\n",
    "# finalize plot\n",
    "ax.set_title('Accelerometer values')\n",
    "ax.set_ylabel('meter/second^2')\n",
    "ax.set_xlabel('second')\n",
    "ax.legend(frameon=True, loc='lower right');\n",
    "plt.tight_layout()"
   ]
  },
  {
   "cell_type": "markdown",
   "metadata": {
    "id": "0YKSTtJ_BQ7x"
   },
   "source": [
    "Note how the moments when the body is hit by the bat are clearly visible in the accelerometer measurements."
   ]
  },
  {
   "cell_type": "markdown",
   "metadata": {
    "id": "1kOs1wTc7uCZ"
   },
   "source": [
    "# Advanced rendering\n",
    "\n",
    "Like joint visualization, additional rendering options are exposed as parameters to the `render` method.\n",
    "\n",
    "Let's bring back our first model:"
   ]
  },
  {
   "cell_type": "code",
   "execution_count": null,
   "metadata": {
    "id": "mTDgsk2xcgwH"
   },
   "outputs": [],
   "source": [
    "xml = \"\"\"\n",
    "<mujoco>\n",
    "  <worldbody>\n",
    "    <light name=\"top\" pos=\"0 0 1\"/>\n",
    "    <body name=\"box_and_sphere\" euler=\"0 0 -30\">\n",
    "      <joint name=\"swing\" type=\"hinge\" axis=\"1 -1 0\" pos=\"-.2 -.2 -.2\"/>\n",
    "      <geom name=\"red_box\" type=\"box\" size=\".2 .2 .2\" rgba=\"1 0 0 1\"/>\n",
    "      <geom name=\"green_sphere\" pos=\".2 .2 .2\" size=\".1\" rgba=\"0 1 0 1\"/>\n",
    "    </body>\n",
    "  </worldbody>\n",
    "</mujoco>\n",
    "\"\"\"\n",
    "model = mujoco.MjModel.from_xml_string(xml)\n",
    "renderer = mujoco.Renderer(model)\n",
    "data = mujoco.MjData(model)\n",
    "\n",
    "mujoco.mj_forward(model, data)\n",
    "renderer.update_scene(data)\n",
    "media.show_image(renderer.render())"
   ]
  },
  {
   "cell_type": "code",
   "execution_count": null,
   "metadata": {
    "id": "VePXamL_6XUc"
   },
   "outputs": [],
   "source": [
    "#@title Enable transparency and frame visualization\n",
    "\n",
    "scene_option.frame = mujoco.mjtFrame.mjFRAME_GEOM\n",
    "scene_option.flags[mujoco.mjtVisFlag.mjVIS_TRANSPARENT] = True\n",
    "renderer.update_scene(data, scene_option=scene_option)\n",
    "frame = renderer.render()\n",
    "media.show_image(frame)"
   ]
  },
  {
   "cell_type": "code",
   "execution_count": null,
   "metadata": {
    "id": "PVcpcvww9lZ8"
   },
   "outputs": [],
   "source": [
    "#@title Depth rendering\n",
    "\n",
    "# update renderer to render depth\n",
    "renderer.enable_depth_rendering()\n",
    "\n",
    "# reset the scene\n",
    "renderer.update_scene(data)\n",
    "\n",
    "# depth is a float array, in meters.\n",
    "depth = renderer.render()\n",
    "\n",
    "# Shift nearest values to the origin.\n",
    "depth -= depth.min()\n",
    "# Scale by 2 mean distances of near rays.\n",
    "depth /= 2*depth[depth <= 1].mean()\n",
    "# Scale to [0, 255]\n",
    "pixels = 255*np.clip(depth, 0, 1)\n",
    "\n",
    "media.show_image(pixels.astype(np.uint8))\n",
    "\n",
    "renderer.disable_depth_rendering()"
   ]
  },
  {
   "cell_type": "code",
   "execution_count": null,
   "metadata": {
    "id": "PNwiIrgpx7T8"
   },
   "outputs": [],
   "source": [
    "#@title Segmentation rendering\n",
    "\n",
    "# update renderer to render segmentation\n",
    "renderer.enable_segmentation_rendering()\n",
    "\n",
    "# reset the scene\n",
    "renderer.update_scene(data)\n",
    "\n",
    "seg = renderer.render()\n",
    "\n",
    "# Display the contents of the first channel, which contains object\n",
    "# IDs. The second channel, seg[:, :, 1], contains object types.\n",
    "geom_ids = seg[:, :, 0]\n",
    "# Infinity is mapped to -1\n",
    "geom_ids = geom_ids.astype(np.float64) + 1\n",
    "# Scale to [0, 1]\n",
    "geom_ids = geom_ids / geom_ids.max()\n",
    "pixels = 255*geom_ids\n",
    "media.show_image(pixels.astype(np.uint8))\n",
    "\n",
    "renderer.disable_segmentation_rendering()"
   ]
  },
  {
   "cell_type": "markdown",
   "metadata": {
    "id": "wo72mo0mGIXr"
   },
   "source": [
    "## The camera matrix\n",
    "\n",
    "For a description of the camera matrix see the article [Camera matrix](https://en.wikipedia.org/wiki/Camera_matrix) on Wikipedia."
   ]
  },
  {
   "cell_type": "code",
   "execution_count": null,
   "metadata": {
    "id": "sDYwClpxaxab"
   },
   "outputs": [],
   "source": [
    "def compute_camera_matrix(renderer, data):\n",
    "  \"\"\"Returns the 3x4 camera matrix.\"\"\"\n",
    "  # If the camera is a 'free' camera, we get its position and orientation\n",
    "  # from the scene data structure. It is a stereo camera, so we average over\n",
    "  # the left and right channels. Note: we call `self.update()` in order to\n",
    "  # ensure that the contents of `scene.camera` are correct.\n",
    "  renderer.update_scene(data)\n",
    "  pos = np.mean([camera.pos for camera in renderer.scene.camera], axis=0)\n",
    "  z = -np.mean([camera.forward for camera in renderer.scene.camera], axis=0)\n",
    "  y = np.mean([camera.up for camera in renderer.scene.camera], axis=0)\n",
    "  rot = np.vstack((np.cross(y, z), y, z))\n",
    "  fov = model.vis.global_.fovy\n",
    "\n",
    "  # Translation matrix (4x4).\n",
    "  translation = np.eye(4)\n",
    "  translation[0:3, 3] = -pos\n",
    "\n",
    "  # Rotation matrix (4x4).\n",
    "  rotation = np.eye(4)\n",
    "  rotation[0:3, 0:3] = rot\n",
    "\n",
    "  # Focal transformation matrix (3x4).\n",
    "  focal_scaling = (1./np.tan(np.deg2rad(fov)/2)) * renderer.height / 2.0\n",
    "  focal = np.diag([-focal_scaling, focal_scaling, 1.0, 0])[0:3, :]\n",
    "\n",
    "  # Image matrix (3x3).\n",
    "  image = np.eye(3)\n",
    "  image[0, 2] = (renderer.width - 1) / 2.0\n",
    "  image[1, 2] = (renderer.height - 1) / 2.0\n",
    "  return image @ focal @ rotation @ translation"
   ]
  },
  {
   "cell_type": "markdown",
   "metadata": {
    "id": "Bs89vS0wLoU0"
   },
   "source": [
    "Let's use the camera matrix to project from world to camera coordinates:"
   ]
  },
  {
   "cell_type": "code",
   "execution_count": null,
   "metadata": {
    "id": "My0N4_7PDJ_q"
   },
   "outputs": [],
   "source": [
    "# reset the scene\n",
    "renderer.update_scene(data)\n",
    "\n",
    "\n",
    "# Get the world coordinates of the box corners\n",
    "box_pos = data.geom_xpos[model.geom('red_box').id]\n",
    "box_mat = data.geom_xmat[model.geom('red_box').id].reshape(3, 3)\n",
    "box_size = model.geom_size[model.geom('red_box').id]\n",
    "offsets = np.array([-1, 1]) * box_size[:, None]\n",
    "xyz_local = np.stack(list(itertools.product(*offsets))).T\n",
    "xyz_global = box_pos[:, None] + box_mat @ xyz_local\n",
    "\n",
    "# Camera matrices multiply homogenous [x, y, z, 1] vectors.\n",
    "corners_homogeneous = np.ones((4, xyz_global.shape[1]), dtype=float)\n",
    "corners_homogeneous[:3, :] = xyz_global\n",
    "\n",
    "# Get the camera matrix.\n",
    "m = compute_camera_matrix(renderer, data)\n",
    "\n",
    "# Project world coordinates into pixel space. See:\n",
    "# https://en.wikipedia.org/wiki/3D_projection#Mathematical_formula\n",
    "xs, ys, s = m @ corners_homogeneous\n",
    "# x and y are in the pixel coordinate system.\n",
    "x = xs / s\n",
    "y = ys / s\n",
    "\n",
    "# Render the camera view and overlay the projected corner coordinates.\n",
    "pixels = renderer.render()\n",
    "fig, ax = plt.subplots(1, 1)\n",
    "ax.imshow(pixels)\n",
    "ax.plot(x, y, '+', c='w')\n",
    "ax.set_axis_off()"
   ]
  },
  {
   "cell_type": "markdown",
   "metadata": {
    "id": "AGm5-e0sHEAF"
   },
   "source": [
    "## Modifying the scene\n",
    "\n",
    "Let's add some arbitrary geometry to the `mjvScene`."
   ]
  },
  {
   "cell_type": "code",
   "execution_count": null,
   "metadata": {
    "id": "Z6NDYJ8IOVt7"
   },
   "outputs": [],
   "source": [
    "def get_geom_speed(model, data, geom_name):\n",
    "  \"\"\"Returns the speed of a geom.\"\"\"\n",
    "  geom_vel = np.zeros(6)\n",
    "  geom_type = mujoco.mjtObj.mjOBJ_GEOM\n",
    "  geom_id = data.geom(geom_name).id\n",
    "  mujoco.mj_objectVelocity(model, data, geom_type, geom_id, geom_vel, 0)\n",
    "  return np.linalg.norm(geom_vel)\n",
    "\n",
    "def add_visual_capsule(scene, point1, point2, radius, rgba):\n",
    "  \"\"\"Adds one capsule to an mjvScene.\"\"\"\n",
    "  if scene.ngeom >= scene.maxgeom:\n",
    "    return\n",
    "  scene.ngeom += 1  # increment ngeom\n",
    "  # initialise a new capsule, add it to the scene using mjv_makeConnector\n",
    "  mujoco.mjv_initGeom(scene.geoms[scene.ngeom-1],\n",
    "                      mujoco.mjtGeom.mjGEOM_CAPSULE, np.zeros(3),\n",
    "                      np.zeros(3), np.zeros(9), rgba.astype(np.float32))\n",
    "  mujoco.mjv_makeConnector(scene.geoms[scene.ngeom-1],\n",
    "                           mujoco.mjtGeom.mjGEOM_CAPSULE, radius,\n",
    "                           point1[0], point1[1], point1[2],\n",
    "                           point2[0], point2[1], point2[2])\n",
    "\n",
    " # traces of time, position and speed\n",
    "times = []\n",
    "positions = []\n",
    "speeds = []\n",
    "offset = model.jnt_axis[0]/8  # offset along the joint axis\n",
    "\n",
    "def modify_scene(scn):\n",
    "  \"\"\"Draw position trace, speed modifies width and colors.\"\"\"\n",
    "  if len(positions) > 1:\n",
    "    for i in range(len(positions)-1):\n",
    "      rgba=np.array((np.clip(speeds[i]/10, 0, 1),\n",
    "                     np.clip(1-speeds[i]/10, 0, 1),\n",
    "                     .5, 1.))\n",
    "      radius=.003*(1+speeds[i])\n",
    "      point1 = positions[i] + offset*times[i]\n",
    "      point2 = positions[i+1] + offset*times[i+1]\n",
    "      add_visual_capsule(scn, point1, point2, radius, rgba)\n",
    "\n",
    "duration = 6    # (seconds)\n",
    "framerate = 30  # (Hz)\n",
    "\n",
    "# Simulate and display video.\n",
    "frames = []\n",
    "\n",
    "# Reset state and time.\n",
    "mujoco.mj_resetData(model, data)\n",
    "mujoco.mj_forward(model, data)\n",
    "\n",
    "while data.time < duration:\n",
    "  # append data to the traces\n",
    "  positions.append(data.geom_xpos[data.geom(\"green_sphere\").id].copy())\n",
    "  times.append(data.time)\n",
    "  speeds.append(get_geom_speed(model, data, \"green_sphere\"))\n",
    "  mujoco.mj_step(model, data)\n",
    "  if len(frames) < data.time * framerate:\n",
    "    renderer.update_scene(data)\n",
    "    modify_scene(renderer.scene)\n",
    "    pixels = renderer.render().copy()\n",
    "    frames.append(pixels)\n",
    "media.show_video(frames, fps=framerate)"
   ]
  }
 ],
 "metadata": {
  "accelerator": "GPU",
  "colab": {
   "collapsed_sections": [
    "-re3Szx-1Ias"
   ],
   "private_outputs": true,
   "provenance": [],
   "toc_visible": true
  },
  "gpuClass": "premium",
  "kernelspec": {
   "display_name": "Python 3 (ipykernel)",
   "language": "python",
   "name": "python3"
  },
  "language_info": {
   "codemirror_mode": {
    "name": "ipython",
    "version": 3
   },
   "file_extension": ".py",
   "mimetype": "text/x-python",
   "name": "python",
   "nbconvert_exporter": "python",
   "pygments_lexer": "ipython3",
   "version": "3.10.8"
  }
 },
 "nbformat": 4,
 "nbformat_minor": 4
}
