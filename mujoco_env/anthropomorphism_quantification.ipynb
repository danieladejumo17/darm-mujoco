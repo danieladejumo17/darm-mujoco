{
 "cells": [
  {
   "cell_type": "markdown",
   "id": "6c703919-1ac6-49ed-a42f-8438e523220f",
   "metadata": {},
   "source": [
    "## Quantifying Anthropomorphism"
   ]
  },
  {
   "cell_type": "markdown",
   "id": "d80d4b28-c953-471f-b89b-700f974ed807",
   "metadata": {},
   "source": [
    "### Measure Hand Breadth and Hand Length"
   ]
  },
  {
   "cell_type": "code",
   "execution_count": 1,
   "id": "520c2e72-c04c-46a4-96a9-52f52e9e9ce2",
   "metadata": {},
   "outputs": [],
   "source": [
    "import mujoco as mj"
   ]
  },
  {
   "cell_type": "code",
   "execution_count": null,
   "id": "51d143fc-5c5c-4875-890d-f6fe09340bf0",
   "metadata": {},
   "outputs": [],
   "source": [
    "model = mj.from_xm"
   ]
  }
 ],
 "metadata": {
  "kernelspec": {
   "display_name": "Python 3",
   "language": "python",
   "name": "python3"
  },
  "language_info": {
   "codemirror_mode": {
    "name": "ipython",
    "version": 3
   },
   "file_extension": ".py",
   "mimetype": "text/x-python",
   "name": "python",
   "nbconvert_exporter": "python",
   "pygments_lexer": "ipython3",
   "version": "3.8.12"
  }
 },
 "nbformat": 4,
 "nbformat_minor": 5
}
